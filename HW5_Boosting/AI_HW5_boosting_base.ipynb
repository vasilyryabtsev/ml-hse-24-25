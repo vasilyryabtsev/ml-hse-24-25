{
  "cells": [
    {
      "cell_type": "markdown",
      "metadata": {
        "id": "view-in-github",
        "colab_type": "text"
      },
      "source": [
        "<a href=\"https://colab.research.google.com/github/vasilyryabtsev/ml-hse-24-25/blob/main/HW5_Boosting/AI_HW5_boosting_base.ipynb\" target=\"_parent\"><img src=\"https://colab.research.google.com/assets/colab-badge.svg\" alt=\"Open In Colab\"/></a>"
      ]
    },
    {
      "cell_type": "markdown",
      "id": "047674ee",
      "metadata": {
        "id": "047674ee"
      },
      "source": [
        "# **Домашняя работа: прогнозирование заработной платы и кластеризация типов движений**"
      ]
    },
    {
      "cell_type": "markdown",
      "id": "d8461109",
      "metadata": {
        "id": "d8461109"
      },
      "source": [
        "### **Постановка задачи:**\n",
        "\n",
        "В этой работе две части:\n",
        "\n",
        "*   В первой части вам предстоит построить алгоритм на основе бустинга для прогнозирования зарплаты\n",
        "*   Во второй части вам предстоит кластеризовать типы движений по имеющимся данным с акселерометров и гироскопов\n",
        "\n",
        "### **Оценивание:**\n",
        "\n",
        "- Как всегда оцениваются как код, так и ответы на вопросы. Если нет одного и/или другого, то часть баллов за соответствующее задание без колебаний снимается.\n",
        "- Брать код из открытых источников позволительно. Следование культуре цитирования **обязательно.**\n",
        "\n",
        "### **Баллы:**\n",
        "\n",
        "Суммарно за задание можно получить 10 основных и 1 бонусный балл.\n",
        "\n",
        "Оценка за ДЗ = min{ваш балл, 10}\n",
        "\n",
        "**Мягкий дедлайн: 16 февраля 23:59**\n",
        "\n",
        "**Интересной вам работы!**\n"
      ]
    },
    {
      "cell_type": "markdown",
      "id": "60JI9WQfyu5e",
      "metadata": {
        "id": "60JI9WQfyu5e"
      },
      "source": [
        "# **Часть 1. Прогнозирование заработной платы при помощи бустинга**\n",
        "\n",
        "**Количество баллов:** 7"
      ]
    },
    {
      "cell_type": "markdown",
      "id": "1651e8dd",
      "metadata": {
        "id": "1651e8dd"
      },
      "source": [
        "## **Постановка задачи:**\n",
        "\n",
        "Данные выгружены и лежат в файле `ds_salary.csv`. Вам доступны описания признаков и значения целевой переменной.\n",
        "\n",
        "**Ваша задача:** построение модели бустинга и оценка данной модели.\n",
        "\n",
        "## **Описание даных**\n",
        "\n",
        "- work_year: год, в который взяты данные;\n",
        "- experience_level: уровень опыта, кодируемый как SE, MI EN или EX\n",
        "- employment_type: тип занятости (FT, PT, CT, FL)\n",
        "- job_title: название рабочей позиции в компании;\n",
        "- salary: зараплата на позиции;\n",
        "- salary_currency: валюта в которой начисляют зарплату;\n",
        "- employee_residence: страна или регион проживания сотрудника\n",
        "- remote_ratio: процент удаленки, предлагаемый в компании (0, 50, 100)\n",
        "- company_location: местоположение компании\n",
        "- company_size: размер компании, оцененный как S, M, L\n",
        "- salary_in_usd: целевая переменная\n"
      ]
    },
    {
      "cell_type": "markdown",
      "id": "NualIozb1bhS",
      "metadata": {
        "id": "NualIozb1bhS"
      },
      "source": [
        "Как всегда, загрузим набор данных."
      ]
    },
    {
      "cell_type": "code",
      "execution_count": 72,
      "id": "dbf7595c",
      "metadata": {
        "id": "dbf7595c"
      },
      "outputs": [],
      "source": [
        "import pandas as pd\n",
        "import seaborn as sns\n",
        "import matplotlib.pyplot as plt\n",
        "from sklearn.model_selection import train_test_split, cross_val_score\n",
        "from sklearn.linear_model import LinearRegression\n",
        "from sklearn.metrics import mean_absolute_percentage_error as MAPE, root_mean_squared_error as RMSE\n",
        "from sklearn.preprocessing import OneHotEncoder, LabelEncoder, TargetEncoder, FunctionTransformer\n",
        "from sklearn.compose import ColumnTransformer\n",
        "from sklearn.pipeline import Pipeline\n",
        "from catboost import CatBoostRegressor\n",
        "from lightgbm import LGBMRegressor\n",
        "from xgboost import XGBRegressor\n",
        "import optuna\n",
        "from optuna.integration import CatBoostPruningCallback\n",
        "import warnings\n",
        "\n",
        "warnings.filterwarnings('ignore')"
      ]
    },
    {
      "cell_type": "code",
      "execution_count": 4,
      "id": "792d14c9",
      "metadata": {
        "id": "792d14c9"
      },
      "outputs": [],
      "source": [
        "df = pd.read_csv(\"https://github.com/hse-ds/iad-intro-ds/raw/refs/heads/master/2023/homeworks/hw-08-boosting/ds_salaries.csv\")"
      ]
    },
    {
      "cell_type": "code",
      "execution_count": 5,
      "id": "e6e7320b",
      "metadata": {
        "id": "e6e7320b",
        "outputId": "416b16ed-b75c-416e-c4c0-1aedb0c6785c",
        "colab": {
          "base_uri": "https://localhost:8080/",
          "height": 424
        }
      },
      "outputs": [
        {
          "output_type": "execute_result",
          "data": {
            "text/plain": [
              "      work_year experience_level employment_type                 job_title  \\\n",
              "0          2023               SE              FT  Principal Data Scientist   \n",
              "1          2023               MI              CT               ML Engineer   \n",
              "2          2023               MI              CT               ML Engineer   \n",
              "3          2023               SE              FT            Data Scientist   \n",
              "4          2023               SE              FT            Data Scientist   \n",
              "...         ...              ...             ...                       ...   \n",
              "3750       2020               SE              FT            Data Scientist   \n",
              "3751       2021               MI              FT  Principal Data Scientist   \n",
              "3752       2020               EN              FT            Data Scientist   \n",
              "3753       2020               EN              CT     Business Data Analyst   \n",
              "3754       2021               SE              FT      Data Science Manager   \n",
              "\n",
              "       salary salary_currency  salary_in_usd employee_residence  remote_ratio  \\\n",
              "0       80000             EUR          85847                 ES           100   \n",
              "1       30000             USD          30000                 US           100   \n",
              "2       25500             USD          25500                 US           100   \n",
              "3      175000             USD         175000                 CA           100   \n",
              "4      120000             USD         120000                 CA           100   \n",
              "...       ...             ...            ...                ...           ...   \n",
              "3750   412000             USD         412000                 US           100   \n",
              "3751   151000             USD         151000                 US           100   \n",
              "3752   105000             USD         105000                 US           100   \n",
              "3753   100000             USD         100000                 US           100   \n",
              "3754  7000000             INR          94665                 IN            50   \n",
              "\n",
              "     company_location company_size  \n",
              "0                  ES            L  \n",
              "1                  US            S  \n",
              "2                  US            S  \n",
              "3                  CA            M  \n",
              "4                  CA            M  \n",
              "...               ...          ...  \n",
              "3750               US            L  \n",
              "3751               US            L  \n",
              "3752               US            S  \n",
              "3753               US            L  \n",
              "3754               IN            L  \n",
              "\n",
              "[3755 rows x 11 columns]"
            ],
            "text/html": [
              "\n",
              "  <div id=\"df-e07299e3-5c47-4f49-bc48-3f3beb061a1f\" class=\"colab-df-container\">\n",
              "    <div>\n",
              "<style scoped>\n",
              "    .dataframe tbody tr th:only-of-type {\n",
              "        vertical-align: middle;\n",
              "    }\n",
              "\n",
              "    .dataframe tbody tr th {\n",
              "        vertical-align: top;\n",
              "    }\n",
              "\n",
              "    .dataframe thead th {\n",
              "        text-align: right;\n",
              "    }\n",
              "</style>\n",
              "<table border=\"1\" class=\"dataframe\">\n",
              "  <thead>\n",
              "    <tr style=\"text-align: right;\">\n",
              "      <th></th>\n",
              "      <th>work_year</th>\n",
              "      <th>experience_level</th>\n",
              "      <th>employment_type</th>\n",
              "      <th>job_title</th>\n",
              "      <th>salary</th>\n",
              "      <th>salary_currency</th>\n",
              "      <th>salary_in_usd</th>\n",
              "      <th>employee_residence</th>\n",
              "      <th>remote_ratio</th>\n",
              "      <th>company_location</th>\n",
              "      <th>company_size</th>\n",
              "    </tr>\n",
              "  </thead>\n",
              "  <tbody>\n",
              "    <tr>\n",
              "      <th>0</th>\n",
              "      <td>2023</td>\n",
              "      <td>SE</td>\n",
              "      <td>FT</td>\n",
              "      <td>Principal Data Scientist</td>\n",
              "      <td>80000</td>\n",
              "      <td>EUR</td>\n",
              "      <td>85847</td>\n",
              "      <td>ES</td>\n",
              "      <td>100</td>\n",
              "      <td>ES</td>\n",
              "      <td>L</td>\n",
              "    </tr>\n",
              "    <tr>\n",
              "      <th>1</th>\n",
              "      <td>2023</td>\n",
              "      <td>MI</td>\n",
              "      <td>CT</td>\n",
              "      <td>ML Engineer</td>\n",
              "      <td>30000</td>\n",
              "      <td>USD</td>\n",
              "      <td>30000</td>\n",
              "      <td>US</td>\n",
              "      <td>100</td>\n",
              "      <td>US</td>\n",
              "      <td>S</td>\n",
              "    </tr>\n",
              "    <tr>\n",
              "      <th>2</th>\n",
              "      <td>2023</td>\n",
              "      <td>MI</td>\n",
              "      <td>CT</td>\n",
              "      <td>ML Engineer</td>\n",
              "      <td>25500</td>\n",
              "      <td>USD</td>\n",
              "      <td>25500</td>\n",
              "      <td>US</td>\n",
              "      <td>100</td>\n",
              "      <td>US</td>\n",
              "      <td>S</td>\n",
              "    </tr>\n",
              "    <tr>\n",
              "      <th>3</th>\n",
              "      <td>2023</td>\n",
              "      <td>SE</td>\n",
              "      <td>FT</td>\n",
              "      <td>Data Scientist</td>\n",
              "      <td>175000</td>\n",
              "      <td>USD</td>\n",
              "      <td>175000</td>\n",
              "      <td>CA</td>\n",
              "      <td>100</td>\n",
              "      <td>CA</td>\n",
              "      <td>M</td>\n",
              "    </tr>\n",
              "    <tr>\n",
              "      <th>4</th>\n",
              "      <td>2023</td>\n",
              "      <td>SE</td>\n",
              "      <td>FT</td>\n",
              "      <td>Data Scientist</td>\n",
              "      <td>120000</td>\n",
              "      <td>USD</td>\n",
              "      <td>120000</td>\n",
              "      <td>CA</td>\n",
              "      <td>100</td>\n",
              "      <td>CA</td>\n",
              "      <td>M</td>\n",
              "    </tr>\n",
              "    <tr>\n",
              "      <th>...</th>\n",
              "      <td>...</td>\n",
              "      <td>...</td>\n",
              "      <td>...</td>\n",
              "      <td>...</td>\n",
              "      <td>...</td>\n",
              "      <td>...</td>\n",
              "      <td>...</td>\n",
              "      <td>...</td>\n",
              "      <td>...</td>\n",
              "      <td>...</td>\n",
              "      <td>...</td>\n",
              "    </tr>\n",
              "    <tr>\n",
              "      <th>3750</th>\n",
              "      <td>2020</td>\n",
              "      <td>SE</td>\n",
              "      <td>FT</td>\n",
              "      <td>Data Scientist</td>\n",
              "      <td>412000</td>\n",
              "      <td>USD</td>\n",
              "      <td>412000</td>\n",
              "      <td>US</td>\n",
              "      <td>100</td>\n",
              "      <td>US</td>\n",
              "      <td>L</td>\n",
              "    </tr>\n",
              "    <tr>\n",
              "      <th>3751</th>\n",
              "      <td>2021</td>\n",
              "      <td>MI</td>\n",
              "      <td>FT</td>\n",
              "      <td>Principal Data Scientist</td>\n",
              "      <td>151000</td>\n",
              "      <td>USD</td>\n",
              "      <td>151000</td>\n",
              "      <td>US</td>\n",
              "      <td>100</td>\n",
              "      <td>US</td>\n",
              "      <td>L</td>\n",
              "    </tr>\n",
              "    <tr>\n",
              "      <th>3752</th>\n",
              "      <td>2020</td>\n",
              "      <td>EN</td>\n",
              "      <td>FT</td>\n",
              "      <td>Data Scientist</td>\n",
              "      <td>105000</td>\n",
              "      <td>USD</td>\n",
              "      <td>105000</td>\n",
              "      <td>US</td>\n",
              "      <td>100</td>\n",
              "      <td>US</td>\n",
              "      <td>S</td>\n",
              "    </tr>\n",
              "    <tr>\n",
              "      <th>3753</th>\n",
              "      <td>2020</td>\n",
              "      <td>EN</td>\n",
              "      <td>CT</td>\n",
              "      <td>Business Data Analyst</td>\n",
              "      <td>100000</td>\n",
              "      <td>USD</td>\n",
              "      <td>100000</td>\n",
              "      <td>US</td>\n",
              "      <td>100</td>\n",
              "      <td>US</td>\n",
              "      <td>L</td>\n",
              "    </tr>\n",
              "    <tr>\n",
              "      <th>3754</th>\n",
              "      <td>2021</td>\n",
              "      <td>SE</td>\n",
              "      <td>FT</td>\n",
              "      <td>Data Science Manager</td>\n",
              "      <td>7000000</td>\n",
              "      <td>INR</td>\n",
              "      <td>94665</td>\n",
              "      <td>IN</td>\n",
              "      <td>50</td>\n",
              "      <td>IN</td>\n",
              "      <td>L</td>\n",
              "    </tr>\n",
              "  </tbody>\n",
              "</table>\n",
              "<p>3755 rows × 11 columns</p>\n",
              "</div>\n",
              "    <div class=\"colab-df-buttons\">\n",
              "\n",
              "  <div class=\"colab-df-container\">\n",
              "    <button class=\"colab-df-convert\" onclick=\"convertToInteractive('df-e07299e3-5c47-4f49-bc48-3f3beb061a1f')\"\n",
              "            title=\"Convert this dataframe to an interactive table.\"\n",
              "            style=\"display:none;\">\n",
              "\n",
              "  <svg xmlns=\"http://www.w3.org/2000/svg\" height=\"24px\" viewBox=\"0 -960 960 960\">\n",
              "    <path d=\"M120-120v-720h720v720H120Zm60-500h600v-160H180v160Zm220 220h160v-160H400v160Zm0 220h160v-160H400v160ZM180-400h160v-160H180v160Zm440 0h160v-160H620v160ZM180-180h160v-160H180v160Zm440 0h160v-160H620v160Z\"/>\n",
              "  </svg>\n",
              "    </button>\n",
              "\n",
              "  <style>\n",
              "    .colab-df-container {\n",
              "      display:flex;\n",
              "      gap: 12px;\n",
              "    }\n",
              "\n",
              "    .colab-df-convert {\n",
              "      background-color: #E8F0FE;\n",
              "      border: none;\n",
              "      border-radius: 50%;\n",
              "      cursor: pointer;\n",
              "      display: none;\n",
              "      fill: #1967D2;\n",
              "      height: 32px;\n",
              "      padding: 0 0 0 0;\n",
              "      width: 32px;\n",
              "    }\n",
              "\n",
              "    .colab-df-convert:hover {\n",
              "      background-color: #E2EBFA;\n",
              "      box-shadow: 0px 1px 2px rgba(60, 64, 67, 0.3), 0px 1px 3px 1px rgba(60, 64, 67, 0.15);\n",
              "      fill: #174EA6;\n",
              "    }\n",
              "\n",
              "    .colab-df-buttons div {\n",
              "      margin-bottom: 4px;\n",
              "    }\n",
              "\n",
              "    [theme=dark] .colab-df-convert {\n",
              "      background-color: #3B4455;\n",
              "      fill: #D2E3FC;\n",
              "    }\n",
              "\n",
              "    [theme=dark] .colab-df-convert:hover {\n",
              "      background-color: #434B5C;\n",
              "      box-shadow: 0px 1px 3px 1px rgba(0, 0, 0, 0.15);\n",
              "      filter: drop-shadow(0px 1px 2px rgba(0, 0, 0, 0.3));\n",
              "      fill: #FFFFFF;\n",
              "    }\n",
              "  </style>\n",
              "\n",
              "    <script>\n",
              "      const buttonEl =\n",
              "        document.querySelector('#df-e07299e3-5c47-4f49-bc48-3f3beb061a1f button.colab-df-convert');\n",
              "      buttonEl.style.display =\n",
              "        google.colab.kernel.accessAllowed ? 'block' : 'none';\n",
              "\n",
              "      async function convertToInteractive(key) {\n",
              "        const element = document.querySelector('#df-e07299e3-5c47-4f49-bc48-3f3beb061a1f');\n",
              "        const dataTable =\n",
              "          await google.colab.kernel.invokeFunction('convertToInteractive',\n",
              "                                                    [key], {});\n",
              "        if (!dataTable) return;\n",
              "\n",
              "        const docLinkHtml = 'Like what you see? Visit the ' +\n",
              "          '<a target=\"_blank\" href=https://colab.research.google.com/notebooks/data_table.ipynb>data table notebook</a>'\n",
              "          + ' to learn more about interactive tables.';\n",
              "        element.innerHTML = '';\n",
              "        dataTable['output_type'] = 'display_data';\n",
              "        await google.colab.output.renderOutput(dataTable, element);\n",
              "        const docLink = document.createElement('div');\n",
              "        docLink.innerHTML = docLinkHtml;\n",
              "        element.appendChild(docLink);\n",
              "      }\n",
              "    </script>\n",
              "  </div>\n",
              "\n",
              "\n",
              "<div id=\"df-921858f3-6cbe-46de-913b-d33ed9e99161\">\n",
              "  <button class=\"colab-df-quickchart\" onclick=\"quickchart('df-921858f3-6cbe-46de-913b-d33ed9e99161')\"\n",
              "            title=\"Suggest charts\"\n",
              "            style=\"display:none;\">\n",
              "\n",
              "<svg xmlns=\"http://www.w3.org/2000/svg\" height=\"24px\"viewBox=\"0 0 24 24\"\n",
              "     width=\"24px\">\n",
              "    <g>\n",
              "        <path d=\"M19 3H5c-1.1 0-2 .9-2 2v14c0 1.1.9 2 2 2h14c1.1 0 2-.9 2-2V5c0-1.1-.9-2-2-2zM9 17H7v-7h2v7zm4 0h-2V7h2v10zm4 0h-2v-4h2v4z\"/>\n",
              "    </g>\n",
              "</svg>\n",
              "  </button>\n",
              "\n",
              "<style>\n",
              "  .colab-df-quickchart {\n",
              "      --bg-color: #E8F0FE;\n",
              "      --fill-color: #1967D2;\n",
              "      --hover-bg-color: #E2EBFA;\n",
              "      --hover-fill-color: #174EA6;\n",
              "      --disabled-fill-color: #AAA;\n",
              "      --disabled-bg-color: #DDD;\n",
              "  }\n",
              "\n",
              "  [theme=dark] .colab-df-quickchart {\n",
              "      --bg-color: #3B4455;\n",
              "      --fill-color: #D2E3FC;\n",
              "      --hover-bg-color: #434B5C;\n",
              "      --hover-fill-color: #FFFFFF;\n",
              "      --disabled-bg-color: #3B4455;\n",
              "      --disabled-fill-color: #666;\n",
              "  }\n",
              "\n",
              "  .colab-df-quickchart {\n",
              "    background-color: var(--bg-color);\n",
              "    border: none;\n",
              "    border-radius: 50%;\n",
              "    cursor: pointer;\n",
              "    display: none;\n",
              "    fill: var(--fill-color);\n",
              "    height: 32px;\n",
              "    padding: 0;\n",
              "    width: 32px;\n",
              "  }\n",
              "\n",
              "  .colab-df-quickchart:hover {\n",
              "    background-color: var(--hover-bg-color);\n",
              "    box-shadow: 0 1px 2px rgba(60, 64, 67, 0.3), 0 1px 3px 1px rgba(60, 64, 67, 0.15);\n",
              "    fill: var(--button-hover-fill-color);\n",
              "  }\n",
              "\n",
              "  .colab-df-quickchart-complete:disabled,\n",
              "  .colab-df-quickchart-complete:disabled:hover {\n",
              "    background-color: var(--disabled-bg-color);\n",
              "    fill: var(--disabled-fill-color);\n",
              "    box-shadow: none;\n",
              "  }\n",
              "\n",
              "  .colab-df-spinner {\n",
              "    border: 2px solid var(--fill-color);\n",
              "    border-color: transparent;\n",
              "    border-bottom-color: var(--fill-color);\n",
              "    animation:\n",
              "      spin 1s steps(1) infinite;\n",
              "  }\n",
              "\n",
              "  @keyframes spin {\n",
              "    0% {\n",
              "      border-color: transparent;\n",
              "      border-bottom-color: var(--fill-color);\n",
              "      border-left-color: var(--fill-color);\n",
              "    }\n",
              "    20% {\n",
              "      border-color: transparent;\n",
              "      border-left-color: var(--fill-color);\n",
              "      border-top-color: var(--fill-color);\n",
              "    }\n",
              "    30% {\n",
              "      border-color: transparent;\n",
              "      border-left-color: var(--fill-color);\n",
              "      border-top-color: var(--fill-color);\n",
              "      border-right-color: var(--fill-color);\n",
              "    }\n",
              "    40% {\n",
              "      border-color: transparent;\n",
              "      border-right-color: var(--fill-color);\n",
              "      border-top-color: var(--fill-color);\n",
              "    }\n",
              "    60% {\n",
              "      border-color: transparent;\n",
              "      border-right-color: var(--fill-color);\n",
              "    }\n",
              "    80% {\n",
              "      border-color: transparent;\n",
              "      border-right-color: var(--fill-color);\n",
              "      border-bottom-color: var(--fill-color);\n",
              "    }\n",
              "    90% {\n",
              "      border-color: transparent;\n",
              "      border-bottom-color: var(--fill-color);\n",
              "    }\n",
              "  }\n",
              "</style>\n",
              "\n",
              "  <script>\n",
              "    async function quickchart(key) {\n",
              "      const quickchartButtonEl =\n",
              "        document.querySelector('#' + key + ' button');\n",
              "      quickchartButtonEl.disabled = true;  // To prevent multiple clicks.\n",
              "      quickchartButtonEl.classList.add('colab-df-spinner');\n",
              "      try {\n",
              "        const charts = await google.colab.kernel.invokeFunction(\n",
              "            'suggestCharts', [key], {});\n",
              "      } catch (error) {\n",
              "        console.error('Error during call to suggestCharts:', error);\n",
              "      }\n",
              "      quickchartButtonEl.classList.remove('colab-df-spinner');\n",
              "      quickchartButtonEl.classList.add('colab-df-quickchart-complete');\n",
              "    }\n",
              "    (() => {\n",
              "      let quickchartButtonEl =\n",
              "        document.querySelector('#df-921858f3-6cbe-46de-913b-d33ed9e99161 button');\n",
              "      quickchartButtonEl.style.display =\n",
              "        google.colab.kernel.accessAllowed ? 'block' : 'none';\n",
              "    })();\n",
              "  </script>\n",
              "</div>\n",
              "    </div>\n",
              "  </div>\n"
            ],
            "application/vnd.google.colaboratory.intrinsic+json": {
              "type": "dataframe",
              "variable_name": "df",
              "summary": "{\n  \"name\": \"df\",\n  \"rows\": 3755,\n  \"fields\": [\n    {\n      \"column\": \"work_year\",\n      \"properties\": {\n        \"dtype\": \"number\",\n        \"std\": 0,\n        \"min\": 2020,\n        \"max\": 2023,\n        \"num_unique_values\": 4,\n        \"samples\": [\n          2022,\n          2021,\n          2023\n        ],\n        \"semantic_type\": \"\",\n        \"description\": \"\"\n      }\n    },\n    {\n      \"column\": \"experience_level\",\n      \"properties\": {\n        \"dtype\": \"category\",\n        \"num_unique_values\": 4,\n        \"samples\": [\n          \"MI\",\n          \"EX\",\n          \"SE\"\n        ],\n        \"semantic_type\": \"\",\n        \"description\": \"\"\n      }\n    },\n    {\n      \"column\": \"employment_type\",\n      \"properties\": {\n        \"dtype\": \"category\",\n        \"num_unique_values\": 4,\n        \"samples\": [\n          \"CT\",\n          \"PT\",\n          \"FT\"\n        ],\n        \"semantic_type\": \"\",\n        \"description\": \"\"\n      }\n    },\n    {\n      \"column\": \"job_title\",\n      \"properties\": {\n        \"dtype\": \"category\",\n        \"num_unique_values\": 93,\n        \"samples\": [\n          \"Cloud Database Engineer\",\n          \"Staff Data Analyst\",\n          \"Insight Analyst\"\n        ],\n        \"semantic_type\": \"\",\n        \"description\": \"\"\n      }\n    },\n    {\n      \"column\": \"salary\",\n      \"properties\": {\n        \"dtype\": \"number\",\n        \"std\": 671676,\n        \"min\": 6000,\n        \"max\": 30400000,\n        \"num_unique_values\": 815,\n        \"samples\": [\n          84570,\n          138000,\n          370000\n        ],\n        \"semantic_type\": \"\",\n        \"description\": \"\"\n      }\n    },\n    {\n      \"column\": \"salary_currency\",\n      \"properties\": {\n        \"dtype\": \"category\",\n        \"num_unique_values\": 20,\n        \"samples\": [\n          \"EUR\",\n          \"MXN\",\n          \"DKK\"\n        ],\n        \"semantic_type\": \"\",\n        \"description\": \"\"\n      }\n    },\n    {\n      \"column\": \"salary_in_usd\",\n      \"properties\": {\n        \"dtype\": \"number\",\n        \"std\": 63055,\n        \"min\": 5132,\n        \"max\": 450000,\n        \"num_unique_values\": 1035,\n        \"samples\": [\n          205600,\n          375000,\n          140700\n        ],\n        \"semantic_type\": \"\",\n        \"description\": \"\"\n      }\n    },\n    {\n      \"column\": \"employee_residence\",\n      \"properties\": {\n        \"dtype\": \"category\",\n        \"num_unique_values\": 78,\n        \"samples\": [\n          \"AR\",\n          \"ES\",\n          \"AM\"\n        ],\n        \"semantic_type\": \"\",\n        \"description\": \"\"\n      }\n    },\n    {\n      \"column\": \"remote_ratio\",\n      \"properties\": {\n        \"dtype\": \"number\",\n        \"std\": 48,\n        \"min\": 0,\n        \"max\": 100,\n        \"num_unique_values\": 3,\n        \"samples\": [\n          100,\n          0,\n          50\n        ],\n        \"semantic_type\": \"\",\n        \"description\": \"\"\n      }\n    },\n    {\n      \"column\": \"company_location\",\n      \"properties\": {\n        \"dtype\": \"category\",\n        \"num_unique_values\": 72,\n        \"samples\": [\n          \"GB\",\n          \"MY\",\n          \"SG\"\n        ],\n        \"semantic_type\": \"\",\n        \"description\": \"\"\n      }\n    },\n    {\n      \"column\": \"company_size\",\n      \"properties\": {\n        \"dtype\": \"category\",\n        \"num_unique_values\": 3,\n        \"samples\": [\n          \"L\",\n          \"S\",\n          \"M\"\n        ],\n        \"semantic_type\": \"\",\n        \"description\": \"\"\n      }\n    }\n  ]\n}"
            }
          },
          "metadata": {},
          "execution_count": 5
        }
      ],
      "source": [
        "df"
      ]
    },
    {
      "cell_type": "markdown",
      "id": "FfyDFPh62ow_",
      "metadata": {
        "id": "FfyDFPh62ow_"
      },
      "source": [
        "## **Задание 1 (0.3 балла)**\n",
        "\n",
        "Вам даны описания переменных. Проверьте, что категориальные признаки, категории которых перечислены, не имеют ошибочных значений. Для этого:\n",
        "\n",
        "- Напишите цикл, пробегающий по выбранным признакам и оценивающий, что в них нет лишних значений;"
      ]
    },
    {
      "cell_type": "code",
      "execution_count": 6,
      "id": "7In340ig3Bir",
      "metadata": {
        "id": "7In340ig3Bir",
        "outputId": "fad4bbf5-b705-4edf-df99-546ba0dd838f",
        "colab": {
          "base_uri": "https://localhost:8080/"
        }
      },
      "outputs": [
        {
          "output_type": "stream",
          "name": "stdout",
          "text": [
            "experience_level\n",
            "True\n",
            "---------------\n",
            "employment_type\n",
            "True\n",
            "---------------\n",
            "company_size\n",
            "True\n",
            "---------------\n"
          ]
        }
      ],
      "source": [
        "experience_level_cat = ['SE', 'MI', 'EN', 'EX']\n",
        "employment_type_cat = ['FT', 'PT', 'CT', 'FL']\n",
        "company_size_cat = ['S', 'M', 'L']\n",
        "\n",
        "cat_dict = {\n",
        "    'experience_level': experience_level_cat,\n",
        "    'employment_type': employment_type_cat,\n",
        "    'company_size': company_size_cat\n",
        "}\n",
        "\n",
        "for cat in cat_dict:\n",
        "    print(cat)\n",
        "    print(df[df[cat].isin(cat_dict[cat])].shape[0] == df.shape[0])\n",
        "    print('---------------')\n"
      ]
    },
    {
      "cell_type": "markdown",
      "id": "abae8ac6",
      "metadata": {
        "id": "abae8ac6"
      },
      "source": [
        "`В выбранных признаках нет лишних значений.`"
      ]
    },
    {
      "cell_type": "markdown",
      "id": "6696e77a",
      "metadata": {
        "id": "6696e77a"
      },
      "source": [
        "## **Задание 2 (0.3 балла)**\n",
        "\n",
        "Проведите базовые шаги оценки качества данных.\n",
        "- Есть есть проблемы, устраните их;\n",
        "- Если нет проблем, кратко опишите это."
      ]
    },
    {
      "cell_type": "code",
      "execution_count": 7,
      "id": "c6b67c3a",
      "metadata": {
        "id": "c6b67c3a",
        "outputId": "d159fc4f-c6de-4d7d-daff-92723d5ac556",
        "colab": {
          "base_uri": "https://localhost:8080/",
          "height": 429
        }
      },
      "outputs": [
        {
          "output_type": "execute_result",
          "data": {
            "text/plain": [
              "work_year             0\n",
              "experience_level      0\n",
              "employment_type       0\n",
              "job_title             0\n",
              "salary                0\n",
              "salary_currency       0\n",
              "salary_in_usd         0\n",
              "employee_residence    0\n",
              "remote_ratio          0\n",
              "company_location      0\n",
              "company_size          0\n",
              "dtype: int64"
            ],
            "text/html": [
              "<div>\n",
              "<style scoped>\n",
              "    .dataframe tbody tr th:only-of-type {\n",
              "        vertical-align: middle;\n",
              "    }\n",
              "\n",
              "    .dataframe tbody tr th {\n",
              "        vertical-align: top;\n",
              "    }\n",
              "\n",
              "    .dataframe thead th {\n",
              "        text-align: right;\n",
              "    }\n",
              "</style>\n",
              "<table border=\"1\" class=\"dataframe\">\n",
              "  <thead>\n",
              "    <tr style=\"text-align: right;\">\n",
              "      <th></th>\n",
              "      <th>0</th>\n",
              "    </tr>\n",
              "  </thead>\n",
              "  <tbody>\n",
              "    <tr>\n",
              "      <th>work_year</th>\n",
              "      <td>0</td>\n",
              "    </tr>\n",
              "    <tr>\n",
              "      <th>experience_level</th>\n",
              "      <td>0</td>\n",
              "    </tr>\n",
              "    <tr>\n",
              "      <th>employment_type</th>\n",
              "      <td>0</td>\n",
              "    </tr>\n",
              "    <tr>\n",
              "      <th>job_title</th>\n",
              "      <td>0</td>\n",
              "    </tr>\n",
              "    <tr>\n",
              "      <th>salary</th>\n",
              "      <td>0</td>\n",
              "    </tr>\n",
              "    <tr>\n",
              "      <th>salary_currency</th>\n",
              "      <td>0</td>\n",
              "    </tr>\n",
              "    <tr>\n",
              "      <th>salary_in_usd</th>\n",
              "      <td>0</td>\n",
              "    </tr>\n",
              "    <tr>\n",
              "      <th>employee_residence</th>\n",
              "      <td>0</td>\n",
              "    </tr>\n",
              "    <tr>\n",
              "      <th>remote_ratio</th>\n",
              "      <td>0</td>\n",
              "    </tr>\n",
              "    <tr>\n",
              "      <th>company_location</th>\n",
              "      <td>0</td>\n",
              "    </tr>\n",
              "    <tr>\n",
              "      <th>company_size</th>\n",
              "      <td>0</td>\n",
              "    </tr>\n",
              "  </tbody>\n",
              "</table>\n",
              "</div><br><label><b>dtype:</b> int64</label>"
            ]
          },
          "metadata": {},
          "execution_count": 7
        }
      ],
      "source": [
        "df.isna().sum()"
      ]
    },
    {
      "cell_type": "markdown",
      "id": "c1087b60",
      "metadata": {
        "id": "c1087b60"
      },
      "source": [
        "`Пропусков нет.`"
      ]
    },
    {
      "cell_type": "code",
      "execution_count": 8,
      "id": "08fa5665",
      "metadata": {
        "id": "08fa5665",
        "outputId": "0cfce8a2-60cb-4e5b-d4cd-cf62a393f0a0",
        "colab": {
          "base_uri": "https://localhost:8080/"
        }
      },
      "outputs": [
        {
          "output_type": "execute_result",
          "data": {
            "text/plain": [
              "1171"
            ]
          },
          "metadata": {},
          "execution_count": 8
        }
      ],
      "source": [
        "df.duplicated().sum()"
      ]
    },
    {
      "cell_type": "markdown",
      "id": "ca33588f",
      "metadata": {
        "id": "ca33588f"
      },
      "source": [
        "`В датасете есть дубли, которые следует удалить.`"
      ]
    },
    {
      "cell_type": "code",
      "execution_count": 9,
      "id": "683acba6",
      "metadata": {
        "id": "683acba6"
      },
      "outputs": [],
      "source": [
        "df.drop_duplicates(inplace=True)"
      ]
    },
    {
      "cell_type": "code",
      "execution_count": 10,
      "id": "34161ca6",
      "metadata": {
        "id": "34161ca6",
        "outputId": "66abc07c-f9d9-4435-95e0-4fac3c2c76c1",
        "colab": {
          "base_uri": "https://localhost:8080/"
        }
      },
      "outputs": [
        {
          "output_type": "stream",
          "name": "stdout",
          "text": [
            "<class 'pandas.core.frame.DataFrame'>\n",
            "Index: 2584 entries, 0 to 3754\n",
            "Data columns (total 11 columns):\n",
            " #   Column              Non-Null Count  Dtype \n",
            "---  ------              --------------  ----- \n",
            " 0   work_year           2584 non-null   int64 \n",
            " 1   experience_level    2584 non-null   object\n",
            " 2   employment_type     2584 non-null   object\n",
            " 3   job_title           2584 non-null   object\n",
            " 4   salary              2584 non-null   int64 \n",
            " 5   salary_currency     2584 non-null   object\n",
            " 6   salary_in_usd       2584 non-null   int64 \n",
            " 7   employee_residence  2584 non-null   object\n",
            " 8   remote_ratio        2584 non-null   int64 \n",
            " 9   company_location    2584 non-null   object\n",
            " 10  company_size        2584 non-null   object\n",
            "dtypes: int64(4), object(7)\n",
            "memory usage: 242.2+ KB\n"
          ]
        }
      ],
      "source": [
        "df.info()"
      ]
    },
    {
      "cell_type": "markdown",
      "id": "a2e36532",
      "metadata": {
        "id": "a2e36532"
      },
      "source": [
        "`С типами данных всё нормально.`"
      ]
    },
    {
      "cell_type": "code",
      "execution_count": 11,
      "id": "fa473877",
      "metadata": {
        "id": "fa473877",
        "outputId": "2821bcd9-e7ae-4a2f-8164-e750f9807ce7",
        "colab": {
          "base_uri": "https://localhost:8080/",
          "height": 300
        }
      },
      "outputs": [
        {
          "output_type": "execute_result",
          "data": {
            "text/plain": [
              "         work_year        salary  salary_in_usd  remote_ratio\n",
              "count  2584.000000  2.584000e+03    2584.000000   2584.000000\n",
              "mean   2022.301084  2.103653e+05  133409.280186     50.483746\n",
              "std       0.749179  8.080375e+05   67136.837329     48.163707\n",
              "min    2020.000000  6.000000e+03    5132.000000      0.000000\n",
              "25%    2022.000000  9.000000e+04   84975.000000      0.000000\n",
              "50%    2022.000000  1.346300e+05  130000.000000     50.000000\n",
              "75%    2023.000000  1.825625e+05  175000.000000    100.000000\n",
              "max    2023.000000  3.040000e+07  450000.000000    100.000000"
            ],
            "text/html": [
              "\n",
              "  <div id=\"df-7b64da43-3700-4e0d-9f4b-53c17548f467\" class=\"colab-df-container\">\n",
              "    <div>\n",
              "<style scoped>\n",
              "    .dataframe tbody tr th:only-of-type {\n",
              "        vertical-align: middle;\n",
              "    }\n",
              "\n",
              "    .dataframe tbody tr th {\n",
              "        vertical-align: top;\n",
              "    }\n",
              "\n",
              "    .dataframe thead th {\n",
              "        text-align: right;\n",
              "    }\n",
              "</style>\n",
              "<table border=\"1\" class=\"dataframe\">\n",
              "  <thead>\n",
              "    <tr style=\"text-align: right;\">\n",
              "      <th></th>\n",
              "      <th>work_year</th>\n",
              "      <th>salary</th>\n",
              "      <th>salary_in_usd</th>\n",
              "      <th>remote_ratio</th>\n",
              "    </tr>\n",
              "  </thead>\n",
              "  <tbody>\n",
              "    <tr>\n",
              "      <th>count</th>\n",
              "      <td>2584.000000</td>\n",
              "      <td>2.584000e+03</td>\n",
              "      <td>2584.000000</td>\n",
              "      <td>2584.000000</td>\n",
              "    </tr>\n",
              "    <tr>\n",
              "      <th>mean</th>\n",
              "      <td>2022.301084</td>\n",
              "      <td>2.103653e+05</td>\n",
              "      <td>133409.280186</td>\n",
              "      <td>50.483746</td>\n",
              "    </tr>\n",
              "    <tr>\n",
              "      <th>std</th>\n",
              "      <td>0.749179</td>\n",
              "      <td>8.080375e+05</td>\n",
              "      <td>67136.837329</td>\n",
              "      <td>48.163707</td>\n",
              "    </tr>\n",
              "    <tr>\n",
              "      <th>min</th>\n",
              "      <td>2020.000000</td>\n",
              "      <td>6.000000e+03</td>\n",
              "      <td>5132.000000</td>\n",
              "      <td>0.000000</td>\n",
              "    </tr>\n",
              "    <tr>\n",
              "      <th>25%</th>\n",
              "      <td>2022.000000</td>\n",
              "      <td>9.000000e+04</td>\n",
              "      <td>84975.000000</td>\n",
              "      <td>0.000000</td>\n",
              "    </tr>\n",
              "    <tr>\n",
              "      <th>50%</th>\n",
              "      <td>2022.000000</td>\n",
              "      <td>1.346300e+05</td>\n",
              "      <td>130000.000000</td>\n",
              "      <td>50.000000</td>\n",
              "    </tr>\n",
              "    <tr>\n",
              "      <th>75%</th>\n",
              "      <td>2023.000000</td>\n",
              "      <td>1.825625e+05</td>\n",
              "      <td>175000.000000</td>\n",
              "      <td>100.000000</td>\n",
              "    </tr>\n",
              "    <tr>\n",
              "      <th>max</th>\n",
              "      <td>2023.000000</td>\n",
              "      <td>3.040000e+07</td>\n",
              "      <td>450000.000000</td>\n",
              "      <td>100.000000</td>\n",
              "    </tr>\n",
              "  </tbody>\n",
              "</table>\n",
              "</div>\n",
              "    <div class=\"colab-df-buttons\">\n",
              "\n",
              "  <div class=\"colab-df-container\">\n",
              "    <button class=\"colab-df-convert\" onclick=\"convertToInteractive('df-7b64da43-3700-4e0d-9f4b-53c17548f467')\"\n",
              "            title=\"Convert this dataframe to an interactive table.\"\n",
              "            style=\"display:none;\">\n",
              "\n",
              "  <svg xmlns=\"http://www.w3.org/2000/svg\" height=\"24px\" viewBox=\"0 -960 960 960\">\n",
              "    <path d=\"M120-120v-720h720v720H120Zm60-500h600v-160H180v160Zm220 220h160v-160H400v160Zm0 220h160v-160H400v160ZM180-400h160v-160H180v160Zm440 0h160v-160H620v160ZM180-180h160v-160H180v160Zm440 0h160v-160H620v160Z\"/>\n",
              "  </svg>\n",
              "    </button>\n",
              "\n",
              "  <style>\n",
              "    .colab-df-container {\n",
              "      display:flex;\n",
              "      gap: 12px;\n",
              "    }\n",
              "\n",
              "    .colab-df-convert {\n",
              "      background-color: #E8F0FE;\n",
              "      border: none;\n",
              "      border-radius: 50%;\n",
              "      cursor: pointer;\n",
              "      display: none;\n",
              "      fill: #1967D2;\n",
              "      height: 32px;\n",
              "      padding: 0 0 0 0;\n",
              "      width: 32px;\n",
              "    }\n",
              "\n",
              "    .colab-df-convert:hover {\n",
              "      background-color: #E2EBFA;\n",
              "      box-shadow: 0px 1px 2px rgba(60, 64, 67, 0.3), 0px 1px 3px 1px rgba(60, 64, 67, 0.15);\n",
              "      fill: #174EA6;\n",
              "    }\n",
              "\n",
              "    .colab-df-buttons div {\n",
              "      margin-bottom: 4px;\n",
              "    }\n",
              "\n",
              "    [theme=dark] .colab-df-convert {\n",
              "      background-color: #3B4455;\n",
              "      fill: #D2E3FC;\n",
              "    }\n",
              "\n",
              "    [theme=dark] .colab-df-convert:hover {\n",
              "      background-color: #434B5C;\n",
              "      box-shadow: 0px 1px 3px 1px rgba(0, 0, 0, 0.15);\n",
              "      filter: drop-shadow(0px 1px 2px rgba(0, 0, 0, 0.3));\n",
              "      fill: #FFFFFF;\n",
              "    }\n",
              "  </style>\n",
              "\n",
              "    <script>\n",
              "      const buttonEl =\n",
              "        document.querySelector('#df-7b64da43-3700-4e0d-9f4b-53c17548f467 button.colab-df-convert');\n",
              "      buttonEl.style.display =\n",
              "        google.colab.kernel.accessAllowed ? 'block' : 'none';\n",
              "\n",
              "      async function convertToInteractive(key) {\n",
              "        const element = document.querySelector('#df-7b64da43-3700-4e0d-9f4b-53c17548f467');\n",
              "        const dataTable =\n",
              "          await google.colab.kernel.invokeFunction('convertToInteractive',\n",
              "                                                    [key], {});\n",
              "        if (!dataTable) return;\n",
              "\n",
              "        const docLinkHtml = 'Like what you see? Visit the ' +\n",
              "          '<a target=\"_blank\" href=https://colab.research.google.com/notebooks/data_table.ipynb>data table notebook</a>'\n",
              "          + ' to learn more about interactive tables.';\n",
              "        element.innerHTML = '';\n",
              "        dataTable['output_type'] = 'display_data';\n",
              "        await google.colab.output.renderOutput(dataTable, element);\n",
              "        const docLink = document.createElement('div');\n",
              "        docLink.innerHTML = docLinkHtml;\n",
              "        element.appendChild(docLink);\n",
              "      }\n",
              "    </script>\n",
              "  </div>\n",
              "\n",
              "\n",
              "<div id=\"df-5fbb66a9-fc35-4cdc-b32d-9ce03c652ad9\">\n",
              "  <button class=\"colab-df-quickchart\" onclick=\"quickchart('df-5fbb66a9-fc35-4cdc-b32d-9ce03c652ad9')\"\n",
              "            title=\"Suggest charts\"\n",
              "            style=\"display:none;\">\n",
              "\n",
              "<svg xmlns=\"http://www.w3.org/2000/svg\" height=\"24px\"viewBox=\"0 0 24 24\"\n",
              "     width=\"24px\">\n",
              "    <g>\n",
              "        <path d=\"M19 3H5c-1.1 0-2 .9-2 2v14c0 1.1.9 2 2 2h14c1.1 0 2-.9 2-2V5c0-1.1-.9-2-2-2zM9 17H7v-7h2v7zm4 0h-2V7h2v10zm4 0h-2v-4h2v4z\"/>\n",
              "    </g>\n",
              "</svg>\n",
              "  </button>\n",
              "\n",
              "<style>\n",
              "  .colab-df-quickchart {\n",
              "      --bg-color: #E8F0FE;\n",
              "      --fill-color: #1967D2;\n",
              "      --hover-bg-color: #E2EBFA;\n",
              "      --hover-fill-color: #174EA6;\n",
              "      --disabled-fill-color: #AAA;\n",
              "      --disabled-bg-color: #DDD;\n",
              "  }\n",
              "\n",
              "  [theme=dark] .colab-df-quickchart {\n",
              "      --bg-color: #3B4455;\n",
              "      --fill-color: #D2E3FC;\n",
              "      --hover-bg-color: #434B5C;\n",
              "      --hover-fill-color: #FFFFFF;\n",
              "      --disabled-bg-color: #3B4455;\n",
              "      --disabled-fill-color: #666;\n",
              "  }\n",
              "\n",
              "  .colab-df-quickchart {\n",
              "    background-color: var(--bg-color);\n",
              "    border: none;\n",
              "    border-radius: 50%;\n",
              "    cursor: pointer;\n",
              "    display: none;\n",
              "    fill: var(--fill-color);\n",
              "    height: 32px;\n",
              "    padding: 0;\n",
              "    width: 32px;\n",
              "  }\n",
              "\n",
              "  .colab-df-quickchart:hover {\n",
              "    background-color: var(--hover-bg-color);\n",
              "    box-shadow: 0 1px 2px rgba(60, 64, 67, 0.3), 0 1px 3px 1px rgba(60, 64, 67, 0.15);\n",
              "    fill: var(--button-hover-fill-color);\n",
              "  }\n",
              "\n",
              "  .colab-df-quickchart-complete:disabled,\n",
              "  .colab-df-quickchart-complete:disabled:hover {\n",
              "    background-color: var(--disabled-bg-color);\n",
              "    fill: var(--disabled-fill-color);\n",
              "    box-shadow: none;\n",
              "  }\n",
              "\n",
              "  .colab-df-spinner {\n",
              "    border: 2px solid var(--fill-color);\n",
              "    border-color: transparent;\n",
              "    border-bottom-color: var(--fill-color);\n",
              "    animation:\n",
              "      spin 1s steps(1) infinite;\n",
              "  }\n",
              "\n",
              "  @keyframes spin {\n",
              "    0% {\n",
              "      border-color: transparent;\n",
              "      border-bottom-color: var(--fill-color);\n",
              "      border-left-color: var(--fill-color);\n",
              "    }\n",
              "    20% {\n",
              "      border-color: transparent;\n",
              "      border-left-color: var(--fill-color);\n",
              "      border-top-color: var(--fill-color);\n",
              "    }\n",
              "    30% {\n",
              "      border-color: transparent;\n",
              "      border-left-color: var(--fill-color);\n",
              "      border-top-color: var(--fill-color);\n",
              "      border-right-color: var(--fill-color);\n",
              "    }\n",
              "    40% {\n",
              "      border-color: transparent;\n",
              "      border-right-color: var(--fill-color);\n",
              "      border-top-color: var(--fill-color);\n",
              "    }\n",
              "    60% {\n",
              "      border-color: transparent;\n",
              "      border-right-color: var(--fill-color);\n",
              "    }\n",
              "    80% {\n",
              "      border-color: transparent;\n",
              "      border-right-color: var(--fill-color);\n",
              "      border-bottom-color: var(--fill-color);\n",
              "    }\n",
              "    90% {\n",
              "      border-color: transparent;\n",
              "      border-bottom-color: var(--fill-color);\n",
              "    }\n",
              "  }\n",
              "</style>\n",
              "\n",
              "  <script>\n",
              "    async function quickchart(key) {\n",
              "      const quickchartButtonEl =\n",
              "        document.querySelector('#' + key + ' button');\n",
              "      quickchartButtonEl.disabled = true;  // To prevent multiple clicks.\n",
              "      quickchartButtonEl.classList.add('colab-df-spinner');\n",
              "      try {\n",
              "        const charts = await google.colab.kernel.invokeFunction(\n",
              "            'suggestCharts', [key], {});\n",
              "      } catch (error) {\n",
              "        console.error('Error during call to suggestCharts:', error);\n",
              "      }\n",
              "      quickchartButtonEl.classList.remove('colab-df-spinner');\n",
              "      quickchartButtonEl.classList.add('colab-df-quickchart-complete');\n",
              "    }\n",
              "    (() => {\n",
              "      let quickchartButtonEl =\n",
              "        document.querySelector('#df-5fbb66a9-fc35-4cdc-b32d-9ce03c652ad9 button');\n",
              "      quickchartButtonEl.style.display =\n",
              "        google.colab.kernel.accessAllowed ? 'block' : 'none';\n",
              "    })();\n",
              "  </script>\n",
              "</div>\n",
              "    </div>\n",
              "  </div>\n"
            ],
            "application/vnd.google.colaboratory.intrinsic+json": {
              "type": "dataframe",
              "summary": "{\n  \"name\": \"df\",\n  \"rows\": 8,\n  \"fields\": [\n    {\n      \"column\": \"work_year\",\n      \"properties\": {\n        \"dtype\": \"number\",\n        \"std\": 768.601529797957,\n        \"min\": 0.7491786613652834,\n        \"max\": 2584.0,\n        \"num_unique_values\": 6,\n        \"samples\": [\n          2584.0,\n          2022.3010835913312,\n          2023.0\n        ],\n        \"semantic_type\": \"\",\n        \"description\": \"\"\n      }\n    },\n    {\n      \"column\": \"salary\",\n      \"properties\": {\n        \"dtype\": \"number\",\n        \"std\": 10678683.06138873,\n        \"min\": 2584.0,\n        \"max\": 30400000.0,\n        \"num_unique_values\": 8,\n        \"samples\": [\n          210365.2964396285,\n          134630.0,\n          2584.0\n        ],\n        \"semantic_type\": \"\",\n        \"description\": \"\"\n      }\n    },\n    {\n      \"column\": \"salary_in_usd\",\n      \"properties\": {\n        \"dtype\": \"number\",\n        \"std\": 142545.2430705196,\n        \"min\": 2584.0,\n        \"max\": 450000.0,\n        \"num_unique_values\": 8,\n        \"samples\": [\n          133409.28018575851,\n          130000.0,\n          2584.0\n        ],\n        \"semantic_type\": \"\",\n        \"description\": \"\"\n      }\n    },\n    {\n      \"column\": \"remote_ratio\",\n      \"properties\": {\n        \"dtype\": \"number\",\n        \"std\": 896.7697359939636,\n        \"min\": 0.0,\n        \"max\": 2584.0,\n        \"num_unique_values\": 6,\n        \"samples\": [\n          2584.0,\n          50.48374613003096,\n          100.0\n        ],\n        \"semantic_type\": \"\",\n        \"description\": \"\"\n      }\n    }\n  ]\n}"
            }
          },
          "metadata": {},
          "execution_count": 11
        }
      ],
      "source": [
        "df.describe()"
      ]
    },
    {
      "cell_type": "markdown",
      "id": "bcc3dcb4",
      "metadata": {
        "id": "bcc3dcb4"
      },
      "source": [
        "`В salary есть выбросы.`"
      ]
    },
    {
      "cell_type": "code",
      "execution_count": 12,
      "id": "878f934d",
      "metadata": {
        "id": "878f934d",
        "outputId": "034b1d6a-fa86-4048-c50c-f463b67abaa8",
        "colab": {
          "base_uri": "https://localhost:8080/",
          "height": 175
        }
      },
      "outputs": [
        {
          "output_type": "execute_result",
          "data": {
            "text/plain": [
              "       experience_level employment_type      job_title salary_currency  \\\n",
              "count              2584            2584           2584            2584   \n",
              "unique                4               4             93              20   \n",
              "top                  SE              FT  Data Engineer             USD   \n",
              "freq               1554            2547            598            2107   \n",
              "\n",
              "       employee_residence company_location company_size  \n",
              "count                2584             2584         2584  \n",
              "unique                 78               72            3  \n",
              "top                    US               US            M  \n",
              "freq                 1893             1929         2028  "
            ],
            "text/html": [
              "\n",
              "  <div id=\"df-a6fbf8fd-314d-46a0-b108-5bb01529d038\" class=\"colab-df-container\">\n",
              "    <div>\n",
              "<style scoped>\n",
              "    .dataframe tbody tr th:only-of-type {\n",
              "        vertical-align: middle;\n",
              "    }\n",
              "\n",
              "    .dataframe tbody tr th {\n",
              "        vertical-align: top;\n",
              "    }\n",
              "\n",
              "    .dataframe thead th {\n",
              "        text-align: right;\n",
              "    }\n",
              "</style>\n",
              "<table border=\"1\" class=\"dataframe\">\n",
              "  <thead>\n",
              "    <tr style=\"text-align: right;\">\n",
              "      <th></th>\n",
              "      <th>experience_level</th>\n",
              "      <th>employment_type</th>\n",
              "      <th>job_title</th>\n",
              "      <th>salary_currency</th>\n",
              "      <th>employee_residence</th>\n",
              "      <th>company_location</th>\n",
              "      <th>company_size</th>\n",
              "    </tr>\n",
              "  </thead>\n",
              "  <tbody>\n",
              "    <tr>\n",
              "      <th>count</th>\n",
              "      <td>2584</td>\n",
              "      <td>2584</td>\n",
              "      <td>2584</td>\n",
              "      <td>2584</td>\n",
              "      <td>2584</td>\n",
              "      <td>2584</td>\n",
              "      <td>2584</td>\n",
              "    </tr>\n",
              "    <tr>\n",
              "      <th>unique</th>\n",
              "      <td>4</td>\n",
              "      <td>4</td>\n",
              "      <td>93</td>\n",
              "      <td>20</td>\n",
              "      <td>78</td>\n",
              "      <td>72</td>\n",
              "      <td>3</td>\n",
              "    </tr>\n",
              "    <tr>\n",
              "      <th>top</th>\n",
              "      <td>SE</td>\n",
              "      <td>FT</td>\n",
              "      <td>Data Engineer</td>\n",
              "      <td>USD</td>\n",
              "      <td>US</td>\n",
              "      <td>US</td>\n",
              "      <td>M</td>\n",
              "    </tr>\n",
              "    <tr>\n",
              "      <th>freq</th>\n",
              "      <td>1554</td>\n",
              "      <td>2547</td>\n",
              "      <td>598</td>\n",
              "      <td>2107</td>\n",
              "      <td>1893</td>\n",
              "      <td>1929</td>\n",
              "      <td>2028</td>\n",
              "    </tr>\n",
              "  </tbody>\n",
              "</table>\n",
              "</div>\n",
              "    <div class=\"colab-df-buttons\">\n",
              "\n",
              "  <div class=\"colab-df-container\">\n",
              "    <button class=\"colab-df-convert\" onclick=\"convertToInteractive('df-a6fbf8fd-314d-46a0-b108-5bb01529d038')\"\n",
              "            title=\"Convert this dataframe to an interactive table.\"\n",
              "            style=\"display:none;\">\n",
              "\n",
              "  <svg xmlns=\"http://www.w3.org/2000/svg\" height=\"24px\" viewBox=\"0 -960 960 960\">\n",
              "    <path d=\"M120-120v-720h720v720H120Zm60-500h600v-160H180v160Zm220 220h160v-160H400v160Zm0 220h160v-160H400v160ZM180-400h160v-160H180v160Zm440 0h160v-160H620v160ZM180-180h160v-160H180v160Zm440 0h160v-160H620v160Z\"/>\n",
              "  </svg>\n",
              "    </button>\n",
              "\n",
              "  <style>\n",
              "    .colab-df-container {\n",
              "      display:flex;\n",
              "      gap: 12px;\n",
              "    }\n",
              "\n",
              "    .colab-df-convert {\n",
              "      background-color: #E8F0FE;\n",
              "      border: none;\n",
              "      border-radius: 50%;\n",
              "      cursor: pointer;\n",
              "      display: none;\n",
              "      fill: #1967D2;\n",
              "      height: 32px;\n",
              "      padding: 0 0 0 0;\n",
              "      width: 32px;\n",
              "    }\n",
              "\n",
              "    .colab-df-convert:hover {\n",
              "      background-color: #E2EBFA;\n",
              "      box-shadow: 0px 1px 2px rgba(60, 64, 67, 0.3), 0px 1px 3px 1px rgba(60, 64, 67, 0.15);\n",
              "      fill: #174EA6;\n",
              "    }\n",
              "\n",
              "    .colab-df-buttons div {\n",
              "      margin-bottom: 4px;\n",
              "    }\n",
              "\n",
              "    [theme=dark] .colab-df-convert {\n",
              "      background-color: #3B4455;\n",
              "      fill: #D2E3FC;\n",
              "    }\n",
              "\n",
              "    [theme=dark] .colab-df-convert:hover {\n",
              "      background-color: #434B5C;\n",
              "      box-shadow: 0px 1px 3px 1px rgba(0, 0, 0, 0.15);\n",
              "      filter: drop-shadow(0px 1px 2px rgba(0, 0, 0, 0.3));\n",
              "      fill: #FFFFFF;\n",
              "    }\n",
              "  </style>\n",
              "\n",
              "    <script>\n",
              "      const buttonEl =\n",
              "        document.querySelector('#df-a6fbf8fd-314d-46a0-b108-5bb01529d038 button.colab-df-convert');\n",
              "      buttonEl.style.display =\n",
              "        google.colab.kernel.accessAllowed ? 'block' : 'none';\n",
              "\n",
              "      async function convertToInteractive(key) {\n",
              "        const element = document.querySelector('#df-a6fbf8fd-314d-46a0-b108-5bb01529d038');\n",
              "        const dataTable =\n",
              "          await google.colab.kernel.invokeFunction('convertToInteractive',\n",
              "                                                    [key], {});\n",
              "        if (!dataTable) return;\n",
              "\n",
              "        const docLinkHtml = 'Like what you see? Visit the ' +\n",
              "          '<a target=\"_blank\" href=https://colab.research.google.com/notebooks/data_table.ipynb>data table notebook</a>'\n",
              "          + ' to learn more about interactive tables.';\n",
              "        element.innerHTML = '';\n",
              "        dataTable['output_type'] = 'display_data';\n",
              "        await google.colab.output.renderOutput(dataTable, element);\n",
              "        const docLink = document.createElement('div');\n",
              "        docLink.innerHTML = docLinkHtml;\n",
              "        element.appendChild(docLink);\n",
              "      }\n",
              "    </script>\n",
              "  </div>\n",
              "\n",
              "\n",
              "<div id=\"df-892f3792-24d7-4eff-9a70-f9f4c2991047\">\n",
              "  <button class=\"colab-df-quickchart\" onclick=\"quickchart('df-892f3792-24d7-4eff-9a70-f9f4c2991047')\"\n",
              "            title=\"Suggest charts\"\n",
              "            style=\"display:none;\">\n",
              "\n",
              "<svg xmlns=\"http://www.w3.org/2000/svg\" height=\"24px\"viewBox=\"0 0 24 24\"\n",
              "     width=\"24px\">\n",
              "    <g>\n",
              "        <path d=\"M19 3H5c-1.1 0-2 .9-2 2v14c0 1.1.9 2 2 2h14c1.1 0 2-.9 2-2V5c0-1.1-.9-2-2-2zM9 17H7v-7h2v7zm4 0h-2V7h2v10zm4 0h-2v-4h2v4z\"/>\n",
              "    </g>\n",
              "</svg>\n",
              "  </button>\n",
              "\n",
              "<style>\n",
              "  .colab-df-quickchart {\n",
              "      --bg-color: #E8F0FE;\n",
              "      --fill-color: #1967D2;\n",
              "      --hover-bg-color: #E2EBFA;\n",
              "      --hover-fill-color: #174EA6;\n",
              "      --disabled-fill-color: #AAA;\n",
              "      --disabled-bg-color: #DDD;\n",
              "  }\n",
              "\n",
              "  [theme=dark] .colab-df-quickchart {\n",
              "      --bg-color: #3B4455;\n",
              "      --fill-color: #D2E3FC;\n",
              "      --hover-bg-color: #434B5C;\n",
              "      --hover-fill-color: #FFFFFF;\n",
              "      --disabled-bg-color: #3B4455;\n",
              "      --disabled-fill-color: #666;\n",
              "  }\n",
              "\n",
              "  .colab-df-quickchart {\n",
              "    background-color: var(--bg-color);\n",
              "    border: none;\n",
              "    border-radius: 50%;\n",
              "    cursor: pointer;\n",
              "    display: none;\n",
              "    fill: var(--fill-color);\n",
              "    height: 32px;\n",
              "    padding: 0;\n",
              "    width: 32px;\n",
              "  }\n",
              "\n",
              "  .colab-df-quickchart:hover {\n",
              "    background-color: var(--hover-bg-color);\n",
              "    box-shadow: 0 1px 2px rgba(60, 64, 67, 0.3), 0 1px 3px 1px rgba(60, 64, 67, 0.15);\n",
              "    fill: var(--button-hover-fill-color);\n",
              "  }\n",
              "\n",
              "  .colab-df-quickchart-complete:disabled,\n",
              "  .colab-df-quickchart-complete:disabled:hover {\n",
              "    background-color: var(--disabled-bg-color);\n",
              "    fill: var(--disabled-fill-color);\n",
              "    box-shadow: none;\n",
              "  }\n",
              "\n",
              "  .colab-df-spinner {\n",
              "    border: 2px solid var(--fill-color);\n",
              "    border-color: transparent;\n",
              "    border-bottom-color: var(--fill-color);\n",
              "    animation:\n",
              "      spin 1s steps(1) infinite;\n",
              "  }\n",
              "\n",
              "  @keyframes spin {\n",
              "    0% {\n",
              "      border-color: transparent;\n",
              "      border-bottom-color: var(--fill-color);\n",
              "      border-left-color: var(--fill-color);\n",
              "    }\n",
              "    20% {\n",
              "      border-color: transparent;\n",
              "      border-left-color: var(--fill-color);\n",
              "      border-top-color: var(--fill-color);\n",
              "    }\n",
              "    30% {\n",
              "      border-color: transparent;\n",
              "      border-left-color: var(--fill-color);\n",
              "      border-top-color: var(--fill-color);\n",
              "      border-right-color: var(--fill-color);\n",
              "    }\n",
              "    40% {\n",
              "      border-color: transparent;\n",
              "      border-right-color: var(--fill-color);\n",
              "      border-top-color: var(--fill-color);\n",
              "    }\n",
              "    60% {\n",
              "      border-color: transparent;\n",
              "      border-right-color: var(--fill-color);\n",
              "    }\n",
              "    80% {\n",
              "      border-color: transparent;\n",
              "      border-right-color: var(--fill-color);\n",
              "      border-bottom-color: var(--fill-color);\n",
              "    }\n",
              "    90% {\n",
              "      border-color: transparent;\n",
              "      border-bottom-color: var(--fill-color);\n",
              "    }\n",
              "  }\n",
              "</style>\n",
              "\n",
              "  <script>\n",
              "    async function quickchart(key) {\n",
              "      const quickchartButtonEl =\n",
              "        document.querySelector('#' + key + ' button');\n",
              "      quickchartButtonEl.disabled = true;  // To prevent multiple clicks.\n",
              "      quickchartButtonEl.classList.add('colab-df-spinner');\n",
              "      try {\n",
              "        const charts = await google.colab.kernel.invokeFunction(\n",
              "            'suggestCharts', [key], {});\n",
              "      } catch (error) {\n",
              "        console.error('Error during call to suggestCharts:', error);\n",
              "      }\n",
              "      quickchartButtonEl.classList.remove('colab-df-spinner');\n",
              "      quickchartButtonEl.classList.add('colab-df-quickchart-complete');\n",
              "    }\n",
              "    (() => {\n",
              "      let quickchartButtonEl =\n",
              "        document.querySelector('#df-892f3792-24d7-4eff-9a70-f9f4c2991047 button');\n",
              "      quickchartButtonEl.style.display =\n",
              "        google.colab.kernel.accessAllowed ? 'block' : 'none';\n",
              "    })();\n",
              "  </script>\n",
              "</div>\n",
              "    </div>\n",
              "  </div>\n"
            ],
            "application/vnd.google.colaboratory.intrinsic+json": {
              "type": "dataframe",
              "summary": "{\n  \"name\": \"df\",\n  \"rows\": 4,\n  \"fields\": [\n    {\n      \"column\": \"experience_level\",\n      \"properties\": {\n        \"dtype\": \"string\",\n        \"num_unique_values\": 4,\n        \"samples\": [\n          4,\n          \"1554\",\n          \"2584\"\n        ],\n        \"semantic_type\": \"\",\n        \"description\": \"\"\n      }\n    },\n    {\n      \"column\": \"employment_type\",\n      \"properties\": {\n        \"dtype\": \"string\",\n        \"num_unique_values\": 4,\n        \"samples\": [\n          4,\n          \"2547\",\n          \"2584\"\n        ],\n        \"semantic_type\": \"\",\n        \"description\": \"\"\n      }\n    },\n    {\n      \"column\": \"job_title\",\n      \"properties\": {\n        \"dtype\": \"string\",\n        \"num_unique_values\": 4,\n        \"samples\": [\n          93,\n          \"598\",\n          \"2584\"\n        ],\n        \"semantic_type\": \"\",\n        \"description\": \"\"\n      }\n    },\n    {\n      \"column\": \"salary_currency\",\n      \"properties\": {\n        \"dtype\": \"string\",\n        \"num_unique_values\": 4,\n        \"samples\": [\n          20,\n          \"2107\",\n          \"2584\"\n        ],\n        \"semantic_type\": \"\",\n        \"description\": \"\"\n      }\n    },\n    {\n      \"column\": \"employee_residence\",\n      \"properties\": {\n        \"dtype\": \"string\",\n        \"num_unique_values\": 4,\n        \"samples\": [\n          78,\n          \"1893\",\n          \"2584\"\n        ],\n        \"semantic_type\": \"\",\n        \"description\": \"\"\n      }\n    },\n    {\n      \"column\": \"company_location\",\n      \"properties\": {\n        \"dtype\": \"string\",\n        \"num_unique_values\": 4,\n        \"samples\": [\n          72,\n          \"1929\",\n          \"2584\"\n        ],\n        \"semantic_type\": \"\",\n        \"description\": \"\"\n      }\n    },\n    {\n      \"column\": \"company_size\",\n      \"properties\": {\n        \"dtype\": \"string\",\n        \"num_unique_values\": 4,\n        \"samples\": [\n          3,\n          \"2028\",\n          \"2584\"\n        ],\n        \"semantic_type\": \"\",\n        \"description\": \"\"\n      }\n    }\n  ]\n}"
            }
          },
          "metadata": {},
          "execution_count": 12
        }
      ],
      "source": [
        "df.describe(include='object')"
      ]
    },
    {
      "cell_type": "markdown",
      "id": "180afacb",
      "metadata": {
        "id": "180afacb"
      },
      "source": [
        "`Нет признаков с одним значением.`"
      ]
    },
    {
      "cell_type": "markdown",
      "id": "c-Q50P1G4wHx",
      "metadata": {
        "id": "c-Q50P1G4wHx"
      },
      "source": [
        "## **Задание 3 (0.3 балла)**\n",
        "\n",
        "Вернитесь к описанию признаков.\n",
        "- Проверьте, все ли признаки соответствуют постановке задачи? Если есть лишние признаки, удалите их и обоснуйте удаление, если нет, сделайте вывод о релевантности (достаточно в одну-две строки)\n",
        "- Зафиксируйте, в каких признаках много категорий."
      ]
    },
    {
      "cell_type": "markdown",
      "id": "21tU88sZ5z3y",
      "metadata": {
        "id": "21tU88sZ5z3y"
      },
      "source": [
        "`Признак salary в совокупности с salary_currency полностью определяет таргет, поэтому salary необходимо удалить. salary_currency можно оставить, поскольку этот признак может нести дополнительную информацию о зарплатном масштабе в зависмости от региона (в одном регионе может выплачиваться зарплата в разных валютах, что может отразиться на размере зарплаты).`"
      ]
    },
    {
      "cell_type": "code",
      "execution_count": 13,
      "id": "84871699",
      "metadata": {
        "id": "84871699"
      },
      "outputs": [],
      "source": [
        "df.drop('salary', axis=1, inplace=True)"
      ]
    },
    {
      "cell_type": "markdown",
      "id": "9db508bb",
      "metadata": {
        "id": "9db508bb"
      },
      "source": [
        "`Большое кол-во категорий содержут признаки job_title, salary_currency, employee_residence, company_location.`"
      ]
    },
    {
      "cell_type": "markdown",
      "id": "RTS28VQy6Hz8",
      "metadata": {
        "id": "RTS28VQy6Hz8"
      },
      "source": [
        "## **Задание 4 (0.2 балла)**\n",
        "\n",
        "Разделите выборку на train, test (80%, 20%)."
      ]
    },
    {
      "cell_type": "code",
      "execution_count": 14,
      "id": "ac0162db",
      "metadata": {
        "id": "ac0162db"
      },
      "outputs": [],
      "source": [
        "X = df.drop('salary_in_usd', axis=1)\n",
        "y = df['salary_in_usd']"
      ]
    },
    {
      "cell_type": "code",
      "execution_count": 15,
      "id": "-PWyMQ1N6NAc",
      "metadata": {
        "id": "-PWyMQ1N6NAc"
      },
      "outputs": [],
      "source": [
        "Xtrain, Xtest, ytrain, ytest = train_test_split(X, y, test_size=0.2, random_state=42)"
      ]
    },
    {
      "cell_type": "markdown",
      "id": "m2dNbigN52YC",
      "metadata": {
        "id": "m2dNbigN52YC"
      },
      "source": [
        "## **Задание 5 (0.3 балла)**\n",
        "\n",
        "Будем проверять два сценария. Первый — построение модели только на непрерывных признаках, а второй — построение с категориальными. В этом задании подготовьте всё, чтобы проверить валидность обоих сценариев. А именно:\n",
        "\n",
        "- Выделите данные для тренировки и теста для непрерывных признаков\n",
        "- Выделите данные для тренировки и теста для непрерывных + категориальных признаков, пока ничего не кодируйте."
      ]
    },
    {
      "cell_type": "code",
      "execution_count": 16,
      "id": "e9a24614",
      "metadata": {
        "id": "e9a24614",
        "outputId": "854fd495-d56e-4089-c595-17764b217741",
        "colab": {
          "base_uri": "https://localhost:8080/",
          "height": 424
        }
      },
      "outputs": [
        {
          "output_type": "execute_result",
          "data": {
            "text/plain": [
              "      work_year  remote_ratio\n",
              "25         2023             0\n",
              "2647       2022             0\n",
              "2624       2022             0\n",
              "2565       2022           100\n",
              "2390       2022             0\n",
              "...         ...           ...\n",
              "2477       2022           100\n",
              "1656       2023             0\n",
              "1711       2023             0\n",
              "1936       2022             0\n",
              "1230       2023             0\n",
              "\n",
              "[2067 rows x 2 columns]"
            ],
            "text/html": [
              "\n",
              "  <div id=\"df-88392a32-614e-4bf1-844e-917add9182cf\" class=\"colab-df-container\">\n",
              "    <div>\n",
              "<style scoped>\n",
              "    .dataframe tbody tr th:only-of-type {\n",
              "        vertical-align: middle;\n",
              "    }\n",
              "\n",
              "    .dataframe tbody tr th {\n",
              "        vertical-align: top;\n",
              "    }\n",
              "\n",
              "    .dataframe thead th {\n",
              "        text-align: right;\n",
              "    }\n",
              "</style>\n",
              "<table border=\"1\" class=\"dataframe\">\n",
              "  <thead>\n",
              "    <tr style=\"text-align: right;\">\n",
              "      <th></th>\n",
              "      <th>work_year</th>\n",
              "      <th>remote_ratio</th>\n",
              "    </tr>\n",
              "  </thead>\n",
              "  <tbody>\n",
              "    <tr>\n",
              "      <th>25</th>\n",
              "      <td>2023</td>\n",
              "      <td>0</td>\n",
              "    </tr>\n",
              "    <tr>\n",
              "      <th>2647</th>\n",
              "      <td>2022</td>\n",
              "      <td>0</td>\n",
              "    </tr>\n",
              "    <tr>\n",
              "      <th>2624</th>\n",
              "      <td>2022</td>\n",
              "      <td>0</td>\n",
              "    </tr>\n",
              "    <tr>\n",
              "      <th>2565</th>\n",
              "      <td>2022</td>\n",
              "      <td>100</td>\n",
              "    </tr>\n",
              "    <tr>\n",
              "      <th>2390</th>\n",
              "      <td>2022</td>\n",
              "      <td>0</td>\n",
              "    </tr>\n",
              "    <tr>\n",
              "      <th>...</th>\n",
              "      <td>...</td>\n",
              "      <td>...</td>\n",
              "    </tr>\n",
              "    <tr>\n",
              "      <th>2477</th>\n",
              "      <td>2022</td>\n",
              "      <td>100</td>\n",
              "    </tr>\n",
              "    <tr>\n",
              "      <th>1656</th>\n",
              "      <td>2023</td>\n",
              "      <td>0</td>\n",
              "    </tr>\n",
              "    <tr>\n",
              "      <th>1711</th>\n",
              "      <td>2023</td>\n",
              "      <td>0</td>\n",
              "    </tr>\n",
              "    <tr>\n",
              "      <th>1936</th>\n",
              "      <td>2022</td>\n",
              "      <td>0</td>\n",
              "    </tr>\n",
              "    <tr>\n",
              "      <th>1230</th>\n",
              "      <td>2023</td>\n",
              "      <td>0</td>\n",
              "    </tr>\n",
              "  </tbody>\n",
              "</table>\n",
              "<p>2067 rows × 2 columns</p>\n",
              "</div>\n",
              "    <div class=\"colab-df-buttons\">\n",
              "\n",
              "  <div class=\"colab-df-container\">\n",
              "    <button class=\"colab-df-convert\" onclick=\"convertToInteractive('df-88392a32-614e-4bf1-844e-917add9182cf')\"\n",
              "            title=\"Convert this dataframe to an interactive table.\"\n",
              "            style=\"display:none;\">\n",
              "\n",
              "  <svg xmlns=\"http://www.w3.org/2000/svg\" height=\"24px\" viewBox=\"0 -960 960 960\">\n",
              "    <path d=\"M120-120v-720h720v720H120Zm60-500h600v-160H180v160Zm220 220h160v-160H400v160Zm0 220h160v-160H400v160ZM180-400h160v-160H180v160Zm440 0h160v-160H620v160ZM180-180h160v-160H180v160Zm440 0h160v-160H620v160Z\"/>\n",
              "  </svg>\n",
              "    </button>\n",
              "\n",
              "  <style>\n",
              "    .colab-df-container {\n",
              "      display:flex;\n",
              "      gap: 12px;\n",
              "    }\n",
              "\n",
              "    .colab-df-convert {\n",
              "      background-color: #E8F0FE;\n",
              "      border: none;\n",
              "      border-radius: 50%;\n",
              "      cursor: pointer;\n",
              "      display: none;\n",
              "      fill: #1967D2;\n",
              "      height: 32px;\n",
              "      padding: 0 0 0 0;\n",
              "      width: 32px;\n",
              "    }\n",
              "\n",
              "    .colab-df-convert:hover {\n",
              "      background-color: #E2EBFA;\n",
              "      box-shadow: 0px 1px 2px rgba(60, 64, 67, 0.3), 0px 1px 3px 1px rgba(60, 64, 67, 0.15);\n",
              "      fill: #174EA6;\n",
              "    }\n",
              "\n",
              "    .colab-df-buttons div {\n",
              "      margin-bottom: 4px;\n",
              "    }\n",
              "\n",
              "    [theme=dark] .colab-df-convert {\n",
              "      background-color: #3B4455;\n",
              "      fill: #D2E3FC;\n",
              "    }\n",
              "\n",
              "    [theme=dark] .colab-df-convert:hover {\n",
              "      background-color: #434B5C;\n",
              "      box-shadow: 0px 1px 3px 1px rgba(0, 0, 0, 0.15);\n",
              "      filter: drop-shadow(0px 1px 2px rgba(0, 0, 0, 0.3));\n",
              "      fill: #FFFFFF;\n",
              "    }\n",
              "  </style>\n",
              "\n",
              "    <script>\n",
              "      const buttonEl =\n",
              "        document.querySelector('#df-88392a32-614e-4bf1-844e-917add9182cf button.colab-df-convert');\n",
              "      buttonEl.style.display =\n",
              "        google.colab.kernel.accessAllowed ? 'block' : 'none';\n",
              "\n",
              "      async function convertToInteractive(key) {\n",
              "        const element = document.querySelector('#df-88392a32-614e-4bf1-844e-917add9182cf');\n",
              "        const dataTable =\n",
              "          await google.colab.kernel.invokeFunction('convertToInteractive',\n",
              "                                                    [key], {});\n",
              "        if (!dataTable) return;\n",
              "\n",
              "        const docLinkHtml = 'Like what you see? Visit the ' +\n",
              "          '<a target=\"_blank\" href=https://colab.research.google.com/notebooks/data_table.ipynb>data table notebook</a>'\n",
              "          + ' to learn more about interactive tables.';\n",
              "        element.innerHTML = '';\n",
              "        dataTable['output_type'] = 'display_data';\n",
              "        await google.colab.output.renderOutput(dataTable, element);\n",
              "        const docLink = document.createElement('div');\n",
              "        docLink.innerHTML = docLinkHtml;\n",
              "        element.appendChild(docLink);\n",
              "      }\n",
              "    </script>\n",
              "  </div>\n",
              "\n",
              "\n",
              "<div id=\"df-644d07f3-bdc1-4319-85be-5bb731ebaca0\">\n",
              "  <button class=\"colab-df-quickchart\" onclick=\"quickchart('df-644d07f3-bdc1-4319-85be-5bb731ebaca0')\"\n",
              "            title=\"Suggest charts\"\n",
              "            style=\"display:none;\">\n",
              "\n",
              "<svg xmlns=\"http://www.w3.org/2000/svg\" height=\"24px\"viewBox=\"0 0 24 24\"\n",
              "     width=\"24px\">\n",
              "    <g>\n",
              "        <path d=\"M19 3H5c-1.1 0-2 .9-2 2v14c0 1.1.9 2 2 2h14c1.1 0 2-.9 2-2V5c0-1.1-.9-2-2-2zM9 17H7v-7h2v7zm4 0h-2V7h2v10zm4 0h-2v-4h2v4z\"/>\n",
              "    </g>\n",
              "</svg>\n",
              "  </button>\n",
              "\n",
              "<style>\n",
              "  .colab-df-quickchart {\n",
              "      --bg-color: #E8F0FE;\n",
              "      --fill-color: #1967D2;\n",
              "      --hover-bg-color: #E2EBFA;\n",
              "      --hover-fill-color: #174EA6;\n",
              "      --disabled-fill-color: #AAA;\n",
              "      --disabled-bg-color: #DDD;\n",
              "  }\n",
              "\n",
              "  [theme=dark] .colab-df-quickchart {\n",
              "      --bg-color: #3B4455;\n",
              "      --fill-color: #D2E3FC;\n",
              "      --hover-bg-color: #434B5C;\n",
              "      --hover-fill-color: #FFFFFF;\n",
              "      --disabled-bg-color: #3B4455;\n",
              "      --disabled-fill-color: #666;\n",
              "  }\n",
              "\n",
              "  .colab-df-quickchart {\n",
              "    background-color: var(--bg-color);\n",
              "    border: none;\n",
              "    border-radius: 50%;\n",
              "    cursor: pointer;\n",
              "    display: none;\n",
              "    fill: var(--fill-color);\n",
              "    height: 32px;\n",
              "    padding: 0;\n",
              "    width: 32px;\n",
              "  }\n",
              "\n",
              "  .colab-df-quickchart:hover {\n",
              "    background-color: var(--hover-bg-color);\n",
              "    box-shadow: 0 1px 2px rgba(60, 64, 67, 0.3), 0 1px 3px 1px rgba(60, 64, 67, 0.15);\n",
              "    fill: var(--button-hover-fill-color);\n",
              "  }\n",
              "\n",
              "  .colab-df-quickchart-complete:disabled,\n",
              "  .colab-df-quickchart-complete:disabled:hover {\n",
              "    background-color: var(--disabled-bg-color);\n",
              "    fill: var(--disabled-fill-color);\n",
              "    box-shadow: none;\n",
              "  }\n",
              "\n",
              "  .colab-df-spinner {\n",
              "    border: 2px solid var(--fill-color);\n",
              "    border-color: transparent;\n",
              "    border-bottom-color: var(--fill-color);\n",
              "    animation:\n",
              "      spin 1s steps(1) infinite;\n",
              "  }\n",
              "\n",
              "  @keyframes spin {\n",
              "    0% {\n",
              "      border-color: transparent;\n",
              "      border-bottom-color: var(--fill-color);\n",
              "      border-left-color: var(--fill-color);\n",
              "    }\n",
              "    20% {\n",
              "      border-color: transparent;\n",
              "      border-left-color: var(--fill-color);\n",
              "      border-top-color: var(--fill-color);\n",
              "    }\n",
              "    30% {\n",
              "      border-color: transparent;\n",
              "      border-left-color: var(--fill-color);\n",
              "      border-top-color: var(--fill-color);\n",
              "      border-right-color: var(--fill-color);\n",
              "    }\n",
              "    40% {\n",
              "      border-color: transparent;\n",
              "      border-right-color: var(--fill-color);\n",
              "      border-top-color: var(--fill-color);\n",
              "    }\n",
              "    60% {\n",
              "      border-color: transparent;\n",
              "      border-right-color: var(--fill-color);\n",
              "    }\n",
              "    80% {\n",
              "      border-color: transparent;\n",
              "      border-right-color: var(--fill-color);\n",
              "      border-bottom-color: var(--fill-color);\n",
              "    }\n",
              "    90% {\n",
              "      border-color: transparent;\n",
              "      border-bottom-color: var(--fill-color);\n",
              "    }\n",
              "  }\n",
              "</style>\n",
              "\n",
              "  <script>\n",
              "    async function quickchart(key) {\n",
              "      const quickchartButtonEl =\n",
              "        document.querySelector('#' + key + ' button');\n",
              "      quickchartButtonEl.disabled = true;  // To prevent multiple clicks.\n",
              "      quickchartButtonEl.classList.add('colab-df-spinner');\n",
              "      try {\n",
              "        const charts = await google.colab.kernel.invokeFunction(\n",
              "            'suggestCharts', [key], {});\n",
              "      } catch (error) {\n",
              "        console.error('Error during call to suggestCharts:', error);\n",
              "      }\n",
              "      quickchartButtonEl.classList.remove('colab-df-spinner');\n",
              "      quickchartButtonEl.classList.add('colab-df-quickchart-complete');\n",
              "    }\n",
              "    (() => {\n",
              "      let quickchartButtonEl =\n",
              "        document.querySelector('#df-644d07f3-bdc1-4319-85be-5bb731ebaca0 button');\n",
              "      quickchartButtonEl.style.display =\n",
              "        google.colab.kernel.accessAllowed ? 'block' : 'none';\n",
              "    })();\n",
              "  </script>\n",
              "</div>\n",
              "    </div>\n",
              "  </div>\n"
            ],
            "application/vnd.google.colaboratory.intrinsic+json": {
              "type": "dataframe",
              "summary": "{\n  \"name\": \"Xtrain\",\n  \"rows\": 2067,\n  \"fields\": [\n    {\n      \"column\": \"work_year\",\n      \"properties\": {\n        \"dtype\": \"number\",\n        \"std\": 0,\n        \"min\": 2020,\n        \"max\": 2023,\n        \"num_unique_values\": 4,\n        \"samples\": [\n          2022,\n          2020,\n          2023\n        ],\n        \"semantic_type\": \"\",\n        \"description\": \"\"\n      }\n    },\n    {\n      \"column\": \"remote_ratio\",\n      \"properties\": {\n        \"dtype\": \"number\",\n        \"std\": 48,\n        \"min\": 0,\n        \"max\": 100,\n        \"num_unique_values\": 3,\n        \"samples\": [\n          0,\n          100,\n          50\n        ],\n        \"semantic_type\": \"\",\n        \"description\": \"\"\n      }\n    }\n  ]\n}"
            }
          },
          "metadata": {},
          "execution_count": 16
        }
      ],
      "source": [
        "Xtrain.select_dtypes(include='number')"
      ]
    },
    {
      "cell_type": "code",
      "execution_count": 17,
      "id": "4i5DhaS87Sir",
      "metadata": {
        "id": "4i5DhaS87Sir"
      },
      "outputs": [],
      "source": [
        "Xtrain_num = Xtrain.select_dtypes(include='number')\n",
        "Xtest_num = Xtest.select_dtypes(include='number')"
      ]
    },
    {
      "cell_type": "markdown",
      "id": "f63cb01a",
      "metadata": {
        "id": "f63cb01a"
      },
      "source": [
        "## **Задание 6 (0.2 балла)**\n",
        "\n",
        "- Обучите модель линейной регресии на числовых признаках и оцените её качество через mape и rmse;\n",
        "- Сделайте вывод о качестве построенной модели;"
      ]
    },
    {
      "cell_type": "code",
      "execution_count": 18,
      "id": "b0f52de7",
      "metadata": {
        "id": "b0f52de7"
      },
      "outputs": [],
      "source": [
        "def print_metrics(y_true, y_pred):\n",
        "    \"\"\"\n",
        "    Печатает метрики MAPE, RMSE.\n",
        "    \"\"\"\n",
        "    print(f'MAPE: {MAPE(y_true, y_pred):.3}')\n",
        "    print(f'RMSE: {RMSE(y_true, y_pred)}')"
      ]
    },
    {
      "cell_type": "code",
      "execution_count": 19,
      "id": "7jdkJ8Ji7R_L",
      "metadata": {
        "id": "7jdkJ8Ji7R_L",
        "outputId": "e068a7f0-541c-4bf5-c998-1ff4b758dd94",
        "colab": {
          "base_uri": "https://localhost:8080/"
        }
      },
      "outputs": [
        {
          "output_type": "stream",
          "name": "stdout",
          "text": [
            "MAPE: 0.829\n",
            "RMSE: 64000.532625649634\n"
          ]
        }
      ],
      "source": [
        "lin_reg = LinearRegression()\n",
        "\n",
        "lin_reg.fit(Xtrain_num, ytrain)\n",
        "\n",
        "print_metrics(ytest, lin_reg.predict(Xtest_num))"
      ]
    },
    {
      "cell_type": "markdown",
      "id": "5db47484",
      "metadata": {
        "id": "5db47484"
      },
      "source": [
        "`Качество модели получилось довольно плохим. В среднем прогноз модели отличается от истинного значения на 83 процента.`"
      ]
    },
    {
      "cell_type": "markdown",
      "id": "8bf8374f",
      "metadata": {
        "id": "8bf8374f"
      },
      "source": [
        "## **Задание 8 (0.2 балла)**\n",
        "\n",
        "- Обучите модель бустинга (любую из трех библиотек catboost, xgboost, lightgbm) с гиперпараметрами по умолчанию на непрерывных признаках и оцените её качество через mape и rmse;\n",
        "- Сделайте вывод о качестве построенной модели;"
      ]
    },
    {
      "cell_type": "code",
      "execution_count": 20,
      "id": "5vOPjwnZ7Pud",
      "metadata": {
        "id": "5vOPjwnZ7Pud",
        "outputId": "71e2e741-cfd0-48e3-8aac-96100c5b4f9b",
        "colab": {
          "base_uri": "https://localhost:8080/",
          "height": 52,
          "referenced_widgets": [
            "1287db85a4b44236bbe5de5eec5b6a7e"
          ]
        }
      },
      "outputs": [
        {
          "output_type": "display_data",
          "data": {
            "text/plain": [
              "MetricVisualizer(layout=Layout(align_self='stretch', height='500px'))"
            ],
            "application/vnd.jupyter.widget-view+json": {
              "version_major": 2,
              "version_minor": 0,
              "model_id": "1287db85a4b44236bbe5de5eec5b6a7e"
            }
          },
          "metadata": {}
        },
        {
          "output_type": "stream",
          "name": "stdout",
          "text": [
            "MAPE: 0.771\n",
            "RMSE: 62433.34798150249\n"
          ]
        }
      ],
      "source": [
        "cat_boost = CatBoostRegressor(\n",
        "    random_seed=42,\n",
        "    logging_level='Silent'\n",
        ")\n",
        "\n",
        "cat_boost.fit(Xtrain_num, ytrain, plot=True)\n",
        "\n",
        "print_metrics(ytest, cat_boost.predict(Xtest_num))"
      ]
    },
    {
      "cell_type": "markdown",
      "id": "1a6e41a8",
      "metadata": {
        "id": "1a6e41a8"
      },
      "source": [
        "`Ошибка стала меньше, но качество всё еще очень плохое.`"
      ]
    },
    {
      "cell_type": "markdown",
      "id": "17b76f89",
      "metadata": {
        "id": "17b76f89"
      },
      "source": [
        "## **Задание 9 (0.8 балла)**\n",
        "\n",
        "Теперь подключим категориальные признаки. Но попроубем разные стратегии предобработки.\n",
        "\n",
        "**1:**\n",
        "- Предобработайте категориальные признаки при помощи OHE\n",
        "- Постройте модель бустинга и линейную регрессию\n",
        "- Оцените качество обеих моделей\n",
        "\n",
        "**2:**\n",
        "- Предобработайте категориальные признаки при помощи LabelEncoding\n",
        "- Постройте модель бустинга и линейную регрессию\n",
        "- Оцените качество обеих моделей\n",
        "\n",
        "**3:**\n",
        "- Предобработайте категориальные признаки при помощи MeanTargetEnc\n",
        "- Постройте модель бустинга и линейную регрессию\n",
        "- Оцените качество обеих моделей\n",
        "\n",
        "Сделайте выводы по построениям 1-3. Выберите лучшую модель и дальше поработайте с ней."
      ]
    },
    {
      "cell_type": "code",
      "execution_count": 21,
      "id": "1909c8a9",
      "metadata": {
        "id": "1909c8a9"
      },
      "outputs": [],
      "source": [
        "categorical = X.select_dtypes(include='object').columns"
      ]
    },
    {
      "cell_type": "code",
      "execution_count": 22,
      "id": "jydpMYVO8GfK",
      "metadata": {
        "id": "jydpMYVO8GfK",
        "outputId": "9ca3f86d-ed20-465f-b977-05c5e9064578",
        "colab": {
          "base_uri": "https://localhost:8080/"
        }
      },
      "outputs": [
        {
          "output_type": "stream",
          "name": "stdout",
          "text": [
            "[LightGBM] [Info] Auto-choosing row-wise multi-threading, the overhead of testing was 0.015240 seconds.\n",
            "You can set `force_row_wise=true` to remove the overhead.\n",
            "And if memory is not enough, you can set `force_col_wise=true`.\n",
            "[LightGBM] [Info] Total Bins 82\n",
            "[LightGBM] [Info] Number of data points in the train set: 2067, number of used features: 39\n",
            "[LightGBM] [Info] Start training from score 133570.320271\n",
            "MAPE: 0.443\n",
            "RMSE: 53015.82085407753\n"
          ]
        }
      ],
      "source": [
        "ct_ohe = ColumnTransformer([\n",
        "    ('ohe', OneHotEncoder(drop='first', handle_unknown='ignore'), categorical)\n",
        "], remainder='passthrough')\n",
        "\n",
        "lgbm_ohe = Pipeline([\n",
        "    ('column_transformer', ct_ohe),\n",
        "    ('lgbm', LGBMRegressor(random_state=42))\n",
        "])\n",
        "\n",
        "lgbm_ohe.fit(Xtrain, ytrain)\n",
        "\n",
        "print_metrics(ytest, lgbm_ohe.predict(Xtest))"
      ]
    },
    {
      "cell_type": "code",
      "execution_count": 23,
      "id": "431b50da",
      "metadata": {
        "id": "431b50da",
        "outputId": "740862f2-f91a-48be-cf1d-e78479a9e78c",
        "colab": {
          "base_uri": "https://localhost:8080/"
        }
      },
      "outputs": [
        {
          "output_type": "stream",
          "name": "stdout",
          "text": [
            "MAPE: 0.467\n",
            "RMSE: 53324.12270330814\n"
          ]
        }
      ],
      "source": [
        "lin_reg_ohe = Pipeline([\n",
        "    ('column_transformer', ct_ohe),\n",
        "    ('model', LinearRegression())\n",
        "])\n",
        "\n",
        "lin_reg_ohe.fit(Xtrain, ytrain)\n",
        "\n",
        "print_metrics(ytest, lin_reg_ohe.predict(Xtest))"
      ]
    },
    {
      "cell_type": "markdown",
      "id": "eaf37276",
      "metadata": {
        "id": "eaf37276"
      },
      "source": [
        "`В LabelEncoder из sklearn нет параметров, которые позволяли бы работать с неизвестными значениями, поэтому придется обучать кодировщик и на трейне и на тесте.`"
      ]
    },
    {
      "cell_type": "code",
      "execution_count": 24,
      "id": "758ef186",
      "metadata": {
        "id": "758ef186",
        "outputId": "60e1da42-cf6b-43ac-f236-20b377ab31fd",
        "colab": {
          "base_uri": "https://localhost:8080/"
        }
      },
      "outputs": [
        {
          "output_type": "stream",
          "name": "stdout",
          "text": [
            "[LightGBM] [Info] Auto-choosing row-wise multi-threading, the overhead of testing was 0.000294 seconds.\n",
            "You can set `force_row_wise=true` to remove the overhead.\n",
            "And if memory is not enough, you can set `force_col_wise=true`.\n",
            "[LightGBM] [Info] Total Bins 177\n",
            "[LightGBM] [Info] Number of data points in the train set: 2067, number of used features: 8\n",
            "[LightGBM] [Info] Start training from score 133570.320271\n",
            "MAPE: 0.692\n",
            "RMSE: 96935.97293229477\n"
          ]
        }
      ],
      "source": [
        "def label_encoder(df, columns):\n",
        "    \"\"\"\n",
        "    Применяет LabelEncoder к столбцам columns датафрейма df.\n",
        "    \"\"\"\n",
        "    df_cp = df.copy()\n",
        "    for col in columns:\n",
        "        le = LabelEncoder()\n",
        "        le.fit(df_cp[col])\n",
        "        df_cp[col] = le.transform(df_cp[col])\n",
        "    return df_cp\n",
        "\n",
        "lgbm_label = LGBMRegressor(random_state=42)\n",
        "\n",
        "lgbm_label.fit(label_encoder(Xtrain, categorical), ytrain)\n",
        "\n",
        "print_metrics(ytest, lgbm_label.predict(label_encoder(Xtest, categorical)))"
      ]
    },
    {
      "cell_type": "code",
      "execution_count": 25,
      "id": "a3cc26c1",
      "metadata": {
        "id": "a3cc26c1",
        "outputId": "f91ad20e-c64d-40bd-f519-283051f2f55a",
        "colab": {
          "base_uri": "https://localhost:8080/"
        }
      },
      "outputs": [
        {
          "output_type": "stream",
          "name": "stdout",
          "text": [
            "MAPE: 0.47\n",
            "RMSE: 77097.0492963484\n"
          ]
        }
      ],
      "source": [
        "lin_reg_label = LinearRegression()\n",
        "\n",
        "lin_reg_label.fit(label_encoder(Xtrain, categorical), ytrain)\n",
        "\n",
        "print_metrics(ytest, lin_reg_label.predict(label_encoder(Xtest, categorical)))"
      ]
    },
    {
      "cell_type": "code",
      "execution_count": 26,
      "id": "7c917586",
      "metadata": {
        "id": "7c917586",
        "outputId": "cd7f2846-be77-41d5-e745-c3f842f559d4",
        "colab": {
          "base_uri": "https://localhost:8080/"
        }
      },
      "outputs": [
        {
          "output_type": "stream",
          "name": "stdout",
          "text": [
            "[LightGBM] [Info] Auto-choosing row-wise multi-threading, the overhead of testing was 0.376265 seconds.\n",
            "You can set `force_row_wise=true` to remove the overhead.\n",
            "And if memory is not enough, you can set `force_col_wise=true`.\n",
            "[LightGBM] [Info] Total Bins 42359\n",
            "[LightGBM] [Info] Number of data points in the train set: 2067, number of used features: 6163\n",
            "[LightGBM] [Info] Start training from score 133570.320271\n",
            "MAPE: 0.404\n",
            "RMSE: 51849.126513271745\n"
          ]
        }
      ],
      "source": [
        "ct_te = ColumnTransformer([\n",
        "    ('target_encoder', TargetEncoder(random_state=42), categorical)\n",
        "], remainder='passthrough')\n",
        "\n",
        "lgbm_te = Pipeline([\n",
        "    ('column_transformer', ct_te),\n",
        "    ('model', LGBMRegressor(random_state=42))\n",
        "])\n",
        "\n",
        "lgbm_te.fit(Xtrain, ytrain)\n",
        "\n",
        "print_metrics(ytest, lgbm_te.predict(Xtest))"
      ]
    },
    {
      "cell_type": "code",
      "execution_count": 27,
      "id": "f6297ea9",
      "metadata": {
        "id": "f6297ea9",
        "outputId": "c1d66050-ae0f-4139-8ae2-9c68374ae773",
        "colab": {
          "base_uri": "https://localhost:8080/"
        }
      },
      "outputs": [
        {
          "output_type": "stream",
          "name": "stdout",
          "text": [
            "MAPE: 4.11\n",
            "RMSE: 1947706.8236224828\n"
          ]
        }
      ],
      "source": [
        "lin_reg_te = Pipeline([\n",
        "    ('column_transformer', ct_te),\n",
        "    ('model', LinearRegression())\n",
        "])\n",
        "\n",
        "lin_reg_te.fit(Xtrain, ytrain)\n",
        "\n",
        "print_metrics(ytest, lin_reg_te.predict(Xtest))"
      ]
    },
    {
      "cell_type": "markdown",
      "id": "3b9328ba",
      "metadata": {
        "id": "3b9328ba"
      },
      "source": [
        "| model \\ metric       | MAPE | RMSE    |\n",
        "|----------------------|------|---------|\n",
        "| Ohe + lgbm           | 0.44 | 53016   |\n",
        "| Ohe + lin-reg        | 0.47 | 53324   |\n",
        "| Label-enc + lgbm     | 0.69 | 96936   |\n",
        "| Label-enc + lin-reg  | 0.47 | 77097   |\n",
        "| Target-enc + lgbm    | 0.40 | 51849   |\n",
        "| Target-enc + lin-reg | 4.11 | 1947706 |"
      ]
    },
    {
      "cell_type": "markdown",
      "id": "a78a2467",
      "metadata": {
        "id": "a78a2467"
      },
      "source": [
        "`В двух из трех случаев линейная регрессия показала достаточно хороший результат в сравнении с LightGBM: при кодировке OneHotEncoder результат чуть хуже, а для LabelEncoder даже лучше, причем значительно. Это может говорить о том, что возможно таргет неплохо объясняется линейной моделью. В случае TargetEncoder линейная регрессия имеет огромную ошибку, это возможно связано с численными проблемами при вычислении моделью LinearRegression.`\n",
        "\n",
        "`На данном примере хорошо видно, проблему ассимитричности метрики MAPE и её смещенность в сторону больших значений. Линейная регрессия обученная на кодировке OneHotEncoding и Label-encoding имееет одинаковое качество по метрике MAPE, при этом RMSE имеет сильное различие в значениях. При этом в случае обучения LightGBM на тех же кадировках сильное различие в значениях имееют обе метрики.`\n",
        "\n",
        "`Наихудшие качество на обоих моделях показала кадировка Label-encoding. Это связано с тем, что при кодировании категорий по порядку категориальный признак становится ординальным, поэтому изначальные зависимости в данных могут исказиться при обучении модели. Также на это может влиять обучение водировщика на трейне и тесте в отдельности.`\n",
        "\n",
        "`Наилучшее качество на всех метриках показала модель LightGBM, с кадировкой категориальных признаков методов TargetEncoder.`"
      ]
    },
    {
      "cell_type": "markdown",
      "id": "119b89f1",
      "metadata": {
        "id": "119b89f1"
      },
      "source": [
        "## **Задание 10 (0.5 балла)**\n",
        "\n",
        "Покажите, где ошибается ваша модель. Выведите топ 20 примеров с наибольшей ошибкой. Проанализируйте их. Какие выводы можно сделать? Что стоит изменить в данных чтобы улучшить качество модели?"
      ]
    },
    {
      "cell_type": "code",
      "execution_count": 28,
      "id": "f8458657",
      "metadata": {
        "id": "f8458657"
      },
      "outputs": [],
      "source": [
        "model = lgbm_te"
      ]
    },
    {
      "cell_type": "code",
      "execution_count": 29,
      "id": "516bd7fa",
      "metadata": {
        "id": "516bd7fa",
        "outputId": "0c552ad4-073f-4b6a-dd4c-4a5e7a91d69c",
        "colab": {
          "base_uri": "https://localhost:8080/",
          "height": 677
        }
      },
      "outputs": [
        {
          "output_type": "execute_result",
          "data": {
            "text/plain": [
              "      work_year experience_level employment_type  \\\n",
              "528        2023               SE              FT   \n",
              "3747       2021               MI              FT   \n",
              "3522       2020               MI              FT   \n",
              "3750       2020               SE              FT   \n",
              "3463       2022               SE              FT   \n",
              "1105       2023               SE              FT   \n",
              "649        2023               SE              FT   \n",
              "2374       2022               SE              FT   \n",
              "2359       2022               SE              FT   \n",
              "83         2022               EN              FT   \n",
              "1258       2022               SE              FT   \n",
              "133        2023               SE              FT   \n",
              "1311       2023               SE              FT   \n",
              "845        2023               MI              FT   \n",
              "2555       2022               SE              FT   \n",
              "1116       2023               SE              FT   \n",
              "1722       2023               SE              FT   \n",
              "3468       2022               SE              FT   \n",
              "488        2023               SE              FT   \n",
              "2162       2022               SE              FT   \n",
              "\n",
              "                               job_title salary_currency  salary_in_usd  \\\n",
              "528                         AI Scientist             ILS         423834   \n",
              "3747  Applied Machine Learning Scientist             USD         423000   \n",
              "3522                  Research Scientist             USD         450000   \n",
              "3750                      Data Scientist             USD         412000   \n",
              "3463                 Data Analytics Lead             USD         405000   \n",
              "1105                      Data Scientist             USD         370000   \n",
              "649                       Data Architect             USD         376080   \n",
              "2374                      Data Scientist             USD         350000   \n",
              "2359              Data Science Tech Lead             USD         375000   \n",
              "83                          AI Developer             USD         300000   \n",
              "1258  Machine Learning Software Engineer             USD         375000   \n",
              "133            Machine Learning Engineer             USD         342300   \n",
              "1311                  Research Scientist             USD         370000   \n",
              "845                   Research Scientist             USD         340000   \n",
              "2555                      Data Architect             USD         345600   \n",
              "1116           Machine Learning Engineer             USD         323300   \n",
              "1722                       Data Engineer             USD         310000   \n",
              "3468              Applied Data Scientist             USD         380000   \n",
              "488                       Data Scientist             USD         317070   \n",
              "2162                       Data Engineer             USD         300000   \n",
              "\n",
              "     employee_residence  remote_ratio company_location company_size  \n",
              "528                  IL             0               IL            L  \n",
              "3747                 US            50               US            L  \n",
              "3522                 US             0               US            M  \n",
              "3750                 US           100               US            L  \n",
              "3463                 US           100               US            L  \n",
              "1105                 US             0               US            M  \n",
              "649                  US           100               US            M  \n",
              "2374                 US           100               US            M  \n",
              "2359                 US            50               US            L  \n",
              "83                   IN            50               IN            L  \n",
              "1258                 US           100               US            M  \n",
              "133                  US             0               US            L  \n",
              "1311                 US             0               US            M  \n",
              "845                  US           100               US            M  \n",
              "2555                 US             0               US            M  \n",
              "1116                 US             0               US            M  \n",
              "1722                 US             0               US            M  \n",
              "3468                 US           100               US            L  \n",
              "488                  US             0               US            M  \n",
              "2162                 US             0               US            M  "
            ],
            "text/html": [
              "\n",
              "  <div id=\"df-132cfbcc-3989-4010-b654-b508c0799af4\" class=\"colab-df-container\">\n",
              "    <div>\n",
              "<style scoped>\n",
              "    .dataframe tbody tr th:only-of-type {\n",
              "        vertical-align: middle;\n",
              "    }\n",
              "\n",
              "    .dataframe tbody tr th {\n",
              "        vertical-align: top;\n",
              "    }\n",
              "\n",
              "    .dataframe thead th {\n",
              "        text-align: right;\n",
              "    }\n",
              "</style>\n",
              "<table border=\"1\" class=\"dataframe\">\n",
              "  <thead>\n",
              "    <tr style=\"text-align: right;\">\n",
              "      <th></th>\n",
              "      <th>work_year</th>\n",
              "      <th>experience_level</th>\n",
              "      <th>employment_type</th>\n",
              "      <th>job_title</th>\n",
              "      <th>salary_currency</th>\n",
              "      <th>salary_in_usd</th>\n",
              "      <th>employee_residence</th>\n",
              "      <th>remote_ratio</th>\n",
              "      <th>company_location</th>\n",
              "      <th>company_size</th>\n",
              "    </tr>\n",
              "  </thead>\n",
              "  <tbody>\n",
              "    <tr>\n",
              "      <th>528</th>\n",
              "      <td>2023</td>\n",
              "      <td>SE</td>\n",
              "      <td>FT</td>\n",
              "      <td>AI Scientist</td>\n",
              "      <td>ILS</td>\n",
              "      <td>423834</td>\n",
              "      <td>IL</td>\n",
              "      <td>0</td>\n",
              "      <td>IL</td>\n",
              "      <td>L</td>\n",
              "    </tr>\n",
              "    <tr>\n",
              "      <th>3747</th>\n",
              "      <td>2021</td>\n",
              "      <td>MI</td>\n",
              "      <td>FT</td>\n",
              "      <td>Applied Machine Learning Scientist</td>\n",
              "      <td>USD</td>\n",
              "      <td>423000</td>\n",
              "      <td>US</td>\n",
              "      <td>50</td>\n",
              "      <td>US</td>\n",
              "      <td>L</td>\n",
              "    </tr>\n",
              "    <tr>\n",
              "      <th>3522</th>\n",
              "      <td>2020</td>\n",
              "      <td>MI</td>\n",
              "      <td>FT</td>\n",
              "      <td>Research Scientist</td>\n",
              "      <td>USD</td>\n",
              "      <td>450000</td>\n",
              "      <td>US</td>\n",
              "      <td>0</td>\n",
              "      <td>US</td>\n",
              "      <td>M</td>\n",
              "    </tr>\n",
              "    <tr>\n",
              "      <th>3750</th>\n",
              "      <td>2020</td>\n",
              "      <td>SE</td>\n",
              "      <td>FT</td>\n",
              "      <td>Data Scientist</td>\n",
              "      <td>USD</td>\n",
              "      <td>412000</td>\n",
              "      <td>US</td>\n",
              "      <td>100</td>\n",
              "      <td>US</td>\n",
              "      <td>L</td>\n",
              "    </tr>\n",
              "    <tr>\n",
              "      <th>3463</th>\n",
              "      <td>2022</td>\n",
              "      <td>SE</td>\n",
              "      <td>FT</td>\n",
              "      <td>Data Analytics Lead</td>\n",
              "      <td>USD</td>\n",
              "      <td>405000</td>\n",
              "      <td>US</td>\n",
              "      <td>100</td>\n",
              "      <td>US</td>\n",
              "      <td>L</td>\n",
              "    </tr>\n",
              "    <tr>\n",
              "      <th>1105</th>\n",
              "      <td>2023</td>\n",
              "      <td>SE</td>\n",
              "      <td>FT</td>\n",
              "      <td>Data Scientist</td>\n",
              "      <td>USD</td>\n",
              "      <td>370000</td>\n",
              "      <td>US</td>\n",
              "      <td>0</td>\n",
              "      <td>US</td>\n",
              "      <td>M</td>\n",
              "    </tr>\n",
              "    <tr>\n",
              "      <th>649</th>\n",
              "      <td>2023</td>\n",
              "      <td>SE</td>\n",
              "      <td>FT</td>\n",
              "      <td>Data Architect</td>\n",
              "      <td>USD</td>\n",
              "      <td>376080</td>\n",
              "      <td>US</td>\n",
              "      <td>100</td>\n",
              "      <td>US</td>\n",
              "      <td>M</td>\n",
              "    </tr>\n",
              "    <tr>\n",
              "      <th>2374</th>\n",
              "      <td>2022</td>\n",
              "      <td>SE</td>\n",
              "      <td>FT</td>\n",
              "      <td>Data Scientist</td>\n",
              "      <td>USD</td>\n",
              "      <td>350000</td>\n",
              "      <td>US</td>\n",
              "      <td>100</td>\n",
              "      <td>US</td>\n",
              "      <td>M</td>\n",
              "    </tr>\n",
              "    <tr>\n",
              "      <th>2359</th>\n",
              "      <td>2022</td>\n",
              "      <td>SE</td>\n",
              "      <td>FT</td>\n",
              "      <td>Data Science Tech Lead</td>\n",
              "      <td>USD</td>\n",
              "      <td>375000</td>\n",
              "      <td>US</td>\n",
              "      <td>50</td>\n",
              "      <td>US</td>\n",
              "      <td>L</td>\n",
              "    </tr>\n",
              "    <tr>\n",
              "      <th>83</th>\n",
              "      <td>2022</td>\n",
              "      <td>EN</td>\n",
              "      <td>FT</td>\n",
              "      <td>AI Developer</td>\n",
              "      <td>USD</td>\n",
              "      <td>300000</td>\n",
              "      <td>IN</td>\n",
              "      <td>50</td>\n",
              "      <td>IN</td>\n",
              "      <td>L</td>\n",
              "    </tr>\n",
              "    <tr>\n",
              "      <th>1258</th>\n",
              "      <td>2022</td>\n",
              "      <td>SE</td>\n",
              "      <td>FT</td>\n",
              "      <td>Machine Learning Software Engineer</td>\n",
              "      <td>USD</td>\n",
              "      <td>375000</td>\n",
              "      <td>US</td>\n",
              "      <td>100</td>\n",
              "      <td>US</td>\n",
              "      <td>M</td>\n",
              "    </tr>\n",
              "    <tr>\n",
              "      <th>133</th>\n",
              "      <td>2023</td>\n",
              "      <td>SE</td>\n",
              "      <td>FT</td>\n",
              "      <td>Machine Learning Engineer</td>\n",
              "      <td>USD</td>\n",
              "      <td>342300</td>\n",
              "      <td>US</td>\n",
              "      <td>0</td>\n",
              "      <td>US</td>\n",
              "      <td>L</td>\n",
              "    </tr>\n",
              "    <tr>\n",
              "      <th>1311</th>\n",
              "      <td>2023</td>\n",
              "      <td>SE</td>\n",
              "      <td>FT</td>\n",
              "      <td>Research Scientist</td>\n",
              "      <td>USD</td>\n",
              "      <td>370000</td>\n",
              "      <td>US</td>\n",
              "      <td>0</td>\n",
              "      <td>US</td>\n",
              "      <td>M</td>\n",
              "    </tr>\n",
              "    <tr>\n",
              "      <th>845</th>\n",
              "      <td>2023</td>\n",
              "      <td>MI</td>\n",
              "      <td>FT</td>\n",
              "      <td>Research Scientist</td>\n",
              "      <td>USD</td>\n",
              "      <td>340000</td>\n",
              "      <td>US</td>\n",
              "      <td>100</td>\n",
              "      <td>US</td>\n",
              "      <td>M</td>\n",
              "    </tr>\n",
              "    <tr>\n",
              "      <th>2555</th>\n",
              "      <td>2022</td>\n",
              "      <td>SE</td>\n",
              "      <td>FT</td>\n",
              "      <td>Data Architect</td>\n",
              "      <td>USD</td>\n",
              "      <td>345600</td>\n",
              "      <td>US</td>\n",
              "      <td>0</td>\n",
              "      <td>US</td>\n",
              "      <td>M</td>\n",
              "    </tr>\n",
              "    <tr>\n",
              "      <th>1116</th>\n",
              "      <td>2023</td>\n",
              "      <td>SE</td>\n",
              "      <td>FT</td>\n",
              "      <td>Machine Learning Engineer</td>\n",
              "      <td>USD</td>\n",
              "      <td>323300</td>\n",
              "      <td>US</td>\n",
              "      <td>0</td>\n",
              "      <td>US</td>\n",
              "      <td>M</td>\n",
              "    </tr>\n",
              "    <tr>\n",
              "      <th>1722</th>\n",
              "      <td>2023</td>\n",
              "      <td>SE</td>\n",
              "      <td>FT</td>\n",
              "      <td>Data Engineer</td>\n",
              "      <td>USD</td>\n",
              "      <td>310000</td>\n",
              "      <td>US</td>\n",
              "      <td>0</td>\n",
              "      <td>US</td>\n",
              "      <td>M</td>\n",
              "    </tr>\n",
              "    <tr>\n",
              "      <th>3468</th>\n",
              "      <td>2022</td>\n",
              "      <td>SE</td>\n",
              "      <td>FT</td>\n",
              "      <td>Applied Data Scientist</td>\n",
              "      <td>USD</td>\n",
              "      <td>380000</td>\n",
              "      <td>US</td>\n",
              "      <td>100</td>\n",
              "      <td>US</td>\n",
              "      <td>L</td>\n",
              "    </tr>\n",
              "    <tr>\n",
              "      <th>488</th>\n",
              "      <td>2023</td>\n",
              "      <td>SE</td>\n",
              "      <td>FT</td>\n",
              "      <td>Data Scientist</td>\n",
              "      <td>USD</td>\n",
              "      <td>317070</td>\n",
              "      <td>US</td>\n",
              "      <td>0</td>\n",
              "      <td>US</td>\n",
              "      <td>M</td>\n",
              "    </tr>\n",
              "    <tr>\n",
              "      <th>2162</th>\n",
              "      <td>2022</td>\n",
              "      <td>SE</td>\n",
              "      <td>FT</td>\n",
              "      <td>Data Engineer</td>\n",
              "      <td>USD</td>\n",
              "      <td>300000</td>\n",
              "      <td>US</td>\n",
              "      <td>0</td>\n",
              "      <td>US</td>\n",
              "      <td>M</td>\n",
              "    </tr>\n",
              "  </tbody>\n",
              "</table>\n",
              "</div>\n",
              "    <div class=\"colab-df-buttons\">\n",
              "\n",
              "  <div class=\"colab-df-container\">\n",
              "    <button class=\"colab-df-convert\" onclick=\"convertToInteractive('df-132cfbcc-3989-4010-b654-b508c0799af4')\"\n",
              "            title=\"Convert this dataframe to an interactive table.\"\n",
              "            style=\"display:none;\">\n",
              "\n",
              "  <svg xmlns=\"http://www.w3.org/2000/svg\" height=\"24px\" viewBox=\"0 -960 960 960\">\n",
              "    <path d=\"M120-120v-720h720v720H120Zm60-500h600v-160H180v160Zm220 220h160v-160H400v160Zm0 220h160v-160H400v160ZM180-400h160v-160H180v160Zm440 0h160v-160H620v160ZM180-180h160v-160H180v160Zm440 0h160v-160H620v160Z\"/>\n",
              "  </svg>\n",
              "    </button>\n",
              "\n",
              "  <style>\n",
              "    .colab-df-container {\n",
              "      display:flex;\n",
              "      gap: 12px;\n",
              "    }\n",
              "\n",
              "    .colab-df-convert {\n",
              "      background-color: #E8F0FE;\n",
              "      border: none;\n",
              "      border-radius: 50%;\n",
              "      cursor: pointer;\n",
              "      display: none;\n",
              "      fill: #1967D2;\n",
              "      height: 32px;\n",
              "      padding: 0 0 0 0;\n",
              "      width: 32px;\n",
              "    }\n",
              "\n",
              "    .colab-df-convert:hover {\n",
              "      background-color: #E2EBFA;\n",
              "      box-shadow: 0px 1px 2px rgba(60, 64, 67, 0.3), 0px 1px 3px 1px rgba(60, 64, 67, 0.15);\n",
              "      fill: #174EA6;\n",
              "    }\n",
              "\n",
              "    .colab-df-buttons div {\n",
              "      margin-bottom: 4px;\n",
              "    }\n",
              "\n",
              "    [theme=dark] .colab-df-convert {\n",
              "      background-color: #3B4455;\n",
              "      fill: #D2E3FC;\n",
              "    }\n",
              "\n",
              "    [theme=dark] .colab-df-convert:hover {\n",
              "      background-color: #434B5C;\n",
              "      box-shadow: 0px 1px 3px 1px rgba(0, 0, 0, 0.15);\n",
              "      filter: drop-shadow(0px 1px 2px rgba(0, 0, 0, 0.3));\n",
              "      fill: #FFFFFF;\n",
              "    }\n",
              "  </style>\n",
              "\n",
              "    <script>\n",
              "      const buttonEl =\n",
              "        document.querySelector('#df-132cfbcc-3989-4010-b654-b508c0799af4 button.colab-df-convert');\n",
              "      buttonEl.style.display =\n",
              "        google.colab.kernel.accessAllowed ? 'block' : 'none';\n",
              "\n",
              "      async function convertToInteractive(key) {\n",
              "        const element = document.querySelector('#df-132cfbcc-3989-4010-b654-b508c0799af4');\n",
              "        const dataTable =\n",
              "          await google.colab.kernel.invokeFunction('convertToInteractive',\n",
              "                                                    [key], {});\n",
              "        if (!dataTable) return;\n",
              "\n",
              "        const docLinkHtml = 'Like what you see? Visit the ' +\n",
              "          '<a target=\"_blank\" href=https://colab.research.google.com/notebooks/data_table.ipynb>data table notebook</a>'\n",
              "          + ' to learn more about interactive tables.';\n",
              "        element.innerHTML = '';\n",
              "        dataTable['output_type'] = 'display_data';\n",
              "        await google.colab.output.renderOutput(dataTable, element);\n",
              "        const docLink = document.createElement('div');\n",
              "        docLink.innerHTML = docLinkHtml;\n",
              "        element.appendChild(docLink);\n",
              "      }\n",
              "    </script>\n",
              "  </div>\n",
              "\n",
              "\n",
              "<div id=\"df-fc6b65d9-de64-4a25-9ec0-7d137edff746\">\n",
              "  <button class=\"colab-df-quickchart\" onclick=\"quickchart('df-fc6b65d9-de64-4a25-9ec0-7d137edff746')\"\n",
              "            title=\"Suggest charts\"\n",
              "            style=\"display:none;\">\n",
              "\n",
              "<svg xmlns=\"http://www.w3.org/2000/svg\" height=\"24px\"viewBox=\"0 0 24 24\"\n",
              "     width=\"24px\">\n",
              "    <g>\n",
              "        <path d=\"M19 3H5c-1.1 0-2 .9-2 2v14c0 1.1.9 2 2 2h14c1.1 0 2-.9 2-2V5c0-1.1-.9-2-2-2zM9 17H7v-7h2v7zm4 0h-2V7h2v10zm4 0h-2v-4h2v4z\"/>\n",
              "    </g>\n",
              "</svg>\n",
              "  </button>\n",
              "\n",
              "<style>\n",
              "  .colab-df-quickchart {\n",
              "      --bg-color: #E8F0FE;\n",
              "      --fill-color: #1967D2;\n",
              "      --hover-bg-color: #E2EBFA;\n",
              "      --hover-fill-color: #174EA6;\n",
              "      --disabled-fill-color: #AAA;\n",
              "      --disabled-bg-color: #DDD;\n",
              "  }\n",
              "\n",
              "  [theme=dark] .colab-df-quickchart {\n",
              "      --bg-color: #3B4455;\n",
              "      --fill-color: #D2E3FC;\n",
              "      --hover-bg-color: #434B5C;\n",
              "      --hover-fill-color: #FFFFFF;\n",
              "      --disabled-bg-color: #3B4455;\n",
              "      --disabled-fill-color: #666;\n",
              "  }\n",
              "\n",
              "  .colab-df-quickchart {\n",
              "    background-color: var(--bg-color);\n",
              "    border: none;\n",
              "    border-radius: 50%;\n",
              "    cursor: pointer;\n",
              "    display: none;\n",
              "    fill: var(--fill-color);\n",
              "    height: 32px;\n",
              "    padding: 0;\n",
              "    width: 32px;\n",
              "  }\n",
              "\n",
              "  .colab-df-quickchart:hover {\n",
              "    background-color: var(--hover-bg-color);\n",
              "    box-shadow: 0 1px 2px rgba(60, 64, 67, 0.3), 0 1px 3px 1px rgba(60, 64, 67, 0.15);\n",
              "    fill: var(--button-hover-fill-color);\n",
              "  }\n",
              "\n",
              "  .colab-df-quickchart-complete:disabled,\n",
              "  .colab-df-quickchart-complete:disabled:hover {\n",
              "    background-color: var(--disabled-bg-color);\n",
              "    fill: var(--disabled-fill-color);\n",
              "    box-shadow: none;\n",
              "  }\n",
              "\n",
              "  .colab-df-spinner {\n",
              "    border: 2px solid var(--fill-color);\n",
              "    border-color: transparent;\n",
              "    border-bottom-color: var(--fill-color);\n",
              "    animation:\n",
              "      spin 1s steps(1) infinite;\n",
              "  }\n",
              "\n",
              "  @keyframes spin {\n",
              "    0% {\n",
              "      border-color: transparent;\n",
              "      border-bottom-color: var(--fill-color);\n",
              "      border-left-color: var(--fill-color);\n",
              "    }\n",
              "    20% {\n",
              "      border-color: transparent;\n",
              "      border-left-color: var(--fill-color);\n",
              "      border-top-color: var(--fill-color);\n",
              "    }\n",
              "    30% {\n",
              "      border-color: transparent;\n",
              "      border-left-color: var(--fill-color);\n",
              "      border-top-color: var(--fill-color);\n",
              "      border-right-color: var(--fill-color);\n",
              "    }\n",
              "    40% {\n",
              "      border-color: transparent;\n",
              "      border-right-color: var(--fill-color);\n",
              "      border-top-color: var(--fill-color);\n",
              "    }\n",
              "    60% {\n",
              "      border-color: transparent;\n",
              "      border-right-color: var(--fill-color);\n",
              "    }\n",
              "    80% {\n",
              "      border-color: transparent;\n",
              "      border-right-color: var(--fill-color);\n",
              "      border-bottom-color: var(--fill-color);\n",
              "    }\n",
              "    90% {\n",
              "      border-color: transparent;\n",
              "      border-bottom-color: var(--fill-color);\n",
              "    }\n",
              "  }\n",
              "</style>\n",
              "\n",
              "  <script>\n",
              "    async function quickchart(key) {\n",
              "      const quickchartButtonEl =\n",
              "        document.querySelector('#' + key + ' button');\n",
              "      quickchartButtonEl.disabled = true;  // To prevent multiple clicks.\n",
              "      quickchartButtonEl.classList.add('colab-df-spinner');\n",
              "      try {\n",
              "        const charts = await google.colab.kernel.invokeFunction(\n",
              "            'suggestCharts', [key], {});\n",
              "      } catch (error) {\n",
              "        console.error('Error during call to suggestCharts:', error);\n",
              "      }\n",
              "      quickchartButtonEl.classList.remove('colab-df-spinner');\n",
              "      quickchartButtonEl.classList.add('colab-df-quickchart-complete');\n",
              "    }\n",
              "    (() => {\n",
              "      let quickchartButtonEl =\n",
              "        document.querySelector('#df-fc6b65d9-de64-4a25-9ec0-7d137edff746 button');\n",
              "      quickchartButtonEl.style.display =\n",
              "        google.colab.kernel.accessAllowed ? 'block' : 'none';\n",
              "    })();\n",
              "  </script>\n",
              "</div>\n",
              "    </div>\n",
              "  </div>\n"
            ],
            "application/vnd.google.colaboratory.intrinsic+json": {
              "type": "dataframe",
              "variable_name": "big_error_samples",
              "summary": "{\n  \"name\": \"big_error_samples\",\n  \"rows\": 20,\n  \"fields\": [\n    {\n      \"column\": \"work_year\",\n      \"properties\": {\n        \"dtype\": \"number\",\n        \"std\": 0,\n        \"min\": 2020,\n        \"max\": 2023,\n        \"num_unique_values\": 4,\n        \"samples\": [\n          2021,\n          2022,\n          2023\n        ],\n        \"semantic_type\": \"\",\n        \"description\": \"\"\n      }\n    },\n    {\n      \"column\": \"experience_level\",\n      \"properties\": {\n        \"dtype\": \"category\",\n        \"num_unique_values\": 3,\n        \"samples\": [\n          \"SE\",\n          \"MI\",\n          \"EN\"\n        ],\n        \"semantic_type\": \"\",\n        \"description\": \"\"\n      }\n    },\n    {\n      \"column\": \"employment_type\",\n      \"properties\": {\n        \"dtype\": \"category\",\n        \"num_unique_values\": 1,\n        \"samples\": [\n          \"FT\"\n        ],\n        \"semantic_type\": \"\",\n        \"description\": \"\"\n      }\n    },\n    {\n      \"column\": \"job_title\",\n      \"properties\": {\n        \"dtype\": \"string\",\n        \"num_unique_values\": 12,\n        \"samples\": [\n          \"Data Engineer\"\n        ],\n        \"semantic_type\": \"\",\n        \"description\": \"\"\n      }\n    },\n    {\n      \"column\": \"salary_currency\",\n      \"properties\": {\n        \"dtype\": \"category\",\n        \"num_unique_values\": 2,\n        \"samples\": [\n          \"USD\"\n        ],\n        \"semantic_type\": \"\",\n        \"description\": \"\"\n      }\n    },\n    {\n      \"column\": \"salary_in_usd\",\n      \"properties\": {\n        \"dtype\": \"number\",\n        \"std\": 43348,\n        \"min\": 300000,\n        \"max\": 450000,\n        \"num_unique_values\": 17,\n        \"samples\": [\n          423834\n        ],\n        \"semantic_type\": \"\",\n        \"description\": \"\"\n      }\n    },\n    {\n      \"column\": \"employee_residence\",\n      \"properties\": {\n        \"dtype\": \"category\",\n        \"num_unique_values\": 3,\n        \"samples\": [\n          \"IL\"\n        ],\n        \"semantic_type\": \"\",\n        \"description\": \"\"\n      }\n    },\n    {\n      \"column\": \"remote_ratio\",\n      \"properties\": {\n        \"dtype\": \"number\",\n        \"std\": 46,\n        \"min\": 0,\n        \"max\": 100,\n        \"num_unique_values\": 3,\n        \"samples\": [\n          0\n        ],\n        \"semantic_type\": \"\",\n        \"description\": \"\"\n      }\n    },\n    {\n      \"column\": \"company_location\",\n      \"properties\": {\n        \"dtype\": \"category\",\n        \"num_unique_values\": 3,\n        \"samples\": [\n          \"IL\"\n        ],\n        \"semantic_type\": \"\",\n        \"description\": \"\"\n      }\n    },\n    {\n      \"column\": \"company_size\",\n      \"properties\": {\n        \"dtype\": \"category\",\n        \"num_unique_values\": 2,\n        \"samples\": [\n          \"M\"\n        ],\n        \"semantic_type\": \"\",\n        \"description\": \"\"\n      }\n    }\n  ]\n}"
            }
          },
          "metadata": {},
          "execution_count": 29
        }
      ],
      "source": [
        "big_error_samples = df.loc[[e[1] for e in sorted(zip(abs(model.predict(Xtrain) - ytrain), Xtrain.index), reverse=True)[:20]]]\n",
        "big_error_samples"
      ]
    },
    {
      "cell_type": "code",
      "execution_count": 30,
      "id": "02fb6379",
      "metadata": {
        "id": "02fb6379",
        "outputId": "ffde8080-e1f0-4ae4-a416-9d6bdffb1734",
        "colab": {
          "base_uri": "https://localhost:8080/",
          "height": 472
        }
      },
      "outputs": [
        {
          "output_type": "display_data",
          "data": {
            "text/plain": [
              "<Figure size 640x480 with 1 Axes>"
            ],
            "image/png": "[encoded data removed]"
          },
          "metadata": {}
        }
      ],
      "source": [
        "fig, ax = plt.subplots()\n",
        "\n",
        "sns.histplot(ytrain, zorder=2, ax=ax, alpha=1)\n",
        "\n",
        "plt.title('Target distribution in Xtrain')\n",
        "plt.grid(True, axis='y', linestyle='-', zorder=1)\n",
        "\n",
        "plt.show()"
      ]
    },
    {
      "cell_type": "markdown",
      "id": "AHl7Emrg8Tfj",
      "metadata": {
        "id": "AHl7Emrg8Tfj"
      },
      "source": [
        "`Высокая ошибка, судя по всему, связана с аномальными значением зарплаты, преимущественно, для сеньеров (>300k $). Удалять такие данные не надо, поскольку такие зарплаты действительно могут существовать.`"
      ]
    },
    {
      "cell_type": "code",
      "execution_count": 31,
      "id": "907c5a91",
      "metadata": {
        "id": "907c5a91",
        "outputId": "1e5ff465-5465-45bb-ca2a-4f11e9a92f01",
        "colab": {
          "base_uri": "https://localhost:8080/",
          "height": 241
        }
      },
      "outputs": [
        {
          "output_type": "execute_result",
          "data": {
            "text/plain": [
              "experience_level\n",
              "SE    1240\n",
              "MI     536\n",
              "EN     213\n",
              "EX      78\n",
              "Name: count, dtype: int64"
            ],
            "text/html": [
              "<div>\n",
              "<style scoped>\n",
              "    .dataframe tbody tr th:only-of-type {\n",
              "        vertical-align: middle;\n",
              "    }\n",
              "\n",
              "    .dataframe tbody tr th {\n",
              "        vertical-align: top;\n",
              "    }\n",
              "\n",
              "    .dataframe thead th {\n",
              "        text-align: right;\n",
              "    }\n",
              "</style>\n",
              "<table border=\"1\" class=\"dataframe\">\n",
              "  <thead>\n",
              "    <tr style=\"text-align: right;\">\n",
              "      <th></th>\n",
              "      <th>count</th>\n",
              "    </tr>\n",
              "    <tr>\n",
              "      <th>experience_level</th>\n",
              "      <th></th>\n",
              "    </tr>\n",
              "  </thead>\n",
              "  <tbody>\n",
              "    <tr>\n",
              "      <th>SE</th>\n",
              "      <td>1240</td>\n",
              "    </tr>\n",
              "    <tr>\n",
              "      <th>MI</th>\n",
              "      <td>536</td>\n",
              "    </tr>\n",
              "    <tr>\n",
              "      <th>EN</th>\n",
              "      <td>213</td>\n",
              "    </tr>\n",
              "    <tr>\n",
              "      <th>EX</th>\n",
              "      <td>78</td>\n",
              "    </tr>\n",
              "  </tbody>\n",
              "</table>\n",
              "</div><br><label><b>dtype:</b> int64</label>"
            ]
          },
          "metadata": {},
          "execution_count": 31
        }
      ],
      "source": [
        "Xtrain['experience_level'].value_counts()"
      ]
    },
    {
      "cell_type": "markdown",
      "id": "8dd0825e",
      "metadata": {
        "id": "8dd0825e"
      },
      "source": [
        "`Интересно, что в датасете в принципе большинство позиций являются сеньерскими.`"
      ]
    },
    {
      "cell_type": "markdown",
      "id": "9c589ed0",
      "metadata": {
        "id": "9c589ed0"
      },
      "source": [
        "`Средняя зарплата позиций с аномальными значениями зарплаты:`"
      ]
    },
    {
      "cell_type": "code",
      "execution_count": 32,
      "id": "91157546",
      "metadata": {
        "id": "91157546",
        "outputId": "4658b423-6501-4a5e-ba8d-8bfa3fe9e397",
        "colab": {
          "base_uri": "https://localhost:8080/",
          "height": 649
        }
      },
      "outputs": [
        {
          "output_type": "execute_result",
          "data": {
            "text/plain": [
              "job_title\n",
              "AI Scientist                          423834.000000\n",
              "Applied Data Scientist                380000.000000\n",
              "Applied Machine Learning Scientist    423000.000000\n",
              "Applied Scientist                     329700.000000\n",
              "Computer Vision Engineer              342810.000000\n",
              "Data Analytics Lead                   405000.000000\n",
              "Data Architect                        360840.000000\n",
              "Data Engineer                         313500.000000\n",
              "Data Science Tech Lead                375000.000000\n",
              "Data Scientist                        349862.000000\n",
              "Director of Data Science              339100.000000\n",
              "Head of Data                          329500.000000\n",
              "Head of Data Science                  314100.000000\n",
              "Machine Learning Engineer             321975.000000\n",
              "Machine Learning Software Engineer    375000.000000\n",
              "Principal Data Scientist              416000.000000\n",
              "Research Scientist                    386666.666667\n",
              "Name: salary_in_usd, dtype: float64"
            ],
            "text/html": [
              "<div>\n",
              "<style scoped>\n",
              "    .dataframe tbody tr th:only-of-type {\n",
              "        vertical-align: middle;\n",
              "    }\n",
              "\n",
              "    .dataframe tbody tr th {\n",
              "        vertical-align: top;\n",
              "    }\n",
              "\n",
              "    .dataframe thead th {\n",
              "        text-align: right;\n",
              "    }\n",
              "</style>\n",
              "<table border=\"1\" class=\"dataframe\">\n",
              "  <thead>\n",
              "    <tr style=\"text-align: right;\">\n",
              "      <th></th>\n",
              "      <th>salary_in_usd</th>\n",
              "    </tr>\n",
              "    <tr>\n",
              "      <th>job_title</th>\n",
              "      <th></th>\n",
              "    </tr>\n",
              "  </thead>\n",
              "  <tbody>\n",
              "    <tr>\n",
              "      <th>AI Scientist</th>\n",
              "      <td>423834.000000</td>\n",
              "    </tr>\n",
              "    <tr>\n",
              "      <th>Applied Data Scientist</th>\n",
              "      <td>380000.000000</td>\n",
              "    </tr>\n",
              "    <tr>\n",
              "      <th>Applied Machine Learning Scientist</th>\n",
              "      <td>423000.000000</td>\n",
              "    </tr>\n",
              "    <tr>\n",
              "      <th>Applied Scientist</th>\n",
              "      <td>329700.000000</td>\n",
              "    </tr>\n",
              "    <tr>\n",
              "      <th>Computer Vision Engineer</th>\n",
              "      <td>342810.000000</td>\n",
              "    </tr>\n",
              "    <tr>\n",
              "      <th>Data Analytics Lead</th>\n",
              "      <td>405000.000000</td>\n",
              "    </tr>\n",
              "    <tr>\n",
              "      <th>Data Architect</th>\n",
              "      <td>360840.000000</td>\n",
              "    </tr>\n",
              "    <tr>\n",
              "      <th>Data Engineer</th>\n",
              "      <td>313500.000000</td>\n",
              "    </tr>\n",
              "    <tr>\n",
              "      <th>Data Science Tech Lead</th>\n",
              "      <td>375000.000000</td>\n",
              "    </tr>\n",
              "    <tr>\n",
              "      <th>Data Scientist</th>\n",
              "      <td>349862.000000</td>\n",
              "    </tr>\n",
              "    <tr>\n",
              "      <th>Director of Data Science</th>\n",
              "      <td>339100.000000</td>\n",
              "    </tr>\n",
              "    <tr>\n",
              "      <th>Head of Data</th>\n",
              "      <td>329500.000000</td>\n",
              "    </tr>\n",
              "    <tr>\n",
              "      <th>Head of Data Science</th>\n",
              "      <td>314100.000000</td>\n",
              "    </tr>\n",
              "    <tr>\n",
              "      <th>Machine Learning Engineer</th>\n",
              "      <td>321975.000000</td>\n",
              "    </tr>\n",
              "    <tr>\n",
              "      <th>Machine Learning Software Engineer</th>\n",
              "      <td>375000.000000</td>\n",
              "    </tr>\n",
              "    <tr>\n",
              "      <th>Principal Data Scientist</th>\n",
              "      <td>416000.000000</td>\n",
              "    </tr>\n",
              "    <tr>\n",
              "      <th>Research Scientist</th>\n",
              "      <td>386666.666667</td>\n",
              "    </tr>\n",
              "  </tbody>\n",
              "</table>\n",
              "</div><br><label><b>dtype:</b> float64</label>"
            ]
          },
          "metadata": {},
          "execution_count": 32
        }
      ],
      "source": [
        "df.loc[ytrain[ytrain > 300000].index].groupby('job_title')['salary_in_usd'].mean()"
      ]
    },
    {
      "cell_type": "markdown",
      "id": "d7b57910",
      "metadata": {
        "id": "d7b57910"
      },
      "source": [
        "`Для улучшения модели можно добавить дополнительный признак-индикатор для высооплачиваемых вакансий.`"
      ]
    },
    {
      "cell_type": "markdown",
      "id": "0bb42f2e",
      "metadata": {
        "id": "0bb42f2e"
      },
      "source": [
        "## **Задание 11 (0.5 балла)**\n",
        "\n",
        "Придумайте признаки для улучшения качества модели на основе предыдущего пункта. Как вам кажется какими признаками можно улучшить качетсво модели? Реализуйте признаки и проверьте улучшилось ли качество модели.\n",
        "\n",
        "**Примечание:**\n",
        "Полный балл за задание ставится даже при отсутствии улучшения качества модели, важно попробовать проверить свои гипотезы и сделать выводы."
      ]
    },
    {
      "cell_type": "markdown",
      "id": "1e911b5f",
      "metadata": {
        "id": "1e911b5f"
      },
      "source": [
        "`Реализуем идею из предыдущего пункта.`"
      ]
    },
    {
      "cell_type": "markdown",
      "id": "c8bcf88a",
      "metadata": {
        "id": "c8bcf88a"
      },
      "source": [
        "`Название вакансий с высокой зарплатой:`"
      ]
    },
    {
      "cell_type": "code",
      "execution_count": 33,
      "id": "446bd99a",
      "metadata": {
        "id": "446bd99a",
        "outputId": "196ab259-0c30-4e37-ef9f-32bba8025c58",
        "colab": {
          "base_uri": "https://localhost:8080/"
        }
      },
      "outputs": [
        {
          "output_type": "execute_result",
          "data": {
            "text/plain": [
              "array(['Machine Learning Software Engineer', 'Applied Scientist',\n",
              "       'Data Architect', 'Data Scientist', 'AI Scientist',\n",
              "       'Data Engineer', 'Machine Learning Engineer', 'Head of Data',\n",
              "       'Research Scientist', 'Applied Data Scientist',\n",
              "       'Principal Data Scientist', 'Data Science Tech Lead',\n",
              "       'Head of Data Science', 'Computer Vision Engineer',\n",
              "       'Applied Machine Learning Scientist', 'Director of Data Science',\n",
              "       'Data Analytics Lead'], dtype=object)"
            ]
          },
          "metadata": {},
          "execution_count": 33
        }
      ],
      "source": [
        "high_salary_jobs = df.loc[ytrain[ytrain > 300000].index]['job_title'].unique()\n",
        "high_salary_jobs"
      ]
    },
    {
      "cell_type": "code",
      "execution_count": 34,
      "id": "3c52b0b2",
      "metadata": {
        "id": "3c52b0b2"
      },
      "outputs": [],
      "source": [
        "def high_salary_job(X):\n",
        "    \"\"\"\n",
        "    Добавляет столбец high_salary_jobs, который равен 1, если job_title входит в список high_salary_jobs, иначе 0.\n",
        "    \"\"\"\n",
        "    X_copy = X.copy()\n",
        "    high_salary_jobs = ['Machine Learning Software Engineer', 'Applied Scientist',\n",
        "       'Data Architect', 'Data Scientist', 'AI Scientist',\n",
        "       'Data Engineer', 'Machine Learning Engineer', 'Head of Data',\n",
        "       'Research Scientist', 'Applied Data Scientist',\n",
        "       'Principal Data Scientist', 'Data Science Tech Lead',\n",
        "       'Head of Data Science', 'Computer Vision Engineer',\n",
        "       'Applied Machine Learning Scientist', 'Director of Data Science',\n",
        "       'Data Analytics Lead']\n",
        "    X_copy['high_salary_jobs'] = X_copy['job_title'].apply(lambda x: 1 if x in high_salary_jobs else 0)\n",
        "    return X_copy\n",
        "\n",
        "high_salary_transformer = FunctionTransformer(high_salary_job)"
      ]
    },
    {
      "cell_type": "code",
      "execution_count": 35,
      "id": "cf5bc25e",
      "metadata": {
        "id": "cf5bc25e",
        "outputId": "dafd3c78-c80a-41a2-b7d7-d9bdc6a82c3e",
        "colab": {
          "base_uri": "https://localhost:8080/"
        }
      },
      "outputs": [
        {
          "output_type": "stream",
          "name": "stdout",
          "text": [
            "[LightGBM] [Info] Auto-choosing row-wise multi-threading, the overhead of testing was 0.066087 seconds.\n",
            "You can set `force_row_wise=true` to remove the overhead.\n",
            "And if memory is not enough, you can set `force_col_wise=true`.\n",
            "[LightGBM] [Info] Total Bins 42361\n",
            "[LightGBM] [Info] Number of data points in the train set: 2067, number of used features: 6164\n",
            "[LightGBM] [Info] Start training from score 133570.320271\n",
            "MAPE: 0.388\n",
            "RMSE: 51346.16983001252\n"
          ]
        }
      ],
      "source": [
        "lgbm_nf_te = Pipeline([\n",
        "    ('high_salary_transformer', high_salary_transformer),\n",
        "    ('column_transformer', ct_te),\n",
        "    ('model', LGBMRegressor(random_state=42))\n",
        "])\n",
        "\n",
        "lgbm_nf_te.fit(Xtrain, ytrain)\n",
        "\n",
        "print_metrics(ytest, lgbm_nf_te.predict(Xtest))"
      ]
    },
    {
      "cell_type": "markdown",
      "id": "RLhwEaZS8oHr",
      "metadata": {
        "id": "RLhwEaZS8oHr"
      },
      "source": [
        "`Качество немного улучшилось!`"
      ]
    },
    {
      "cell_type": "markdown",
      "id": "3578292c",
      "metadata": {
        "id": "3578292c"
      },
      "source": [
        "## **Задание 12 (1 балл)**\n",
        "\n",
        "Поупражняемся с разными бустингами!\n",
        "\n",
        "- Используйте catboost.\n",
        "- Обучите модель — на полном наборе данных с категориальными признаками.\n",
        "- Подберите оптимальные гиперпараметры.\n",
        "- Оцените качество итоговой модели, скорость обучения и скорость предсказания.\n",
        "\n",
        "\n",
        "**Примечание:**\n",
        "Замерять скорость = смотреть, как долго исполняется код."
      ]
    },
    {
      "cell_type": "code",
      "source": [
        "Xtrain_new, Xval, ytrain_new, yval = train_test_split(high_salary_transformer.transform(Xtrain),\n",
        "                                                      ytrain,\n",
        "                                                      test_size=0.2,\n",
        "                                                      random_state=42)"
      ],
      "metadata": {
        "id": "hiv5CsSRmHUe"
      },
      "id": "hiv5CsSRmHUe",
      "execution_count": 66,
      "outputs": []
    },
    {
      "cell_type": "markdown",
      "source": [
        "`Методика:` [ссылка](https://github.com/optuna/optuna-examples/blob/main/catboost/catboost_pruning.py)"
      ],
      "metadata": {
        "id": "SYeWbZOU1ua1"
      },
      "id": "SYeWbZOU1ua1"
    },
    {
      "cell_type": "markdown",
      "source": [
        "`Сначала подберем оптимальное количество итераций.`"
      ],
      "metadata": {
        "id": "1sYk21GxoqVi"
      },
      "id": "1sYk21GxoqVi"
    },
    {
      "cell_type": "code",
      "source": [
        "model = CatBoostRegressor(\n",
        "    cat_features=list(categorical),\n",
        "    random_seed=42,\n",
        "    iterations=2000,\n",
        "    od_type='IncToDec',\n",
        "    od_wait=50,\n",
        "    od_pval=0.01,\n",
        "    use_best_model=True,\n",
        "    eval_metric='RMSE',\n",
        "    logging_level='Verbose'\n",
        ")\n",
        "\n",
        "model.fit(\n",
        "    Xtrain_new, ytrain_new,\n",
        "    eval_set=[(Xval, yval)],\n",
        ")"
      ],
      "metadata": {
        "colab": {
          "base_uri": "https://localhost:8080/"
        },
        "id": "R81GkTcDpkmJ",
        "outputId": "2c8c7a17-d116-4f5a-ca73-9b08d2f12abb"
      },
      "id": "R81GkTcDpkmJ",
      "execution_count": 65,
      "outputs": [
        {
          "output_type": "stream",
          "name": "stdout",
          "text": [
            "Learning rate set to 0.036102\n",
            "0:\tlearn: 67093.1526956\ttest: 65132.7658064\tbest: 65132.7658064 (0)\ttotal: 18ms\tremaining: 36s\n",
            "1:\tlearn: 66357.0734243\ttest: 64389.2421459\tbest: 64389.2421459 (1)\ttotal: 32.7ms\tremaining: 32.7s\n",
            "2:\tlearn: 65757.8097421\ttest: 63714.5343092\tbest: 63714.5343092 (2)\ttotal: 50.1ms\tremaining: 33.4s\n",
            "3:\tlearn: 65108.3091531\ttest: 63043.7794657\tbest: 63043.7794657 (3)\ttotal: 61.8ms\tremaining: 30.8s\n",
            "4:\tlearn: 64443.1876182\ttest: 62380.1732751\tbest: 62380.1732751 (4)\ttotal: 78.6ms\tremaining: 31.3s\n",
            "5:\tlearn: 63843.7161447\ttest: 61762.3440263\tbest: 61762.3440263 (5)\ttotal: 101ms\tremaining: 33.5s\n",
            "6:\tlearn: 63311.5894254\ttest: 61236.0948667\tbest: 61236.0948667 (6)\ttotal: 109ms\tremaining: 31s\n",
            "7:\tlearn: 62749.9445931\ttest: 60748.5878215\tbest: 60748.5878215 (7)\ttotal: 128ms\tremaining: 31.8s\n",
            "8:\tlearn: 62390.4227269\ttest: 60436.3074265\tbest: 60436.3074265 (8)\ttotal: 129ms\tremaining: 28.6s\n",
            "9:\tlearn: 61937.2050967\ttest: 60006.4318105\tbest: 60006.4318105 (9)\ttotal: 135ms\tremaining: 26.9s\n",
            "10:\tlearn: 61487.5113620\ttest: 59555.1136609\tbest: 59555.1136609 (10)\ttotal: 139ms\tremaining: 25.2s\n",
            "11:\tlearn: 61146.2054523\ttest: 59180.0967492\tbest: 59180.0967492 (11)\ttotal: 142ms\tremaining: 23.5s\n",
            "12:\tlearn: 60703.9346122\ttest: 58801.3183121\tbest: 58801.3183121 (12)\ttotal: 149ms\tremaining: 22.7s\n",
            "13:\tlearn: 60369.9807733\ttest: 58434.7577492\tbest: 58434.7577492 (13)\ttotal: 155ms\tremaining: 22s\n",
            "14:\tlearn: 59981.3014949\ttest: 58064.6750189\tbest: 58064.6750189 (14)\ttotal: 168ms\tremaining: 22.2s\n",
            "15:\tlearn: 59624.9447963\ttest: 57720.6252001\tbest: 57720.6252001 (15)\ttotal: 189ms\tremaining: 23.4s\n",
            "16:\tlearn: 59207.0528495\ttest: 57357.1735885\tbest: 57357.1735885 (16)\ttotal: 210ms\tremaining: 24.5s\n",
            "17:\tlearn: 58844.6939318\ttest: 56951.0292023\tbest: 56951.0292023 (17)\ttotal: 233ms\tremaining: 25.6s\n",
            "18:\tlearn: 58505.1673770\ttest: 56540.3152042\tbest: 56540.3152042 (18)\ttotal: 245ms\tremaining: 25.5s\n",
            "19:\tlearn: 58157.6304840\ttest: 56186.6220683\tbest: 56186.6220683 (19)\ttotal: 266ms\tremaining: 26.3s\n",
            "20:\tlearn: 57861.9270877\ttest: 55867.4830362\tbest: 55867.4830362 (20)\ttotal: 282ms\tremaining: 26.6s\n",
            "21:\tlearn: 57630.5229452\ttest: 55616.8754436\tbest: 55616.8754436 (21)\ttotal: 288ms\tremaining: 25.9s\n",
            "22:\tlearn: 57334.4913221\ttest: 55339.1084414\tbest: 55339.1084414 (22)\ttotal: 300ms\tremaining: 25.8s\n",
            "23:\tlearn: 57059.3911738\ttest: 55060.6861402\tbest: 55060.6861402 (23)\ttotal: 309ms\tremaining: 25.4s\n",
            "24:\tlearn: 56755.2062052\ttest: 54753.2429137\tbest: 54753.2429137 (24)\ttotal: 320ms\tremaining: 25.3s\n",
            "25:\tlearn: 56489.4838279\ttest: 54475.9274999\tbest: 54475.9274999 (25)\ttotal: 336ms\tremaining: 25.5s\n",
            "26:\tlearn: 56201.6420880\ttest: 54176.3106449\tbest: 54176.3106449 (26)\ttotal: 343ms\tremaining: 25.1s\n",
            "27:\tlearn: 55939.5949024\ttest: 53898.7828661\tbest: 53898.7828661 (27)\ttotal: 348ms\tremaining: 24.5s\n",
            "28:\tlearn: 55679.1518353\ttest: 53634.4735676\tbest: 53634.4735676 (28)\ttotal: 355ms\tremaining: 24.1s\n",
            "29:\tlearn: 55446.9991066\ttest: 53396.9622513\tbest: 53396.9622513 (29)\ttotal: 373ms\tremaining: 24.5s\n",
            "30:\tlearn: 55181.6872691\ttest: 53190.7475010\tbest: 53190.7475010 (30)\ttotal: 388ms\tremaining: 24.6s\n",
            "31:\tlearn: 54948.5559220\ttest: 52971.2928576\tbest: 52971.2928576 (31)\ttotal: 402ms\tremaining: 24.7s\n",
            "32:\tlearn: 54698.9610895\ttest: 52765.2559819\tbest: 52765.2559819 (32)\ttotal: 410ms\tremaining: 24.4s\n",
            "33:\tlearn: 54518.9245563\ttest: 52599.2295022\tbest: 52599.2295022 (33)\ttotal: 415ms\tremaining: 24s\n",
            "34:\tlearn: 54287.9441596\ttest: 52406.6836440\tbest: 52406.6836440 (34)\ttotal: 420ms\tremaining: 23.6s\n",
            "35:\tlearn: 54119.8169901\ttest: 52223.1440475\tbest: 52223.1440475 (35)\ttotal: 425ms\tremaining: 23.2s\n",
            "36:\tlearn: 53922.2956420\ttest: 52066.5567191\tbest: 52066.5567191 (36)\ttotal: 431ms\tremaining: 22.9s\n",
            "37:\tlearn: 53757.0368119\ttest: 51916.8846967\tbest: 51916.8846967 (37)\ttotal: 437ms\tremaining: 22.5s\n",
            "38:\tlearn: 53525.8821977\ttest: 51742.4466893\tbest: 51742.4466893 (38)\ttotal: 452ms\tremaining: 22.7s\n",
            "39:\tlearn: 53385.6269008\ttest: 51619.6545959\tbest: 51619.6545959 (39)\ttotal: 455ms\tremaining: 22.3s\n",
            "40:\tlearn: 53166.1628464\ttest: 51479.2672841\tbest: 51479.2672841 (40)\ttotal: 464ms\tremaining: 22.2s\n",
            "41:\tlearn: 53007.2286165\ttest: 51366.2919847\tbest: 51366.2919847 (41)\ttotal: 486ms\tremaining: 22.7s\n",
            "42:\tlearn: 52882.9020332\ttest: 51273.1212037\tbest: 51273.1212037 (42)\ttotal: 495ms\tremaining: 22.6s\n",
            "43:\tlearn: 52741.9767476\ttest: 51171.8408108\tbest: 51171.8408108 (43)\ttotal: 505ms\tremaining: 22.4s\n",
            "44:\tlearn: 52597.7147150\ttest: 51091.8303472\tbest: 51091.8303472 (44)\ttotal: 510ms\tremaining: 22.2s\n",
            "45:\tlearn: 52437.0071225\ttest: 50952.9708636\tbest: 50952.9708636 (45)\ttotal: 515ms\tremaining: 21.9s\n",
            "46:\tlearn: 52315.3885666\ttest: 50873.9603611\tbest: 50873.9603611 (46)\ttotal: 521ms\tremaining: 21.7s\n",
            "47:\tlearn: 52183.1532843\ttest: 50757.9980637\tbest: 50757.9980637 (47)\ttotal: 533ms\tremaining: 21.7s\n",
            "48:\tlearn: 52025.9184448\ttest: 50623.5126946\tbest: 50623.5126946 (48)\ttotal: 548ms\tremaining: 21.8s\n",
            "49:\tlearn: 51945.2185630\ttest: 50549.4173377\tbest: 50549.4173377 (49)\ttotal: 565ms\tremaining: 22.1s\n",
            "50:\tlearn: 51831.9722391\ttest: 50451.5340757\tbest: 50451.5340757 (50)\ttotal: 595ms\tremaining: 22.7s\n",
            "51:\tlearn: 51706.8608067\ttest: 50356.8299684\tbest: 50356.8299684 (51)\ttotal: 621ms\tremaining: 23.3s\n",
            "52:\tlearn: 51595.2565482\ttest: 50290.4295239\tbest: 50290.4295239 (52)\ttotal: 627ms\tremaining: 23s\n",
            "53:\tlearn: 51459.6896665\ttest: 50242.4233739\tbest: 50242.4233739 (53)\ttotal: 638ms\tremaining: 23s\n",
            "54:\tlearn: 51362.6585711\ttest: 50167.6365927\tbest: 50167.6365927 (54)\ttotal: 644ms\tremaining: 22.8s\n",
            "55:\tlearn: 51235.6038512\ttest: 50084.0376066\tbest: 50084.0376066 (55)\ttotal: 649ms\tremaining: 22.5s\n",
            "56:\tlearn: 51093.2377926\ttest: 50008.5970150\tbest: 50008.5970150 (56)\ttotal: 655ms\tremaining: 22.3s\n",
            "57:\tlearn: 51000.3895342\ttest: 49946.5079434\tbest: 49946.5079434 (57)\ttotal: 661ms\tremaining: 22.1s\n",
            "58:\tlearn: 50917.4596208\ttest: 49882.5553165\tbest: 49882.5553165 (58)\ttotal: 666ms\tremaining: 21.9s\n",
            "59:\tlearn: 50844.0832968\ttest: 49817.8746681\tbest: 49817.8746681 (59)\ttotal: 671ms\tremaining: 21.7s\n",
            "60:\tlearn: 50764.8847785\ttest: 49770.5643772\tbest: 49770.5643772 (60)\ttotal: 678ms\tremaining: 21.5s\n",
            "61:\tlearn: 50645.5698104\ttest: 49709.1225241\tbest: 49709.1225241 (61)\ttotal: 697ms\tremaining: 21.8s\n",
            "62:\tlearn: 50513.9340714\ttest: 49652.1904321\tbest: 49652.1904321 (62)\ttotal: 704ms\tremaining: 21.7s\n",
            "63:\tlearn: 50415.4636557\ttest: 49612.4381622\tbest: 49612.4381622 (63)\ttotal: 717ms\tremaining: 21.7s\n",
            "64:\tlearn: 50347.1171744\ttest: 49538.8226350\tbest: 49538.8226350 (64)\ttotal: 736ms\tremaining: 21.9s\n",
            "65:\tlearn: 50321.3250822\ttest: 49508.5149641\tbest: 49508.5149641 (65)\ttotal: 737ms\tremaining: 21.6s\n",
            "66:\tlearn: 50236.0591062\ttest: 49482.6012079\tbest: 49482.6012079 (66)\ttotal: 741ms\tremaining: 21.4s\n",
            "67:\tlearn: 50171.4617969\ttest: 49447.4715209\tbest: 49447.4715209 (67)\ttotal: 749ms\tremaining: 21.3s\n",
            "68:\tlearn: 50094.2594411\ttest: 49394.1646331\tbest: 49394.1646331 (68)\ttotal: 757ms\tremaining: 21.2s\n",
            "69:\tlearn: 49988.5337092\ttest: 49342.4513365\tbest: 49342.4513365 (69)\ttotal: 777ms\tremaining: 21.4s\n",
            "70:\tlearn: 49915.8479206\ttest: 49307.3237723\tbest: 49307.3237723 (70)\ttotal: 813ms\tremaining: 22.1s\n",
            "71:\tlearn: 49883.9082905\ttest: 49289.6027055\tbest: 49289.6027055 (71)\ttotal: 816ms\tremaining: 21.8s\n",
            "72:\tlearn: 49815.1064329\ttest: 49246.7286203\tbest: 49246.7286203 (72)\ttotal: 834ms\tremaining: 22s\n",
            "73:\tlearn: 49732.2855443\ttest: 49210.1542180\tbest: 49210.1542180 (73)\ttotal: 851ms\tremaining: 22.1s\n",
            "74:\tlearn: 49666.7492533\ttest: 49165.2335162\tbest: 49165.2335162 (74)\ttotal: 874ms\tremaining: 22.4s\n",
            "75:\tlearn: 49626.4554430\ttest: 49132.6034035\tbest: 49132.6034035 (75)\ttotal: 880ms\tremaining: 22.3s\n",
            "76:\tlearn: 49560.7192118\ttest: 49097.6354317\tbest: 49097.6354317 (76)\ttotal: 894ms\tremaining: 22.3s\n",
            "77:\tlearn: 49510.2825748\ttest: 49072.2097941\tbest: 49072.2097941 (77)\ttotal: 910ms\tremaining: 22.4s\n",
            "78:\tlearn: 49446.4786342\ttest: 49047.6148331\tbest: 49047.6148331 (78)\ttotal: 927ms\tremaining: 22.6s\n",
            "79:\tlearn: 49362.8474259\ttest: 49041.7301055\tbest: 49041.7301055 (79)\ttotal: 957ms\tremaining: 23s\n",
            "80:\tlearn: 49304.8819653\ttest: 49019.8942336\tbest: 49019.8942336 (80)\ttotal: 965ms\tremaining: 22.9s\n",
            "81:\tlearn: 49263.1159289\ttest: 48986.7270195\tbest: 48986.7270195 (81)\ttotal: 980ms\tremaining: 22.9s\n",
            "82:\tlearn: 49177.5991938\ttest: 48955.8600881\tbest: 48955.8600881 (82)\ttotal: 994ms\tremaining: 23s\n",
            "83:\tlearn: 49137.3710193\ttest: 48930.8439702\tbest: 48930.8439702 (83)\ttotal: 1.01s\tremaining: 23.1s\n",
            "84:\tlearn: 49093.4385494\ttest: 48898.4181601\tbest: 48898.4181601 (84)\ttotal: 1.03s\tremaining: 23.1s\n",
            "85:\tlearn: 49026.0591994\ttest: 48881.1933890\tbest: 48881.1933890 (85)\ttotal: 1.03s\tremaining: 23s\n",
            "86:\tlearn: 48993.6479300\ttest: 48874.4609278\tbest: 48874.4609278 (86)\ttotal: 1.05s\tremaining: 23.1s\n",
            "87:\tlearn: 48957.3182557\ttest: 48838.8418032\tbest: 48838.8418032 (87)\ttotal: 1.05s\tremaining: 22.9s\n",
            "88:\tlearn: 48922.3185067\ttest: 48811.3971279\tbest: 48811.3971279 (88)\ttotal: 1.06s\tremaining: 22.8s\n",
            "89:\tlearn: 48861.9352016\ttest: 48796.6575809\tbest: 48796.6575809 (89)\ttotal: 1.08s\tremaining: 22.8s\n",
            "90:\tlearn: 48831.0957522\ttest: 48782.0385171\tbest: 48782.0385171 (90)\ttotal: 1.09s\tremaining: 22.8s\n",
            "91:\tlearn: 48741.7178397\ttest: 48774.0222793\tbest: 48774.0222793 (91)\ttotal: 1.09s\tremaining: 22.7s\n",
            "92:\tlearn: 48719.2892794\ttest: 48765.5194712\tbest: 48765.5194712 (92)\ttotal: 1.11s\tremaining: 22.8s\n",
            "93:\tlearn: 48685.1172691\ttest: 48747.9956761\tbest: 48747.9956761 (93)\ttotal: 1.13s\tremaining: 22.9s\n",
            "94:\tlearn: 48655.2371264\ttest: 48739.3440794\tbest: 48739.3440794 (94)\ttotal: 1.15s\tremaining: 23s\n",
            "95:\tlearn: 48614.9619472\ttest: 48742.7966316\tbest: 48739.3440794 (94)\ttotal: 1.16s\tremaining: 22.9s\n",
            "96:\tlearn: 48565.1023311\ttest: 48738.8341793\tbest: 48738.8341793 (96)\ttotal: 1.16s\tremaining: 22.9s\n",
            "97:\tlearn: 48536.5324636\ttest: 48734.2719061\tbest: 48734.2719061 (97)\ttotal: 1.17s\tremaining: 22.7s\n",
            "98:\tlearn: 48498.6855675\ttest: 48728.0317094\tbest: 48728.0317094 (98)\ttotal: 1.18s\tremaining: 22.6s\n",
            "99:\tlearn: 48441.5561517\ttest: 48742.0303981\tbest: 48728.0317094 (98)\ttotal: 1.19s\tremaining: 22.6s\n",
            "100:\tlearn: 48407.2904168\ttest: 48730.9854360\tbest: 48728.0317094 (98)\ttotal: 1.24s\tremaining: 23.3s\n",
            "101:\tlearn: 48361.4820752\ttest: 48709.1404166\tbest: 48709.1404166 (101)\ttotal: 1.26s\tremaining: 23.5s\n",
            "102:\tlearn: 48313.7640735\ttest: 48698.1612692\tbest: 48698.1612692 (102)\ttotal: 1.28s\tremaining: 23.6s\n",
            "103:\tlearn: 48278.2466033\ttest: 48694.0739123\tbest: 48694.0739123 (103)\ttotal: 1.3s\tremaining: 23.6s\n",
            "104:\tlearn: 48255.0399346\ttest: 48675.8283911\tbest: 48675.8283911 (104)\ttotal: 1.33s\tremaining: 23.9s\n",
            "105:\tlearn: 48214.3917577\ttest: 48665.0938626\tbest: 48665.0938626 (105)\ttotal: 1.33s\tremaining: 23.8s\n",
            "106:\tlearn: 48142.9675042\ttest: 48651.5665826\tbest: 48651.5665826 (106)\ttotal: 1.37s\tremaining: 24.2s\n",
            "107:\tlearn: 48119.9904061\ttest: 48633.7704771\tbest: 48633.7704771 (107)\ttotal: 1.37s\tremaining: 24.1s\n",
            "108:\tlearn: 48077.9086749\ttest: 48635.4996268\tbest: 48633.7704771 (107)\ttotal: 1.39s\tremaining: 24.2s\n",
            "109:\tlearn: 48049.0047074\ttest: 48628.4304763\tbest: 48628.4304763 (109)\ttotal: 1.41s\tremaining: 24.3s\n",
            "110:\tlearn: 48031.1732778\ttest: 48611.9873756\tbest: 48611.9873756 (110)\ttotal: 1.43s\tremaining: 24.3s\n",
            "111:\tlearn: 47988.2613373\ttest: 48635.4646842\tbest: 48611.9873756 (110)\ttotal: 1.44s\tremaining: 24.2s\n",
            "112:\tlearn: 47940.8954884\ttest: 48613.6048456\tbest: 48611.9873756 (110)\ttotal: 1.45s\tremaining: 24.2s\n",
            "113:\tlearn: 47917.6095904\ttest: 48611.8591875\tbest: 48611.8591875 (113)\ttotal: 1.46s\tremaining: 24.1s\n",
            "114:\tlearn: 47869.0481111\ttest: 48619.1151514\tbest: 48611.8591875 (113)\ttotal: 1.47s\tremaining: 24.1s\n",
            "115:\tlearn: 47837.0595031\ttest: 48603.1166737\tbest: 48603.1166737 (115)\ttotal: 1.49s\tremaining: 24.1s\n",
            "116:\tlearn: 47807.4526316\ttest: 48586.8741493\tbest: 48586.8741493 (116)\ttotal: 1.5s\tremaining: 24.1s\n",
            "117:\tlearn: 47783.6931386\ttest: 48585.4778012\tbest: 48585.4778012 (117)\ttotal: 1.5s\tremaining: 24s\n",
            "118:\tlearn: 47765.0922279\ttest: 48578.0015100\tbest: 48578.0015100 (118)\ttotal: 1.51s\tremaining: 23.8s\n",
            "119:\tlearn: 47747.4639180\ttest: 48584.0419978\tbest: 48578.0015100 (118)\ttotal: 1.51s\tremaining: 23.7s\n",
            "120:\tlearn: 47722.8523672\ttest: 48581.9021470\tbest: 48578.0015100 (118)\ttotal: 1.52s\tremaining: 23.6s\n",
            "121:\tlearn: 47707.9570801\ttest: 48581.7202364\tbest: 48578.0015100 (118)\ttotal: 1.52s\tremaining: 23.5s\n",
            "122:\tlearn: 47677.3404094\ttest: 48570.6706300\tbest: 48570.6706300 (122)\ttotal: 1.53s\tremaining: 23.3s\n",
            "123:\tlearn: 47635.4498358\ttest: 48562.2777345\tbest: 48562.2777345 (123)\ttotal: 1.54s\tremaining: 23.3s\n",
            "124:\tlearn: 47619.4378708\ttest: 48559.8838592\tbest: 48559.8838592 (124)\ttotal: 1.54s\tremaining: 23.2s\n",
            "125:\tlearn: 47597.6747775\ttest: 48567.9968384\tbest: 48559.8838592 (124)\ttotal: 1.57s\tremaining: 23.3s\n",
            "126:\tlearn: 47571.8232709\ttest: 48553.7165224\tbest: 48553.7165224 (126)\ttotal: 1.58s\tremaining: 23.3s\n",
            "127:\tlearn: 47525.4115902\ttest: 48541.9940003\tbest: 48541.9940003 (127)\ttotal: 1.59s\tremaining: 23.3s\n",
            "128:\tlearn: 47482.5331505\ttest: 48526.0876135\tbest: 48526.0876135 (128)\ttotal: 1.61s\tremaining: 23.4s\n",
            "129:\tlearn: 47477.3413598\ttest: 48522.4555124\tbest: 48522.4555124 (129)\ttotal: 1.63s\tremaining: 23.4s\n",
            "130:\tlearn: 47446.1435281\ttest: 48532.2388341\tbest: 48522.4555124 (129)\ttotal: 1.65s\tremaining: 23.6s\n",
            "131:\tlearn: 47422.5822430\ttest: 48527.3177019\tbest: 48522.4555124 (129)\ttotal: 1.66s\tremaining: 23.5s\n",
            "132:\tlearn: 47384.5464716\ttest: 48531.8054690\tbest: 48522.4555124 (129)\ttotal: 1.67s\tremaining: 23.4s\n",
            "133:\tlearn: 47357.5835380\ttest: 48527.5218635\tbest: 48522.4555124 (129)\ttotal: 1.68s\tremaining: 23.4s\n",
            "134:\tlearn: 47338.3684933\ttest: 48511.8783183\tbest: 48511.8783183 (134)\ttotal: 1.69s\tremaining: 23.3s\n",
            "135:\tlearn: 47307.6017224\ttest: 48523.9293705\tbest: 48511.8783183 (134)\ttotal: 1.7s\tremaining: 23.3s\n",
            "136:\tlearn: 47289.3346719\ttest: 48522.3003058\tbest: 48511.8783183 (134)\ttotal: 1.71s\tremaining: 23.2s\n",
            "137:\tlearn: 47257.9989808\ttest: 48520.3695658\tbest: 48511.8783183 (134)\ttotal: 1.72s\tremaining: 23.2s\n",
            "138:\tlearn: 47236.3781159\ttest: 48514.3282135\tbest: 48511.8783183 (134)\ttotal: 1.73s\tremaining: 23.2s\n",
            "139:\tlearn: 47229.0629677\ttest: 48517.0594800\tbest: 48511.8783183 (134)\ttotal: 1.74s\tremaining: 23.1s\n",
            "140:\tlearn: 47202.4362751\ttest: 48514.6752949\tbest: 48511.8783183 (134)\ttotal: 1.76s\tremaining: 23.2s\n",
            "141:\tlearn: 47202.2491293\ttest: 48514.5329915\tbest: 48511.8783183 (134)\ttotal: 1.76s\tremaining: 23.1s\n",
            "142:\tlearn: 47183.4712697\ttest: 48502.1643585\tbest: 48502.1643585 (142)\ttotal: 1.78s\tremaining: 23.2s\n",
            "143:\tlearn: 47169.0758542\ttest: 48511.2607654\tbest: 48502.1643585 (142)\ttotal: 1.81s\tremaining: 23.4s\n",
            "144:\tlearn: 47147.0131458\ttest: 48506.2808096\tbest: 48502.1643585 (142)\ttotal: 1.83s\tremaining: 23.4s\n",
            "145:\tlearn: 47123.1195754\ttest: 48499.0546412\tbest: 48499.0546412 (145)\ttotal: 1.85s\tremaining: 23.5s\n",
            "146:\tlearn: 47111.8626743\ttest: 48489.1754575\tbest: 48489.1754575 (146)\ttotal: 1.86s\tremaining: 23.5s\n",
            "147:\tlearn: 47086.4186437\ttest: 48487.6313630\tbest: 48487.6313630 (147)\ttotal: 1.87s\tremaining: 23.5s\n",
            "148:\tlearn: 47052.9031806\ttest: 48482.1086417\tbest: 48482.1086417 (148)\ttotal: 1.89s\tremaining: 23.4s\n",
            "149:\tlearn: 47052.1640666\ttest: 48482.1080317\tbest: 48482.1080317 (149)\ttotal: 1.89s\tremaining: 23.3s\n",
            "150:\tlearn: 47015.0956765\ttest: 48479.2081408\tbest: 48479.2081408 (150)\ttotal: 1.9s\tremaining: 23.3s\n",
            "151:\tlearn: 46999.1953338\ttest: 48474.9792231\tbest: 48474.9792231 (151)\ttotal: 1.92s\tremaining: 23.3s\n",
            "152:\tlearn: 46996.9519105\ttest: 48474.9696486\tbest: 48474.9696486 (152)\ttotal: 1.93s\tremaining: 23.3s\n",
            "153:\tlearn: 46988.2677143\ttest: 48472.8639236\tbest: 48472.8639236 (153)\ttotal: 1.96s\tremaining: 23.5s\n",
            "154:\tlearn: 46930.6195716\ttest: 48471.1671324\tbest: 48471.1671324 (154)\ttotal: 1.98s\tremaining: 23.6s\n",
            "155:\tlearn: 46913.6560822\ttest: 48475.3980227\tbest: 48471.1671324 (154)\ttotal: 2.03s\tremaining: 24s\n",
            "156:\tlearn: 46886.0564729\ttest: 48476.1689186\tbest: 48471.1671324 (154)\ttotal: 2.04s\tremaining: 23.9s\n",
            "157:\tlearn: 46863.6573823\ttest: 48474.1922589\tbest: 48471.1671324 (154)\ttotal: 2.04s\tremaining: 23.9s\n",
            "158:\tlearn: 46838.7652723\ttest: 48481.5988809\tbest: 48471.1671324 (154)\ttotal: 2.06s\tremaining: 23.8s\n",
            "159:\tlearn: 46822.0831205\ttest: 48467.1918078\tbest: 48467.1918078 (159)\ttotal: 2.07s\tremaining: 23.8s\n",
            "160:\tlearn: 46791.6474862\ttest: 48459.3315878\tbest: 48459.3315878 (160)\ttotal: 2.08s\tremaining: 23.8s\n",
            "161:\tlearn: 46780.5396401\ttest: 48467.6864570\tbest: 48459.3315878 (160)\ttotal: 2.09s\tremaining: 23.7s\n",
            "162:\tlearn: 46778.6234734\ttest: 48466.9466762\tbest: 48459.3315878 (160)\ttotal: 2.1s\tremaining: 23.6s\n",
            "163:\tlearn: 46758.4450410\ttest: 48473.0848077\tbest: 48459.3315878 (160)\ttotal: 2.13s\tremaining: 23.8s\n",
            "164:\tlearn: 46737.2107941\ttest: 48479.7353402\tbest: 48459.3315878 (160)\ttotal: 2.14s\tremaining: 23.8s\n",
            "165:\tlearn: 46717.2161936\ttest: 48483.0183046\tbest: 48459.3315878 (160)\ttotal: 2.16s\tremaining: 23.9s\n",
            "166:\tlearn: 46698.8818950\ttest: 48490.4718610\tbest: 48459.3315878 (160)\ttotal: 2.17s\tremaining: 23.9s\n",
            "167:\tlearn: 46689.9904724\ttest: 48484.5298954\tbest: 48459.3315878 (160)\ttotal: 2.19s\tremaining: 23.8s\n",
            "168:\tlearn: 46667.2208620\ttest: 48481.7845139\tbest: 48459.3315878 (160)\ttotal: 2.2s\tremaining: 23.8s\n",
            "169:\tlearn: 46651.5352095\ttest: 48483.0429450\tbest: 48459.3315878 (160)\ttotal: 2.21s\tremaining: 23.8s\n",
            "170:\tlearn: 46631.8494239\ttest: 48471.8691074\tbest: 48459.3315878 (160)\ttotal: 2.22s\tremaining: 23.7s\n",
            "171:\tlearn: 46608.2537865\ttest: 48465.8720309\tbest: 48459.3315878 (160)\ttotal: 2.23s\tremaining: 23.7s\n",
            "172:\tlearn: 46594.1257816\ttest: 48467.9019665\tbest: 48459.3315878 (160)\ttotal: 2.24s\tremaining: 23.7s\n",
            "173:\tlearn: 46557.2188498\ttest: 48468.4430338\tbest: 48459.3315878 (160)\ttotal: 2.25s\tremaining: 23.7s\n",
            "174:\tlearn: 46549.1881969\ttest: 48471.7983772\tbest: 48459.3315878 (160)\ttotal: 2.27s\tremaining: 23.6s\n",
            "175:\tlearn: 46547.2835799\ttest: 48472.4499228\tbest: 48459.3315878 (160)\ttotal: 2.27s\tremaining: 23.6s\n",
            "176:\tlearn: 46533.2503319\ttest: 48467.1724836\tbest: 48459.3315878 (160)\ttotal: 2.29s\tremaining: 23.6s\n",
            "177:\tlearn: 46517.7043573\ttest: 48464.6732726\tbest: 48459.3315878 (160)\ttotal: 2.3s\tremaining: 23.5s\n",
            "178:\tlearn: 46509.8982965\ttest: 48454.9835713\tbest: 48454.9835713 (178)\ttotal: 2.31s\tremaining: 23.5s\n",
            "179:\tlearn: 46485.1008356\ttest: 48449.6730675\tbest: 48449.6730675 (179)\ttotal: 2.32s\tremaining: 23.4s\n",
            "180:\tlearn: 46457.4921491\ttest: 48467.0633383\tbest: 48449.6730675 (179)\ttotal: 2.33s\tremaining: 23.4s\n",
            "181:\tlearn: 46445.9194872\ttest: 48472.8384407\tbest: 48449.6730675 (179)\ttotal: 2.34s\tremaining: 23.4s\n",
            "182:\tlearn: 46434.8943369\ttest: 48470.9687357\tbest: 48449.6730675 (179)\ttotal: 2.35s\tremaining: 23.4s\n",
            "183:\tlearn: 46431.7784774\ttest: 48472.4472369\tbest: 48449.6730675 (179)\ttotal: 2.37s\tremaining: 23.4s\n",
            "184:\tlearn: 46405.2264038\ttest: 48469.2893086\tbest: 48449.6730675 (179)\ttotal: 2.39s\tremaining: 23.5s\n",
            "185:\tlearn: 46389.3792023\ttest: 48468.9532616\tbest: 48449.6730675 (179)\ttotal: 2.41s\tremaining: 23.5s\n",
            "186:\tlearn: 46369.2852107\ttest: 48456.7341512\tbest: 48449.6730675 (179)\ttotal: 2.42s\tremaining: 23.5s\n",
            "187:\tlearn: 46351.7086826\ttest: 48453.0185401\tbest: 48449.6730675 (179)\ttotal: 2.43s\tremaining: 23.5s\n",
            "188:\tlearn: 46339.2426053\ttest: 48449.8606104\tbest: 48449.6730675 (179)\ttotal: 2.44s\tremaining: 23.4s\n",
            "189:\tlearn: 46321.1350233\ttest: 48451.5946536\tbest: 48449.6730675 (179)\ttotal: 2.45s\tremaining: 23.4s\n",
            "190:\tlearn: 46308.5058897\ttest: 48451.5407483\tbest: 48449.6730675 (179)\ttotal: 2.48s\tremaining: 23.4s\n",
            "191:\tlearn: 46274.1152167\ttest: 48453.0585017\tbest: 48449.6730675 (179)\ttotal: 2.48s\tremaining: 23.4s\n",
            "192:\tlearn: 46261.7909966\ttest: 48454.2737743\tbest: 48449.6730675 (179)\ttotal: 2.5s\tremaining: 23.5s\n",
            "193:\tlearn: 46259.0752160\ttest: 48454.7520700\tbest: 48449.6730675 (179)\ttotal: 2.53s\tremaining: 23.5s\n",
            "194:\tlearn: 46247.9702526\ttest: 48452.2025400\tbest: 48449.6730675 (179)\ttotal: 2.54s\tremaining: 23.6s\n",
            "195:\tlearn: 46236.3159451\ttest: 48455.5274484\tbest: 48449.6730675 (179)\ttotal: 2.55s\tremaining: 23.5s\n",
            "196:\tlearn: 46215.0336600\ttest: 48462.2297114\tbest: 48449.6730675 (179)\ttotal: 2.56s\tremaining: 23.4s\n",
            "197:\tlearn: 46204.4649632\ttest: 48456.8411499\tbest: 48449.6730675 (179)\ttotal: 2.56s\tremaining: 23.3s\n",
            "198:\tlearn: 46186.5711624\ttest: 48461.7158317\tbest: 48449.6730675 (179)\ttotal: 2.57s\tremaining: 23.3s\n",
            "199:\tlearn: 46171.6915405\ttest: 48463.5246972\tbest: 48449.6730675 (179)\ttotal: 2.58s\tremaining: 23.2s\n",
            "200:\tlearn: 46163.3524950\ttest: 48465.3836915\tbest: 48449.6730675 (179)\ttotal: 2.58s\tremaining: 23.1s\n",
            "201:\tlearn: 46142.2980797\ttest: 48460.9735437\tbest: 48449.6730675 (179)\ttotal: 2.59s\tremaining: 23.1s\n",
            "202:\tlearn: 46130.6399362\ttest: 48453.9603336\tbest: 48449.6730675 (179)\ttotal: 2.6s\tremaining: 23.1s\n",
            "203:\tlearn: 46116.4715808\ttest: 48453.4215906\tbest: 48449.6730675 (179)\ttotal: 2.62s\tremaining: 23.1s\n",
            "204:\tlearn: 46116.4495731\ttest: 48453.4235169\tbest: 48449.6730675 (179)\ttotal: 2.62s\tremaining: 23s\n",
            "205:\tlearn: 46105.3095227\ttest: 48447.5031528\tbest: 48447.5031528 (205)\ttotal: 2.63s\tremaining: 22.9s\n",
            "206:\tlearn: 46099.3091206\ttest: 48445.8749841\tbest: 48445.8749841 (206)\ttotal: 2.64s\tremaining: 22.9s\n",
            "207:\tlearn: 46088.3566077\ttest: 48433.8681873\tbest: 48433.8681873 (207)\ttotal: 2.65s\tremaining: 22.9s\n",
            "208:\tlearn: 46070.0593144\ttest: 48437.1824812\tbest: 48433.8681873 (207)\ttotal: 2.67s\tremaining: 22.8s\n",
            "209:\tlearn: 46053.4907050\ttest: 48437.4490345\tbest: 48433.8681873 (207)\ttotal: 2.68s\tremaining: 22.8s\n",
            "210:\tlearn: 46048.1203711\ttest: 48434.4776629\tbest: 48433.8681873 (207)\ttotal: 2.7s\tremaining: 22.9s\n",
            "211:\tlearn: 46037.7427748\ttest: 48439.7247551\tbest: 48433.8681873 (207)\ttotal: 2.71s\tremaining: 22.9s\n",
            "212:\tlearn: 46028.1355779\ttest: 48435.5836559\tbest: 48433.8681873 (207)\ttotal: 2.72s\tremaining: 22.9s\n",
            "213:\tlearn: 46018.6972971\ttest: 48430.7480202\tbest: 48430.7480202 (213)\ttotal: 2.75s\tremaining: 23s\n",
            "214:\tlearn: 46008.3402098\ttest: 48430.6279728\tbest: 48430.6279728 (214)\ttotal: 2.78s\tremaining: 23.1s\n",
            "215:\tlearn: 46005.7177643\ttest: 48430.7320689\tbest: 48430.6279728 (214)\ttotal: 2.81s\tremaining: 23.2s\n",
            "216:\tlearn: 45999.7486282\ttest: 48437.1848687\tbest: 48430.6279728 (214)\ttotal: 2.82s\tremaining: 23.2s\n",
            "217:\tlearn: 45978.7857829\ttest: 48429.2708901\tbest: 48429.2708901 (217)\ttotal: 2.84s\tremaining: 23.2s\n",
            "218:\tlearn: 45956.4322716\ttest: 48429.4620537\tbest: 48429.2708901 (217)\ttotal: 2.86s\tremaining: 23.3s\n",
            "219:\tlearn: 45946.2143109\ttest: 48429.5443153\tbest: 48429.2708901 (217)\ttotal: 2.88s\tremaining: 23.3s\n",
            "220:\tlearn: 45931.2828282\ttest: 48425.9432675\tbest: 48425.9432675 (220)\ttotal: 2.89s\tremaining: 23.3s\n",
            "221:\tlearn: 45924.3704695\ttest: 48427.5377465\tbest: 48425.9432675 (220)\ttotal: 2.9s\tremaining: 23.3s\n",
            "222:\tlearn: 45910.8384012\ttest: 48429.6301056\tbest: 48425.9432675 (220)\ttotal: 2.92s\tremaining: 23.2s\n",
            "223:\tlearn: 45894.5024214\ttest: 48426.0330180\tbest: 48425.9432675 (220)\ttotal: 2.93s\tremaining: 23.3s\n",
            "224:\tlearn: 45885.8467168\ttest: 48426.0938238\tbest: 48425.9432675 (220)\ttotal: 2.95s\tremaining: 23.3s\n",
            "225:\tlearn: 45881.0660435\ttest: 48432.3278904\tbest: 48425.9432675 (220)\ttotal: 2.97s\tremaining: 23.3s\n",
            "226:\tlearn: 45864.2339987\ttest: 48433.0242257\tbest: 48425.9432675 (220)\ttotal: 3s\tremaining: 23.4s\n",
            "227:\tlearn: 45857.4478591\ttest: 48436.3094207\tbest: 48425.9432675 (220)\ttotal: 3.02s\tremaining: 23.5s\n",
            "228:\tlearn: 45848.3557021\ttest: 48439.2658399\tbest: 48425.9432675 (220)\ttotal: 3.03s\tremaining: 23.4s\n",
            "229:\tlearn: 45824.4525093\ttest: 48431.5522140\tbest: 48425.9432675 (220)\ttotal: 3.04s\tremaining: 23.4s\n",
            "230:\tlearn: 45819.6734887\ttest: 48430.4792772\tbest: 48425.9432675 (220)\ttotal: 3.06s\tremaining: 23.4s\n",
            "231:\tlearn: 45779.4221493\ttest: 48412.5203910\tbest: 48412.5203910 (231)\ttotal: 3.07s\tremaining: 23.4s\n",
            "232:\tlearn: 45764.2117759\ttest: 48412.5887509\tbest: 48412.5203910 (231)\ttotal: 3.08s\tremaining: 23.4s\n",
            "233:\tlearn: 45753.5227652\ttest: 48416.2605666\tbest: 48412.5203910 (231)\ttotal: 3.09s\tremaining: 23.3s\n",
            "234:\tlearn: 45735.3144931\ttest: 48420.8604943\tbest: 48412.5203910 (231)\ttotal: 3.1s\tremaining: 23.3s\n",
            "235:\tlearn: 45712.1085825\ttest: 48419.6203295\tbest: 48412.5203910 (231)\ttotal: 3.11s\tremaining: 23.3s\n",
            "236:\tlearn: 45693.5234840\ttest: 48425.3487085\tbest: 48412.5203910 (231)\ttotal: 3.13s\tremaining: 23.3s\n",
            "237:\tlearn: 45680.5040550\ttest: 48421.8903667\tbest: 48412.5203910 (231)\ttotal: 3.14s\tremaining: 23.3s\n",
            "238:\tlearn: 45669.5263232\ttest: 48421.9276881\tbest: 48412.5203910 (231)\ttotal: 3.15s\tremaining: 23.2s\n",
            "239:\tlearn: 45666.4606731\ttest: 48422.5772074\tbest: 48412.5203910 (231)\ttotal: 3.18s\tremaining: 23.3s\n",
            "240:\tlearn: 45666.2009812\ttest: 48420.7460288\tbest: 48412.5203910 (231)\ttotal: 3.19s\tremaining: 23.3s\n",
            "241:\tlearn: 45657.2051694\ttest: 48417.6792971\tbest: 48412.5203910 (231)\ttotal: 3.21s\tremaining: 23.3s\n",
            "242:\tlearn: 45627.1855170\ttest: 48414.0070972\tbest: 48412.5203910 (231)\ttotal: 3.22s\tremaining: 23.3s\n",
            "243:\tlearn: 45624.2166953\ttest: 48417.8516610\tbest: 48412.5203910 (231)\ttotal: 3.24s\tremaining: 23.3s\n",
            "244:\tlearn: 45610.9605980\ttest: 48415.6712054\tbest: 48412.5203910 (231)\ttotal: 3.25s\tremaining: 23.3s\n",
            "245:\tlearn: 45602.8418151\ttest: 48410.7171514\tbest: 48410.7171514 (245)\ttotal: 3.25s\tremaining: 23.2s\n",
            "246:\tlearn: 45592.5359935\ttest: 48411.3721440\tbest: 48410.7171514 (245)\ttotal: 3.27s\tremaining: 23.2s\n",
            "247:\tlearn: 45570.8307357\ttest: 48417.3963151\tbest: 48410.7171514 (245)\ttotal: 3.29s\tremaining: 23.3s\n",
            "248:\tlearn: 45559.6128288\ttest: 48415.6372330\tbest: 48410.7171514 (245)\ttotal: 3.31s\tremaining: 23.3s\n",
            "249:\tlearn: 45557.9517363\ttest: 48414.9793215\tbest: 48410.7171514 (245)\ttotal: 3.33s\tremaining: 23.3s\n",
            "250:\tlearn: 45541.0238675\ttest: 48426.3088436\tbest: 48410.7171514 (245)\ttotal: 3.36s\tremaining: 23.4s\n",
            "251:\tlearn: 45517.2573153\ttest: 48422.3953697\tbest: 48410.7171514 (245)\ttotal: 3.39s\tremaining: 23.5s\n",
            "252:\tlearn: 45512.9566245\ttest: 48419.6954473\tbest: 48410.7171514 (245)\ttotal: 3.41s\tremaining: 23.6s\n",
            "253:\tlearn: 45505.2848523\ttest: 48419.9211303\tbest: 48410.7171514 (245)\ttotal: 3.43s\tremaining: 23.6s\n",
            "254:\tlearn: 45490.5088759\ttest: 48423.2413020\tbest: 48410.7171514 (245)\ttotal: 3.45s\tremaining: 23.6s\n",
            "255:\tlearn: 45484.1260024\ttest: 48413.5938815\tbest: 48410.7171514 (245)\ttotal: 3.46s\tremaining: 23.6s\n",
            "256:\tlearn: 45477.5870680\ttest: 48411.1062291\tbest: 48410.7171514 (245)\ttotal: 3.47s\tremaining: 23.5s\n",
            "257:\tlearn: 45473.6508320\ttest: 48413.3077712\tbest: 48410.7171514 (245)\ttotal: 3.5s\tremaining: 23.6s\n",
            "258:\tlearn: 45454.0841032\ttest: 48394.6059274\tbest: 48394.6059274 (258)\ttotal: 3.51s\tremaining: 23.6s\n",
            "259:\tlearn: 45439.5042650\ttest: 48395.9398629\tbest: 48394.6059274 (258)\ttotal: 3.53s\tremaining: 23.6s\n",
            "260:\tlearn: 45426.8893747\ttest: 48393.9863217\tbest: 48393.9863217 (260)\ttotal: 3.54s\tremaining: 23.6s\n",
            "261:\tlearn: 45413.4189424\ttest: 48398.1360804\tbest: 48393.9863217 (260)\ttotal: 3.55s\tremaining: 23.6s\n",
            "262:\tlearn: 45399.5798436\ttest: 48402.2081344\tbest: 48393.9863217 (260)\ttotal: 3.56s\tremaining: 23.5s\n",
            "263:\tlearn: 45395.7244775\ttest: 48403.2997556\tbest: 48393.9863217 (260)\ttotal: 3.58s\tremaining: 23.5s\n",
            "264:\tlearn: 45385.1257706\ttest: 48397.5629645\tbest: 48393.9863217 (260)\ttotal: 3.59s\tremaining: 23.5s\n",
            "265:\tlearn: 45363.3335584\ttest: 48389.8243469\tbest: 48389.8243469 (265)\ttotal: 3.6s\tremaining: 23.5s\n",
            "266:\tlearn: 45357.4328987\ttest: 48386.3119242\tbest: 48386.3119242 (266)\ttotal: 3.62s\tremaining: 23.5s\n",
            "267:\tlearn: 45351.1502687\ttest: 48387.8857091\tbest: 48386.3119242 (266)\ttotal: 3.63s\tremaining: 23.5s\n",
            "268:\tlearn: 45348.7126127\ttest: 48387.7913068\tbest: 48386.3119242 (266)\ttotal: 3.64s\tremaining: 23.4s\n",
            "269:\tlearn: 45342.9228712\ttest: 48388.5715806\tbest: 48386.3119242 (266)\ttotal: 3.66s\tremaining: 23.4s\n",
            "270:\tlearn: 45340.9824203\ttest: 48391.7400859\tbest: 48386.3119242 (266)\ttotal: 3.69s\tremaining: 23.6s\n",
            "271:\tlearn: 45334.0391925\ttest: 48384.3278317\tbest: 48384.3278317 (271)\ttotal: 3.71s\tremaining: 23.5s\n",
            "272:\tlearn: 45327.1878810\ttest: 48378.3185957\tbest: 48378.3185957 (272)\ttotal: 3.72s\tremaining: 23.6s\n",
            "273:\tlearn: 45303.1598291\ttest: 48384.8277292\tbest: 48378.3185957 (272)\ttotal: 3.74s\tremaining: 23.5s\n",
            "274:\tlearn: 45297.1519016\ttest: 48385.6431378\tbest: 48378.3185957 (272)\ttotal: 3.75s\tremaining: 23.5s\n",
            "275:\tlearn: 45292.9053406\ttest: 48387.5270114\tbest: 48378.3185957 (272)\ttotal: 3.78s\tremaining: 23.6s\n",
            "276:\tlearn: 45280.2758615\ttest: 48378.8414269\tbest: 48378.3185957 (272)\ttotal: 3.81s\tremaining: 23.7s\n",
            "277:\tlearn: 45274.1163505\ttest: 48378.4988294\tbest: 48378.3185957 (272)\ttotal: 3.83s\tremaining: 23.8s\n",
            "278:\tlearn: 45272.1047984\ttest: 48377.6563336\tbest: 48377.6563336 (278)\ttotal: 3.85s\tremaining: 23.8s\n",
            "279:\tlearn: 45256.1438335\ttest: 48377.3787703\tbest: 48377.3787703 (279)\ttotal: 3.88s\tremaining: 23.9s\n",
            "280:\tlearn: 45244.9143545\ttest: 48382.6067349\tbest: 48377.3787703 (279)\ttotal: 3.92s\tremaining: 24s\n",
            "281:\tlearn: 45227.2737882\ttest: 48376.6413681\tbest: 48376.6413681 (281)\ttotal: 3.93s\tremaining: 23.9s\n",
            "282:\tlearn: 45215.5410538\ttest: 48377.1022318\tbest: 48376.6413681 (281)\ttotal: 3.95s\tremaining: 24s\n",
            "283:\tlearn: 45211.6444482\ttest: 48379.6590028\tbest: 48376.6413681 (281)\ttotal: 3.99s\tremaining: 24.1s\n",
            "284:\tlearn: 45197.4214530\ttest: 48378.9522486\tbest: 48376.6413681 (281)\ttotal: 4.01s\tremaining: 24.1s\n",
            "285:\tlearn: 45191.0612396\ttest: 48385.7369588\tbest: 48376.6413681 (281)\ttotal: 4.04s\tremaining: 24.2s\n",
            "286:\tlearn: 45188.2021204\ttest: 48386.8099898\tbest: 48376.6413681 (281)\ttotal: 4.05s\tremaining: 24.2s\n",
            "287:\tlearn: 45176.0735026\ttest: 48391.4651396\tbest: 48376.6413681 (281)\ttotal: 4.08s\tremaining: 24.2s\n",
            "288:\tlearn: 45157.8636934\ttest: 48398.5386990\tbest: 48376.6413681 (281)\ttotal: 4.09s\tremaining: 24.2s\n",
            "289:\tlearn: 45153.8184411\ttest: 48396.9782197\tbest: 48376.6413681 (281)\ttotal: 4.11s\tremaining: 24.2s\n",
            "290:\tlearn: 45140.7026678\ttest: 48394.6533084\tbest: 48376.6413681 (281)\ttotal: 4.12s\tremaining: 24.2s\n",
            "291:\tlearn: 45138.5486026\ttest: 48394.2374261\tbest: 48376.6413681 (281)\ttotal: 4.14s\tremaining: 24.2s\n",
            "292:\tlearn: 45130.6972188\ttest: 48390.3078479\tbest: 48376.6413681 (281)\ttotal: 4.16s\tremaining: 24.2s\n",
            "293:\tlearn: 45101.6368957\ttest: 48372.2969111\tbest: 48372.2969111 (293)\ttotal: 4.18s\tremaining: 24.3s\n",
            "294:\tlearn: 45083.0869607\ttest: 48379.2634426\tbest: 48372.2969111 (293)\ttotal: 4.2s\tremaining: 24.3s\n",
            "295:\tlearn: 45072.3288195\ttest: 48377.9149697\tbest: 48372.2969111 (293)\ttotal: 4.21s\tremaining: 24.2s\n",
            "296:\tlearn: 45050.5764286\ttest: 48369.0648529\tbest: 48369.0648529 (296)\ttotal: 4.24s\tremaining: 24.3s\n",
            "297:\tlearn: 45044.0907031\ttest: 48368.7064457\tbest: 48368.7064457 (297)\ttotal: 4.25s\tremaining: 24.3s\n",
            "298:\tlearn: 45036.3739465\ttest: 48368.5734736\tbest: 48368.5734736 (298)\ttotal: 4.26s\tremaining: 24.2s\n",
            "299:\tlearn: 45024.9364819\ttest: 48371.5066191\tbest: 48368.5734736 (298)\ttotal: 4.28s\tremaining: 24.2s\n",
            "300:\tlearn: 45003.1105497\ttest: 48362.6610691\tbest: 48362.6610691 (300)\ttotal: 4.29s\tremaining: 24.2s\n",
            "301:\tlearn: 44999.8028345\ttest: 48360.8766085\tbest: 48360.8766085 (301)\ttotal: 4.31s\tremaining: 24.3s\n",
            "302:\tlearn: 44997.7265132\ttest: 48359.1635963\tbest: 48359.1635963 (302)\ttotal: 4.33s\tremaining: 24.3s\n",
            "303:\tlearn: 44977.5026839\ttest: 48364.1521324\tbest: 48359.1635963 (302)\ttotal: 4.34s\tremaining: 24.2s\n",
            "304:\tlearn: 44972.3191904\ttest: 48363.2469639\tbest: 48359.1635963 (302)\ttotal: 4.36s\tremaining: 24.2s\n",
            "305:\tlearn: 44943.5814294\ttest: 48355.5643820\tbest: 48355.5643820 (305)\ttotal: 4.38s\tremaining: 24.2s\n",
            "306:\tlearn: 44939.1779049\ttest: 48361.0549914\tbest: 48355.5643820 (305)\ttotal: 4.4s\tremaining: 24.3s\n",
            "307:\tlearn: 44931.3479757\ttest: 48353.8996829\tbest: 48353.8996829 (307)\ttotal: 4.42s\tremaining: 24.3s\n",
            "308:\tlearn: 44924.6655299\ttest: 48353.7274066\tbest: 48353.7274066 (308)\ttotal: 4.44s\tremaining: 24.3s\n",
            "309:\tlearn: 44916.2886454\ttest: 48358.3969572\tbest: 48353.7274066 (308)\ttotal: 4.46s\tremaining: 24.3s\n",
            "310:\tlearn: 44908.0055325\ttest: 48360.5198999\tbest: 48353.7274066 (308)\ttotal: 4.47s\tremaining: 24.3s\n",
            "311:\tlearn: 44895.6634493\ttest: 48359.1094843\tbest: 48353.7274066 (308)\ttotal: 4.49s\tremaining: 24.3s\n",
            "312:\tlearn: 44889.5290221\ttest: 48361.1662033\tbest: 48353.7274066 (308)\ttotal: 4.51s\tremaining: 24.3s\n",
            "313:\tlearn: 44875.6401446\ttest: 48363.5658410\tbest: 48353.7274066 (308)\ttotal: 4.53s\tremaining: 24.3s\n",
            "314:\tlearn: 44861.0704658\ttest: 48371.4558726\tbest: 48353.7274066 (308)\ttotal: 4.54s\tremaining: 24.3s\n",
            "315:\tlearn: 44854.1773688\ttest: 48374.9982617\tbest: 48353.7274066 (308)\ttotal: 4.56s\tremaining: 24.3s\n",
            "316:\tlearn: 44836.2654851\ttest: 48370.3957905\tbest: 48353.7274066 (308)\ttotal: 4.59s\tremaining: 24.4s\n",
            "317:\tlearn: 44830.7312384\ttest: 48370.7776356\tbest: 48353.7274066 (308)\ttotal: 4.62s\tremaining: 24.4s\n",
            "318:\tlearn: 44805.7002179\ttest: 48364.8810699\tbest: 48353.7274066 (308)\ttotal: 4.65s\tremaining: 24.5s\n",
            "319:\tlearn: 44783.4566062\ttest: 48361.9739860\tbest: 48353.7274066 (308)\ttotal: 4.67s\tremaining: 24.5s\n",
            "320:\tlearn: 44767.0681562\ttest: 48358.7865579\tbest: 48353.7274066 (308)\ttotal: 4.68s\tremaining: 24.5s\n",
            "321:\tlearn: 44751.0869775\ttest: 48355.5747405\tbest: 48353.7274066 (308)\ttotal: 4.71s\tremaining: 24.5s\n",
            "322:\tlearn: 44723.5206392\ttest: 48357.9701867\tbest: 48353.7274066 (308)\ttotal: 4.72s\tremaining: 24.5s\n",
            "323:\tlearn: 44715.7302225\ttest: 48359.3615838\tbest: 48353.7274066 (308)\ttotal: 4.75s\tremaining: 24.6s\n",
            "324:\tlearn: 44711.0758195\ttest: 48360.3553212\tbest: 48353.7274066 (308)\ttotal: 4.76s\tremaining: 24.5s\n",
            "325:\tlearn: 44689.0439258\ttest: 48362.1154935\tbest: 48353.7274066 (308)\ttotal: 4.78s\tremaining: 24.6s\n",
            "326:\tlearn: 44686.0582192\ttest: 48361.4309394\tbest: 48353.7274066 (308)\ttotal: 4.8s\tremaining: 24.6s\n",
            "327:\tlearn: 44683.7781790\ttest: 48363.2906662\tbest: 48353.7274066 (308)\ttotal: 4.81s\tremaining: 24.5s\n",
            "328:\tlearn: 44670.9307406\ttest: 48359.6061738\tbest: 48353.7274066 (308)\ttotal: 4.83s\tremaining: 24.5s\n",
            "329:\tlearn: 44659.2302405\ttest: 48361.2286915\tbest: 48353.7274066 (308)\ttotal: 4.84s\tremaining: 24.5s\n",
            "330:\tlearn: 44649.3422536\ttest: 48366.7681223\tbest: 48353.7274066 (308)\ttotal: 4.85s\tremaining: 24.5s\n",
            "331:\tlearn: 44640.8872494\ttest: 48374.4597048\tbest: 48353.7274066 (308)\ttotal: 4.86s\tremaining: 24.4s\n",
            "332:\tlearn: 44633.8279547\ttest: 48379.1775576\tbest: 48353.7274066 (308)\ttotal: 4.88s\tremaining: 24.4s\n",
            "333:\tlearn: 44596.7252716\ttest: 48383.8107952\tbest: 48353.7274066 (308)\ttotal: 4.89s\tremaining: 24.4s\n",
            "334:\tlearn: 44586.9878048\ttest: 48395.4680147\tbest: 48353.7274066 (308)\ttotal: 4.9s\tremaining: 24.4s\n",
            "335:\tlearn: 44582.1109457\ttest: 48394.5838052\tbest: 48353.7274066 (308)\ttotal: 4.92s\tremaining: 24.4s\n",
            "336:\tlearn: 44571.4473907\ttest: 48392.5829666\tbest: 48353.7274066 (308)\ttotal: 4.94s\tremaining: 24.4s\n",
            "337:\tlearn: 44566.8920035\ttest: 48395.2734424\tbest: 48353.7274066 (308)\ttotal: 4.95s\tremaining: 24.3s\n",
            "338:\tlearn: 44560.7370672\ttest: 48393.9881503\tbest: 48353.7274066 (308)\ttotal: 4.97s\tremaining: 24.4s\n",
            "339:\tlearn: 44548.6262122\ttest: 48390.1802882\tbest: 48353.7274066 (308)\ttotal: 4.99s\tremaining: 24.4s\n",
            "340:\tlearn: 44543.9944453\ttest: 48390.4965109\tbest: 48353.7274066 (308)\ttotal: 5s\tremaining: 24.3s\n",
            "341:\tlearn: 44526.0045738\ttest: 48391.2392411\tbest: 48353.7274066 (308)\ttotal: 5.03s\tremaining: 24.4s\n",
            "342:\tlearn: 44506.1328920\ttest: 48381.3141797\tbest: 48353.7274066 (308)\ttotal: 5.05s\tremaining: 24.4s\n",
            "343:\tlearn: 44504.6248705\ttest: 48381.1439514\tbest: 48353.7274066 (308)\ttotal: 5.07s\tremaining: 24.4s\n",
            "344:\tlearn: 44473.6641466\ttest: 48374.2052675\tbest: 48353.7274066 (308)\ttotal: 5.1s\tremaining: 24.5s\n",
            "345:\tlearn: 44448.9828036\ttest: 48382.6720031\tbest: 48353.7274066 (308)\ttotal: 5.13s\tremaining: 24.5s\n",
            "346:\tlearn: 44424.7530321\ttest: 48393.7968032\tbest: 48353.7274066 (308)\ttotal: 5.14s\tremaining: 24.5s\n",
            "347:\tlearn: 44415.6328535\ttest: 48395.5260661\tbest: 48353.7274066 (308)\ttotal: 5.16s\tremaining: 24.5s\n",
            "348:\tlearn: 44406.5668783\ttest: 48393.3713658\tbest: 48353.7274066 (308)\ttotal: 5.17s\tremaining: 24.5s\n",
            "349:\tlearn: 44370.4249365\ttest: 48404.6288826\tbest: 48353.7274066 (308)\ttotal: 5.19s\tremaining: 24.5s\n",
            "350:\tlearn: 44357.2955644\ttest: 48407.7296864\tbest: 48353.7274066 (308)\ttotal: 5.21s\tremaining: 24.5s\n",
            "351:\tlearn: 44327.8839857\ttest: 48402.9957683\tbest: 48353.7274066 (308)\ttotal: 5.22s\tremaining: 24.4s\n",
            "352:\tlearn: 44323.4843209\ttest: 48402.5652710\tbest: 48353.7274066 (308)\ttotal: 5.23s\tremaining: 24.4s\n",
            "353:\tlearn: 44307.4494070\ttest: 48402.7152098\tbest: 48353.7274066 (308)\ttotal: 5.24s\tremaining: 24.4s\n",
            "354:\tlearn: 44303.9262010\ttest: 48408.2714374\tbest: 48353.7274066 (308)\ttotal: 5.26s\tremaining: 24.4s\n",
            "355:\tlearn: 44295.4766116\ttest: 48419.2850654\tbest: 48353.7274066 (308)\ttotal: 5.26s\tremaining: 24.3s\n",
            "356:\tlearn: 44284.0400674\ttest: 48415.8624681\tbest: 48353.7274066 (308)\ttotal: 5.28s\tremaining: 24.3s\n",
            "357:\tlearn: 44276.9231981\ttest: 48417.7295908\tbest: 48353.7274066 (308)\ttotal: 5.29s\tremaining: 24.2s\n",
            "358:\tlearn: 44268.3291175\ttest: 48419.5711069\tbest: 48353.7274066 (308)\ttotal: 5.3s\tremaining: 24.2s\n",
            "359:\tlearn: 44260.1395004\ttest: 48418.9764934\tbest: 48353.7274066 (308)\ttotal: 5.32s\tremaining: 24.2s\n",
            "360:\tlearn: 44249.8733247\ttest: 48424.0605423\tbest: 48353.7274066 (308)\ttotal: 5.34s\tremaining: 24.2s\n",
            "361:\tlearn: 44241.5361330\ttest: 48426.3940508\tbest: 48353.7274066 (308)\ttotal: 5.35s\tremaining: 24.2s\n",
            "362:\tlearn: 44230.5071360\ttest: 48433.4126307\tbest: 48353.7274066 (308)\ttotal: 5.36s\tremaining: 24.2s\n",
            "363:\tlearn: 44225.7732720\ttest: 48439.2828592\tbest: 48353.7274066 (308)\ttotal: 5.37s\tremaining: 24.1s\n",
            "364:\tlearn: 44212.9626111\ttest: 48435.0894054\tbest: 48353.7274066 (308)\ttotal: 5.39s\tremaining: 24.1s\n",
            "365:\tlearn: 44203.3828182\ttest: 48444.5078279\tbest: 48353.7274066 (308)\ttotal: 5.41s\tremaining: 24.2s\n",
            "366:\tlearn: 44195.3581976\ttest: 48446.2949505\tbest: 48353.7274066 (308)\ttotal: 5.43s\tremaining: 24.2s\n",
            "367:\tlearn: 44191.4537016\ttest: 48448.9906143\tbest: 48353.7274066 (308)\ttotal: 5.45s\tremaining: 24.2s\n",
            "368:\tlearn: 44185.2475043\ttest: 48449.4608677\tbest: 48353.7274066 (308)\ttotal: 5.47s\tremaining: 24.2s\n",
            "369:\tlearn: 44166.2430965\ttest: 48437.8257685\tbest: 48353.7274066 (308)\ttotal: 5.48s\tremaining: 24.1s\n",
            "370:\tlearn: 44161.3171100\ttest: 48439.6720030\tbest: 48353.7274066 (308)\ttotal: 5.51s\tremaining: 24.2s\n",
            "371:\tlearn: 44141.0948761\ttest: 48448.7721756\tbest: 48353.7274066 (308)\ttotal: 5.53s\tremaining: 24.2s\n",
            "372:\tlearn: 44131.9070118\ttest: 48444.9361007\tbest: 48353.7274066 (308)\ttotal: 5.55s\tremaining: 24.2s\n",
            "373:\tlearn: 44110.9776346\ttest: 48442.3746735\tbest: 48353.7274066 (308)\ttotal: 5.61s\tremaining: 24.4s\n",
            "374:\tlearn: 44106.1727745\ttest: 48446.8391736\tbest: 48353.7274066 (308)\ttotal: 5.63s\tremaining: 24.4s\n",
            "375:\tlearn: 44100.9339967\ttest: 48450.2546784\tbest: 48353.7274066 (308)\ttotal: 5.64s\tremaining: 24.4s\n",
            "376:\tlearn: 44096.1152318\ttest: 48450.3987859\tbest: 48353.7274066 (308)\ttotal: 5.66s\tremaining: 24.4s\n",
            "377:\tlearn: 44095.0303146\ttest: 48450.1077100\tbest: 48353.7274066 (308)\ttotal: 5.67s\tremaining: 24.4s\n",
            "378:\tlearn: 44090.0086859\ttest: 48450.9663532\tbest: 48353.7274066 (308)\ttotal: 5.69s\tremaining: 24.3s\n",
            "379:\tlearn: 44066.6644703\ttest: 48443.6225679\tbest: 48353.7274066 (308)\ttotal: 5.71s\tremaining: 24.3s\n",
            "380:\tlearn: 44063.0812198\ttest: 48441.6540089\tbest: 48353.7274066 (308)\ttotal: 5.72s\tremaining: 24.3s\n",
            "381:\tlearn: 44055.1610470\ttest: 48444.1132786\tbest: 48353.7274066 (308)\ttotal: 5.74s\tremaining: 24.3s\n",
            "382:\tlearn: 44040.3718769\ttest: 48444.0215469\tbest: 48353.7274066 (308)\ttotal: 5.76s\tremaining: 24.3s\n",
            "383:\tlearn: 44035.8044396\ttest: 48441.9749868\tbest: 48353.7274066 (308)\ttotal: 5.78s\tremaining: 24.3s\n",
            "384:\tlearn: 44027.2940936\ttest: 48447.5028034\tbest: 48353.7274066 (308)\ttotal: 5.79s\tremaining: 24.3s\n",
            "385:\tlearn: 44021.6995250\ttest: 48445.0488536\tbest: 48353.7274066 (308)\ttotal: 5.81s\tremaining: 24.3s\n",
            "386:\tlearn: 44012.6815797\ttest: 48449.8161218\tbest: 48353.7274066 (308)\ttotal: 5.82s\tremaining: 24.3s\n",
            "387:\tlearn: 43999.5960765\ttest: 48455.9990517\tbest: 48353.7274066 (308)\ttotal: 5.83s\tremaining: 24.2s\n",
            "388:\tlearn: 43996.5114473\ttest: 48459.2577183\tbest: 48353.7274066 (308)\ttotal: 5.85s\tremaining: 24.2s\n",
            "389:\tlearn: 43988.5260309\ttest: 48464.7281273\tbest: 48353.7274066 (308)\ttotal: 5.86s\tremaining: 24.2s\n",
            "390:\tlearn: 43984.6130760\ttest: 48464.7675121\tbest: 48353.7274066 (308)\ttotal: 5.88s\tremaining: 24.2s\n",
            "391:\tlearn: 43938.5227699\ttest: 48486.2975940\tbest: 48353.7274066 (308)\ttotal: 5.9s\tremaining: 24.2s\n",
            "392:\tlearn: 43933.0081968\ttest: 48487.7548180\tbest: 48353.7274066 (308)\ttotal: 5.91s\tremaining: 24.2s\n",
            "393:\tlearn: 43922.3571656\ttest: 48482.0339302\tbest: 48353.7274066 (308)\ttotal: 5.92s\tremaining: 24.1s\n",
            "394:\tlearn: 43918.1609159\ttest: 48479.1210504\tbest: 48353.7274066 (308)\ttotal: 5.94s\tremaining: 24.2s\n",
            "395:\tlearn: 43904.9505666\ttest: 48480.9496240\tbest: 48353.7274066 (308)\ttotal: 5.96s\tremaining: 24.1s\n",
            "396:\tlearn: 43898.7802999\ttest: 48476.0449617\tbest: 48353.7274066 (308)\ttotal: 5.97s\tremaining: 24.1s\n",
            "397:\tlearn: 43879.3700275\ttest: 48477.3265069\tbest: 48353.7274066 (308)\ttotal: 6s\tremaining: 24.1s\n",
            "398:\tlearn: 43863.5615468\ttest: 48476.0975485\tbest: 48353.7274066 (308)\ttotal: 6.01s\tremaining: 24.1s\n",
            "399:\tlearn: 43850.6168309\ttest: 48478.9860823\tbest: 48353.7274066 (308)\ttotal: 6.02s\tremaining: 24.1s\n",
            "400:\tlearn: 43836.6268464\ttest: 48478.6144355\tbest: 48353.7274066 (308)\ttotal: 6.03s\tremaining: 24s\n",
            "401:\tlearn: 43823.5790418\ttest: 48479.8610161\tbest: 48353.7274066 (308)\ttotal: 6.04s\tremaining: 24s\n",
            "402:\tlearn: 43818.9958223\ttest: 48482.8714260\tbest: 48353.7274066 (308)\ttotal: 6.05s\tremaining: 24s\n",
            "403:\tlearn: 43811.1874700\ttest: 48484.6924763\tbest: 48353.7274066 (308)\ttotal: 6.06s\tremaining: 23.9s\n",
            "404:\tlearn: 43806.4803472\ttest: 48484.4847918\tbest: 48353.7274066 (308)\ttotal: 6.07s\tremaining: 23.9s\n",
            "405:\tlearn: 43788.5462996\ttest: 48477.6258229\tbest: 48353.7274066 (308)\ttotal: 6.08s\tremaining: 23.9s\n",
            "406:\tlearn: 43778.2533519\ttest: 48495.5075631\tbest: 48353.7274066 (308)\ttotal: 6.1s\tremaining: 23.9s\n",
            "407:\tlearn: 43767.1342541\ttest: 48497.8828089\tbest: 48353.7274066 (308)\ttotal: 6.12s\tremaining: 23.9s\n",
            "408:\tlearn: 43756.4269772\ttest: 48500.2343910\tbest: 48353.7274066 (308)\ttotal: 6.12s\tremaining: 23.8s\n",
            "409:\tlearn: 43751.0231418\ttest: 48500.3371449\tbest: 48353.7274066 (308)\ttotal: 6.13s\tremaining: 23.8s\n",
            "410:\tlearn: 43742.2732005\ttest: 48501.0062545\tbest: 48353.7274066 (308)\ttotal: 6.14s\tremaining: 23.7s\n",
            "411:\tlearn: 43718.8004007\ttest: 48501.3806878\tbest: 48353.7274066 (308)\ttotal: 6.16s\tremaining: 23.7s\n",
            "412:\tlearn: 43714.5261819\ttest: 48507.2642830\tbest: 48353.7274066 (308)\ttotal: 6.17s\tremaining: 23.7s\n",
            "413:\tlearn: 43691.9469730\ttest: 48504.1773583\tbest: 48353.7274066 (308)\ttotal: 6.18s\tremaining: 23.7s\n",
            "414:\tlearn: 43677.6392978\ttest: 48504.8733607\tbest: 48353.7274066 (308)\ttotal: 6.2s\tremaining: 23.7s\n",
            "415:\tlearn: 43666.7573476\ttest: 48504.8505841\tbest: 48353.7274066 (308)\ttotal: 6.21s\tremaining: 23.6s\n",
            "416:\tlearn: 43650.3738010\ttest: 48504.9306153\tbest: 48353.7274066 (308)\ttotal: 6.22s\tremaining: 23.6s\n",
            "417:\tlearn: 43627.4528613\ttest: 48502.9066123\tbest: 48353.7274066 (308)\ttotal: 6.23s\tremaining: 23.6s\n",
            "418:\tlearn: 43596.2943522\ttest: 48510.3651239\tbest: 48353.7274066 (308)\ttotal: 6.24s\tremaining: 23.6s\n",
            "419:\tlearn: 43584.4919327\ttest: 48505.7231051\tbest: 48353.7274066 (308)\ttotal: 6.25s\tremaining: 23.5s\n",
            "420:\tlearn: 43581.9314007\ttest: 48507.4500413\tbest: 48353.7274066 (308)\ttotal: 6.26s\tremaining: 23.5s\n",
            "421:\tlearn: 43576.4909069\ttest: 48506.1691992\tbest: 48353.7274066 (308)\ttotal: 6.28s\tremaining: 23.5s\n",
            "422:\tlearn: 43559.2819434\ttest: 48497.9081210\tbest: 48353.7274066 (308)\ttotal: 6.29s\tremaining: 23.4s\n",
            "423:\tlearn: 43547.6663746\ttest: 48499.5590110\tbest: 48353.7274066 (308)\ttotal: 6.29s\tremaining: 23.4s\n",
            "424:\tlearn: 43537.4409597\ttest: 48499.1819328\tbest: 48353.7274066 (308)\ttotal: 6.31s\tremaining: 23.4s\n",
            "425:\tlearn: 43514.9911899\ttest: 48493.1998517\tbest: 48353.7274066 (308)\ttotal: 6.32s\tremaining: 23.3s\n",
            "426:\tlearn: 43504.3675295\ttest: 48494.5251877\tbest: 48353.7274066 (308)\ttotal: 6.33s\tremaining: 23.3s\n",
            "427:\tlearn: 43487.2046720\ttest: 48491.6570421\tbest: 48353.7274066 (308)\ttotal: 6.34s\tremaining: 23.3s\n",
            "428:\tlearn: 43478.2938729\ttest: 48490.5337700\tbest: 48353.7274066 (308)\ttotal: 6.35s\tremaining: 23.2s\n",
            "429:\tlearn: 43468.5705959\ttest: 48488.5994672\tbest: 48353.7274066 (308)\ttotal: 6.36s\tremaining: 23.2s\n",
            "430:\tlearn: 43445.8152955\ttest: 48482.3203193\tbest: 48353.7274066 (308)\ttotal: 6.37s\tremaining: 23.2s\n",
            "431:\tlearn: 43443.1136249\ttest: 48484.2087870\tbest: 48353.7274066 (308)\ttotal: 6.38s\tremaining: 23.2s\n",
            "432:\tlearn: 43431.2362981\ttest: 48481.2020200\tbest: 48353.7274066 (308)\ttotal: 6.4s\tremaining: 23.2s\n",
            "433:\tlearn: 43424.6271070\ttest: 48473.2360645\tbest: 48353.7274066 (308)\ttotal: 6.41s\tremaining: 23.1s\n",
            "434:\tlearn: 43414.6471466\ttest: 48470.3657654\tbest: 48353.7274066 (308)\ttotal: 6.42s\tremaining: 23.1s\n",
            "435:\tlearn: 43407.6760237\ttest: 48471.2373715\tbest: 48353.7274066 (308)\ttotal: 6.43s\tremaining: 23.1s\n",
            "436:\tlearn: 43405.7437892\ttest: 48471.1077372\tbest: 48353.7274066 (308)\ttotal: 6.44s\tremaining: 23s\n",
            "437:\tlearn: 43397.4167713\ttest: 48482.6072212\tbest: 48353.7274066 (308)\ttotal: 6.45s\tremaining: 23s\n",
            "438:\tlearn: 43382.3431629\ttest: 48487.5905707\tbest: 48353.7274066 (308)\ttotal: 6.46s\tremaining: 23s\n",
            "439:\tlearn: 43377.8877437\ttest: 48493.2388502\tbest: 48353.7274066 (308)\ttotal: 6.48s\tremaining: 23s\n",
            "440:\tlearn: 43368.3505389\ttest: 48489.8969137\tbest: 48353.7274066 (308)\ttotal: 6.49s\tremaining: 22.9s\n",
            "441:\tlearn: 43341.4648248\ttest: 48492.2611196\tbest: 48353.7274066 (308)\ttotal: 6.5s\tremaining: 22.9s\n",
            "442:\tlearn: 43338.1003875\ttest: 48491.7240963\tbest: 48353.7274066 (308)\ttotal: 6.51s\tremaining: 22.9s\n",
            "443:\tlearn: 43337.8342907\ttest: 48491.7152162\tbest: 48353.7274066 (308)\ttotal: 6.53s\tremaining: 22.9s\n",
            "444:\tlearn: 43334.8518132\ttest: 48489.0174625\tbest: 48353.7274066 (308)\ttotal: 6.54s\tremaining: 22.9s\n",
            "445:\tlearn: 43328.0616917\ttest: 48481.3080020\tbest: 48353.7274066 (308)\ttotal: 6.57s\tremaining: 22.9s\n",
            "446:\tlearn: 43321.1629004\ttest: 48493.8838406\tbest: 48353.7274066 (308)\ttotal: 6.58s\tremaining: 22.9s\n",
            "447:\tlearn: 43311.6909053\ttest: 48498.9436560\tbest: 48353.7274066 (308)\ttotal: 6.58s\tremaining: 22.8s\n",
            "448:\tlearn: 43304.5776726\ttest: 48502.6197266\tbest: 48353.7274066 (308)\ttotal: 6.59s\tremaining: 22.8s\n",
            "449:\tlearn: 43300.1316151\ttest: 48506.6460877\tbest: 48353.7274066 (308)\ttotal: 6.61s\tremaining: 22.8s\n",
            "450:\tlearn: 43284.1466967\ttest: 48508.9383386\tbest: 48353.7274066 (308)\ttotal: 6.62s\tremaining: 22.7s\n",
            "451:\tlearn: 43260.1545538\ttest: 48510.9702623\tbest: 48353.7274066 (308)\ttotal: 6.63s\tremaining: 22.7s\n",
            "452:\tlearn: 43238.8913412\ttest: 48514.7642379\tbest: 48353.7274066 (308)\ttotal: 6.64s\tremaining: 22.7s\n",
            "453:\tlearn: 43231.9100490\ttest: 48517.9003756\tbest: 48353.7274066 (308)\ttotal: 6.66s\tremaining: 22.7s\n",
            "454:\tlearn: 43221.2483122\ttest: 48519.6653752\tbest: 48353.7274066 (308)\ttotal: 6.67s\tremaining: 22.6s\n",
            "455:\tlearn: 43209.8675243\ttest: 48513.5159689\tbest: 48353.7274066 (308)\ttotal: 6.68s\tremaining: 22.6s\n",
            "456:\tlearn: 43207.8595362\ttest: 48514.7622191\tbest: 48353.7274066 (308)\ttotal: 6.69s\tremaining: 22.6s\n",
            "457:\tlearn: 43202.7354035\ttest: 48511.5526812\tbest: 48353.7274066 (308)\ttotal: 6.71s\tremaining: 22.6s\n",
            "458:\tlearn: 43201.2323033\ttest: 48512.6402446\tbest: 48353.7274066 (308)\ttotal: 6.72s\tremaining: 22.6s\n",
            "459:\tlearn: 43189.8785834\ttest: 48513.6156240\tbest: 48353.7274066 (308)\ttotal: 6.73s\tremaining: 22.5s\n",
            "460:\tlearn: 43172.9535561\ttest: 48510.3140116\tbest: 48353.7274066 (308)\ttotal: 6.74s\tremaining: 22.5s\n",
            "461:\tlearn: 43153.7361134\ttest: 48515.3281139\tbest: 48353.7274066 (308)\ttotal: 6.75s\tremaining: 22.5s\n",
            "462:\tlearn: 43141.6529440\ttest: 48516.0604418\tbest: 48353.7274066 (308)\ttotal: 6.77s\tremaining: 22.5s\n",
            "463:\tlearn: 43138.7183650\ttest: 48515.8982813\tbest: 48353.7274066 (308)\ttotal: 6.78s\tremaining: 22.4s\n",
            "464:\tlearn: 43126.7460912\ttest: 48516.6939707\tbest: 48353.7274066 (308)\ttotal: 6.79s\tremaining: 22.4s\n",
            "465:\tlearn: 43119.0177902\ttest: 48514.4066686\tbest: 48353.7274066 (308)\ttotal: 6.8s\tremaining: 22.4s\n",
            "466:\tlearn: 43112.6027778\ttest: 48515.8785487\tbest: 48353.7274066 (308)\ttotal: 6.82s\tremaining: 22.4s\n",
            "467:\tlearn: 43110.3072641\ttest: 48515.1824268\tbest: 48353.7274066 (308)\ttotal: 6.83s\tremaining: 22.4s\n",
            "468:\tlearn: 43102.8140869\ttest: 48520.1189090\tbest: 48353.7274066 (308)\ttotal: 6.84s\tremaining: 22.3s\n",
            "469:\tlearn: 43082.8440774\ttest: 48535.8811368\tbest: 48353.7274066 (308)\ttotal: 6.85s\tremaining: 22.3s\n",
            "470:\tlearn: 43078.8843226\ttest: 48538.4023907\tbest: 48353.7274066 (308)\ttotal: 6.87s\tremaining: 22.3s\n",
            "471:\tlearn: 43064.8609746\ttest: 48543.4063451\tbest: 48353.7274066 (308)\ttotal: 6.88s\tremaining: 22.3s\n",
            "472:\tlearn: 43050.8145776\ttest: 48537.6899886\tbest: 48353.7274066 (308)\ttotal: 6.89s\tremaining: 22.2s\n",
            "473:\tlearn: 43045.8749114\ttest: 48538.5833188\tbest: 48353.7274066 (308)\ttotal: 6.91s\tremaining: 22.2s\n",
            "474:\tlearn: 43034.3826186\ttest: 48542.6996986\tbest: 48353.7274066 (308)\ttotal: 6.92s\tremaining: 22.2s\n",
            "475:\tlearn: 43024.1776066\ttest: 48541.5607282\tbest: 48353.7274066 (308)\ttotal: 6.94s\tremaining: 22.2s\n",
            "476:\tlearn: 43016.7020042\ttest: 48541.2696301\tbest: 48353.7274066 (308)\ttotal: 6.97s\tremaining: 22.2s\n",
            "477:\tlearn: 43007.9414335\ttest: 48536.9328045\tbest: 48353.7274066 (308)\ttotal: 6.98s\tremaining: 22.2s\n",
            "478:\tlearn: 42997.7499808\ttest: 48542.2290348\tbest: 48353.7274066 (308)\ttotal: 7s\tremaining: 22.2s\n",
            "479:\tlearn: 42989.5584708\ttest: 48546.7255534\tbest: 48353.7274066 (308)\ttotal: 7.01s\tremaining: 22.2s\n",
            "480:\tlearn: 42983.7991237\ttest: 48549.1199192\tbest: 48353.7274066 (308)\ttotal: 7.03s\tremaining: 22.2s\n",
            "481:\tlearn: 42963.8966912\ttest: 48554.3323767\tbest: 48353.7274066 (308)\ttotal: 7.04s\tremaining: 22.2s\n",
            "482:\tlearn: 42954.5276929\ttest: 48558.0603831\tbest: 48353.7274066 (308)\ttotal: 7.05s\tremaining: 22.1s\n",
            "483:\tlearn: 42947.7090934\ttest: 48564.9603461\tbest: 48353.7274066 (308)\ttotal: 7.06s\tremaining: 22.1s\n",
            "484:\tlearn: 42926.4878127\ttest: 48560.3031860\tbest: 48353.7274066 (308)\ttotal: 7.07s\tremaining: 22.1s\n",
            "485:\tlearn: 42916.9439041\ttest: 48562.4519064\tbest: 48353.7274066 (308)\ttotal: 7.08s\tremaining: 22.1s\n",
            "486:\tlearn: 42916.0600057\ttest: 48562.2892363\tbest: 48353.7274066 (308)\ttotal: 7.1s\tremaining: 22.1s\n",
            "487:\tlearn: 42896.1842766\ttest: 48559.9167174\tbest: 48353.7274066 (308)\ttotal: 7.11s\tremaining: 22s\n",
            "488:\tlearn: 42881.7825520\ttest: 48564.3070802\tbest: 48353.7274066 (308)\ttotal: 7.12s\tremaining: 22s\n",
            "489:\tlearn: 42870.4805621\ttest: 48574.6629109\tbest: 48353.7274066 (308)\ttotal: 7.14s\tremaining: 22s\n",
            "490:\tlearn: 42851.4433056\ttest: 48577.5152503\tbest: 48353.7274066 (308)\ttotal: 7.15s\tremaining: 22s\n",
            "491:\tlearn: 42835.6001306\ttest: 48590.5813255\tbest: 48353.7274066 (308)\ttotal: 7.17s\tremaining: 22s\n",
            "492:\tlearn: 42826.5635994\ttest: 48593.3501970\tbest: 48353.7274066 (308)\ttotal: 7.18s\tremaining: 21.9s\n",
            "493:\tlearn: 42824.7374013\ttest: 48591.8878151\tbest: 48353.7274066 (308)\ttotal: 7.19s\tremaining: 21.9s\n",
            "494:\tlearn: 42820.9935371\ttest: 48589.9883188\tbest: 48353.7274066 (308)\ttotal: 7.21s\tremaining: 21.9s\n",
            "495:\tlearn: 42819.2409727\ttest: 48589.3175513\tbest: 48353.7274066 (308)\ttotal: 7.22s\tremaining: 21.9s\n",
            "496:\tlearn: 42799.1650408\ttest: 48587.7439038\tbest: 48353.7274066 (308)\ttotal: 7.23s\tremaining: 21.9s\n",
            "497:\tlearn: 42789.2404520\ttest: 48591.4371175\tbest: 48353.7274066 (308)\ttotal: 7.24s\tremaining: 21.8s\n",
            "498:\tlearn: 42773.2045287\ttest: 48594.5792560\tbest: 48353.7274066 (308)\ttotal: 7.27s\tremaining: 21.9s\n",
            "499:\tlearn: 42760.2271422\ttest: 48592.5940391\tbest: 48353.7274066 (308)\ttotal: 7.28s\tremaining: 21.8s\n",
            "500:\tlearn: 42742.3983510\ttest: 48598.0128244\tbest: 48353.7274066 (308)\ttotal: 7.29s\tremaining: 21.8s\n",
            "501:\tlearn: 42734.1745312\ttest: 48611.0652420\tbest: 48353.7274066 (308)\ttotal: 7.31s\tremaining: 21.8s\n",
            "502:\tlearn: 42727.2390695\ttest: 48612.9147913\tbest: 48353.7274066 (308)\ttotal: 7.32s\tremaining: 21.8s\n",
            "503:\tlearn: 42709.0597179\ttest: 48605.8514906\tbest: 48353.7274066 (308)\ttotal: 7.33s\tremaining: 21.8s\n",
            "504:\tlearn: 42692.5031606\ttest: 48608.8167332\tbest: 48353.7274066 (308)\ttotal: 7.36s\tremaining: 21.8s\n",
            "505:\tlearn: 42687.3240536\ttest: 48610.4386490\tbest: 48353.7274066 (308)\ttotal: 7.38s\tremaining: 21.8s\n",
            "506:\tlearn: 42680.7098973\ttest: 48616.7852949\tbest: 48353.7274066 (308)\ttotal: 7.41s\tremaining: 21.8s\n",
            "507:\tlearn: 42678.2650660\ttest: 48616.1167482\tbest: 48353.7274066 (308)\ttotal: 7.42s\tremaining: 21.8s\n",
            "508:\tlearn: 42668.8209678\ttest: 48617.7756038\tbest: 48353.7274066 (308)\ttotal: 7.44s\tremaining: 21.8s\n",
            "509:\tlearn: 42646.1001060\ttest: 48611.4861386\tbest: 48353.7274066 (308)\ttotal: 7.48s\tremaining: 21.9s\n",
            "510:\tlearn: 42642.1317879\ttest: 48611.3681493\tbest: 48353.7274066 (308)\ttotal: 7.51s\tremaining: 21.9s\n",
            "511:\tlearn: 42624.4600008\ttest: 48612.4871924\tbest: 48353.7274066 (308)\ttotal: 7.53s\tremaining: 21.9s\n",
            "512:\tlearn: 42617.2358979\ttest: 48603.9691286\tbest: 48353.7274066 (308)\ttotal: 7.56s\tremaining: 21.9s\n",
            "513:\tlearn: 42608.7827284\ttest: 48604.1124403\tbest: 48353.7274066 (308)\ttotal: 7.58s\tremaining: 21.9s\n",
            "514:\tlearn: 42600.4957492\ttest: 48601.8671234\tbest: 48353.7274066 (308)\ttotal: 7.59s\tremaining: 21.9s\n",
            "515:\tlearn: 42581.7165566\ttest: 48618.5701420\tbest: 48353.7274066 (308)\ttotal: 7.6s\tremaining: 21.9s\n",
            "516:\tlearn: 42556.1955876\ttest: 48621.4696697\tbest: 48353.7274066 (308)\ttotal: 7.63s\tremaining: 21.9s\n",
            "517:\tlearn: 42551.4111088\ttest: 48617.7810080\tbest: 48353.7274066 (308)\ttotal: 7.65s\tremaining: 21.9s\n",
            "518:\tlearn: 42537.3020699\ttest: 48617.2164302\tbest: 48353.7274066 (308)\ttotal: 7.66s\tremaining: 21.9s\n",
            "519:\tlearn: 42516.3537912\ttest: 48619.9969862\tbest: 48353.7274066 (308)\ttotal: 7.68s\tremaining: 21.9s\n",
            "520:\tlearn: 42510.1767510\ttest: 48624.7383004\tbest: 48353.7274066 (308)\ttotal: 7.71s\tremaining: 21.9s\n",
            "521:\tlearn: 42500.6560467\ttest: 48622.1617686\tbest: 48353.7274066 (308)\ttotal: 7.74s\tremaining: 21.9s\n",
            "522:\tlearn: 42488.6236393\ttest: 48627.1546826\tbest: 48353.7274066 (308)\ttotal: 7.75s\tremaining: 21.9s\n",
            "523:\tlearn: 42480.6877318\ttest: 48627.9651650\tbest: 48353.7274066 (308)\ttotal: 7.77s\tremaining: 21.9s\n",
            "524:\tlearn: 42471.0796275\ttest: 48627.2719815\tbest: 48353.7274066 (308)\ttotal: 7.79s\tremaining: 21.9s\n",
            "525:\tlearn: 42449.7636344\ttest: 48621.6422814\tbest: 48353.7274066 (308)\ttotal: 7.8s\tremaining: 21.9s\n",
            "526:\tlearn: 42438.4672434\ttest: 48619.5665920\tbest: 48353.7274066 (308)\ttotal: 7.83s\tremaining: 21.9s\n",
            "527:\tlearn: 42421.1574964\ttest: 48629.1374948\tbest: 48353.7274066 (308)\ttotal: 7.85s\tremaining: 21.9s\n",
            "528:\tlearn: 42405.2315250\ttest: 48628.2538878\tbest: 48353.7274066 (308)\ttotal: 7.87s\tremaining: 21.9s\n",
            "529:\tlearn: 42401.5430299\ttest: 48628.7876846\tbest: 48353.7274066 (308)\ttotal: 7.89s\tremaining: 21.9s\n",
            "530:\tlearn: 42388.7184743\ttest: 48627.3195337\tbest: 48353.7274066 (308)\ttotal: 7.92s\tremaining: 21.9s\n",
            "531:\tlearn: 42380.2336261\ttest: 48629.3353627\tbest: 48353.7274066 (308)\ttotal: 7.93s\tremaining: 21.9s\n",
            "532:\tlearn: 42371.9652180\ttest: 48627.8399877\tbest: 48353.7274066 (308)\ttotal: 7.94s\tremaining: 21.9s\n",
            "533:\tlearn: 42366.0406667\ttest: 48627.0809999\tbest: 48353.7274066 (308)\ttotal: 7.96s\tremaining: 21.8s\n",
            "534:\tlearn: 42356.3661365\ttest: 48627.0230478\tbest: 48353.7274066 (308)\ttotal: 7.97s\tremaining: 21.8s\n",
            "535:\tlearn: 42341.0467084\ttest: 48634.7038310\tbest: 48353.7274066 (308)\ttotal: 7.98s\tremaining: 21.8s\n",
            "536:\tlearn: 42334.3015229\ttest: 48630.7693843\tbest: 48353.7274066 (308)\ttotal: 7.99s\tremaining: 21.8s\n",
            "537:\tlearn: 42331.7540123\ttest: 48630.3832051\tbest: 48353.7274066 (308)\ttotal: 8.01s\tremaining: 21.8s\n",
            "538:\tlearn: 42322.3233711\ttest: 48626.5654397\tbest: 48353.7274066 (308)\ttotal: 8.02s\tremaining: 21.7s\n",
            "539:\tlearn: 42307.4821594\ttest: 48636.5107524\tbest: 48353.7274066 (308)\ttotal: 8.04s\tremaining: 21.7s\n",
            "540:\tlearn: 42304.7023819\ttest: 48637.8310249\tbest: 48353.7274066 (308)\ttotal: 8.05s\tremaining: 21.7s\n",
            "541:\tlearn: 42300.7847347\ttest: 48641.9203089\tbest: 48353.7274066 (308)\ttotal: 8.07s\tremaining: 21.7s\n",
            "542:\tlearn: 42291.6343521\ttest: 48646.2110375\tbest: 48353.7274066 (308)\ttotal: 8.1s\tremaining: 21.7s\n",
            "543:\tlearn: 42288.9806936\ttest: 48644.3112867\tbest: 48353.7274066 (308)\ttotal: 8.13s\tremaining: 21.8s\n",
            "544:\tlearn: 42269.4563005\ttest: 48637.3415865\tbest: 48353.7274066 (308)\ttotal: 8.15s\tremaining: 21.8s\n",
            "545:\tlearn: 42265.0689122\ttest: 48639.9087349\tbest: 48353.7274066 (308)\ttotal: 8.17s\tremaining: 21.8s\n",
            "546:\tlearn: 42257.2806717\ttest: 48642.0137233\tbest: 48353.7274066 (308)\ttotal: 8.18s\tremaining: 21.7s\n",
            "547:\tlearn: 42250.2532635\ttest: 48644.5476550\tbest: 48353.7274066 (308)\ttotal: 8.19s\tremaining: 21.7s\n",
            "548:\tlearn: 42238.0832660\ttest: 48640.6044186\tbest: 48353.7274066 (308)\ttotal: 8.22s\tremaining: 21.7s\n",
            "549:\tlearn: 42232.8201931\ttest: 48640.6852821\tbest: 48353.7274066 (308)\ttotal: 8.24s\tremaining: 21.7s\n",
            "550:\tlearn: 42219.9151949\ttest: 48644.8571559\tbest: 48353.7274066 (308)\ttotal: 8.26s\tremaining: 21.7s\n",
            "551:\tlearn: 42212.9851962\ttest: 48648.0043228\tbest: 48353.7274066 (308)\ttotal: 8.28s\tremaining: 21.7s\n",
            "552:\tlearn: 42194.0317078\ttest: 48643.3513372\tbest: 48353.7274066 (308)\ttotal: 8.31s\tremaining: 21.8s\n",
            "553:\tlearn: 42191.4531335\ttest: 48642.7920379\tbest: 48353.7274066 (308)\ttotal: 8.33s\tremaining: 21.7s\n",
            "554:\tlearn: 42184.0399257\ttest: 48644.7537767\tbest: 48353.7274066 (308)\ttotal: 8.35s\tremaining: 21.7s\n",
            "555:\tlearn: 42169.1771653\ttest: 48642.3254960\tbest: 48353.7274066 (308)\ttotal: 8.37s\tremaining: 21.7s\n",
            "556:\tlearn: 42156.8585933\ttest: 48642.0055224\tbest: 48353.7274066 (308)\ttotal: 8.38s\tremaining: 21.7s\n",
            "557:\tlearn: 42153.4703684\ttest: 48644.5206976\tbest: 48353.7274066 (308)\ttotal: 8.41s\tremaining: 21.7s\n",
            "558:\tlearn: 42132.9666658\ttest: 48640.7268351\tbest: 48353.7274066 (308)\ttotal: 8.44s\tremaining: 21.8s\n",
            "559:\tlearn: 42124.3498898\ttest: 48634.6035774\tbest: 48353.7274066 (308)\ttotal: 8.46s\tremaining: 21.8s\n",
            "560:\tlearn: 42107.2028187\ttest: 48626.0733119\tbest: 48353.7274066 (308)\ttotal: 8.51s\tremaining: 21.8s\n",
            "561:\tlearn: 42098.7175483\ttest: 48630.1266699\tbest: 48353.7274066 (308)\ttotal: 8.53s\tremaining: 21.8s\n",
            "562:\tlearn: 42090.8119567\ttest: 48632.1118115\tbest: 48353.7274066 (308)\ttotal: 8.55s\tremaining: 21.8s\n",
            "563:\tlearn: 42084.6214839\ttest: 48637.7218924\tbest: 48353.7274066 (308)\ttotal: 8.57s\tremaining: 21.8s\n",
            "564:\tlearn: 42060.1337386\ttest: 48623.9301820\tbest: 48353.7274066 (308)\ttotal: 8.59s\tremaining: 21.8s\n",
            "565:\tlearn: 42049.2142764\ttest: 48621.5046264\tbest: 48353.7274066 (308)\ttotal: 8.61s\tremaining: 21.8s\n",
            "566:\tlearn: 42045.8381120\ttest: 48618.9108093\tbest: 48353.7274066 (308)\ttotal: 8.63s\tremaining: 21.8s\n",
            "567:\tlearn: 42037.7865779\ttest: 48638.6227832\tbest: 48353.7274066 (308)\ttotal: 8.67s\tremaining: 21.9s\n",
            "568:\tlearn: 42031.7966053\ttest: 48635.4705740\tbest: 48353.7274066 (308)\ttotal: 8.68s\tremaining: 21.8s\n",
            "569:\tlearn: 42012.9044387\ttest: 48645.2950864\tbest: 48353.7274066 (308)\ttotal: 8.69s\tremaining: 21.8s\n",
            "570:\tlearn: 41999.2471254\ttest: 48645.4154001\tbest: 48353.7274066 (308)\ttotal: 8.71s\tremaining: 21.8s\n",
            "571:\tlearn: 41994.5978395\ttest: 48643.7669403\tbest: 48353.7274066 (308)\ttotal: 8.72s\tremaining: 21.8s\n",
            "572:\tlearn: 41988.8228378\ttest: 48646.4682898\tbest: 48353.7274066 (308)\ttotal: 8.73s\tremaining: 21.7s\n",
            "573:\tlearn: 41982.5186169\ttest: 48643.0493928\tbest: 48353.7274066 (308)\ttotal: 8.74s\tremaining: 21.7s\n",
            "574:\tlearn: 41976.2848671\ttest: 48642.9456670\tbest: 48353.7274066 (308)\ttotal: 8.76s\tremaining: 21.7s\n",
            "575:\tlearn: 41969.7534879\ttest: 48646.3282364\tbest: 48353.7274066 (308)\ttotal: 8.77s\tremaining: 21.7s\n",
            "576:\tlearn: 41967.8336292\ttest: 48645.8124871\tbest: 48353.7274066 (308)\ttotal: 8.79s\tremaining: 21.7s\n",
            "577:\tlearn: 41962.2145856\ttest: 48645.9714193\tbest: 48353.7274066 (308)\ttotal: 8.8s\tremaining: 21.7s\n",
            "578:\tlearn: 41958.8521868\ttest: 48645.9515073\tbest: 48353.7274066 (308)\ttotal: 8.82s\tremaining: 21.6s\n",
            "579:\tlearn: 41946.9569926\ttest: 48657.8773771\tbest: 48353.7274066 (308)\ttotal: 8.83s\tremaining: 21.6s\n",
            "580:\tlearn: 41930.3617014\ttest: 48655.8741993\tbest: 48353.7274066 (308)\ttotal: 8.84s\tremaining: 21.6s\n",
            "581:\tlearn: 41912.6632369\ttest: 48660.3175574\tbest: 48353.7274066 (308)\ttotal: 8.86s\tremaining: 21.6s\n",
            "582:\tlearn: 41909.6672374\ttest: 48660.5813129\tbest: 48353.7274066 (308)\ttotal: 8.87s\tremaining: 21.6s\n",
            "583:\tlearn: 41889.8549363\ttest: 48666.0596358\tbest: 48353.7274066 (308)\ttotal: 8.88s\tremaining: 21.5s\n",
            "584:\tlearn: 41878.6538112\ttest: 48663.7166275\tbest: 48353.7274066 (308)\ttotal: 8.88s\tremaining: 21.5s\n",
            "585:\tlearn: 41869.6020456\ttest: 48661.3701267\tbest: 48353.7274066 (308)\ttotal: 8.88s\tremaining: 21.4s\n",
            "586:\tlearn: 41860.9945611\ttest: 48666.1418628\tbest: 48353.7274066 (308)\ttotal: 8.89s\tremaining: 21.4s\n",
            "587:\tlearn: 41843.4571868\ttest: 48665.9274119\tbest: 48353.7274066 (308)\ttotal: 8.9s\tremaining: 21.4s\n",
            "588:\tlearn: 41836.4556096\ttest: 48664.1839291\tbest: 48353.7274066 (308)\ttotal: 8.9s\tremaining: 21.3s\n",
            "589:\tlearn: 41833.2118730\ttest: 48664.5841278\tbest: 48353.7274066 (308)\ttotal: 8.91s\tremaining: 21.3s\n",
            "590:\tlearn: 41828.3561546\ttest: 48665.0094524\tbest: 48353.7274066 (308)\ttotal: 8.91s\tremaining: 21.3s\n",
            "591:\tlearn: 41819.3248678\ttest: 48662.4247207\tbest: 48353.7274066 (308)\ttotal: 8.92s\tremaining: 21.2s\n",
            "592:\tlearn: 41812.3852155\ttest: 48659.4437642\tbest: 48353.7274066 (308)\ttotal: 8.93s\tremaining: 21.2s\n",
            "593:\tlearn: 41803.4820374\ttest: 48659.5907644\tbest: 48353.7274066 (308)\ttotal: 8.93s\tremaining: 21.1s\n",
            "594:\tlearn: 41778.7316194\ttest: 48679.0649027\tbest: 48353.7274066 (308)\ttotal: 8.94s\tremaining: 21.1s\n",
            "595:\tlearn: 41774.1039484\ttest: 48681.6227925\tbest: 48353.7274066 (308)\ttotal: 8.94s\tremaining: 21.1s\n",
            "596:\tlearn: 41772.6914041\ttest: 48680.0214454\tbest: 48353.7274066 (308)\ttotal: 8.95s\tremaining: 21s\n",
            "597:\tlearn: 41767.3160582\ttest: 48678.1961109\tbest: 48353.7274066 (308)\ttotal: 8.95s\tremaining: 21s\n",
            "598:\tlearn: 41765.8981491\ttest: 48670.5750171\tbest: 48353.7274066 (308)\ttotal: 8.96s\tremaining: 20.9s\n",
            "599:\tlearn: 41760.4473176\ttest: 48677.7340854\tbest: 48353.7274066 (308)\ttotal: 8.96s\tremaining: 20.9s\n",
            "600:\tlearn: 41755.6332608\ttest: 48674.9388007\tbest: 48353.7274066 (308)\ttotal: 8.97s\tremaining: 20.9s\n",
            "601:\tlearn: 41747.5656664\ttest: 48679.1114568\tbest: 48353.7274066 (308)\ttotal: 8.97s\tremaining: 20.8s\n",
            "602:\tlearn: 41744.7575565\ttest: 48663.1474516\tbest: 48353.7274066 (308)\ttotal: 8.97s\tremaining: 20.8s\n",
            "603:\tlearn: 41727.9533941\ttest: 48662.8432054\tbest: 48353.7274066 (308)\ttotal: 8.98s\tremaining: 20.8s\n",
            "604:\tlearn: 41717.0909327\ttest: 48663.2438710\tbest: 48353.7274066 (308)\ttotal: 8.98s\tremaining: 20.7s\n",
            "605:\tlearn: 41714.2621415\ttest: 48661.0490142\tbest: 48353.7274066 (308)\ttotal: 8.99s\tremaining: 20.7s\n",
            "606:\tlearn: 41707.9077985\ttest: 48658.3541230\tbest: 48353.7274066 (308)\ttotal: 8.99s\tremaining: 20.6s\n",
            "607:\tlearn: 41706.5195692\ttest: 48660.1976076\tbest: 48353.7274066 (308)\ttotal: 8.99s\tremaining: 20.6s\n",
            "608:\tlearn: 41684.0326884\ttest: 48651.5252399\tbest: 48353.7274066 (308)\ttotal: 9s\tremaining: 20.6s\n",
            "609:\tlearn: 41675.8292087\ttest: 48650.4307806\tbest: 48353.7274066 (308)\ttotal: 9.01s\tremaining: 20.5s\n",
            "610:\tlearn: 41657.0176870\ttest: 48661.8731731\tbest: 48353.7274066 (308)\ttotal: 9.01s\tremaining: 20.5s\n",
            "611:\tlearn: 41649.6305066\ttest: 48666.0024161\tbest: 48353.7274066 (308)\ttotal: 9.01s\tremaining: 20.4s\n",
            "612:\tlearn: 41640.7825525\ttest: 48670.4864724\tbest: 48353.7274066 (308)\ttotal: 9.02s\tremaining: 20.4s\n",
            "613:\tlearn: 41637.5503866\ttest: 48677.1092859\tbest: 48353.7274066 (308)\ttotal: 9.02s\tremaining: 20.4s\n",
            "614:\tlearn: 41623.2351981\ttest: 48678.1552474\tbest: 48353.7274066 (308)\ttotal: 9.03s\tremaining: 20.3s\n",
            "Stopped by overfitting detector  (50 iterations wait)\n",
            "\n",
            "bestTest = 48353.72741\n",
            "bestIteration = 308\n",
            "\n",
            "Shrink model to first 309 iterations.\n"
          ]
        },
        {
          "output_type": "execute_result",
          "data": {
            "text/plain": [
              "<catboost.core.CatBoostRegressor at 0x7ed12f5a0b10>"
            ]
          },
          "metadata": {},
          "execution_count": 65
        }
      ]
    },
    {
      "cell_type": "code",
      "source": [
        "def objective(trial: optuna.Trial) -> float:\n",
        "    param = {\n",
        "        \"colsample_bylevel\": trial.suggest_float(\"colsample_bylevel\", 0.01, 0.1, log=True),\n",
        "        \"depth\": trial.suggest_int(\"depth\", 1, 12),\n",
        "        \"boosting_type\": trial.suggest_categorical(\"boosting_type\", [\"Ordered\", \"Plain\"]),\n",
        "        \"bootstrap_type\": trial.suggest_categorical(\n",
        "            \"bootstrap_type\", [\"Bayesian\", \"Bernoulli\", \"MVS\"]\n",
        "        ),\n",
        "        \"eval_metric\": \"RMSE\",\n",
        "    }\n",
        "\n",
        "    if param[\"bootstrap_type\"] == \"Bayesian\":\n",
        "        param[\"bagging_temperature\"] = trial.suggest_float(\"bagging_temperature\", 0, 10)\n",
        "    elif param[\"bootstrap_type\"] == \"Bernoulli\":\n",
        "        param[\"subsample\"] = trial.suggest_float(\"subsample\", 0.1, 1, log=True)\n",
        "\n",
        "    gbm = CatBoostRegressor(**param,\n",
        "                            cat_features=list(categorical),\n",
        "                            random_seed=42,\n",
        "                            iterations=309)\n",
        "\n",
        "    pruning_callback = CatBoostPruningCallback(trial, \"RMSE\")\n",
        "    gbm.fit(\n",
        "        Xtrain_new,\n",
        "        ytrain_new,\n",
        "        eval_set=[(Xval, yval)],\n",
        "        early_stopping_rounds=100,\n",
        "        verbose=0,\n",
        "        callbacks=[pruning_callback],\n",
        "    )\n",
        "\n",
        "    # evoke pruning manually.\n",
        "    pruning_callback.check_pruned()\n",
        "\n",
        "    preds = gbm.predict(Xval)\n",
        "    rmse = RMSE(yval, preds)\n",
        "\n",
        "    return rmse\n",
        "\n",
        "study = optuna.create_study(\n",
        "    pruner=optuna.pruners.MedianPruner(n_warmup_steps=5), direction=\"minimize\"\n",
        ")\n",
        "study.optimize(objective, n_trials=1000, timeout=600)\n",
        "\n",
        "print(\"Number of finished trials: {}\".format(len(study.trials)))\n",
        "\n",
        "print(\"Best trial:\")\n",
        "trial = study.best_trial\n",
        "\n",
        "print(\"  Value: {}\".format(trial.value))\n",
        "\n",
        "print(\"  Params: \")\n",
        "for key, value in trial.params.items():\n",
        "    print(\"    {}: {}\".format(key, value))"
      ],
      "metadata": {
        "colab": {
          "base_uri": "https://localhost:8080/"
        },
        "id": "1ihRHRQJmcom",
        "outputId": "4f1c1262-efe1-430c-e638-05e3ffa56e24"
      },
      "id": "1ihRHRQJmcom",
      "execution_count": 67,
      "outputs": [
        {
          "output_type": "stream",
          "name": "stderr",
          "text": [
            "[I 2025-02-15 10:56:23,921] A new study created in memory with name: no-name-87dd9ece-206e-415b-a945-522ae9f3944a\n",
            "[I 2025-02-15 10:56:24,343] Trial 0 finished with value: 52292.584344663526 and parameters: {'colsample_bylevel': 0.017194035771472892, 'depth': 6, 'boosting_type': 'Ordered', 'bootstrap_type': 'Bayesian', 'bagging_temperature': 5.707033443728681}. Best is trial 0 with value: 52292.584344663526.\n",
            "[I 2025-02-15 10:56:25,081] Trial 1 finished with value: 50127.57881776734 and parameters: {'colsample_bylevel': 0.026175240409492453, 'depth': 2, 'boosting_type': 'Plain', 'bootstrap_type': 'MVS'}. Best is trial 1 with value: 50127.57881776734.\n",
            "[I 2025-02-15 10:56:25,428] Trial 2 finished with value: 48897.355322212476 and parameters: {'colsample_bylevel': 0.0987819412595643, 'depth': 1, 'boosting_type': 'Plain', 'bootstrap_type': 'Bernoulli', 'subsample': 0.1305819691446226}. Best is trial 2 with value: 48897.355322212476.\n",
            "[I 2025-02-15 10:56:25,827] Trial 3 finished with value: 51501.10916840649 and parameters: {'colsample_bylevel': 0.01148327737224996, 'depth': 2, 'boosting_type': 'Ordered', 'bootstrap_type': 'MVS'}. Best is trial 2 with value: 48897.355322212476.\n",
            "[I 2025-02-15 10:56:26,611] Trial 4 finished with value: 48274.24329864004 and parameters: {'colsample_bylevel': 0.051249379554286704, 'depth': 9, 'boosting_type': 'Plain', 'bootstrap_type': 'MVS'}. Best is trial 4 with value: 48274.24329864004.\n",
            "[I 2025-02-15 10:56:26,695] Trial 5 pruned. Trial was pruned at iteration 31.\n",
            "[I 2025-02-15 10:56:27,449] Trial 6 finished with value: 48406.48024967696 and parameters: {'colsample_bylevel': 0.04582630667926849, 'depth': 5, 'boosting_type': 'Plain', 'bootstrap_type': 'Bayesian', 'bagging_temperature': 1.0086657664316478}. Best is trial 4 with value: 48274.24329864004.\n",
            "[I 2025-02-15 10:56:27,500] Trial 7 pruned. Trial was pruned at iteration 5.\n",
            "[I 2025-02-15 10:56:28,657] Trial 8 finished with value: 48625.06334629555 and parameters: {'colsample_bylevel': 0.0477461701375458, 'depth': 12, 'boosting_type': 'Ordered', 'bootstrap_type': 'MVS'}. Best is trial 4 with value: 48274.24329864004.\n",
            "[I 2025-02-15 10:56:28,696] Trial 9 pruned. Trial was pruned at iteration 5.\n",
            "[I 2025-02-15 10:56:29,212] Trial 10 finished with value: 48372.38109257931 and parameters: {'colsample_bylevel': 0.08298497270394782, 'depth': 10, 'boosting_type': 'Plain', 'bootstrap_type': 'MVS'}. Best is trial 4 with value: 48274.24329864004.\n",
            "[I 2025-02-15 10:56:29,686] Trial 11 finished with value: 48612.62585123029 and parameters: {'colsample_bylevel': 0.09133894562407709, 'depth': 10, 'boosting_type': 'Plain', 'bootstrap_type': 'MVS'}. Best is trial 4 with value: 48274.24329864004.\n",
            "[I 2025-02-15 10:56:30,224] Trial 12 finished with value: 48556.12526536601 and parameters: {'colsample_bylevel': 0.0644254207337927, 'depth': 9, 'boosting_type': 'Plain', 'bootstrap_type': 'MVS'}. Best is trial 4 with value: 48274.24329864004.\n",
            "[I 2025-02-15 10:56:30,804] Trial 13 finished with value: 48417.321842860285 and parameters: {'colsample_bylevel': 0.06622268890761907, 'depth': 10, 'boosting_type': 'Plain', 'bootstrap_type': 'MVS'}. Best is trial 4 with value: 48274.24329864004.\n",
            "[I 2025-02-15 10:56:31,328] Trial 14 finished with value: 48193.09366794222 and parameters: {'colsample_bylevel': 0.06983112872768321, 'depth': 5, 'boosting_type': 'Plain', 'bootstrap_type': 'MVS'}. Best is trial 14 with value: 48193.09366794222.\n",
            "[I 2025-02-15 10:56:31,405] Trial 15 pruned. Trial was pruned at iteration 5.\n",
            "[I 2025-02-15 10:56:31,490] Trial 16 pruned. Trial was pruned at iteration 5.\n",
            "[I 2025-02-15 10:56:31,560] Trial 17 pruned. Trial was pruned at iteration 5.\n",
            "[I 2025-02-15 10:56:31,635] Trial 18 pruned. Trial was pruned at iteration 5.\n",
            "[I 2025-02-15 10:56:31,716] Trial 19 pruned. Trial was pruned at iteration 5.\n",
            "[I 2025-02-15 10:56:31,801] Trial 20 pruned. Trial was pruned at iteration 8.\n",
            "[I 2025-02-15 10:56:32,955] Trial 21 finished with value: 48518.0042646517 and parameters: {'colsample_bylevel': 0.08337977559036525, 'depth': 10, 'boosting_type': 'Plain', 'bootstrap_type': 'MVS'}. Best is trial 14 with value: 48193.09366794222.\n",
            "[I 2025-02-15 10:56:33,017] Trial 22 pruned. Trial was pruned at iteration 5.\n",
            "[I 2025-02-15 10:56:33,987] Trial 23 finished with value: 48283.023990833826 and parameters: {'colsample_bylevel': 0.07831886591256068, 'depth': 9, 'boosting_type': 'Plain', 'bootstrap_type': 'MVS'}. Best is trial 14 with value: 48193.09366794222.\n",
            "[I 2025-02-15 10:56:34,045] Trial 24 pruned. Trial was pruned at iteration 5.\n",
            "[I 2025-02-15 10:56:34,098] Trial 25 pruned. Trial was pruned at iteration 5.\n",
            "[I 2025-02-15 10:56:34,155] Trial 26 pruned. Trial was pruned at iteration 5.\n",
            "[I 2025-02-15 10:56:34,222] Trial 27 pruned. Trial was pruned at iteration 5.\n",
            "[I 2025-02-15 10:56:34,288] Trial 28 pruned. Trial was pruned at iteration 8.\n",
            "[I 2025-02-15 10:56:34,343] Trial 29 pruned. Trial was pruned at iteration 5.\n",
            "[I 2025-02-15 10:56:34,402] Trial 30 pruned. Trial was pruned at iteration 5.\n",
            "[I 2025-02-15 10:56:35,428] Trial 31 finished with value: 48459.96694029955 and parameters: {'colsample_bylevel': 0.086479281983385, 'depth': 11, 'boosting_type': 'Plain', 'bootstrap_type': 'MVS'}. Best is trial 14 with value: 48193.09366794222.\n",
            "[I 2025-02-15 10:56:35,491] Trial 32 pruned. Trial was pruned at iteration 5.\n",
            "[I 2025-02-15 10:56:36,016] Trial 33 finished with value: 48311.95990666331 and parameters: {'colsample_bylevel': 0.09888470975321047, 'depth': 9, 'boosting_type': 'Plain', 'bootstrap_type': 'MVS'}. Best is trial 14 with value: 48193.09366794222.\n",
            "[I 2025-02-15 10:56:36,702] Trial 34 finished with value: 47916.88964978302 and parameters: {'colsample_bylevel': 0.09813997550902422, 'depth': 8, 'boosting_type': 'Plain', 'bootstrap_type': 'MVS'}. Best is trial 34 with value: 47916.88964978302.\n",
            "[I 2025-02-15 10:56:36,758] Trial 35 pruned. Trial was pruned at iteration 6.\n",
            "[I 2025-02-15 10:56:36,809] Trial 36 pruned. Trial was pruned at iteration 5.\n",
            "[I 2025-02-15 10:56:36,866] Trial 37 pruned. Trial was pruned at iteration 5.\n",
            "[I 2025-02-15 10:56:36,919] Trial 38 pruned. Trial was pruned at iteration 5.\n",
            "[I 2025-02-15 10:56:36,981] Trial 39 pruned. Trial was pruned at iteration 5.\n",
            "[I 2025-02-15 10:56:37,047] Trial 40 pruned. Trial was pruned at iteration 9.\n",
            "[I 2025-02-15 10:56:37,684] Trial 41 finished with value: 48136.2808503614 and parameters: {'colsample_bylevel': 0.09765641829089948, 'depth': 9, 'boosting_type': 'Plain', 'bootstrap_type': 'MVS'}. Best is trial 34 with value: 47916.88964978302.\n",
            "[I 2025-02-15 10:56:38,157] Trial 42 finished with value: 48385.54736323968 and parameters: {'colsample_bylevel': 0.09830544422071599, 'depth': 9, 'boosting_type': 'Plain', 'bootstrap_type': 'MVS'}. Best is trial 34 with value: 47916.88964978302.\n",
            "[I 2025-02-15 10:56:38,222] Trial 43 pruned. Trial was pruned at iteration 8.\n",
            "[I 2025-02-15 10:56:38,293] Trial 44 pruned. Trial was pruned at iteration 7.\n",
            "[I 2025-02-15 10:56:38,356] Trial 45 pruned. Trial was pruned at iteration 5.\n",
            "[I 2025-02-15 10:56:38,417] Trial 46 pruned. Trial was pruned at iteration 8.\n",
            "[I 2025-02-15 10:56:38,479] Trial 47 pruned. Trial was pruned at iteration 5.\n",
            "[I 2025-02-15 10:56:38,540] Trial 48 pruned. Trial was pruned at iteration 6.\n",
            "[I 2025-02-15 10:56:38,603] Trial 49 pruned. Trial was pruned at iteration 5.\n",
            "[I 2025-02-15 10:56:38,666] Trial 50 pruned. Trial was pruned at iteration 7.\n",
            "[I 2025-02-15 10:56:39,121] Trial 51 finished with value: 48412.48470640996 and parameters: {'colsample_bylevel': 0.09276418257593483, 'depth': 9, 'boosting_type': 'Plain', 'bootstrap_type': 'MVS'}. Best is trial 34 with value: 47916.88964978302.\n",
            "[I 2025-02-15 10:56:39,864] Trial 52 finished with value: 48307.48809267348 and parameters: {'colsample_bylevel': 0.096692496684537, 'depth': 9, 'boosting_type': 'Plain', 'bootstrap_type': 'MVS'}. Best is trial 34 with value: 47916.88964978302.\n",
            "[I 2025-02-15 10:56:40,503] Trial 53 finished with value: 48145.029107683535 and parameters: {'colsample_bylevel': 0.0823791539025592, 'depth': 10, 'boosting_type': 'Plain', 'bootstrap_type': 'MVS'}. Best is trial 34 with value: 47916.88964978302.\n",
            "[I 2025-02-15 10:56:40,664] Trial 54 pruned. Trial was pruned at iteration 44.\n",
            "[I 2025-02-15 10:56:40,733] Trial 55 pruned. Trial was pruned at iteration 8.\n",
            "[I 2025-02-15 10:56:40,792] Trial 56 pruned. Trial was pruned at iteration 5.\n",
            "[I 2025-02-15 10:56:40,848] Trial 57 pruned. Trial was pruned at iteration 5.\n",
            "[I 2025-02-15 10:56:40,913] Trial 58 pruned. Trial was pruned at iteration 5.\n",
            "[I 2025-02-15 10:56:40,968] Trial 59 pruned. Trial was pruned at iteration 5.\n",
            "[I 2025-02-15 10:56:41,024] Trial 60 pruned. Trial was pruned at iteration 7.\n",
            "[I 2025-02-15 10:56:41,085] Trial 61 pruned. Trial was pruned at iteration 7.\n",
            "[I 2025-02-15 10:56:41,159] Trial 62 pruned. Trial was pruned at iteration 10.\n",
            "[I 2025-02-15 10:56:41,225] Trial 63 pruned. Trial was pruned at iteration 7.\n",
            "[I 2025-02-15 10:56:42,000] Trial 64 finished with value: 48028.934002937305 and parameters: {'colsample_bylevel': 0.0911328143524405, 'depth': 9, 'boosting_type': 'Plain', 'bootstrap_type': 'MVS'}. Best is trial 34 with value: 47916.88964978302.\n",
            "[I 2025-02-15 10:56:42,061] Trial 65 pruned. Trial was pruned at iteration 5.\n",
            "[I 2025-02-15 10:56:42,188] Trial 66 pruned. Trial was pruned at iteration 51.\n",
            "[I 2025-02-15 10:56:42,249] Trial 67 pruned. Trial was pruned at iteration 5.\n",
            "[I 2025-02-15 10:56:42,316] Trial 68 pruned. Trial was pruned at iteration 5.\n",
            "[I 2025-02-15 10:56:42,376] Trial 69 pruned. Trial was pruned at iteration 5.\n",
            "[I 2025-02-15 10:56:42,443] Trial 70 pruned. Trial was pruned at iteration 5.\n",
            "[I 2025-02-15 10:56:42,505] Trial 71 pruned. Trial was pruned at iteration 7.\n",
            "[I 2025-02-15 10:56:42,570] Trial 72 pruned. Trial was pruned at iteration 8.\n",
            "[I 2025-02-15 10:56:43,217] Trial 73 finished with value: 47976.525566564604 and parameters: {'colsample_bylevel': 0.09100421858950555, 'depth': 8, 'boosting_type': 'Plain', 'bootstrap_type': 'MVS'}. Best is trial 34 with value: 47916.88964978302.\n",
            "[I 2025-02-15 10:56:43,279] Trial 74 pruned. Trial was pruned at iteration 5.\n",
            "[I 2025-02-15 10:56:43,377] Trial 75 pruned. Trial was pruned at iteration 31.\n",
            "[I 2025-02-15 10:56:43,473] Trial 76 pruned. Trial was pruned at iteration 19.\n",
            "[I 2025-02-15 10:56:43,526] Trial 77 pruned. Trial was pruned at iteration 5.\n",
            "[I 2025-02-15 10:56:43,588] Trial 78 pruned. Trial was pruned at iteration 7.\n",
            "[I 2025-02-15 10:56:43,642] Trial 79 pruned. Trial was pruned at iteration 5.\n",
            "[I 2025-02-15 10:56:43,713] Trial 80 pruned. Trial was pruned at iteration 6.\n",
            "[I 2025-02-15 10:56:44,621] Trial 81 finished with value: 48412.48470640996 and parameters: {'colsample_bylevel': 0.0927701260433553, 'depth': 9, 'boosting_type': 'Plain', 'bootstrap_type': 'MVS'}. Best is trial 34 with value: 47916.88964978302.\n",
            "[I 2025-02-15 10:56:44,708] Trial 82 pruned. Trial was pruned at iteration 5.\n",
            "[I 2025-02-15 10:56:44,850] Trial 83 pruned. Trial was pruned at iteration 16.\n",
            "[I 2025-02-15 10:56:44,927] Trial 84 pruned. Trial was pruned at iteration 5.\n",
            "[I 2025-02-15 10:56:45,004] Trial 85 pruned. Trial was pruned at iteration 5.\n",
            "[I 2025-02-15 10:56:45,097] Trial 86 pruned. Trial was pruned at iteration 6.\n",
            "[I 2025-02-15 10:56:46,835] Trial 87 finished with value: 48104.27016232455 and parameters: {'colsample_bylevel': 0.09447180475147329, 'depth': 9, 'boosting_type': 'Ordered', 'bootstrap_type': 'MVS'}. Best is trial 34 with value: 47916.88964978302.\n",
            "[I 2025-02-15 10:56:46,948] Trial 88 pruned. Trial was pruned at iteration 14.\n",
            "[I 2025-02-15 10:56:47,011] Trial 89 pruned. Trial was pruned at iteration 5.\n",
            "[I 2025-02-15 10:56:47,086] Trial 90 pruned. Trial was pruned at iteration 7.\n",
            "[I 2025-02-15 10:56:47,278] Trial 91 pruned. Trial was pruned at iteration 54.\n",
            "[I 2025-02-15 10:56:47,474] Trial 92 pruned. Trial was pruned at iteration 46.\n",
            "[I 2025-02-15 10:56:47,535] Trial 93 pruned. Trial was pruned at iteration 5.\n",
            "[I 2025-02-15 10:56:47,594] Trial 94 pruned. Trial was pruned at iteration 7.\n",
            "[I 2025-02-15 10:56:47,674] Trial 95 pruned. Trial was pruned at iteration 11.\n",
            "[I 2025-02-15 10:56:47,734] Trial 96 pruned. Trial was pruned at iteration 5.\n",
            "[I 2025-02-15 10:56:47,795] Trial 97 pruned. Trial was pruned at iteration 5.\n",
            "[I 2025-02-15 10:56:47,860] Trial 98 pruned. Trial was pruned at iteration 5.\n",
            "[I 2025-02-15 10:56:47,942] Trial 99 pruned. Trial was pruned at iteration 10.\n",
            "[I 2025-02-15 10:56:48,007] Trial 100 pruned. Trial was pruned at iteration 5.\n",
            "[I 2025-02-15 10:56:48,070] Trial 101 pruned. Trial was pruned at iteration 7.\n",
            "[I 2025-02-15 10:56:48,131] Trial 102 pruned. Trial was pruned at iteration 6.\n",
            "[I 2025-02-15 10:56:48,195] Trial 103 pruned. Trial was pruned at iteration 5.\n",
            "[I 2025-02-15 10:56:48,257] Trial 104 pruned. Trial was pruned at iteration 7.\n",
            "[I 2025-02-15 10:56:48,325] Trial 105 pruned. Trial was pruned at iteration 6.\n",
            "[I 2025-02-15 10:56:48,393] Trial 106 pruned. Trial was pruned at iteration 5.\n",
            "[I 2025-02-15 10:56:48,464] Trial 107 pruned. Trial was pruned at iteration 5.\n",
            "[I 2025-02-15 10:56:48,570] Trial 108 pruned. Trial was pruned at iteration 23.\n",
            "[I 2025-02-15 10:56:49,064] Trial 109 pruned. Trial was pruned at iteration 110.\n",
            "[I 2025-02-15 10:56:49,130] Trial 110 pruned. Trial was pruned at iteration 5.\n",
            "[I 2025-02-15 10:56:49,198] Trial 111 pruned. Trial was pruned at iteration 6.\n",
            "[I 2025-02-15 10:56:49,893] Trial 112 finished with value: 48327.8487475476 and parameters: {'colsample_bylevel': 0.09998258713615138, 'depth': 10, 'boosting_type': 'Plain', 'bootstrap_type': 'MVS'}. Best is trial 34 with value: 47916.88964978302.\n",
            "[I 2025-02-15 10:56:49,957] Trial 113 pruned. Trial was pruned at iteration 6.\n",
            "[I 2025-02-15 10:56:50,021] Trial 114 pruned. Trial was pruned at iteration 7.\n",
            "[I 2025-02-15 10:56:50,093] Trial 115 pruned. Trial was pruned at iteration 6.\n",
            "[I 2025-02-15 10:56:50,159] Trial 116 pruned. Trial was pruned at iteration 8.\n",
            "[I 2025-02-15 10:56:50,225] Trial 117 pruned. Trial was pruned at iteration 6.\n",
            "[I 2025-02-15 10:56:50,312] Trial 118 pruned. Trial was pruned at iteration 13.\n",
            "[I 2025-02-15 10:56:51,101] Trial 119 finished with value: 48010.36904106513 and parameters: {'colsample_bylevel': 0.09348105245412593, 'depth': 9, 'boosting_type': 'Plain', 'bootstrap_type': 'MVS'}. Best is trial 34 with value: 47916.88964978302.\n",
            "[I 2025-02-15 10:56:51,159] Trial 120 pruned. Trial was pruned at iteration 5.\n",
            "[I 2025-02-15 10:56:51,216] Trial 121 pruned. Trial was pruned at iteration 5.\n",
            "[I 2025-02-15 10:56:52,048] Trial 122 finished with value: 48072.91014326062 and parameters: {'colsample_bylevel': 0.0933654444655597, 'depth': 9, 'boosting_type': 'Plain', 'bootstrap_type': 'MVS'}. Best is trial 34 with value: 47916.88964978302.\n",
            "[I 2025-02-15 10:56:52,561] Trial 123 finished with value: 47978.76615319996 and parameters: {'colsample_bylevel': 0.09253774397484647, 'depth': 8, 'boosting_type': 'Plain', 'bootstrap_type': 'MVS'}. Best is trial 34 with value: 47916.88964978302.\n",
            "[I 2025-02-15 10:56:52,968] Trial 124 finished with value: 47962.72487003541 and parameters: {'colsample_bylevel': 0.09270336264693903, 'depth': 8, 'boosting_type': 'Plain', 'bootstrap_type': 'MVS'}. Best is trial 34 with value: 47916.88964978302.\n",
            "[I 2025-02-15 10:56:53,028] Trial 125 pruned. Trial was pruned at iteration 5.\n",
            "[I 2025-02-15 10:56:53,578] Trial 126 finished with value: 47915.27942103648 and parameters: {'colsample_bylevel': 0.09230497950141164, 'depth': 8, 'boosting_type': 'Plain', 'bootstrap_type': 'MVS'}. Best is trial 126 with value: 47915.27942103648.\n",
            "[I 2025-02-15 10:56:53,655] Trial 127 pruned. Trial was pruned at iteration 14.\n",
            "[I 2025-02-15 10:56:53,760] Trial 128 pruned. Trial was pruned at iteration 24.\n",
            "[I 2025-02-15 10:56:53,831] Trial 129 pruned. Trial was pruned at iteration 5.\n",
            "[I 2025-02-15 10:56:53,907] Trial 130 pruned. Trial was pruned at iteration 5.\n",
            "[I 2025-02-15 10:56:53,965] Trial 131 pruned. Trial was pruned at iteration 5.\n",
            "[I 2025-02-15 10:56:54,032] Trial 132 pruned. Trial was pruned at iteration 5.\n",
            "[I 2025-02-15 10:56:54,096] Trial 133 pruned. Trial was pruned at iteration 5.\n",
            "[I 2025-02-15 10:56:54,158] Trial 134 pruned. Trial was pruned at iteration 5.\n",
            "[I 2025-02-15 10:56:54,584] Trial 135 finished with value: 48141.35447429636 and parameters: {'colsample_bylevel': 0.09331161432033766, 'depth': 7, 'boosting_type': 'Plain', 'bootstrap_type': 'MVS'}. Best is trial 126 with value: 47915.27942103648.\n",
            "[I 2025-02-15 10:56:55,185] Trial 136 finished with value: 47972.17500113031 and parameters: {'colsample_bylevel': 0.09319262958023734, 'depth': 7, 'boosting_type': 'Plain', 'bootstrap_type': 'MVS'}. Best is trial 126 with value: 47915.27942103648.\n",
            "[I 2025-02-15 10:56:55,247] Trial 137 pruned. Trial was pruned at iteration 5.\n",
            "[I 2025-02-15 10:56:55,321] Trial 138 pruned. Trial was pruned at iteration 15.\n",
            "[I 2025-02-15 10:56:55,383] Trial 139 pruned. Trial was pruned at iteration 5.\n",
            "[I 2025-02-15 10:56:55,452] Trial 140 pruned. Trial was pruned at iteration 6.\n",
            "[I 2025-02-15 10:56:55,515] Trial 141 pruned. Trial was pruned at iteration 5.\n",
            "[I 2025-02-15 10:56:55,578] Trial 142 pruned. Trial was pruned at iteration 5.\n",
            "[I 2025-02-15 10:56:55,648] Trial 143 pruned. Trial was pruned at iteration 5.\n",
            "[I 2025-02-15 10:56:55,722] Trial 144 pruned. Trial was pruned at iteration 14.\n",
            "[I 2025-02-15 10:56:55,785] Trial 145 pruned. Trial was pruned at iteration 5.\n",
            "[I 2025-02-15 10:56:55,857] Trial 146 pruned. Trial was pruned at iteration 6.\n",
            "[I 2025-02-15 10:56:55,941] Trial 147 pruned. Trial was pruned at iteration 5.\n",
            "[I 2025-02-15 10:56:56,002] Trial 148 pruned. Trial was pruned at iteration 5.\n",
            "[I 2025-02-15 10:56:56,072] Trial 149 pruned. Trial was pruned at iteration 5.\n",
            "[I 2025-02-15 10:56:56,138] Trial 150 pruned. Trial was pruned at iteration 5.\n",
            "[I 2025-02-15 10:56:56,210] Trial 151 pruned. Trial was pruned at iteration 5.\n",
            "[I 2025-02-15 10:56:56,280] Trial 152 pruned. Trial was pruned at iteration 5.\n",
            "[I 2025-02-15 10:56:56,346] Trial 153 pruned. Trial was pruned at iteration 5.\n",
            "[I 2025-02-15 10:56:56,417] Trial 154 pruned. Trial was pruned at iteration 5.\n",
            "[I 2025-02-15 10:56:58,565] Trial 155 finished with value: 48151.677122931855 and parameters: {'colsample_bylevel': 0.09507891704339176, 'depth': 9, 'boosting_type': 'Ordered', 'bootstrap_type': 'MVS'}. Best is trial 126 with value: 47915.27942103648.\n",
            "[I 2025-02-15 10:56:58,695] Trial 156 pruned. Trial was pruned at iteration 9.\n",
            "[I 2025-02-15 10:56:58,931] Trial 157 pruned. Trial was pruned at iteration 38.\n",
            "[I 2025-02-15 10:56:59,004] Trial 158 pruned. Trial was pruned at iteration 5.\n",
            "[I 2025-02-15 10:56:59,087] Trial 159 pruned. Trial was pruned at iteration 5.\n",
            "[I 2025-02-15 10:56:59,149] Trial 160 pruned. Trial was pruned at iteration 5.\n",
            "[I 2025-02-15 10:56:59,792] Trial 161 finished with value: 48151.86927828947 and parameters: {'colsample_bylevel': 0.09095440486726981, 'depth': 9, 'boosting_type': 'Plain', 'bootstrap_type': 'MVS'}. Best is trial 126 with value: 47915.27942103648.\n",
            "[I 2025-02-15 10:56:59,865] Trial 162 pruned. Trial was pruned at iteration 5.\n",
            "[I 2025-02-15 10:56:59,931] Trial 163 pruned. Trial was pruned at iteration 5.\n",
            "[I 2025-02-15 10:57:00,002] Trial 164 pruned. Trial was pruned at iteration 5.\n",
            "[I 2025-02-15 10:57:00,073] Trial 165 pruned. Trial was pruned at iteration 6.\n",
            "[I 2025-02-15 10:57:00,817] Trial 166 finished with value: 48004.70080747326 and parameters: {'colsample_bylevel': 0.09213682243228376, 'depth': 9, 'boosting_type': 'Plain', 'bootstrap_type': 'MVS'}. Best is trial 126 with value: 47915.27942103648.\n",
            "[I 2025-02-15 10:57:00,902] Trial 167 pruned. Trial was pruned at iteration 12.\n",
            "[I 2025-02-15 10:57:00,972] Trial 168 pruned. Trial was pruned at iteration 5.\n",
            "[I 2025-02-15 10:57:01,034] Trial 169 pruned. Trial was pruned at iteration 5.\n",
            "[I 2025-02-15 10:57:01,128] Trial 170 pruned. Trial was pruned at iteration 9.\n",
            "[I 2025-02-15 10:57:01,936] Trial 171 finished with value: 48018.46336999962 and parameters: {'colsample_bylevel': 0.09251135955422067, 'depth': 9, 'boosting_type': 'Plain', 'bootstrap_type': 'MVS'}. Best is trial 126 with value: 47915.27942103648.\n",
            "[I 2025-02-15 10:57:02,245] Trial 172 pruned. Trial was pruned at iteration 99.\n",
            "[I 2025-02-15 10:57:02,310] Trial 173 pruned. Trial was pruned at iteration 5.\n",
            "[I 2025-02-15 10:57:02,375] Trial 174 pruned. Trial was pruned at iteration 5.\n",
            "[I 2025-02-15 10:57:02,438] Trial 175 pruned. Trial was pruned at iteration 5.\n",
            "[I 2025-02-15 10:57:02,500] Trial 176 pruned. Trial was pruned at iteration 5.\n",
            "[I 2025-02-15 10:57:02,567] Trial 177 pruned. Trial was pruned at iteration 5.\n",
            "[I 2025-02-15 10:57:02,636] Trial 178 pruned. Trial was pruned at iteration 5.\n",
            "[I 2025-02-15 10:57:02,730] Trial 179 pruned. Trial was pruned at iteration 7.\n",
            "[I 2025-02-15 10:57:02,816] Trial 180 pruned. Trial was pruned at iteration 13.\n",
            "[I 2025-02-15 10:57:02,896] Trial 181 pruned. Trial was pruned at iteration 5.\n",
            "[I 2025-02-15 10:57:02,971] Trial 182 pruned. Trial was pruned at iteration 5.\n",
            "[I 2025-02-15 10:57:03,040] Trial 183 pruned. Trial was pruned at iteration 5.\n",
            "[I 2025-02-15 10:57:03,349] Trial 184 pruned. Trial was pruned at iteration 100.\n",
            "[I 2025-02-15 10:57:03,414] Trial 185 pruned. Trial was pruned at iteration 5.\n",
            "[I 2025-02-15 10:57:03,479] Trial 186 pruned. Trial was pruned at iteration 5.\n",
            "[I 2025-02-15 10:57:03,545] Trial 187 pruned. Trial was pruned at iteration 6.\n",
            "[I 2025-02-15 10:57:03,692] Trial 188 pruned. Trial was pruned at iteration 55.\n",
            "[I 2025-02-15 10:57:03,750] Trial 189 pruned. Trial was pruned at iteration 5.\n",
            "[I 2025-02-15 10:57:03,811] Trial 190 pruned. Trial was pruned at iteration 5.\n",
            "[I 2025-02-15 10:57:03,878] Trial 191 pruned. Trial was pruned at iteration 5.\n",
            "[I 2025-02-15 10:57:03,944] Trial 192 pruned. Trial was pruned at iteration 5.\n",
            "[I 2025-02-15 10:57:04,010] Trial 193 pruned. Trial was pruned at iteration 5.\n",
            "[I 2025-02-15 10:57:04,077] Trial 194 pruned. Trial was pruned at iteration 5.\n",
            "[I 2025-02-15 10:57:04,143] Trial 195 pruned. Trial was pruned at iteration 5.\n",
            "[I 2025-02-15 10:57:04,707] Trial 196 finished with value: 48132.8502385896 and parameters: {'colsample_bylevel': 0.09174246424525931, 'depth': 9, 'boosting_type': 'Plain', 'bootstrap_type': 'MVS'}. Best is trial 126 with value: 47915.27942103648.\n",
            "[I 2025-02-15 10:57:04,774] Trial 197 pruned. Trial was pruned at iteration 6.\n",
            "[I 2025-02-15 10:57:04,840] Trial 198 pruned. Trial was pruned at iteration 5.\n",
            "[I 2025-02-15 10:57:04,912] Trial 199 pruned. Trial was pruned at iteration 5.\n",
            "[I 2025-02-15 10:57:04,978] Trial 200 pruned. Trial was pruned at iteration 5.\n",
            "[I 2025-02-15 10:57:05,043] Trial 201 pruned. Trial was pruned at iteration 5.\n",
            "[I 2025-02-15 10:57:05,112] Trial 202 pruned. Trial was pruned at iteration 5.\n",
            "[I 2025-02-15 10:57:05,624] Trial 203 finished with value: 48054.593807727055 and parameters: {'colsample_bylevel': 0.09162684802286249, 'depth': 9, 'boosting_type': 'Plain', 'bootstrap_type': 'MVS'}. Best is trial 126 with value: 47915.27942103648.\n",
            "[I 2025-02-15 10:57:06,042] Trial 204 pruned. Trial was pruned at iteration 163.\n",
            "[I 2025-02-15 10:57:06,107] Trial 205 pruned. Trial was pruned at iteration 5.\n",
            "[I 2025-02-15 10:57:06,173] Trial 206 pruned. Trial was pruned at iteration 5.\n",
            "[I 2025-02-15 10:57:06,286] Trial 207 pruned. Trial was pruned at iteration 15.\n",
            "[I 2025-02-15 10:57:06,347] Trial 208 pruned. Trial was pruned at iteration 5.\n",
            "[I 2025-02-15 10:57:06,412] Trial 209 pruned. Trial was pruned at iteration 5.\n",
            "[I 2025-02-15 10:57:06,480] Trial 210 pruned. Trial was pruned at iteration 6.\n",
            "[I 2025-02-15 10:57:06,546] Trial 211 pruned. Trial was pruned at iteration 5.\n",
            "[I 2025-02-15 10:57:07,176] Trial 212 finished with value: 48124.72093430792 and parameters: {'colsample_bylevel': 0.09124407618110207, 'depth': 9, 'boosting_type': 'Plain', 'bootstrap_type': 'MVS'}. Best is trial 126 with value: 47915.27942103648.\n",
            "[I 2025-02-15 10:57:07,603] Trial 213 finished with value: 48158.12367221008 and parameters: {'colsample_bylevel': 0.09139253794288359, 'depth': 9, 'boosting_type': 'Plain', 'bootstrap_type': 'MVS'}. Best is trial 126 with value: 47915.27942103648.\n",
            "[I 2025-02-15 10:57:07,886] Trial 214 pruned. Trial was pruned at iteration 104.\n",
            "[I 2025-02-15 10:57:07,951] Trial 215 pruned. Trial was pruned at iteration 5.\n",
            "[I 2025-02-15 10:57:08,452] Trial 216 finished with value: 48054.593807727055 and parameters: {'colsample_bylevel': 0.09159912471938175, 'depth': 9, 'boosting_type': 'Plain', 'bootstrap_type': 'MVS'}. Best is trial 126 with value: 47915.27942103648.\n",
            "[I 2025-02-15 10:57:08,518] Trial 217 pruned. Trial was pruned at iteration 5.\n",
            "[I 2025-02-15 10:57:08,583] Trial 218 pruned. Trial was pruned at iteration 5.\n",
            "[I 2025-02-15 10:57:08,648] Trial 219 pruned. Trial was pruned at iteration 5.\n",
            "[I 2025-02-15 10:57:08,717] Trial 220 pruned. Trial was pruned at iteration 5.\n",
            "[I 2025-02-15 10:57:08,790] Trial 221 pruned. Trial was pruned at iteration 5.\n",
            "[I 2025-02-15 10:57:08,877] Trial 222 pruned. Trial was pruned at iteration 11.\n",
            "[I 2025-02-15 10:57:08,950] Trial 223 pruned. Trial was pruned at iteration 5.\n",
            "[I 2025-02-15 10:57:09,052] Trial 224 pruned. Trial was pruned at iteration 5.\n",
            "[I 2025-02-15 10:57:09,182] Trial 225 pruned. Trial was pruned at iteration 7.\n",
            "[I 2025-02-15 10:57:09,319] Trial 226 pruned. Trial was pruned at iteration 11.\n",
            "[I 2025-02-15 10:57:09,429] Trial 227 pruned. Trial was pruned at iteration 5.\n",
            "[I 2025-02-15 10:57:09,544] Trial 228 pruned. Trial was pruned at iteration 5.\n",
            "[I 2025-02-15 10:57:09,640] Trial 229 pruned. Trial was pruned at iteration 5.\n",
            "[I 2025-02-15 10:57:09,741] Trial 230 pruned. Trial was pruned at iteration 5.\n",
            "[I 2025-02-15 10:57:10,757] Trial 231 finished with value: 48099.532793707825 and parameters: {'colsample_bylevel': 0.09182553336320029, 'depth': 9, 'boosting_type': 'Plain', 'bootstrap_type': 'MVS'}. Best is trial 126 with value: 47915.27942103648.\n",
            "[I 2025-02-15 10:57:11,669] Trial 232 finished with value: 48099.532793707825 and parameters: {'colsample_bylevel': 0.0920512264596585, 'depth': 9, 'boosting_type': 'Plain', 'bootstrap_type': 'MVS'}. Best is trial 126 with value: 47915.27942103648.\n",
            "[I 2025-02-15 10:57:12,303] Trial 233 finished with value: 48008.61560409381 and parameters: {'colsample_bylevel': 0.09152670801929459, 'depth': 9, 'boosting_type': 'Plain', 'bootstrap_type': 'MVS'}. Best is trial 126 with value: 47915.27942103648.\n",
            "[I 2025-02-15 10:57:12,373] Trial 234 pruned. Trial was pruned at iteration 5.\n",
            "[I 2025-02-15 10:57:12,440] Trial 235 pruned. Trial was pruned at iteration 5.\n",
            "[I 2025-02-15 10:57:12,507] Trial 236 pruned. Trial was pruned at iteration 5.\n",
            "[I 2025-02-15 10:57:12,987] Trial 237 finished with value: 48099.532793707825 and parameters: {'colsample_bylevel': 0.09183581249640184, 'depth': 9, 'boosting_type': 'Plain', 'bootstrap_type': 'MVS'}. Best is trial 126 with value: 47915.27942103648.\n",
            "[I 2025-02-15 10:57:13,053] Trial 238 pruned. Trial was pruned at iteration 5.\n",
            "[I 2025-02-15 10:57:13,141] Trial 239 pruned. Trial was pruned at iteration 7.\n",
            "[I 2025-02-15 10:57:13,207] Trial 240 pruned. Trial was pruned at iteration 5.\n",
            "[I 2025-02-15 10:57:13,282] Trial 241 pruned. Trial was pruned at iteration 5.\n",
            "[I 2025-02-15 10:57:13,828] Trial 242 finished with value: 48017.67721530649 and parameters: {'colsample_bylevel': 0.09215531736357341, 'depth': 9, 'boosting_type': 'Plain', 'bootstrap_type': 'MVS'}. Best is trial 126 with value: 47915.27942103648.\n",
            "[I 2025-02-15 10:57:13,906] Trial 243 pruned. Trial was pruned at iteration 5.\n",
            "[I 2025-02-15 10:57:13,982] Trial 244 pruned. Trial was pruned at iteration 10.\n",
            "[I 2025-02-15 10:57:14,051] Trial 245 pruned. Trial was pruned at iteration 5.\n",
            "[I 2025-02-15 10:57:14,118] Trial 246 pruned. Trial was pruned at iteration 5.\n",
            "[I 2025-02-15 10:57:14,192] Trial 247 pruned. Trial was pruned at iteration 5.\n",
            "[I 2025-02-15 10:57:14,729] Trial 248 finished with value: 48140.64811196492 and parameters: {'colsample_bylevel': 0.09315536405564041, 'depth': 8, 'boosting_type': 'Plain', 'bootstrap_type': 'MVS'}. Best is trial 126 with value: 47915.27942103648.\n",
            "[I 2025-02-15 10:57:14,806] Trial 249 pruned. Trial was pruned at iteration 10.\n",
            "[I 2025-02-15 10:57:14,891] Trial 250 pruned. Trial was pruned at iteration 5.\n",
            "[I 2025-02-15 10:57:14,970] Trial 251 pruned. Trial was pruned at iteration 10.\n",
            "[I 2025-02-15 10:57:15,035] Trial 252 pruned. Trial was pruned at iteration 5.\n",
            "[I 2025-02-15 10:57:15,105] Trial 253 pruned. Trial was pruned at iteration 5.\n",
            "[I 2025-02-15 10:57:15,174] Trial 254 pruned. Trial was pruned at iteration 5.\n",
            "[I 2025-02-15 10:57:15,240] Trial 255 pruned. Trial was pruned at iteration 5.\n",
            "[I 2025-02-15 10:57:15,313] Trial 256 pruned. Trial was pruned at iteration 5.\n",
            "[I 2025-02-15 10:57:15,385] Trial 257 pruned. Trial was pruned at iteration 6.\n",
            "[I 2025-02-15 10:57:15,457] Trial 258 pruned. Trial was pruned at iteration 5.\n",
            "[I 2025-02-15 10:57:15,529] Trial 259 pruned. Trial was pruned at iteration 5.\n",
            "[I 2025-02-15 10:57:15,603] Trial 260 pruned. Trial was pruned at iteration 5.\n",
            "[I 2025-02-15 10:57:15,771] Trial 261 pruned. Trial was pruned at iteration 44.\n",
            "[I 2025-02-15 10:57:15,847] Trial 262 pruned. Trial was pruned at iteration 5.\n",
            "[I 2025-02-15 10:57:15,947] Trial 263 pruned. Trial was pruned at iteration 5.\n",
            "[I 2025-02-15 10:57:16,022] Trial 264 pruned. Trial was pruned at iteration 5.\n",
            "[I 2025-02-15 10:57:16,119] Trial 265 pruned. Trial was pruned at iteration 18.\n",
            "[I 2025-02-15 10:57:16,182] Trial 266 pruned. Trial was pruned at iteration 5.\n",
            "[I 2025-02-15 10:57:16,254] Trial 267 pruned. Trial was pruned at iteration 5.\n",
            "[I 2025-02-15 10:57:16,334] Trial 268 pruned. Trial was pruned at iteration 5.\n",
            "[I 2025-02-15 10:57:16,909] Trial 269 finished with value: 48099.532793707825 and parameters: {'colsample_bylevel': 0.09183096745622081, 'depth': 9, 'boosting_type': 'Plain', 'bootstrap_type': 'MVS'}. Best is trial 126 with value: 47915.27942103648.\n",
            "[I 2025-02-15 10:57:17,629] Trial 270 finished with value: 48004.70080747326 and parameters: {'colsample_bylevel': 0.09207666294380251, 'depth': 9, 'boosting_type': 'Plain', 'bootstrap_type': 'MVS'}. Best is trial 126 with value: 47915.27942103648.\n",
            "[I 2025-02-15 10:57:17,708] Trial 271 pruned. Trial was pruned at iteration 5.\n",
            "[I 2025-02-15 10:57:17,784] Trial 272 pruned. Trial was pruned at iteration 5.\n",
            "[I 2025-02-15 10:57:18,615] Trial 273 finished with value: 47915.66393400974 and parameters: {'colsample_bylevel': 0.09155176146228967, 'depth': 9, 'boosting_type': 'Plain', 'bootstrap_type': 'MVS'}. Best is trial 126 with value: 47915.27942103648.\n",
            "[I 2025-02-15 10:57:18,686] Trial 274 pruned. Trial was pruned at iteration 5.\n",
            "[I 2025-02-15 10:57:18,766] Trial 275 pruned. Trial was pruned at iteration 5.\n",
            "[I 2025-02-15 10:57:18,921] Trial 276 pruned. Trial was pruned at iteration 39.\n",
            "[I 2025-02-15 10:57:18,992] Trial 277 pruned. Trial was pruned at iteration 5.\n",
            "[I 2025-02-15 10:57:19,062] Trial 278 pruned. Trial was pruned at iteration 5.\n",
            "[I 2025-02-15 10:57:19,136] Trial 279 pruned. Trial was pruned at iteration 5.\n",
            "[I 2025-02-15 10:57:19,204] Trial 280 pruned. Trial was pruned at iteration 5.\n",
            "[I 2025-02-15 10:57:19,272] Trial 281 pruned. Trial was pruned at iteration 5.\n",
            "[I 2025-02-15 10:57:19,342] Trial 282 pruned. Trial was pruned at iteration 5.\n",
            "[I 2025-02-15 10:57:19,407] Trial 283 pruned. Trial was pruned at iteration 5.\n",
            "[I 2025-02-15 10:57:19,999] Trial 284 finished with value: 48017.67721530649 and parameters: {'colsample_bylevel': 0.09227949386600381, 'depth': 9, 'boosting_type': 'Plain', 'bootstrap_type': 'MVS'}. Best is trial 126 with value: 47915.27942103648.\n",
            "[I 2025-02-15 10:57:20,064] Trial 285 pruned. Trial was pruned at iteration 5.\n",
            "[I 2025-02-15 10:57:20,134] Trial 286 pruned. Trial was pruned at iteration 5.\n",
            "[I 2025-02-15 10:57:20,211] Trial 287 pruned. Trial was pruned at iteration 5.\n",
            "[I 2025-02-15 10:57:20,285] Trial 288 pruned. Trial was pruned at iteration 5.\n",
            "[I 2025-02-15 10:57:20,850] Trial 289 finished with value: 48017.67721530649 and parameters: {'colsample_bylevel': 0.0922721567712005, 'depth': 9, 'boosting_type': 'Plain', 'bootstrap_type': 'MVS'}. Best is trial 126 with value: 47915.27942103648.\n",
            "[I 2025-02-15 10:57:20,920] Trial 290 pruned. Trial was pruned at iteration 5.\n",
            "[I 2025-02-15 10:57:20,986] Trial 291 pruned. Trial was pruned at iteration 5.\n",
            "[I 2025-02-15 10:57:21,048] Trial 292 pruned. Trial was pruned at iteration 5.\n",
            "[I 2025-02-15 10:57:21,124] Trial 293 pruned. Trial was pruned at iteration 5.\n",
            "[I 2025-02-15 10:57:21,192] Trial 294 pruned. Trial was pruned at iteration 5.\n",
            "[I 2025-02-15 10:57:21,262] Trial 295 pruned. Trial was pruned at iteration 5.\n",
            "[I 2025-02-15 10:57:21,332] Trial 296 pruned. Trial was pruned at iteration 5.\n",
            "[I 2025-02-15 10:57:21,404] Trial 297 pruned. Trial was pruned at iteration 5.\n",
            "[I 2025-02-15 10:57:21,477] Trial 298 pruned. Trial was pruned at iteration 5.\n",
            "[I 2025-02-15 10:57:21,550] Trial 299 pruned. Trial was pruned at iteration 5.\n",
            "[I 2025-02-15 10:57:21,631] Trial 300 pruned. Trial was pruned at iteration 9.\n",
            "[I 2025-02-15 10:57:21,713] Trial 301 pruned. Trial was pruned at iteration 5.\n",
            "[I 2025-02-15 10:57:21,830] Trial 302 pruned. Trial was pruned at iteration 5.\n",
            "[I 2025-02-15 10:57:21,944] Trial 303 pruned. Trial was pruned at iteration 5.\n",
            "[I 2025-02-15 10:57:22,062] Trial 304 pruned. Trial was pruned at iteration 5.\n",
            "[I 2025-02-15 10:57:22,169] Trial 305 pruned. Trial was pruned at iteration 5.\n",
            "[I 2025-02-15 10:57:22,246] Trial 306 pruned. Trial was pruned at iteration 5.\n",
            "[I 2025-02-15 10:57:22,346] Trial 307 pruned. Trial was pruned at iteration 9.\n",
            "[I 2025-02-15 10:57:22,437] Trial 308 pruned. Trial was pruned at iteration 5.\n",
            "[I 2025-02-15 10:57:22,531] Trial 309 pruned. Trial was pruned at iteration 5.\n",
            "[I 2025-02-15 10:57:22,632] Trial 310 pruned. Trial was pruned at iteration 5.\n",
            "[I 2025-02-15 10:57:22,723] Trial 311 pruned. Trial was pruned at iteration 5.\n",
            "[I 2025-02-15 10:57:22,810] Trial 312 pruned. Trial was pruned at iteration 5.\n",
            "[I 2025-02-15 10:57:23,270] Trial 313 pruned. Trial was pruned at iteration 63.\n",
            "[I 2025-02-15 10:57:23,362] Trial 314 pruned. Trial was pruned at iteration 5.\n",
            "[I 2025-02-15 10:57:23,459] Trial 315 pruned. Trial was pruned at iteration 5.\n",
            "[I 2025-02-15 10:57:23,571] Trial 316 pruned. Trial was pruned at iteration 5.\n",
            "[I 2025-02-15 10:57:23,661] Trial 317 pruned. Trial was pruned at iteration 5.\n",
            "[I 2025-02-15 10:57:23,769] Trial 318 pruned. Trial was pruned at iteration 5.\n",
            "[I 2025-02-15 10:57:23,862] Trial 319 pruned. Trial was pruned at iteration 5.\n",
            "[I 2025-02-15 10:57:23,980] Trial 320 pruned. Trial was pruned at iteration 5.\n",
            "[I 2025-02-15 10:57:24,854] Trial 321 finished with value: 48010.36904106513 and parameters: {'colsample_bylevel': 0.09348259160733693, 'depth': 9, 'boosting_type': 'Plain', 'bootstrap_type': 'MVS'}. Best is trial 126 with value: 47915.27942103648.\n",
            "[I 2025-02-15 10:57:24,924] Trial 322 pruned. Trial was pruned at iteration 5.\n",
            "[I 2025-02-15 10:57:25,008] Trial 323 pruned. Trial was pruned at iteration 6.\n",
            "[I 2025-02-15 10:57:25,077] Trial 324 pruned. Trial was pruned at iteration 5.\n",
            "[I 2025-02-15 10:57:25,147] Trial 325 pruned. Trial was pruned at iteration 5.\n",
            "[I 2025-02-15 10:57:25,214] Trial 326 pruned. Trial was pruned at iteration 5.\n",
            "[I 2025-02-15 10:57:25,292] Trial 327 pruned. Trial was pruned at iteration 6.\n",
            "[I 2025-02-15 10:57:25,365] Trial 328 pruned. Trial was pruned at iteration 5.\n",
            "[I 2025-02-15 10:57:25,436] Trial 329 pruned. Trial was pruned at iteration 5.\n",
            "[I 2025-02-15 10:57:25,508] Trial 330 pruned. Trial was pruned at iteration 5.\n",
            "[I 2025-02-15 10:57:25,579] Trial 331 pruned. Trial was pruned at iteration 5.\n",
            "[I 2025-02-15 10:57:25,649] Trial 332 pruned. Trial was pruned at iteration 5.\n",
            "[I 2025-02-15 10:57:25,719] Trial 333 pruned. Trial was pruned at iteration 5.\n",
            "[I 2025-02-15 10:57:25,798] Trial 334 pruned. Trial was pruned at iteration 5.\n",
            "[I 2025-02-15 10:57:25,877] Trial 335 pruned. Trial was pruned at iteration 5.\n",
            "[I 2025-02-15 10:57:25,955] Trial 336 pruned. Trial was pruned at iteration 5.\n",
            "[I 2025-02-15 10:57:26,181] Trial 337 pruned. Trial was pruned at iteration 63.\n",
            "[I 2025-02-15 10:57:26,290] Trial 338 pruned. Trial was pruned at iteration 6.\n",
            "[I 2025-02-15 10:57:26,363] Trial 339 pruned. Trial was pruned at iteration 6.\n",
            "[I 2025-02-15 10:57:26,450] Trial 340 pruned. Trial was pruned at iteration 11.\n",
            "[I 2025-02-15 10:57:26,538] Trial 341 pruned. Trial was pruned at iteration 5.\n",
            "[I 2025-02-15 10:57:26,605] Trial 342 pruned. Trial was pruned at iteration 5.\n",
            "[I 2025-02-15 10:57:26,681] Trial 343 pruned. Trial was pruned at iteration 5.\n",
            "[I 2025-02-15 10:57:26,751] Trial 344 pruned. Trial was pruned at iteration 5.\n",
            "[I 2025-02-15 10:57:26,833] Trial 345 pruned. Trial was pruned at iteration 5.\n",
            "[I 2025-02-15 10:57:26,912] Trial 346 pruned. Trial was pruned at iteration 5.\n",
            "[I 2025-02-15 10:57:26,981] Trial 347 pruned. Trial was pruned at iteration 5.\n",
            "[I 2025-02-15 10:57:27,198] Trial 348 pruned. Trial was pruned at iteration 63.\n",
            "[I 2025-02-15 10:57:27,272] Trial 349 pruned. Trial was pruned at iteration 5.\n",
            "[I 2025-02-15 10:57:27,356] Trial 350 pruned. Trial was pruned at iteration 5.\n",
            "[I 2025-02-15 10:57:27,420] Trial 351 pruned. Trial was pruned at iteration 5.\n",
            "[I 2025-02-15 10:57:28,183] Trial 352 finished with value: 48116.330366251066 and parameters: {'colsample_bylevel': 0.09329181490438052, 'depth': 9, 'boosting_type': 'Plain', 'bootstrap_type': 'MVS'}. Best is trial 126 with value: 47915.27942103648.\n",
            "[I 2025-02-15 10:57:28,256] Trial 353 pruned. Trial was pruned at iteration 5.\n",
            "[I 2025-02-15 10:57:28,329] Trial 354 pruned. Trial was pruned at iteration 5.\n",
            "[I 2025-02-15 10:57:28,403] Trial 355 pruned. Trial was pruned at iteration 5.\n",
            "[I 2025-02-15 10:57:28,481] Trial 356 pruned. Trial was pruned at iteration 5.\n",
            "[I 2025-02-15 10:57:28,550] Trial 357 pruned. Trial was pruned at iteration 5.\n",
            "[I 2025-02-15 10:57:28,622] Trial 358 pruned. Trial was pruned at iteration 5.\n",
            "[I 2025-02-15 10:57:28,696] Trial 359 pruned. Trial was pruned at iteration 5.\n",
            "[I 2025-02-15 10:57:28,769] Trial 360 pruned. Trial was pruned at iteration 5.\n",
            "[I 2025-02-15 10:57:28,846] Trial 361 pruned. Trial was pruned at iteration 5.\n",
            "[I 2025-02-15 10:57:28,928] Trial 362 pruned. Trial was pruned at iteration 5.\n",
            "[I 2025-02-15 10:57:29,013] Trial 363 pruned. Trial was pruned at iteration 5.\n",
            "[I 2025-02-15 10:57:29,092] Trial 364 pruned. Trial was pruned at iteration 5.\n",
            "[I 2025-02-15 10:57:29,172] Trial 365 pruned. Trial was pruned at iteration 5.\n",
            "[I 2025-02-15 10:57:29,249] Trial 366 pruned. Trial was pruned at iteration 5.\n",
            "[I 2025-02-15 10:57:29,321] Trial 367 pruned. Trial was pruned at iteration 5.\n",
            "[I 2025-02-15 10:57:29,389] Trial 368 pruned. Trial was pruned at iteration 5.\n",
            "[I 2025-02-15 10:57:29,461] Trial 369 pruned. Trial was pruned at iteration 5.\n",
            "[I 2025-02-15 10:57:29,533] Trial 370 pruned. Trial was pruned at iteration 5.\n",
            "[I 2025-02-15 10:57:29,608] Trial 371 pruned. Trial was pruned at iteration 5.\n",
            "[I 2025-02-15 10:57:29,687] Trial 372 pruned. Trial was pruned at iteration 6.\n",
            "[I 2025-02-15 10:57:29,758] Trial 373 pruned. Trial was pruned at iteration 5.\n",
            "[I 2025-02-15 10:57:30,327] Trial 374 finished with value: 48054.593807727055 and parameters: {'colsample_bylevel': 0.09169877637126926, 'depth': 9, 'boosting_type': 'Plain', 'bootstrap_type': 'MVS'}. Best is trial 126 with value: 47915.27942103648.\n",
            "[I 2025-02-15 10:57:30,400] Trial 375 pruned. Trial was pruned at iteration 5.\n",
            "[I 2025-02-15 10:57:30,478] Trial 376 pruned. Trial was pruned at iteration 5.\n",
            "[I 2025-02-15 10:57:30,559] Trial 377 pruned. Trial was pruned at iteration 5.\n",
            "[I 2025-02-15 10:57:30,641] Trial 378 pruned. Trial was pruned at iteration 9.\n",
            "[I 2025-02-15 10:57:30,714] Trial 379 pruned. Trial was pruned at iteration 5.\n",
            "[I 2025-02-15 10:57:30,792] Trial 380 pruned. Trial was pruned at iteration 5.\n",
            "[I 2025-02-15 10:57:30,891] Trial 381 pruned. Trial was pruned at iteration 5.\n",
            "[I 2025-02-15 10:57:30,967] Trial 382 pruned. Trial was pruned at iteration 5.\n",
            "[I 2025-02-15 10:57:31,048] Trial 383 pruned. Trial was pruned at iteration 5.\n",
            "[I 2025-02-15 10:57:31,137] Trial 384 pruned. Trial was pruned at iteration 9.\n",
            "[I 2025-02-15 10:57:31,214] Trial 385 pruned. Trial was pruned at iteration 5.\n",
            "[I 2025-02-15 10:57:31,287] Trial 386 pruned. Trial was pruned at iteration 5.\n",
            "[I 2025-02-15 10:57:31,383] Trial 387 pruned. Trial was pruned at iteration 12.\n",
            "[I 2025-02-15 10:57:31,451] Trial 388 pruned. Trial was pruned at iteration 5.\n",
            "[I 2025-02-15 10:57:31,523] Trial 389 pruned. Trial was pruned at iteration 5.\n",
            "[I 2025-02-15 10:57:31,594] Trial 390 pruned. Trial was pruned at iteration 5.\n",
            "[I 2025-02-15 10:57:31,669] Trial 391 pruned. Trial was pruned at iteration 5.\n",
            "[I 2025-02-15 10:57:31,745] Trial 392 pruned. Trial was pruned at iteration 5.\n",
            "[I 2025-02-15 10:57:31,819] Trial 393 pruned. Trial was pruned at iteration 5.\n",
            "[I 2025-02-15 10:57:31,915] Trial 394 pruned. Trial was pruned at iteration 5.\n",
            "[I 2025-02-15 10:57:31,992] Trial 395 pruned. Trial was pruned at iteration 5.\n",
            "[I 2025-02-15 10:57:32,064] Trial 396 pruned. Trial was pruned at iteration 5.\n",
            "[I 2025-02-15 10:57:32,142] Trial 397 pruned. Trial was pruned at iteration 5.\n",
            "[I 2025-02-15 10:57:32,274] Trial 398 pruned. Trial was pruned at iteration 25.\n",
            "[I 2025-02-15 10:57:32,358] Trial 399 pruned. Trial was pruned at iteration 5.\n",
            "[I 2025-02-15 10:57:32,437] Trial 400 pruned. Trial was pruned at iteration 5.\n",
            "[I 2025-02-15 10:57:32,930] Trial 401 finished with value: 48099.532793707825 and parameters: {'colsample_bylevel': 0.09200105669812236, 'depth': 9, 'boosting_type': 'Plain', 'bootstrap_type': 'MVS'}. Best is trial 126 with value: 47915.27942103648.\n",
            "[I 2025-02-15 10:57:33,013] Trial 402 pruned. Trial was pruned at iteration 5.\n",
            "[I 2025-02-15 10:57:33,087] Trial 403 pruned. Trial was pruned at iteration 5.\n",
            "[I 2025-02-15 10:57:33,263] Trial 404 pruned. Trial was pruned at iteration 36.\n",
            "[I 2025-02-15 10:57:33,341] Trial 405 pruned. Trial was pruned at iteration 5.\n",
            "[I 2025-02-15 10:57:33,415] Trial 406 pruned. Trial was pruned at iteration 5.\n",
            "[I 2025-02-15 10:57:33,499] Trial 407 pruned. Trial was pruned at iteration 5.\n",
            "[I 2025-02-15 10:57:33,590] Trial 408 pruned. Trial was pruned at iteration 5.\n",
            "[I 2025-02-15 10:57:33,668] Trial 409 pruned. Trial was pruned at iteration 5.\n",
            "[I 2025-02-15 10:57:33,740] Trial 410 pruned. Trial was pruned at iteration 5.\n",
            "[I 2025-02-15 10:57:33,816] Trial 411 pruned. Trial was pruned at iteration 5.\n",
            "[I 2025-02-15 10:57:33,910] Trial 412 pruned. Trial was pruned at iteration 9.\n",
            "[I 2025-02-15 10:57:33,992] Trial 413 pruned. Trial was pruned at iteration 5.\n",
            "[I 2025-02-15 10:57:34,069] Trial 414 pruned. Trial was pruned at iteration 5.\n",
            "[I 2025-02-15 10:57:35,362] Trial 415 finished with value: 48008.61560409381 and parameters: {'colsample_bylevel': 0.09146930429489745, 'depth': 9, 'boosting_type': 'Plain', 'bootstrap_type': 'MVS'}. Best is trial 126 with value: 47915.27942103648.\n",
            "[I 2025-02-15 10:57:35,479] Trial 416 pruned. Trial was pruned at iteration 5.\n",
            "[I 2025-02-15 10:57:35,591] Trial 417 pruned. Trial was pruned at iteration 5.\n",
            "[I 2025-02-15 10:57:35,977] Trial 418 pruned. Trial was pruned at iteration 63.\n",
            "[I 2025-02-15 10:57:36,108] Trial 419 pruned. Trial was pruned at iteration 5.\n",
            "[I 2025-02-15 10:57:36,209] Trial 420 pruned. Trial was pruned at iteration 5.\n",
            "[I 2025-02-15 10:57:36,334] Trial 421 pruned. Trial was pruned at iteration 5.\n",
            "[I 2025-02-15 10:57:36,456] Trial 422 pruned. Trial was pruned at iteration 5.\n",
            "[I 2025-02-15 10:57:36,572] Trial 423 pruned. Trial was pruned at iteration 5.\n",
            "[I 2025-02-15 10:57:36,689] Trial 424 pruned. Trial was pruned at iteration 5.\n",
            "[I 2025-02-15 10:57:36,769] Trial 425 pruned. Trial was pruned at iteration 5.\n",
            "[I 2025-02-15 10:57:36,845] Trial 426 pruned. Trial was pruned at iteration 5.\n",
            "[I 2025-02-15 10:57:36,967] Trial 427 pruned. Trial was pruned at iteration 25.\n",
            "[I 2025-02-15 10:57:37,039] Trial 428 pruned. Trial was pruned at iteration 5.\n",
            "[I 2025-02-15 10:57:37,124] Trial 429 pruned. Trial was pruned at iteration 5.\n",
            "[I 2025-02-15 10:57:37,196] Trial 430 pruned. Trial was pruned at iteration 5.\n",
            "[I 2025-02-15 10:57:37,272] Trial 431 pruned. Trial was pruned at iteration 5.\n",
            "[I 2025-02-15 10:57:37,826] Trial 432 finished with value: 48095.680062003594 and parameters: {'colsample_bylevel': 0.09322408844958488, 'depth': 9, 'boosting_type': 'Plain', 'bootstrap_type': 'MVS'}. Best is trial 126 with value: 47915.27942103648.\n",
            "[I 2025-02-15 10:57:37,931] Trial 433 pruned. Trial was pruned at iteration 8.\n",
            "[I 2025-02-15 10:57:38,008] Trial 434 pruned. Trial was pruned at iteration 5.\n",
            "[I 2025-02-15 10:57:38,089] Trial 435 pruned. Trial was pruned at iteration 5.\n",
            "[I 2025-02-15 10:57:38,166] Trial 436 pruned. Trial was pruned at iteration 5.\n",
            "[I 2025-02-15 10:57:38,241] Trial 437 pruned. Trial was pruned at iteration 5.\n",
            "[I 2025-02-15 10:57:38,320] Trial 438 pruned. Trial was pruned at iteration 5.\n",
            "[I 2025-02-15 10:57:38,394] Trial 439 pruned. Trial was pruned at iteration 5.\n",
            "[I 2025-02-15 10:57:38,498] Trial 440 pruned. Trial was pruned at iteration 5.\n",
            "[I 2025-02-15 10:57:38,578] Trial 441 pruned. Trial was pruned at iteration 5.\n",
            "[I 2025-02-15 10:57:38,661] Trial 442 pruned. Trial was pruned at iteration 9.\n",
            "[I 2025-02-15 10:57:38,740] Trial 443 pruned. Trial was pruned at iteration 5.\n",
            "[I 2025-02-15 10:57:38,819] Trial 444 pruned. Trial was pruned at iteration 5.\n",
            "[I 2025-02-15 10:57:38,913] Trial 445 pruned. Trial was pruned at iteration 5.\n",
            "[I 2025-02-15 10:57:39,001] Trial 446 pruned. Trial was pruned at iteration 5.\n",
            "[I 2025-02-15 10:57:39,794] Trial 447 finished with value: 48010.36904106513 and parameters: {'colsample_bylevel': 0.09348459550969407, 'depth': 9, 'boosting_type': 'Plain', 'bootstrap_type': 'MVS'}. Best is trial 126 with value: 47915.27942103648.\n",
            "[I 2025-02-15 10:57:39,875] Trial 448 pruned. Trial was pruned at iteration 5.\n",
            "[I 2025-02-15 10:57:39,946] Trial 449 pruned. Trial was pruned at iteration 5.\n",
            "[I 2025-02-15 10:57:40,021] Trial 450 pruned. Trial was pruned at iteration 5.\n",
            "[I 2025-02-15 10:57:40,096] Trial 451 pruned. Trial was pruned at iteration 5.\n",
            "[I 2025-02-15 10:57:40,174] Trial 452 pruned. Trial was pruned at iteration 5.\n",
            "[I 2025-02-15 10:57:40,249] Trial 453 pruned. Trial was pruned at iteration 5.\n",
            "[I 2025-02-15 10:57:40,331] Trial 454 pruned. Trial was pruned at iteration 5.\n",
            "[I 2025-02-15 10:57:40,736] Trial 455 pruned. Trial was pruned at iteration 127.\n",
            "[I 2025-02-15 10:57:40,814] Trial 456 pruned. Trial was pruned at iteration 5.\n",
            "[I 2025-02-15 10:57:40,899] Trial 457 pruned. Trial was pruned at iteration 5.\n",
            "[I 2025-02-15 10:57:40,977] Trial 458 pruned. Trial was pruned at iteration 5.\n",
            "[I 2025-02-15 10:57:41,064] Trial 459 pruned. Trial was pruned at iteration 5.\n",
            "[I 2025-02-15 10:57:41,656] Trial 460 finished with value: 48017.67721530649 and parameters: {'colsample_bylevel': 0.09229128457787655, 'depth': 9, 'boosting_type': 'Plain', 'bootstrap_type': 'MVS'}. Best is trial 126 with value: 47915.27942103648.\n",
            "[I 2025-02-15 10:57:41,730] Trial 461 pruned. Trial was pruned at iteration 5.\n",
            "[I 2025-02-15 10:57:41,805] Trial 462 pruned. Trial was pruned at iteration 5.\n",
            "[I 2025-02-15 10:57:41,890] Trial 463 pruned. Trial was pruned at iteration 5.\n",
            "[I 2025-02-15 10:57:41,966] Trial 464 pruned. Trial was pruned at iteration 5.\n",
            "[I 2025-02-15 10:57:42,037] Trial 465 pruned. Trial was pruned at iteration 5.\n",
            "[I 2025-02-15 10:57:42,115] Trial 466 pruned. Trial was pruned at iteration 5.\n",
            "[I 2025-02-15 10:57:42,190] Trial 467 pruned. Trial was pruned at iteration 5.\n",
            "[I 2025-02-15 10:57:42,272] Trial 468 pruned. Trial was pruned at iteration 5.\n",
            "[I 2025-02-15 10:57:42,358] Trial 469 pruned. Trial was pruned at iteration 5.\n",
            "[I 2025-02-15 10:57:42,431] Trial 470 pruned. Trial was pruned at iteration 5.\n",
            "[I 2025-02-15 10:57:42,508] Trial 471 pruned. Trial was pruned at iteration 5.\n",
            "[I 2025-02-15 10:57:42,614] Trial 472 pruned. Trial was pruned at iteration 9.\n",
            "[I 2025-02-15 10:57:42,692] Trial 473 pruned. Trial was pruned at iteration 5.\n",
            "[I 2025-02-15 10:57:42,772] Trial 474 pruned. Trial was pruned at iteration 5.\n",
            "[I 2025-02-15 10:57:42,854] Trial 475 pruned. Trial was pruned at iteration 5.\n",
            "[I 2025-02-15 10:57:42,960] Trial 476 pruned. Trial was pruned at iteration 6.\n",
            "[I 2025-02-15 10:57:43,474] Trial 477 finished with value: 48099.532793707825 and parameters: {'colsample_bylevel': 0.09204024698338065, 'depth': 9, 'boosting_type': 'Plain', 'bootstrap_type': 'MVS'}. Best is trial 126 with value: 47915.27942103648.\n",
            "[I 2025-02-15 10:57:43,550] Trial 478 pruned. Trial was pruned at iteration 5.\n",
            "[I 2025-02-15 10:57:43,634] Trial 479 pruned. Trial was pruned at iteration 5.\n",
            "[I 2025-02-15 10:57:43,718] Trial 480 pruned. Trial was pruned at iteration 5.\n",
            "[I 2025-02-15 10:57:43,797] Trial 481 pruned. Trial was pruned at iteration 5.\n",
            "[I 2025-02-15 10:57:43,877] Trial 482 pruned. Trial was pruned at iteration 5.\n",
            "[I 2025-02-15 10:57:43,955] Trial 483 pruned. Trial was pruned at iteration 5.\n",
            "[I 2025-02-15 10:57:44,032] Trial 484 pruned. Trial was pruned at iteration 5.\n",
            "[I 2025-02-15 10:57:44,117] Trial 485 pruned. Trial was pruned at iteration 5.\n",
            "[I 2025-02-15 10:57:44,728] Trial 486 finished with value: 48095.680062003594 and parameters: {'colsample_bylevel': 0.09322793688973668, 'depth': 9, 'boosting_type': 'Plain', 'bootstrap_type': 'MVS'}. Best is trial 126 with value: 47915.27942103648.\n",
            "[I 2025-02-15 10:57:44,805] Trial 487 pruned. Trial was pruned at iteration 5.\n",
            "[I 2025-02-15 10:57:44,888] Trial 488 pruned. Trial was pruned at iteration 5.\n",
            "[I 2025-02-15 10:57:44,967] Trial 489 pruned. Trial was pruned at iteration 5.\n",
            "[I 2025-02-15 10:57:45,055] Trial 490 pruned. Trial was pruned at iteration 5.\n",
            "[I 2025-02-15 10:57:45,131] Trial 491 pruned. Trial was pruned at iteration 5.\n",
            "[I 2025-02-15 10:57:45,211] Trial 492 pruned. Trial was pruned at iteration 5.\n",
            "[I 2025-02-15 10:57:45,289] Trial 493 pruned. Trial was pruned at iteration 5.\n",
            "[I 2025-02-15 10:57:45,366] Trial 494 pruned. Trial was pruned at iteration 5.\n",
            "[I 2025-02-15 10:57:45,444] Trial 495 pruned. Trial was pruned at iteration 5.\n",
            "[I 2025-02-15 10:57:45,523] Trial 496 pruned. Trial was pruned at iteration 5.\n",
            "[I 2025-02-15 10:57:45,602] Trial 497 pruned. Trial was pruned at iteration 5.\n",
            "[I 2025-02-15 10:57:45,691] Trial 498 pruned. Trial was pruned at iteration 5.\n",
            "[I 2025-02-15 10:57:45,778] Trial 499 pruned. Trial was pruned at iteration 5.\n",
            "[I 2025-02-15 10:57:45,852] Trial 500 pruned. Trial was pruned at iteration 5.\n",
            "[I 2025-02-15 10:57:45,941] Trial 501 pruned. Trial was pruned at iteration 5.\n",
            "[I 2025-02-15 10:57:46,036] Trial 502 pruned. Trial was pruned at iteration 5.\n",
            "[I 2025-02-15 10:57:46,115] Trial 503 pruned. Trial was pruned at iteration 5.\n",
            "[I 2025-02-15 10:57:46,264] Trial 504 pruned. Trial was pruned at iteration 28.\n",
            "[I 2025-02-15 10:57:46,343] Trial 505 pruned. Trial was pruned at iteration 5.\n",
            "[I 2025-02-15 10:57:46,416] Trial 506 pruned. Trial was pruned at iteration 5.\n",
            "[I 2025-02-15 10:57:46,495] Trial 507 pruned. Trial was pruned at iteration 5.\n",
            "[I 2025-02-15 10:57:46,576] Trial 508 pruned. Trial was pruned at iteration 5.\n",
            "[I 2025-02-15 10:57:46,669] Trial 509 pruned. Trial was pruned at iteration 5.\n",
            "[I 2025-02-15 10:57:46,761] Trial 510 pruned. Trial was pruned at iteration 5.\n",
            "[I 2025-02-15 10:57:47,119] Trial 511 pruned. Trial was pruned at iteration 24.\n",
            "[I 2025-02-15 10:57:47,595] Trial 512 pruned. Trial was pruned at iteration 5.\n",
            "[I 2025-02-15 10:57:47,947] Trial 513 pruned. Trial was pruned at iteration 5.\n",
            "[I 2025-02-15 10:57:48,169] Trial 514 pruned. Trial was pruned at iteration 5.\n",
            "[I 2025-02-15 10:57:48,265] Trial 515 pruned. Trial was pruned at iteration 5.\n",
            "[I 2025-02-15 10:57:48,438] Trial 516 pruned. Trial was pruned at iteration 5.\n",
            "[I 2025-02-15 10:57:48,947] Trial 517 pruned. Trial was pruned at iteration 5.\n",
            "[I 2025-02-15 10:57:49,376] Trial 518 pruned. Trial was pruned at iteration 5.\n",
            "[I 2025-02-15 10:57:49,523] Trial 519 pruned. Trial was pruned at iteration 5.\n",
            "[I 2025-02-15 10:57:49,637] Trial 520 pruned. Trial was pruned at iteration 5.\n",
            "[I 2025-02-15 10:57:49,758] Trial 521 pruned. Trial was pruned at iteration 5.\n",
            "[I 2025-02-15 10:57:49,888] Trial 522 pruned. Trial was pruned at iteration 5.\n",
            "[I 2025-02-15 10:57:50,161] Trial 523 pruned. Trial was pruned at iteration 5.\n",
            "[I 2025-02-15 10:57:50,404] Trial 524 pruned. Trial was pruned at iteration 5.\n",
            "[I 2025-02-15 10:57:50,521] Trial 525 pruned. Trial was pruned at iteration 5.\n",
            "[I 2025-02-15 10:57:50,594] Trial 526 pruned. Trial was pruned at iteration 5.\n",
            "[I 2025-02-15 10:57:50,674] Trial 527 pruned. Trial was pruned at iteration 5.\n",
            "[I 2025-02-15 10:57:50,753] Trial 528 pruned. Trial was pruned at iteration 5.\n",
            "[I 2025-02-15 10:57:50,830] Trial 529 pruned. Trial was pruned at iteration 5.\n",
            "[I 2025-02-15 10:57:50,938] Trial 530 pruned. Trial was pruned at iteration 5.\n",
            "[I 2025-02-15 10:57:51,014] Trial 531 pruned. Trial was pruned at iteration 5.\n",
            "[I 2025-02-15 10:57:51,154] Trial 532 pruned. Trial was pruned at iteration 30.\n",
            "[I 2025-02-15 10:57:51,224] Trial 533 pruned. Trial was pruned at iteration 5.\n",
            "[I 2025-02-15 10:57:51,303] Trial 534 pruned. Trial was pruned at iteration 5.\n",
            "[I 2025-02-15 10:57:51,382] Trial 535 pruned. Trial was pruned at iteration 5.\n",
            "[I 2025-02-15 10:57:51,459] Trial 536 pruned. Trial was pruned at iteration 5.\n",
            "[I 2025-02-15 10:57:51,538] Trial 537 pruned. Trial was pruned at iteration 5.\n",
            "[I 2025-02-15 10:57:51,613] Trial 538 pruned. Trial was pruned at iteration 5.\n",
            "[I 2025-02-15 10:57:51,692] Trial 539 pruned. Trial was pruned at iteration 5.\n",
            "[I 2025-02-15 10:57:51,778] Trial 540 pruned. Trial was pruned at iteration 5.\n",
            "[I 2025-02-15 10:57:51,856] Trial 541 pruned. Trial was pruned at iteration 5.\n",
            "[I 2025-02-15 10:57:51,953] Trial 542 pruned. Trial was pruned at iteration 5.\n",
            "[I 2025-02-15 10:57:52,034] Trial 543 pruned. Trial was pruned at iteration 5.\n",
            "[I 2025-02-15 10:57:52,121] Trial 544 pruned. Trial was pruned at iteration 5.\n",
            "[I 2025-02-15 10:57:52,621] Trial 545 finished with value: 48054.593807727055 and parameters: {'colsample_bylevel': 0.09170895839978571, 'depth': 9, 'boosting_type': 'Plain', 'bootstrap_type': 'MVS'}. Best is trial 126 with value: 47915.27942103648.\n",
            "[I 2025-02-15 10:57:52,699] Trial 546 pruned. Trial was pruned at iteration 5.\n",
            "[I 2025-02-15 10:57:52,779] Trial 547 pruned. Trial was pruned at iteration 5.\n",
            "[I 2025-02-15 10:57:52,862] Trial 548 pruned. Trial was pruned at iteration 5.\n",
            "[I 2025-02-15 10:57:52,944] Trial 549 pruned. Trial was pruned at iteration 5.\n",
            "[I 2025-02-15 10:57:53,026] Trial 550 pruned. Trial was pruned at iteration 5.\n",
            "[I 2025-02-15 10:57:53,116] Trial 551 pruned. Trial was pruned at iteration 5.\n",
            "[I 2025-02-15 10:57:53,198] Trial 552 pruned. Trial was pruned at iteration 5.\n",
            "[I 2025-02-15 10:57:53,278] Trial 553 pruned. Trial was pruned at iteration 5.\n",
            "[I 2025-02-15 10:57:53,350] Trial 554 pruned. Trial was pruned at iteration 5.\n",
            "[I 2025-02-15 10:57:53,428] Trial 555 pruned. Trial was pruned at iteration 5.\n",
            "[I 2025-02-15 10:57:53,543] Trial 556 pruned. Trial was pruned at iteration 5.\n",
            "[I 2025-02-15 10:57:53,662] Trial 557 pruned. Trial was pruned at iteration 24.\n",
            "[I 2025-02-15 10:57:53,742] Trial 558 pruned. Trial was pruned at iteration 5.\n",
            "[I 2025-02-15 10:57:53,820] Trial 559 pruned. Trial was pruned at iteration 5.\n",
            "[I 2025-02-15 10:57:53,914] Trial 560 pruned. Trial was pruned at iteration 5.\n",
            "[I 2025-02-15 10:57:54,012] Trial 561 pruned. Trial was pruned at iteration 5.\n",
            "[I 2025-02-15 10:57:54,094] Trial 562 pruned. Trial was pruned at iteration 5.\n",
            "[I 2025-02-15 10:57:54,182] Trial 563 pruned. Trial was pruned at iteration 5.\n",
            "[I 2025-02-15 10:57:54,267] Trial 564 pruned. Trial was pruned at iteration 5.\n",
            "[I 2025-02-15 10:57:54,356] Trial 565 pruned. Trial was pruned at iteration 5.\n",
            "[I 2025-02-15 10:57:54,444] Trial 566 pruned. Trial was pruned at iteration 5.\n",
            "[I 2025-02-15 10:57:54,523] Trial 567 pruned. Trial was pruned at iteration 5.\n",
            "[I 2025-02-15 10:57:54,608] Trial 568 pruned. Trial was pruned at iteration 5.\n",
            "[I 2025-02-15 10:57:54,692] Trial 569 pruned. Trial was pruned at iteration 5.\n",
            "[I 2025-02-15 10:57:54,768] Trial 570 pruned. Trial was pruned at iteration 5.\n",
            "[I 2025-02-15 10:57:54,846] Trial 571 pruned. Trial was pruned at iteration 5.\n",
            "[I 2025-02-15 10:57:54,937] Trial 572 pruned. Trial was pruned at iteration 5.\n",
            "[I 2025-02-15 10:57:55,037] Trial 573 pruned. Trial was pruned at iteration 5.\n",
            "[I 2025-02-15 10:57:55,122] Trial 574 pruned. Trial was pruned at iteration 5.\n",
            "[I 2025-02-15 10:57:55,209] Trial 575 pruned. Trial was pruned at iteration 5.\n",
            "[I 2025-02-15 10:57:55,287] Trial 576 pruned. Trial was pruned at iteration 5.\n",
            "[I 2025-02-15 10:57:55,365] Trial 577 pruned. Trial was pruned at iteration 5.\n",
            "[I 2025-02-15 10:57:55,449] Trial 578 pruned. Trial was pruned at iteration 5.\n",
            "[I 2025-02-15 10:57:55,588] Trial 579 pruned. Trial was pruned at iteration 30.\n",
            "[I 2025-02-15 10:57:55,666] Trial 580 pruned. Trial was pruned at iteration 5.\n",
            "[I 2025-02-15 10:57:55,743] Trial 581 pruned. Trial was pruned at iteration 5.\n",
            "[I 2025-02-15 10:57:55,825] Trial 582 pruned. Trial was pruned at iteration 5.\n",
            "[I 2025-02-15 10:57:55,925] Trial 583 pruned. Trial was pruned at iteration 5.\n",
            "[I 2025-02-15 10:57:56,012] Trial 584 pruned. Trial was pruned at iteration 5.\n",
            "[I 2025-02-15 10:57:56,221] Trial 585 pruned. Trial was pruned at iteration 54.\n",
            "[I 2025-02-15 10:57:56,310] Trial 586 pruned. Trial was pruned at iteration 5.\n",
            "[I 2025-02-15 10:57:56,410] Trial 587 pruned. Trial was pruned at iteration 6.\n",
            "[I 2025-02-15 10:57:56,490] Trial 588 pruned. Trial was pruned at iteration 5.\n",
            "[I 2025-02-15 10:57:57,000] Trial 589 finished with value: 48099.532793707825 and parameters: {'colsample_bylevel': 0.09204079518858889, 'depth': 9, 'boosting_type': 'Plain', 'bootstrap_type': 'MVS'}. Best is trial 126 with value: 47915.27942103648.\n",
            "[I 2025-02-15 10:57:57,096] Trial 590 pruned. Trial was pruned at iteration 5.\n",
            "[I 2025-02-15 10:57:57,175] Trial 591 pruned. Trial was pruned at iteration 5.\n",
            "[I 2025-02-15 10:57:57,254] Trial 592 pruned. Trial was pruned at iteration 5.\n",
            "[I 2025-02-15 10:57:57,336] Trial 593 pruned. Trial was pruned at iteration 5.\n",
            "[I 2025-02-15 10:57:57,425] Trial 594 pruned. Trial was pruned at iteration 5.\n",
            "[I 2025-02-15 10:57:57,510] Trial 595 pruned. Trial was pruned at iteration 5.\n",
            "[I 2025-02-15 10:57:57,595] Trial 596 pruned. Trial was pruned at iteration 5.\n",
            "[I 2025-02-15 10:57:57,676] Trial 597 pruned. Trial was pruned at iteration 5.\n",
            "[I 2025-02-15 10:57:57,760] Trial 598 pruned. Trial was pruned at iteration 5.\n",
            "[I 2025-02-15 10:57:57,845] Trial 599 pruned. Trial was pruned at iteration 5.\n",
            "[I 2025-02-15 10:57:57,946] Trial 600 pruned. Trial was pruned at iteration 5.\n",
            "[I 2025-02-15 10:57:58,113] Trial 601 pruned. Trial was pruned at iteration 5.\n",
            "[I 2025-02-15 10:57:58,270] Trial 602 pruned. Trial was pruned at iteration 5.\n",
            "[I 2025-02-15 10:57:58,502] Trial 603 pruned. Trial was pruned at iteration 7.\n",
            "[I 2025-02-15 10:57:58,699] Trial 604 pruned. Trial was pruned at iteration 5.\n",
            "[I 2025-02-15 10:57:58,825] Trial 605 pruned. Trial was pruned at iteration 5.\n",
            "[I 2025-02-15 10:57:59,008] Trial 606 pruned. Trial was pruned at iteration 5.\n",
            "[I 2025-02-15 10:57:59,292] Trial 607 pruned. Trial was pruned at iteration 30.\n",
            "[I 2025-02-15 10:57:59,427] Trial 608 pruned. Trial was pruned at iteration 5.\n",
            "[I 2025-02-15 10:57:59,687] Trial 609 pruned. Trial was pruned at iteration 6.\n",
            "[I 2025-02-15 10:57:59,894] Trial 610 pruned. Trial was pruned at iteration 5.\n",
            "[I 2025-02-15 10:58:00,188] Trial 611 pruned. Trial was pruned at iteration 5.\n",
            "[I 2025-02-15 10:58:00,702] Trial 612 pruned. Trial was pruned at iteration 24.\n",
            "[I 2025-02-15 10:58:01,109] Trial 613 pruned. Trial was pruned at iteration 5.\n",
            "[I 2025-02-15 10:58:01,532] Trial 614 pruned. Trial was pruned at iteration 5.\n",
            "[I 2025-02-15 10:58:01,811] Trial 615 pruned. Trial was pruned at iteration 5.\n",
            "[I 2025-02-15 10:58:02,080] Trial 616 pruned. Trial was pruned at iteration 5.\n",
            "[I 2025-02-15 10:58:02,440] Trial 617 pruned. Trial was pruned at iteration 5.\n",
            "[I 2025-02-15 10:58:03,003] Trial 618 pruned. Trial was pruned at iteration 5.\n",
            "[I 2025-02-15 10:58:03,434] Trial 619 pruned. Trial was pruned at iteration 5.\n",
            "[I 2025-02-15 10:58:03,684] Trial 620 pruned. Trial was pruned at iteration 5.\n",
            "[I 2025-02-15 10:58:03,927] Trial 621 pruned. Trial was pruned at iteration 5.\n",
            "[I 2025-02-15 10:58:04,252] Trial 622 pruned. Trial was pruned at iteration 5.\n",
            "[I 2025-02-15 10:58:04,546] Trial 623 pruned. Trial was pruned at iteration 5.\n",
            "[I 2025-02-15 10:58:04,832] Trial 624 pruned. Trial was pruned at iteration 5.\n",
            "[I 2025-02-15 10:58:05,041] Trial 625 pruned. Trial was pruned at iteration 5.\n",
            "[I 2025-02-15 10:58:05,344] Trial 626 pruned. Trial was pruned at iteration 5.\n",
            "[I 2025-02-15 10:58:05,558] Trial 627 pruned. Trial was pruned at iteration 5.\n",
            "[I 2025-02-15 10:58:05,944] Trial 628 pruned. Trial was pruned at iteration 24.\n",
            "[I 2025-02-15 10:58:06,085] Trial 629 pruned. Trial was pruned at iteration 5.\n",
            "[I 2025-02-15 10:58:06,292] Trial 630 pruned. Trial was pruned at iteration 5.\n",
            "[I 2025-02-15 10:58:06,496] Trial 631 pruned. Trial was pruned at iteration 5.\n",
            "[I 2025-02-15 10:58:06,733] Trial 632 pruned. Trial was pruned at iteration 5.\n",
            "[I 2025-02-15 10:58:06,896] Trial 633 pruned. Trial was pruned at iteration 5.\n",
            "[I 2025-02-15 10:58:07,061] Trial 634 pruned. Trial was pruned at iteration 5.\n",
            "[I 2025-02-15 10:58:07,355] Trial 635 pruned. Trial was pruned at iteration 5.\n",
            "[I 2025-02-15 10:58:07,655] Trial 636 pruned. Trial was pruned at iteration 5.\n",
            "[I 2025-02-15 10:58:07,898] Trial 637 pruned. Trial was pruned at iteration 5.\n",
            "[I 2025-02-15 10:58:08,017] Trial 638 pruned. Trial was pruned at iteration 5.\n",
            "[I 2025-02-15 10:58:08,100] Trial 639 pruned. Trial was pruned at iteration 5.\n",
            "[I 2025-02-15 10:58:08,244] Trial 640 pruned. Trial was pruned at iteration 30.\n",
            "[I 2025-02-15 10:58:08,327] Trial 641 pruned. Trial was pruned at iteration 5.\n",
            "[I 2025-02-15 10:58:08,412] Trial 642 pruned. Trial was pruned at iteration 5.\n",
            "[I 2025-02-15 10:58:08,501] Trial 643 pruned. Trial was pruned at iteration 5.\n",
            "[I 2025-02-15 10:58:09,047] Trial 644 finished with value: 48054.593807727055 and parameters: {'colsample_bylevel': 0.09158915131154373, 'depth': 9, 'boosting_type': 'Plain', 'bootstrap_type': 'MVS'}. Best is trial 126 with value: 47915.27942103648.\n",
            "[I 2025-02-15 10:58:09,138] Trial 645 pruned. Trial was pruned at iteration 5.\n",
            "[I 2025-02-15 10:58:09,224] Trial 646 pruned. Trial was pruned at iteration 5.\n",
            "[I 2025-02-15 10:58:09,830] Trial 647 finished with value: 48017.67721530649 and parameters: {'colsample_bylevel': 0.09224748974933894, 'depth': 9, 'boosting_type': 'Plain', 'bootstrap_type': 'MVS'}. Best is trial 126 with value: 47915.27942103648.\n",
            "[I 2025-02-15 10:58:09,918] Trial 648 pruned. Trial was pruned at iteration 5.\n",
            "[I 2025-02-15 10:58:10,002] Trial 649 pruned. Trial was pruned at iteration 5.\n",
            "[I 2025-02-15 10:58:10,088] Trial 650 pruned. Trial was pruned at iteration 5.\n",
            "[I 2025-02-15 10:58:10,186] Trial 651 pruned. Trial was pruned at iteration 5.\n",
            "[I 2025-02-15 10:58:10,287] Trial 652 pruned. Trial was pruned at iteration 5.\n",
            "[I 2025-02-15 10:58:10,372] Trial 653 pruned. Trial was pruned at iteration 5.\n",
            "[I 2025-02-15 10:58:10,472] Trial 654 pruned. Trial was pruned at iteration 5.\n",
            "[I 2025-02-15 10:58:10,564] Trial 655 pruned. Trial was pruned at iteration 5.\n",
            "[I 2025-02-15 10:58:10,651] Trial 656 pruned. Trial was pruned at iteration 5.\n",
            "[I 2025-02-15 10:58:10,736] Trial 657 pruned. Trial was pruned at iteration 5.\n",
            "[I 2025-02-15 10:58:10,824] Trial 658 pruned. Trial was pruned at iteration 5.\n",
            "[I 2025-02-15 10:58:10,917] Trial 659 pruned. Trial was pruned at iteration 5.\n",
            "[I 2025-02-15 10:58:11,005] Trial 660 pruned. Trial was pruned at iteration 5.\n",
            "[I 2025-02-15 10:58:11,095] Trial 661 pruned. Trial was pruned at iteration 5.\n",
            "[I 2025-02-15 10:58:11,187] Trial 662 pruned. Trial was pruned at iteration 5.\n",
            "[I 2025-02-15 10:58:11,276] Trial 663 pruned. Trial was pruned at iteration 5.\n",
            "[I 2025-02-15 10:58:11,356] Trial 664 pruned. Trial was pruned at iteration 5.\n",
            "[I 2025-02-15 10:58:11,446] Trial 665 pruned. Trial was pruned at iteration 5.\n",
            "[I 2025-02-15 10:58:11,537] Trial 666 pruned. Trial was pruned at iteration 5.\n",
            "[I 2025-02-15 10:58:11,632] Trial 667 pruned. Trial was pruned at iteration 5.\n",
            "[I 2025-02-15 10:58:11,720] Trial 668 pruned. Trial was pruned at iteration 5.\n",
            "[I 2025-02-15 10:58:11,817] Trial 669 pruned. Trial was pruned at iteration 5.\n",
            "[I 2025-02-15 10:58:11,930] Trial 670 pruned. Trial was pruned at iteration 5.\n",
            "[I 2025-02-15 10:58:12,021] Trial 671 pruned. Trial was pruned at iteration 5.\n",
            "[I 2025-02-15 10:58:12,108] Trial 672 pruned. Trial was pruned at iteration 5.\n",
            "[I 2025-02-15 10:58:12,198] Trial 673 pruned. Trial was pruned at iteration 5.\n",
            "[I 2025-02-15 10:58:12,288] Trial 674 pruned. Trial was pruned at iteration 5.\n",
            "[I 2025-02-15 10:58:12,378] Trial 675 pruned. Trial was pruned at iteration 7.\n",
            "[I 2025-02-15 10:58:12,469] Trial 676 pruned. Trial was pruned at iteration 5.\n",
            "[I 2025-02-15 10:58:12,561] Trial 677 pruned. Trial was pruned at iteration 5.\n",
            "[I 2025-02-15 10:58:13,137] Trial 678 finished with value: 48054.593807727055 and parameters: {'colsample_bylevel': 0.0916469767867939, 'depth': 9, 'boosting_type': 'Plain', 'bootstrap_type': 'MVS'}. Best is trial 126 with value: 47915.27942103648.\n",
            "[I 2025-02-15 10:58:13,225] Trial 679 pruned. Trial was pruned at iteration 5.\n",
            "[I 2025-02-15 10:58:13,313] Trial 680 pruned. Trial was pruned at iteration 5.\n",
            "[I 2025-02-15 10:58:13,401] Trial 681 pruned. Trial was pruned at iteration 5.\n",
            "[I 2025-02-15 10:58:13,759] Trial 682 pruned. Trial was pruned at iteration 126.\n",
            "[I 2025-02-15 10:58:13,842] Trial 683 pruned. Trial was pruned at iteration 5.\n",
            "[I 2025-02-15 10:58:13,943] Trial 684 pruned. Trial was pruned at iteration 5.\n",
            "[I 2025-02-15 10:58:14,031] Trial 685 pruned. Trial was pruned at iteration 5.\n",
            "[I 2025-02-15 10:58:14,121] Trial 686 pruned. Trial was pruned at iteration 5.\n",
            "[I 2025-02-15 10:58:14,210] Trial 687 pruned. Trial was pruned at iteration 5.\n",
            "[I 2025-02-15 10:58:14,301] Trial 688 pruned. Trial was pruned at iteration 5.\n",
            "[I 2025-02-15 10:58:14,390] Trial 689 pruned. Trial was pruned at iteration 5.\n",
            "[I 2025-02-15 10:58:14,490] Trial 690 pruned. Trial was pruned at iteration 5.\n",
            "[I 2025-02-15 10:58:14,579] Trial 691 pruned. Trial was pruned at iteration 5.\n",
            "[I 2025-02-15 10:58:14,667] Trial 692 pruned. Trial was pruned at iteration 5.\n",
            "[I 2025-02-15 10:58:14,753] Trial 693 pruned. Trial was pruned at iteration 5.\n",
            "[I 2025-02-15 10:58:14,859] Trial 694 pruned. Trial was pruned at iteration 5.\n",
            "[I 2025-02-15 10:58:14,976] Trial 695 pruned. Trial was pruned at iteration 5.\n",
            "[I 2025-02-15 10:58:15,152] Trial 696 pruned. Trial was pruned at iteration 7.\n",
            "[I 2025-02-15 10:58:15,278] Trial 697 pruned. Trial was pruned at iteration 5.\n",
            "[I 2025-02-15 10:58:15,421] Trial 698 pruned. Trial was pruned at iteration 5.\n",
            "[I 2025-02-15 10:58:15,557] Trial 699 pruned. Trial was pruned at iteration 5.\n",
            "[I 2025-02-15 10:58:16,324] Trial 700 pruned. Trial was pruned at iteration 126.\n",
            "[I 2025-02-15 10:58:16,453] Trial 701 pruned. Trial was pruned at iteration 6.\n",
            "[I 2025-02-15 10:58:16,584] Trial 702 pruned. Trial was pruned at iteration 5.\n",
            "[I 2025-02-15 10:58:16,712] Trial 703 pruned. Trial was pruned at iteration 5.\n",
            "[I 2025-02-15 10:58:16,850] Trial 704 pruned. Trial was pruned at iteration 5.\n",
            "[I 2025-02-15 10:58:16,983] Trial 705 pruned. Trial was pruned at iteration 5.\n",
            "[I 2025-02-15 10:58:17,113] Trial 706 pruned. Trial was pruned at iteration 5.\n",
            "[I 2025-02-15 10:58:17,246] Trial 707 pruned. Trial was pruned at iteration 5.\n",
            "[I 2025-02-15 10:58:17,379] Trial 708 pruned. Trial was pruned at iteration 5.\n",
            "[I 2025-02-15 10:58:17,964] Trial 709 finished with value: 48017.67721530649 and parameters: {'colsample_bylevel': 0.09216556309028388, 'depth': 9, 'boosting_type': 'Plain', 'bootstrap_type': 'MVS'}. Best is trial 126 with value: 47915.27942103648.\n",
            "[I 2025-02-15 10:58:18,053] Trial 710 pruned. Trial was pruned at iteration 5.\n",
            "[I 2025-02-15 10:58:18,151] Trial 711 pruned. Trial was pruned at iteration 5.\n",
            "[I 2025-02-15 10:58:18,348] Trial 712 pruned. Trial was pruned at iteration 54.\n",
            "[I 2025-02-15 10:58:18,434] Trial 713 pruned. Trial was pruned at iteration 5.\n",
            "[I 2025-02-15 10:58:18,521] Trial 714 pruned. Trial was pruned at iteration 5.\n",
            "[I 2025-02-15 10:58:18,606] Trial 715 pruned. Trial was pruned at iteration 5.\n",
            "[I 2025-02-15 10:58:18,696] Trial 716 pruned. Trial was pruned at iteration 5.\n",
            "[I 2025-02-15 10:58:18,792] Trial 717 pruned. Trial was pruned at iteration 6.\n",
            "[I 2025-02-15 10:58:18,895] Trial 718 pruned. Trial was pruned at iteration 5.\n",
            "[I 2025-02-15 10:58:18,982] Trial 719 pruned. Trial was pruned at iteration 5.\n",
            "[I 2025-02-15 10:58:19,076] Trial 720 pruned. Trial was pruned at iteration 5.\n",
            "[I 2025-02-15 10:58:19,171] Trial 721 pruned. Trial was pruned at iteration 5.\n",
            "[I 2025-02-15 10:58:19,258] Trial 722 pruned. Trial was pruned at iteration 5.\n",
            "[I 2025-02-15 10:58:19,349] Trial 723 pruned. Trial was pruned at iteration 5.\n",
            "[I 2025-02-15 10:58:19,436] Trial 724 pruned. Trial was pruned at iteration 5.\n",
            "[I 2025-02-15 10:58:19,524] Trial 725 pruned. Trial was pruned at iteration 5.\n",
            "[I 2025-02-15 10:58:19,613] Trial 726 pruned. Trial was pruned at iteration 5.\n",
            "[I 2025-02-15 10:58:19,701] Trial 727 pruned. Trial was pruned at iteration 5.\n",
            "[I 2025-02-15 10:58:19,797] Trial 728 pruned. Trial was pruned at iteration 6.\n",
            "[I 2025-02-15 10:58:19,887] Trial 729 pruned. Trial was pruned at iteration 5.\n",
            "[I 2025-02-15 10:58:19,979] Trial 730 pruned. Trial was pruned at iteration 5.\n",
            "[I 2025-02-15 10:58:20,073] Trial 731 pruned. Trial was pruned at iteration 5.\n",
            "[I 2025-02-15 10:58:20,175] Trial 732 pruned. Trial was pruned at iteration 5.\n",
            "[I 2025-02-15 10:58:20,268] Trial 733 pruned. Trial was pruned at iteration 5.\n",
            "[I 2025-02-15 10:58:20,350] Trial 734 pruned. Trial was pruned at iteration 5.\n",
            "[I 2025-02-15 10:58:20,436] Trial 735 pruned. Trial was pruned at iteration 5.\n",
            "[I 2025-02-15 10:58:20,539] Trial 736 pruned. Trial was pruned at iteration 5.\n",
            "[I 2025-02-15 10:58:20,630] Trial 737 pruned. Trial was pruned at iteration 5.\n",
            "[I 2025-02-15 10:58:20,717] Trial 738 pruned. Trial was pruned at iteration 5.\n",
            "[I 2025-02-15 10:58:20,807] Trial 739 pruned. Trial was pruned at iteration 5.\n",
            "[I 2025-02-15 10:58:20,900] Trial 740 pruned. Trial was pruned at iteration 5.\n",
            "[I 2025-02-15 10:58:20,985] Trial 741 pruned. Trial was pruned at iteration 5.\n",
            "[I 2025-02-15 10:58:21,100] Trial 742 pruned. Trial was pruned at iteration 6.\n",
            "[I 2025-02-15 10:58:21,198] Trial 743 pruned. Trial was pruned at iteration 5.\n",
            "[I 2025-02-15 10:58:21,335] Trial 744 pruned. Trial was pruned at iteration 30.\n",
            "[I 2025-02-15 10:58:21,422] Trial 745 pruned. Trial was pruned at iteration 5.\n",
            "[I 2025-02-15 10:58:21,508] Trial 746 pruned. Trial was pruned at iteration 5.\n",
            "[I 2025-02-15 10:58:21,602] Trial 747 pruned. Trial was pruned at iteration 5.\n",
            "[I 2025-02-15 10:58:21,696] Trial 748 pruned. Trial was pruned at iteration 5.\n",
            "[I 2025-02-15 10:58:21,789] Trial 749 pruned. Trial was pruned at iteration 5.\n",
            "[I 2025-02-15 10:58:21,892] Trial 750 pruned. Trial was pruned at iteration 5.\n",
            "[I 2025-02-15 10:58:21,979] Trial 751 pruned. Trial was pruned at iteration 5.\n",
            "[I 2025-02-15 10:58:22,068] Trial 752 pruned. Trial was pruned at iteration 5.\n",
            "[I 2025-02-15 10:58:22,164] Trial 753 pruned. Trial was pruned at iteration 5.\n",
            "[I 2025-02-15 10:58:22,267] Trial 754 pruned. Trial was pruned at iteration 5.\n",
            "[I 2025-02-15 10:58:22,366] Trial 755 pruned. Trial was pruned at iteration 5.\n",
            "[I 2025-02-15 10:58:22,460] Trial 756 pruned. Trial was pruned at iteration 5.\n",
            "[I 2025-02-15 10:58:22,556] Trial 757 pruned. Trial was pruned at iteration 5.\n",
            "[I 2025-02-15 10:58:22,666] Trial 758 pruned. Trial was pruned at iteration 5.\n",
            "[I 2025-02-15 10:58:22,758] Trial 759 pruned. Trial was pruned at iteration 5.\n",
            "[I 2025-02-15 10:58:22,864] Trial 760 pruned. Trial was pruned at iteration 5.\n",
            "[I 2025-02-15 10:58:23,682] Trial 761 finished with value: 48004.70080747326 and parameters: {'colsample_bylevel': 0.09210586611181973, 'depth': 9, 'boosting_type': 'Plain', 'bootstrap_type': 'MVS'}. Best is trial 126 with value: 47915.27942103648.\n",
            "[I 2025-02-15 10:58:23,775] Trial 762 pruned. Trial was pruned at iteration 5.\n",
            "[I 2025-02-15 10:58:23,869] Trial 763 pruned. Trial was pruned at iteration 5.\n",
            "[I 2025-02-15 10:58:23,961] Trial 764 pruned. Trial was pruned at iteration 5.\n",
            "[I 2025-02-15 10:58:24,052] Trial 765 pruned. Trial was pruned at iteration 5.\n",
            "[I 2025-02-15 10:58:24,152] Trial 766 pruned. Trial was pruned at iteration 5.\n",
            "[I 2025-02-15 10:58:24,249] Trial 767 pruned. Trial was pruned at iteration 5.\n",
            "[I 2025-02-15 10:58:24,352] Trial 768 pruned. Trial was pruned at iteration 7.\n",
            "[I 2025-02-15 10:58:24,444] Trial 769 pruned. Trial was pruned at iteration 5.\n",
            "[I 2025-02-15 10:58:24,538] Trial 770 pruned. Trial was pruned at iteration 5.\n",
            "[I 2025-02-15 10:58:24,631] Trial 771 pruned. Trial was pruned at iteration 5.\n",
            "[I 2025-02-15 10:58:24,713] Trial 772 pruned. Trial was pruned at iteration 5.\n",
            "[I 2025-02-15 10:58:25,345] Trial 773 finished with value: 48017.67721530649 and parameters: {'colsample_bylevel': 0.09216412049494722, 'depth': 9, 'boosting_type': 'Plain', 'bootstrap_type': 'MVS'}. Best is trial 126 with value: 47915.27942103648.\n",
            "[I 2025-02-15 10:58:25,437] Trial 774 pruned. Trial was pruned at iteration 5.\n",
            "[I 2025-02-15 10:58:25,526] Trial 775 pruned. Trial was pruned at iteration 5.\n",
            "[I 2025-02-15 10:58:25,622] Trial 776 pruned. Trial was pruned at iteration 5.\n",
            "[I 2025-02-15 10:58:25,710] Trial 777 pruned. Trial was pruned at iteration 5.\n",
            "[I 2025-02-15 10:58:25,807] Trial 778 pruned. Trial was pruned at iteration 5.\n",
            "[I 2025-02-15 10:58:25,900] Trial 779 pruned. Trial was pruned at iteration 5.\n",
            "[I 2025-02-15 10:58:25,987] Trial 780 pruned. Trial was pruned at iteration 5.\n",
            "[I 2025-02-15 10:58:26,074] Trial 781 pruned. Trial was pruned at iteration 5.\n",
            "[I 2025-02-15 10:58:26,161] Trial 782 pruned. Trial was pruned at iteration 5.\n",
            "[I 2025-02-15 10:58:26,264] Trial 783 pruned. Trial was pruned at iteration 5.\n",
            "[I 2025-02-15 10:58:26,360] Trial 784 pruned. Trial was pruned at iteration 5.\n",
            "[I 2025-02-15 10:58:26,458] Trial 785 pruned. Trial was pruned at iteration 5.\n",
            "[I 2025-02-15 10:58:26,546] Trial 786 pruned. Trial was pruned at iteration 5.\n",
            "[I 2025-02-15 10:58:26,632] Trial 787 pruned. Trial was pruned at iteration 5.\n",
            "[I 2025-02-15 10:58:26,746] Trial 788 pruned. Trial was pruned at iteration 5.\n",
            "[I 2025-02-15 10:58:26,834] Trial 789 pruned. Trial was pruned at iteration 5.\n",
            "[I 2025-02-15 10:58:26,936] Trial 790 pruned. Trial was pruned at iteration 5.\n",
            "[I 2025-02-15 10:58:27,030] Trial 791 pruned. Trial was pruned at iteration 5.\n",
            "[I 2025-02-15 10:58:27,736] Trial 792 finished with value: 48099.532793707825 and parameters: {'colsample_bylevel': 0.09194771285752247, 'depth': 9, 'boosting_type': 'Plain', 'bootstrap_type': 'MVS'}. Best is trial 126 with value: 47915.27942103648.\n",
            "[I 2025-02-15 10:58:27,875] Trial 793 pruned. Trial was pruned at iteration 5.\n",
            "[I 2025-02-15 10:58:27,999] Trial 794 pruned. Trial was pruned at iteration 5.\n",
            "[I 2025-02-15 10:58:28,126] Trial 795 pruned. Trial was pruned at iteration 5.\n",
            "[I 2025-02-15 10:58:28,281] Trial 796 pruned. Trial was pruned at iteration 5.\n",
            "[I 2025-02-15 10:58:28,439] Trial 797 pruned. Trial was pruned at iteration 5.\n",
            "[I 2025-02-15 10:58:28,584] Trial 798 pruned. Trial was pruned at iteration 5.\n",
            "[I 2025-02-15 10:58:28,710] Trial 799 pruned. Trial was pruned at iteration 5.\n",
            "[I 2025-02-15 10:58:28,853] Trial 800 pruned. Trial was pruned at iteration 5.\n",
            "[I 2025-02-15 10:58:29,002] Trial 801 pruned. Trial was pruned at iteration 5.\n",
            "[I 2025-02-15 10:58:29,154] Trial 802 pruned. Trial was pruned at iteration 5.\n",
            "[I 2025-02-15 10:58:29,278] Trial 803 pruned. Trial was pruned at iteration 5.\n",
            "[I 2025-02-15 10:58:29,406] Trial 804 pruned. Trial was pruned at iteration 5.\n",
            "[I 2025-02-15 10:58:29,557] Trial 805 pruned. Trial was pruned at iteration 5.\n",
            "[I 2025-02-15 10:58:29,702] Trial 806 pruned. Trial was pruned at iteration 5.\n",
            "[I 2025-02-15 10:58:29,829] Trial 807 pruned. Trial was pruned at iteration 5.\n",
            "[I 2025-02-15 10:58:29,948] Trial 808 pruned. Trial was pruned at iteration 5.\n",
            "[I 2025-02-15 10:58:30,044] Trial 809 pruned. Trial was pruned at iteration 5.\n",
            "[I 2025-02-15 10:58:30,138] Trial 810 pruned. Trial was pruned at iteration 5.\n",
            "[I 2025-02-15 10:58:30,232] Trial 811 pruned. Trial was pruned at iteration 5.\n",
            "[I 2025-02-15 10:58:30,334] Trial 812 pruned. Trial was pruned at iteration 7.\n",
            "[I 2025-02-15 10:58:30,421] Trial 813 pruned. Trial was pruned at iteration 5.\n",
            "[I 2025-02-15 10:58:30,518] Trial 814 pruned. Trial was pruned at iteration 5.\n",
            "[I 2025-02-15 10:58:30,609] Trial 815 pruned. Trial was pruned at iteration 5.\n",
            "[I 2025-02-15 10:58:30,699] Trial 816 pruned. Trial was pruned at iteration 5.\n",
            "[I 2025-02-15 10:58:30,919] Trial 817 pruned. Trial was pruned at iteration 46.\n",
            "[I 2025-02-15 10:58:31,042] Trial 818 pruned. Trial was pruned at iteration 5.\n",
            "[I 2025-02-15 10:58:31,132] Trial 819 pruned. Trial was pruned at iteration 5.\n",
            "[I 2025-02-15 10:58:31,219] Trial 820 pruned. Trial was pruned at iteration 5.\n",
            "[I 2025-02-15 10:58:31,431] Trial 821 pruned. Trial was pruned at iteration 46.\n",
            "[I 2025-02-15 10:58:31,539] Trial 822 pruned. Trial was pruned at iteration 5.\n",
            "[I 2025-02-15 10:58:31,637] Trial 823 pruned. Trial was pruned at iteration 6.\n",
            "[I 2025-02-15 10:58:31,728] Trial 824 pruned. Trial was pruned at iteration 5.\n",
            "[I 2025-02-15 10:58:31,822] Trial 825 pruned. Trial was pruned at iteration 5.\n",
            "[I 2025-02-15 10:58:31,930] Trial 826 pruned. Trial was pruned at iteration 5.\n",
            "[I 2025-02-15 10:58:32,028] Trial 827 pruned. Trial was pruned at iteration 5.\n",
            "[I 2025-02-15 10:58:32,744] Trial 828 finished with value: 48008.61560409381 and parameters: {'colsample_bylevel': 0.09152677309091968, 'depth': 9, 'boosting_type': 'Plain', 'bootstrap_type': 'MVS'}. Best is trial 126 with value: 47915.27942103648.\n",
            "[I 2025-02-15 10:58:32,834] Trial 829 pruned. Trial was pruned at iteration 5.\n",
            "[I 2025-02-15 10:58:32,929] Trial 830 pruned. Trial was pruned at iteration 5.\n",
            "[I 2025-02-15 10:58:33,038] Trial 831 pruned. Trial was pruned at iteration 7.\n",
            "[I 2025-02-15 10:58:33,139] Trial 832 pruned. Trial was pruned at iteration 5.\n",
            "[I 2025-02-15 10:58:33,236] Trial 833 pruned. Trial was pruned at iteration 5.\n",
            "[I 2025-02-15 10:58:33,326] Trial 834 pruned. Trial was pruned at iteration 5.\n",
            "[I 2025-02-15 10:58:33,416] Trial 835 pruned. Trial was pruned at iteration 5.\n",
            "[I 2025-02-15 10:58:33,510] Trial 836 pruned. Trial was pruned at iteration 5.\n",
            "[I 2025-02-15 10:58:33,609] Trial 837 pruned. Trial was pruned at iteration 5.\n",
            "[I 2025-02-15 10:58:33,700] Trial 838 pruned. Trial was pruned at iteration 5.\n",
            "[I 2025-02-15 10:58:33,789] Trial 839 pruned. Trial was pruned at iteration 5.\n",
            "[I 2025-02-15 10:58:33,889] Trial 840 pruned. Trial was pruned at iteration 5.\n",
            "[I 2025-02-15 10:58:33,977] Trial 841 pruned. Trial was pruned at iteration 5.\n",
            "[I 2025-02-15 10:58:34,074] Trial 842 pruned. Trial was pruned at iteration 5.\n",
            "[I 2025-02-15 10:58:34,164] Trial 843 pruned. Trial was pruned at iteration 5.\n",
            "[I 2025-02-15 10:58:34,258] Trial 844 pruned. Trial was pruned at iteration 5.\n",
            "[I 2025-02-15 10:58:34,360] Trial 845 pruned. Trial was pruned at iteration 5.\n",
            "[I 2025-02-15 10:58:34,457] Trial 846 pruned. Trial was pruned at iteration 5.\n",
            "[I 2025-02-15 10:58:34,617] Trial 847 pruned. Trial was pruned at iteration 30.\n",
            "[I 2025-02-15 10:58:34,713] Trial 848 pruned. Trial was pruned at iteration 5.\n",
            "[I 2025-02-15 10:58:34,805] Trial 849 pruned. Trial was pruned at iteration 5.\n",
            "[I 2025-02-15 10:58:34,905] Trial 850 pruned. Trial was pruned at iteration 5.\n",
            "[I 2025-02-15 10:58:34,999] Trial 851 pruned. Trial was pruned at iteration 5.\n",
            "[I 2025-02-15 10:58:35,095] Trial 852 pruned. Trial was pruned at iteration 5.\n",
            "[I 2025-02-15 10:58:35,200] Trial 853 pruned. Trial was pruned at iteration 5.\n",
            "[I 2025-02-15 10:58:35,297] Trial 854 pruned. Trial was pruned at iteration 5.\n",
            "[I 2025-02-15 10:58:35,394] Trial 855 pruned. Trial was pruned at iteration 5.\n",
            "[I 2025-02-15 10:58:35,481] Trial 856 pruned. Trial was pruned at iteration 5.\n",
            "[I 2025-02-15 10:58:35,573] Trial 857 pruned. Trial was pruned at iteration 5.\n",
            "[I 2025-02-15 10:58:35,677] Trial 858 pruned. Trial was pruned at iteration 5.\n",
            "[I 2025-02-15 10:58:35,773] Trial 859 pruned. Trial was pruned at iteration 5.\n",
            "[I 2025-02-15 10:58:35,874] Trial 860 pruned. Trial was pruned at iteration 5.\n",
            "[I 2025-02-15 10:58:35,971] Trial 861 pruned. Trial was pruned at iteration 6.\n",
            "[I 2025-02-15 10:58:36,056] Trial 862 pruned. Trial was pruned at iteration 5.\n",
            "[I 2025-02-15 10:58:36,143] Trial 863 pruned. Trial was pruned at iteration 5.\n",
            "[I 2025-02-15 10:58:36,233] Trial 864 pruned. Trial was pruned at iteration 5.\n",
            "[I 2025-02-15 10:58:36,330] Trial 865 pruned. Trial was pruned at iteration 5.\n",
            "[I 2025-02-15 10:58:36,424] Trial 866 pruned. Trial was pruned at iteration 5.\n",
            "[I 2025-02-15 10:58:36,543] Trial 867 pruned. Trial was pruned at iteration 5.\n",
            "[I 2025-02-15 10:58:36,643] Trial 868 pruned. Trial was pruned at iteration 5.\n",
            "[I 2025-02-15 10:58:36,733] Trial 869 pruned. Trial was pruned at iteration 5.\n",
            "[I 2025-02-15 10:58:36,831] Trial 870 pruned. Trial was pruned at iteration 5.\n",
            "[I 2025-02-15 10:58:36,948] Trial 871 pruned. Trial was pruned at iteration 5.\n",
            "[I 2025-02-15 10:58:37,055] Trial 872 pruned. Trial was pruned at iteration 5.\n",
            "[I 2025-02-15 10:58:37,161] Trial 873 pruned. Trial was pruned at iteration 5.\n",
            "[I 2025-02-15 10:58:37,267] Trial 874 pruned. Trial was pruned at iteration 5.\n",
            "[I 2025-02-15 10:58:37,365] Trial 875 pruned. Trial was pruned at iteration 5.\n",
            "[I 2025-02-15 10:58:37,478] Trial 876 pruned. Trial was pruned at iteration 5.\n",
            "[I 2025-02-15 10:58:37,582] Trial 877 pruned. Trial was pruned at iteration 5.\n",
            "[I 2025-02-15 10:58:37,714] Trial 878 pruned. Trial was pruned at iteration 5.\n",
            "[I 2025-02-15 10:58:37,816] Trial 879 pruned. Trial was pruned at iteration 5.\n",
            "[I 2025-02-15 10:58:37,933] Trial 880 pruned. Trial was pruned at iteration 5.\n",
            "[I 2025-02-15 10:58:38,047] Trial 881 pruned. Trial was pruned at iteration 5.\n",
            "[I 2025-02-15 10:58:38,148] Trial 882 pruned. Trial was pruned at iteration 5.\n",
            "[I 2025-02-15 10:58:38,244] Trial 883 pruned. Trial was pruned at iteration 5.\n",
            "[I 2025-02-15 10:58:38,348] Trial 884 pruned. Trial was pruned at iteration 5.\n",
            "[I 2025-02-15 10:58:38,439] Trial 885 pruned. Trial was pruned at iteration 5.\n",
            "[I 2025-02-15 10:58:38,535] Trial 886 pruned. Trial was pruned at iteration 5.\n",
            "[I 2025-02-15 10:58:38,633] Trial 887 pruned. Trial was pruned at iteration 5.\n",
            "[I 2025-02-15 10:58:39,186] Trial 888 finished with value: 48099.532793707825 and parameters: {'colsample_bylevel': 0.09183037293122336, 'depth': 9, 'boosting_type': 'Plain', 'bootstrap_type': 'MVS'}. Best is trial 126 with value: 47915.27942103648.\n",
            "[I 2025-02-15 10:58:39,288] Trial 889 pruned. Trial was pruned at iteration 5.\n",
            "[I 2025-02-15 10:58:39,379] Trial 890 pruned. Trial was pruned at iteration 5.\n",
            "[I 2025-02-15 10:58:39,935] Trial 891 finished with value: 48099.532793707825 and parameters: {'colsample_bylevel': 0.09205476914490307, 'depth': 9, 'boosting_type': 'Plain', 'bootstrap_type': 'MVS'}. Best is trial 126 with value: 47915.27942103648.\n",
            "[I 2025-02-15 10:58:40,065] Trial 892 pruned. Trial was pruned at iteration 5.\n",
            "[I 2025-02-15 10:58:40,227] Trial 893 pruned. Trial was pruned at iteration 5.\n",
            "[I 2025-02-15 10:58:40,370] Trial 894 pruned. Trial was pruned at iteration 5.\n",
            "[I 2025-02-15 10:58:40,508] Trial 895 pruned. Trial was pruned at iteration 5.\n",
            "[I 2025-02-15 10:58:40,643] Trial 896 pruned. Trial was pruned at iteration 5.\n",
            "[I 2025-02-15 10:58:40,826] Trial 897 pruned. Trial was pruned at iteration 5.\n",
            "[I 2025-02-15 10:58:40,981] Trial 898 pruned. Trial was pruned at iteration 5.\n",
            "[I 2025-02-15 10:58:41,152] Trial 899 pruned. Trial was pruned at iteration 5.\n",
            "[I 2025-02-15 10:58:41,283] Trial 900 pruned. Trial was pruned at iteration 5.\n",
            "[I 2025-02-15 10:58:41,411] Trial 901 pruned. Trial was pruned at iteration 5.\n",
            "[I 2025-02-15 10:58:41,549] Trial 902 pruned. Trial was pruned at iteration 5.\n",
            "[I 2025-02-15 10:58:41,695] Trial 903 pruned. Trial was pruned at iteration 5.\n",
            "[I 2025-02-15 10:58:41,832] Trial 904 pruned. Trial was pruned at iteration 5.\n",
            "[I 2025-02-15 10:58:41,969] Trial 905 pruned. Trial was pruned at iteration 5.\n",
            "[I 2025-02-15 10:58:42,106] Trial 906 pruned. Trial was pruned at iteration 5.\n",
            "[I 2025-02-15 10:58:42,262] Trial 907 pruned. Trial was pruned at iteration 5.\n",
            "[I 2025-02-15 10:58:42,393] Trial 908 pruned. Trial was pruned at iteration 5.\n",
            "[I 2025-02-15 10:58:43,003] Trial 909 finished with value: 48017.67721530649 and parameters: {'colsample_bylevel': 0.09225507799606941, 'depth': 9, 'boosting_type': 'Plain', 'bootstrap_type': 'MVS'}. Best is trial 126 with value: 47915.27942103648.\n",
            "[I 2025-02-15 10:58:43,098] Trial 910 pruned. Trial was pruned at iteration 5.\n",
            "[I 2025-02-15 10:58:43,191] Trial 911 pruned. Trial was pruned at iteration 5.\n",
            "[I 2025-02-15 10:58:43,341] Trial 912 pruned. Trial was pruned at iteration 30.\n",
            "[I 2025-02-15 10:58:43,440] Trial 913 pruned. Trial was pruned at iteration 5.\n",
            "[I 2025-02-15 10:58:43,534] Trial 914 pruned. Trial was pruned at iteration 5.\n",
            "[I 2025-02-15 10:58:43,735] Trial 915 pruned. Trial was pruned at iteration 48.\n",
            "[I 2025-02-15 10:58:43,827] Trial 916 pruned. Trial was pruned at iteration 5.\n",
            "[I 2025-02-15 10:58:43,959] Trial 917 pruned. Trial was pruned at iteration 5.\n",
            "[I 2025-02-15 10:58:44,055] Trial 918 pruned. Trial was pruned at iteration 5.\n",
            "[I 2025-02-15 10:58:44,167] Trial 919 pruned. Trial was pruned at iteration 6.\n",
            "[I 2025-02-15 10:58:44,295] Trial 920 pruned. Trial was pruned at iteration 9.\n",
            "[I 2025-02-15 10:58:44,495] Trial 921 pruned. Trial was pruned at iteration 46.\n",
            "[I 2025-02-15 10:58:44,587] Trial 922 pruned. Trial was pruned at iteration 5.\n",
            "[I 2025-02-15 10:58:44,683] Trial 923 pruned. Trial was pruned at iteration 5.\n",
            "[I 2025-02-15 10:58:44,780] Trial 924 pruned. Trial was pruned at iteration 5.\n",
            "[I 2025-02-15 10:58:44,879] Trial 925 pruned. Trial was pruned at iteration 5.\n",
            "[I 2025-02-15 10:58:44,986] Trial 926 pruned. Trial was pruned at iteration 5.\n",
            "[I 2025-02-15 10:58:45,076] Trial 927 pruned. Trial was pruned at iteration 5.\n",
            "[I 2025-02-15 10:58:45,168] Trial 928 pruned. Trial was pruned at iteration 5.\n",
            "[I 2025-02-15 10:58:45,275] Trial 929 pruned. Trial was pruned at iteration 5.\n",
            "[I 2025-02-15 10:58:45,369] Trial 930 pruned. Trial was pruned at iteration 5.\n",
            "[I 2025-02-15 10:58:45,777] Trial 931 pruned. Trial was pruned at iteration 125.\n",
            "[I 2025-02-15 10:58:45,880] Trial 932 pruned. Trial was pruned at iteration 5.\n",
            "[I 2025-02-15 10:58:45,987] Trial 933 pruned. Trial was pruned at iteration 7.\n",
            "[I 2025-02-15 10:58:46,092] Trial 934 pruned. Trial was pruned at iteration 5.\n",
            "[I 2025-02-15 10:58:46,189] Trial 935 pruned. Trial was pruned at iteration 5.\n",
            "[I 2025-02-15 10:58:46,288] Trial 936 pruned. Trial was pruned at iteration 5.\n",
            "[I 2025-02-15 10:58:46,383] Trial 937 pruned. Trial was pruned at iteration 5.\n",
            "[I 2025-02-15 10:58:46,491] Trial 938 pruned. Trial was pruned at iteration 5.\n",
            "[I 2025-02-15 10:58:46,591] Trial 939 pruned. Trial was pruned at iteration 5.\n",
            "[I 2025-02-15 10:58:46,694] Trial 940 pruned. Trial was pruned at iteration 5.\n",
            "[I 2025-02-15 10:58:46,832] Trial 941 pruned. Trial was pruned at iteration 5.\n",
            "[I 2025-02-15 10:58:46,971] Trial 942 pruned. Trial was pruned at iteration 5.\n",
            "[I 2025-02-15 10:58:47,079] Trial 943 pruned. Trial was pruned at iteration 6.\n",
            "[I 2025-02-15 10:58:47,180] Trial 944 pruned. Trial was pruned at iteration 5.\n",
            "[I 2025-02-15 10:58:47,277] Trial 945 pruned. Trial was pruned at iteration 5.\n",
            "[I 2025-02-15 10:58:47,378] Trial 946 pruned. Trial was pruned at iteration 5.\n",
            "[I 2025-02-15 10:58:47,477] Trial 947 pruned. Trial was pruned at iteration 5.\n",
            "[I 2025-02-15 10:58:47,572] Trial 948 pruned. Trial was pruned at iteration 5.\n",
            "[I 2025-02-15 10:58:47,673] Trial 949 pruned. Trial was pruned at iteration 5.\n",
            "[I 2025-02-15 10:58:47,775] Trial 950 pruned. Trial was pruned at iteration 5.\n",
            "[I 2025-02-15 10:58:47,873] Trial 951 pruned. Trial was pruned at iteration 5.\n",
            "[I 2025-02-15 10:58:47,982] Trial 952 pruned. Trial was pruned at iteration 5.\n",
            "[I 2025-02-15 10:58:48,085] Trial 953 pruned. Trial was pruned at iteration 5.\n",
            "[I 2025-02-15 10:58:48,179] Trial 954 pruned. Trial was pruned at iteration 5.\n",
            "[I 2025-02-15 10:58:48,747] Trial 955 finished with value: 48099.532793707825 and parameters: {'colsample_bylevel': 0.09180016377578305, 'depth': 9, 'boosting_type': 'Plain', 'bootstrap_type': 'MVS'}. Best is trial 126 with value: 47915.27942103648.\n",
            "[I 2025-02-15 10:58:48,851] Trial 956 pruned. Trial was pruned at iteration 5.\n",
            "[I 2025-02-15 10:58:48,948] Trial 957 pruned. Trial was pruned at iteration 5.\n",
            "[I 2025-02-15 10:58:49,059] Trial 958 pruned. Trial was pruned at iteration 5.\n",
            "[I 2025-02-15 10:58:49,157] Trial 959 pruned. Trial was pruned at iteration 5.\n",
            "[I 2025-02-15 10:58:49,350] Trial 960 pruned. Trial was pruned at iteration 48.\n",
            "[I 2025-02-15 10:58:49,442] Trial 961 pruned. Trial was pruned at iteration 5.\n",
            "[I 2025-02-15 10:58:49,540] Trial 962 pruned. Trial was pruned at iteration 5.\n",
            "[I 2025-02-15 10:58:49,633] Trial 963 pruned. Trial was pruned at iteration 5.\n",
            "[I 2025-02-15 10:58:49,732] Trial 964 pruned. Trial was pruned at iteration 5.\n",
            "[I 2025-02-15 10:58:49,837] Trial 965 pruned. Trial was pruned at iteration 5.\n",
            "[I 2025-02-15 10:58:49,951] Trial 966 pruned. Trial was pruned at iteration 5.\n",
            "[I 2025-02-15 10:58:50,080] Trial 967 pruned. Trial was pruned at iteration 5.\n",
            "[I 2025-02-15 10:58:50,184] Trial 968 pruned. Trial was pruned at iteration 5.\n",
            "[I 2025-02-15 10:58:50,281] Trial 969 pruned. Trial was pruned at iteration 5.\n",
            "[I 2025-02-15 10:58:50,382] Trial 970 pruned. Trial was pruned at iteration 5.\n",
            "[I 2025-02-15 10:58:50,478] Trial 971 pruned. Trial was pruned at iteration 5.\n",
            "[I 2025-02-15 10:58:50,577] Trial 972 pruned. Trial was pruned at iteration 5.\n",
            "[I 2025-02-15 10:58:50,684] Trial 973 pruned. Trial was pruned at iteration 6.\n",
            "[I 2025-02-15 10:58:50,781] Trial 974 pruned. Trial was pruned at iteration 5.\n",
            "[I 2025-02-15 10:58:50,893] Trial 975 pruned. Trial was pruned at iteration 5.\n",
            "[I 2025-02-15 10:58:51,020] Trial 976 pruned. Trial was pruned at iteration 6.\n",
            "[I 2025-02-15 10:58:51,138] Trial 977 pruned. Trial was pruned at iteration 5.\n",
            "[I 2025-02-15 10:58:51,231] Trial 978 pruned. Trial was pruned at iteration 5.\n",
            "[I 2025-02-15 10:58:51,332] Trial 979 pruned. Trial was pruned at iteration 5.\n",
            "[I 2025-02-15 10:58:51,440] Trial 980 pruned. Trial was pruned at iteration 5.\n",
            "[I 2025-02-15 10:58:51,537] Trial 981 pruned. Trial was pruned at iteration 5.\n",
            "[I 2025-02-15 10:58:51,696] Trial 982 pruned. Trial was pruned at iteration 30.\n",
            "[I 2025-02-15 10:58:51,799] Trial 983 pruned. Trial was pruned at iteration 7.\n",
            "[I 2025-02-15 10:58:51,899] Trial 984 pruned. Trial was pruned at iteration 5.\n",
            "[I 2025-02-15 10:58:52,006] Trial 985 pruned. Trial was pruned at iteration 5.\n",
            "[I 2025-02-15 10:58:52,108] Trial 986 pruned. Trial was pruned at iteration 5.\n",
            "[I 2025-02-15 10:58:52,221] Trial 987 pruned. Trial was pruned at iteration 5.\n",
            "[I 2025-02-15 10:58:52,897] Trial 988 pruned. Trial was pruned at iteration 125.\n",
            "[I 2025-02-15 10:58:53,030] Trial 989 pruned. Trial was pruned at iteration 5.\n",
            "[I 2025-02-15 10:58:53,861] Trial 990 pruned. Trial was pruned at iteration 125.\n",
            "[I 2025-02-15 10:58:53,998] Trial 991 pruned. Trial was pruned at iteration 5.\n",
            "[I 2025-02-15 10:58:54,156] Trial 992 pruned. Trial was pruned at iteration 5.\n",
            "[I 2025-02-15 10:58:54,309] Trial 993 pruned. Trial was pruned at iteration 5.\n",
            "[I 2025-02-15 10:58:54,471] Trial 994 pruned. Trial was pruned at iteration 5.\n",
            "[I 2025-02-15 10:58:54,625] Trial 995 pruned. Trial was pruned at iteration 6.\n",
            "[I 2025-02-15 10:58:54,793] Trial 996 pruned. Trial was pruned at iteration 6.\n",
            "[I 2025-02-15 10:58:54,897] Trial 997 pruned. Trial was pruned at iteration 5.\n",
            "[I 2025-02-15 10:58:54,999] Trial 998 pruned. Trial was pruned at iteration 5.\n",
            "[I 2025-02-15 10:58:55,100] Trial 999 pruned. Trial was pruned at iteration 5.\n"
          ]
        },
        {
          "output_type": "stream",
          "name": "stdout",
          "text": [
            "Number of finished trials: 1000\n",
            "Best trial:\n",
            "  Value: 47915.27942103648\n",
            "  Params: \n",
            "    colsample_bylevel: 0.09230497950141164\n",
            "    depth: 8\n",
            "    boosting_type: Plain\n",
            "    bootstrap_type: MVS\n"
          ]
        }
      ]
    },
    {
      "cell_type": "code",
      "source": [
        "model = CatBoostRegressor(\n",
        "    iterations=309,\n",
        "    cat_features=list(categorical),\n",
        "    random_seed=42,\n",
        "    **trial.params,\n",
        "    logging_level='Silent'\n",
        ")\n",
        "pipeline = Pipeline([\n",
        "        ('high_salary_transformer', high_salary_transformer),\n",
        "        ('model', model)\n",
        "])"
      ],
      "metadata": {
        "id": "M4xugU0f4_Lt"
      },
      "id": "M4xugU0f4_Lt",
      "execution_count": 68,
      "outputs": []
    },
    {
      "cell_type": "code",
      "source": [
        "%%time\n",
        "pipeline.fit(Xtrain, ytrain)"
      ],
      "metadata": {
        "colab": {
          "base_uri": "https://localhost:8080/",
          "height": 203
        },
        "id": "ws5HbgSvz6sf",
        "outputId": "69b7098c-592d-4bf7-8feb-dd0f55813702"
      },
      "id": "ws5HbgSvz6sf",
      "execution_count": 69,
      "outputs": [
        {
          "output_type": "stream",
          "name": "stdout",
          "text": [
            "CPU times: user 698 ms, sys: 72.4 ms, total: 770 ms\n",
            "Wall time: 441 ms\n"
          ]
        },
        {
          "output_type": "execute_result",
          "data": {
            "text/plain": [
              "Pipeline(steps=[('high_salary_transformer',\n",
              "                 FunctionTransformer(func=<function high_salary_job at 0x7ed14f9c8220>)),\n",
              "                ('model',\n",
              "                 <catboost.core.CatBoostRegressor object at 0x7ed12f401510>)])"
            ],
            "text/html": [
              "<style>#sk-container-id-2 {\n",
              "  /* Definition of color scheme common for light and dark mode */\n",
              "  --sklearn-color-text: #000;\n",
              "  --sklearn-color-text-muted: #666;\n",
              "  --sklearn-color-line: gray;\n",
              "  /* Definition of color scheme for unfitted estimators */\n",
              "  --sklearn-color-unfitted-level-0: #fff5e6;\n",
              "  --sklearn-color-unfitted-level-1: #f6e4d2;\n",
              "  --sklearn-color-unfitted-level-2: #ffe0b3;\n",
              "  --sklearn-color-unfitted-level-3: chocolate;\n",
              "  /* Definition of color scheme for fitted estimators */\n",
              "  --sklearn-color-fitted-level-0: #f0f8ff;\n",
              "  --sklearn-color-fitted-level-1: #d4ebff;\n",
              "  --sklearn-color-fitted-level-2: #b3dbfd;\n",
              "  --sklearn-color-fitted-level-3: cornflowerblue;\n",
              "\n",
              "  /* Specific color for light theme */\n",
              "  --sklearn-color-text-on-default-background: var(--sg-text-color, var(--theme-code-foreground, var(--jp-content-font-color1, black)));\n",
              "  --sklearn-color-background: var(--sg-background-color, var(--theme-background, var(--jp-layout-color0, white)));\n",
              "  --sklearn-color-border-box: var(--sg-text-color, var(--theme-code-foreground, var(--jp-content-font-color1, black)));\n",
              "  --sklearn-color-icon: #696969;\n",
              "\n",
              "  @media (prefers-color-scheme: dark) {\n",
              "    /* Redefinition of color scheme for dark theme */\n",
              "    --sklearn-color-text-on-default-background: var(--sg-text-color, var(--theme-code-foreground, var(--jp-content-font-color1, white)));\n",
              "    --sklearn-color-background: var(--sg-background-color, var(--theme-background, var(--jp-layout-color0, #111)));\n",
              "    --sklearn-color-border-box: var(--sg-text-color, var(--theme-code-foreground, var(--jp-content-font-color1, white)));\n",
              "    --sklearn-color-icon: #878787;\n",
              "  }\n",
              "}\n",
              "\n",
              "#sk-container-id-2 {\n",
              "  color: var(--sklearn-color-text);\n",
              "}\n",
              "\n",
              "#sk-container-id-2 pre {\n",
              "  padding: 0;\n",
              "}\n",
              "\n",
              "#sk-container-id-2 input.sk-hidden--visually {\n",
              "  border: 0;\n",
              "  clip: rect(1px 1px 1px 1px);\n",
              "  clip: rect(1px, 1px, 1px, 1px);\n",
              "  height: 1px;\n",
              "  margin: -1px;\n",
              "  overflow: hidden;\n",
              "  padding: 0;\n",
              "  position: absolute;\n",
              "  width: 1px;\n",
              "}\n",
              "\n",
              "#sk-container-id-2 div.sk-dashed-wrapped {\n",
              "  border: 1px dashed var(--sklearn-color-line);\n",
              "  margin: 0 0.4em 0.5em 0.4em;\n",
              "  box-sizing: border-box;\n",
              "  padding-bottom: 0.4em;\n",
              "  background-color: var(--sklearn-color-background);\n",
              "}\n",
              "\n",
              "#sk-container-id-2 div.sk-container {\n",
              "  /* jupyter's `normalize.less` sets `[hidden] { display: none; }`\n",
              "     but bootstrap.min.css set `[hidden] { display: none !important; }`\n",
              "     so we also need the `!important` here to be able to override the\n",
              "     default hidden behavior on the sphinx rendered scikit-learn.org.\n",
              "     See: https://github.com/scikit-learn/scikit-learn/issues/21755 */\n",
              "  display: inline-block !important;\n",
              "  position: relative;\n",
              "}\n",
              "\n",
              "#sk-container-id-2 div.sk-text-repr-fallback {\n",
              "  display: none;\n",
              "}\n",
              "\n",
              "div.sk-parallel-item,\n",
              "div.sk-serial,\n",
              "div.sk-item {\n",
              "  /* draw centered vertical line to link estimators */\n",
              "  background-image: linear-gradient(var(--sklearn-color-text-on-default-background), var(--sklearn-color-text-on-default-background));\n",
              "  background-size: 2px 100%;\n",
              "  background-repeat: no-repeat;\n",
              "  background-position: center center;\n",
              "}\n",
              "\n",
              "/* Parallel-specific style estimator block */\n",
              "\n",
              "#sk-container-id-2 div.sk-parallel-item::after {\n",
              "  content: \"\";\n",
              "  width: 100%;\n",
              "  border-bottom: 2px solid var(--sklearn-color-text-on-default-background);\n",
              "  flex-grow: 1;\n",
              "}\n",
              "\n",
              "#sk-container-id-2 div.sk-parallel {\n",
              "  display: flex;\n",
              "  align-items: stretch;\n",
              "  justify-content: center;\n",
              "  background-color: var(--sklearn-color-background);\n",
              "  position: relative;\n",
              "}\n",
              "\n",
              "#sk-container-id-2 div.sk-parallel-item {\n",
              "  display: flex;\n",
              "  flex-direction: column;\n",
              "}\n",
              "\n",
              "#sk-container-id-2 div.sk-parallel-item:first-child::after {\n",
              "  align-self: flex-end;\n",
              "  width: 50%;\n",
              "}\n",
              "\n",
              "#sk-container-id-2 div.sk-parallel-item:last-child::after {\n",
              "  align-self: flex-start;\n",
              "  width: 50%;\n",
              "}\n",
              "\n",
              "#sk-container-id-2 div.sk-parallel-item:only-child::after {\n",
              "  width: 0;\n",
              "}\n",
              "\n",
              "/* Serial-specific style estimator block */\n",
              "\n",
              "#sk-container-id-2 div.sk-serial {\n",
              "  display: flex;\n",
              "  flex-direction: column;\n",
              "  align-items: center;\n",
              "  background-color: var(--sklearn-color-background);\n",
              "  padding-right: 1em;\n",
              "  padding-left: 1em;\n",
              "}\n",
              "\n",
              "\n",
              "/* Toggleable style: style used for estimator/Pipeline/ColumnTransformer box that is\n",
              "clickable and can be expanded/collapsed.\n",
              "- Pipeline and ColumnTransformer use this feature and define the default style\n",
              "- Estimators will overwrite some part of the style using the `sk-estimator` class\n",
              "*/\n",
              "\n",
              "/* Pipeline and ColumnTransformer style (default) */\n",
              "\n",
              "#sk-container-id-2 div.sk-toggleable {\n",
              "  /* Default theme specific background. It is overwritten whether we have a\n",
              "  specific estimator or a Pipeline/ColumnTransformer */\n",
              "  background-color: var(--sklearn-color-background);\n",
              "}\n",
              "\n",
              "/* Toggleable label */\n",
              "#sk-container-id-2 label.sk-toggleable__label {\n",
              "  cursor: pointer;\n",
              "  display: flex;\n",
              "  width: 100%;\n",
              "  margin-bottom: 0;\n",
              "  padding: 0.5em;\n",
              "  box-sizing: border-box;\n",
              "  text-align: center;\n",
              "  align-items: start;\n",
              "  justify-content: space-between;\n",
              "  gap: 0.5em;\n",
              "}\n",
              "\n",
              "#sk-container-id-2 label.sk-toggleable__label .caption {\n",
              "  font-size: 0.6rem;\n",
              "  font-weight: lighter;\n",
              "  color: var(--sklearn-color-text-muted);\n",
              "}\n",
              "\n",
              "#sk-container-id-2 label.sk-toggleable__label-arrow:before {\n",
              "  /* Arrow on the left of the label */\n",
              "  content: \"▸\";\n",
              "  float: left;\n",
              "  margin-right: 0.25em;\n",
              "  color: var(--sklearn-color-icon);\n",
              "}\n",
              "\n",
              "#sk-container-id-2 label.sk-toggleable__label-arrow:hover:before {\n",
              "  color: var(--sklearn-color-text);\n",
              "}\n",
              "\n",
              "/* Toggleable content - dropdown */\n",
              "\n",
              "#sk-container-id-2 div.sk-toggleable__content {\n",
              "  max-height: 0;\n",
              "  max-width: 0;\n",
              "  overflow: hidden;\n",
              "  text-align: left;\n",
              "  /* unfitted */\n",
              "  background-color: var(--sklearn-color-unfitted-level-0);\n",
              "}\n",
              "\n",
              "#sk-container-id-2 div.sk-toggleable__content.fitted {\n",
              "  /* fitted */\n",
              "  background-color: var(--sklearn-color-fitted-level-0);\n",
              "}\n",
              "\n",
              "#sk-container-id-2 div.sk-toggleable__content pre {\n",
              "  margin: 0.2em;\n",
              "  border-radius: 0.25em;\n",
              "  color: var(--sklearn-color-text);\n",
              "  /* unfitted */\n",
              "  background-color: var(--sklearn-color-unfitted-level-0);\n",
              "}\n",
              "\n",
              "#sk-container-id-2 div.sk-toggleable__content.fitted pre {\n",
              "  /* unfitted */\n",
              "  background-color: var(--sklearn-color-fitted-level-0);\n",
              "}\n",
              "\n",
              "#sk-container-id-2 input.sk-toggleable__control:checked~div.sk-toggleable__content {\n",
              "  /* Expand drop-down */\n",
              "  max-height: 200px;\n",
              "  max-width: 100%;\n",
              "  overflow: auto;\n",
              "}\n",
              "\n",
              "#sk-container-id-2 input.sk-toggleable__control:checked~label.sk-toggleable__label-arrow:before {\n",
              "  content: \"▾\";\n",
              "}\n",
              "\n",
              "/* Pipeline/ColumnTransformer-specific style */\n",
              "\n",
              "#sk-container-id-2 div.sk-label input.sk-toggleable__control:checked~label.sk-toggleable__label {\n",
              "  color: var(--sklearn-color-text);\n",
              "  background-color: var(--sklearn-color-unfitted-level-2);\n",
              "}\n",
              "\n",
              "#sk-container-id-2 div.sk-label.fitted input.sk-toggleable__control:checked~label.sk-toggleable__label {\n",
              "  background-color: var(--sklearn-color-fitted-level-2);\n",
              "}\n",
              "\n",
              "/* Estimator-specific style */\n",
              "\n",
              "/* Colorize estimator box */\n",
              "#sk-container-id-2 div.sk-estimator input.sk-toggleable__control:checked~label.sk-toggleable__label {\n",
              "  /* unfitted */\n",
              "  background-color: var(--sklearn-color-unfitted-level-2);\n",
              "}\n",
              "\n",
              "#sk-container-id-2 div.sk-estimator.fitted input.sk-toggleable__control:checked~label.sk-toggleable__label {\n",
              "  /* fitted */\n",
              "  background-color: var(--sklearn-color-fitted-level-2);\n",
              "}\n",
              "\n",
              "#sk-container-id-2 div.sk-label label.sk-toggleable__label,\n",
              "#sk-container-id-2 div.sk-label label {\n",
              "  /* The background is the default theme color */\n",
              "  color: var(--sklearn-color-text-on-default-background);\n",
              "}\n",
              "\n",
              "/* On hover, darken the color of the background */\n",
              "#sk-container-id-2 div.sk-label:hover label.sk-toggleable__label {\n",
              "  color: var(--sklearn-color-text);\n",
              "  background-color: var(--sklearn-color-unfitted-level-2);\n",
              "}\n",
              "\n",
              "/* Label box, darken color on hover, fitted */\n",
              "#sk-container-id-2 div.sk-label.fitted:hover label.sk-toggleable__label.fitted {\n",
              "  color: var(--sklearn-color-text);\n",
              "  background-color: var(--sklearn-color-fitted-level-2);\n",
              "}\n",
              "\n",
              "/* Estimator label */\n",
              "\n",
              "#sk-container-id-2 div.sk-label label {\n",
              "  font-family: monospace;\n",
              "  font-weight: bold;\n",
              "  display: inline-block;\n",
              "  line-height: 1.2em;\n",
              "}\n",
              "\n",
              "#sk-container-id-2 div.sk-label-container {\n",
              "  text-align: center;\n",
              "}\n",
              "\n",
              "/* Estimator-specific */\n",
              "#sk-container-id-2 div.sk-estimator {\n",
              "  font-family: monospace;\n",
              "  border: 1px dotted var(--sklearn-color-border-box);\n",
              "  border-radius: 0.25em;\n",
              "  box-sizing: border-box;\n",
              "  margin-bottom: 0.5em;\n",
              "  /* unfitted */\n",
              "  background-color: var(--sklearn-color-unfitted-level-0);\n",
              "}\n",
              "\n",
              "#sk-container-id-2 div.sk-estimator.fitted {\n",
              "  /* fitted */\n",
              "  background-color: var(--sklearn-color-fitted-level-0);\n",
              "}\n",
              "\n",
              "/* on hover */\n",
              "#sk-container-id-2 div.sk-estimator:hover {\n",
              "  /* unfitted */\n",
              "  background-color: var(--sklearn-color-unfitted-level-2);\n",
              "}\n",
              "\n",
              "#sk-container-id-2 div.sk-estimator.fitted:hover {\n",
              "  /* fitted */\n",
              "  background-color: var(--sklearn-color-fitted-level-2);\n",
              "}\n",
              "\n",
              "/* Specification for estimator info (e.g. \"i\" and \"?\") */\n",
              "\n",
              "/* Common style for \"i\" and \"?\" */\n",
              "\n",
              ".sk-estimator-doc-link,\n",
              "a:link.sk-estimator-doc-link,\n",
              "a:visited.sk-estimator-doc-link {\n",
              "  float: right;\n",
              "  font-size: smaller;\n",
              "  line-height: 1em;\n",
              "  font-family: monospace;\n",
              "  background-color: var(--sklearn-color-background);\n",
              "  border-radius: 1em;\n",
              "  height: 1em;\n",
              "  width: 1em;\n",
              "  text-decoration: none !important;\n",
              "  margin-left: 0.5em;\n",
              "  text-align: center;\n",
              "  /* unfitted */\n",
              "  border: var(--sklearn-color-unfitted-level-1) 1pt solid;\n",
              "  color: var(--sklearn-color-unfitted-level-1);\n",
              "}\n",
              "\n",
              ".sk-estimator-doc-link.fitted,\n",
              "a:link.sk-estimator-doc-link.fitted,\n",
              "a:visited.sk-estimator-doc-link.fitted {\n",
              "  /* fitted */\n",
              "  border: var(--sklearn-color-fitted-level-1) 1pt solid;\n",
              "  color: var(--sklearn-color-fitted-level-1);\n",
              "}\n",
              "\n",
              "/* On hover */\n",
              "div.sk-estimator:hover .sk-estimator-doc-link:hover,\n",
              ".sk-estimator-doc-link:hover,\n",
              "div.sk-label-container:hover .sk-estimator-doc-link:hover,\n",
              ".sk-estimator-doc-link:hover {\n",
              "  /* unfitted */\n",
              "  background-color: var(--sklearn-color-unfitted-level-3);\n",
              "  color: var(--sklearn-color-background);\n",
              "  text-decoration: none;\n",
              "}\n",
              "\n",
              "div.sk-estimator.fitted:hover .sk-estimator-doc-link.fitted:hover,\n",
              ".sk-estimator-doc-link.fitted:hover,\n",
              "div.sk-label-container:hover .sk-estimator-doc-link.fitted:hover,\n",
              ".sk-estimator-doc-link.fitted:hover {\n",
              "  /* fitted */\n",
              "  background-color: var(--sklearn-color-fitted-level-3);\n",
              "  color: var(--sklearn-color-background);\n",
              "  text-decoration: none;\n",
              "}\n",
              "\n",
              "/* Span, style for the box shown on hovering the info icon */\n",
              ".sk-estimator-doc-link span {\n",
              "  display: none;\n",
              "  z-index: 9999;\n",
              "  position: relative;\n",
              "  font-weight: normal;\n",
              "  right: .2ex;\n",
              "  padding: .5ex;\n",
              "  margin: .5ex;\n",
              "  width: min-content;\n",
              "  min-width: 20ex;\n",
              "  max-width: 50ex;\n",
              "  color: var(--sklearn-color-text);\n",
              "  box-shadow: 2pt 2pt 4pt #999;\n",
              "  /* unfitted */\n",
              "  background: var(--sklearn-color-unfitted-level-0);\n",
              "  border: .5pt solid var(--sklearn-color-unfitted-level-3);\n",
              "}\n",
              "\n",
              ".sk-estimator-doc-link.fitted span {\n",
              "  /* fitted */\n",
              "  background: var(--sklearn-color-fitted-level-0);\n",
              "  border: var(--sklearn-color-fitted-level-3);\n",
              "}\n",
              "\n",
              ".sk-estimator-doc-link:hover span {\n",
              "  display: block;\n",
              "}\n",
              "\n",
              "/* \"?\"-specific style due to the `<a>` HTML tag */\n",
              "\n",
              "#sk-container-id-2 a.estimator_doc_link {\n",
              "  float: right;\n",
              "  font-size: 1rem;\n",
              "  line-height: 1em;\n",
              "  font-family: monospace;\n",
              "  background-color: var(--sklearn-color-background);\n",
              "  border-radius: 1rem;\n",
              "  height: 1rem;\n",
              "  width: 1rem;\n",
              "  text-decoration: none;\n",
              "  /* unfitted */\n",
              "  color: var(--sklearn-color-unfitted-level-1);\n",
              "  border: var(--sklearn-color-unfitted-level-1) 1pt solid;\n",
              "}\n",
              "\n",
              "#sk-container-id-2 a.estimator_doc_link.fitted {\n",
              "  /* fitted */\n",
              "  border: var(--sklearn-color-fitted-level-1) 1pt solid;\n",
              "  color: var(--sklearn-color-fitted-level-1);\n",
              "}\n",
              "\n",
              "/* On hover */\n",
              "#sk-container-id-2 a.estimator_doc_link:hover {\n",
              "  /* unfitted */\n",
              "  background-color: var(--sklearn-color-unfitted-level-3);\n",
              "  color: var(--sklearn-color-background);\n",
              "  text-decoration: none;\n",
              "}\n",
              "\n",
              "#sk-container-id-2 a.estimator_doc_link.fitted:hover {\n",
              "  /* fitted */\n",
              "  background-color: var(--sklearn-color-fitted-level-3);\n",
              "}\n",
              "</style><div id=\"sk-container-id-2\" class=\"sk-top-container\"><div class=\"sk-text-repr-fallback\"><pre>Pipeline(steps=[(&#x27;high_salary_transformer&#x27;,\n",
              "                 FunctionTransformer(func=&lt;function high_salary_job at 0x7ed14f9c8220&gt;)),\n",
              "                (&#x27;model&#x27;,\n",
              "                 &lt;catboost.core.CatBoostRegressor object at 0x7ed12f401510&gt;)])</pre><b>In a Jupyter environment, please rerun this cell to show the HTML representation or trust the notebook. <br />On GitHub, the HTML representation is unable to render, please try loading this page with nbviewer.org.</b></div><div class=\"sk-container\" hidden><div class=\"sk-item sk-dashed-wrapped\"><div class=\"sk-label-container\"><div class=\"sk-label fitted sk-toggleable\"><input class=\"sk-toggleable__control sk-hidden--visually\" id=\"sk-estimator-id-4\" type=\"checkbox\" ><label for=\"sk-estimator-id-4\" class=\"sk-toggleable__label fitted sk-toggleable__label-arrow\"><div><div>Pipeline</div></div><div><a class=\"sk-estimator-doc-link fitted\" rel=\"noreferrer\" target=\"_blank\" href=\"https://scikit-learn.org/1.6/modules/generated/sklearn.pipeline.Pipeline.html\">?<span>Documentation for Pipeline</span></a><span class=\"sk-estimator-doc-link fitted\">i<span>Fitted</span></span></div></label><div class=\"sk-toggleable__content fitted\"><pre>Pipeline(steps=[(&#x27;high_salary_transformer&#x27;,\n",
              "                 FunctionTransformer(func=&lt;function high_salary_job at 0x7ed14f9c8220&gt;)),\n",
              "                (&#x27;model&#x27;,\n",
              "                 &lt;catboost.core.CatBoostRegressor object at 0x7ed12f401510&gt;)])</pre></div> </div></div><div class=\"sk-serial\"><div class=\"sk-item\"><div class=\"sk-estimator fitted sk-toggleable\"><input class=\"sk-toggleable__control sk-hidden--visually\" id=\"sk-estimator-id-5\" type=\"checkbox\" ><label for=\"sk-estimator-id-5\" class=\"sk-toggleable__label fitted sk-toggleable__label-arrow\"><div><div>high_salary_job</div><div class=\"caption\">FunctionTransformer</div></div><div><a class=\"sk-estimator-doc-link fitted\" rel=\"noreferrer\" target=\"_blank\" href=\"https://scikit-learn.org/1.6/modules/generated/sklearn.preprocessing.FunctionTransformer.html\">?<span>Documentation for FunctionTransformer</span></a></div></label><div class=\"sk-toggleable__content fitted\"><pre>FunctionTransformer(func=&lt;function high_salary_job at 0x7ed14f9c8220&gt;)</pre></div> </div></div><div class=\"sk-item\"><div class=\"sk-estimator fitted sk-toggleable\"><input class=\"sk-toggleable__control sk-hidden--visually\" id=\"sk-estimator-id-6\" type=\"checkbox\" ><label for=\"sk-estimator-id-6\" class=\"sk-toggleable__label fitted sk-toggleable__label-arrow\"><div><div>CatBoostRegressor</div></div></label><div class=\"sk-toggleable__content fitted\"><pre>&lt;catboost.core.CatBoostRegressor object at 0x7ed12f401510&gt;</pre></div> </div></div></div></div></div></div>"
            ]
          },
          "metadata": {},
          "execution_count": 69
        }
      ]
    },
    {
      "cell_type": "code",
      "source": [
        "%%time\n",
        "preds = pipeline.predict(Xtest)"
      ],
      "metadata": {
        "colab": {
          "base_uri": "https://localhost:8080/"
        },
        "id": "LFt3Od-k5Syb",
        "outputId": "92ec2e93-598a-49a6-d5bb-d6faae2985ac"
      },
      "id": "LFt3Od-k5Syb",
      "execution_count": 70,
      "outputs": [
        {
          "output_type": "stream",
          "name": "stdout",
          "text": [
            "CPU times: user 10.1 ms, sys: 8 µs, total: 10.1 ms\n",
            "Wall time: 9.05 ms\n"
          ]
        }
      ]
    },
    {
      "cell_type": "code",
      "source": [
        "print_metrics(ytest, preds)"
      ],
      "metadata": {
        "colab": {
          "base_uri": "https://localhost:8080/"
        },
        "id": "LP2_3ymd5Qkv",
        "outputId": "e69512bb-6979-45a0-d5e1-6c95aef23c44"
      },
      "id": "LP2_3ymd5Qkv",
      "execution_count": 71,
      "outputs": [
        {
          "output_type": "stream",
          "name": "stdout",
          "text": [
            "MAPE: 0.428\n",
            "RMSE: 51004.639761764854\n"
          ]
        }
      ]
    },
    {
      "cell_type": "markdown",
      "source": [
        "`Качество модели по метрике RMSE немного улучшилось, по MAPE немного ухудшилось. Обучается и предсказывает модель очень быстро.`"
      ],
      "metadata": {
        "id": "aCjNgj5p5ejv"
      },
      "id": "aCjNgj5p5ejv"
    },
    {
      "cell_type": "markdown",
      "id": "3bfc4e05",
      "metadata": {
        "id": "3bfc4e05"
      },
      "source": [
        "## **Задание 13 (1 балл)**\n",
        "\n",
        "- Используйте xgboost.\n",
        "- Обучите модель — на полном наборе данных с категориальными признаками. Стратегию кодирования оставьте ту, что показала себя лучшей в пункте 9.\n",
        "- Подберите оптимальные гиперпараметры.\n",
        "- Оцените качество итоговой модели, скорость обучения и скорость предсказания.\n",
        "\n"
      ]
    },
    {
      "cell_type": "code",
      "source": [
        "Xtrain_te_new = ct_te.fit_transform(Xtrain_new, ytrain_new)\n",
        "Xval_te = ct_te.transform(Xval)"
      ],
      "metadata": {
        "id": "v6AzqNukTAZe"
      },
      "id": "v6AzqNukTAZe",
      "execution_count": 78,
      "outputs": []
    },
    {
      "cell_type": "code",
      "execution_count": 90,
      "id": "e7Zi-0hk9bW4",
      "metadata": {
        "id": "e7Zi-0hk9bW4",
        "outputId": "17625a26-a954-4389-9d6f-d97789cffe4e",
        "colab": {
          "base_uri": "https://localhost:8080/",
          "height": 1000
        }
      },
      "outputs": [
        {
          "output_type": "stream",
          "name": "stderr",
          "text": [
            "[I 2025-02-15 11:22:53,678] A new study created in memory with name: no-name-b6d22344-90d7-40a1-a90f-b51cab4f725a\n",
            "[W 2025-02-15 11:22:55,661] Trial 0 failed with parameters: {'lambda': 9.513936524845496, 'alpha': 12.657840714907456, 'eta': 0.8, 'gamma': 19, 'learning_rate': 0.01, 'colsample_bytree': 0.5, 'colsample_bynode': 1.0, 'n_estimators': 812, 'min_child_weight': 248, 'max_depth': 5, 'subsample': 0.5} because of the following error: XGBoostError('[11:22:55] /workspace/src/tree/hist/sampler.h:51: Check failed: param.sampling_method == TrainParam::kUniform (1 vs. 0) : Only uniform sampling is supported, gradient-based sampling is only support by GPU Hist.\\nStack trace:\\n  [bt] (0) /usr/local/lib/python3.11/dist-packages/xgboost/lib/libxgboost.so(+0x25c1ac) [0x7ed15a85c1ac]\\n  [bt] (1) /usr/local/lib/python3.11/dist-packages/xgboost/lib/libxgboost.so(+0x887680) [0x7ed15ae87680]\\n  [bt] (2) /usr/local/lib/python3.11/dist-packages/xgboost/lib/libxgboost.so(+0x5ad006) [0x7ed15abad006]\\n  [bt] (3) /usr/local/lib/python3.11/dist-packages/xgboost/lib/libxgboost.so(+0x5ae3d4) [0x7ed15abae3d4]\\n  [bt] (4) /usr/local/lib/python3.11/dist-packages/xgboost/lib/libxgboost.so(+0x5f8cd8) [0x7ed15abf8cd8]\\n  [bt] (5) /usr/local/lib/python3.11/dist-packages/xgboost/lib/libxgboost.so(XGBoosterUpdateOneIter+0x6f) [0x7ed15a765a1f]\\n  [bt] (6) /lib/x86_64-linux-gnu/libffi.so.8(+0x7e2e) [0x7ed1d116fe2e]\\n  [bt] (7) /lib/x86_64-linux-gnu/libffi.so.8(+0x4493) [0x7ed1d116c493]\\n  [bt] (8) /usr/lib/python3.11/lib-dynload/_ctypes.cpython-311-x86_64-linux-gnu.so(+0xa4d8) [0x7ed1d11954d8]\\n\\n').\n",
            "Traceback (most recent call last):\n",
            "  File \"/usr/local/lib/python3.11/dist-packages/optuna/study/_optimize.py\", line 197, in _run_trial\n",
            "    value_or_values = func(trial)\n",
            "                      ^^^^^^^^^^^\n",
            "  File \"<ipython-input-90-4e0568fcfb5f>\", line 20, in objective\n",
            "    model.fit(\n",
            "  File \"/usr/local/lib/python3.11/dist-packages/xgboost/core.py\", line 726, in inner_f\n",
            "    return func(**kwargs)\n",
            "           ^^^^^^^^^^^^^^\n",
            "  File \"/usr/local/lib/python3.11/dist-packages/xgboost/sklearn.py\", line 1170, in fit\n",
            "    self._Booster = train(\n",
            "                    ^^^^^^\n",
            "  File \"/usr/local/lib/python3.11/dist-packages/xgboost/core.py\", line 726, in inner_f\n",
            "    return func(**kwargs)\n",
            "           ^^^^^^^^^^^^^^\n",
            "  File \"/usr/local/lib/python3.11/dist-packages/xgboost/training.py\", line 181, in train\n",
            "    bst.update(dtrain, iteration=i, fobj=obj)\n",
            "  File \"/usr/local/lib/python3.11/dist-packages/xgboost/core.py\", line 2100, in update\n",
            "    _check_call(\n",
            "  File \"/usr/local/lib/python3.11/dist-packages/xgboost/core.py\", line 284, in _check_call\n",
            "    raise XGBoostError(py_str(_LIB.XGBGetLastError()))\n",
            "xgboost.core.XGBoostError: [11:22:55] /workspace/src/tree/hist/sampler.h:51: Check failed: param.sampling_method == TrainParam::kUniform (1 vs. 0) : Only uniform sampling is supported, gradient-based sampling is only support by GPU Hist.\n",
            "Stack trace:\n",
            "  [bt] (0) /usr/local/lib/python3.11/dist-packages/xgboost/lib/libxgboost.so(+0x25c1ac) [0x7ed15a85c1ac]\n",
            "  [bt] (1) /usr/local/lib/python3.11/dist-packages/xgboost/lib/libxgboost.so(+0x887680) [0x7ed15ae87680]\n",
            "  [bt] (2) /usr/local/lib/python3.11/dist-packages/xgboost/lib/libxgboost.so(+0x5ad006) [0x7ed15abad006]\n",
            "  [bt] (3) /usr/local/lib/python3.11/dist-packages/xgboost/lib/libxgboost.so(+0x5ae3d4) [0x7ed15abae3d4]\n",
            "  [bt] (4) /usr/local/lib/python3.11/dist-packages/xgboost/lib/libxgboost.so(+0x5f8cd8) [0x7ed15abf8cd8]\n",
            "  [bt] (5) /usr/local/lib/python3.11/dist-packages/xgboost/lib/libxgboost.so(XGBoosterUpdateOneIter+0x6f) [0x7ed15a765a1f]\n",
            "  [bt] (6) /lib/x86_64-linux-gnu/libffi.so.8(+0x7e2e) [0x7ed1d116fe2e]\n",
            "  [bt] (7) /lib/x86_64-linux-gnu/libffi.so.8(+0x4493) [0x7ed1d116c493]\n",
            "  [bt] (8) /usr/lib/python3.11/lib-dynload/_ctypes.cpython-311-x86_64-linux-gnu.so(+0xa4d8) [0x7ed1d11954d8]\n",
            "\n",
            "\n",
            "[W 2025-02-15 11:22:55,669] Trial 0 failed with value None.\n"
          ]
        },
        {
          "output_type": "error",
          "ename": "XGBoostError",
          "evalue": "[11:22:55] /workspace/src/tree/hist/sampler.h:51: Check failed: param.sampling_method == TrainParam::kUniform (1 vs. 0) : Only uniform sampling is supported, gradient-based sampling is only support by GPU Hist.\nStack trace:\n  [bt] (0) /usr/local/lib/python3.11/dist-packages/xgboost/lib/libxgboost.so(+0x25c1ac) [0x7ed15a85c1ac]\n  [bt] (1) /usr/local/lib/python3.11/dist-packages/xgboost/lib/libxgboost.so(+0x887680) [0x7ed15ae87680]\n  [bt] (2) /usr/local/lib/python3.11/dist-packages/xgboost/lib/libxgboost.so(+0x5ad006) [0x7ed15abad006]\n  [bt] (3) /usr/local/lib/python3.11/dist-packages/xgboost/lib/libxgboost.so(+0x5ae3d4) [0x7ed15abae3d4]\n  [bt] (4) /usr/local/lib/python3.11/dist-packages/xgboost/lib/libxgboost.so(+0x5f8cd8) [0x7ed15abf8cd8]\n  [bt] (5) /usr/local/lib/python3.11/dist-packages/xgboost/lib/libxgboost.so(XGBoosterUpdateOneIter+0x6f) [0x7ed15a765a1f]\n  [bt] (6) /lib/x86_64-linux-gnu/libffi.so.8(+0x7e2e) [0x7ed1d116fe2e]\n  [bt] (7) /lib/x86_64-linux-gnu/libffi.so.8(+0x4493) [0x7ed1d116c493]\n  [bt] (8) /usr/lib/python3.11/lib-dynload/_ctypes.cpython-311-x86_64-linux-gnu.so(+0xa4d8) [0x7ed1d11954d8]\n\n",
          "traceback": [
            "\u001b[0;31m---------------------------------------------------------------------------\u001b[0m",
            "\u001b[0;31mXGBoostError\u001b[0m                              Traceback (most recent call last)",
            "\u001b[0;32m<ipython-input-90-4e0568fcfb5f>\u001b[0m in \u001b[0;36m<cell line: 0>\u001b[0;34m()\u001b[0m\n\u001b[1;32m     32\u001b[0m \u001b[0;34m\u001b[0m\u001b[0m\n\u001b[1;32m     33\u001b[0m \u001b[0mstudy\u001b[0m \u001b[0;34m=\u001b[0m \u001b[0moptuna\u001b[0m\u001b[0;34m.\u001b[0m\u001b[0mcreate_study\u001b[0m\u001b[0;34m(\u001b[0m\u001b[0mdirection\u001b[0m\u001b[0;34m=\u001b[0m\u001b[0;34m\"minimize\"\u001b[0m\u001b[0;34m)\u001b[0m\u001b[0;34m\u001b[0m\u001b[0;34m\u001b[0m\u001b[0m\n\u001b[0;32m---> 34\u001b[0;31m \u001b[0mstudy\u001b[0m\u001b[0;34m.\u001b[0m\u001b[0moptimize\u001b[0m\u001b[0;34m(\u001b[0m\u001b[0mobjective\u001b[0m\u001b[0;34m,\u001b[0m \u001b[0mn_trials\u001b[0m\u001b[0;34m=\u001b[0m\u001b[0;36m50\u001b[0m\u001b[0;34m,\u001b[0m  \u001b[0mtimeout\u001b[0m\u001b[0;34m=\u001b[0m\u001b[0;36m600\u001b[0m\u001b[0;34m)\u001b[0m\u001b[0;34m\u001b[0m\u001b[0;34m\u001b[0m\u001b[0m\n\u001b[0m\u001b[1;32m     35\u001b[0m \u001b[0;34m\u001b[0m\u001b[0m\n\u001b[1;32m     36\u001b[0m \u001b[0mprint\u001b[0m\u001b[0;34m(\u001b[0m\u001b[0;34m\"Number of finished trials: {}\"\u001b[0m\u001b[0;34m.\u001b[0m\u001b[0mformat\u001b[0m\u001b[0;34m(\u001b[0m\u001b[0mlen\u001b[0m\u001b[0;34m(\u001b[0m\u001b[0mstudy\u001b[0m\u001b[0;34m.\u001b[0m\u001b[0mtrials\u001b[0m\u001b[0;34m)\u001b[0m\u001b[0;34m)\u001b[0m\u001b[0;34m)\u001b[0m\u001b[0;34m\u001b[0m\u001b[0;34m\u001b[0m\u001b[0m\n",
            "\u001b[0;32m/usr/local/lib/python3.11/dist-packages/optuna/study/study.py\u001b[0m in \u001b[0;36moptimize\u001b[0;34m(self, func, n_trials, timeout, n_jobs, catch, callbacks, gc_after_trial, show_progress_bar)\u001b[0m\n\u001b[1;32m    473\u001b[0m                 \u001b[0mIf\u001b[0m \u001b[0mnested\u001b[0m \u001b[0minvocation\u001b[0m \u001b[0mof\u001b[0m \u001b[0mthis\u001b[0m \u001b[0mmethod\u001b[0m \u001b[0moccurs\u001b[0m\u001b[0;34m.\u001b[0m\u001b[0;34m\u001b[0m\u001b[0;34m\u001b[0m\u001b[0m\n\u001b[1;32m    474\u001b[0m         \"\"\"\n\u001b[0;32m--> 475\u001b[0;31m         _optimize(\n\u001b[0m\u001b[1;32m    476\u001b[0m             \u001b[0mstudy\u001b[0m\u001b[0;34m=\u001b[0m\u001b[0mself\u001b[0m\u001b[0;34m,\u001b[0m\u001b[0;34m\u001b[0m\u001b[0;34m\u001b[0m\u001b[0m\n\u001b[1;32m    477\u001b[0m             \u001b[0mfunc\u001b[0m\u001b[0;34m=\u001b[0m\u001b[0mfunc\u001b[0m\u001b[0;34m,\u001b[0m\u001b[0;34m\u001b[0m\u001b[0;34m\u001b[0m\u001b[0m\n",
            "\u001b[0;32m/usr/local/lib/python3.11/dist-packages/optuna/study/_optimize.py\u001b[0m in \u001b[0;36m_optimize\u001b[0;34m(study, func, n_trials, timeout, n_jobs, catch, callbacks, gc_after_trial, show_progress_bar)\u001b[0m\n\u001b[1;32m     61\u001b[0m     \u001b[0;32mtry\u001b[0m\u001b[0;34m:\u001b[0m\u001b[0;34m\u001b[0m\u001b[0;34m\u001b[0m\u001b[0m\n\u001b[1;32m     62\u001b[0m         \u001b[0;32mif\u001b[0m \u001b[0mn_jobs\u001b[0m \u001b[0;34m==\u001b[0m \u001b[0;36m1\u001b[0m\u001b[0;34m:\u001b[0m\u001b[0;34m\u001b[0m\u001b[0;34m\u001b[0m\u001b[0m\n\u001b[0;32m---> 63\u001b[0;31m             _optimize_sequential(\n\u001b[0m\u001b[1;32m     64\u001b[0m                 \u001b[0mstudy\u001b[0m\u001b[0;34m,\u001b[0m\u001b[0;34m\u001b[0m\u001b[0;34m\u001b[0m\u001b[0m\n\u001b[1;32m     65\u001b[0m                 \u001b[0mfunc\u001b[0m\u001b[0;34m,\u001b[0m\u001b[0;34m\u001b[0m\u001b[0;34m\u001b[0m\u001b[0m\n",
            "\u001b[0;32m/usr/local/lib/python3.11/dist-packages/optuna/study/_optimize.py\u001b[0m in \u001b[0;36m_optimize_sequential\u001b[0;34m(study, func, n_trials, timeout, catch, callbacks, gc_after_trial, reseed_sampler_rng, time_start, progress_bar)\u001b[0m\n\u001b[1;32m    158\u001b[0m \u001b[0;34m\u001b[0m\u001b[0m\n\u001b[1;32m    159\u001b[0m         \u001b[0;32mtry\u001b[0m\u001b[0;34m:\u001b[0m\u001b[0;34m\u001b[0m\u001b[0;34m\u001b[0m\u001b[0m\n\u001b[0;32m--> 160\u001b[0;31m             \u001b[0mfrozen_trial\u001b[0m \u001b[0;34m=\u001b[0m \u001b[0m_run_trial\u001b[0m\u001b[0;34m(\u001b[0m\u001b[0mstudy\u001b[0m\u001b[0;34m,\u001b[0m \u001b[0mfunc\u001b[0m\u001b[0;34m,\u001b[0m \u001b[0mcatch\u001b[0m\u001b[0;34m)\u001b[0m\u001b[0;34m\u001b[0m\u001b[0;34m\u001b[0m\u001b[0m\n\u001b[0m\u001b[1;32m    161\u001b[0m         \u001b[0;32mfinally\u001b[0m\u001b[0;34m:\u001b[0m\u001b[0;34m\u001b[0m\u001b[0;34m\u001b[0m\u001b[0m\n\u001b[1;32m    162\u001b[0m             \u001b[0;31m# The following line mitigates memory problems that can be occurred in some\u001b[0m\u001b[0;34m\u001b[0m\u001b[0;34m\u001b[0m\u001b[0m\n",
            "\u001b[0;32m/usr/local/lib/python3.11/dist-packages/optuna/study/_optimize.py\u001b[0m in \u001b[0;36m_run_trial\u001b[0;34m(study, func, catch)\u001b[0m\n\u001b[1;32m    246\u001b[0m         \u001b[0;32mand\u001b[0m \u001b[0;32mnot\u001b[0m \u001b[0misinstance\u001b[0m\u001b[0;34m(\u001b[0m\u001b[0mfunc_err\u001b[0m\u001b[0;34m,\u001b[0m \u001b[0mcatch\u001b[0m\u001b[0;34m)\u001b[0m\u001b[0;34m\u001b[0m\u001b[0;34m\u001b[0m\u001b[0m\n\u001b[1;32m    247\u001b[0m     ):\n\u001b[0;32m--> 248\u001b[0;31m         \u001b[0;32mraise\u001b[0m \u001b[0mfunc_err\u001b[0m\u001b[0;34m\u001b[0m\u001b[0;34m\u001b[0m\u001b[0m\n\u001b[0m\u001b[1;32m    249\u001b[0m     \u001b[0;32mreturn\u001b[0m \u001b[0mfrozen_trial\u001b[0m\u001b[0;34m\u001b[0m\u001b[0;34m\u001b[0m\u001b[0m\n\u001b[1;32m    250\u001b[0m \u001b[0;34m\u001b[0m\u001b[0m\n",
            "\u001b[0;32m/usr/local/lib/python3.11/dist-packages/optuna/study/_optimize.py\u001b[0m in \u001b[0;36m_run_trial\u001b[0;34m(study, func, catch)\u001b[0m\n\u001b[1;32m    195\u001b[0m     \u001b[0;32mwith\u001b[0m \u001b[0mget_heartbeat_thread\u001b[0m\u001b[0;34m(\u001b[0m\u001b[0mtrial\u001b[0m\u001b[0;34m.\u001b[0m\u001b[0m_trial_id\u001b[0m\u001b[0;34m,\u001b[0m \u001b[0mstudy\u001b[0m\u001b[0;34m.\u001b[0m\u001b[0m_storage\u001b[0m\u001b[0;34m)\u001b[0m\u001b[0;34m:\u001b[0m\u001b[0;34m\u001b[0m\u001b[0;34m\u001b[0m\u001b[0m\n\u001b[1;32m    196\u001b[0m         \u001b[0;32mtry\u001b[0m\u001b[0;34m:\u001b[0m\u001b[0;34m\u001b[0m\u001b[0;34m\u001b[0m\u001b[0m\n\u001b[0;32m--> 197\u001b[0;31m             \u001b[0mvalue_or_values\u001b[0m \u001b[0;34m=\u001b[0m \u001b[0mfunc\u001b[0m\u001b[0;34m(\u001b[0m\u001b[0mtrial\u001b[0m\u001b[0;34m)\u001b[0m\u001b[0;34m\u001b[0m\u001b[0;34m\u001b[0m\u001b[0m\n\u001b[0m\u001b[1;32m    198\u001b[0m         \u001b[0;32mexcept\u001b[0m \u001b[0mexceptions\u001b[0m\u001b[0;34m.\u001b[0m\u001b[0mTrialPruned\u001b[0m \u001b[0;32mas\u001b[0m \u001b[0me\u001b[0m\u001b[0;34m:\u001b[0m\u001b[0;34m\u001b[0m\u001b[0;34m\u001b[0m\u001b[0m\n\u001b[1;32m    199\u001b[0m             \u001b[0;31m# TODO(mamu): Handle multi-objective cases.\u001b[0m\u001b[0;34m\u001b[0m\u001b[0;34m\u001b[0m\u001b[0m\n",
            "\u001b[0;32m<ipython-input-90-4e0568fcfb5f>\u001b[0m in \u001b[0;36mobjective\u001b[0;34m(trial)\u001b[0m\n\u001b[1;32m     18\u001b[0m     \u001b[0mmodel\u001b[0m \u001b[0;34m=\u001b[0m \u001b[0mXGBRegressor\u001b[0m\u001b[0;34m(\u001b[0m\u001b[0;34m**\u001b[0m\u001b[0mparam\u001b[0m\u001b[0;34m,\u001b[0m \u001b[0mearly_stopping_rounds\u001b[0m\u001b[0;34m=\u001b[0m\u001b[0;36m50\u001b[0m\u001b[0;34m)\u001b[0m\u001b[0;34m\u001b[0m\u001b[0;34m\u001b[0m\u001b[0m\n\u001b[1;32m     19\u001b[0m \u001b[0;34m\u001b[0m\u001b[0m\n\u001b[0;32m---> 20\u001b[0;31m     model.fit(\n\u001b[0m\u001b[1;32m     21\u001b[0m         \u001b[0mXtrain_te_new\u001b[0m\u001b[0;34m,\u001b[0m \u001b[0mytrain_new\u001b[0m\u001b[0;34m,\u001b[0m\u001b[0;34m\u001b[0m\u001b[0;34m\u001b[0m\u001b[0m\n\u001b[1;32m     22\u001b[0m         \u001b[0meval_set\u001b[0m\u001b[0;34m=\u001b[0m\u001b[0;34m[\u001b[0m\u001b[0;34m(\u001b[0m\u001b[0mXval_te\u001b[0m\u001b[0;34m,\u001b[0m \u001b[0myval\u001b[0m\u001b[0;34m)\u001b[0m\u001b[0;34m]\u001b[0m\u001b[0;34m,\u001b[0m\u001b[0;34m\u001b[0m\u001b[0;34m\u001b[0m\u001b[0m\n",
            "\u001b[0;32m/usr/local/lib/python3.11/dist-packages/xgboost/core.py\u001b[0m in \u001b[0;36minner_f\u001b[0;34m(*args, **kwargs)\u001b[0m\n\u001b[1;32m    724\u001b[0m             \u001b[0;32mfor\u001b[0m \u001b[0mk\u001b[0m\u001b[0;34m,\u001b[0m \u001b[0marg\u001b[0m \u001b[0;32min\u001b[0m \u001b[0mzip\u001b[0m\u001b[0;34m(\u001b[0m\u001b[0msig\u001b[0m\u001b[0;34m.\u001b[0m\u001b[0mparameters\u001b[0m\u001b[0;34m,\u001b[0m \u001b[0margs\u001b[0m\u001b[0;34m)\u001b[0m\u001b[0;34m:\u001b[0m\u001b[0;34m\u001b[0m\u001b[0;34m\u001b[0m\u001b[0m\n\u001b[1;32m    725\u001b[0m                 \u001b[0mkwargs\u001b[0m\u001b[0;34m[\u001b[0m\u001b[0mk\u001b[0m\u001b[0;34m]\u001b[0m \u001b[0;34m=\u001b[0m \u001b[0marg\u001b[0m\u001b[0;34m\u001b[0m\u001b[0;34m\u001b[0m\u001b[0m\n\u001b[0;32m--> 726\u001b[0;31m             \u001b[0;32mreturn\u001b[0m \u001b[0mfunc\u001b[0m\u001b[0;34m(\u001b[0m\u001b[0;34m**\u001b[0m\u001b[0mkwargs\u001b[0m\u001b[0;34m)\u001b[0m\u001b[0;34m\u001b[0m\u001b[0;34m\u001b[0m\u001b[0m\n\u001b[0m\u001b[1;32m    727\u001b[0m \u001b[0;34m\u001b[0m\u001b[0m\n\u001b[1;32m    728\u001b[0m         \u001b[0;32mreturn\u001b[0m \u001b[0minner_f\u001b[0m\u001b[0;34m\u001b[0m\u001b[0;34m\u001b[0m\u001b[0m\n",
            "\u001b[0;32m/usr/local/lib/python3.11/dist-packages/xgboost/sklearn.py\u001b[0m in \u001b[0;36mfit\u001b[0;34m(self, X, y, sample_weight, base_margin, eval_set, verbose, xgb_model, sample_weight_eval_set, base_margin_eval_set, feature_weights)\u001b[0m\n\u001b[1;32m   1168\u001b[0m \u001b[0;34m\u001b[0m\u001b[0m\n\u001b[1;32m   1169\u001b[0m             \u001b[0mmodel\u001b[0m\u001b[0;34m,\u001b[0m \u001b[0mmetric\u001b[0m\u001b[0;34m,\u001b[0m \u001b[0mparams\u001b[0m \u001b[0;34m=\u001b[0m \u001b[0mself\u001b[0m\u001b[0;34m.\u001b[0m\u001b[0m_configure_fit\u001b[0m\u001b[0;34m(\u001b[0m\u001b[0mxgb_model\u001b[0m\u001b[0;34m,\u001b[0m \u001b[0mparams\u001b[0m\u001b[0;34m)\u001b[0m\u001b[0;34m\u001b[0m\u001b[0;34m\u001b[0m\u001b[0m\n\u001b[0;32m-> 1170\u001b[0;31m             self._Booster = train(\n\u001b[0m\u001b[1;32m   1171\u001b[0m                 \u001b[0mparams\u001b[0m\u001b[0;34m,\u001b[0m\u001b[0;34m\u001b[0m\u001b[0;34m\u001b[0m\u001b[0m\n\u001b[1;32m   1172\u001b[0m                 \u001b[0mtrain_dmatrix\u001b[0m\u001b[0;34m,\u001b[0m\u001b[0;34m\u001b[0m\u001b[0;34m\u001b[0m\u001b[0m\n",
            "\u001b[0;32m/usr/local/lib/python3.11/dist-packages/xgboost/core.py\u001b[0m in \u001b[0;36minner_f\u001b[0;34m(*args, **kwargs)\u001b[0m\n\u001b[1;32m    724\u001b[0m             \u001b[0;32mfor\u001b[0m \u001b[0mk\u001b[0m\u001b[0;34m,\u001b[0m \u001b[0marg\u001b[0m \u001b[0;32min\u001b[0m \u001b[0mzip\u001b[0m\u001b[0;34m(\u001b[0m\u001b[0msig\u001b[0m\u001b[0;34m.\u001b[0m\u001b[0mparameters\u001b[0m\u001b[0;34m,\u001b[0m \u001b[0margs\u001b[0m\u001b[0;34m)\u001b[0m\u001b[0;34m:\u001b[0m\u001b[0;34m\u001b[0m\u001b[0;34m\u001b[0m\u001b[0m\n\u001b[1;32m    725\u001b[0m                 \u001b[0mkwargs\u001b[0m\u001b[0;34m[\u001b[0m\u001b[0mk\u001b[0m\u001b[0;34m]\u001b[0m \u001b[0;34m=\u001b[0m \u001b[0marg\u001b[0m\u001b[0;34m\u001b[0m\u001b[0;34m\u001b[0m\u001b[0m\n\u001b[0;32m--> 726\u001b[0;31m             \u001b[0;32mreturn\u001b[0m \u001b[0mfunc\u001b[0m\u001b[0;34m(\u001b[0m\u001b[0;34m**\u001b[0m\u001b[0mkwargs\u001b[0m\u001b[0;34m)\u001b[0m\u001b[0;34m\u001b[0m\u001b[0;34m\u001b[0m\u001b[0m\n\u001b[0m\u001b[1;32m    727\u001b[0m \u001b[0;34m\u001b[0m\u001b[0m\n\u001b[1;32m    728\u001b[0m         \u001b[0;32mreturn\u001b[0m \u001b[0minner_f\u001b[0m\u001b[0;34m\u001b[0m\u001b[0;34m\u001b[0m\u001b[0m\n",
            "\u001b[0;32m/usr/local/lib/python3.11/dist-packages/xgboost/training.py\u001b[0m in \u001b[0;36mtrain\u001b[0;34m(params, dtrain, num_boost_round, evals, obj, feval, maximize, early_stopping_rounds, evals_result, verbose_eval, xgb_model, callbacks, custom_metric)\u001b[0m\n\u001b[1;32m    179\u001b[0m         \u001b[0;32mif\u001b[0m \u001b[0mcb_container\u001b[0m\u001b[0;34m.\u001b[0m\u001b[0mbefore_iteration\u001b[0m\u001b[0;34m(\u001b[0m\u001b[0mbst\u001b[0m\u001b[0;34m,\u001b[0m \u001b[0mi\u001b[0m\u001b[0;34m,\u001b[0m \u001b[0mdtrain\u001b[0m\u001b[0;34m,\u001b[0m \u001b[0mevals\u001b[0m\u001b[0;34m)\u001b[0m\u001b[0;34m:\u001b[0m\u001b[0;34m\u001b[0m\u001b[0;34m\u001b[0m\u001b[0m\n\u001b[1;32m    180\u001b[0m             \u001b[0;32mbreak\u001b[0m\u001b[0;34m\u001b[0m\u001b[0;34m\u001b[0m\u001b[0m\n\u001b[0;32m--> 181\u001b[0;31m         \u001b[0mbst\u001b[0m\u001b[0;34m.\u001b[0m\u001b[0mupdate\u001b[0m\u001b[0;34m(\u001b[0m\u001b[0mdtrain\u001b[0m\u001b[0;34m,\u001b[0m \u001b[0miteration\u001b[0m\u001b[0;34m=\u001b[0m\u001b[0mi\u001b[0m\u001b[0;34m,\u001b[0m \u001b[0mfobj\u001b[0m\u001b[0;34m=\u001b[0m\u001b[0mobj\u001b[0m\u001b[0;34m)\u001b[0m\u001b[0;34m\u001b[0m\u001b[0;34m\u001b[0m\u001b[0m\n\u001b[0m\u001b[1;32m    182\u001b[0m         \u001b[0;32mif\u001b[0m \u001b[0mcb_container\u001b[0m\u001b[0;34m.\u001b[0m\u001b[0mafter_iteration\u001b[0m\u001b[0;34m(\u001b[0m\u001b[0mbst\u001b[0m\u001b[0;34m,\u001b[0m \u001b[0mi\u001b[0m\u001b[0;34m,\u001b[0m \u001b[0mdtrain\u001b[0m\u001b[0;34m,\u001b[0m \u001b[0mevals\u001b[0m\u001b[0;34m)\u001b[0m\u001b[0;34m:\u001b[0m\u001b[0;34m\u001b[0m\u001b[0;34m\u001b[0m\u001b[0m\n\u001b[1;32m    183\u001b[0m             \u001b[0;32mbreak\u001b[0m\u001b[0;34m\u001b[0m\u001b[0;34m\u001b[0m\u001b[0m\n",
            "\u001b[0;32m/usr/local/lib/python3.11/dist-packages/xgboost/core.py\u001b[0m in \u001b[0;36mupdate\u001b[0;34m(self, dtrain, iteration, fobj)\u001b[0m\n\u001b[1;32m   2098\u001b[0m \u001b[0;34m\u001b[0m\u001b[0m\n\u001b[1;32m   2099\u001b[0m         \u001b[0;32mif\u001b[0m \u001b[0mfobj\u001b[0m \u001b[0;32mis\u001b[0m \u001b[0;32mNone\u001b[0m\u001b[0;34m:\u001b[0m\u001b[0;34m\u001b[0m\u001b[0;34m\u001b[0m\u001b[0m\n\u001b[0;32m-> 2100\u001b[0;31m             _check_call(\n\u001b[0m\u001b[1;32m   2101\u001b[0m                 _LIB.XGBoosterUpdateOneIter(\n\u001b[1;32m   2102\u001b[0m                     \u001b[0mself\u001b[0m\u001b[0;34m.\u001b[0m\u001b[0mhandle\u001b[0m\u001b[0;34m,\u001b[0m \u001b[0mctypes\u001b[0m\u001b[0;34m.\u001b[0m\u001b[0mc_int\u001b[0m\u001b[0;34m(\u001b[0m\u001b[0miteration\u001b[0m\u001b[0;34m)\u001b[0m\u001b[0;34m,\u001b[0m \u001b[0mdtrain\u001b[0m\u001b[0;34m.\u001b[0m\u001b[0mhandle\u001b[0m\u001b[0;34m\u001b[0m\u001b[0;34m\u001b[0m\u001b[0m\n",
            "\u001b[0;32m/usr/local/lib/python3.11/dist-packages/xgboost/core.py\u001b[0m in \u001b[0;36m_check_call\u001b[0;34m(ret)\u001b[0m\n\u001b[1;32m    282\u001b[0m     \"\"\"\n\u001b[1;32m    283\u001b[0m     \u001b[0;32mif\u001b[0m \u001b[0mret\u001b[0m \u001b[0;34m!=\u001b[0m \u001b[0;36m0\u001b[0m\u001b[0;34m:\u001b[0m\u001b[0;34m\u001b[0m\u001b[0;34m\u001b[0m\u001b[0m\n\u001b[0;32m--> 284\u001b[0;31m         \u001b[0;32mraise\u001b[0m \u001b[0mXGBoostError\u001b[0m\u001b[0;34m(\u001b[0m\u001b[0mpy_str\u001b[0m\u001b[0;34m(\u001b[0m\u001b[0m_LIB\u001b[0m\u001b[0;34m.\u001b[0m\u001b[0mXGBGetLastError\u001b[0m\u001b[0;34m(\u001b[0m\u001b[0;34m)\u001b[0m\u001b[0;34m)\u001b[0m\u001b[0;34m)\u001b[0m\u001b[0;34m\u001b[0m\u001b[0;34m\u001b[0m\u001b[0m\n\u001b[0m\u001b[1;32m    285\u001b[0m \u001b[0;34m\u001b[0m\u001b[0m\n\u001b[1;32m    286\u001b[0m \u001b[0;34m\u001b[0m\u001b[0m\n",
            "\u001b[0;31mXGBoostError\u001b[0m: [11:22:55] /workspace/src/tree/hist/sampler.h:51: Check failed: param.sampling_method == TrainParam::kUniform (1 vs. 0) : Only uniform sampling is supported, gradient-based sampling is only support by GPU Hist.\nStack trace:\n  [bt] (0) /usr/local/lib/python3.11/dist-packages/xgboost/lib/libxgboost.so(+0x25c1ac) [0x7ed15a85c1ac]\n  [bt] (1) /usr/local/lib/python3.11/dist-packages/xgboost/lib/libxgboost.so(+0x887680) [0x7ed15ae87680]\n  [bt] (2) /usr/local/lib/python3.11/dist-packages/xgboost/lib/libxgboost.so(+0x5ad006) [0x7ed15abad006]\n  [bt] (3) /usr/local/lib/python3.11/dist-packages/xgboost/lib/libxgboost.so(+0x5ae3d4) [0x7ed15abae3d4]\n  [bt] (4) /usr/local/lib/python3.11/dist-packages/xgboost/lib/libxgboost.so(+0x5f8cd8) [0x7ed15abf8cd8]\n  [bt] (5) /usr/local/lib/python3.11/dist-packages/xgboost/lib/libxgboost.so(XGBoosterUpdateOneIter+0x6f) [0x7ed15a765a1f]\n  [bt] (6) /lib/x86_64-linux-gnu/libffi.so.8(+0x7e2e) [0x7ed1d116fe2e]\n  [bt] (7) /lib/x86_64-linux-gnu/libffi.so.8(+0x4493) [0x7ed1d116c493]\n  [bt] (8) /usr/lib/python3.11/lib-dynload/_ctypes.cpython-311-x86_64-linux-gnu.so(+0xa4d8) [0x7ed1d11954d8]\n\n"
          ]
        }
      ],
      "source": [
        "def objective(trial):\n",
        "    param = {\n",
        "        'sampling_method': 'gradient_based',\n",
        "        'lambda': trial.suggest_loguniform('lambda', 7.0, 17.0),\n",
        "        'alpha': trial.suggest_loguniform('alpha', 7.0, 17.0),\n",
        "        'eta': trial.suggest_categorical('eta', [0.3, 0.4, 0.5, 0.6, 0.7, 0.8, 0.9, 1.0]),\n",
        "        'gamma': trial.suggest_categorical('gamma', [18, 19, 20, 21, 22, 23, 24, 25]),\n",
        "        'learning_rate': trial.suggest_categorical('learning_rate', [0.008,0.01,0.012,0.014,0.016,0.018, 0.02]),\n",
        "        'colsample_bytree': trial.suggest_categorical('colsample_bytree', [0.3,0.4,0.5,0.6,0.7,0.8,0.9, 1.0]),\n",
        "        'colsample_bynode': trial.suggest_categorical('colsample_bynode', [0.3,0.4,0.5,0.6,0.7,0.8,0.9, 1.0]),\n",
        "        'n_estimators': trial.suggest_int('n_estimators', 400, 1000),\n",
        "        'min_child_weight': trial.suggest_int('min_child_weight', 8, 600),\n",
        "        'max_depth': trial.suggest_categorical('max_depth', [3, 4, 5, 6, 7]),\n",
        "        'subsample': trial.suggest_categorical('subsample', [0.5,0.6,0.7,0.8,1.0]),\n",
        "        'random_state': 42\n",
        "    }\n",
        "\n",
        "    model = XGBRegressor(**param, early_stopping_rounds=50)\n",
        "\n",
        "    model.fit(\n",
        "        Xtrain_te_new, ytrain_new,\n",
        "        eval_set=[(Xval_te, yval)],\n",
        "        verbose=False  # Чтобы не выводить информацию о каждой итерации\n",
        "    )\n",
        "\n",
        "    preds = model.predict(Xval_te)\n",
        "\n",
        "    rmse = RMSE(yval, preds)\n",
        "\n",
        "    return rmse\n",
        "\n",
        "\n",
        "study = optuna.create_study(direction=\"minimize\")\n",
        "study.optimize(objective, n_trials=50,  timeout=600)\n",
        "\n",
        "print(\"Number of finished trials: {}\".format(len(study.trials)))\n",
        "print(\"Best trial:\")\n",
        "trial = study.best_trial\n",
        "\n",
        "print(\"  Value: {}\".format(trial.value))\n",
        "\n",
        "print(\"  Params: \")\n",
        "for key, value in trial.params.items():\n",
        "    print(\"    {}: {}\".format(key, value))"
      ]
    },
    {
      "cell_type": "code",
      "source": [
        "model = xgb.XGBRegressor(random_state=42, **study.best_params)\n",
        "\n",
        "pipeline = Pipeline([\n",
        "        ('high_salary_transformer', high_salary_transformer),\n",
        "        ('column_transformer', ct_te),\n",
        "        ('model', model)\n",
        "])\n",
        "\n",
        "pipeline.fit(Xtrain, ytrain)\n",
        "\n",
        "print_metrics(ytest, pipeline.predict(Xtrain))"
      ],
      "metadata": {
        "id": "IMlA3m4W0D_C",
        "colab": {
          "base_uri": "https://localhost:8080/",
          "height": 373
        },
        "outputId": "92f8357b-5814-4919-e3a8-3914bb40587f"
      },
      "id": "IMlA3m4W0D_C",
      "execution_count": 52,
      "outputs": [
        {
          "output_type": "error",
          "ename": "ValueError",
          "evalue": "DataFrame.dtypes for data must be int, float, bool or category. When categorical type is supplied, the experimental DMatrix parameter`enable_categorical` must be set to `True`.  Invalid columns:experience_level: object, employment_type: object, job_title: object, salary_currency: object, employee_residence: object, company_location: object, company_size: object",
          "traceback": [
            "\u001b[0;31m---------------------------------------------------------------------------\u001b[0m",
            "\u001b[0;31mValueError\u001b[0m                                Traceback (most recent call last)",
            "\u001b[0;32m<ipython-input-52-c845b515d3cb>\u001b[0m in \u001b[0;36m<cell line: 0>\u001b[0;34m()\u001b[0m\n\u001b[1;32m      6\u001b[0m ])\n\u001b[1;32m      7\u001b[0m \u001b[0;34m\u001b[0m\u001b[0m\n\u001b[0;32m----> 8\u001b[0;31m \u001b[0mpipeline\u001b[0m\u001b[0;34m.\u001b[0m\u001b[0mfit\u001b[0m\u001b[0;34m(\u001b[0m\u001b[0mXtrain\u001b[0m\u001b[0;34m,\u001b[0m \u001b[0mytrain\u001b[0m\u001b[0;34m)\u001b[0m\u001b[0;34m\u001b[0m\u001b[0;34m\u001b[0m\u001b[0m\n\u001b[0m\u001b[1;32m      9\u001b[0m \u001b[0;34m\u001b[0m\u001b[0m\n\u001b[1;32m     10\u001b[0m \u001b[0mprint_metrics\u001b[0m\u001b[0;34m(\u001b[0m\u001b[0mytest\u001b[0m\u001b[0;34m,\u001b[0m \u001b[0mpipeline\u001b[0m\u001b[0;34m.\u001b[0m\u001b[0mpredict\u001b[0m\u001b[0;34m(\u001b[0m\u001b[0mXtrain\u001b[0m\u001b[0;34m)\u001b[0m\u001b[0;34m)\u001b[0m\u001b[0;34m\u001b[0m\u001b[0;34m\u001b[0m\u001b[0m\n",
            "\u001b[0;32m/usr/local/lib/python3.11/dist-packages/sklearn/base.py\u001b[0m in \u001b[0;36mwrapper\u001b[0;34m(estimator, *args, **kwargs)\u001b[0m\n\u001b[1;32m   1387\u001b[0m                 )\n\u001b[1;32m   1388\u001b[0m             ):\n\u001b[0;32m-> 1389\u001b[0;31m                 \u001b[0;32mreturn\u001b[0m \u001b[0mfit_method\u001b[0m\u001b[0;34m(\u001b[0m\u001b[0mestimator\u001b[0m\u001b[0;34m,\u001b[0m \u001b[0;34m*\u001b[0m\u001b[0margs\u001b[0m\u001b[0;34m,\u001b[0m \u001b[0;34m**\u001b[0m\u001b[0mkwargs\u001b[0m\u001b[0;34m)\u001b[0m\u001b[0;34m\u001b[0m\u001b[0;34m\u001b[0m\u001b[0m\n\u001b[0m\u001b[1;32m   1390\u001b[0m \u001b[0;34m\u001b[0m\u001b[0m\n\u001b[1;32m   1391\u001b[0m         \u001b[0;32mreturn\u001b[0m \u001b[0mwrapper\u001b[0m\u001b[0;34m\u001b[0m\u001b[0;34m\u001b[0m\u001b[0m\n",
            "\u001b[0;32m/usr/local/lib/python3.11/dist-packages/sklearn/pipeline.py\u001b[0m in \u001b[0;36mfit\u001b[0;34m(self, X, y, **params)\u001b[0m\n\u001b[1;32m    660\u001b[0m                     \u001b[0mall_params\u001b[0m\u001b[0;34m=\u001b[0m\u001b[0mparams\u001b[0m\u001b[0;34m,\u001b[0m\u001b[0;34m\u001b[0m\u001b[0;34m\u001b[0m\u001b[0m\n\u001b[1;32m    661\u001b[0m                 )\n\u001b[0;32m--> 662\u001b[0;31m                 \u001b[0mself\u001b[0m\u001b[0;34m.\u001b[0m\u001b[0m_final_estimator\u001b[0m\u001b[0;34m.\u001b[0m\u001b[0mfit\u001b[0m\u001b[0;34m(\u001b[0m\u001b[0mXt\u001b[0m\u001b[0;34m,\u001b[0m \u001b[0my\u001b[0m\u001b[0;34m,\u001b[0m \u001b[0;34m**\u001b[0m\u001b[0mlast_step_params\u001b[0m\u001b[0;34m[\u001b[0m\u001b[0;34m\"fit\"\u001b[0m\u001b[0;34m]\u001b[0m\u001b[0;34m)\u001b[0m\u001b[0;34m\u001b[0m\u001b[0;34m\u001b[0m\u001b[0m\n\u001b[0m\u001b[1;32m    663\u001b[0m \u001b[0;34m\u001b[0m\u001b[0m\n\u001b[1;32m    664\u001b[0m         \u001b[0;32mreturn\u001b[0m \u001b[0mself\u001b[0m\u001b[0;34m\u001b[0m\u001b[0;34m\u001b[0m\u001b[0m\n",
            "\u001b[0;32m/usr/local/lib/python3.11/dist-packages/xgboost/core.py\u001b[0m in \u001b[0;36minner_f\u001b[0;34m(*args, **kwargs)\u001b[0m\n\u001b[1;32m    724\u001b[0m             \u001b[0;32mfor\u001b[0m \u001b[0mk\u001b[0m\u001b[0;34m,\u001b[0m \u001b[0marg\u001b[0m \u001b[0;32min\u001b[0m \u001b[0mzip\u001b[0m\u001b[0;34m(\u001b[0m\u001b[0msig\u001b[0m\u001b[0;34m.\u001b[0m\u001b[0mparameters\u001b[0m\u001b[0;34m,\u001b[0m \u001b[0margs\u001b[0m\u001b[0;34m)\u001b[0m\u001b[0;34m:\u001b[0m\u001b[0;34m\u001b[0m\u001b[0;34m\u001b[0m\u001b[0m\n\u001b[1;32m    725\u001b[0m                 \u001b[0mkwargs\u001b[0m\u001b[0;34m[\u001b[0m\u001b[0mk\u001b[0m\u001b[0;34m]\u001b[0m \u001b[0;34m=\u001b[0m \u001b[0marg\u001b[0m\u001b[0;34m\u001b[0m\u001b[0;34m\u001b[0m\u001b[0m\n\u001b[0;32m--> 726\u001b[0;31m             \u001b[0;32mreturn\u001b[0m \u001b[0mfunc\u001b[0m\u001b[0;34m(\u001b[0m\u001b[0;34m**\u001b[0m\u001b[0mkwargs\u001b[0m\u001b[0;34m)\u001b[0m\u001b[0;34m\u001b[0m\u001b[0;34m\u001b[0m\u001b[0m\n\u001b[0m\u001b[1;32m    727\u001b[0m \u001b[0;34m\u001b[0m\u001b[0m\n\u001b[1;32m    728\u001b[0m         \u001b[0;32mreturn\u001b[0m \u001b[0minner_f\u001b[0m\u001b[0;34m\u001b[0m\u001b[0;34m\u001b[0m\u001b[0m\n",
            "\u001b[0;32m/usr/local/lib/python3.11/dist-packages/xgboost/sklearn.py\u001b[0m in \u001b[0;36mfit\u001b[0;34m(self, X, y, sample_weight, base_margin, eval_set, verbose, xgb_model, sample_weight_eval_set, base_margin_eval_set, feature_weights)\u001b[0m\n\u001b[1;32m   1141\u001b[0m         \u001b[0;32mwith\u001b[0m \u001b[0mconfig_context\u001b[0m\u001b[0;34m(\u001b[0m\u001b[0mverbosity\u001b[0m\u001b[0;34m=\u001b[0m\u001b[0mself\u001b[0m\u001b[0;34m.\u001b[0m\u001b[0mverbosity\u001b[0m\u001b[0;34m)\u001b[0m\u001b[0;34m:\u001b[0m\u001b[0;34m\u001b[0m\u001b[0;34m\u001b[0m\u001b[0m\n\u001b[1;32m   1142\u001b[0m             \u001b[0mevals_result\u001b[0m\u001b[0;34m:\u001b[0m \u001b[0mTrainingCallback\u001b[0m\u001b[0;34m.\u001b[0m\u001b[0mEvalsLog\u001b[0m \u001b[0;34m=\u001b[0m \u001b[0;34m{\u001b[0m\u001b[0;34m}\u001b[0m\u001b[0;34m\u001b[0m\u001b[0;34m\u001b[0m\u001b[0m\n\u001b[0;32m-> 1143\u001b[0;31m             train_dmatrix, evals = _wrap_evaluation_matrices(\n\u001b[0m\u001b[1;32m   1144\u001b[0m                 \u001b[0mmissing\u001b[0m\u001b[0;34m=\u001b[0m\u001b[0mself\u001b[0m\u001b[0;34m.\u001b[0m\u001b[0mmissing\u001b[0m\u001b[0;34m,\u001b[0m\u001b[0;34m\u001b[0m\u001b[0;34m\u001b[0m\u001b[0m\n\u001b[1;32m   1145\u001b[0m                 \u001b[0mX\u001b[0m\u001b[0;34m=\u001b[0m\u001b[0mX\u001b[0m\u001b[0;34m,\u001b[0m\u001b[0;34m\u001b[0m\u001b[0;34m\u001b[0m\u001b[0m\n",
            "\u001b[0;32m/usr/local/lib/python3.11/dist-packages/xgboost/sklearn.py\u001b[0m in \u001b[0;36m_wrap_evaluation_matrices\u001b[0;34m(missing, X, y, group, qid, sample_weight, base_margin, feature_weights, eval_set, sample_weight_eval_set, base_margin_eval_set, eval_group, eval_qid, create_dmatrix, enable_categorical, feature_types)\u001b[0m\n\u001b[1;32m    601\u001b[0m     \"\"\"Convert array_like evaluation matrices into DMatrix.  Perform validation on the\n\u001b[1;32m    602\u001b[0m     way.\"\"\"\n\u001b[0;32m--> 603\u001b[0;31m     train_dmatrix = create_dmatrix(\n\u001b[0m\u001b[1;32m    604\u001b[0m         \u001b[0mdata\u001b[0m\u001b[0;34m=\u001b[0m\u001b[0mX\u001b[0m\u001b[0;34m,\u001b[0m\u001b[0;34m\u001b[0m\u001b[0;34m\u001b[0m\u001b[0m\n\u001b[1;32m    605\u001b[0m         \u001b[0mlabel\u001b[0m\u001b[0;34m=\u001b[0m\u001b[0my\u001b[0m\u001b[0;34m,\u001b[0m\u001b[0;34m\u001b[0m\u001b[0;34m\u001b[0m\u001b[0m\n",
            "\u001b[0;32m/usr/local/lib/python3.11/dist-packages/xgboost/sklearn.py\u001b[0m in \u001b[0;36m_create_dmatrix\u001b[0;34m(self, ref, **kwargs)\u001b[0m\n\u001b[1;32m   1063\u001b[0m         \u001b[0;32mif\u001b[0m \u001b[0m_can_use_qdm\u001b[0m\u001b[0;34m(\u001b[0m\u001b[0mself\u001b[0m\u001b[0;34m.\u001b[0m\u001b[0mtree_method\u001b[0m\u001b[0;34m)\u001b[0m \u001b[0;32mand\u001b[0m \u001b[0mself\u001b[0m\u001b[0;34m.\u001b[0m\u001b[0mbooster\u001b[0m \u001b[0;34m!=\u001b[0m \u001b[0;34m\"gblinear\"\u001b[0m\u001b[0;34m:\u001b[0m\u001b[0;34m\u001b[0m\u001b[0;34m\u001b[0m\u001b[0m\n\u001b[1;32m   1064\u001b[0m             \u001b[0;32mtry\u001b[0m\u001b[0;34m:\u001b[0m\u001b[0;34m\u001b[0m\u001b[0;34m\u001b[0m\u001b[0m\n\u001b[0;32m-> 1065\u001b[0;31m                 return QuantileDMatrix(\n\u001b[0m\u001b[1;32m   1066\u001b[0m                     \u001b[0;34m**\u001b[0m\u001b[0mkwargs\u001b[0m\u001b[0;34m,\u001b[0m \u001b[0mref\u001b[0m\u001b[0;34m=\u001b[0m\u001b[0mref\u001b[0m\u001b[0;34m,\u001b[0m \u001b[0mnthread\u001b[0m\u001b[0;34m=\u001b[0m\u001b[0mself\u001b[0m\u001b[0;34m.\u001b[0m\u001b[0mn_jobs\u001b[0m\u001b[0;34m,\u001b[0m \u001b[0mmax_bin\u001b[0m\u001b[0;34m=\u001b[0m\u001b[0mself\u001b[0m\u001b[0;34m.\u001b[0m\u001b[0mmax_bin\u001b[0m\u001b[0;34m\u001b[0m\u001b[0;34m\u001b[0m\u001b[0m\n\u001b[1;32m   1067\u001b[0m                 )\n",
            "\u001b[0;32m/usr/local/lib/python3.11/dist-packages/xgboost/core.py\u001b[0m in \u001b[0;36minner_f\u001b[0;34m(*args, **kwargs)\u001b[0m\n\u001b[1;32m    724\u001b[0m             \u001b[0;32mfor\u001b[0m \u001b[0mk\u001b[0m\u001b[0;34m,\u001b[0m \u001b[0marg\u001b[0m \u001b[0;32min\u001b[0m \u001b[0mzip\u001b[0m\u001b[0;34m(\u001b[0m\u001b[0msig\u001b[0m\u001b[0;34m.\u001b[0m\u001b[0mparameters\u001b[0m\u001b[0;34m,\u001b[0m \u001b[0margs\u001b[0m\u001b[0;34m)\u001b[0m\u001b[0;34m:\u001b[0m\u001b[0;34m\u001b[0m\u001b[0;34m\u001b[0m\u001b[0m\n\u001b[1;32m    725\u001b[0m                 \u001b[0mkwargs\u001b[0m\u001b[0;34m[\u001b[0m\u001b[0mk\u001b[0m\u001b[0;34m]\u001b[0m \u001b[0;34m=\u001b[0m \u001b[0marg\u001b[0m\u001b[0;34m\u001b[0m\u001b[0;34m\u001b[0m\u001b[0m\n\u001b[0;32m--> 726\u001b[0;31m             \u001b[0;32mreturn\u001b[0m \u001b[0mfunc\u001b[0m\u001b[0;34m(\u001b[0m\u001b[0;34m**\u001b[0m\u001b[0mkwargs\u001b[0m\u001b[0;34m)\u001b[0m\u001b[0;34m\u001b[0m\u001b[0;34m\u001b[0m\u001b[0m\n\u001b[0m\u001b[1;32m    727\u001b[0m \u001b[0;34m\u001b[0m\u001b[0m\n\u001b[1;32m    728\u001b[0m         \u001b[0;32mreturn\u001b[0m \u001b[0minner_f\u001b[0m\u001b[0;34m\u001b[0m\u001b[0;34m\u001b[0m\u001b[0m\n",
            "\u001b[0;32m/usr/local/lib/python3.11/dist-packages/xgboost/core.py\u001b[0m in \u001b[0;36m__init__\u001b[0;34m(self, data, label, weight, base_margin, missing, silent, feature_names, feature_types, nthread, max_bin, ref, group, qid, label_lower_bound, label_upper_bound, feature_weights, enable_categorical, data_split_mode)\u001b[0m\n\u001b[1;32m   1571\u001b[0m                 )\n\u001b[1;32m   1572\u001b[0m \u001b[0;34m\u001b[0m\u001b[0m\n\u001b[0;32m-> 1573\u001b[0;31m         self._init(\n\u001b[0m\u001b[1;32m   1574\u001b[0m             \u001b[0mdata\u001b[0m\u001b[0;34m,\u001b[0m\u001b[0;34m\u001b[0m\u001b[0;34m\u001b[0m\u001b[0m\n\u001b[1;32m   1575\u001b[0m             \u001b[0mref\u001b[0m\u001b[0;34m=\u001b[0m\u001b[0mref\u001b[0m\u001b[0;34m,\u001b[0m\u001b[0;34m\u001b[0m\u001b[0;34m\u001b[0m\u001b[0m\n",
            "\u001b[0;32m/usr/local/lib/python3.11/dist-packages/xgboost/core.py\u001b[0m in \u001b[0;36m_init\u001b[0;34m(self, data, ref, enable_categorical, **meta)\u001b[0m\n\u001b[1;32m   1630\u001b[0m             \u001b[0mctypes\u001b[0m\u001b[0;34m.\u001b[0m\u001b[0mbyref\u001b[0m\u001b[0;34m(\u001b[0m\u001b[0mhandle\u001b[0m\u001b[0;34m)\u001b[0m\u001b[0;34m,\u001b[0m\u001b[0;34m\u001b[0m\u001b[0;34m\u001b[0m\u001b[0m\n\u001b[1;32m   1631\u001b[0m         )\n\u001b[0;32m-> 1632\u001b[0;31m         \u001b[0mit\u001b[0m\u001b[0;34m.\u001b[0m\u001b[0mreraise\u001b[0m\u001b[0;34m(\u001b[0m\u001b[0;34m)\u001b[0m\u001b[0;34m\u001b[0m\u001b[0;34m\u001b[0m\u001b[0m\n\u001b[0m\u001b[1;32m   1633\u001b[0m         \u001b[0;31m# delay check_call to throw intermediate exception first\u001b[0m\u001b[0;34m\u001b[0m\u001b[0;34m\u001b[0m\u001b[0m\n\u001b[1;32m   1634\u001b[0m         \u001b[0m_check_call\u001b[0m\u001b[0;34m(\u001b[0m\u001b[0mret\u001b[0m\u001b[0;34m)\u001b[0m\u001b[0;34m\u001b[0m\u001b[0;34m\u001b[0m\u001b[0m\n",
            "\u001b[0;32m/usr/local/lib/python3.11/dist-packages/xgboost/core.py\u001b[0m in \u001b[0;36mreraise\u001b[0;34m(self)\u001b[0m\n\u001b[1;32m    567\u001b[0m             \u001b[0mexc\u001b[0m \u001b[0;34m=\u001b[0m \u001b[0mself\u001b[0m\u001b[0;34m.\u001b[0m\u001b[0m_exception\u001b[0m\u001b[0;34m\u001b[0m\u001b[0;34m\u001b[0m\u001b[0m\n\u001b[1;32m    568\u001b[0m             \u001b[0mself\u001b[0m\u001b[0;34m.\u001b[0m\u001b[0m_exception\u001b[0m \u001b[0;34m=\u001b[0m \u001b[0;32mNone\u001b[0m\u001b[0;34m\u001b[0m\u001b[0;34m\u001b[0m\u001b[0m\n\u001b[0;32m--> 569\u001b[0;31m             \u001b[0;32mraise\u001b[0m \u001b[0mexc\u001b[0m  \u001b[0;31m# pylint: disable=raising-bad-type\u001b[0m\u001b[0;34m\u001b[0m\u001b[0;34m\u001b[0m\u001b[0m\n\u001b[0m\u001b[1;32m    570\u001b[0m \u001b[0;34m\u001b[0m\u001b[0m\n\u001b[1;32m    571\u001b[0m     \u001b[0;32mdef\u001b[0m \u001b[0m__del__\u001b[0m\u001b[0;34m(\u001b[0m\u001b[0mself\u001b[0m\u001b[0;34m)\u001b[0m \u001b[0;34m->\u001b[0m \u001b[0;32mNone\u001b[0m\u001b[0;34m:\u001b[0m\u001b[0;34m\u001b[0m\u001b[0;34m\u001b[0m\u001b[0m\n",
            "\u001b[0;32m/usr/local/lib/python3.11/dist-packages/xgboost/core.py\u001b[0m in \u001b[0;36m_handle_exception\u001b[0;34m(self, fn, dft_ret)\u001b[0m\n\u001b[1;32m    548\u001b[0m \u001b[0;34m\u001b[0m\u001b[0m\n\u001b[1;32m    549\u001b[0m         \u001b[0;32mtry\u001b[0m\u001b[0;34m:\u001b[0m\u001b[0;34m\u001b[0m\u001b[0;34m\u001b[0m\u001b[0m\n\u001b[0;32m--> 550\u001b[0;31m             \u001b[0;32mreturn\u001b[0m \u001b[0mfn\u001b[0m\u001b[0;34m(\u001b[0m\u001b[0;34m)\u001b[0m\u001b[0;34m\u001b[0m\u001b[0;34m\u001b[0m\u001b[0m\n\u001b[0m\u001b[1;32m    551\u001b[0m         \u001b[0;32mexcept\u001b[0m \u001b[0mException\u001b[0m \u001b[0;32mas\u001b[0m \u001b[0me\u001b[0m\u001b[0;34m:\u001b[0m  \u001b[0;31m# pylint: disable=broad-except\u001b[0m\u001b[0;34m\u001b[0m\u001b[0;34m\u001b[0m\u001b[0m\n\u001b[1;32m    552\u001b[0m             \u001b[0;31m# Defer the exception in order to return 0 and stop the iteration.\u001b[0m\u001b[0;34m\u001b[0m\u001b[0;34m\u001b[0m\u001b[0m\n",
            "\u001b[0;32m/usr/local/lib/python3.11/dist-packages/xgboost/core.py\u001b[0m in \u001b[0;36m<lambda>\u001b[0;34m()\u001b[0m\n\u001b[1;32m    635\u001b[0m             \u001b[0mself\u001b[0m\u001b[0;34m.\u001b[0m\u001b[0m_temporary_data\u001b[0m \u001b[0;34m=\u001b[0m \u001b[0;32mNone\u001b[0m\u001b[0;34m\u001b[0m\u001b[0;34m\u001b[0m\u001b[0m\n\u001b[1;32m    636\u001b[0m         \u001b[0;31m# pylint: disable=not-callable\u001b[0m\u001b[0;34m\u001b[0m\u001b[0;34m\u001b[0m\u001b[0m\n\u001b[0;32m--> 637\u001b[0;31m         \u001b[0;32mreturn\u001b[0m \u001b[0mself\u001b[0m\u001b[0;34m.\u001b[0m\u001b[0m_handle_exception\u001b[0m\u001b[0;34m(\u001b[0m\u001b[0;32mlambda\u001b[0m\u001b[0;34m:\u001b[0m \u001b[0mself\u001b[0m\u001b[0;34m.\u001b[0m\u001b[0mnext\u001b[0m\u001b[0;34m(\u001b[0m\u001b[0minput_data\u001b[0m\u001b[0;34m)\u001b[0m\u001b[0;34m,\u001b[0m \u001b[0;36m0\u001b[0m\u001b[0;34m)\u001b[0m\u001b[0;34m\u001b[0m\u001b[0;34m\u001b[0m\u001b[0m\n\u001b[0m\u001b[1;32m    638\u001b[0m \u001b[0;34m\u001b[0m\u001b[0m\n\u001b[1;32m    639\u001b[0m     \u001b[0;34m@\u001b[0m\u001b[0mabstractmethod\u001b[0m\u001b[0;34m\u001b[0m\u001b[0;34m\u001b[0m\u001b[0m\n",
            "\u001b[0;32m/usr/local/lib/python3.11/dist-packages/xgboost/data.py\u001b[0m in \u001b[0;36mnext\u001b[0;34m(self, input_data)\u001b[0m\n\u001b[1;32m   1400\u001b[0m             \u001b[0;32mreturn\u001b[0m \u001b[0;36m0\u001b[0m\u001b[0;34m\u001b[0m\u001b[0;34m\u001b[0m\u001b[0m\n\u001b[1;32m   1401\u001b[0m         \u001b[0mself\u001b[0m\u001b[0;34m.\u001b[0m\u001b[0mit\u001b[0m \u001b[0;34m+=\u001b[0m \u001b[0;36m1\u001b[0m\u001b[0;34m\u001b[0m\u001b[0;34m\u001b[0m\u001b[0m\n\u001b[0;32m-> 1402\u001b[0;31m         \u001b[0minput_data\u001b[0m\u001b[0;34m(\u001b[0m\u001b[0;34m**\u001b[0m\u001b[0mself\u001b[0m\u001b[0;34m.\u001b[0m\u001b[0mkwargs\u001b[0m\u001b[0;34m)\u001b[0m\u001b[0;34m\u001b[0m\u001b[0;34m\u001b[0m\u001b[0m\n\u001b[0m\u001b[1;32m   1403\u001b[0m         \u001b[0;32mreturn\u001b[0m \u001b[0;36m1\u001b[0m\u001b[0;34m\u001b[0m\u001b[0;34m\u001b[0m\u001b[0m\n\u001b[1;32m   1404\u001b[0m \u001b[0;34m\u001b[0m\u001b[0m\n",
            "\u001b[0;32m/usr/local/lib/python3.11/dist-packages/xgboost/core.py\u001b[0m in \u001b[0;36minner_f\u001b[0;34m(*args, **kwargs)\u001b[0m\n\u001b[1;32m    724\u001b[0m             \u001b[0;32mfor\u001b[0m \u001b[0mk\u001b[0m\u001b[0;34m,\u001b[0m \u001b[0marg\u001b[0m \u001b[0;32min\u001b[0m \u001b[0mzip\u001b[0m\u001b[0;34m(\u001b[0m\u001b[0msig\u001b[0m\u001b[0;34m.\u001b[0m\u001b[0mparameters\u001b[0m\u001b[0;34m,\u001b[0m \u001b[0margs\u001b[0m\u001b[0;34m)\u001b[0m\u001b[0;34m:\u001b[0m\u001b[0;34m\u001b[0m\u001b[0;34m\u001b[0m\u001b[0m\n\u001b[1;32m    725\u001b[0m                 \u001b[0mkwargs\u001b[0m\u001b[0;34m[\u001b[0m\u001b[0mk\u001b[0m\u001b[0;34m]\u001b[0m \u001b[0;34m=\u001b[0m \u001b[0marg\u001b[0m\u001b[0;34m\u001b[0m\u001b[0;34m\u001b[0m\u001b[0m\n\u001b[0;32m--> 726\u001b[0;31m             \u001b[0;32mreturn\u001b[0m \u001b[0mfunc\u001b[0m\u001b[0;34m(\u001b[0m\u001b[0;34m**\u001b[0m\u001b[0mkwargs\u001b[0m\u001b[0;34m)\u001b[0m\u001b[0;34m\u001b[0m\u001b[0;34m\u001b[0m\u001b[0m\n\u001b[0m\u001b[1;32m    727\u001b[0m \u001b[0;34m\u001b[0m\u001b[0m\n\u001b[1;32m    728\u001b[0m         \u001b[0;32mreturn\u001b[0m \u001b[0minner_f\u001b[0m\u001b[0;34m\u001b[0m\u001b[0;34m\u001b[0m\u001b[0m\n",
            "\u001b[0;32m/usr/local/lib/python3.11/dist-packages/xgboost/core.py\u001b[0m in \u001b[0;36minput_data\u001b[0;34m(data, feature_names, feature_types, **kwargs)\u001b[0m\n\u001b[1;32m    615\u001b[0m                 \u001b[0mnew\u001b[0m\u001b[0;34m,\u001b[0m \u001b[0mcat_codes\u001b[0m\u001b[0;34m,\u001b[0m \u001b[0mfeature_names\u001b[0m\u001b[0;34m,\u001b[0m \u001b[0mfeature_types\u001b[0m \u001b[0;34m=\u001b[0m \u001b[0mself\u001b[0m\u001b[0;34m.\u001b[0m\u001b[0m_temporary_data\u001b[0m\u001b[0;34m\u001b[0m\u001b[0;34m\u001b[0m\u001b[0m\n\u001b[1;32m    616\u001b[0m             \u001b[0;32melse\u001b[0m\u001b[0;34m:\u001b[0m\u001b[0;34m\u001b[0m\u001b[0;34m\u001b[0m\u001b[0m\n\u001b[0;32m--> 617\u001b[0;31m                 new, cat_codes, feature_names, feature_types = _proxy_transform(\n\u001b[0m\u001b[1;32m    618\u001b[0m                     \u001b[0mdata\u001b[0m\u001b[0;34m,\u001b[0m\u001b[0;34m\u001b[0m\u001b[0;34m\u001b[0m\u001b[0m\n\u001b[1;32m    619\u001b[0m                     \u001b[0mfeature_names\u001b[0m\u001b[0;34m,\u001b[0m\u001b[0;34m\u001b[0m\u001b[0;34m\u001b[0m\u001b[0m\n",
            "\u001b[0;32m/usr/local/lib/python3.11/dist-packages/xgboost/data.py\u001b[0m in \u001b[0;36m_proxy_transform\u001b[0;34m(data, feature_names, feature_types, enable_categorical)\u001b[0m\n\u001b[1;32m   1445\u001b[0m         \u001b[0mdata\u001b[0m \u001b[0;34m=\u001b[0m \u001b[0m_arrow_transform\u001b[0m\u001b[0;34m(\u001b[0m\u001b[0mdata\u001b[0m\u001b[0;34m)\u001b[0m\u001b[0;34m\u001b[0m\u001b[0;34m\u001b[0m\u001b[0m\n\u001b[1;32m   1446\u001b[0m     \u001b[0;32mif\u001b[0m \u001b[0m_is_pandas_df\u001b[0m\u001b[0;34m(\u001b[0m\u001b[0mdata\u001b[0m\u001b[0;34m)\u001b[0m\u001b[0;34m:\u001b[0m\u001b[0;34m\u001b[0m\u001b[0;34m\u001b[0m\u001b[0m\n\u001b[0;32m-> 1447\u001b[0;31m         df, feature_names, feature_types = _transform_pandas_df(\n\u001b[0m\u001b[1;32m   1448\u001b[0m             \u001b[0mdata\u001b[0m\u001b[0;34m,\u001b[0m \u001b[0menable_categorical\u001b[0m\u001b[0;34m,\u001b[0m \u001b[0mfeature_names\u001b[0m\u001b[0;34m,\u001b[0m \u001b[0mfeature_types\u001b[0m\u001b[0;34m\u001b[0m\u001b[0;34m\u001b[0m\u001b[0m\n\u001b[1;32m   1449\u001b[0m         )\n",
            "\u001b[0;32m/usr/local/lib/python3.11/dist-packages/xgboost/data.py\u001b[0m in \u001b[0;36m_transform_pandas_df\u001b[0;34m(data, enable_categorical, feature_names, feature_types, meta)\u001b[0m\n\u001b[1;32m    601\u001b[0m     \u001b[0mmeta\u001b[0m\u001b[0;34m:\u001b[0m \u001b[0mOptional\u001b[0m\u001b[0;34m[\u001b[0m\u001b[0mstr\u001b[0m\u001b[0;34m]\u001b[0m \u001b[0;34m=\u001b[0m \u001b[0;32mNone\u001b[0m\u001b[0;34m,\u001b[0m\u001b[0;34m\u001b[0m\u001b[0;34m\u001b[0m\u001b[0m\n\u001b[1;32m    602\u001b[0m ) -> Tuple[PandasTransformed, Optional[FeatureNames], Optional[FeatureTypes]]:\n\u001b[0;32m--> 603\u001b[0;31m     \u001b[0mpandas_check_dtypes\u001b[0m\u001b[0;34m(\u001b[0m\u001b[0mdata\u001b[0m\u001b[0;34m,\u001b[0m \u001b[0menable_categorical\u001b[0m\u001b[0;34m)\u001b[0m\u001b[0;34m\u001b[0m\u001b[0;34m\u001b[0m\u001b[0m\n\u001b[0m\u001b[1;32m    604\u001b[0m     \u001b[0;32mif\u001b[0m \u001b[0mmeta\u001b[0m \u001b[0;32mand\u001b[0m \u001b[0mlen\u001b[0m\u001b[0;34m(\u001b[0m\u001b[0mdata\u001b[0m\u001b[0;34m.\u001b[0m\u001b[0mcolumns\u001b[0m\u001b[0;34m)\u001b[0m \u001b[0;34m>\u001b[0m \u001b[0;36m1\u001b[0m \u001b[0;32mand\u001b[0m \u001b[0mmeta\u001b[0m \u001b[0;32mnot\u001b[0m \u001b[0;32min\u001b[0m \u001b[0m_matrix_meta\u001b[0m\u001b[0;34m:\u001b[0m\u001b[0;34m\u001b[0m\u001b[0;34m\u001b[0m\u001b[0m\n\u001b[1;32m    605\u001b[0m         \u001b[0;32mraise\u001b[0m \u001b[0mValueError\u001b[0m\u001b[0;34m(\u001b[0m\u001b[0;34mf\"DataFrame for {meta} cannot have multiple columns\"\u001b[0m\u001b[0;34m)\u001b[0m\u001b[0;34m\u001b[0m\u001b[0;34m\u001b[0m\u001b[0m\n",
            "\u001b[0;32m/usr/local/lib/python3.11/dist-packages/xgboost/data.py\u001b[0m in \u001b[0;36mpandas_check_dtypes\u001b[0;34m(data, enable_categorical)\u001b[0m\n\u001b[1;32m    567\u001b[0m             \u001b[0;32mor\u001b[0m \u001b[0mis_pa_ext_dtype\u001b[0m\u001b[0;34m(\u001b[0m\u001b[0mdtype\u001b[0m\u001b[0;34m)\u001b[0m\u001b[0;34m\u001b[0m\u001b[0;34m\u001b[0m\u001b[0m\n\u001b[1;32m    568\u001b[0m         ):\n\u001b[0;32m--> 569\u001b[0;31m             \u001b[0m_invalid_dataframe_dtype\u001b[0m\u001b[0;34m(\u001b[0m\u001b[0mdata\u001b[0m\u001b[0;34m)\u001b[0m\u001b[0;34m\u001b[0m\u001b[0;34m\u001b[0m\u001b[0m\n\u001b[0m\u001b[1;32m    570\u001b[0m \u001b[0;34m\u001b[0m\u001b[0m\n\u001b[1;32m    571\u001b[0m         \u001b[0;32mif\u001b[0m \u001b[0mis_pd_sparse_dtype\u001b[0m\u001b[0;34m(\u001b[0m\u001b[0mdtype\u001b[0m\u001b[0;34m)\u001b[0m\u001b[0;34m:\u001b[0m\u001b[0;34m\u001b[0m\u001b[0;34m\u001b[0m\u001b[0m\n",
            "\u001b[0;32m/usr/local/lib/python3.11/dist-packages/xgboost/data.py\u001b[0m in \u001b[0;36m_invalid_dataframe_dtype\u001b[0;34m(data)\u001b[0m\n\u001b[1;32m    354\u001b[0m     \u001b[0mtype_err\u001b[0m \u001b[0;34m=\u001b[0m \u001b[0;34m\"DataFrame.dtypes for data must be int, float, bool or category.\"\u001b[0m\u001b[0;34m\u001b[0m\u001b[0;34m\u001b[0m\u001b[0m\n\u001b[1;32m    355\u001b[0m     \u001b[0mmsg\u001b[0m \u001b[0;34m=\u001b[0m \u001b[0;34mf\"\"\"{type_err} {_ENABLE_CAT_ERR} {err}\"\"\"\u001b[0m\u001b[0;34m\u001b[0m\u001b[0;34m\u001b[0m\u001b[0m\n\u001b[0;32m--> 356\u001b[0;31m     \u001b[0;32mraise\u001b[0m \u001b[0mValueError\u001b[0m\u001b[0;34m(\u001b[0m\u001b[0mmsg\u001b[0m\u001b[0;34m)\u001b[0m\u001b[0;34m\u001b[0m\u001b[0;34m\u001b[0m\u001b[0m\n\u001b[0m\u001b[1;32m    357\u001b[0m \u001b[0;34m\u001b[0m\u001b[0m\n\u001b[1;32m    358\u001b[0m \u001b[0;34m\u001b[0m\u001b[0m\n",
            "\u001b[0;31mValueError\u001b[0m: DataFrame.dtypes for data must be int, float, bool or category. When categorical type is supplied, the experimental DMatrix parameter`enable_categorical` must be set to `True`.  Invalid columns:experience_level: object, employment_type: object, job_title: object, salary_currency: object, employee_residence: object, company_location: object, company_size: object"
          ]
        }
      ]
    },
    {
      "cell_type": "markdown",
      "id": "a881ad9d",
      "metadata": {
        "id": "a881ad9d"
      },
      "source": [
        "## **Задание 14 (1 балл)**\n",
        "\n",
        "- Используйте lgbm.\n",
        "- Обучите модель — на полном наборе данных с категориальными признаками. Стратегию кодирования оставьте ту, что показала себя лучшей в пункте 9.\n",
        "- Подберите оптимальные гиперпараметры.\n",
        "- Оцените качество итоговой модели, скорость обучения и скорость предсказания.\n"
      ]
    },
    {
      "cell_type": "code",
      "execution_count": null,
      "id": "weXtNlM49fYL",
      "metadata": {
        "id": "weXtNlM49fYL",
        "outputId": "d0bc4280-e908-41bc-de26-ac72480f435a",
        "colab": {
          "base_uri": "https://localhost:8080/",
          "height": 1000
        }
      },
      "outputs": [
        {
          "output_type": "stream",
          "name": "stderr",
          "text": [
            "[I 2025-02-14 18:45:29,203] A new study created in memory with name: no-name-546b7f80-063a-4c50-9f04-a49e0ceeb830\n",
            "<ipython-input-55-48551833bfed>:12: FutureWarning: suggest_loguniform has been deprecated in v3.0.0. This feature will be removed in v6.0.0. See https://github.com/optuna/optuna/releases/tag/v3.0.0. Use suggest_float(..., log=True) instead.\n",
            "  'learning_rate': trial.suggest_loguniform('learning_rate', 1e-5, 0.1),  # маленький learning_rate для лучшего обучения\n",
            "<ipython-input-55-48551833bfed>:14: FutureWarning: suggest_uniform has been deprecated in v3.0.0. This feature will be removed in v6.0.0. See https://github.com/optuna/optuna/releases/tag/v3.0.0. Use suggest_float instead.\n",
            "  'subsample': trial.suggest_uniform('subsample', 0.7, 1.0),  # агрегация через случайный подбор\n",
            "<ipython-input-55-48551833bfed>:15: FutureWarning: suggest_uniform has been deprecated in v3.0.0. This feature will be removed in v6.0.0. See https://github.com/optuna/optuna/releases/tag/v3.0.0. Use suggest_float instead.\n",
            "  'colsample_bytree': trial.suggest_uniform('colsample_bytree', 0.7, 1.0),  # случайный выбор признаков\n",
            "<ipython-input-55-48551833bfed>:17: FutureWarning: suggest_loguniform has been deprecated in v3.0.0. This feature will be removed in v6.0.0. See https://github.com/optuna/optuna/releases/tag/v3.0.0. Use suggest_float(..., log=True) instead.\n",
            "  'reg_alpha': trial.suggest_loguniform('reg_alpha', 1e-5, 1.0),  # L1 регуляризация для борьбы с переобучением\n",
            "<ipython-input-55-48551833bfed>:18: FutureWarning: suggest_loguniform has been deprecated in v3.0.0. This feature will be removed in v6.0.0. See https://github.com/optuna/optuna/releases/tag/v3.0.0. Use suggest_float(..., log=True) instead.\n",
            "  'reg_lambda': trial.suggest_loguniform('reg_lambda', 1e-5, 1.0),  # L2 регуляризация\n",
            "[I 2025-02-14 18:45:44,382] Trial 0 finished with value: 67285.49613110082 and parameters: {'num_leaves': 59, 'max_depth': 6, 'learning_rate': 1.2671600312505534e-05, 'n_estimators': 212, 'subsample': 0.750142736591164, 'colsample_bytree': 0.9030838373941293, 'min_child_samples': 99, 'reg_alpha': 5.830175497425852e-05, 'reg_lambda': 0.00037465806150813435}. Best is trial 0 with value: 67285.49613110082.\n",
            "[I 2025-02-14 18:45:58,965] Trial 1 finished with value: 65108.308069571125 and parameters: {'num_leaves': 104, 'max_depth': 5, 'learning_rate': 0.0003265753415433152, 'n_estimators': 282, 'subsample': 0.7244796308411862, 'colsample_bytree': 0.9244153318384056, 'min_child_samples': 84, 'reg_alpha': 4.460202630971057e-05, 'reg_lambda': 0.00011202547383845864}. Best is trial 1 with value: 65108.308069571125.\n",
            "[I 2025-02-14 18:46:10,827] Trial 2 finished with value: 64130.00105302253 and parameters: {'num_leaves': 62, 'max_depth': 8, 'learning_rate': 0.0009456491705709858, 'n_estimators': 136, 'subsample': 0.874421650880673, 'colsample_bytree': 0.9491013026869742, 'min_child_samples': 43, 'reg_alpha': 0.09288745681496245, 'reg_lambda': 1.966431966798455e-05}. Best is trial 2 with value: 64130.00105302253.\n",
            "[I 2025-02-14 18:46:26,145] Trial 3 finished with value: 57187.01490360635 and parameters: {'num_leaves': 116, 'max_depth': 8, 'learning_rate': 0.0026348567169281675, 'n_estimators': 215, 'subsample': 0.8192431801190816, 'colsample_bytree': 0.9701953085009749, 'min_child_samples': 55, 'reg_alpha': 0.04464994933625432, 'reg_lambda': 0.0007277797647015053}. Best is trial 3 with value: 57187.01490360635.\n",
            "[I 2025-02-14 18:46:41,784] Trial 4 finished with value: 49753.23539459976 and parameters: {'num_leaves': 101, 'max_depth': 10, 'learning_rate': 0.023807190345964787, 'n_estimators': 216, 'subsample': 0.9810626300062907, 'colsample_bytree': 0.885840769223888, 'min_child_samples': 88, 'reg_alpha': 0.003060853082904428, 'reg_lambda': 0.016476954666339794}. Best is trial 4 with value: 49753.23539459976.\n",
            "[W 2025-02-14 18:46:49,923] Trial 5 failed with parameters: {'num_leaves': 38, 'max_depth': 7, 'learning_rate': 0.0034556222331670367, 'n_estimators': 207, 'subsample': 0.9009554756916267, 'colsample_bytree': 0.9284510972526054, 'min_child_samples': 74, 'reg_alpha': 0.05479638334757832, 'reg_lambda': 0.005305122008016618} because of the following error: KeyboardInterrupt().\n",
            "Traceback (most recent call last):\n",
            "  File \"/usr/local/lib/python3.11/dist-packages/optuna/study/_optimize.py\", line 197, in _run_trial\n",
            "    value_or_values = func(trial)\n",
            "                      ^^^^^^^^^^^\n",
            "  File \"<ipython-input-55-48551833bfed>\", line 32, in objective\n",
            "    scores = cross_val_score(pipeline, Xtrain, ytrain, cv=3,\n",
            "            ^^^^^^^^^^^^^^^^^^^^^^^^^^^^^^^^^^^^^^^^^^^^^^^\n",
            "  File \"/usr/local/lib/python3.11/dist-packages/sklearn/utils/_param_validation.py\", line 216, in wrapper\n",
            "    return func(*args, **kwargs)\n",
            "           ^^^^^^^^^^^^^^^^^^^^^\n",
            "  File \"/usr/local/lib/python3.11/dist-packages/sklearn/model_selection/_validation.py\", line 684, in cross_val_score\n",
            "    cv_results = cross_validate(\n",
            "                 ^^^^^^^^^^^^^^^\n",
            "  File \"/usr/local/lib/python3.11/dist-packages/sklearn/utils/_param_validation.py\", line 216, in wrapper\n",
            "    return func(*args, **kwargs)\n",
            "           ^^^^^^^^^^^^^^^^^^^^^\n",
            "  File \"/usr/local/lib/python3.11/dist-packages/sklearn/model_selection/_validation.py\", line 411, in cross_validate\n",
            "    results = parallel(\n",
            "              ^^^^^^^^^\n",
            "  File \"/usr/local/lib/python3.11/dist-packages/sklearn/utils/parallel.py\", line 77, in __call__\n",
            "    return super().__call__(iterable_with_config)\n",
            "           ^^^^^^^^^^^^^^^^^^^^^^^^^^^^^^^^^^^^^^\n",
            "  File \"/usr/local/lib/python3.11/dist-packages/joblib/parallel.py\", line 2007, in __call__\n",
            "    return output if self.return_generator else list(output)\n",
            "                                                ^^^^^^^^^^^^\n",
            "  File \"/usr/local/lib/python3.11/dist-packages/joblib/parallel.py\", line 1650, in _get_outputs\n",
            "    yield from self._retrieve()\n",
            "  File \"/usr/local/lib/python3.11/dist-packages/joblib/parallel.py\", line 1762, in _retrieve\n",
            "    time.sleep(0.01)\n",
            "KeyboardInterrupt\n",
            "[W 2025-02-14 18:46:49,926] Trial 5 failed with value None.\n"
          ]
        },
        {
          "output_type": "error",
          "ename": "KeyboardInterrupt",
          "evalue": "",
          "traceback": [
            "\u001b[0;31m---------------------------------------------------------------------------\u001b[0m",
            "\u001b[0;31mKeyboardInterrupt\u001b[0m                         Traceback (most recent call last)",
            "\u001b[0;32m<ipython-input-55-48551833bfed>\u001b[0m in \u001b[0;36m<cell line: 0>\u001b[0;34m()\u001b[0m\n\u001b[1;32m     38\u001b[0m \u001b[0;31m# Создаем и запускаем исследование\u001b[0m\u001b[0;34m\u001b[0m\u001b[0;34m\u001b[0m\u001b[0m\n\u001b[1;32m     39\u001b[0m \u001b[0mstudy\u001b[0m \u001b[0;34m=\u001b[0m \u001b[0moptuna\u001b[0m\u001b[0;34m.\u001b[0m\u001b[0mcreate_study\u001b[0m\u001b[0;34m(\u001b[0m\u001b[0mdirection\u001b[0m\u001b[0;34m=\u001b[0m\u001b[0;34m'minimize'\u001b[0m\u001b[0;34m)\u001b[0m  \u001b[0;31m# минимизируем RMSE\u001b[0m\u001b[0;34m\u001b[0m\u001b[0;34m\u001b[0m\u001b[0m\n\u001b[0;32m---> 40\u001b[0;31m \u001b[0mstudy\u001b[0m\u001b[0;34m.\u001b[0m\u001b[0moptimize\u001b[0m\u001b[0;34m(\u001b[0m\u001b[0mobjective\u001b[0m\u001b[0;34m,\u001b[0m \u001b[0mn_trials\u001b[0m\u001b[0;34m=\u001b[0m\u001b[0;36m30\u001b[0m\u001b[0;34m)\u001b[0m\u001b[0;34m\u001b[0m\u001b[0;34m\u001b[0m\u001b[0m\n\u001b[0m\u001b[1;32m     41\u001b[0m \u001b[0;34m\u001b[0m\u001b[0m\n\u001b[1;32m     42\u001b[0m \u001b[0;31m# Результаты оптимизации\u001b[0m\u001b[0;34m\u001b[0m\u001b[0;34m\u001b[0m\u001b[0m\n",
            "\u001b[0;32m/usr/local/lib/python3.11/dist-packages/optuna/study/study.py\u001b[0m in \u001b[0;36moptimize\u001b[0;34m(self, func, n_trials, timeout, n_jobs, catch, callbacks, gc_after_trial, show_progress_bar)\u001b[0m\n\u001b[1;32m    473\u001b[0m                 \u001b[0mIf\u001b[0m \u001b[0mnested\u001b[0m \u001b[0minvocation\u001b[0m \u001b[0mof\u001b[0m \u001b[0mthis\u001b[0m \u001b[0mmethod\u001b[0m \u001b[0moccurs\u001b[0m\u001b[0;34m.\u001b[0m\u001b[0;34m\u001b[0m\u001b[0;34m\u001b[0m\u001b[0m\n\u001b[1;32m    474\u001b[0m         \"\"\"\n\u001b[0;32m--> 475\u001b[0;31m         _optimize(\n\u001b[0m\u001b[1;32m    476\u001b[0m             \u001b[0mstudy\u001b[0m\u001b[0;34m=\u001b[0m\u001b[0mself\u001b[0m\u001b[0;34m,\u001b[0m\u001b[0;34m\u001b[0m\u001b[0;34m\u001b[0m\u001b[0m\n\u001b[1;32m    477\u001b[0m             \u001b[0mfunc\u001b[0m\u001b[0;34m=\u001b[0m\u001b[0mfunc\u001b[0m\u001b[0;34m,\u001b[0m\u001b[0;34m\u001b[0m\u001b[0;34m\u001b[0m\u001b[0m\n",
            "\u001b[0;32m/usr/local/lib/python3.11/dist-packages/optuna/study/_optimize.py\u001b[0m in \u001b[0;36m_optimize\u001b[0;34m(study, func, n_trials, timeout, n_jobs, catch, callbacks, gc_after_trial, show_progress_bar)\u001b[0m\n\u001b[1;32m     61\u001b[0m     \u001b[0;32mtry\u001b[0m\u001b[0;34m:\u001b[0m\u001b[0;34m\u001b[0m\u001b[0;34m\u001b[0m\u001b[0m\n\u001b[1;32m     62\u001b[0m         \u001b[0;32mif\u001b[0m \u001b[0mn_jobs\u001b[0m \u001b[0;34m==\u001b[0m \u001b[0;36m1\u001b[0m\u001b[0;34m:\u001b[0m\u001b[0;34m\u001b[0m\u001b[0;34m\u001b[0m\u001b[0m\n\u001b[0;32m---> 63\u001b[0;31m             _optimize_sequential(\n\u001b[0m\u001b[1;32m     64\u001b[0m                 \u001b[0mstudy\u001b[0m\u001b[0;34m,\u001b[0m\u001b[0;34m\u001b[0m\u001b[0;34m\u001b[0m\u001b[0m\n\u001b[1;32m     65\u001b[0m                 \u001b[0mfunc\u001b[0m\u001b[0;34m,\u001b[0m\u001b[0;34m\u001b[0m\u001b[0;34m\u001b[0m\u001b[0m\n",
            "\u001b[0;32m/usr/local/lib/python3.11/dist-packages/optuna/study/_optimize.py\u001b[0m in \u001b[0;36m_optimize_sequential\u001b[0;34m(study, func, n_trials, timeout, catch, callbacks, gc_after_trial, reseed_sampler_rng, time_start, progress_bar)\u001b[0m\n\u001b[1;32m    158\u001b[0m \u001b[0;34m\u001b[0m\u001b[0m\n\u001b[1;32m    159\u001b[0m         \u001b[0;32mtry\u001b[0m\u001b[0;34m:\u001b[0m\u001b[0;34m\u001b[0m\u001b[0;34m\u001b[0m\u001b[0m\n\u001b[0;32m--> 160\u001b[0;31m             \u001b[0mfrozen_trial\u001b[0m \u001b[0;34m=\u001b[0m \u001b[0m_run_trial\u001b[0m\u001b[0;34m(\u001b[0m\u001b[0mstudy\u001b[0m\u001b[0;34m,\u001b[0m \u001b[0mfunc\u001b[0m\u001b[0;34m,\u001b[0m \u001b[0mcatch\u001b[0m\u001b[0;34m)\u001b[0m\u001b[0;34m\u001b[0m\u001b[0;34m\u001b[0m\u001b[0m\n\u001b[0m\u001b[1;32m    161\u001b[0m         \u001b[0;32mfinally\u001b[0m\u001b[0;34m:\u001b[0m\u001b[0;34m\u001b[0m\u001b[0;34m\u001b[0m\u001b[0m\n\u001b[1;32m    162\u001b[0m             \u001b[0;31m# The following line mitigates memory problems that can be occurred in some\u001b[0m\u001b[0;34m\u001b[0m\u001b[0;34m\u001b[0m\u001b[0m\n",
            "\u001b[0;32m/usr/local/lib/python3.11/dist-packages/optuna/study/_optimize.py\u001b[0m in \u001b[0;36m_run_trial\u001b[0;34m(study, func, catch)\u001b[0m\n\u001b[1;32m    246\u001b[0m         \u001b[0;32mand\u001b[0m \u001b[0;32mnot\u001b[0m \u001b[0misinstance\u001b[0m\u001b[0;34m(\u001b[0m\u001b[0mfunc_err\u001b[0m\u001b[0;34m,\u001b[0m \u001b[0mcatch\u001b[0m\u001b[0;34m)\u001b[0m\u001b[0;34m\u001b[0m\u001b[0;34m\u001b[0m\u001b[0m\n\u001b[1;32m    247\u001b[0m     ):\n\u001b[0;32m--> 248\u001b[0;31m         \u001b[0;32mraise\u001b[0m \u001b[0mfunc_err\u001b[0m\u001b[0;34m\u001b[0m\u001b[0;34m\u001b[0m\u001b[0m\n\u001b[0m\u001b[1;32m    249\u001b[0m     \u001b[0;32mreturn\u001b[0m \u001b[0mfrozen_trial\u001b[0m\u001b[0;34m\u001b[0m\u001b[0;34m\u001b[0m\u001b[0m\n\u001b[1;32m    250\u001b[0m \u001b[0;34m\u001b[0m\u001b[0m\n",
            "\u001b[0;32m/usr/local/lib/python3.11/dist-packages/optuna/study/_optimize.py\u001b[0m in \u001b[0;36m_run_trial\u001b[0;34m(study, func, catch)\u001b[0m\n\u001b[1;32m    195\u001b[0m     \u001b[0;32mwith\u001b[0m \u001b[0mget_heartbeat_thread\u001b[0m\u001b[0;34m(\u001b[0m\u001b[0mtrial\u001b[0m\u001b[0;34m.\u001b[0m\u001b[0m_trial_id\u001b[0m\u001b[0;34m,\u001b[0m \u001b[0mstudy\u001b[0m\u001b[0;34m.\u001b[0m\u001b[0m_storage\u001b[0m\u001b[0;34m)\u001b[0m\u001b[0;34m:\u001b[0m\u001b[0;34m\u001b[0m\u001b[0;34m\u001b[0m\u001b[0m\n\u001b[1;32m    196\u001b[0m         \u001b[0;32mtry\u001b[0m\u001b[0;34m:\u001b[0m\u001b[0;34m\u001b[0m\u001b[0;34m\u001b[0m\u001b[0m\n\u001b[0;32m--> 197\u001b[0;31m             \u001b[0mvalue_or_values\u001b[0m \u001b[0;34m=\u001b[0m \u001b[0mfunc\u001b[0m\u001b[0;34m(\u001b[0m\u001b[0mtrial\u001b[0m\u001b[0;34m)\u001b[0m\u001b[0;34m\u001b[0m\u001b[0;34m\u001b[0m\u001b[0m\n\u001b[0m\u001b[1;32m    198\u001b[0m         \u001b[0;32mexcept\u001b[0m \u001b[0mexceptions\u001b[0m\u001b[0;34m.\u001b[0m\u001b[0mTrialPruned\u001b[0m \u001b[0;32mas\u001b[0m \u001b[0me\u001b[0m\u001b[0;34m:\u001b[0m\u001b[0;34m\u001b[0m\u001b[0;34m\u001b[0m\u001b[0m\n\u001b[1;32m    199\u001b[0m             \u001b[0;31m# TODO(mamu): Handle multi-objective cases.\u001b[0m\u001b[0;34m\u001b[0m\u001b[0;34m\u001b[0m\u001b[0m\n",
            "\u001b[0;32m<ipython-input-55-48551833bfed>\u001b[0m in \u001b[0;36mobjective\u001b[0;34m(trial)\u001b[0m\n\u001b[1;32m     30\u001b[0m \u001b[0;34m\u001b[0m\u001b[0m\n\u001b[1;32m     31\u001b[0m     \u001b[0;31m# Кросс-валидация с использованием RMSE\u001b[0m\u001b[0;34m\u001b[0m\u001b[0;34m\u001b[0m\u001b[0m\n\u001b[0;32m---> 32\u001b[0;31m     scores = cross_val_score(pipeline, Xtrain, ytrain, cv=3, \n\u001b[0m\u001b[1;32m     33\u001b[0m                              scoring='neg_root_mean_squared_error', n_jobs=-1)\n\u001b[1;32m     34\u001b[0m \u001b[0;34m\u001b[0m\u001b[0m\n",
            "\u001b[0;32m/usr/local/lib/python3.11/dist-packages/sklearn/utils/_param_validation.py\u001b[0m in \u001b[0;36mwrapper\u001b[0;34m(*args, **kwargs)\u001b[0m\n\u001b[1;32m    214\u001b[0m                     )\n\u001b[1;32m    215\u001b[0m                 ):\n\u001b[0;32m--> 216\u001b[0;31m                     \u001b[0;32mreturn\u001b[0m \u001b[0mfunc\u001b[0m\u001b[0;34m(\u001b[0m\u001b[0;34m*\u001b[0m\u001b[0margs\u001b[0m\u001b[0;34m,\u001b[0m \u001b[0;34m**\u001b[0m\u001b[0mkwargs\u001b[0m\u001b[0;34m)\u001b[0m\u001b[0;34m\u001b[0m\u001b[0;34m\u001b[0m\u001b[0m\n\u001b[0m\u001b[1;32m    217\u001b[0m             \u001b[0;32mexcept\u001b[0m \u001b[0mInvalidParameterError\u001b[0m \u001b[0;32mas\u001b[0m \u001b[0me\u001b[0m\u001b[0;34m:\u001b[0m\u001b[0;34m\u001b[0m\u001b[0;34m\u001b[0m\u001b[0m\n\u001b[1;32m    218\u001b[0m                 \u001b[0;31m# When the function is just a wrapper around an estimator, we allow\u001b[0m\u001b[0;34m\u001b[0m\u001b[0;34m\u001b[0m\u001b[0m\n",
            "\u001b[0;32m/usr/local/lib/python3.11/dist-packages/sklearn/model_selection/_validation.py\u001b[0m in \u001b[0;36mcross_val_score\u001b[0;34m(estimator, X, y, groups, scoring, cv, n_jobs, verbose, params, pre_dispatch, error_score)\u001b[0m\n\u001b[1;32m    682\u001b[0m     \u001b[0mscorer\u001b[0m \u001b[0;34m=\u001b[0m \u001b[0mcheck_scoring\u001b[0m\u001b[0;34m(\u001b[0m\u001b[0mestimator\u001b[0m\u001b[0;34m,\u001b[0m \u001b[0mscoring\u001b[0m\u001b[0;34m=\u001b[0m\u001b[0mscoring\u001b[0m\u001b[0;34m)\u001b[0m\u001b[0;34m\u001b[0m\u001b[0;34m\u001b[0m\u001b[0m\n\u001b[1;32m    683\u001b[0m \u001b[0;34m\u001b[0m\u001b[0m\n\u001b[0;32m--> 684\u001b[0;31m     cv_results = cross_validate(\n\u001b[0m\u001b[1;32m    685\u001b[0m         \u001b[0mestimator\u001b[0m\u001b[0;34m=\u001b[0m\u001b[0mestimator\u001b[0m\u001b[0;34m,\u001b[0m\u001b[0;34m\u001b[0m\u001b[0;34m\u001b[0m\u001b[0m\n\u001b[1;32m    686\u001b[0m         \u001b[0mX\u001b[0m\u001b[0;34m=\u001b[0m\u001b[0mX\u001b[0m\u001b[0;34m,\u001b[0m\u001b[0;34m\u001b[0m\u001b[0;34m\u001b[0m\u001b[0m\n",
            "\u001b[0;32m/usr/local/lib/python3.11/dist-packages/sklearn/utils/_param_validation.py\u001b[0m in \u001b[0;36mwrapper\u001b[0;34m(*args, **kwargs)\u001b[0m\n\u001b[1;32m    214\u001b[0m                     )\n\u001b[1;32m    215\u001b[0m                 ):\n\u001b[0;32m--> 216\u001b[0;31m                     \u001b[0;32mreturn\u001b[0m \u001b[0mfunc\u001b[0m\u001b[0;34m(\u001b[0m\u001b[0;34m*\u001b[0m\u001b[0margs\u001b[0m\u001b[0;34m,\u001b[0m \u001b[0;34m**\u001b[0m\u001b[0mkwargs\u001b[0m\u001b[0;34m)\u001b[0m\u001b[0;34m\u001b[0m\u001b[0;34m\u001b[0m\u001b[0m\n\u001b[0m\u001b[1;32m    217\u001b[0m             \u001b[0;32mexcept\u001b[0m \u001b[0mInvalidParameterError\u001b[0m \u001b[0;32mas\u001b[0m \u001b[0me\u001b[0m\u001b[0;34m:\u001b[0m\u001b[0;34m\u001b[0m\u001b[0;34m\u001b[0m\u001b[0m\n\u001b[1;32m    218\u001b[0m                 \u001b[0;31m# When the function is just a wrapper around an estimator, we allow\u001b[0m\u001b[0;34m\u001b[0m\u001b[0;34m\u001b[0m\u001b[0m\n",
            "\u001b[0;32m/usr/local/lib/python3.11/dist-packages/sklearn/model_selection/_validation.py\u001b[0m in \u001b[0;36mcross_validate\u001b[0;34m(estimator, X, y, groups, scoring, cv, n_jobs, verbose, params, pre_dispatch, return_train_score, return_estimator, return_indices, error_score)\u001b[0m\n\u001b[1;32m    409\u001b[0m     \u001b[0;31m# independent, and that it is pickle-able.\u001b[0m\u001b[0;34m\u001b[0m\u001b[0;34m\u001b[0m\u001b[0m\n\u001b[1;32m    410\u001b[0m     \u001b[0mparallel\u001b[0m \u001b[0;34m=\u001b[0m \u001b[0mParallel\u001b[0m\u001b[0;34m(\u001b[0m\u001b[0mn_jobs\u001b[0m\u001b[0;34m=\u001b[0m\u001b[0mn_jobs\u001b[0m\u001b[0;34m,\u001b[0m \u001b[0mverbose\u001b[0m\u001b[0;34m=\u001b[0m\u001b[0mverbose\u001b[0m\u001b[0;34m,\u001b[0m \u001b[0mpre_dispatch\u001b[0m\u001b[0;34m=\u001b[0m\u001b[0mpre_dispatch\u001b[0m\u001b[0;34m)\u001b[0m\u001b[0;34m\u001b[0m\u001b[0;34m\u001b[0m\u001b[0m\n\u001b[0;32m--> 411\u001b[0;31m     results = parallel(\n\u001b[0m\u001b[1;32m    412\u001b[0m         delayed(_fit_and_score)(\n\u001b[1;32m    413\u001b[0m             \u001b[0mclone\u001b[0m\u001b[0;34m(\u001b[0m\u001b[0mestimator\u001b[0m\u001b[0;34m)\u001b[0m\u001b[0;34m,\u001b[0m\u001b[0;34m\u001b[0m\u001b[0;34m\u001b[0m\u001b[0m\n",
            "\u001b[0;32m/usr/local/lib/python3.11/dist-packages/sklearn/utils/parallel.py\u001b[0m in \u001b[0;36m__call__\u001b[0;34m(self, iterable)\u001b[0m\n\u001b[1;32m     75\u001b[0m             \u001b[0;32mfor\u001b[0m \u001b[0mdelayed_func\u001b[0m\u001b[0;34m,\u001b[0m \u001b[0margs\u001b[0m\u001b[0;34m,\u001b[0m \u001b[0mkwargs\u001b[0m \u001b[0;32min\u001b[0m \u001b[0miterable\u001b[0m\u001b[0;34m\u001b[0m\u001b[0;34m\u001b[0m\u001b[0m\n\u001b[1;32m     76\u001b[0m         )\n\u001b[0;32m---> 77\u001b[0;31m         \u001b[0;32mreturn\u001b[0m \u001b[0msuper\u001b[0m\u001b[0;34m(\u001b[0m\u001b[0;34m)\u001b[0m\u001b[0;34m.\u001b[0m\u001b[0m__call__\u001b[0m\u001b[0;34m(\u001b[0m\u001b[0miterable_with_config\u001b[0m\u001b[0;34m)\u001b[0m\u001b[0;34m\u001b[0m\u001b[0;34m\u001b[0m\u001b[0m\n\u001b[0m\u001b[1;32m     78\u001b[0m \u001b[0;34m\u001b[0m\u001b[0m\n\u001b[1;32m     79\u001b[0m \u001b[0;34m\u001b[0m\u001b[0m\n",
            "\u001b[0;32m/usr/local/lib/python3.11/dist-packages/joblib/parallel.py\u001b[0m in \u001b[0;36m__call__\u001b[0;34m(self, iterable)\u001b[0m\n\u001b[1;32m   2005\u001b[0m         \u001b[0mnext\u001b[0m\u001b[0;34m(\u001b[0m\u001b[0moutput\u001b[0m\u001b[0;34m)\u001b[0m\u001b[0;34m\u001b[0m\u001b[0;34m\u001b[0m\u001b[0m\n\u001b[1;32m   2006\u001b[0m \u001b[0;34m\u001b[0m\u001b[0m\n\u001b[0;32m-> 2007\u001b[0;31m         \u001b[0;32mreturn\u001b[0m \u001b[0moutput\u001b[0m \u001b[0;32mif\u001b[0m \u001b[0mself\u001b[0m\u001b[0;34m.\u001b[0m\u001b[0mreturn_generator\u001b[0m \u001b[0;32melse\u001b[0m \u001b[0mlist\u001b[0m\u001b[0;34m(\u001b[0m\u001b[0moutput\u001b[0m\u001b[0;34m)\u001b[0m\u001b[0;34m\u001b[0m\u001b[0;34m\u001b[0m\u001b[0m\n\u001b[0m\u001b[1;32m   2008\u001b[0m \u001b[0;34m\u001b[0m\u001b[0m\n\u001b[1;32m   2009\u001b[0m     \u001b[0;32mdef\u001b[0m \u001b[0m__repr__\u001b[0m\u001b[0;34m(\u001b[0m\u001b[0mself\u001b[0m\u001b[0;34m)\u001b[0m\u001b[0;34m:\u001b[0m\u001b[0;34m\u001b[0m\u001b[0;34m\u001b[0m\u001b[0m\n",
            "\u001b[0;32m/usr/local/lib/python3.11/dist-packages/joblib/parallel.py\u001b[0m in \u001b[0;36m_get_outputs\u001b[0;34m(self, iterator, pre_dispatch)\u001b[0m\n\u001b[1;32m   1648\u001b[0m \u001b[0;34m\u001b[0m\u001b[0m\n\u001b[1;32m   1649\u001b[0m             \u001b[0;32mwith\u001b[0m \u001b[0mself\u001b[0m\u001b[0;34m.\u001b[0m\u001b[0m_backend\u001b[0m\u001b[0;34m.\u001b[0m\u001b[0mretrieval_context\u001b[0m\u001b[0;34m(\u001b[0m\u001b[0;34m)\u001b[0m\u001b[0;34m:\u001b[0m\u001b[0;34m\u001b[0m\u001b[0;34m\u001b[0m\u001b[0m\n\u001b[0;32m-> 1650\u001b[0;31m                 \u001b[0;32myield\u001b[0m \u001b[0;32mfrom\u001b[0m \u001b[0mself\u001b[0m\u001b[0;34m.\u001b[0m\u001b[0m_retrieve\u001b[0m\u001b[0;34m(\u001b[0m\u001b[0;34m)\u001b[0m\u001b[0;34m\u001b[0m\u001b[0;34m\u001b[0m\u001b[0m\n\u001b[0m\u001b[1;32m   1651\u001b[0m \u001b[0;34m\u001b[0m\u001b[0m\n\u001b[1;32m   1652\u001b[0m         \u001b[0;32mexcept\u001b[0m \u001b[0mGeneratorExit\u001b[0m\u001b[0;34m:\u001b[0m\u001b[0;34m\u001b[0m\u001b[0;34m\u001b[0m\u001b[0m\n",
            "\u001b[0;32m/usr/local/lib/python3.11/dist-packages/joblib/parallel.py\u001b[0m in \u001b[0;36m_retrieve\u001b[0;34m(self)\u001b[0m\n\u001b[1;32m   1760\u001b[0m                 (self._jobs[0].get_status(\n\u001b[1;32m   1761\u001b[0m                     timeout=self.timeout) == TASK_PENDING)):\n\u001b[0;32m-> 1762\u001b[0;31m                 \u001b[0mtime\u001b[0m\u001b[0;34m.\u001b[0m\u001b[0msleep\u001b[0m\u001b[0;34m(\u001b[0m\u001b[0;36m0.01\u001b[0m\u001b[0;34m)\u001b[0m\u001b[0;34m\u001b[0m\u001b[0;34m\u001b[0m\u001b[0m\n\u001b[0m\u001b[1;32m   1763\u001b[0m                 \u001b[0;32mcontinue\u001b[0m\u001b[0;34m\u001b[0m\u001b[0;34m\u001b[0m\u001b[0m\n\u001b[1;32m   1764\u001b[0m \u001b[0;34m\u001b[0m\u001b[0m\n",
            "\u001b[0;31mKeyboardInterrupt\u001b[0m: "
          ]
        }
      ],
      "source": [
        "def objective(trial):\n",
        "    param = {\n",
        "        'num_leaves': trial.suggest_int('num_leaves', 31, 127),\n",
        "        'max_depth': trial.suggest_int('max_depth', 4, 10),\n",
        "        'learning_rate': trial.suggest_loguniform('learning_rate', 1e-5, 0.1),\n",
        "        'n_estimators': trial.suggest_int('n_estimators', 100, 300),\n",
        "        'subsample': trial.suggest_uniform('subsample', 0.7, 1.0),\n",
        "        'colsample_bytree': trial.suggest_uniform('colsample_bytree', 0.7, 1.0),\n",
        "        'min_child_samples': trial.suggest_int('min_child_samples', 20, 100),\n",
        "        'reg_alpha': trial.suggest_loguniform('reg_alpha', 1e-5, 1.0),\n",
        "        'reg_lambda': trial.suggest_loguniform('reg_lambda', 1e-5, 1.0),\n",
        "    }\n",
        "\n",
        "    model = XGBRegressor(random_state=42, **param)\n",
        "\n",
        "    pipeline = Pipeline([\n",
        "        ('high_salary_transformer', high_salary_transformer),\n",
        "        ('column_transformer', ct_te),\n",
        "        ('model', model)\n",
        "    ])\n",
        "\n",
        "    scores = cross_val_score(pipeline, Xtrain, ytrain, cv=3,\n",
        "                             scoring='neg_root_mean_squared_error', n_jobs=-1)\n",
        "\n",
        "    return -scores.mean()\n",
        "\n",
        "study = optuna.create_study(direction='minimize')\n",
        "study.optimize(objective, n_trials=30)\n",
        "\n",
        "print(\"Лучшие параметры:\", study.best_params)\n",
        "print(\"Лучший RMSE:\", study.best_value)"
      ]
    },
    {
      "cell_type": "markdown",
      "id": "7c56d873",
      "metadata": {
        "id": "7c56d873"
      },
      "source": [
        "## **Задание 15 (0.4 балла)**"
      ]
    },
    {
      "cell_type": "markdown",
      "id": "MoU-3vCs9ufO",
      "metadata": {
        "id": "MoU-3vCs9ufO"
      },
      "source": [
        "Сделайте выводы про модели и решение задачи.\n",
        "\n",
        "- Какая из моделей показала лучший результат по качеству?\n",
        "- Какая из моделей показала лучший результат по качеству, скорости обучения и скорости предсказания в совокупности?\n",
        "- Насколько бустинги превзошли линейную модель? Целесообразно ли их использование?"
      ]
    },
    {
      "cell_type": "markdown",
      "id": "-w29KZ-r-Kaf",
      "metadata": {
        "id": "-w29KZ-r-Kaf"
      },
      "source": [
        "# **Часть 2: кластеризация типов движений**\n",
        "**Количество баллов:** 3"
      ]
    },
    {
      "cell_type": "markdown",
      "id": "6b3HIYxb-lYV",
      "metadata": {
        "id": "6b3HIYxb-lYV"
      },
      "source": [
        "В этой части будем работать с набором данных Samsung Human Activity Recognition. Набор данных заранее предобработан и снова доступен вам по [ссылке](https://drive.google.com/file/d/16ISu7lMumt5rbticbOggHMRjwTGBETtO/view?usp=sharing).\n",
        "\n",
        "### **Постановка задачи**\n",
        "Данные поступают с акселерометров и гироскопов мобильных телефонов Samsung Galaxy S2. Вид активности человека с телефоном в кармане известен:\n",
        "- 1 - ходьба,\n",
        "- 2 - подъем вверх по лестнице,\n",
        "- 3 - спуск по лестнице,\n",
        "- 4 - сидение,\n",
        "- 5 - стояние,\n",
        "- 6 - лежание\n",
        "\n",
        "\n",
        "Представим, что вид активности нам неизвестнен, и попробуем кластеризовать людей чисто на основе имеющихся признаков."
      ]
    },
    {
      "cell_type": "code",
      "execution_count": null,
      "id": "G-GfIOJL9ty4",
      "metadata": {
        "id": "G-GfIOJL9ty4",
        "outputId": "3d73e049-67ac-41c3-b9cb-0d9780513d02",
        "colab": {
          "base_uri": "https://localhost:8080/",
          "height": 408
        }
      },
      "outputs": [
        {
          "output_type": "error",
          "ename": "OSError",
          "evalue": "'seaborn-darkgrid' is not a valid package style, path of style file, URL of style file, or library style name (library styles are listed in `style.available`)",
          "traceback": [
            "\u001b[0;31m---------------------------------------------------------------------------\u001b[0m",
            "\u001b[0;31mFileNotFoundError\u001b[0m                         Traceback (most recent call last)",
            "\u001b[0;32m/usr/local/lib/python3.11/dist-packages/matplotlib/style/core.py\u001b[0m in \u001b[0;36muse\u001b[0;34m(style)\u001b[0m\n\u001b[1;32m    128\u001b[0m             \u001b[0;32mtry\u001b[0m\u001b[0;34m:\u001b[0m\u001b[0;34m\u001b[0m\u001b[0;34m\u001b[0m\u001b[0m\n\u001b[0;32m--> 129\u001b[0;31m                 \u001b[0mstyle\u001b[0m \u001b[0;34m=\u001b[0m \u001b[0m_rc_params_in_file\u001b[0m\u001b[0;34m(\u001b[0m\u001b[0mstyle\u001b[0m\u001b[0;34m)\u001b[0m\u001b[0;34m\u001b[0m\u001b[0;34m\u001b[0m\u001b[0m\n\u001b[0m\u001b[1;32m    130\u001b[0m             \u001b[0;32mexcept\u001b[0m \u001b[0mOSError\u001b[0m \u001b[0;32mas\u001b[0m \u001b[0merr\u001b[0m\u001b[0;34m:\u001b[0m\u001b[0;34m\u001b[0m\u001b[0;34m\u001b[0m\u001b[0m\n",
            "\u001b[0;32m/usr/local/lib/python3.11/dist-packages/matplotlib/__init__.py\u001b[0m in \u001b[0;36m_rc_params_in_file\u001b[0;34m(fname, transform, fail_on_error)\u001b[0m\n\u001b[1;32m    902\u001b[0m     \u001b[0mrc_temp\u001b[0m \u001b[0;34m=\u001b[0m \u001b[0;34m{\u001b[0m\u001b[0;34m}\u001b[0m\u001b[0;34m\u001b[0m\u001b[0;34m\u001b[0m\u001b[0m\n\u001b[0;32m--> 903\u001b[0;31m     \u001b[0;32mwith\u001b[0m \u001b[0m_open_file_or_url\u001b[0m\u001b[0;34m(\u001b[0m\u001b[0mfname\u001b[0m\u001b[0;34m)\u001b[0m \u001b[0;32mas\u001b[0m \u001b[0mfd\u001b[0m\u001b[0;34m:\u001b[0m\u001b[0;34m\u001b[0m\u001b[0;34m\u001b[0m\u001b[0m\n\u001b[0m\u001b[1;32m    904\u001b[0m         \u001b[0;32mtry\u001b[0m\u001b[0;34m:\u001b[0m\u001b[0;34m\u001b[0m\u001b[0;34m\u001b[0m\u001b[0m\n",
            "\u001b[0;32m/usr/lib/python3.11/contextlib.py\u001b[0m in \u001b[0;36m__enter__\u001b[0;34m(self)\u001b[0m\n\u001b[1;32m    136\u001b[0m         \u001b[0;32mtry\u001b[0m\u001b[0;34m:\u001b[0m\u001b[0;34m\u001b[0m\u001b[0;34m\u001b[0m\u001b[0m\n\u001b[0;32m--> 137\u001b[0;31m             \u001b[0;32mreturn\u001b[0m \u001b[0mnext\u001b[0m\u001b[0;34m(\u001b[0m\u001b[0mself\u001b[0m\u001b[0;34m.\u001b[0m\u001b[0mgen\u001b[0m\u001b[0;34m)\u001b[0m\u001b[0;34m\u001b[0m\u001b[0;34m\u001b[0m\u001b[0m\n\u001b[0m\u001b[1;32m    138\u001b[0m         \u001b[0;32mexcept\u001b[0m \u001b[0mStopIteration\u001b[0m\u001b[0;34m:\u001b[0m\u001b[0;34m\u001b[0m\u001b[0;34m\u001b[0m\u001b[0m\n",
            "\u001b[0;32m/usr/local/lib/python3.11/dist-packages/matplotlib/__init__.py\u001b[0m in \u001b[0;36m_open_file_or_url\u001b[0;34m(fname)\u001b[0m\n\u001b[1;32m    879\u001b[0m         \u001b[0mfname\u001b[0m \u001b[0;34m=\u001b[0m \u001b[0mos\u001b[0m\u001b[0;34m.\u001b[0m\u001b[0mpath\u001b[0m\u001b[0;34m.\u001b[0m\u001b[0mexpanduser\u001b[0m\u001b[0;34m(\u001b[0m\u001b[0mfname\u001b[0m\u001b[0;34m)\u001b[0m\u001b[0;34m\u001b[0m\u001b[0;34m\u001b[0m\u001b[0m\n\u001b[0;32m--> 880\u001b[0;31m         \u001b[0;32mwith\u001b[0m \u001b[0mopen\u001b[0m\u001b[0;34m(\u001b[0m\u001b[0mfname\u001b[0m\u001b[0;34m,\u001b[0m \u001b[0mencoding\u001b[0m\u001b[0;34m=\u001b[0m\u001b[0;34m'utf-8'\u001b[0m\u001b[0;34m)\u001b[0m \u001b[0;32mas\u001b[0m \u001b[0mf\u001b[0m\u001b[0;34m:\u001b[0m\u001b[0;34m\u001b[0m\u001b[0;34m\u001b[0m\u001b[0m\n\u001b[0m\u001b[1;32m    881\u001b[0m             \u001b[0;32myield\u001b[0m \u001b[0mf\u001b[0m\u001b[0;34m\u001b[0m\u001b[0;34m\u001b[0m\u001b[0m\n",
            "\u001b[0;31mFileNotFoundError\u001b[0m: [Errno 2] No such file or directory: 'seaborn-darkgrid'",
            "\nThe above exception was the direct cause of the following exception:\n",
            "\u001b[0;31mOSError\u001b[0m                                   Traceback (most recent call last)",
            "\u001b[0;32m<ipython-input-43-7b22ee621413>\u001b[0m in \u001b[0;36m<cell line: 0>\u001b[0;34m()\u001b[0m\n\u001b[1;32m      4\u001b[0m \u001b[0;34m\u001b[0m\u001b[0m\n\u001b[1;32m      5\u001b[0m \u001b[0;34m\u001b[0m\u001b[0m\n\u001b[0;32m----> 6\u001b[0;31m \u001b[0mplt\u001b[0m\u001b[0;34m.\u001b[0m\u001b[0mstyle\u001b[0m\u001b[0;34m.\u001b[0m\u001b[0muse\u001b[0m\u001b[0;34m(\u001b[0m\u001b[0;34m[\u001b[0m\u001b[0;34m'seaborn-darkgrid'\u001b[0m\u001b[0;34m]\u001b[0m\u001b[0;34m)\u001b[0m\u001b[0;34m\u001b[0m\u001b[0;34m\u001b[0m\u001b[0m\n\u001b[0m\u001b[1;32m      7\u001b[0m \u001b[0mplt\u001b[0m\u001b[0;34m.\u001b[0m\u001b[0mrcParams\u001b[0m\u001b[0;34m[\u001b[0m\u001b[0;34m'figure.figsize'\u001b[0m\u001b[0;34m]\u001b[0m \u001b[0;34m=\u001b[0m \u001b[0;34m(\u001b[0m\u001b[0;36m12\u001b[0m\u001b[0;34m,\u001b[0m \u001b[0;36m9\u001b[0m\u001b[0;34m)\u001b[0m\u001b[0;34m\u001b[0m\u001b[0;34m\u001b[0m\u001b[0m\n\u001b[1;32m      8\u001b[0m \u001b[0mplt\u001b[0m\u001b[0;34m.\u001b[0m\u001b[0mrcParams\u001b[0m\u001b[0;34m[\u001b[0m\u001b[0;34m'font.family'\u001b[0m\u001b[0;34m]\u001b[0m \u001b[0;34m=\u001b[0m \u001b[0;34m'DejaVu Sans'\u001b[0m\u001b[0;34m\u001b[0m\u001b[0;34m\u001b[0m\u001b[0m\n",
            "\u001b[0;32m/usr/local/lib/python3.11/dist-packages/matplotlib/style/core.py\u001b[0m in \u001b[0;36muse\u001b[0;34m(style)\u001b[0m\n\u001b[1;32m    129\u001b[0m                 \u001b[0mstyle\u001b[0m \u001b[0;34m=\u001b[0m \u001b[0m_rc_params_in_file\u001b[0m\u001b[0;34m(\u001b[0m\u001b[0mstyle\u001b[0m\u001b[0;34m)\u001b[0m\u001b[0;34m\u001b[0m\u001b[0;34m\u001b[0m\u001b[0m\n\u001b[1;32m    130\u001b[0m             \u001b[0;32mexcept\u001b[0m \u001b[0mOSError\u001b[0m \u001b[0;32mas\u001b[0m \u001b[0merr\u001b[0m\u001b[0;34m:\u001b[0m\u001b[0;34m\u001b[0m\u001b[0;34m\u001b[0m\u001b[0m\n\u001b[0;32m--> 131\u001b[0;31m                 raise OSError(\n\u001b[0m\u001b[1;32m    132\u001b[0m                     \u001b[0;34mf\"{style!r} is not a valid package style, path of style \"\u001b[0m\u001b[0;34m\u001b[0m\u001b[0;34m\u001b[0m\u001b[0m\n\u001b[1;32m    133\u001b[0m                     \u001b[0;34mf\"file, URL of style file, or library style name (library \"\u001b[0m\u001b[0;34m\u001b[0m\u001b[0;34m\u001b[0m\u001b[0m\n",
            "\u001b[0;31mOSError\u001b[0m: 'seaborn-darkgrid' is not a valid package style, path of style file, URL of style file, or library style name (library styles are listed in `style.available`)"
          ]
        }
      ],
      "source": [
        "import numpy as np\n",
        "import seaborn as sns\n",
        "from matplotlib import pyplot as plt\n",
        "\n",
        "\n",
        "plt.style.use(['seaborn-darkgrid'])\n",
        "plt.rcParams['figure.figsize'] = (12, 9)\n",
        "plt.rcParams['font.family'] = 'DejaVu Sans'\n",
        "\n",
        "%matplotlib inline\n",
        "%config InlineBackend.figure_format=\"retina\"\n",
        "\n",
        "RANDOM_STATE = 42"
      ]
    },
    {
      "cell_type": "markdown",
      "id": "huMweUyCDtq0",
      "metadata": {
        "id": "huMweUyCDtq0"
      },
      "source": [
        "### **Задание 16 (0.1 балл)**\n",
        "Прочитайте данные из файлов и объедните тестовую и обучающие выборки.\n",
        "\n",
        "В файлах ```..._labels``` лежат настоящие классы. Их также объедините, но в отдельную переменную (например ```y```). Данный вектор для кластеризации нам не нужен, но мы будем смотреть по нему метрики."
      ]
    },
    {
      "cell_type": "code",
      "execution_count": null,
      "id": "kOl0AkxMDwgs",
      "metadata": {
        "id": "kOl0AkxMDwgs"
      },
      "outputs": [],
      "source": [
        "# Ваш код здесь\n",
        "X =\n",
        "y ="
      ]
    },
    {
      "cell_type": "code",
      "execution_count": null,
      "id": "5Lm9We-jDxFV",
      "metadata": {
        "id": "5Lm9We-jDxFV"
      },
      "outputs": [],
      "source": [
        "# убедимся, что y содержит нужные нам классы\n",
        "np.unique(y)"
      ]
    },
    {
      "cell_type": "markdown",
      "id": "RKVnDJ1ODzt1",
      "metadata": {
        "id": "RKVnDJ1ODzt1"
      },
      "source": [
        "### **Задание 17 (0.2 балла)**\n",
        "\n",
        "Так как мы будем пользоваться метрическими алгоритмами, отмасштабируйте выборку с помощью ```StandardScaler```."
      ]
    },
    {
      "cell_type": "code",
      "execution_count": null,
      "id": "JboUmITvD0N3",
      "metadata": {
        "id": "JboUmITvD0N3"
      },
      "outputs": [],
      "source": [
        "# Ваш код здесь\n",
        "scaler =\n",
        "X_scaled ="
      ]
    },
    {
      "cell_type": "markdown",
      "id": "ssHPKscBD0kE",
      "metadata": {
        "id": "ssHPKscBD0kE"
      },
      "source": [
        "### **Задание 18 (0.5 балла)**\n",
        "\n",
        "Данных много и размерность большая. Чтобы ускорить рещение задачи с точки зрения построения модели, мы используем методы **понижения размерности**.\n",
        "\n",
        "- Понизьте размерность с помощью `PCA`, оставляя столько компонент, сколько нужно для того, чтобы объяснить как минимум 90% дисперсии отмасштабированных данных. Вам пригодится [документация](https://scikit-learn.org/stable/modules/generated/sklearn.decomposition.PCA.html)\n",
        "\n",
        "**Примечание:**\n",
        "Для этого сумма значений массива pca.explained_variance_ratio_ должна быть не меньше 0.9.  ```random_state``` используйте из объявленной в самом начале переменной ```RANDOM_STATE``` (42)."
      ]
    },
    {
      "cell_type": "code",
      "execution_count": null,
      "id": "Qb4ezLYfD007",
      "metadata": {
        "id": "Qb4ezLYfD007"
      },
      "outputs": [],
      "source": [
        "# Ваш код здесь\n",
        "pca =\n",
        "X_pca ="
      ]
    },
    {
      "cell_type": "markdown",
      "id": "JAJ6WxDaD9oC",
      "metadata": {
        "id": "JAJ6WxDaD9oC"
      },
      "source": [
        "### **Задание 19 (0.2 балла)**\n",
        "\n",
        "Визуализируйте данные в проекции на первые две главные компоненты. Используйте ```cmap=\"virdis\"``` или любой другой, с которым будет красиво!\n",
        "\n",
        "Можете раскрасить кластеры."
      ]
    },
    {
      "cell_type": "code",
      "execution_count": null,
      "id": "JHboofo-D-KP",
      "metadata": {
        "id": "JHboofo-D-KP"
      },
      "outputs": [],
      "source": [
        "# Ваш код здесь\n",
        "plt.scatter()"
      ]
    },
    {
      "cell_type": "markdown",
      "id": "BJU8Dc99D-T8",
      "metadata": {
        "id": "BJU8Dc99D-T8"
      },
      "source": [
        "### **Задание 19. (0.5 балла)**\n",
        "\n",
        "Разберёмся с `KMeans`, [doc](https://scikit-learn.org/stable/modules/generated/sklearn.cluster.KMeans.html)\n",
        "\n",
        "- Сделайте кластеризацию данных методом `KMeans`, обучив модель на данных со сниженной за счет `PCA` размерностью. Нужно искать 6 кластеров (изначально у нас 6 классов). Засеките время обучения и время инференса.\n",
        "\n",
        "**Параметры обучения:**\n",
        "\n",
        "```n_clusters = 6``` (число уникальных меток целевого класса = 6)\n",
        "\n",
        "```n_init = 100```\n",
        "\n",
        "```random_state = RANDOM_STATE``` (для воспроизводимости результата, не забывайте указывать его и дальше!)"
      ]
    },
    {
      "cell_type": "code",
      "execution_count": null,
      "id": "uc4uXeV3D-a9",
      "metadata": {
        "id": "uc4uXeV3D-a9"
      },
      "outputs": [],
      "source": [
        "# Ваш код здесь"
      ]
    },
    {
      "cell_type": "markdown",
      "id": "mXk40mmZD-iI",
      "metadata": {
        "id": "mXk40mmZD-iI"
      },
      "source": [
        "### **Задание 20 (0.2 балла)**\n",
        "\n",
        "- Визуализируйте данные в проекции на первые две главные компоненты.\n",
        "- Раскрасьте точки в соответствии с полученными метками кластеров."
      ]
    },
    {
      "cell_type": "code",
      "execution_count": null,
      "id": "LN0y9SuMD-oQ",
      "metadata": {
        "id": "LN0y9SuMD-oQ"
      },
      "outputs": [],
      "source": [
        "# Ваш код здесь"
      ]
    },
    {
      "cell_type": "markdown",
      "id": "MRuNPtcvEIcT",
      "metadata": {
        "id": "MRuNPtcvEIcT"
      },
      "source": [
        "### **Задание 21 (0.3 балла)**\n",
        "\n",
        "- Выберите какие-то метрики (минимум две) из известных вам. Объясните свой выбор\n",
        "- Выведите на экран значения метрик качества, сделайте вывод о них и используйте их далее."
      ]
    },
    {
      "cell_type": "code",
      "execution_count": null,
      "id": "hRUnZPlPEJm2",
      "metadata": {
        "id": "hRUnZPlPEJm2"
      },
      "outputs": [],
      "source": [
        "# Ваш код здесь"
      ]
    },
    {
      "cell_type": "markdown",
      "id": "F_-yup0yEJty",
      "metadata": {
        "id": "F_-yup0yEJty"
      },
      "source": [
        "**Ваш вывод здесь**"
      ]
    },
    {
      "cell_type": "markdown",
      "id": "yfytg7xxEQSY",
      "metadata": {
        "id": "yfytg7xxEQSY"
      },
      "source": [
        "### **Задание 22 (0.7 баллов)**\n",
        "\n",
        "Теперь попробуем сделать кластеризацию с помощью `AgglomerativeClustering`, [doc](https://scikit-learn.org/stable/modules/generated/sklearn.cluster.AgglomerativeClustering.html)\n",
        "\n",
        "- Засеките время обучения и время инференса. После кластеризации также:\n",
        "  - Вновь визуализируйте данные с раскраской по полученным меткам\n",
        "  - Выведите метрики. Засеките время обучения и время инференса. Сравните с ```KMeans```.\n",
        "\n",
        "Ответьте на следующие вопросы:\n",
        "* Стало ли лучше?\n",
        "* Почему?"
      ]
    },
    {
      "cell_type": "code",
      "execution_count": null,
      "id": "76W4gKbnEOpG",
      "metadata": {
        "id": "76W4gKbnEOpG"
      },
      "outputs": [],
      "source": [
        "# Ваш код здесь"
      ]
    },
    {
      "cell_type": "markdown",
      "id": "fD8890szET9F",
      "metadata": {
        "id": "fD8890szET9F"
      },
      "source": [
        "**Ваш вывод здесь**"
      ]
    },
    {
      "cell_type": "markdown",
      "id": "ToO1wo75EUo5",
      "metadata": {
        "id": "ToO1wo75EUo5"
      },
      "source": [
        "### **Задание 23 (0.3 балла)**\n",
        "Для самой успешной из полученных кластеризаций попробуйте дать интерпретацию кластеров. Опишите характеристики объектов, попавших в каждый кластер. Для этого можете ответить на следующие вопросы:\n",
        "\n",
        "* Похожи ли объекты внутри каждого кластера на определенный тип активности человека?\n",
        "* В каких кластерах смешано несколько типов активности? С чем, на ваш взгляд, это может быть связано?\n",
        "* Качественная ли получилась кластеризация? На основании чего вы можете сделать такой вывод?"
      ]
    },
    {
      "cell_type": "markdown",
      "id": "XNfJxVTCEYzd",
      "metadata": {
        "id": "XNfJxVTCEYzd"
      },
      "source": [
        "**Ваш вывод здесь**"
      ]
    },
    {
      "cell_type": "markdown",
      "id": "DMe3tIiaEeTt",
      "metadata": {
        "id": "DMe3tIiaEeTt"
      },
      "source": [
        "## **Бонус-задание (1 балл)**\n",
        "![RedPanda](http://imgur.com/6Aa52Lm.png)\n",
        "\n",
        "Алгоритмы кластеризации могут применяться в самых разных задачах. Например, в анализе изображений есть задача разделения изображения на семантические компоненты, которую можно решать в том числе с помощью алгоритмов кластеризации. В бонусе предлагаем вам попрактиковаться именно в этом на чудесной утке и совах (```duck.jpg``` и ```owls.jpg```)"
      ]
    },
    {
      "cell_type": "markdown",
      "id": "XljM79OVEvH1",
      "metadata": {
        "id": "XljM79OVEvH1"
      },
      "source": [
        "### **(0.1 балл)**\n",
        "\n",
        "- Откройте изображения, после чего визуализируйте их с помощью ```plt.imshow()```"
      ]
    },
    {
      "cell_type": "code",
      "execution_count": null,
      "id": "MDCgEqXxEis1",
      "metadata": {
        "id": "MDCgEqXxEis1"
      },
      "outputs": [],
      "source": [
        "from PIL import Image\n",
        "# or\n",
        "#import cv2"
      ]
    },
    {
      "cell_type": "markdown",
      "id": "cR_AuC9RFANW",
      "metadata": {
        "id": "cR_AuC9RFANW"
      },
      "source": [
        "### **(0.4 балла)**\n",
        "\n",
        "Для каждого изображения, используя кластеризацию ```KMeans```, выделите компоненты, охарактеризовав каждый пиксель следующим образом: $$\\psi_i = [\\lambda x_i, \\lambda y_i, r_i, g_i, b_i]$$\n",
        " где\n",
        "- $x_i$ и $y_i$ — координаты пикселя,\n",
        "- $r_i, g_i, b_i$ — его цвет,\n",
        "- $\\lambda$ — параметр, выражающий важность пространственной связности перед цветовой похожестью.\n",
        "\n",
        "Примените полученную функцию, взяв следующие $\\lambda$: 0.3 и 1.5 для ```duck.jpg``` и ```owls.jpg``` (или другие, но тогда с вас красивые результаты :) )\n",
        "\n",
        "**Примечание:**\n",
        "Число кластеров подберите разумным образом на свой вкус (в качестве нулевого приближения можно взять 3)"
      ]
    },
    {
      "cell_type": "code",
      "execution_count": null,
      "id": "4qiynyTXFSNU",
      "metadata": {
        "id": "4qiynyTXFSNU"
      },
      "outputs": [],
      "source": [
        "def find_components(image, lmbd, n_clusters):\n",
        "    #your code here"
      ]
    },
    {
      "cell_type": "markdown",
      "id": "Zja1t8nHFaS2",
      "metadata": {
        "id": "Zja1t8nHFaS2"
      },
      "source": [
        "### **(0.4 балла)**\n",
        "\n",
        "Попробуйте выделить сегменты при помощи [спектральной кластеризации](http://scikit-learn.org/stable/modules/clustering.html#spectral-clustering). Обратите внимание на [пример в sklearn](http://scikit-learn.org/0.16/auto_examples/cluster/plot_lena_segmentation.html).\n",
        "\n",
        "\n",
        "**Примечание:**\n",
        "\n",
        "Для ускорения работы алгоритма рекомендуется привести изображение к серому цвету. При необходимости можно сжать изображения в 2 раза.\n",
        "\n",
        "**Подсказка:**```skimage``` с его ```color``` и ```transform``` в этом помогут :)\n",
        "\n",
        "Или же воспользуйтесь аналогичными средствами ```PIL``` или ```cv2```"
      ]
    },
    {
      "cell_type": "code",
      "execution_count": null,
      "id": "hu10O8GnFluE",
      "metadata": {
        "id": "hu10O8GnFluE"
      },
      "outputs": [],
      "source": [
        "def spectral_segmentation(image, n_clusters, beta, eps):\n",
        "    #your code here"
      ]
    },
    {
      "cell_type": "markdown",
      "id": "XWoIIsqiFwrp",
      "metadata": {
        "id": "XWoIIsqiFwrp"
      },
      "source": [
        "### **(0.1 балл)**\n",
        "Визуализируйте результаты сегментации (аналогично рисунку в начале задания 2) для обоих методов."
      ]
    },
    {
      "cell_type": "code",
      "execution_count": null,
      "id": "S7B57-WbF4Ie",
      "metadata": {
        "id": "S7B57-WbF4Ie"
      },
      "outputs": [],
      "source": []
    },
    {
      "cell_type": "markdown",
      "id": "xrgZWcvtF95o",
      "metadata": {
        "id": "xrgZWcvtF95o"
      },
      "source": [
        "**Спасибо! Вы — человек — большой трудяга!**\n",
        "\n",
        "Успокоительный котобонус :)"
      ]
    },
    {
      "cell_type": "markdown",
      "id": "Qx3-EPTBPEC-",
      "metadata": {
        "id": "Qx3-EPTBPEC-"
      },
      "source": [
        "![photo_2025-01-17 15.20.31 (1).jpeg](data:image/jpeg;base64,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)"
      ]
    }
  ],
  "metadata": {
    "colab": {
      "provenance": [],
      "include_colab_link": true
    },
    "kernelspec": {
      "display_name": ".venv",
      "language": "python",
      "name": "python3"
    },
    "language_info": {
      "codemirror_mode": {
        "name": "ipython",
        "version": 3
      },
      "file_extension": ".py",
      "mimetype": "text/x-python",
      "name": "python",
      "nbconvert_exporter": "python",
      "pygments_lexer": "ipython3",
      "version": "3.10.12"
    },
    "widgets": {
      "application/vnd.jupyter.widget-state+json": {
        "1287db85a4b44236bbe5de5eec5b6a7e": {
          "model_module": "catboost-widget",
          "model_name": "CatboostWidgetModel",
          "model_module_version": "^1.0.0",
          "state": {
            "_dom_classes": [],
            "_model_module": "catboost-widget",
            "_model_module_version": "^1.0.0",
            "_model_name": "CatboostWidgetModel",
            "_view_count": null,
            "_view_module": "catboost-widget",
            "_view_module_version": "^1.0.0",
            "_view_name": "CatboostWidgetView",
            "data": {
              "catboost_info": {
                "path": "catboost_info",
                "name": "catboost_info",
                "content": {
                  "passed_iterations": 999,
                  "total_iterations": 1000,
                  "data": {
                    "iterations": [
                      {
                        "learn": [
                          67197.38102
                        ],
                        "iteration": 0,
                        "passed_time": 0.05543582972,
                        "remaining_time": 55.38039389
                      },
                      {
                        "learn": [
                          67017.53565
                        ],
                        "iteration": 1,
                        "passed_time": 0.05633129518,
                        "remaining_time": 28.10931629
                      },
                      {
                        "learn": [
                          66815.12655
                        ],
                        "iteration": 2,
                        "passed_time": 0.05682971408,
                        "remaining_time": 18.88640831
                      },
                      {
                        "learn": [
                          66662.43586
                        ],
                        "iteration": 3,
                        "passed_time": 0.05737153017,
                        "remaining_time": 14.28551101
                      },
                      {
                        "learn": [
                          66522.93992
                        ],
                        "iteration": 4,
                        "passed_time": 0.05789356452,
                        "remaining_time": 11.52081934
                      },
                      {
                        "learn": [
                          66412.34957
                        ],
                        "iteration": 5,
                        "passed_time": 0.05825330082,
                        "remaining_time": 9.650630169
                      },
                      {
                        "learn": [
                          66236.59368
                        ],
                        "iteration": 6,
                        "passed_time": 0.06081280525,
                        "remaining_time": 8.626730802
                      },
                      {
                        "learn": [
                          66076.59307
                        ],
                        "iteration": 7,
                        "passed_time": 0.06200468582,
                        "remaining_time": 7.688581041
                      },
                      {
                        "learn": [
                          66014.37749
                        ],
                        "iteration": 8,
                        "passed_time": 0.06298236054,
                        "remaining_time": 6.935057699
                      },
                      {
                        "learn": [
                          65959.36665
                        ],
                        "iteration": 9,
                        "passed_time": 0.0633701701,
                        "remaining_time": 6.273646839
                      },
                      {
                        "learn": [
                          65885.61184
                        ],
                        "iteration": 10,
                        "passed_time": 0.06374398348,
                        "remaining_time": 5.731163606
                      },
                      {
                        "learn": [
                          65762.84448
                        ],
                        "iteration": 11,
                        "passed_time": 0.06414157913,
                        "remaining_time": 5.280990015
                      },
                      {
                        "learn": [
                          65652.50529
                        ],
                        "iteration": 12,
                        "passed_time": 0.06462034312,
                        "remaining_time": 4.906175281
                      },
                      {
                        "learn": [
                          65551.58833
                        ],
                        "iteration": 13,
                        "passed_time": 0.07407492886,
                        "remaining_time": 5.216991418
                      },
                      {
                        "learn": [
                          65485.287
                        ],
                        "iteration": 14,
                        "passed_time": 0.08019930024,
                        "remaining_time": 5.266420716
                      },
                      {
                        "learn": [
                          65408.05713
                        ],
                        "iteration": 15,
                        "passed_time": 0.08060502331,
                        "remaining_time": 4.957208934
                      },
                      {
                        "learn": [
                          65316.83233
                        ],
                        "iteration": 16,
                        "passed_time": 0.08113983699,
                        "remaining_time": 4.691791751
                      },
                      {
                        "learn": [
                          65233.20201
                        ],
                        "iteration": 17,
                        "passed_time": 0.08997070284,
                        "remaining_time": 4.908401677
                      },
                      {
                        "learn": [
                          65174.92566
                        ],
                        "iteration": 18,
                        "passed_time": 0.09261332656,
                        "remaining_time": 4.781772282
                      },
                      {
                        "learn": [
                          65147.73744
                        ],
                        "iteration": 19,
                        "passed_time": 0.09299197276,
                        "remaining_time": 4.556606665
                      },
                      {
                        "learn": [
                          65095.82208
                        ],
                        "iteration": 20,
                        "passed_time": 0.09846986245,
                        "remaining_time": 4.590571207
                      },
                      {
                        "learn": [
                          65072.22255
                        ],
                        "iteration": 21,
                        "passed_time": 0.100434613,
                        "remaining_time": 4.464775068
                      },
                      {
                        "learn": [
                          65012.96963
                        ],
                        "iteration": 22,
                        "passed_time": 0.1008582591,
                        "remaining_time": 4.284283442
                      },
                      {
                        "learn": [
                          64955.01143
                        ],
                        "iteration": 23,
                        "passed_time": 0.1013166323,
                        "remaining_time": 4.120209713
                      },
                      {
                        "learn": [
                          64901.97996
                        ],
                        "iteration": 24,
                        "passed_time": 0.1017504809,
                        "remaining_time": 3.968268754
                      },
                      {
                        "learn": [
                          64853.45934
                        ],
                        "iteration": 25,
                        "passed_time": 0.1126586316,
                        "remaining_time": 4.220365662
                      },
                      {
                        "learn": [
                          64811.9949
                        ],
                        "iteration": 26,
                        "passed_time": 0.1131236754,
                        "remaining_time": 4.076642079
                      },
                      {
                        "learn": [
                          64776.41719
                        ],
                        "iteration": 27,
                        "passed_time": 0.1135376477,
                        "remaining_time": 3.941378342
                      },
                      {
                        "learn": [
                          64737.93565
                        ],
                        "iteration": 28,
                        "passed_time": 0.1141235214,
                        "remaining_time": 3.821170321
                      },
                      {
                        "learn": [
                          64705.69119
                        ],
                        "iteration": 29,
                        "passed_time": 0.1145269167,
                        "remaining_time": 3.703036974
                      },
                      {
                        "learn": [
                          64678.14083
                        ],
                        "iteration": 30,
                        "passed_time": 0.1301366403,
                        "remaining_time": 4.0678195
                      },
                      {
                        "learn": [
                          64652.96962
                        ],
                        "iteration": 31,
                        "passed_time": 0.1316334748,
                        "remaining_time": 3.981912613
                      },
                      {
                        "learn": [
                          64624.8257
                        ],
                        "iteration": 32,
                        "passed_time": 0.1341712579,
                        "remaining_time": 3.931624437
                      },
                      {
                        "learn": [
                          64619.71724
                        ],
                        "iteration": 33,
                        "passed_time": 0.1345781788,
                        "remaining_time": 3.823603549
                      },
                      {
                        "learn": [
                          64599.08944
                        ],
                        "iteration": 34,
                        "passed_time": 0.134995007,
                        "remaining_time": 3.722005194
                      },
                      {
                        "learn": [
                          64577.72092
                        ],
                        "iteration": 35,
                        "passed_time": 0.1445978324,
                        "remaining_time": 3.872008622
                      },
                      {
                        "learn": [
                          64570.23824
                        ],
                        "iteration": 36,
                        "passed_time": 0.1475026897,
                        "remaining_time": 3.83905649
                      },
                      {
                        "learn": [
                          64556.47906
                        ],
                        "iteration": 37,
                        "passed_time": 0.1478713084,
                        "remaining_time": 3.743478913
                      },
                      {
                        "learn": [
                          64538.56199
                        ],
                        "iteration": 38,
                        "passed_time": 0.1483257456,
                        "remaining_time": 3.6548985
                      },
                      {
                        "learn": [
                          64527.36
                        ],
                        "iteration": 39,
                        "passed_time": 0.1488043009,
                        "remaining_time": 3.571303222
                      },
                      {
                        "learn": [
                          64511.837
                        ],
                        "iteration": 40,
                        "passed_time": 0.1591099545,
                        "remaining_time": 3.721620642
                      },
                      {
                        "learn": [
                          64497.22308
                        ],
                        "iteration": 41,
                        "passed_time": 0.1595902126,
                        "remaining_time": 3.640176753
                      },
                      {
                        "learn": [
                          64491.29842
                        ],
                        "iteration": 42,
                        "passed_time": 0.1599626932,
                        "remaining_time": 3.560099939
                      },
                      {
                        "learn": [
                          64477.5693
                        ],
                        "iteration": 43,
                        "passed_time": 0.1603824265,
                        "remaining_time": 3.484672722
                      },
                      {
                        "learn": [
                          64466.99414
                        ],
                        "iteration": 44,
                        "passed_time": 0.1732766582,
                        "remaining_time": 3.677315747
                      },
                      {
                        "learn": [
                          64460.91396
                        ],
                        "iteration": 45,
                        "passed_time": 0.1741616903,
                        "remaining_time": 3.611962012
                      },
                      {
                        "learn": [
                          64455.39659
                        ],
                        "iteration": 46,
                        "passed_time": 0.1745779536,
                        "remaining_time": 3.539846591
                      },
                      {
                        "learn": [
                          64448.27633
                        ],
                        "iteration": 47,
                        "passed_time": 0.1749360349,
                        "remaining_time": 3.469564691
                      },
                      {
                        "learn": [
                          64439.11319
                        ],
                        "iteration": 48,
                        "passed_time": 0.175382221,
                        "remaining_time": 3.403846778
                      },
                      {
                        "learn": [
                          64430.53905
                        ],
                        "iteration": 49,
                        "passed_time": 0.175763154,
                        "remaining_time": 3.339499926
                      },
                      {
                        "learn": [
                          64422.69185
                        ],
                        "iteration": 50,
                        "passed_time": 0.1761941739,
                        "remaining_time": 3.27859355
                      },
                      {
                        "learn": [
                          64417.72478
                        ],
                        "iteration": 51,
                        "passed_time": 0.1797551967,
                        "remaining_time": 3.277075509
                      },
                      {
                        "learn": [
                          64416.54881
                        ],
                        "iteration": 52,
                        "passed_time": 0.1807796819,
                        "remaining_time": 3.230157712
                      },
                      {
                        "learn": [
                          64409.04047
                        ],
                        "iteration": 53,
                        "passed_time": 0.1812698897,
                        "remaining_time": 3.17557992
                      },
                      {
                        "learn": [
                          64405.6078
                        ],
                        "iteration": 54,
                        "passed_time": 0.1816419762,
                        "remaining_time": 3.12093941
                      },
                      {
                        "learn": [
                          64402.47784
                        ],
                        "iteration": 55,
                        "passed_time": 0.190296102,
                        "remaining_time": 3.207848576
                      },
                      {
                        "learn": [
                          64396.37429
                        ],
                        "iteration": 56,
                        "passed_time": 0.1907991128,
                        "remaining_time": 3.156553743
                      },
                      {
                        "learn": [
                          64390.96643
                        ],
                        "iteration": 57,
                        "passed_time": 0.1912859828,
                        "remaining_time": 3.106748204
                      },
                      {
                        "learn": [
                          64385.53897
                        ],
                        "iteration": 58,
                        "passed_time": 0.1998416635,
                        "remaining_time": 3.187305175
                      },
                      {
                        "learn": [
                          64381.02178
                        ],
                        "iteration": 59,
                        "passed_time": 0.2002644864,
                        "remaining_time": 3.137476954
                      },
                      {
                        "learn": [
                          64378.48906
                        ],
                        "iteration": 60,
                        "passed_time": 0.2006863225,
                        "remaining_time": 3.089253391
                      },
                      {
                        "learn": [
                          64376.10476
                        ],
                        "iteration": 61,
                        "passed_time": 0.2010893697,
                        "remaining_time": 3.04228756
                      },
                      {
                        "learn": [
                          64371.88654
                        ],
                        "iteration": 62,
                        "passed_time": 0.2123122336,
                        "remaining_time": 3.15772322
                      },
                      {
                        "learn": [
                          64369.81604
                        ],
                        "iteration": 63,
                        "passed_time": 0.2150934845,
                        "remaining_time": 3.14574221
                      },
                      {
                        "learn": [
                          64365.47804
                        ],
                        "iteration": 64,
                        "passed_time": 0.2157141625,
                        "remaining_time": 3.10296526
                      },
                      {
                        "learn": [
                          64362.05093
                        ],
                        "iteration": 65,
                        "passed_time": 0.2161771116,
                        "remaining_time": 3.059233671
                      },
                      {
                        "learn": [
                          64360.89269
                        ],
                        "iteration": 66,
                        "passed_time": 0.2165363588,
                        "remaining_time": 3.015349594
                      },
                      {
                        "learn": [
                          64359.83779
                        ],
                        "iteration": 67,
                        "passed_time": 0.2239800836,
                        "remaining_time": 3.069844676
                      },
                      {
                        "learn": [
                          64358.41836
                        ],
                        "iteration": 68,
                        "passed_time": 0.2292477548,
                        "remaining_time": 3.093183475
                      },
                      {
                        "learn": [
                          64355.03888
                        ],
                        "iteration": 69,
                        "passed_time": 0.2298005675,
                        "remaining_time": 3.053064682
                      },
                      {
                        "learn": [
                          64352.9158
                        ],
                        "iteration": 70,
                        "passed_time": 0.230213793,
                        "remaining_time": 3.012233995
                      },
                      {
                        "learn": [
                          64350.976
                        ],
                        "iteration": 71,
                        "passed_time": 0.2351030739,
                        "remaining_time": 3.030217397
                      },
                      {
                        "learn": [
                          64349.6401
                        ],
                        "iteration": 72,
                        "passed_time": 0.2373807826,
                        "remaining_time": 3.014410759
                      },
                      {
                        "learn": [
                          64348.42192
                        ],
                        "iteration": 73,
                        "passed_time": 0.2377857202,
                        "remaining_time": 2.975534823
                      },
                      {
                        "learn": [
                          64346.87114
                        ],
                        "iteration": 74,
                        "passed_time": 0.2382257021,
                        "remaining_time": 2.938116992
                      },
                      {
                        "learn": [
                          64345.45415
                        ],
                        "iteration": 75,
                        "passed_time": 0.2387070011,
                        "remaining_time": 2.902174592
                      },
                      {
                        "learn": [
                          64343.14601
                        ],
                        "iteration": 76,
                        "passed_time": 0.2578633695,
                        "remaining_time": 3.091011559
                      },
                      {
                        "learn": [
                          64342.35314
                        ],
                        "iteration": 77,
                        "passed_time": 0.2584092611,
                        "remaining_time": 3.054529984
                      },
                      {
                        "learn": [
                          64341.65834
                        ],
                        "iteration": 78,
                        "passed_time": 0.2693357077,
                        "remaining_time": 3.139977048
                      },
                      {
                        "learn": [
                          64341.13523
                        ],
                        "iteration": 79,
                        "passed_time": 0.2697297228,
                        "remaining_time": 3.101891812
                      },
                      {
                        "learn": [
                          64340.78341
                        ],
                        "iteration": 80,
                        "passed_time": 0.2700747997,
                        "remaining_time": 3.064181987
                      },
                      {
                        "learn": [
                          64339.71653
                        ],
                        "iteration": 81,
                        "passed_time": 0.2704723618,
                        "remaining_time": 3.027971074
                      },
                      {
                        "learn": [
                          64339.33117
                        ],
                        "iteration": 82,
                        "passed_time": 0.2865941373,
                        "remaining_time": 3.166347275
                      },
                      {
                        "learn": [
                          64338.09589
                        ],
                        "iteration": 83,
                        "passed_time": 0.2902772932,
                        "remaining_time": 3.165404769
                      },
                      {
                        "learn": [
                          64336.75513
                        ],
                        "iteration": 84,
                        "passed_time": 0.2908237344,
                        "remaining_time": 3.130631965
                      },
                      {
                        "learn": [
                          64336.12634
                        ],
                        "iteration": 85,
                        "passed_time": 0.2912158491,
                        "remaining_time": 3.095014954
                      },
                      {
                        "learn": [
                          64334.92858
                        ],
                        "iteration": 86,
                        "passed_time": 0.3026666386,
                        "remaining_time": 3.176260242
                      },
                      {
                        "learn": [
                          64334.20807
                        ],
                        "iteration": 87,
                        "passed_time": 0.3030774154,
                        "remaining_time": 3.140984124
                      },
                      {
                        "learn": [
                          64333.92669
                        ],
                        "iteration": 88,
                        "passed_time": 0.3034548557,
                        "remaining_time": 3.106150265
                      },
                      {
                        "learn": [
                          64333.02147
                        ],
                        "iteration": 89,
                        "passed_time": 0.3038434767,
                        "remaining_time": 3.072195153
                      },
                      {
                        "learn": [
                          64332.76539
                        ],
                        "iteration": 90,
                        "passed_time": 0.3221345411,
                        "remaining_time": 3.217805471
                      },
                      {
                        "learn": [
                          64332.7039
                        ],
                        "iteration": 91,
                        "passed_time": 0.3232674687,
                        "remaining_time": 3.190509365
                      },
                      {
                        "learn": [
                          64332.54043
                        ],
                        "iteration": 92,
                        "passed_time": 0.3236074087,
                        "remaining_time": 3.156042148
                      },
                      {
                        "learn": [
                          64332.3214
                        ],
                        "iteration": 93,
                        "passed_time": 0.3241014739,
                        "remaining_time": 3.123786546
                      },
                      {
                        "learn": [
                          64332.31176
                        ],
                        "iteration": 94,
                        "passed_time": 0.324441238,
                        "remaining_time": 3.090729689
                      },
                      {
                        "learn": [
                          64332.18568
                        ],
                        "iteration": 95,
                        "passed_time": 0.3456220113,
                        "remaining_time": 3.254607273
                      },
                      {
                        "learn": [
                          64331.25094
                        ],
                        "iteration": 96,
                        "passed_time": 0.3473464005,
                        "remaining_time": 3.233544326
                      },
                      {
                        "learn": [
                          64330.77439
                        ],
                        "iteration": 97,
                        "passed_time": 0.3478072423,
                        "remaining_time": 3.201246251
                      },
                      {
                        "learn": [
                          64330.73507
                        ],
                        "iteration": 98,
                        "passed_time": 0.3481295843,
                        "remaining_time": 3.168330863
                      },
                      {
                        "learn": [
                          64330.35587
                        ],
                        "iteration": 99,
                        "passed_time": 0.3568621783,
                        "remaining_time": 3.211759604
                      },
                      {
                        "learn": [
                          64330.11436
                        ],
                        "iteration": 100,
                        "passed_time": 0.3573602408,
                        "remaining_time": 3.180859965
                      },
                      {
                        "learn": [
                          64329.97564
                        ],
                        "iteration": 101,
                        "passed_time": 0.3577959762,
                        "remaining_time": 3.150007712
                      },
                      {
                        "learn": [
                          64329.6737
                        ],
                        "iteration": 102,
                        "passed_time": 0.3681917024,
                        "remaining_time": 3.20648502
                      },
                      {
                        "learn": [
                          64329.54563
                        ],
                        "iteration": 103,
                        "passed_time": 0.3698927557,
                        "remaining_time": 3.186768357
                      },
                      {
                        "learn": [
                          64329.34904
                        ],
                        "iteration": 104,
                        "passed_time": 0.370335224,
                        "remaining_time": 3.156666909
                      },
                      {
                        "learn": [
                          64328.37748
                        ],
                        "iteration": 105,
                        "passed_time": 0.3709474655,
                        "remaining_time": 3.128556926
                      },
                      {
                        "learn": [
                          64328.28077
                        ],
                        "iteration": 106,
                        "passed_time": 0.3713212262,
                        "remaining_time": 3.098970607
                      },
                      {
                        "learn": [
                          64327.57154
                        ],
                        "iteration": 107,
                        "passed_time": 0.3772930906,
                        "remaining_time": 3.116161452
                      },
                      {
                        "learn": [
                          64327.35117
                        ],
                        "iteration": 108,
                        "passed_time": 0.3804686748,
                        "remaining_time": 3.110069626
                      },
                      {
                        "learn": [
                          64327.28423
                        ],
                        "iteration": 109,
                        "passed_time": 0.3808779465,
                        "remaining_time": 3.08164884
                      },
                      {
                        "learn": [
                          64327.21775
                        ],
                        "iteration": 110,
                        "passed_time": 0.3812386165,
                        "remaining_time": 3.053343514
                      },
                      {
                        "learn": [
                          64326.61547
                        ],
                        "iteration": 111,
                        "passed_time": 0.3817683733,
                        "remaining_time": 3.026877817
                      },
                      {
                        "learn": [
                          64326.52346
                        ],
                        "iteration": 112,
                        "passed_time": 0.3821405507,
                        "remaining_time": 2.999634234
                      },
                      {
                        "learn": [
                          64326.04198
                        ],
                        "iteration": 113,
                        "passed_time": 0.389899171,
                        "remaining_time": 3.030268995
                      },
                      {
                        "learn": [
                          64326.01121
                        ],
                        "iteration": 114,
                        "passed_time": 0.3902662997,
                        "remaining_time": 3.003353698
                      },
                      {
                        "learn": [
                          64325.46067
                        ],
                        "iteration": 115,
                        "passed_time": 0.3907930728,
                        "remaining_time": 2.978112727
                      },
                      {
                        "learn": [
                          64325.16122
                        ],
                        "iteration": 116,
                        "passed_time": 0.3912789564,
                        "remaining_time": 2.952985628
                      },
                      {
                        "learn": [
                          64325.01701
                        ],
                        "iteration": 117,
                        "passed_time": 0.3916459401,
                        "remaining_time": 2.927387451
                      },
                      {
                        "learn": [
                          64324.39478
                        ],
                        "iteration": 118,
                        "passed_time": 0.4023715666,
                        "remaining_time": 2.978902102
                      },
                      {
                        "learn": [
                          64324.33518
                        ],
                        "iteration": 119,
                        "passed_time": 0.4031319118,
                        "remaining_time": 2.956300686
                      },
                      {
                        "learn": [
                          64324.32542
                        ],
                        "iteration": 120,
                        "passed_time": 0.403468539,
                        "remaining_time": 2.930982196
                      },
                      {
                        "learn": [
                          64324.07573
                        ],
                        "iteration": 121,
                        "passed_time": 0.4039357846,
                        "remaining_time": 2.907013269
                      },
                      {
                        "learn": [
                          64323.67328
                        ],
                        "iteration": 122,
                        "passed_time": 0.4044398431,
                        "remaining_time": 2.883688963
                      },
                      {
                        "learn": [
                          64323.56501
                        ],
                        "iteration": 123,
                        "passed_time": 0.407182986,
                        "remaining_time": 2.876550772
                      },
                      {
                        "learn": [
                          64323.5341
                        ],
                        "iteration": 124,
                        "passed_time": 0.4075418218,
                        "remaining_time": 2.852792753
                      },
                      {
                        "learn": [
                          64323.23324
                        ],
                        "iteration": 125,
                        "passed_time": 0.4079743872,
                        "remaining_time": 2.829917575
                      },
                      {
                        "learn": [
                          64322.8585
                        ],
                        "iteration": 126,
                        "passed_time": 0.4085171202,
                        "remaining_time": 2.808153117
                      },
                      {
                        "learn": [
                          64322.85263
                        ],
                        "iteration": 127,
                        "passed_time": 0.4088746305,
                        "remaining_time": 2.78545842
                      },
                      {
                        "learn": [
                          64322.771
                        ],
                        "iteration": 128,
                        "passed_time": 0.4128914437,
                        "remaining_time": 2.787817422
                      },
                      {
                        "learn": [
                          64322.74915
                        ],
                        "iteration": 129,
                        "passed_time": 0.42261887,
                        "remaining_time": 2.828295515
                      },
                      {
                        "learn": [
                          64322.54985
                        ],
                        "iteration": 130,
                        "passed_time": 0.4231068928,
                        "remaining_time": 2.806716716
                      },
                      {
                        "learn": [
                          64322.54022
                        ],
                        "iteration": 131,
                        "passed_time": 0.4234620622,
                        "remaining_time": 2.784583863
                      },
                      {
                        "learn": [
                          64322.23575
                        ],
                        "iteration": 132,
                        "passed_time": 0.4239881298,
                        "remaining_time": 2.763892545
                      },
                      {
                        "learn": [
                          64322.21928
                        ],
                        "iteration": 133,
                        "passed_time": 0.4243119804,
                        "remaining_time": 2.742195336
                      },
                      {
                        "learn": [
                          64322.05162
                        ],
                        "iteration": 134,
                        "passed_time": 0.4248473996,
                        "remaining_time": 2.722170375
                      },
                      {
                        "learn": [
                          64322.01751
                        ],
                        "iteration": 135,
                        "passed_time": 0.4252329114,
                        "remaining_time": 2.701479672
                      },
                      {
                        "learn": [
                          64321.86417
                        ],
                        "iteration": 136,
                        "passed_time": 0.4256269106,
                        "remaining_time": 2.68113886
                      },
                      {
                        "learn": [
                          64321.85791
                        ],
                        "iteration": 137,
                        "passed_time": 0.4259373764,
                        "remaining_time": 2.660565351
                      },
                      {
                        "learn": [
                          64321.85474
                        ],
                        "iteration": 138,
                        "passed_time": 0.4262471199,
                        "remaining_time": 2.640278923
                      },
                      {
                        "learn": [
                          64321.79175
                        ],
                        "iteration": 139,
                        "passed_time": 0.4320606319,
                        "remaining_time": 2.654086739
                      },
                      {
                        "learn": [
                          64321.78627
                        ],
                        "iteration": 140,
                        "passed_time": 0.4454036706,
                        "remaining_time": 2.71348761
                      },
                      {
                        "learn": [
                          64321.49302
                        ],
                        "iteration": 141,
                        "passed_time": 0.4458792732,
                        "remaining_time": 2.694115608
                      },
                      {
                        "learn": [
                          64321.49029
                        ],
                        "iteration": 142,
                        "passed_time": 0.4462735774,
                        "remaining_time": 2.67452067
                      },
                      {
                        "learn": [
                          64321.46511
                        ],
                        "iteration": 143,
                        "passed_time": 0.4467490409,
                        "remaining_time": 2.655674854
                      },
                      {
                        "learn": [
                          64321.46247
                        ],
                        "iteration": 144,
                        "passed_time": 0.4499787902,
                        "remaining_time": 2.653323211
                      },
                      {
                        "learn": [
                          64321.452
                        ],
                        "iteration": 145,
                        "passed_time": 0.4530130622,
                        "remaining_time": 2.649816131
                      },
                      {
                        "learn": [
                          64321.43345
                        ],
                        "iteration": 146,
                        "passed_time": 0.4534412997,
                        "remaining_time": 2.631193392
                      },
                      {
                        "learn": [
                          64321.38426
                        ],
                        "iteration": 147,
                        "passed_time": 0.4537975919,
                        "remaining_time": 2.612402353
                      },
                      {
                        "learn": [
                          64321.37642
                        ],
                        "iteration": 148,
                        "passed_time": 0.4541031117,
                        "remaining_time": 2.593568779
                      },
                      {
                        "learn": [
                          64321.32825
                        ],
                        "iteration": 149,
                        "passed_time": 0.4544835898,
                        "remaining_time": 2.575407009
                      },
                      {
                        "learn": [
                          64321.13356
                        ],
                        "iteration": 150,
                        "passed_time": 0.4549304586,
                        "remaining_time": 2.557854036
                      },
                      {
                        "learn": [
                          64320.82171
                        ],
                        "iteration": 151,
                        "passed_time": 0.4554447678,
                        "remaining_time": 2.540902389
                      },
                      {
                        "learn": [
                          64320.80144
                        ],
                        "iteration": 152,
                        "passed_time": 0.4558523468,
                        "remaining_time": 2.523574757
                      },
                      {
                        "learn": [
                          64320.51619
                        ],
                        "iteration": 153,
                        "passed_time": 0.4563375619,
                        "remaining_time": 2.506893359
                      },
                      {
                        "learn": [
                          64320.36544
                        ],
                        "iteration": 154,
                        "passed_time": 0.4566942422,
                        "remaining_time": 2.489720224
                      },
                      {
                        "learn": [
                          64320.36089
                        ],
                        "iteration": 155,
                        "passed_time": 0.457020041,
                        "remaining_time": 2.472595607
                      },
                      {
                        "learn": [
                          64320.35797
                        ],
                        "iteration": 156,
                        "passed_time": 0.4573479131,
                        "remaining_time": 2.455696119
                      },
                      {
                        "learn": [
                          64320.35721
                        ],
                        "iteration": 157,
                        "passed_time": 0.4577134591,
                        "remaining_time": 2.439207168
                      },
                      {
                        "learn": [
                          64320.20904
                        ],
                        "iteration": 158,
                        "passed_time": 0.4654290167,
                        "remaining_time": 2.461797503
                      },
                      {
                        "learn": [
                          64320.20116
                        ],
                        "iteration": 159,
                        "passed_time": 0.4658858712,
                        "remaining_time": 2.445900824
                      },
                      {
                        "learn": [
                          64320.13737
                        ],
                        "iteration": 160,
                        "passed_time": 0.466236646,
                        "remaining_time": 2.429643143
                      },
                      {
                        "learn": [
                          64320.07847
                        ],
                        "iteration": 161,
                        "passed_time": 0.4665581602,
                        "remaining_time": 2.413430483
                      },
                      {
                        "learn": [
                          64320.07711
                        ],
                        "iteration": 162,
                        "passed_time": 0.4668462819,
                        "remaining_time": 2.397241337
                      },
                      {
                        "learn": [
                          64320.07664
                        ],
                        "iteration": 163,
                        "passed_time": 0.4671331705,
                        "remaining_time": 2.38123982
                      },
                      {
                        "learn": [
                          64320.06944
                        ],
                        "iteration": 164,
                        "passed_time": 0.4674751174,
                        "remaining_time": 2.365707412
                      },
                      {
                        "learn": [
                          64320.00434
                        ],
                        "iteration": 165,
                        "passed_time": 0.4679007763,
                        "remaining_time": 2.350778599
                      },
                      {
                        "learn": [
                          64319.88559
                        ],
                        "iteration": 166,
                        "passed_time": 0.4682648595,
                        "remaining_time": 2.335716335
                      },
                      {
                        "learn": [
                          64319.87751
                        ],
                        "iteration": 167,
                        "passed_time": 0.4808722367,
                        "remaining_time": 2.381462506
                      },
                      {
                        "learn": [
                          64319.82584
                        ],
                        "iteration": 168,
                        "passed_time": 0.4825447136,
                        "remaining_time": 2.37274945
                      },
                      {
                        "learn": [
                          64319.82459
                        ],
                        "iteration": 169,
                        "passed_time": 0.4828271048,
                        "remaining_time": 2.357332335
                      },
                      {
                        "learn": [
                          64319.61707
                        ],
                        "iteration": 170,
                        "passed_time": 0.4834747347,
                        "remaining_time": 2.343862895
                      },
                      {
                        "learn": [
                          64319.57296
                        ],
                        "iteration": 171,
                        "passed_time": 0.4838465744,
                        "remaining_time": 2.329214905
                      },
                      {
                        "learn": [
                          64319.53219
                        ],
                        "iteration": 172,
                        "passed_time": 0.484275192,
                        "remaining_time": 2.315003374
                      },
                      {
                        "learn": [
                          64319.34744
                        ],
                        "iteration": 173,
                        "passed_time": 0.4846852979,
                        "remaining_time": 2.300862391
                      },
                      {
                        "learn": [
                          64319.33293
                        ],
                        "iteration": 174,
                        "passed_time": 0.4849987565,
                        "remaining_time": 2.286422709
                      },
                      {
                        "learn": [
                          64319.23527
                        ],
                        "iteration": 175,
                        "passed_time": 0.4853689925,
                        "remaining_time": 2.272409374
                      },
                      {
                        "learn": [
                          64319.12316
                        ],
                        "iteration": 176,
                        "passed_time": 0.485722566,
                        "remaining_time": 2.258472722
                      },
                      {
                        "learn": [
                          64319.11357
                        ],
                        "iteration": 177,
                        "passed_time": 0.4860430893,
                        "remaining_time": 2.244536064
                      },
                      {
                        "learn": [
                          64319.09832
                        ],
                        "iteration": 178,
                        "passed_time": 0.486514109,
                        "remaining_time": 2.231441807
                      },
                      {
                        "learn": [
                          64319.06466
                        ],
                        "iteration": 179,
                        "passed_time": 0.4869968967,
                        "remaining_time": 2.218541418
                      },
                      {
                        "learn": [
                          64319.06454
                        ],
                        "iteration": 180,
                        "passed_time": 0.4873043784,
                        "remaining_time": 2.204985005
                      },
                      {
                        "learn": [
                          64319.05405
                        ],
                        "iteration": 181,
                        "passed_time": 0.4877127893,
                        "remaining_time": 2.192027811
                      },
                      {
                        "learn": [
                          64319.05258
                        ],
                        "iteration": 182,
                        "passed_time": 0.5029652944,
                        "remaining_time": 2.245478937
                      },
                      {
                        "learn": [
                          64319.04995
                        ],
                        "iteration": 183,
                        "passed_time": 0.5032925441,
                        "remaining_time": 2.231993022
                      },
                      {
                        "learn": [
                          64319.01847
                        ],
                        "iteration": 184,
                        "passed_time": 0.5036570083,
                        "remaining_time": 2.218813307
                      },
                      {
                        "learn": [
                          64318.93536
                        ],
                        "iteration": 185,
                        "passed_time": 0.5040275288,
                        "remaining_time": 2.205797895
                      },
                      {
                        "learn": [
                          64318.90611
                        ],
                        "iteration": 186,
                        "passed_time": 0.5043870411,
                        "remaining_time": 2.192869863
                      },
                      {
                        "learn": [
                          64318.90412
                        ],
                        "iteration": 187,
                        "passed_time": 0.5046734119,
                        "remaining_time": 2.17975963
                      },
                      {
                        "learn": [
                          64318.87715
                        ],
                        "iteration": 188,
                        "passed_time": 0.5049818422,
                        "remaining_time": 2.166879757
                      },
                      {
                        "learn": [
                          64318.74453
                        ],
                        "iteration": 189,
                        "passed_time": 0.5054025183,
                        "remaining_time": 2.154610736
                      },
                      {
                        "learn": [
                          64318.71718
                        ],
                        "iteration": 190,
                        "passed_time": 0.505716861,
                        "remaining_time": 2.142015396
                      },
                      {
                        "learn": [
                          64318.71132
                        ],
                        "iteration": 191,
                        "passed_time": 0.5059969208,
                        "remaining_time": 2.129403709
                      },
                      {
                        "learn": [
                          64318.70513
                        ],
                        "iteration": 192,
                        "passed_time": 0.506298666,
                        "remaining_time": 2.117010484
                      },
                      {
                        "learn": [
                          64318.70469
                        ],
                        "iteration": 193,
                        "passed_time": 0.5065680325,
                        "remaining_time": 2.104607393
                      },
                      {
                        "learn": [
                          64318.64195
                        ],
                        "iteration": 194,
                        "passed_time": 0.5164366042,
                        "remaining_time": 2.131956238
                      },
                      {
                        "learn": [
                          64318.63233
                        ],
                        "iteration": 195,
                        "passed_time": 0.5191851703,
                        "remaining_time": 2.12971876
                      },
                      {
                        "learn": [
                          64318.61047
                        ],
                        "iteration": 196,
                        "passed_time": 0.5196647693,
                        "remaining_time": 2.118227461
                      },
                      {
                        "learn": [
                          64318.53537
                        ],
                        "iteration": 197,
                        "passed_time": 0.5203749618,
                        "remaining_time": 2.107781411
                      },
                      {
                        "learn": [
                          64318.52688
                        ],
                        "iteration": 198,
                        "passed_time": 0.5208132259,
                        "remaining_time": 2.096338663
                      },
                      {
                        "learn": [
                          64318.50273
                        ],
                        "iteration": 199,
                        "passed_time": 0.5212460054,
                        "remaining_time": 2.084984022
                      },
                      {
                        "learn": [
                          64318.50254
                        ],
                        "iteration": 200,
                        "passed_time": 0.5337057098,
                        "remaining_time": 2.121546578
                      },
                      {
                        "learn": [
                          64318.50237
                        ],
                        "iteration": 201,
                        "passed_time": 0.5385007544,
                        "remaining_time": 2.127344565
                      },
                      {
                        "learn": [
                          64318.50047
                        ],
                        "iteration": 202,
                        "passed_time": 0.5389759406,
                        "remaining_time": 2.116077954
                      },
                      {
                        "learn": [
                          64318.45285
                        ],
                        "iteration": 203,
                        "passed_time": 0.539511953,
                        "remaining_time": 2.105154483
                      },
                      {
                        "learn": [
                          64318.39038
                        ],
                        "iteration": 204,
                        "passed_time": 0.5399566036,
                        "remaining_time": 2.093978048
                      },
                      {
                        "learn": [
                          64318.37088
                        ],
                        "iteration": 205,
                        "passed_time": 0.551490157,
                        "remaining_time": 2.125646528
                      },
                      {
                        "learn": [
                          64318.3165
                        ],
                        "iteration": 206,
                        "passed_time": 0.5573334322,
                        "remaining_time": 2.135098607
                      },
                      {
                        "learn": [
                          64318.31575
                        ],
                        "iteration": 207,
                        "passed_time": 0.5619236452,
                        "remaining_time": 2.139632341
                      },
                      {
                        "learn": [
                          64318.31526
                        ],
                        "iteration": 208,
                        "passed_time": 0.5670305552,
                        "remaining_time": 2.146034302
                      },
                      {
                        "learn": [
                          64318.31511
                        ],
                        "iteration": 209,
                        "passed_time": 0.568583643,
                        "remaining_time": 2.138957514
                      },
                      {
                        "learn": [
                          64318.26096
                        ],
                        "iteration": 210,
                        "passed_time": 0.5697755009,
                        "remaining_time": 2.130582323
                      },
                      {
                        "learn": [
                          64318.19428
                        ],
                        "iteration": 211,
                        "passed_time": 0.5703201638,
                        "remaining_time": 2.119869288
                      },
                      {
                        "learn": [
                          64318.11604
                        ],
                        "iteration": 212,
                        "passed_time": 0.5707941432,
                        "remaining_time": 2.108990567
                      },
                      {
                        "learn": [
                          64318.04402
                        ],
                        "iteration": 213,
                        "passed_time": 0.5807205351,
                        "remaining_time": 2.132926825
                      },
                      {
                        "learn": [
                          64317.99194
                        ],
                        "iteration": 214,
                        "passed_time": 0.5850407776,
                        "remaining_time": 2.136079118
                      },
                      {
                        "learn": [
                          64317.99162
                        ],
                        "iteration": 215,
                        "passed_time": 0.5901227098,
                        "remaining_time": 2.141926873
                      },
                      {
                        "learn": [
                          64317.98241
                        ],
                        "iteration": 216,
                        "passed_time": 0.5905158981,
                        "remaining_time": 2.130755522
                      },
                      {
                        "learn": [
                          64317.97128
                        ],
                        "iteration": 217,
                        "passed_time": 0.5909890965,
                        "remaining_time": 2.119970062
                      },
                      {
                        "learn": [
                          64317.97081
                        ],
                        "iteration": 218,
                        "passed_time": 0.591388914,
                        "remaining_time": 2.109017086
                      },
                      {
                        "learn": [
                          64317.93505
                        ],
                        "iteration": 219,
                        "passed_time": 0.6025517641,
                        "remaining_time": 2.136319891
                      },
                      {
                        "learn": [
                          64317.93499
                        ],
                        "iteration": 220,
                        "passed_time": 0.6029387155,
                        "remaining_time": 2.125290766
                      },
                      {
                        "learn": [
                          64317.93436
                        ],
                        "iteration": 221,
                        "passed_time": 0.6033568029,
                        "remaining_time": 2.114466634
                      },
                      {
                        "learn": [
                          64317.90895
                        ],
                        "iteration": 222,
                        "passed_time": 0.6037663574,
                        "remaining_time": 2.103706097
                      },
                      {
                        "learn": [
                          64317.87877
                        ],
                        "iteration": 223,
                        "passed_time": 0.6079551279,
                        "remaining_time": 2.106130264
                      },
                      {
                        "learn": [
                          64317.82551
                        ],
                        "iteration": 224,
                        "passed_time": 0.6183586996,
                        "remaining_time": 2.129902188
                      },
                      {
                        "learn": [
                          64317.77647
                        ],
                        "iteration": 225,
                        "passed_time": 0.6190719603,
                        "remaining_time": 2.120184501
                      },
                      {
                        "learn": [
                          64317.77644
                        ],
                        "iteration": 226,
                        "passed_time": 0.6260213599,
                        "remaining_time": 2.131781988
                      },
                      {
                        "learn": [
                          64317.77631
                        ],
                        "iteration": 227,
                        "passed_time": 0.6467068211,
                        "remaining_time": 2.189726605
                      },
                      {
                        "learn": [
                          64317.73118
                        ],
                        "iteration": 228,
                        "passed_time": 0.6473053733,
                        "remaining_time": 2.179355645
                      },
                      {
                        "learn": [
                          64317.68964
                        ],
                        "iteration": 229,
                        "passed_time": 0.6478233057,
                        "remaining_time": 2.168799763
                      },
                      {
                        "learn": [
                          64317.68927
                        ],
                        "iteration": 230,
                        "passed_time": 0.6516228689,
                        "remaining_time": 2.169255351
                      },
                      {
                        "learn": [
                          64317.68919
                        ],
                        "iteration": 231,
                        "passed_time": 0.6519037678,
                        "remaining_time": 2.158026266
                      },
                      {
                        "learn": [
                          64317.68912
                        ],
                        "iteration": 232,
                        "passed_time": 0.652256328,
                        "remaining_time": 2.147127054
                      },
                      {
                        "learn": [
                          64317.65092
                        ],
                        "iteration": 233,
                        "passed_time": 0.6527365389,
                        "remaining_time": 2.13673585
                      },
                      {
                        "learn": [
                          64317.61575
                        ],
                        "iteration": 234,
                        "passed_time": 0.6687210341,
                        "remaining_time": 2.176900388
                      },
                      {
                        "learn": [
                          64317.58337
                        ],
                        "iteration": 235,
                        "passed_time": 0.6700380684,
                        "remaining_time": 2.169106289
                      },
                      {
                        "learn": [
                          64317.56047
                        ],
                        "iteration": 236,
                        "passed_time": 0.6705011107,
                        "remaining_time": 2.1586175
                      },
                      {
                        "learn": [
                          64317.53939
                        ],
                        "iteration": 237,
                        "passed_time": 0.6709463686,
                        "remaining_time": 2.14815602
                      },
                      {
                        "learn": [
                          64317.51304
                        ],
                        "iteration": 238,
                        "passed_time": 0.6819932283,
                        "remaining_time": 2.171534924
                      },
                      {
                        "learn": [
                          64317.49987
                        ],
                        "iteration": 239,
                        "passed_time": 0.6828131605,
                        "remaining_time": 2.162241675
                      },
                      {
                        "learn": [
                          64317.49978
                        ],
                        "iteration": 240,
                        "passed_time": 0.6832278288,
                        "remaining_time": 2.151742415
                      },
                      {
                        "learn": [
                          64317.49974
                        ],
                        "iteration": 241,
                        "passed_time": 0.6835564295,
                        "remaining_time": 2.141056916
                      },
                      {
                        "learn": [
                          64317.47657
                        ],
                        "iteration": 242,
                        "passed_time": 0.6904467621,
                        "remaining_time": 2.150897938
                      },
                      {
                        "learn": [
                          64317.45523
                        ],
                        "iteration": 243,
                        "passed_time": 0.6911269162,
                        "remaining_time": 2.141360445
                      },
                      {
                        "learn": [
                          64317.44212
                        ],
                        "iteration": 244,
                        "passed_time": 0.7311146881,
                        "remaining_time": 2.253026896
                      },
                      {
                        "learn": [
                          64317.42351
                        ],
                        "iteration": 245,
                        "passed_time": 0.7364685209,
                        "remaining_time": 2.257305954
                      },
                      {
                        "learn": [
                          64317.4124
                        ],
                        "iteration": 246,
                        "passed_time": 0.7413100809,
                        "remaining_time": 2.259945307
                      },
                      {
                        "learn": [
                          64317.40217
                        ],
                        "iteration": 247,
                        "passed_time": 0.7435084809,
                        "remaining_time": 2.254509587
                      },
                      {
                        "learn": [
                          64317.38672
                        ],
                        "iteration": 248,
                        "passed_time": 0.7440602594,
                        "remaining_time": 2.244133553
                      },
                      {
                        "learn": [
                          64317.37248
                        ],
                        "iteration": 249,
                        "passed_time": 0.7499687726,
                        "remaining_time": 2.249906318
                      },
                      {
                        "learn": [
                          64317.35938
                        ],
                        "iteration": 250,
                        "passed_time": 0.7506197494,
                        "remaining_time": 2.239897181
                      },
                      {
                        "learn": [
                          64317.34731
                        ],
                        "iteration": 251,
                        "passed_time": 0.7558259285,
                        "remaining_time": 2.243483312
                      },
                      {
                        "learn": [
                          64317.3455
                        ],
                        "iteration": 252,
                        "passed_time": 0.7562758452,
                        "remaining_time": 2.232956744
                      },
                      {
                        "learn": [
                          64317.34541
                        ],
                        "iteration": 253,
                        "passed_time": 0.7616072303,
                        "remaining_time": 2.236846432
                      },
                      {
                        "learn": [
                          64317.34537
                        ],
                        "iteration": 254,
                        "passed_time": 0.7619942367,
                        "remaining_time": 2.226218456
                      },
                      {
                        "learn": [
                          64317.33442
                        ],
                        "iteration": 255,
                        "passed_time": 0.7625651733,
                        "remaining_time": 2.216205035
                      },
                      {
                        "learn": [
                          64317.32434
                        ],
                        "iteration": 256,
                        "passed_time": 0.7717327086,
                        "remaining_time": 2.231118298
                      },
                      {
                        "learn": [
                          64317.3202
                        ],
                        "iteration": 257,
                        "passed_time": 0.7800649183,
                        "remaining_time": 2.243442517
                      },
                      {
                        "learn": [
                          64317.3149
                        ],
                        "iteration": 258,
                        "passed_time": 0.7806226865,
                        "remaining_time": 2.23336452
                      },
                      {
                        "learn": [
                          64317.30636
                        ],
                        "iteration": 259,
                        "passed_time": 0.7811401835,
                        "remaining_time": 2.223245138
                      },
                      {
                        "learn": [
                          64317.29849
                        ],
                        "iteration": 260,
                        "passed_time": 0.7911062098,
                        "remaining_time": 2.239952065
                      },
                      {
                        "learn": [
                          64317.29435
                        ],
                        "iteration": 261,
                        "passed_time": 0.7925958695,
                        "remaining_time": 2.232579205
                      },
                      {
                        "learn": [
                          64317.28744
                        ],
                        "iteration": 262,
                        "passed_time": 0.7931018522,
                        "remaining_time": 2.222494544
                      },
                      {
                        "learn": [
                          64317.28108
                        ],
                        "iteration": 263,
                        "passed_time": 0.7936353763,
                        "remaining_time": 2.212559231
                      },
                      {
                        "learn": [
                          64317.27521
                        ],
                        "iteration": 264,
                        "passed_time": 0.7940787524,
                        "remaining_time": 2.202444842
                      },
                      {
                        "learn": [
                          64317.2709
                        ],
                        "iteration": 265,
                        "passed_time": 0.8059669275,
                        "remaining_time": 2.223983928
                      },
                      {
                        "learn": [
                          64317.26584
                        ],
                        "iteration": 266,
                        "passed_time": 0.8066331095,
                        "remaining_time": 2.214464679
                      },
                      {
                        "learn": [
                          64317.26118
                        ],
                        "iteration": 267,
                        "passed_time": 0.8227869174,
                        "remaining_time": 2.247313521
                      },
                      {
                        "learn": [
                          64317.26058
                        ],
                        "iteration": 268,
                        "passed_time": 0.8233170429,
                        "remaining_time": 2.237341109
                      },
                      {
                        "learn": [
                          64317.25806
                        ],
                        "iteration": 269,
                        "passed_time": 0.8238578807,
                        "remaining_time": 2.227467603
                      },
                      {
                        "learn": [
                          64317.25401
                        ],
                        "iteration": 270,
                        "passed_time": 0.8243996355,
                        "remaining_time": 2.21766544
                      },
                      {
                        "learn": [
                          64317.25385
                        ],
                        "iteration": 271,
                        "passed_time": 0.8340902806,
                        "remaining_time": 2.232418104
                      },
                      {
                        "learn": [
                          64317.25183
                        ],
                        "iteration": 272,
                        "passed_time": 0.8352944069,
                        "remaining_time": 2.224392065
                      },
                      {
                        "learn": [
                          64317.25163
                        ],
                        "iteration": 273,
                        "passed_time": 0.8357494413,
                        "remaining_time": 2.214431001
                      },
                      {
                        "learn": [
                          64317.2481
                        ],
                        "iteration": 274,
                        "passed_time": 0.8363414261,
                        "remaining_time": 2.204900123
                      },
                      {
                        "learn": [
                          64317.24485
                        ],
                        "iteration": 275,
                        "passed_time": 0.8390674896,
                        "remaining_time": 2.20103211
                      },
                      {
                        "learn": [
                          64317.24185
                        ],
                        "iteration": 276,
                        "passed_time": 0.8396475868,
                        "remaining_time": 2.191571138
                      },
                      {
                        "learn": [
                          64317.2391
                        ],
                        "iteration": 277,
                        "passed_time": 0.84022838,
                        "remaining_time": 2.182175865
                      },
                      {
                        "learn": [
                          64317.23655
                        ],
                        "iteration": 278,
                        "passed_time": 0.840792656,
                        "remaining_time": 2.172801093
                      },
                      {
                        "learn": [
                          64317.23535
                        ],
                        "iteration": 279,
                        "passed_time": 0.8638037359,
                        "remaining_time": 2.221209607
                      },
                      {
                        "learn": [
                          64317.2331
                        ],
                        "iteration": 280,
                        "passed_time": 0.8644271917,
                        "remaining_time": 2.21182616
                      },
                      {
                        "learn": [
                          64317.23103
                        ],
                        "iteration": 281,
                        "passed_time": 0.8650219633,
                        "remaining_time": 2.202431807
                      },
                      {
                        "learn": [
                          64317.22913
                        ],
                        "iteration": 282,
                        "passed_time": 0.8660730954,
                        "remaining_time": 2.194255864
                      },
                      {
                        "learn": [
                          64317.22913
                        ],
                        "iteration": 283,
                        "passed_time": 0.8765959639,
                        "remaining_time": 2.210009543
                      },
                      {
                        "learn": [
                          64317.22737
                        ],
                        "iteration": 284,
                        "passed_time": 0.8771548607,
                        "remaining_time": 2.200581493
                      },
                      {
                        "learn": [
                          64317.22575
                        ],
                        "iteration": 285,
                        "passed_time": 0.8777075302,
                        "remaining_time": 2.191199918
                      },
                      {
                        "learn": [
                          64317.22426
                        ],
                        "iteration": 286,
                        "passed_time": 0.8904823938,
                        "remaining_time": 2.212243717
                      },
                      {
                        "learn": [
                          64317.22289
                        ],
                        "iteration": 287,
                        "passed_time": 0.8925513081,
                        "remaining_time": 2.206585178
                      },
                      {
                        "learn": [
                          64317.22163
                        ],
                        "iteration": 288,
                        "passed_time": 0.8931141918,
                        "remaining_time": 2.197246334
                      },
                      {
                        "learn": [
                          64317.22046
                        ],
                        "iteration": 289,
                        "passed_time": 0.8938333481,
                        "remaining_time": 2.188350611
                      },
                      {
                        "learn": [
                          64317.21938
                        ],
                        "iteration": 290,
                        "passed_time": 0.8972786169,
                        "remaining_time": 2.186153056
                      },
                      {
                        "learn": [
                          64317.21839
                        ],
                        "iteration": 291,
                        "passed_time": 0.8979696917,
                        "remaining_time": 2.177268978
                      },
                      {
                        "learn": [
                          64317.21748
                        ],
                        "iteration": 292,
                        "passed_time": 0.8995204176,
                        "remaining_time": 2.170515137
                      },
                      {
                        "learn": [
                          64317.21664
                        ],
                        "iteration": 293,
                        "passed_time": 0.9017052632,
                        "remaining_time": 2.165319441
                      },
                      {
                        "learn": [
                          64317.21587
                        ],
                        "iteration": 294,
                        "passed_time": 0.9022912801,
                        "remaining_time": 2.156323229
                      },
                      {
                        "learn": [
                          64317.21515
                        ],
                        "iteration": 295,
                        "passed_time": 0.9028327553,
                        "remaining_time": 2.147277904
                      },
                      {
                        "learn": [
                          64317.21449
                        ],
                        "iteration": 296,
                        "passed_time": 0.9178625221,
                        "remaining_time": 2.17258368
                      },
                      {
                        "learn": [
                          64317.21389
                        ],
                        "iteration": 297,
                        "passed_time": 0.9184580501,
                        "remaining_time": 2.163615943
                      },
                      {
                        "learn": [
                          64317.21333
                        ],
                        "iteration": 298,
                        "passed_time": 0.9189767193,
                        "remaining_time": 2.154524014
                      },
                      {
                        "learn": [
                          64317.21281
                        ],
                        "iteration": 299,
                        "passed_time": 0.9194885326,
                        "remaining_time": 2.145473243
                      },
                      {
                        "learn": [
                          64317.21234
                        ],
                        "iteration": 300,
                        "passed_time": 0.9413940153,
                        "remaining_time": 2.186160853
                      },
                      {
                        "learn": [
                          64317.2119
                        ],
                        "iteration": 301,
                        "passed_time": 0.944316277,
                        "remaining_time": 2.182558813
                      },
                      {
                        "learn": [
                          64317.21149
                        ],
                        "iteration": 302,
                        "passed_time": 0.9487195652,
                        "remaining_time": 2.182368109
                      },
                      {
                        "learn": [
                          64317.21112
                        ],
                        "iteration": 303,
                        "passed_time": 0.9492945255,
                        "remaining_time": 2.173384835
                      },
                      {
                        "learn": [
                          64317.21078
                        ],
                        "iteration": 304,
                        "passed_time": 0.9499035183,
                        "remaining_time": 2.164534247
                      },
                      {
                        "learn": [
                          64317.21046
                        ],
                        "iteration": 305,
                        "passed_time": 0.9912856141,
                        "remaining_time": 2.248209857
                      },
                      {
                        "learn": [
                          64317.21017
                        ],
                        "iteration": 306,
                        "passed_time": 0.9920534649,
                        "remaining_time": 2.239391046
                      },
                      {
                        "learn": [
                          64317.2099
                        ],
                        "iteration": 307,
                        "passed_time": 0.9927465384,
                        "remaining_time": 2.230456508
                      },
                      {
                        "learn": [
                          64317.20965
                        ],
                        "iteration": 308,
                        "passed_time": 1.00950717,
                        "remaining_time": 2.257506326
                      },
                      {
                        "learn": [
                          64317.20943
                        ],
                        "iteration": 309,
                        "passed_time": 1.010446809,
                        "remaining_time": 2.249059027
                      },
                      {
                        "learn": [
                          64317.20922
                        ],
                        "iteration": 310,
                        "passed_time": 1.01105472,
                        "remaining_time": 2.239925087
                      },
                      {
                        "learn": [
                          64317.20902
                        ],
                        "iteration": 311,
                        "passed_time": 1.011624646,
                        "remaining_time": 2.230762039
                      },
                      {
                        "learn": [
                          64317.20884
                        ],
                        "iteration": 312,
                        "passed_time": 1.018147818,
                        "remaining_time": 2.23472061
                      },
                      {
                        "learn": [
                          64317.20868
                        ],
                        "iteration": 313,
                        "passed_time": 1.018750955,
                        "remaining_time": 2.225678838
                      },
                      {
                        "learn": [
                          64317.20853
                        ],
                        "iteration": 314,
                        "passed_time": 1.019279473,
                        "remaining_time": 2.216528377
                      },
                      {
                        "learn": [
                          64317.20838
                        ],
                        "iteration": 315,
                        "passed_time": 1.021915696,
                        "remaining_time": 2.211994734
                      },
                      {
                        "learn": [
                          64317.20826
                        ],
                        "iteration": 316,
                        "passed_time": 1.022428859,
                        "remaining_time": 2.202898773
                      },
                      {
                        "learn": [
                          64317.20814
                        ],
                        "iteration": 317,
                        "passed_time": 1.022983563,
                        "remaining_time": 2.193945881
                      },
                      {
                        "learn": [
                          64317.20803
                        ],
                        "iteration": 318,
                        "passed_time": 1.037091962,
                        "remaining_time": 2.213980018
                      },
                      {
                        "learn": [
                          64317.20792
                        ],
                        "iteration": 319,
                        "passed_time": 1.037726886,
                        "remaining_time": 2.205169633
                      },
                      {
                        "learn": [
                          64317.20783
                        ],
                        "iteration": 320,
                        "passed_time": 1.038313463,
                        "remaining_time": 2.196307918
                      },
                      {
                        "learn": [
                          64317.20775
                        ],
                        "iteration": 321,
                        "passed_time": 1.03882751,
                        "remaining_time": 2.187344881
                      },
                      {
                        "learn": [
                          64317.20767
                        ],
                        "iteration": 322,
                        "passed_time": 1.046445957,
                        "remaining_time": 2.193324807
                      },
                      {
                        "learn": [
                          64317.20759
                        ],
                        "iteration": 323,
                        "passed_time": 1.068992783,
                        "remaining_time": 2.230367658
                      },
                      {
                        "learn": [
                          64317.20752
                        ],
                        "iteration": 324,
                        "passed_time": 1.06956977,
                        "remaining_time": 2.221414138
                      },
                      {
                        "learn": [
                          64317.20746
                        ],
                        "iteration": 325,
                        "passed_time": 1.070168179,
                        "remaining_time": 2.212556296
                      },
                      {
                        "learn": [
                          64317.2074
                        ],
                        "iteration": 326,
                        "passed_time": 1.083888244,
                        "remaining_time": 2.230754703
                      },
                      {
                        "learn": [
                          64317.20735
                        ],
                        "iteration": 327,
                        "passed_time": 1.084385166,
                        "remaining_time": 2.221667169
                      },
                      {
                        "learn": [
                          64317.2073
                        ],
                        "iteration": 328,
                        "passed_time": 1.084813009,
                        "remaining_time": 2.21249097
                      },
                      {
                        "learn": [
                          64317.20726
                        ],
                        "iteration": 329,
                        "passed_time": 1.085203017,
                        "remaining_time": 2.203290974
                      },
                      {
                        "learn": [
                          64317.20722
                        ],
                        "iteration": 330,
                        "passed_time": 1.09485138,
                        "remaining_time": 2.212856718
                      },
                      {
                        "learn": [
                          64317.20718
                        ],
                        "iteration": 331,
                        "passed_time": 1.095321661,
                        "remaining_time": 2.203839969
                      },
                      {
                        "learn": [
                          64317.20714
                        ],
                        "iteration": 332,
                        "passed_time": 1.09572251,
                        "remaining_time": 2.194735478
                      },
                      {
                        "learn": [
                          64317.20711
                        ],
                        "iteration": 333,
                        "passed_time": 1.108217798,
                        "remaining_time": 2.209799561
                      },
                      {
                        "learn": [
                          64317.20708
                        ],
                        "iteration": 334,
                        "passed_time": 1.108828504,
                        "remaining_time": 2.201107329
                      },
                      {
                        "learn": [
                          64317.20705
                        ],
                        "iteration": 335,
                        "passed_time": 1.123772042,
                        "remaining_time": 2.220787606
                      },
                      {
                        "learn": [
                          64317.20703
                        ],
                        "iteration": 336,
                        "passed_time": 1.124246556,
                        "remaining_time": 2.211796637
                      },
                      {
                        "learn": [
                          64317.207
                        ],
                        "iteration": 337,
                        "passed_time": 1.124653534,
                        "remaining_time": 2.202723786
                      },
                      {
                        "learn": [
                          64317.20698
                        ],
                        "iteration": 338,
                        "passed_time": 1.138064416,
                        "remaining_time": 2.219057754
                      },
                      {
                        "learn": [
                          64317.20696
                        ],
                        "iteration": 339,
                        "passed_time": 1.138523886,
                        "remaining_time": 2.210075778
                      },
                      {
                        "learn": [
                          64317.20694
                        ],
                        "iteration": 340,
                        "passed_time": 1.139018125,
                        "remaining_time": 2.20121098
                      },
                      {
                        "learn": [
                          64317.20692
                        ],
                        "iteration": 341,
                        "passed_time": 1.155484071,
                        "remaining_time": 2.223124324
                      },
                      {
                        "learn": [
                          64317.20691
                        ],
                        "iteration": 342,
                        "passed_time": 1.156051651,
                        "remaining_time": 2.214361325
                      },
                      {
                        "learn": [
                          64317.20689
                        ],
                        "iteration": 343,
                        "passed_time": 1.156482994,
                        "remaining_time": 2.205386175
                      },
                      {
                        "learn": [
                          64317.20688
                        ],
                        "iteration": 344,
                        "passed_time": 1.156876942,
                        "remaining_time": 2.196389557
                      },
                      {
                        "learn": [
                          64317.20687
                        ],
                        "iteration": 345,
                        "passed_time": 1.168549252,
                        "remaining_time": 2.208760724
                      },
                      {
                        "learn": [
                          64317.20686
                        ],
                        "iteration": 346,
                        "passed_time": 1.177160309,
                        "remaining_time": 2.215232513
                      },
                      {
                        "learn": [
                          64317.20685
                        ],
                        "iteration": 347,
                        "passed_time": 1.177658446,
                        "remaining_time": 2.206417549
                      },
                      {
                        "learn": [
                          64317.20684
                        ],
                        "iteration": 348,
                        "passed_time": 1.178086252,
                        "remaining_time": 2.197519055
                      },
                      {
                        "learn": [
                          64317.20683
                        ],
                        "iteration": 349,
                        "passed_time": 1.178487393,
                        "remaining_time": 2.188619443
                      },
                      {
                        "learn": [
                          64317.20682
                        ],
                        "iteration": 350,
                        "passed_time": 1.178918386,
                        "remaining_time": 2.179823455
                      },
                      {
                        "learn": [
                          64317.20681
                        ],
                        "iteration": 351,
                        "passed_time": 1.179308882,
                        "remaining_time": 2.171000441
                      },
                      {
                        "learn": [
                          64317.2068
                        ],
                        "iteration": 352,
                        "passed_time": 1.194689812,
                        "remaining_time": 2.189700591
                      },
                      {
                        "learn": [
                          64317.2068
                        ],
                        "iteration": 353,
                        "passed_time": 1.195229822,
                        "remaining_time": 2.181125608
                      },
                      {
                        "learn": [
                          64317.20679
                        ],
                        "iteration": 354,
                        "passed_time": 1.208876461,
                        "remaining_time": 2.196409345
                      },
                      {
                        "learn": [
                          64317.20679
                        ],
                        "iteration": 355,
                        "passed_time": 1.209523439,
                        "remaining_time": 2.188014312
                      },
                      {
                        "learn": [
                          64317.20678
                        ],
                        "iteration": 356,
                        "passed_time": 1.210096233,
                        "remaining_time": 2.179529069
                      },
                      {
                        "learn": [
                          64317.20678
                        ],
                        "iteration": 357,
                        "passed_time": 1.210629483,
                        "remaining_time": 2.171017117
                      },
                      {
                        "learn": [
                          64317.20677
                        ],
                        "iteration": 358,
                        "passed_time": 1.22736821,
                        "remaining_time": 2.191484743
                      },
                      {
                        "learn": [
                          64317.20677
                        ],
                        "iteration": 359,
                        "passed_time": 1.228044235,
                        "remaining_time": 2.18318975
                      },
                      {
                        "learn": [
                          64317.20676
                        ],
                        "iteration": 360,
                        "passed_time": 1.228596052,
                        "remaining_time": 2.174717111
                      },
                      {
                        "learn": [
                          64317.20676
                        ],
                        "iteration": 361,
                        "passed_time": 1.243460895,
                        "remaining_time": 2.191513954
                      },
                      {
                        "learn": [
                          64317.20676
                        ],
                        "iteration": 362,
                        "passed_time": 1.244083739,
                        "remaining_time": 2.183144191
                      },
                      {
                        "learn": [
                          64317.20675
                        ],
                        "iteration": 363,
                        "passed_time": 1.248704242,
                        "remaining_time": 2.181801917
                      },
                      {
                        "learn": [
                          64317.20675
                        ],
                        "iteration": 364,
                        "passed_time": 1.255393627,
                        "remaining_time": 2.184040968
                      },
                      {
                        "learn": [
                          64317.20675
                        ],
                        "iteration": 365,
                        "passed_time": 1.256022477,
                        "remaining_time": 2.175732924
                      },
                      {
                        "learn": [
                          64317.20675
                        ],
                        "iteration": 366,
                        "passed_time": 1.256597571,
                        "remaining_time": 2.167374013
                      },
                      {
                        "learn": [
                          64317.20675
                        ],
                        "iteration": 367,
                        "passed_time": 1.257133769,
                        "remaining_time": 2.158990603
                      },
                      {
                        "learn": [
                          64317.20674
                        ],
                        "iteration": 368,
                        "passed_time": 1.278631182,
                        "remaining_time": 2.186493972
                      },
                      {
                        "learn": [
                          64317.20674
                        ],
                        "iteration": 369,
                        "passed_time": 1.279242634,
                        "remaining_time": 2.178169891
                      },
                      {
                        "learn": [
                          64317.20674
                        ],
                        "iteration": 370,
                        "passed_time": 1.279787929,
                        "remaining_time": 2.169775222
                      },
                      {
                        "learn": [
                          64317.20674
                        ],
                        "iteration": 371,
                        "passed_time": 1.302601332,
                        "remaining_time": 2.199015152
                      },
                      {
                        "learn": [
                          64317.20674
                        ],
                        "iteration": 372,
                        "passed_time": 1.30322676,
                        "remaining_time": 2.190678763
                      },
                      {
                        "learn": [
                          64317.20674
                        ],
                        "iteration": 373,
                        "passed_time": 1.312840195,
                        "remaining_time": 2.197427706
                      },
                      {
                        "learn": [
                          64317.20673
                        ],
                        "iteration": 374,
                        "passed_time": 1.31974081,
                        "remaining_time": 2.199568017
                      },
                      {
                        "learn": [
                          64317.20673
                        ],
                        "iteration": 375,
                        "passed_time": 1.320328102,
                        "remaining_time": 2.191182808
                      },
                      {
                        "learn": [
                          64317.20673
                        ],
                        "iteration": 376,
                        "passed_time": 1.320895312,
                        "remaining_time": 2.182805781
                      },
                      {
                        "learn": [
                          64317.20673
                        ],
                        "iteration": 377,
                        "passed_time": 1.337497165,
                        "remaining_time": 2.200855123
                      },
                      {
                        "learn": [
                          64317.20673
                        ],
                        "iteration": 378,
                        "passed_time": 1.350024103,
                        "remaining_time": 2.21204477
                      },
                      {
                        "learn": [
                          64317.20673
                        ],
                        "iteration": 379,
                        "passed_time": 1.350661358,
                        "remaining_time": 2.203710636
                      },
                      {
                        "learn": [
                          64317.20673
                        ],
                        "iteration": 380,
                        "passed_time": 1.367841236,
                        "remaining_time": 2.222293242
                      },
                      {
                        "learn": [
                          64317.20673
                        ],
                        "iteration": 381,
                        "passed_time": 1.368518899,
                        "remaining_time": 2.213991307
                      },
                      {
                        "learn": [
                          64317.20673
                        ],
                        "iteration": 382,
                        "passed_time": 1.36909487,
                        "remaining_time": 2.205565365
                      },
                      {
                        "learn": [
                          64317.20673
                        ],
                        "iteration": 383,
                        "passed_time": 1.369648703,
                        "remaining_time": 2.197144794
                      },
                      {
                        "learn": [
                          64317.20673
                        ],
                        "iteration": 384,
                        "passed_time": 1.394008256,
                        "remaining_time": 2.22679241
                      },
                      {
                        "learn": [
                          64317.20673
                        ],
                        "iteration": 385,
                        "passed_time": 1.394610693,
                        "remaining_time": 2.218370377
                      },
                      {
                        "learn": [
                          64317.20673
                        ],
                        "iteration": 386,
                        "passed_time": 1.395182795,
                        "remaining_time": 2.209940706
                      },
                      {
                        "learn": [
                          64317.20672
                        ],
                        "iteration": 387,
                        "passed_time": 1.419033886,
                        "remaining_time": 2.238269944
                      },
                      {
                        "learn": [
                          64317.20672
                        ],
                        "iteration": 388,
                        "passed_time": 1.419661765,
                        "remaining_time": 2.229854341
                      },
                      {
                        "learn": [
                          64317.20672
                        ],
                        "iteration": 389,
                        "passed_time": 1.420242222,
                        "remaining_time": 2.221404501
                      },
                      {
                        "learn": [
                          64317.20672
                        ],
                        "iteration": 390,
                        "passed_time": 1.424697415,
                        "remaining_time": 2.219029988
                      },
                      {
                        "learn": [
                          64317.20672
                        ],
                        "iteration": 391,
                        "passed_time": 1.438338998,
                        "remaining_time": 2.23089314
                      },
                      {
                        "learn": [
                          64317.20672
                        ],
                        "iteration": 392,
                        "passed_time": 1.446842743,
                        "remaining_time": 2.234690954
                      },
                      {
                        "learn": [
                          64317.20672
                        ],
                        "iteration": 393,
                        "passed_time": 1.458492351,
                        "remaining_time": 2.243264886
                      },
                      {
                        "learn": [
                          64317.20672
                        ],
                        "iteration": 394,
                        "passed_time": 1.459043405,
                        "remaining_time": 2.234737367
                      },
                      {
                        "learn": [
                          64317.20672
                        ],
                        "iteration": 395,
                        "passed_time": 1.459582782,
                        "remaining_time": 2.226232325
                      },
                      {
                        "learn": [
                          64317.20672
                        ],
                        "iteration": 396,
                        "passed_time": 1.470082618,
                        "remaining_time": 2.232896269
                      },
                      {
                        "learn": [
                          64317.20672
                        ],
                        "iteration": 397,
                        "passed_time": 1.470717277,
                        "remaining_time": 2.224552264
                      },
                      {
                        "learn": [
                          64317.20672
                        ],
                        "iteration": 398,
                        "passed_time": 1.471265883,
                        "remaining_time": 2.216117283
                      },
                      {
                        "learn": [
                          64317.20672
                        ],
                        "iteration": 399,
                        "passed_time": 1.474059767,
                        "remaining_time": 2.21108965
                      },
                      {
                        "learn": [
                          64317.20672
                        ],
                        "iteration": 400,
                        "passed_time": 1.474630521,
                        "remaining_time": 2.202752324
                      },
                      {
                        "learn": [
                          64317.20672
                        ],
                        "iteration": 401,
                        "passed_time": 1.475196805,
                        "remaining_time": 2.194446988
                      },
                      {
                        "learn": [
                          64317.20672
                        ],
                        "iteration": 402,
                        "passed_time": 1.475734784,
                        "remaining_time": 2.186138129
                      },
                      {
                        "learn": [
                          64317.20672
                        ],
                        "iteration": 403,
                        "passed_time": 1.494136972,
                        "remaining_time": 2.20422187
                      },
                      {
                        "learn": [
                          64317.20672
                        ],
                        "iteration": 404,
                        "passed_time": 1.494719939,
                        "remaining_time": 2.195946577
                      },
                      {
                        "learn": [
                          64317.20672
                        ],
                        "iteration": 405,
                        "passed_time": 1.495261565,
                        "remaining_time": 2.187648694
                      },
                      {
                        "learn": [
                          64317.20672
                        ],
                        "iteration": 406,
                        "passed_time": 1.528255868,
                        "remaining_time": 2.226672555
                      },
                      {
                        "learn": [
                          64317.20672
                        ],
                        "iteration": 407,
                        "passed_time": 1.528822289,
                        "remaining_time": 2.218291164
                      },
                      {
                        "learn": [
                          64317.20672
                        ],
                        "iteration": 408,
                        "passed_time": 1.529322552,
                        "remaining_time": 2.209852391
                      },
                      {
                        "learn": [
                          64317.20672
                        ],
                        "iteration": 409,
                        "passed_time": 1.529858049,
                        "remaining_time": 2.201503046
                      },
                      {
                        "learn": [
                          64317.20672
                        ],
                        "iteration": 410,
                        "passed_time": 1.553636878,
                        "remaining_time": 2.226501511
                      },
                      {
                        "learn": [
                          64317.20672
                        ],
                        "iteration": 411,
                        "passed_time": 1.558262918,
                        "remaining_time": 2.22392863
                      },
                      {
                        "learn": [
                          64317.20672
                        ],
                        "iteration": 412,
                        "passed_time": 1.55880807,
                        "remaining_time": 2.21554561
                      },
                      {
                        "learn": [
                          64317.20672
                        ],
                        "iteration": 413,
                        "passed_time": 1.55934107,
                        "remaining_time": 2.207183253
                      },
                      {
                        "learn": [
                          64317.20672
                        ],
                        "iteration": 414,
                        "passed_time": 1.559850582,
                        "remaining_time": 2.198825519
                      },
                      {
                        "learn": [
                          64317.20672
                        ],
                        "iteration": 415,
                        "passed_time": 1.582089831,
                        "remaining_time": 2.221010725
                      },
                      {
                        "learn": [
                          64317.20672
                        ],
                        "iteration": 416,
                        "passed_time": 1.582628811,
                        "remaining_time": 2.212644116
                      },
                      {
                        "learn": [
                          64317.20672
                        ],
                        "iteration": 417,
                        "passed_time": 1.583159701,
                        "remaining_time": 2.204303698
                      },
                      {
                        "learn": [
                          64317.20672
                        ],
                        "iteration": 418,
                        "passed_time": 1.583657144,
                        "remaining_time": 2.195954178
                      },
                      {
                        "learn": [
                          64317.20672
                        ],
                        "iteration": 419,
                        "passed_time": 1.603128519,
                        "remaining_time": 2.213844145
                      },
                      {
                        "learn": [
                          64317.20672
                        ],
                        "iteration": 420,
                        "passed_time": 1.603673101,
                        "remaining_time": 2.205526663
                      },
                      {
                        "learn": [
                          64317.20672
                        ],
                        "iteration": 421,
                        "passed_time": 1.604197298,
                        "remaining_time": 2.1972181
                      },
                      {
                        "learn": [
                          64317.20672
                        ],
                        "iteration": 422,
                        "passed_time": 1.623784105,
                        "remaining_time": 2.214949004
                      },
                      {
                        "learn": [
                          64317.20672
                        ],
                        "iteration": 423,
                        "passed_time": 1.624301,
                        "remaining_time": 2.206597585
                      },
                      {
                        "learn": [
                          64317.20672
                        ],
                        "iteration": 424,
                        "passed_time": 1.624824123,
                        "remaining_time": 2.19829146
                      },
                      {
                        "learn": [
                          64317.20672
                        ],
                        "iteration": 425,
                        "passed_time": 1.637844494,
                        "remaining_time": 2.206860891
                      },
                      {
                        "learn": [
                          64317.20672
                        ],
                        "iteration": 426,
                        "passed_time": 1.642072808,
                        "remaining_time": 2.203530958
                      },
                      {
                        "learn": [
                          64317.20672
                        ],
                        "iteration": 427,
                        "passed_time": 1.642603082,
                        "remaining_time": 2.195254587
                      },
                      {
                        "learn": [
                          64317.20672
                        ],
                        "iteration": 428,
                        "passed_time": 1.643123639,
                        "remaining_time": 2.187001394
                      },
                      {
                        "learn": [
                          64317.20672
                        ],
                        "iteration": 429,
                        "passed_time": 1.643636955,
                        "remaining_time": 2.178774568
                      },
                      {
                        "learn": [
                          64317.20672
                        ],
                        "iteration": 430,
                        "passed_time": 1.665481095,
                        "remaining_time": 2.198744184
                      },
                      {
                        "learn": [
                          64317.20672
                        ],
                        "iteration": 431,
                        "passed_time": 1.666038953,
                        "remaining_time": 2.190532698
                      },
                      {
                        "learn": [
                          64317.20672
                        ],
                        "iteration": 432,
                        "passed_time": 1.666535077,
                        "remaining_time": 2.182275724
                      },
                      {
                        "learn": [
                          64317.20672
                        ],
                        "iteration": 433,
                        "passed_time": 1.680070485,
                        "remaining_time": 2.191059665
                      },
                      {
                        "learn": [
                          64317.20672
                        ],
                        "iteration": 434,
                        "passed_time": 1.680613554,
                        "remaining_time": 2.182865881
                      },
                      {
                        "learn": [
                          64317.20672
                        ],
                        "iteration": 435,
                        "passed_time": 1.681119437,
                        "remaining_time": 2.174659088
                      },
                      {
                        "learn": [
                          64317.20672
                        ],
                        "iteration": 436,
                        "passed_time": 1.69494511,
                        "remaining_time": 2.183647819
                      },
                      {
                        "learn": [
                          64317.20672
                        ],
                        "iteration": 437,
                        "passed_time": 1.6955098,
                        "remaining_time": 2.175517141
                      },
                      {
                        "learn": [
                          64317.20672
                        ],
                        "iteration": 438,
                        "passed_time": 1.696016832,
                        "remaining_time": 2.16734725
                      },
                      {
                        "learn": [
                          64317.20672
                        ],
                        "iteration": 439,
                        "passed_time": 1.710592474,
                        "remaining_time": 2.177117694
                      },
                      {
                        "learn": [
                          64317.20672
                        ],
                        "iteration": 440,
                        "passed_time": 1.711151442,
                        "remaining_time": 2.169010558
                      },
                      {
                        "learn": [
                          64317.20672
                        ],
                        "iteration": 441,
                        "passed_time": 1.724393711,
                        "remaining_time": 2.176949526
                      },
                      {
                        "learn": [
                          64317.20672
                        ],
                        "iteration": 442,
                        "passed_time": 1.724909025,
                        "remaining_time": 2.168790806
                      },
                      {
                        "learn": [
                          64317.20672
                        ],
                        "iteration": 443,
                        "passed_time": 1.725422741,
                        "remaining_time": 2.160664513
                      },
                      {
                        "learn": [
                          64317.20672
                        ],
                        "iteration": 444,
                        "passed_time": 1.735526633,
                        "remaining_time": 2.164533216
                      },
                      {
                        "learn": [
                          64317.20672
                        ],
                        "iteration": 445,
                        "passed_time": 1.742905931,
                        "remaining_time": 2.164954901
                      },
                      {
                        "learn": [
                          64317.20672
                        ],
                        "iteration": 446,
                        "passed_time": 1.743432753,
                        "remaining_time": 2.156864233
                      },
                      {
                        "learn": [
                          64317.20672
                        ],
                        "iteration": 447,
                        "passed_time": 1.743962854,
                        "remaining_time": 2.148811374
                      },
                      {
                        "learn": [
                          64317.20672
                        ],
                        "iteration": 448,
                        "passed_time": 1.744459234,
                        "remaining_time": 2.140750641
                      },
                      {
                        "learn": [
                          64317.20672
                        ],
                        "iteration": 449,
                        "passed_time": 1.753798615,
                        "remaining_time": 2.14353164
                      },
                      {
                        "learn": [
                          64317.20672
                        ],
                        "iteration": 450,
                        "passed_time": 1.7543393,
                        "remaining_time": 2.135548283
                      },
                      {
                        "learn": [
                          64317.20672
                        ],
                        "iteration": 451,
                        "passed_time": 1.754850666,
                        "remaining_time": 2.127562312
                      },
                      {
                        "learn": [
                          64317.20672
                        ],
                        "iteration": 452,
                        "passed_time": 1.763869161,
                        "remaining_time": 2.129881746
                      },
                      {
                        "learn": [
                          64317.20672
                        ],
                        "iteration": 453,
                        "passed_time": 1.771817821,
                        "remaining_time": 2.130864604
                      },
                      {
                        "learn": [
                          64317.20672
                        ],
                        "iteration": 454,
                        "passed_time": 1.772360135,
                        "remaining_time": 2.122936865
                      },
                      {
                        "learn": [
                          64317.20672
                        ],
                        "iteration": 455,
                        "passed_time": 1.772843793,
                        "remaining_time": 2.114971542
                      },
                      {
                        "learn": [
                          64317.20672
                        ],
                        "iteration": 456,
                        "passed_time": 1.790291854,
                        "remaining_time": 2.127195792
                      },
                      {
                        "learn": [
                          64317.20672
                        ],
                        "iteration": 457,
                        "passed_time": 1.790851421,
                        "remaining_time": 2.11930452
                      },
                      {
                        "learn": [
                          64317.20672
                        ],
                        "iteration": 458,
                        "passed_time": 1.802873949,
                        "remaining_time": 2.124956005
                      },
                      {
                        "learn": [
                          64317.20672
                        ],
                        "iteration": 459,
                        "passed_time": 1.804284866,
                        "remaining_time": 2.118073538
                      },
                      {
                        "learn": [
                          64317.20672
                        ],
                        "iteration": 460,
                        "passed_time": 1.804796447,
                        "remaining_time": 2.110163308
                      },
                      {
                        "learn": [
                          64317.20672
                        ],
                        "iteration": 461,
                        "passed_time": 1.805322533,
                        "remaining_time": 2.102301997
                      },
                      {
                        "learn": [
                          64317.20672
                        ],
                        "iteration": 462,
                        "passed_time": 1.805820834,
                        "remaining_time": 2.094440147
                      },
                      {
                        "learn": [
                          64317.20672
                        ],
                        "iteration": 463,
                        "passed_time": 1.831318805,
                        "remaining_time": 2.115488964
                      },
                      {
                        "learn": [
                          64317.20672
                        ],
                        "iteration": 464,
                        "passed_time": 1.831866123,
                        "remaining_time": 2.107630916
                      },
                      {
                        "learn": [
                          64317.20672
                        ],
                        "iteration": 465,
                        "passed_time": 1.83235181,
                        "remaining_time": 2.09973362
                      },
                      {
                        "learn": [
                          64317.20672
                        ],
                        "iteration": 466,
                        "passed_time": 1.850284852,
                        "remaining_time": 2.111781212
                      },
                      {
                        "learn": [
                          64317.20672
                        ],
                        "iteration": 467,
                        "passed_time": 1.850852242,
                        "remaining_time": 2.103960241
                      },
                      {
                        "learn": [
                          64317.20672
                        ],
                        "iteration": 468,
                        "passed_time": 1.851343338,
                        "remaining_time": 2.096083822
                      },
                      {
                        "learn": [
                          64317.20672
                        ],
                        "iteration": 469,
                        "passed_time": 1.859669766,
                        "remaining_time": 2.097074417
                      },
                      {
                        "learn": [
                          64317.20672
                        ],
                        "iteration": 470,
                        "passed_time": 1.860179703,
                        "remaining_time": 2.089246418
                      },
                      {
                        "learn": [
                          64317.20672
                        ],
                        "iteration": 471,
                        "passed_time": 1.860693069,
                        "remaining_time": 2.081453264
                      },
                      {
                        "learn": [
                          64317.20672
                        ],
                        "iteration": 472,
                        "passed_time": 1.861176607,
                        "remaining_time": 2.073657657
                      },
                      {
                        "learn": [
                          64317.20672
                        ],
                        "iteration": 473,
                        "passed_time": 1.884988382,
                        "remaining_time": 2.091780356
                      },
                      {
                        "learn": [
                          64317.20672
                        ],
                        "iteration": 474,
                        "passed_time": 1.885540398,
                        "remaining_time": 2.084018334
                      },
                      {
                        "learn": [
                          64317.20672
                        ],
                        "iteration": 475,
                        "passed_time": 1.886038641,
                        "remaining_time": 2.076227411
                      },
                      {
                        "learn": [
                          64317.20672
                        ],
                        "iteration": 476,
                        "passed_time": 1.890693021,
                        "remaining_time": 2.073024005
                      },
                      {
                        "learn": [
                          64317.20672
                        ],
                        "iteration": 477,
                        "passed_time": 1.891242833,
                        "remaining_time": 2.065332132
                      },
                      {
                        "learn": [
                          64317.20672
                        ],
                        "iteration": 478,
                        "passed_time": 1.891733303,
                        "remaining_time": 2.057605534
                      },
                      {
                        "learn": [
                          64317.20672
                        ],
                        "iteration": 479,
                        "passed_time": 1.898126807,
                        "remaining_time": 2.056304041
                      },
                      {
                        "learn": [
                          64317.20672
                        ],
                        "iteration": 480,
                        "passed_time": 1.898674361,
                        "remaining_time": 2.048673583
                      },
                      {
                        "learn": [
                          64317.20672
                        ],
                        "iteration": 481,
                        "passed_time": 1.89916393,
                        "remaining_time": 2.041010198
                      },
                      {
                        "learn": [
                          64317.20672
                        ],
                        "iteration": 482,
                        "passed_time": 1.912862666,
                        "remaining_time": 2.047515525
                      },
                      {
                        "learn": [
                          64317.20672
                        ],
                        "iteration": 483,
                        "passed_time": 1.913408203,
                        "remaining_time": 2.03991453
                      },
                      {
                        "learn": [
                          64317.20672
                        ],
                        "iteration": 484,
                        "passed_time": 1.913968494,
                        "remaining_time": 2.032358297
                      },
                      {
                        "learn": [
                          64317.20672
                        ],
                        "iteration": 485,
                        "passed_time": 1.930649174,
                        "remaining_time": 2.041879991
                      },
                      {
                        "learn": [
                          64317.20672
                        ],
                        "iteration": 486,
                        "passed_time": 1.931217471,
                        "remaining_time": 2.034321484
                      },
                      {
                        "learn": [
                          64317.20672
                        ],
                        "iteration": 487,
                        "passed_time": 1.931711059,
                        "remaining_time": 2.026713242
                      },
                      {
                        "learn": [
                          64317.20672
                        ],
                        "iteration": 488,
                        "passed_time": 1.950305077,
                        "remaining_time": 2.038048864
                      },
                      {
                        "learn": [
                          64317.20672
                        ],
                        "iteration": 489,
                        "passed_time": 1.95085555,
                        "remaining_time": 2.030482307
                      },
                      {
                        "learn": [
                          64317.20672
                        ],
                        "iteration": 490,
                        "passed_time": 1.951349024,
                        "remaining_time": 2.02288524
                      },
                      {
                        "learn": [
                          64317.20672
                        ],
                        "iteration": 491,
                        "passed_time": 1.965648823,
                        "remaining_time": 2.029572362
                      },
                      {
                        "learn": [
                          64317.20672
                        ],
                        "iteration": 492,
                        "passed_time": 1.967006375,
                        "remaining_time": 2.022864569
                      },
                      {
                        "learn": [
                          64317.20672
                        ],
                        "iteration": 493,
                        "passed_time": 1.967568879,
                        "remaining_time": 2.015364074
                      },
                      {
                        "learn": [
                          64317.20672
                        ],
                        "iteration": 494,
                        "passed_time": 1.96806702,
                        "remaining_time": 2.00782595
                      },
                      {
                        "learn": [
                          64317.20672
                        ],
                        "iteration": 495,
                        "passed_time": 2.018237915,
                        "remaining_time": 2.05079014
                      },
                      {
                        "learn": [
                          64317.20672
                        ],
                        "iteration": 496,
                        "passed_time": 2.018825356,
                        "remaining_time": 2.043197493
                      },
                      {
                        "learn": [
                          64317.20672
                        ],
                        "iteration": 497,
                        "passed_time": 2.019346142,
                        "remaining_time": 2.03556579
                      },
                      {
                        "learn": [
                          64317.20672
                        ],
                        "iteration": 498,
                        "passed_time": 2.019862512,
                        "remaining_time": 2.027958153
                      },
                      {
                        "learn": [
                          64317.20672
                        ],
                        "iteration": 499,
                        "passed_time": 2.033049952,
                        "remaining_time": 2.033049952
                      },
                      {
                        "learn": [
                          64317.20672
                        ],
                        "iteration": 500,
                        "passed_time": 2.048519494,
                        "remaining_time": 2.040341772
                      },
                      {
                        "learn": [
                          64317.20672
                        ],
                        "iteration": 501,
                        "passed_time": 2.050208012,
                        "remaining_time": 2.033871693
                      },
                      {
                        "learn": [
                          64317.20672
                        ],
                        "iteration": 502,
                        "passed_time": 2.051223012,
                        "remaining_time": 2.026755143
                      },
                      {
                        "learn": [
                          64317.20672
                        ],
                        "iteration": 503,
                        "passed_time": 2.051772352,
                        "remaining_time": 2.019204537
                      },
                      {
                        "learn": [
                          64317.20672
                        ],
                        "iteration": 504,
                        "passed_time": 2.052294262,
                        "remaining_time": 2.011654771
                      },
                      {
                        "learn": [
                          64317.20672
                        ],
                        "iteration": 505,
                        "passed_time": 2.094413475,
                        "remaining_time": 2.04474359
                      },
                      {
                        "learn": [
                          64317.20672
                        ],
                        "iteration": 506,
                        "passed_time": 2.095018834,
                        "remaining_time": 2.037168215
                      },
                      {
                        "learn": [
                          64317.20672
                        ],
                        "iteration": 507,
                        "passed_time": 2.097194992,
                        "remaining_time": 2.031141607
                      },
                      {
                        "learn": [
                          64317.20672
                        ],
                        "iteration": 508,
                        "passed_time": 2.098160554,
                        "remaining_time": 2.023962342
                      },
                      {
                        "learn": [
                          64317.20672
                        ],
                        "iteration": 509,
                        "passed_time": 2.100948842,
                        "remaining_time": 2.018558692
                      },
                      {
                        "learn": [
                          64317.20672
                        ],
                        "iteration": 510,
                        "passed_time": 2.101540966,
                        "remaining_time": 2.011063664
                      },
                      {
                        "learn": [
                          64317.20672
                        ],
                        "iteration": 511,
                        "passed_time": 2.102083756,
                        "remaining_time": 2.00354858
                      },
                      {
                        "learn": [
                          64317.20672
                        ],
                        "iteration": 512,
                        "passed_time": 2.109127897,
                        "remaining_time": 2.002232526
                      },
                      {
                        "learn": [
                          64317.20672
                        ],
                        "iteration": 513,
                        "passed_time": 2.109753225,
                        "remaining_time": 1.994825034
                      },
                      {
                        "learn": [
                          64317.20672
                        ],
                        "iteration": 514,
                        "passed_time": 2.110328266,
                        "remaining_time": 1.987396522
                      },
                      {
                        "learn": [
                          64317.20672
                        ],
                        "iteration": 515,
                        "passed_time": 2.154355513,
                        "remaining_time": 2.02075207
                      },
                      {
                        "learn": [
                          64317.20672
                        ],
                        "iteration": 516,
                        "passed_time": 2.160811662,
                        "remaining_time": 2.018707994
                      },
                      {
                        "learn": [
                          64317.20672
                        ],
                        "iteration": 517,
                        "passed_time": 2.161398404,
                        "remaining_time": 2.011185388
                      },
                      {
                        "learn": [
                          64317.20672
                        ],
                        "iteration": 518,
                        "passed_time": 2.162005844,
                        "remaining_time": 2.003708692
                      },
                      {
                        "learn": [
                          64317.20672
                        ],
                        "iteration": 519,
                        "passed_time": 2.177285474,
                        "remaining_time": 2.009801976
                      },
                      {
                        "learn": [
                          64317.20672
                        ],
                        "iteration": 520,
                        "passed_time": 2.177848946,
                        "remaining_time": 2.002283388
                      },
                      {
                        "learn": [
                          64317.20672
                        ],
                        "iteration": 521,
                        "passed_time": 2.178388176,
                        "remaining_time": 1.994769249
                      },
                      {
                        "learn": [
                          64317.20672
                        ],
                        "iteration": 522,
                        "passed_time": 2.178885204,
                        "remaining_time": 1.987243293
                      },
                      {
                        "learn": [
                          64317.20672
                        ],
                        "iteration": 523,
                        "passed_time": 2.193902478,
                        "remaining_time": 1.992934312
                      },
                      {
                        "learn": [
                          64317.20672
                        ],
                        "iteration": 524,
                        "passed_time": 2.19445343,
                        "remaining_time": 1.985457865
                      },
                      {
                        "learn": [
                          64317.20672
                        ],
                        "iteration": 525,
                        "passed_time": 2.194966993,
                        "remaining_time": 1.977974059
                      },
                      {
                        "learn": [
                          64317.20672
                        ],
                        "iteration": 526,
                        "passed_time": 2.195467821,
                        "remaining_time": 1.970505273
                      },
                      {
                        "learn": [
                          64317.20672
                        ],
                        "iteration": 527,
                        "passed_time": 2.21076339,
                        "remaining_time": 1.976288485
                      },
                      {
                        "learn": [
                          64317.20672
                        ],
                        "iteration": 528,
                        "passed_time": 2.211466947,
                        "remaining_time": 1.968999871
                      },
                      {
                        "learn": [
                          64317.20672
                        ],
                        "iteration": 529,
                        "passed_time": 2.211986825,
                        "remaining_time": 1.961573222
                      },
                      {
                        "learn": [
                          64317.20672
                        ],
                        "iteration": 530,
                        "passed_time": 2.212467571,
                        "remaining_time": 1.954138024
                      },
                      {
                        "learn": [
                          64317.20672
                        ],
                        "iteration": 531,
                        "passed_time": 2.220080304,
                        "remaining_time": 1.953002974
                      },
                      {
                        "learn": [
                          64317.20672
                        ],
                        "iteration": 532,
                        "passed_time": 2.220602061,
                        "remaining_time": 1.945630699
                      },
                      {
                        "learn": [
                          64317.20672
                        ],
                        "iteration": 533,
                        "passed_time": 2.221102885,
                        "remaining_time": 1.938265813
                      },
                      {
                        "learn": [
                          64317.20672
                        ],
                        "iteration": 534,
                        "passed_time": 2.246448751,
                        "remaining_time": 1.952520877
                      },
                      {
                        "learn": [
                          64317.20672
                        ],
                        "iteration": 535,
                        "passed_time": 2.246980982,
                        "remaining_time": 1.945147715
                      },
                      {
                        "learn": [
                          64317.20672
                        ],
                        "iteration": 536,
                        "passed_time": 2.247491191,
                        "remaining_time": 1.937781046
                      },
                      {
                        "learn": [
                          64317.20672
                        ],
                        "iteration": 537,
                        "passed_time": 2.248007067,
                        "remaining_time": 1.930444731
                      },
                      {
                        "learn": [
                          64317.20672
                        ],
                        "iteration": 538,
                        "passed_time": 2.26280259,
                        "remaining_time": 1.935346927
                      },
                      {
                        "learn": [
                          64317.20672
                        ],
                        "iteration": 539,
                        "passed_time": 2.263421164,
                        "remaining_time": 1.92809951
                      },
                      {
                        "learn": [
                          64317.20672
                        ],
                        "iteration": 540,
                        "passed_time": 2.271472193,
                        "remaining_time": 1.927182507
                      },
                      {
                        "learn": [
                          64317.20672
                        ],
                        "iteration": 541,
                        "passed_time": 2.272080418,
                        "remaining_time": 1.919949874
                      },
                      {
                        "learn": [
                          64317.20672
                        ],
                        "iteration": 542,
                        "passed_time": 2.272571578,
                        "remaining_time": 1.912643114
                      },
                      {
                        "learn": [
                          64317.20672
                        ],
                        "iteration": 543,
                        "passed_time": 2.285244864,
                        "remaining_time": 1.915572901
                      },
                      {
                        "learn": [
                          64317.20672
                        ],
                        "iteration": 544,
                        "passed_time": 2.285878191,
                        "remaining_time": 1.908393719
                      },
                      {
                        "learn": [
                          64317.20672
                        ],
                        "iteration": 545,
                        "passed_time": 2.286363263,
                        "remaining_time": 1.901115241
                      },
                      {
                        "learn": [
                          64317.20672
                        ],
                        "iteration": 546,
                        "passed_time": 2.302220787,
                        "remaining_time": 1.906592352
                      },
                      {
                        "learn": [
                          64317.20672
                        ],
                        "iteration": 547,
                        "passed_time": 2.302769024,
                        "remaining_time": 1.899364231
                      },
                      {
                        "learn": [
                          64317.20672
                        ],
                        "iteration": 548,
                        "passed_time": 2.303389093,
                        "remaining_time": 1.892219455
                      },
                      {
                        "learn": [
                          64317.20672
                        ],
                        "iteration": 549,
                        "passed_time": 2.316387703,
                        "remaining_time": 1.895226303
                      },
                      {
                        "learn": [
                          64317.20672
                        ],
                        "iteration": 550,
                        "passed_time": 2.319371493,
                        "remaining_time": 1.890014157
                      },
                      {
                        "learn": [
                          64317.20672
                        ],
                        "iteration": 551,
                        "passed_time": 2.319905493,
                        "remaining_time": 1.88282185
                      },
                      {
                        "learn": [
                          64317.20672
                        ],
                        "iteration": 552,
                        "passed_time": 2.320450214,
                        "remaining_time": 1.875662288
                      },
                      {
                        "learn": [
                          64317.20672
                        ],
                        "iteration": 553,
                        "passed_time": 2.320978655,
                        "remaining_time": 1.868513502
                      },
                      {
                        "learn": [
                          64317.20672
                        ],
                        "iteration": 554,
                        "passed_time": 2.325726834,
                        "remaining_time": 1.864771966
                      },
                      {
                        "learn": [
                          64317.20672
                        ],
                        "iteration": 555,
                        "passed_time": 2.3263312,
                        "remaining_time": 1.857717721
                      },
                      {
                        "learn": [
                          64317.20672
                        ],
                        "iteration": 556,
                        "passed_time": 2.326896352,
                        "remaining_time": 1.850655447
                      },
                      {
                        "learn": [
                          64317.20672
                        ],
                        "iteration": 557,
                        "passed_time": 2.327436582,
                        "remaining_time": 1.843596719
                      },
                      {
                        "learn": [
                          64317.20672
                        ],
                        "iteration": 558,
                        "passed_time": 2.353773602,
                        "remaining_time": 1.856912627
                      },
                      {
                        "learn": [
                          64317.20672
                        ],
                        "iteration": 559,
                        "passed_time": 2.354400696,
                        "remaining_time": 1.849886261
                      },
                      {
                        "learn": [
                          64317.20672
                        ],
                        "iteration": 560,
                        "passed_time": 2.354985597,
                        "remaining_time": 1.842849692
                      },
                      {
                        "learn": [
                          64317.20672
                        ],
                        "iteration": 561,
                        "passed_time": 2.381375149,
                        "remaining_time": 1.85594718
                      },
                      {
                        "learn": [
                          64317.20672
                        ],
                        "iteration": 562,
                        "passed_time": 2.381981268,
                        "remaining_time": 1.848891322
                      },
                      {
                        "learn": [
                          64317.20672
                        ],
                        "iteration": 563,
                        "passed_time": 2.390964618,
                        "remaining_time": 1.84833435
                      },
                      {
                        "learn": [
                          64317.20672
                        ],
                        "iteration": 564,
                        "passed_time": 2.391518086,
                        "remaining_time": 1.841257287
                      },
                      {
                        "learn": [
                          64317.20672
                        ],
                        "iteration": 565,
                        "passed_time": 2.392100912,
                        "remaining_time": 1.834225788
                      },
                      {
                        "learn": [
                          64317.20672
                        ],
                        "iteration": 566,
                        "passed_time": 2.392654125,
                        "remaining_time": 1.82719442
                      },
                      {
                        "learn": [
                          64317.20672
                        ],
                        "iteration": 567,
                        "passed_time": 2.403275231,
                        "remaining_time": 1.827843133
                      },
                      {
                        "learn": [
                          64317.20672
                        ],
                        "iteration": 568,
                        "passed_time": 2.403888483,
                        "remaining_time": 1.820871593
                      },
                      {
                        "learn": [
                          64317.20672
                        ],
                        "iteration": 569,
                        "passed_time": 2.404448382,
                        "remaining_time": 1.813882112
                      },
                      {
                        "learn": [
                          64317.20672
                        ],
                        "iteration": 570,
                        "passed_time": 2.41515542,
                        "remaining_time": 1.814538836
                      },
                      {
                        "learn": [
                          64317.20672
                        ],
                        "iteration": 571,
                        "passed_time": 2.415721847,
                        "remaining_time": 1.807568095
                      },
                      {
                        "learn": [
                          64317.20672
                        ],
                        "iteration": 572,
                        "passed_time": 2.416284179,
                        "remaining_time": 1.800616657
                      },
                      {
                        "learn": [
                          64317.20672
                        ],
                        "iteration": 573,
                        "passed_time": 2.425747962,
                        "remaining_time": 1.800293784
                      },
                      {
                        "learn": [
                          64317.20672
                        ],
                        "iteration": 574,
                        "passed_time": 2.426304822,
                        "remaining_time": 1.793355738
                      },
                      {
                        "learn": [
                          64317.20672
                        ],
                        "iteration": 575,
                        "passed_time": 2.426790081,
                        "remaining_time": 1.786387143
                      },
                      {
                        "learn": [
                          64317.20672
                        ],
                        "iteration": 576,
                        "passed_time": 2.435605727,
                        "remaining_time": 1.785548046
                      },
                      {
                        "learn": [
                          64317.20672
                        ],
                        "iteration": 577,
                        "passed_time": 2.436259469,
                        "remaining_time": 1.778722312
                      },
                      {
                        "learn": [
                          64317.20672
                        ],
                        "iteration": 578,
                        "passed_time": 2.448215201,
                        "remaining_time": 1.780135751
                      },
                      {
                        "learn": [
                          64317.20672
                        ],
                        "iteration": 579,
                        "passed_time": 2.448861485,
                        "remaining_time": 1.773313489
                      },
                      {
                        "learn": [
                          64317.20672
                        ],
                        "iteration": 580,
                        "passed_time": 2.449377346,
                        "remaining_time": 1.76641843
                      },
                      {
                        "learn": [
                          64317.20672
                        ],
                        "iteration": 581,
                        "passed_time": 2.461013582,
                        "remaining_time": 1.767532091
                      },
                      {
                        "learn": [
                          64317.20672
                        ],
                        "iteration": 582,
                        "passed_time": 2.461632428,
                        "remaining_time": 1.760721651
                      },
                      {
                        "learn": [
                          64317.20672
                        ],
                        "iteration": 583,
                        "passed_time": 2.462129671,
                        "remaining_time": 1.753845793
                      },
                      {
                        "learn": [
                          64317.20672
                        ],
                        "iteration": 584,
                        "passed_time": 2.470921487,
                        "remaining_time": 1.752875927
                      },
                      {
                        "learn": [
                          64317.20672
                        ],
                        "iteration": 585,
                        "passed_time": 2.471562984,
                        "remaining_time": 1.746121289
                      },
                      {
                        "learn": [
                          64317.20672
                        ],
                        "iteration": 586,
                        "passed_time": 2.477954503,
                        "remaining_time": 1.743433066
                      },
                      {
                        "learn": [
                          64317.20672
                        ],
                        "iteration": 587,
                        "passed_time": 2.483606624,
                        "remaining_time": 1.740214165
                      },
                      {
                        "learn": [
                          64317.20672
                        ],
                        "iteration": 588,
                        "passed_time": 2.484211418,
                        "remaining_time": 1.733465013
                      },
                      {
                        "learn": [
                          64317.20672
                        ],
                        "iteration": 589,
                        "passed_time": 2.49793938,
                        "remaining_time": 1.735856179
                      },
                      {
                        "learn": [
                          64317.20672
                        ],
                        "iteration": 590,
                        "passed_time": 2.503288205,
                        "remaining_time": 1.732394037
                      },
                      {
                        "learn": [
                          64317.20672
                        ],
                        "iteration": 591,
                        "passed_time": 2.503950499,
                        "remaining_time": 1.725695614
                      },
                      {
                        "learn": [
                          64317.20672
                        ],
                        "iteration": 592,
                        "passed_time": 2.508165048,
                        "remaining_time": 1.721455606
                      },
                      {
                        "learn": [
                          64317.20672
                        ],
                        "iteration": 593,
                        "passed_time": 2.522146025,
                        "remaining_time": 1.723891054
                      },
                      {
                        "learn": [
                          64317.20672
                        ],
                        "iteration": 594,
                        "passed_time": 2.522763608,
                        "remaining_time": 1.717175229
                      },
                      {
                        "learn": [
                          64317.20672
                        ],
                        "iteration": 595,
                        "passed_time": 2.532299053,
                        "remaining_time": 1.716524861
                      },
                      {
                        "learn": [
                          64317.20672
                        ],
                        "iteration": 596,
                        "passed_time": 2.532894271,
                        "remaining_time": 1.7098097
                      },
                      {
                        "learn": [
                          64317.20672
                        ],
                        "iteration": 597,
                        "passed_time": 2.533473873,
                        "remaining_time": 1.70310451
                      },
                      {
                        "learn": [
                          64317.20672
                        ],
                        "iteration": 598,
                        "passed_time": 2.548186352,
                        "remaining_time": 1.705881014
                      },
                      {
                        "learn": [
                          64317.20672
                        ],
                        "iteration": 599,
                        "passed_time": 2.548858819,
                        "remaining_time": 1.699239212
                      },
                      {
                        "learn": [
                          64317.20672
                        ],
                        "iteration": 600,
                        "passed_time": 2.549448616,
                        "remaining_time": 1.692562392
                      },
                      {
                        "learn": [
                          64317.20672
                        ],
                        "iteration": 601,
                        "passed_time": 2.561220429,
                        "remaining_time": 1.693298556
                      },
                      {
                        "learn": [
                          64317.20672
                        ],
                        "iteration": 602,
                        "passed_time": 2.565641922,
                        "remaining_time": 1.689153969
                      },
                      {
                        "learn": [
                          64317.20672
                        ],
                        "iteration": 603,
                        "passed_time": 2.566187723,
                        "remaining_time": 1.682467448
                      },
                      {
                        "learn": [
                          64317.20672
                        ],
                        "iteration": 604,
                        "passed_time": 2.566716269,
                        "remaining_time": 1.675789961
                      },
                      {
                        "learn": [
                          64317.20672
                        ],
                        "iteration": 605,
                        "passed_time": 2.590498291,
                        "remaining_time": 1.684251364
                      },
                      {
                        "learn": [
                          64317.20672
                        ],
                        "iteration": 606,
                        "passed_time": 2.592942789,
                        "remaining_time": 1.678791625
                      },
                      {
                        "learn": [
                          64317.20672
                        ],
                        "iteration": 607,
                        "passed_time": 2.593494825,
                        "remaining_time": 1.672121663
                      },
                      {
                        "learn": [
                          64317.20672
                        ],
                        "iteration": 608,
                        "passed_time": 2.594061308,
                        "remaining_time": 1.665481069
                      },
                      {
                        "learn": [
                          64317.20672
                        ],
                        "iteration": 609,
                        "passed_time": 2.59461528,
                        "remaining_time": 1.658852392
                      },
                      {
                        "learn": [
                          64317.20672
                        ],
                        "iteration": 610,
                        "passed_time": 2.609550465,
                        "remaining_time": 1.661399559
                      },
                      {
                        "learn": [
                          64317.20672
                        ],
                        "iteration": 611,
                        "passed_time": 2.610158603,
                        "remaining_time": 1.654806434
                      },
                      {
                        "learn": [
                          64317.20672
                        ],
                        "iteration": 612,
                        "passed_time": 2.61072438,
                        "remaining_time": 1.648206093
                      },
                      {
                        "learn": [
                          64317.20672
                        ],
                        "iteration": 613,
                        "passed_time": 2.61130157,
                        "remaining_time": 1.641632583
                      },
                      {
                        "learn": [
                          64317.20672
                        ],
                        "iteration": 614,
                        "passed_time": 2.645640743,
                        "remaining_time": 1.656214123
                      },
                      {
                        "learn": [
                          64317.20672
                        ],
                        "iteration": 615,
                        "passed_time": 2.646219975,
                        "remaining_time": 1.649591673
                      },
                      {
                        "learn": [
                          64317.20672
                        ],
                        "iteration": 616,
                        "passed_time": 2.646788421,
                        "remaining_time": 1.642982116
                      },
                      {
                        "learn": [
                          64317.20672
                        ],
                        "iteration": 617,
                        "passed_time": 2.659439436,
                        "remaining_time": 1.643860622
                      },
                      {
                        "learn": [
                          64317.20672
                        ],
                        "iteration": 618,
                        "passed_time": 2.660039797,
                        "remaining_time": 1.63727813
                      },
                      {
                        "learn": [
                          64317.20672
                        ],
                        "iteration": 619,
                        "passed_time": 2.660603532,
                        "remaining_time": 1.630692487
                      },
                      {
                        "learn": [
                          64317.20672
                        ],
                        "iteration": 620,
                        "passed_time": 2.686250396,
                        "remaining_time": 1.639434622
                      },
                      {
                        "learn": [
                          64317.20672
                        ],
                        "iteration": 621,
                        "passed_time": 2.686883363,
                        "remaining_time": 1.632864809
                      },
                      {
                        "learn": [
                          64317.20672
                        ],
                        "iteration": 622,
                        "passed_time": 2.687439365,
                        "remaining_time": 1.626267481
                      },
                      {
                        "learn": [
                          64317.20672
                        ],
                        "iteration": 623,
                        "passed_time": 2.702225913,
                        "remaining_time": 1.628264332
                      },
                      {
                        "learn": [
                          64317.20672
                        ],
                        "iteration": 624,
                        "passed_time": 2.702849542,
                        "remaining_time": 1.621709725
                      },
                      {
                        "learn": [
                          64317.20672
                        ],
                        "iteration": 625,
                        "passed_time": 2.703344231,
                        "remaining_time": 1.615097032
                      },
                      {
                        "learn": [
                          64317.20672
                        ],
                        "iteration": 626,
                        "passed_time": 2.724526715,
                        "remaining_time": 1.620810948
                      },
                      {
                        "learn": [
                          64317.20672
                        ],
                        "iteration": 627,
                        "passed_time": 2.725046721,
                        "remaining_time": 1.61419965
                      },
                      {
                        "learn": [
                          64317.20672
                        ],
                        "iteration": 628,
                        "passed_time": 2.732589335,
                        "remaining_time": 1.611749831
                      },
                      {
                        "learn": [
                          64317.20672
                        ],
                        "iteration": 629,
                        "passed_time": 2.737201259,
                        "remaining_time": 1.607562644
                      },
                      {
                        "learn": [
                          64317.20672
                        ],
                        "iteration": 630,
                        "passed_time": 2.737806194,
                        "remaining_time": 1.60103088
                      },
                      {
                        "learn": [
                          64317.20672
                        ],
                        "iteration": 631,
                        "passed_time": 2.738396209,
                        "remaining_time": 1.594509185
                      },
                      {
                        "learn": [
                          64317.20672
                        ],
                        "iteration": 632,
                        "passed_time": 2.751129062,
                        "remaining_time": 1.595046392
                      },
                      {
                        "learn": [
                          64317.20672
                        ],
                        "iteration": 633,
                        "passed_time": 2.751733231,
                        "remaining_time": 1.588540004
                      },
                      {
                        "learn": [
                          64317.20672
                        ],
                        "iteration": 634,
                        "passed_time": 2.75233901,
                        "remaining_time": 1.582053132
                      },
                      {
                        "learn": [
                          64317.20672
                        ],
                        "iteration": 635,
                        "passed_time": 2.752872269,
                        "remaining_time": 1.575543248
                      },
                      {
                        "learn": [
                          64317.20672
                        ],
                        "iteration": 636,
                        "passed_time": 2.753314867,
                        "remaining_time": 1.569000466
                      },
                      {
                        "learn": [
                          64317.20672
                        ],
                        "iteration": 637,
                        "passed_time": 2.767006155,
                        "remaining_time": 1.569994088
                      },
                      {
                        "learn": [
                          64317.20672
                        ],
                        "iteration": 638,
                        "passed_time": 2.774604183,
                        "remaining_time": 1.56749939
                      },
                      {
                        "learn": [
                          64317.20672
                        ],
                        "iteration": 639,
                        "passed_time": 2.775220334,
                        "remaining_time": 1.561061438
                      },
                      {
                        "learn": [
                          64317.20672
                        ],
                        "iteration": 640,
                        "passed_time": 2.790536201,
                        "remaining_time": 1.562874409
                      },
                      {
                        "learn": [
                          64317.20672
                        ],
                        "iteration": 641,
                        "passed_time": 2.790955843,
                        "remaining_time": 1.556327402
                      },
                      {
                        "learn": [
                          64317.20672
                        ],
                        "iteration": 642,
                        "passed_time": 2.791365715,
                        "remaining_time": 1.549794028
                      },
                      {
                        "learn": [
                          64317.20672
                        ],
                        "iteration": 643,
                        "passed_time": 2.791756136,
                        "remaining_time": 1.54326892
                      },
                      {
                        "learn": [
                          64317.20672
                        ],
                        "iteration": 644,
                        "passed_time": 2.795383436,
                        "remaining_time": 1.538544372
                      },
                      {
                        "learn": [
                          64317.20672
                        ],
                        "iteration": 645,
                        "passed_time": 2.796976791,
                        "remaining_time": 1.532708644
                      },
                      {
                        "learn": [
                          64317.20672
                        ],
                        "iteration": 646,
                        "passed_time": 2.797389557,
                        "remaining_time": 1.526241907
                      },
                      {
                        "learn": [
                          64317.20672
                        ],
                        "iteration": 647,
                        "passed_time": 2.797800291,
                        "remaining_time": 1.519792751
                      },
                      {
                        "learn": [
                          64317.20672
                        ],
                        "iteration": 648,
                        "passed_time": 2.798199868,
                        "remaining_time": 1.513356169
                      },
                      {
                        "learn": [
                          64317.20672
                        ],
                        "iteration": 649,
                        "passed_time": 2.806715723,
                        "remaining_time": 1.511308466
                      },
                      {
                        "learn": [
                          64317.20672
                        ],
                        "iteration": 650,
                        "passed_time": 2.807183253,
                        "remaining_time": 1.504926198
                      },
                      {
                        "learn": [
                          64317.20672
                        ],
                        "iteration": 651,
                        "passed_time": 2.807633203,
                        "remaining_time": 1.498552691
                      },
                      {
                        "learn": [
                          64317.20672
                        ],
                        "iteration": 652,
                        "passed_time": 2.808030264,
                        "remaining_time": 1.492169221
                      },
                      {
                        "learn": [
                          64317.20672
                        ],
                        "iteration": 653,
                        "passed_time": 2.82344971,
                        "remaining_time": 1.493751681
                      },
                      {
                        "learn": [
                          64317.20672
                        ],
                        "iteration": 654,
                        "passed_time": 2.825612801,
                        "remaining_time": 1.488299872
                      },
                      {
                        "learn": [
                          64317.20672
                        ],
                        "iteration": 655,
                        "passed_time": 2.826225297,
                        "remaining_time": 1.482044973
                      },
                      {
                        "learn": [
                          64317.20672
                        ],
                        "iteration": 656,
                        "passed_time": 2.826802199,
                        "remaining_time": 1.475788667
                      },
                      {
                        "learn": [
                          64317.20672
                        ],
                        "iteration": 657,
                        "passed_time": 2.838611638,
                        "remaining_time": 1.475387812
                      },
                      {
                        "learn": [
                          64317.20672
                        ],
                        "iteration": 658,
                        "passed_time": 2.83916378,
                        "remaining_time": 1.469127237
                      },
                      {
                        "learn": [
                          64317.20672
                        ],
                        "iteration": 659,
                        "passed_time": 2.839700837,
                        "remaining_time": 1.462876189
                      },
                      {
                        "learn": [
                          64317.20672
                        ],
                        "iteration": 660,
                        "passed_time": 2.842362509,
                        "remaining_time": 1.457732058
                      },
                      {
                        "learn": [
                          64317.20672
                        ],
                        "iteration": 661,
                        "passed_time": 2.842942507,
                        "remaining_time": 1.451532579
                      },
                      {
                        "learn": [
                          64317.20672
                        ],
                        "iteration": 662,
                        "passed_time": 2.84349695,
                        "remaining_time": 1.445337062
                      },
                      {
                        "learn": [
                          64317.20672
                        ],
                        "iteration": 663,
                        "passed_time": 2.859236122,
                        "remaining_time": 1.446842375
                      },
                      {
                        "learn": [
                          64317.20672
                        ],
                        "iteration": 664,
                        "passed_time": 2.859772896,
                        "remaining_time": 1.440637474
                      },
                      {
                        "learn": [
                          64317.20672
                        ],
                        "iteration": 665,
                        "passed_time": 2.860262849,
                        "remaining_time": 1.434426113
                      },
                      {
                        "learn": [
                          64317.20672
                        ],
                        "iteration": 666,
                        "passed_time": 2.862738991,
                        "remaining_time": 1.429223514
                      },
                      {
                        "learn": [
                          64317.20672
                        ],
                        "iteration": 667,
                        "passed_time": 2.863321435,
                        "remaining_time": 1.423087899
                      },
                      {
                        "learn": [
                          64317.20672
                        ],
                        "iteration": 668,
                        "passed_time": 2.863857512,
                        "remaining_time": 1.416945944
                      },
                      {
                        "learn": [
                          64317.20672
                        ],
                        "iteration": 669,
                        "passed_time": 2.879576957,
                        "remaining_time": 1.418299098
                      },
                      {
                        "learn": [
                          64317.20672
                        ],
                        "iteration": 670,
                        "passed_time": 2.880201737,
                        "remaining_time": 1.412200255
                      },
                      {
                        "learn": [
                          64317.20672
                        ],
                        "iteration": 671,
                        "passed_time": 2.880690527,
                        "remaining_time": 1.406051329
                      },
                      {
                        "learn": [
                          64317.20672
                        ],
                        "iteration": 672,
                        "passed_time": 2.883494159,
                        "remaining_time": 1.401043968
                      },
                      {
                        "learn": [
                          64317.20672
                        ],
                        "iteration": 673,
                        "passed_time": 2.884017678,
                        "remaining_time": 1.394940301
                      },
                      {
                        "learn": [
                          64317.20672
                        ],
                        "iteration": 674,
                        "passed_time": 2.884599367,
                        "remaining_time": 1.388881177
                      },
                      {
                        "learn": [
                          64317.20672
                        ],
                        "iteration": 675,
                        "passed_time": 2.885122386,
                        "remaining_time": 1.382810138
                      },
                      {
                        "learn": [
                          64317.20672
                        ],
                        "iteration": 676,
                        "passed_time": 2.915307198,
                        "remaining_time": 1.390907275
                      },
                      {
                        "learn": [
                          64317.20672
                        ],
                        "iteration": 677,
                        "passed_time": 2.915831926,
                        "remaining_time": 1.384805133
                      },
                      {
                        "learn": [
                          64317.20672
                        ],
                        "iteration": 678,
                        "passed_time": 2.916367552,
                        "remaining_time": 1.378724572
                      },
                      {
                        "learn": [
                          64317.20672
                        ],
                        "iteration": 679,
                        "passed_time": 2.916890804,
                        "remaining_time": 1.372654496
                      },
                      {
                        "learn": [
                          64317.20672
                        ],
                        "iteration": 680,
                        "passed_time": 2.936635157,
                        "remaining_time": 1.375604428
                      },
                      {
                        "learn": [
                          64317.20672
                        ],
                        "iteration": 681,
                        "passed_time": 2.937206575,
                        "remaining_time": 1.369547934
                      },
                      {
                        "learn": [
                          64317.20672
                        ],
                        "iteration": 682,
                        "passed_time": 2.937710767,
                        "remaining_time": 1.3634763
                      },
                      {
                        "learn": [
                          64317.20672
                        ],
                        "iteration": 683,
                        "passed_time": 2.94532895,
                        "remaining_time": 1.360707527
                      },
                      {
                        "learn": [
                          64317.20672
                        ],
                        "iteration": 684,
                        "passed_time": 2.945907987,
                        "remaining_time": 1.354687614
                      },
                      {
                        "learn": [
                          64317.20672
                        ],
                        "iteration": 685,
                        "passed_time": 2.948298998,
                        "remaining_time": 1.349512953
                      },
                      {
                        "learn": [
                          64317.20672
                        ],
                        "iteration": 686,
                        "passed_time": 2.948860186,
                        "remaining_time": 1.343512719
                      },
                      {
                        "learn": [
                          64317.20672
                        ],
                        "iteration": 687,
                        "passed_time": 2.949460846,
                        "remaining_time": 1.337546197
                      },
                      {
                        "learn": [
                          64317.20672
                        ],
                        "iteration": 688,
                        "passed_time": 2.958469148,
                        "remaining_time": 1.335390283
                      },
                      {
                        "learn": [
                          64317.20672
                        ],
                        "iteration": 689,
                        "passed_time": 2.961130462,
                        "remaining_time": 1.330362961
                      },
                      {
                        "learn": [
                          64317.20672
                        ],
                        "iteration": 690,
                        "passed_time": 2.961751549,
                        "remaining_time": 1.324430143
                      },
                      {
                        "learn": [
                          64317.20672
                        ],
                        "iteration": 691,
                        "passed_time": 2.962253629,
                        "remaining_time": 1.318459708
                      },
                      {
                        "learn": [
                          64317.20672
                        ],
                        "iteration": 692,
                        "passed_time": 2.969260477,
                        "remaining_time": 1.315386676
                      },
                      {
                        "learn": [
                          64317.20672
                        ],
                        "iteration": 693,
                        "passed_time": 2.9828302,
                        "remaining_time": 1.315196025
                      },
                      {
                        "learn": [
                          64317.20672
                        ],
                        "iteration": 694,
                        "passed_time": 2.983459714,
                        "remaining_time": 1.309288076
                      },
                      {
                        "learn": [
                          64317.20672
                        ],
                        "iteration": 695,
                        "passed_time": 2.983989477,
                        "remaining_time": 1.303351726
                      },
                      {
                        "learn": [
                          64317.20672
                        ],
                        "iteration": 696,
                        "passed_time": 2.9941417,
                        "remaining_time": 1.301613967
                      },
                      {
                        "learn": [
                          64317.20672
                        ],
                        "iteration": 697,
                        "passed_time": 2.994661967,
                        "remaining_time": 1.295684691
                      },
                      {
                        "learn": [
                          64317.20672
                        ],
                        "iteration": 698,
                        "passed_time": 2.995240448,
                        "remaining_time": 1.289795958
                      },
                      {
                        "learn": [
                          64317.20672
                        ],
                        "iteration": 699,
                        "passed_time": 2.995767743,
                        "remaining_time": 1.283900461
                      },
                      {
                        "learn": [
                          64317.20672
                        ],
                        "iteration": 700,
                        "passed_time": 3.016551572,
                        "remaining_time": 1.286660371
                      },
                      {
                        "learn": [
                          64317.20672
                        ],
                        "iteration": 701,
                        "passed_time": 3.01712008,
                        "remaining_time": 1.280771772
                      },
                      {
                        "learn": [
                          64317.20672
                        ],
                        "iteration": 702,
                        "passed_time": 3.017617431,
                        "remaining_time": 1.274868246
                      },
                      {
                        "learn": [
                          64317.20672
                        ],
                        "iteration": 703,
                        "passed_time": 3.065603825,
                        "remaining_time": 1.288947063
                      },
                      {
                        "learn": [
                          64317.20672
                        ],
                        "iteration": 704,
                        "passed_time": 3.066123489,
                        "remaining_time": 1.282987843
                      },
                      {
                        "learn": [
                          64317.20672
                        ],
                        "iteration": 705,
                        "passed_time": 3.066607614,
                        "remaining_time": 1.277029233
                      },
                      {
                        "learn": [
                          64317.20672
                        ],
                        "iteration": 706,
                        "passed_time": 3.067072657,
                        "remaining_time": 1.271078202
                      },
                      {
                        "learn": [
                          64317.20672
                        ],
                        "iteration": 707,
                        "passed_time": 3.101353334,
                        "remaining_time": 1.279089228
                      },
                      {
                        "learn": [
                          64317.20672
                        ],
                        "iteration": 708,
                        "passed_time": 3.101908336,
                        "remaining_time": 1.273138682
                      },
                      {
                        "learn": [
                          64317.20672
                        ],
                        "iteration": 709,
                        "passed_time": 3.102451358,
                        "remaining_time": 1.267198442
                      },
                      {
                        "learn": [
                          64317.20672
                        ],
                        "iteration": 710,
                        "passed_time": 3.103017802,
                        "remaining_time": 1.261282904
                      },
                      {
                        "learn": [
                          64317.20672
                        ],
                        "iteration": 711,
                        "passed_time": 3.115747632,
                        "remaining_time": 1.260302413
                      },
                      {
                        "learn": [
                          64317.20672
                        ],
                        "iteration": 712,
                        "passed_time": 3.116841595,
                        "remaining_time": 1.254605242
                      },
                      {
                        "learn": [
                          64317.20672
                        ],
                        "iteration": 713,
                        "passed_time": 3.117532992,
                        "remaining_time": 1.248759714
                      },
                      {
                        "learn": [
                          64317.20672
                        ],
                        "iteration": 714,
                        "passed_time": 3.118060739,
                        "remaining_time": 1.242863371
                      },
                      {
                        "learn": [
                          64317.20672
                        ],
                        "iteration": 715,
                        "passed_time": 3.137238654,
                        "remaining_time": 1.244379578
                      },
                      {
                        "learn": [
                          64317.20672
                        ],
                        "iteration": 716,
                        "passed_time": 3.137776319,
                        "remaining_time": 1.238480751
                      },
                      {
                        "learn": [
                          64317.20672
                        ],
                        "iteration": 717,
                        "passed_time": 3.138279077,
                        "remaining_time": 1.232583147
                      },
                      {
                        "learn": [
                          64317.20672
                        ],
                        "iteration": 718,
                        "passed_time": 3.141189405,
                        "remaining_time": 1.227641478
                      },
                      {
                        "learn": [
                          64317.20672
                        ],
                        "iteration": 719,
                        "passed_time": 3.141695154,
                        "remaining_time": 1.221770338
                      },
                      {
                        "learn": [
                          64317.20672
                        ],
                        "iteration": 720,
                        "passed_time": 3.143510101,
                        "remaining_time": 1.216420691
                      },
                      {
                        "learn": [
                          64317.20672
                        ],
                        "iteration": 721,
                        "passed_time": 3.170214781,
                        "remaining_time": 1.220664417
                      },
                      {
                        "learn": [
                          64317.20672
                        ],
                        "iteration": 722,
                        "passed_time": 3.170835854,
                        "remaining_time": 1.214829228
                      },
                      {
                        "learn": [
                          64317.20672
                        ],
                        "iteration": 723,
                        "passed_time": 3.171337513,
                        "remaining_time": 1.208962919
                      },
                      {
                        "learn": [
                          64317.20672
                        ],
                        "iteration": 724,
                        "passed_time": 3.174899523,
                        "remaining_time": 1.204272233
                      },
                      {
                        "learn": [
                          64317.20672
                        ],
                        "iteration": 725,
                        "passed_time": 3.17545227,
                        "remaining_time": 1.198448928
                      },
                      {
                        "learn": [
                          64317.20672
                        ],
                        "iteration": 726,
                        "passed_time": 3.175962993,
                        "remaining_time": 1.192624343
                      },
                      {
                        "learn": [
                          64317.20672
                        ],
                        "iteration": 727,
                        "passed_time": 3.178969739,
                        "remaining_time": 1.187746936
                      },
                      {
                        "learn": [
                          64317.20672
                        ],
                        "iteration": 728,
                        "passed_time": 3.207043873,
                        "remaining_time": 1.192193264
                      },
                      {
                        "learn": [
                          64317.20672
                        ],
                        "iteration": 729,
                        "passed_time": 3.207740615,
                        "remaining_time": 1.186424611
                      },
                      {
                        "learn": [
                          64317.20672
                        ],
                        "iteration": 730,
                        "passed_time": 3.212465465,
                        "remaining_time": 1.182152134
                      },
                      {
                        "learn": [
                          64317.20672
                        ],
                        "iteration": 731,
                        "passed_time": 3.221190663,
                        "remaining_time": 1.17934303
                      },
                      {
                        "learn": [
                          64317.20672
                        ],
                        "iteration": 732,
                        "passed_time": 3.221613471,
                        "remaining_time": 1.173493583
                      },
                      {
                        "learn": [
                          64317.20672
                        ],
                        "iteration": 733,
                        "passed_time": 3.222042652,
                        "remaining_time": 1.167661234
                      },
                      {
                        "learn": [
                          64317.20672
                        ],
                        "iteration": 734,
                        "passed_time": 3.222446331,
                        "remaining_time": 1.161834392
                      },
                      {
                        "learn": [
                          64317.20672
                        ],
                        "iteration": 735,
                        "passed_time": 3.235589334,
                        "remaining_time": 1.160591826
                      },
                      {
                        "learn": [
                          64317.20672
                        ],
                        "iteration": 736,
                        "passed_time": 3.236185943,
                        "remaining_time": 1.15483976
                      },
                      {
                        "learn": [
                          64317.20672
                        ],
                        "iteration": 737,
                        "passed_time": 3.239892901,
                        "remaining_time": 1.150205881
                      },
                      {
                        "learn": [
                          64317.20672
                        ],
                        "iteration": 738,
                        "passed_time": 3.240323075,
                        "remaining_time": 1.144417216
                      },
                      {
                        "learn": [
                          64317.20672
                        ],
                        "iteration": 739,
                        "passed_time": 3.240764972,
                        "remaining_time": 1.138647152
                      },
                      {
                        "learn": [
                          64317.20672
                        ],
                        "iteration": 740,
                        "passed_time": 3.253273258,
                        "remaining_time": 1.137109007
                      },
                      {
                        "learn": [
                          64317.20672
                        ],
                        "iteration": 741,
                        "passed_time": 3.253970934,
                        "remaining_time": 1.131434637
                      },
                      {
                        "learn": [
                          64317.20672
                        ],
                        "iteration": 742,
                        "passed_time": 3.254537275,
                        "remaining_time": 1.125728236
                      },
                      {
                        "learn": [
                          64317.20672
                        ],
                        "iteration": 743,
                        "passed_time": 3.269134971,
                        "remaining_time": 1.124863646
                      },
                      {
                        "learn": [
                          64317.20672
                        ],
                        "iteration": 744,
                        "passed_time": 3.284076436,
                        "remaining_time": 1.124079854
                      },
                      {
                        "learn": [
                          64317.20672
                        ],
                        "iteration": 745,
                        "passed_time": 3.284498193,
                        "remaining_time": 1.118314398
                      },
                      {
                        "learn": [
                          64317.20672
                        ],
                        "iteration": 746,
                        "passed_time": 3.287844765,
                        "remaining_time": 1.113553849
                      },
                      {
                        "learn": [
                          64317.20672
                        ],
                        "iteration": 747,
                        "passed_time": 3.288264521,
                        "remaining_time": 1.107811042
                      },
                      {
                        "learn": [
                          64317.20672
                        ],
                        "iteration": 748,
                        "passed_time": 3.288697206,
                        "remaining_time": 1.102086781
                      },
                      {
                        "learn": [
                          64317.20672
                        ],
                        "iteration": 749,
                        "passed_time": 3.289098239,
                        "remaining_time": 1.09636608
                      },
                      {
                        "learn": [
                          64317.20672
                        ],
                        "iteration": 750,
                        "passed_time": 3.309488523,
                        "remaining_time": 1.09728714
                      },
                      {
                        "learn": [
                          64317.20672
                        ],
                        "iteration": 751,
                        "passed_time": 3.331604456,
                        "remaining_time": 1.098720619
                      },
                      {
                        "learn": [
                          64317.20672
                        ],
                        "iteration": 752,
                        "passed_time": 3.332254494,
                        "remaining_time": 1.093050279
                      },
                      {
                        "learn": [
                          64317.20672
                        ],
                        "iteration": 753,
                        "passed_time": 3.332746029,
                        "remaining_time": 1.087341543
                      },
                      {
                        "learn": [
                          64317.20672
                        ],
                        "iteration": 754,
                        "passed_time": 3.362016398,
                        "remaining_time": 1.090985453
                      },
                      {
                        "learn": [
                          64317.20672
                        ],
                        "iteration": 755,
                        "passed_time": 3.362578001,
                        "remaining_time": 1.085276498
                      },
                      {
                        "learn": [
                          64317.20672
                        ],
                        "iteration": 756,
                        "passed_time": 3.363083281,
                        "remaining_time": 1.079563061
                      },
                      {
                        "learn": [
                          64317.20672
                        ],
                        "iteration": 757,
                        "passed_time": 3.363624489,
                        "remaining_time": 1.073874837
                      },
                      {
                        "learn": [
                          64317.20672
                        ],
                        "iteration": 758,
                        "passed_time": 3.373444577,
                        "remaining_time": 1.071146433
                      },
                      {
                        "learn": [
                          64317.20672
                        ],
                        "iteration": 759,
                        "passed_time": 3.374884462,
                        "remaining_time": 1.065752988
                      },
                      {
                        "learn": [
                          64317.20672
                        ],
                        "iteration": 760,
                        "passed_time": 3.376765607,
                        "remaining_time": 1.060508515
                      },
                      {
                        "learn": [
                          64317.20672
                        ],
                        "iteration": 761,
                        "passed_time": 3.378907935,
                        "remaining_time": 1.055354447
                      },
                      {
                        "learn": [
                          64317.20672
                        ],
                        "iteration": 762,
                        "passed_time": 3.381538707,
                        "remaining_time": 1.050359992
                      },
                      {
                        "learn": [
                          64317.20672
                        ],
                        "iteration": 763,
                        "passed_time": 3.383374056,
                        "remaining_time": 1.045126017
                      },
                      {
                        "learn": [
                          64317.20672
                        ],
                        "iteration": 764,
                        "passed_time": 3.400100233,
                        "remaining_time": 1.044475235
                      },
                      {
                        "learn": [
                          64317.20672
                        ],
                        "iteration": 765,
                        "passed_time": 3.40076159,
                        "remaining_time": 1.03887495
                      },
                      {
                        "learn": [
                          64317.20672
                        ],
                        "iteration": 766,
                        "passed_time": 3.407017501,
                        "remaining_time": 1.034987063
                      },
                      {
                        "learn": [
                          64317.20672
                        ],
                        "iteration": 767,
                        "passed_time": 3.417429563,
                        "remaining_time": 1.032348514
                      },
                      {
                        "learn": [
                          64317.20672
                        ],
                        "iteration": 768,
                        "passed_time": 3.417987206,
                        "remaining_time": 1.026729577
                      },
                      {
                        "learn": [
                          64317.20672
                        ],
                        "iteration": 769,
                        "passed_time": 3.418484278,
                        "remaining_time": 1.021105693
                      },
                      {
                        "learn": [
                          64317.20672
                        ],
                        "iteration": 770,
                        "passed_time": 3.43461284,
                        "remaining_time": 1.020137925
                      },
                      {
                        "learn": [
                          64317.20672
                        ],
                        "iteration": 771,
                        "passed_time": 3.43567169,
                        "remaining_time": 1.01468024
                      },
                      {
                        "learn": [
                          64317.20672
                        ],
                        "iteration": 772,
                        "passed_time": 3.436193316,
                        "remaining_time": 1.009076174
                      },
                      {
                        "learn": [
                          64317.20672
                        ],
                        "iteration": 773,
                        "passed_time": 3.436772503,
                        "remaining_time": 1.003502049
                      },
                      {
                        "learn": [
                          64317.20672
                        ],
                        "iteration": 774,
                        "passed_time": 3.437263627,
                        "remaining_time": 0.9979152466
                      },
                      {
                        "learn": [
                          64317.20672
                        ],
                        "iteration": 775,
                        "passed_time": 3.459676828,
                        "remaining_time": 0.9986695999
                      },
                      {
                        "learn": [
                          64317.20672
                        ],
                        "iteration": 776,
                        "passed_time": 3.460224035,
                        "remaining_time": 0.9930887515
                      },
                      {
                        "learn": [
                          64317.20672
                        ],
                        "iteration": 777,
                        "passed_time": 3.460724134,
                        "remaining_time": 0.9875074006
                      },
                      {
                        "learn": [
                          64317.20672
                        ],
                        "iteration": 778,
                        "passed_time": 3.48065089,
                        "remaining_time": 0.9874503807
                      },
                      {
                        "learn": [
                          64317.20672
                        ],
                        "iteration": 779,
                        "passed_time": 3.48126934,
                        "remaining_time": 0.9818964805
                      },
                      {
                        "learn": [
                          64317.20672
                        ],
                        "iteration": 780,
                        "passed_time": 3.481781991,
                        "remaining_time": 0.976325552
                      },
                      {
                        "learn": [
                          64317.20672
                        ],
                        "iteration": 781,
                        "passed_time": 3.489984958,
                        "remaining_time": 0.9729114079
                      },
                      {
                        "learn": [
                          64317.20672
                        ],
                        "iteration": 782,
                        "passed_time": 3.490503398,
                        "remaining_time": 0.9673553478
                      },
                      {
                        "learn": [
                          64317.20672
                        ],
                        "iteration": 783,
                        "passed_time": 3.491083646,
                        "remaining_time": 0.9618291678
                      },
                      {
                        "learn": [
                          64317.20672
                        ],
                        "iteration": 784,
                        "passed_time": 3.50894635,
                        "remaining_time": 0.9610490002
                      },
                      {
                        "learn": [
                          64317.20672
                        ],
                        "iteration": 785,
                        "passed_time": 3.517523123,
                        "remaining_time": 0.9576971354
                      },
                      {
                        "learn": [
                          64317.20672
                        ],
                        "iteration": 786,
                        "passed_time": 3.518075562,
                        "remaining_time": 0.952160222
                      },
                      {
                        "learn": [
                          64317.20672
                        ],
                        "iteration": 787,
                        "passed_time": 3.518598729,
                        "remaining_time": 0.9466280845
                      },
                      {
                        "learn": [
                          64317.20672
                        ],
                        "iteration": 788,
                        "passed_time": 3.519102627,
                        "remaining_time": 0.9411034909
                      },
                      {
                        "learn": [
                          64317.20672
                        ],
                        "iteration": 789,
                        "passed_time": 3.522480502,
                        "remaining_time": 0.9363555765
                      },
                      {
                        "learn": [
                          64317.20672
                        ],
                        "iteration": 790,
                        "passed_time": 3.523874665,
                        "remaining_time": 0.9310869848
                      },
                      {
                        "learn": [
                          64317.20672
                        ],
                        "iteration": 791,
                        "passed_time": 3.551622368,
                        "remaining_time": 0.9327493089
                      },
                      {
                        "learn": [
                          64317.20672
                        ],
                        "iteration": 792,
                        "passed_time": 3.559684613,
                        "remaining_time": 0.9291988839
                      },
                      {
                        "learn": [
                          64317.20672
                        ],
                        "iteration": 793,
                        "passed_time": 3.565699388,
                        "remaining_time": 0.9251058866
                      },
                      {
                        "learn": [
                          64317.20672
                        ],
                        "iteration": 794,
                        "passed_time": 3.569077994,
                        "remaining_time": 0.9203282878
                      },
                      {
                        "learn": [
                          64317.20672
                        ],
                        "iteration": 795,
                        "passed_time": 3.569595473,
                        "remaining_time": 0.9148209503
                      },
                      {
                        "learn": [
                          64317.20672
                        ],
                        "iteration": 796,
                        "passed_time": 3.580502386,
                        "remaining_time": 0.9119723769
                      },
                      {
                        "learn": [
                          64317.20672
                        ],
                        "iteration": 797,
                        "passed_time": 3.58297384,
                        "remaining_time": 0.9069683155
                      },
                      {
                        "learn": [
                          64317.20672
                        ],
                        "iteration": 798,
                        "passed_time": 3.589852257,
                        "remaining_time": 0.9030792287
                      },
                      {
                        "learn": [
                          64317.20672
                        ],
                        "iteration": 799,
                        "passed_time": 3.593566018,
                        "remaining_time": 0.8983915046
                      },
                      {
                        "learn": [
                          64317.20672
                        ],
                        "iteration": 800,
                        "passed_time": 3.59412046,
                        "remaining_time": 0.8929213127
                      },
                      {
                        "learn": [
                          64317.20672
                        ],
                        "iteration": 801,
                        "passed_time": 3.597763959,
                        "remaining_time": 0.8882260149
                      },
                      {
                        "learn": [
                          64317.20672
                        ],
                        "iteration": 802,
                        "passed_time": 3.598338887,
                        "remaining_time": 0.882780524
                      },
                      {
                        "learn": [
                          64317.20672
                        ],
                        "iteration": 803,
                        "passed_time": 3.598870249,
                        "remaining_time": 0.8773365283
                      },
                      {
                        "learn": [
                          64317.20672
                        ],
                        "iteration": 804,
                        "passed_time": 3.599400058,
                        "remaining_time": 0.8719043618
                      },
                      {
                        "learn": [
                          64317.20672
                        ],
                        "iteration": 805,
                        "passed_time": 3.614026894,
                        "remaining_time": 0.869877441
                      },
                      {
                        "learn": [
                          64317.20672
                        ],
                        "iteration": 806,
                        "passed_time": 3.61919182,
                        "remaining_time": 0.865556408
                      },
                      {
                        "learn": [
                          64317.20672
                        ],
                        "iteration": 807,
                        "passed_time": 3.619744089,
                        "remaining_time": 0.8601372092
                      },
                      {
                        "learn": [
                          64317.20672
                        ],
                        "iteration": 808,
                        "passed_time": 3.630448451,
                        "remaining_time": 0.8571268903
                      },
                      {
                        "learn": [
                          64317.20672
                        ],
                        "iteration": 809,
                        "passed_time": 3.63110184,
                        "remaining_time": 0.8517399377
                      },
                      {
                        "learn": [
                          64317.20672
                        ],
                        "iteration": 810,
                        "passed_time": 3.63161187,
                        "remaining_time": 0.8463312495
                      },
                      {
                        "learn": [
                          64317.20672
                        ],
                        "iteration": 811,
                        "passed_time": 3.643190886,
                        "remaining_time": 0.8434973972
                      },
                      {
                        "learn": [
                          64317.20672
                        ],
                        "iteration": 812,
                        "passed_time": 3.643676886,
                        "remaining_time": 0.8380905014
                      },
                      {
                        "learn": [
                          64317.20672
                        ],
                        "iteration": 813,
                        "passed_time": 3.648617371,
                        "remaining_time": 0.8337135517
                      },
                      {
                        "learn": [
                          64317.20672
                        ],
                        "iteration": 814,
                        "passed_time": 3.653078791,
                        "remaining_time": 0.8292264741
                      },
                      {
                        "learn": [
                          64317.20672
                        ],
                        "iteration": 815,
                        "passed_time": 3.653661312,
                        "remaining_time": 0.8238648057
                      },
                      {
                        "learn": [
                          64317.20672
                        ],
                        "iteration": 816,
                        "passed_time": 3.661296167,
                        "remaining_time": 0.8200944902
                      },
                      {
                        "learn": [
                          64317.20672
                        ],
                        "iteration": 817,
                        "passed_time": 3.665348529,
                        "remaining_time": 0.8155176434
                      },
                      {
                        "learn": [
                          64317.20672
                        ],
                        "iteration": 818,
                        "passed_time": 3.665881627,
                        "remaining_time": 0.8101643157
                      },
                      {
                        "learn": [
                          64317.20672
                        ],
                        "iteration": 819,
                        "passed_time": 3.666422772,
                        "remaining_time": 0.804824511
                      },
                      {
                        "learn": [
                          64317.20672
                        ],
                        "iteration": 820,
                        "passed_time": 3.671883882,
                        "remaining_time": 0.8005690802
                      },
                      {
                        "learn": [
                          64317.20672
                        ],
                        "iteration": 821,
                        "passed_time": 3.672426252,
                        "remaining_time": 0.7952455874
                      },
                      {
                        "learn": [
                          64317.20672
                        ],
                        "iteration": 822,
                        "passed_time": 3.672948604,
                        "remaining_time": 0.7899294082
                      },
                      {
                        "learn": [
                          64317.20672
                        ],
                        "iteration": 823,
                        "passed_time": 3.683009278,
                        "remaining_time": 0.7866621759
                      },
                      {
                        "learn": [
                          64317.20672
                        ],
                        "iteration": 824,
                        "passed_time": 3.685461219,
                        "remaining_time": 0.781764501
                      },
                      {
                        "learn": [
                          64317.20672
                        ],
                        "iteration": 825,
                        "passed_time": 3.690026968,
                        "remaining_time": 0.7773180296
                      },
                      {
                        "learn": [
                          64317.20672
                        ],
                        "iteration": 826,
                        "passed_time": 3.690509347,
                        "remaining_time": 0.7720170702
                      },
                      {
                        "learn": [
                          64317.20672
                        ],
                        "iteration": 827,
                        "passed_time": 3.706112386,
                        "remaining_time": 0.7698687566
                      },
                      {
                        "learn": [
                          64317.20672
                        ],
                        "iteration": 828,
                        "passed_time": 3.706626773,
                        "remaining_time": 0.764575607
                      },
                      {
                        "learn": [
                          64317.20672
                        ],
                        "iteration": 829,
                        "passed_time": 3.714102702,
                        "remaining_time": 0.7607198306
                      },
                      {
                        "learn": [
                          64317.20672
                        ],
                        "iteration": 830,
                        "passed_time": 3.716784742,
                        "remaining_time": 0.7558804109
                      },
                      {
                        "learn": [
                          64317.20672
                        ],
                        "iteration": 831,
                        "passed_time": 3.717325893,
                        "remaining_time": 0.7506138821
                      },
                      {
                        "learn": [
                          64317.20672
                        ],
                        "iteration": 832,
                        "passed_time": 3.717883951,
                        "remaining_time": 0.7453620886
                      },
                      {
                        "learn": [
                          64317.20672
                        ],
                        "iteration": 833,
                        "passed_time": 3.725075906,
                        "remaining_time": 0.741441967
                      },
                      {
                        "learn": [
                          64317.20672
                        ],
                        "iteration": 834,
                        "passed_time": 3.725594164,
                        "remaining_time": 0.7361952539
                      },
                      {
                        "learn": [
                          64317.20672
                        ],
                        "iteration": 835,
                        "passed_time": 3.726114705,
                        "remaining_time": 0.730960301
                      },
                      {
                        "learn": [
                          64317.20672
                        ],
                        "iteration": 836,
                        "passed_time": 3.726622506,
                        "remaining_time": 0.725734132
                      },
                      {
                        "learn": [
                          64317.20672
                        ],
                        "iteration": 837,
                        "passed_time": 3.73900025,
                        "remaining_time": 0.7228138908
                      },
                      {
                        "learn": [
                          64317.20672
                        ],
                        "iteration": 838,
                        "passed_time": 3.739594484,
                        "remaining_time": 0.717609907
                      },
                      {
                        "learn": [
                          64317.20672
                        ],
                        "iteration": 839,
                        "passed_time": 3.740092682,
                        "remaining_time": 0.7123986062
                      },
                      {
                        "learn": [
                          64317.20672
                        ],
                        "iteration": 840,
                        "passed_time": 3.751885579,
                        "remaining_time": 0.7093338966
                      },
                      {
                        "learn": [
                          64317.20672
                        ],
                        "iteration": 841,
                        "passed_time": 3.755436865,
                        "remaining_time": 0.7047019295
                      },
                      {
                        "learn": [
                          64317.20672
                        ],
                        "iteration": 842,
                        "passed_time": 3.756023167,
                        "remaining_time": 0.6995203288
                      },
                      {
                        "learn": [
                          64317.20672
                        ],
                        "iteration": 843,
                        "passed_time": 3.75657692,
                        "remaining_time": 0.6943436013
                      },
                      {
                        "learn": [
                          64317.20672
                        ],
                        "iteration": 844,
                        "passed_time": 3.757079922,
                        "remaining_time": 0.6891685065
                      },
                      {
                        "learn": [
                          64317.20672
                        ],
                        "iteration": 845,
                        "passed_time": 3.769610291,
                        "remaining_time": 0.6861938355
                      },
                      {
                        "learn": [
                          64317.20672
                        ],
                        "iteration": 846,
                        "passed_time": 3.770180062,
                        "remaining_time": 0.6810360679
                      },
                      {
                        "learn": [
                          64317.20672
                        ],
                        "iteration": 847,
                        "passed_time": 3.770660792,
                        "remaining_time": 0.6758731608
                      },
                      {
                        "learn": [
                          64317.20672
                        ],
                        "iteration": 848,
                        "passed_time": 3.782648743,
                        "remaining_time": 0.6727679154
                      },
                      {
                        "learn": [
                          64317.20672
                        ],
                        "iteration": 849,
                        "passed_time": 3.78334432,
                        "remaining_time": 0.6676489976
                      },
                      {
                        "learn": [
                          64317.20672
                        ],
                        "iteration": 850,
                        "passed_time": 3.796129367,
                        "remaining_time": 0.6646571982
                      },
                      {
                        "learn": [
                          64317.20672
                        ],
                        "iteration": 851,
                        "passed_time": 3.796745936,
                        "remaining_time": 0.6595286368
                      },
                      {
                        "learn": [
                          64317.20672
                        ],
                        "iteration": 852,
                        "passed_time": 3.797306681,
                        "remaining_time": 0.6544010342
                      },
                      {
                        "learn": [
                          64317.20672
                        ],
                        "iteration": 853,
                        "passed_time": 3.807749869,
                        "remaining_time": 0.6509736311
                      },
                      {
                        "learn": [
                          64317.20672
                        ],
                        "iteration": 854,
                        "passed_time": 3.808298808,
                        "remaining_time": 0.6458518447
                      },
                      {
                        "learn": [
                          64317.20672
                        ],
                        "iteration": 855,
                        "passed_time": 3.808915948,
                        "remaining_time": 0.6407522155
                      },
                      {
                        "learn": [
                          64317.20672
                        ],
                        "iteration": 856,
                        "passed_time": 3.824662471,
                        "remaining_time": 0.6381875534
                      },
                      {
                        "learn": [
                          64317.20672
                        ],
                        "iteration": 857,
                        "passed_time": 3.826567697,
                        "remaining_time": 0.6333014137
                      },
                      {
                        "learn": [
                          64317.20672
                        ],
                        "iteration": 858,
                        "passed_time": 3.82708419,
                        "remaining_time": 0.6281942617
                      },
                      {
                        "learn": [
                          64317.20672
                        ],
                        "iteration": 859,
                        "passed_time": 3.827575345,
                        "remaining_time": 0.6230936608
                      },
                      {
                        "learn": [
                          64317.20672
                        ],
                        "iteration": 860,
                        "passed_time": 3.838755623,
                        "remaining_time": 0.6197294211
                      },
                      {
                        "learn": [
                          64317.20672
                        ],
                        "iteration": 861,
                        "passed_time": 3.845481803,
                        "remaining_time": 0.6156339778
                      },
                      {
                        "learn": [
                          64317.20672
                        ],
                        "iteration": 862,
                        "passed_time": 3.846101431,
                        "remaining_time": 0.6105630314
                      },
                      {
                        "learn": [
                          64317.20672
                        ],
                        "iteration": 863,
                        "passed_time": 3.853166256,
                        "remaining_time": 0.6065169107
                      },
                      {
                        "learn": [
                          64317.20672
                        ],
                        "iteration": 864,
                        "passed_time": 3.859462134,
                        "remaining_time": 0.6023438013
                      },
                      {
                        "learn": [
                          64317.20672
                        ],
                        "iteration": 865,
                        "passed_time": 3.860044378,
                        "remaining_time": 0.5972816936
                      },
                      {
                        "learn": [
                          64317.20672
                        ],
                        "iteration": 866,
                        "passed_time": 3.860549849,
                        "remaining_time": 0.5922181429
                      },
                      {
                        "learn": [
                          64317.20672
                        ],
                        "iteration": 867,
                        "passed_time": 3.861020642,
                        "remaining_time": 0.5871598212
                      },
                      {
                        "learn": [
                          64317.20672
                        ],
                        "iteration": 868,
                        "passed_time": 3.881903194,
                        "remaining_time": 0.5851890891
                      },
                      {
                        "learn": [
                          64317.20672
                        ],
                        "iteration": 869,
                        "passed_time": 3.882530929,
                        "remaining_time": 0.5801482998
                      },
                      {
                        "learn": [
                          64317.20672
                        ],
                        "iteration": 870,
                        "passed_time": 3.899125154,
                        "remaining_time": 0.5774823707
                      },
                      {
                        "learn": [
                          64317.20672
                        ],
                        "iteration": 871,
                        "passed_time": 3.899709571,
                        "remaining_time": 0.5724344324
                      },
                      {
                        "learn": [
                          64317.20672
                        ],
                        "iteration": 872,
                        "passed_time": 3.900170494,
                        "remaining_time": 0.5673787546
                      },
                      {
                        "learn": [
                          64317.20672
                        ],
                        "iteration": 873,
                        "passed_time": 3.900662601,
                        "remaining_time": 0.5623380866
                      },
                      {
                        "learn": [
                          64317.20672
                        ],
                        "iteration": 874,
                        "passed_time": 3.90113356,
                        "remaining_time": 0.5573047943
                      },
                      {
                        "learn": [
                          64317.20672
                        ],
                        "iteration": 875,
                        "passed_time": 3.917056717,
                        "remaining_time": 0.5544692156
                      },
                      {
                        "learn": [
                          64317.20672
                        ],
                        "iteration": 876,
                        "passed_time": 3.917553795,
                        "remaining_time": 0.54944027
                      },
                      {
                        "learn": [
                          64317.20672
                        ],
                        "iteration": 877,
                        "passed_time": 3.918005667,
                        "remaining_time": 0.544415366
                      },
                      {
                        "learn": [
                          64317.20672
                        ],
                        "iteration": 878,
                        "passed_time": 3.918436305,
                        "remaining_time": 0.5393979442
                      },
                      {
                        "learn": [
                          64317.20672
                        ],
                        "iteration": 879,
                        "passed_time": 3.918834978,
                        "remaining_time": 0.5343865879
                      },
                      {
                        "learn": [
                          64317.20672
                        ],
                        "iteration": 880,
                        "passed_time": 3.921827451,
                        "remaining_time": 0.5297360575
                      },
                      {
                        "learn": [
                          64317.20672
                        ],
                        "iteration": 881,
                        "passed_time": 3.92572667,
                        "remaining_time": 0.5252105976
                      },
                      {
                        "learn": [
                          64317.20672
                        ],
                        "iteration": 882,
                        "passed_time": 3.926246861,
                        "remaining_time": 0.5202388253
                      },
                      {
                        "learn": [
                          64317.20672
                        ],
                        "iteration": 883,
                        "passed_time": 3.932687737,
                        "remaining_time": 0.5160540469
                      },
                      {
                        "learn": [
                          64317.20672
                        ],
                        "iteration": 884,
                        "passed_time": 3.936926294,
                        "remaining_time": 0.511577993
                      },
                      {
                        "learn": [
                          64317.20672
                        ],
                        "iteration": 885,
                        "passed_time": 3.937356061,
                        "remaining_time": 0.5066124051
                      },
                      {
                        "learn": [
                          64317.20672
                        ],
                        "iteration": 886,
                        "passed_time": 3.937792402,
                        "remaining_time": 0.5016578821
                      },
                      {
                        "learn": [
                          64317.20672
                        ],
                        "iteration": 887,
                        "passed_time": 3.938188479,
                        "remaining_time": 0.4967084568
                      },
                      {
                        "learn": [
                          64317.20672
                        ],
                        "iteration": 888,
                        "passed_time": 3.938590214,
                        "remaining_time": 0.4917699817
                      },
                      {
                        "learn": [
                          64317.20672
                        ],
                        "iteration": 889,
                        "passed_time": 3.955117812,
                        "remaining_time": 0.4888347858
                      },
                      {
                        "learn": [
                          64317.20672
                        ],
                        "iteration": 890,
                        "passed_time": 3.95560811,
                        "remaining_time": 0.483907165
                      },
                      {
                        "learn": [
                          64317.20672
                        ],
                        "iteration": 891,
                        "passed_time": 3.956012597,
                        "remaining_time": 0.4789791037
                      },
                      {
                        "learn": [
                          64317.20672
                        ],
                        "iteration": 892,
                        "passed_time": 3.963961014,
                        "remaining_time": 0.4749650935
                      },
                      {
                        "learn": [
                          64317.20672
                        ],
                        "iteration": 893,
                        "passed_time": 3.970176453,
                        "remaining_time": 0.4707368054
                      },
                      {
                        "learn": [
                          64317.20672
                        ],
                        "iteration": 894,
                        "passed_time": 3.970711823,
                        "remaining_time": 0.4658377
                      },
                      {
                        "learn": [
                          64317.20672
                        ],
                        "iteration": 895,
                        "passed_time": 3.971318613,
                        "remaining_time": 0.4609566247
                      },
                      {
                        "learn": [
                          64317.20672
                        ],
                        "iteration": 896,
                        "passed_time": 3.978284821,
                        "remaining_time": 0.4568153138
                      },
                      {
                        "learn": [
                          64317.20672
                        ],
                        "iteration": 897,
                        "passed_time": 3.982607751,
                        "remaining_time": 0.4523674728
                      },
                      {
                        "learn": [
                          64317.20672
                        ],
                        "iteration": 898,
                        "passed_time": 3.983215566,
                        "remaining_time": 0.4475025275
                      },
                      {
                        "learn": [
                          64317.20672
                        ],
                        "iteration": 899,
                        "passed_time": 3.983734188,
                        "remaining_time": 0.442637132
                      },
                      {
                        "learn": [
                          64317.20672
                        ],
                        "iteration": 900,
                        "passed_time": 4.006879785,
                        "remaining_time": 0.4402675902
                      },
                      {
                        "learn": [
                          64317.20672
                        ],
                        "iteration": 901,
                        "passed_time": 4.007448322,
                        "remaining_time": 0.4353990416
                      },
                      {
                        "learn": [
                          64317.20672
                        ],
                        "iteration": 902,
                        "passed_time": 4.007964752,
                        "remaining_time": 0.4305344197
                      },
                      {
                        "learn": [
                          64317.20672
                        ],
                        "iteration": 903,
                        "passed_time": 4.008516656,
                        "remaining_time": 0.4256831847
                      },
                      {
                        "learn": [
                          64317.20672
                        ],
                        "iteration": 904,
                        "passed_time": 4.023990189,
                        "remaining_time": 0.4224078099
                      },
                      {
                        "learn": [
                          64317.20672
                        ],
                        "iteration": 905,
                        "passed_time": 4.024562536,
                        "remaining_time": 0.4175594684
                      },
                      {
                        "learn": [
                          64317.20672
                        ],
                        "iteration": 906,
                        "passed_time": 4.025060254,
                        "remaining_time": 0.4127129037
                      },
                      {
                        "learn": [
                          64317.20672
                        ],
                        "iteration": 907,
                        "passed_time": 4.053885439,
                        "remaining_time": 0.4107461018
                      },
                      {
                        "learn": [
                          64317.20672
                        ],
                        "iteration": 908,
                        "passed_time": 4.054522816,
                        "remaining_time": 0.4058983238
                      },
                      {
                        "learn": [
                          64317.20672
                        ],
                        "iteration": 909,
                        "passed_time": 4.055073464,
                        "remaining_time": 0.4010512217
                      },
                      {
                        "learn": [
                          64317.20672
                        ],
                        "iteration": 910,
                        "passed_time": 4.070025669,
                        "remaining_time": 0.3976205099
                      },
                      {
                        "learn": [
                          64317.20672
                        ],
                        "iteration": 911,
                        "passed_time": 4.081816093,
                        "remaining_time": 0.3938594475
                      },
                      {
                        "learn": [
                          64317.20672
                        ],
                        "iteration": 912,
                        "passed_time": 4.086251222,
                        "remaining_time": 0.3893799083
                      },
                      {
                        "learn": [
                          64317.20672
                        ],
                        "iteration": 913,
                        "passed_time": 4.086800684,
                        "remaining_time": 0.3845348564
                      },
                      {
                        "learn": [
                          64317.20672
                        ],
                        "iteration": 914,
                        "passed_time": 4.08737594,
                        "remaining_time": 0.3797015901
                      },
                      {
                        "learn": [
                          64317.20672
                        ],
                        "iteration": 915,
                        "passed_time": 4.103461261,
                        "remaining_time": 0.3762999409
                      },
                      {
                        "learn": [
                          64317.20672
                        ],
                        "iteration": 916,
                        "passed_time": 4.104095239,
                        "remaining_time": 0.3714720882
                      },
                      {
                        "learn": [
                          64317.20672
                        ],
                        "iteration": 917,
                        "passed_time": 4.104687031,
                        "remaining_time": 0.3666496041
                      },
                      {
                        "learn": [
                          64317.20672
                        ],
                        "iteration": 918,
                        "passed_time": 4.105200941,
                        "remaining_time": 0.3618294627
                      },
                      {
                        "learn": [
                          64317.20672
                        ],
                        "iteration": 919,
                        "passed_time": 4.118299163,
                        "remaining_time": 0.3581129707
                      },
                      {
                        "learn": [
                          64317.20672
                        ],
                        "iteration": 920,
                        "passed_time": 4.118877759,
                        "remaining_time": 0.3533022182
                      },
                      {
                        "learn": [
                          64317.20672
                        ],
                        "iteration": 921,
                        "passed_time": 4.119367994,
                        "remaining_time": 0.3484931708
                      },
                      {
                        "learn": [
                          64317.20672
                        ],
                        "iteration": 922,
                        "passed_time": 4.151040735,
                        "remaining_time": 0.3462948392
                      },
                      {
                        "learn": [
                          64317.20672
                        ],
                        "iteration": 923,
                        "passed_time": 4.151677591,
                        "remaining_time": 0.3414799751
                      },
                      {
                        "learn": [
                          64317.20672
                        ],
                        "iteration": 924,
                        "passed_time": 4.152176156,
                        "remaining_time": 0.3366629316
                      },
                      {
                        "learn": [
                          64317.20672
                        ],
                        "iteration": 925,
                        "passed_time": 4.210572476,
                        "remaining_time": 0.3364820337
                      },
                      {
                        "learn": [
                          64317.20672
                        ],
                        "iteration": 926,
                        "passed_time": 4.211215524,
                        "remaining_time": 0.331627544
                      },
                      {
                        "learn": [
                          64317.20672
                        ],
                        "iteration": 927,
                        "passed_time": 4.218940347,
                        "remaining_time": 0.3273315786
                      },
                      {
                        "learn": [
                          64317.20672
                        ],
                        "iteration": 928,
                        "passed_time": 4.219583858,
                        "remaining_time": 0.3224870333
                      },
                      {
                        "learn": [
                          64317.20672
                        ],
                        "iteration": 929,
                        "passed_time": 4.227982684,
                        "remaining_time": 0.3182352558
                      },
                      {
                        "learn": [
                          64317.20672
                        ],
                        "iteration": 930,
                        "passed_time": 4.259124951,
                        "remaining_time": 0.3156601736
                      },
                      {
                        "learn": [
                          64317.20672
                        ],
                        "iteration": 931,
                        "passed_time": 4.259719253,
                        "remaining_time": 0.310794967
                      },
                      {
                        "learn": [
                          64317.20672
                        ],
                        "iteration": 932,
                        "passed_time": 4.272662668,
                        "remaining_time": 0.3068257221
                      },
                      {
                        "learn": [
                          64317.20672
                        ],
                        "iteration": 933,
                        "passed_time": 4.273266163,
                        "remaining_time": 0.3019652749
                      },
                      {
                        "learn": [
                          64317.20672
                        ],
                        "iteration": 934,
                        "passed_time": 4.273717531,
                        "remaining_time": 0.2971033578
                      },
                      {
                        "learn": [
                          64317.20672
                        ],
                        "iteration": 935,
                        "passed_time": 4.280878178,
                        "remaining_time": 0.292709619
                      },
                      {
                        "learn": [
                          64317.20672
                        ],
                        "iteration": 936,
                        "passed_time": 4.281408442,
                        "remaining_time": 0.2878641749
                      },
                      {
                        "learn": [
                          64317.20672
                        ],
                        "iteration": 937,
                        "passed_time": 4.281909777,
                        "remaining_time": 0.2830260194
                      },
                      {
                        "learn": [
                          64317.20672
                        ],
                        "iteration": 938,
                        "passed_time": 4.291504211,
                        "remaining_time": 0.2787878135
                      },
                      {
                        "learn": [
                          64317.20672
                        ],
                        "iteration": 939,
                        "passed_time": 4.30265307,
                        "remaining_time": 0.27463743
                      },
                      {
                        "learn": [
                          64317.20672
                        ],
                        "iteration": 940,
                        "passed_time": 4.316389236,
                        "remaining_time": 0.2706343942
                      },
                      {
                        "learn": [
                          64317.20672
                        ],
                        "iteration": 941,
                        "passed_time": 4.31851475,
                        "remaining_time": 0.2658958126
                      },
                      {
                        "learn": [
                          64317.20672
                        ],
                        "iteration": 942,
                        "passed_time": 4.32088043,
                        "remaining_time": 0.2611772901
                      },
                      {
                        "learn": [
                          64317.20672
                        ],
                        "iteration": 943,
                        "passed_time": 4.322162729,
                        "remaining_time": 0.2563994839
                      },
                      {
                        "learn": [
                          64317.20672
                        ],
                        "iteration": 944,
                        "passed_time": 4.323081791,
                        "remaining_time": 0.2516079349
                      },
                      {
                        "learn": [
                          64317.20672
                        ],
                        "iteration": 945,
                        "passed_time": 4.323582352,
                        "remaining_time": 0.2468006839
                      },
                      {
                        "learn": [
                          64317.20672
                        ],
                        "iteration": 946,
                        "passed_time": 4.325395642,
                        "remaining_time": 0.2420759968
                      },
                      {
                        "learn": [
                          64317.20672
                        ],
                        "iteration": 947,
                        "passed_time": 4.325874262,
                        "remaining_time": 0.2372842422
                      },
                      {
                        "learn": [
                          64317.20672
                        ],
                        "iteration": 948,
                        "passed_time": 4.32762875,
                        "remaining_time": 0.2325701436
                      },
                      {
                        "learn": [
                          64317.20672
                        ],
                        "iteration": 949,
                        "passed_time": 4.328130554,
                        "remaining_time": 0.227796345
                      },
                      {
                        "learn": [
                          64317.20672
                        ],
                        "iteration": 950,
                        "passed_time": 4.328681624,
                        "remaining_time": 0.2230340689
                      },
                      {
                        "learn": [
                          64317.20672
                        ],
                        "iteration": 951,
                        "passed_time": 4.32917664,
                        "remaining_time": 0.2182778138
                      },
                      {
                        "learn": [
                          64317.20672
                        ],
                        "iteration": 952,
                        "passed_time": 4.329681281,
                        "remaining_time": 0.2135309761
                      },
                      {
                        "learn": [
                          64317.20672
                        ],
                        "iteration": 953,
                        "passed_time": 4.333629322,
                        "remaining_time": 0.2089590658
                      },
                      {
                        "learn": [
                          64317.20672
                        ],
                        "iteration": 954,
                        "passed_time": 4.334164924,
                        "remaining_time": 0.2042276666
                      },
                      {
                        "learn": [
                          64317.20672
                        ],
                        "iteration": 955,
                        "passed_time": 4.334660473,
                        "remaining_time": 0.1995032017
                      },
                      {
                        "learn": [
                          64317.20672
                        ],
                        "iteration": 956,
                        "passed_time": 4.336757455,
                        "remaining_time": 0.1948595304
                      },
                      {
                        "learn": [
                          64317.20672
                        ],
                        "iteration": 957,
                        "passed_time": 4.337742844,
                        "remaining_time": 0.190172442
                      },
                      {
                        "learn": [
                          64317.20672
                        ],
                        "iteration": 958,
                        "passed_time": 4.338266964,
                        "remaining_time": 0.185473353
                      },
                      {
                        "learn": [
                          64317.20672
                        ],
                        "iteration": 959,
                        "passed_time": 4.338789232,
                        "remaining_time": 0.1807828847
                      },
                      {
                        "learn": [
                          64317.20672
                        ],
                        "iteration": 960,
                        "passed_time": 4.339277402,
                        "remaining_time": 0.1760997073
                      },
                      {
                        "learn": [
                          64317.20672
                        ],
                        "iteration": 961,
                        "passed_time": 4.339796059,
                        "remaining_time": 0.1714264555
                      },
                      {
                        "learn": [
                          64317.20672
                        ],
                        "iteration": 962,
                        "passed_time": 4.340286866,
                        "remaining_time": 0.1667607623
                      },
                      {
                        "learn": [
                          64317.20672
                        ],
                        "iteration": 963,
                        "passed_time": 4.344764747,
                        "remaining_time": 0.1622526254
                      },
                      {
                        "learn": [
                          64317.20672
                        ],
                        "iteration": 964,
                        "passed_time": 4.346621375,
                        "remaining_time": 0.1576494799
                      },
                      {
                        "learn": [
                          64317.20672
                        ],
                        "iteration": 965,
                        "passed_time": 4.348043715,
                        "remaining_time": 0.1530367353
                      },
                      {
                        "learn": [
                          64317.20672
                        ],
                        "iteration": 966,
                        "passed_time": 4.349389311,
                        "remaining_time": 0.1484279703
                      },
                      {
                        "learn": [
                          64317.20672
                        ],
                        "iteration": 967,
                        "passed_time": 4.350613372,
                        "remaining_time": 0.1438219296
                      },
                      {
                        "learn": [
                          64317.20672
                        ],
                        "iteration": 968,
                        "passed_time": 4.351134852,
                        "remaining_time": 0.1392003926
                      },
                      {
                        "learn": [
                          64317.20672
                        ],
                        "iteration": 969,
                        "passed_time": 4.352760601,
                        "remaining_time": 0.1346214619
                      },
                      {
                        "learn": [
                          64317.20672
                        ],
                        "iteration": 970,
                        "passed_time": 4.353217271,
                        "remaining_time": 0.1300136981
                      },
                      {
                        "learn": [
                          64317.20672
                        ],
                        "iteration": 971,
                        "passed_time": 4.354988288,
                        "remaining_time": 0.1254523375
                      },
                      {
                        "learn": [
                          64317.20672
                        ],
                        "iteration": 972,
                        "passed_time": 4.355480138,
                        "remaining_time": 0.1208612166
                      },
                      {
                        "learn": [
                          64317.20672
                        ],
                        "iteration": 973,
                        "passed_time": 4.355996336,
                        "remaining_time": 0.116279163
                      },
                      {
                        "learn": [
                          64317.20672
                        ],
                        "iteration": 974,
                        "passed_time": 4.356524448,
                        "remaining_time": 0.1117057551
                      },
                      {
                        "learn": [
                          64317.20672
                        ],
                        "iteration": 975,
                        "passed_time": 4.35701399,
                        "remaining_time": 0.1071396883
                      },
                      {
                        "learn": [
                          64317.20672
                        ],
                        "iteration": 976,
                        "passed_time": 4.357521552,
                        "remaining_time": 0.1025823907
                      },
                      {
                        "learn": [
                          64317.20672
                        ],
                        "iteration": 977,
                        "passed_time": 4.358081035,
                        "remaining_time": 0.0980345427
                      },
                      {
                        "learn": [
                          64317.20672
                        ],
                        "iteration": 978,
                        "passed_time": 4.358569398,
                        "remaining_time": 0.09349331702
                      },
                      {
                        "learn": [
                          64317.20672
                        ],
                        "iteration": 979,
                        "passed_time": 4.363670739,
                        "remaining_time": 0.08905450487
                      },
                      {
                        "learn": [
                          64317.20672
                        ],
                        "iteration": 980,
                        "passed_time": 4.364213156,
                        "remaining_time": 0.08452604481
                      },
                      {
                        "learn": [
                          64317.20672
                        ],
                        "iteration": 981,
                        "passed_time": 4.364737455,
                        "remaining_time": 0.08000537086
                      },
                      {
                        "learn": [
                          64317.20672
                        ],
                        "iteration": 982,
                        "passed_time": 4.365233846,
                        "remaining_time": 0.07549234525
                      },
                      {
                        "learn": [
                          64317.20672
                        ],
                        "iteration": 983,
                        "passed_time": 4.369401132,
                        "remaining_time": 0.07104717287
                      },
                      {
                        "learn": [
                          64317.20672
                        ],
                        "iteration": 984,
                        "passed_time": 4.372315792,
                        "remaining_time": 0.06658348922
                      },
                      {
                        "learn": [
                          64317.20672
                        ],
                        "iteration": 985,
                        "passed_time": 4.372853949,
                        "remaining_time": 0.06208920415
                      },
                      {
                        "learn": [
                          64317.20672
                        ],
                        "iteration": 986,
                        "passed_time": 4.373344598,
                        "remaining_time": 0.0576023098
                      },
                      {
                        "learn": [
                          64317.20672
                        ],
                        "iteration": 987,
                        "passed_time": 4.373833377,
                        "remaining_time": 0.05312348231
                      },
                      {
                        "learn": [
                          64317.20672
                        ],
                        "iteration": 988,
                        "passed_time": 4.374290584,
                        "remaining_time": 0.04865237252
                      },
                      {
                        "learn": [
                          64317.20672
                        ],
                        "iteration": 989,
                        "passed_time": 4.37888468,
                        "remaining_time": 0.04423115838
                      },
                      {
                        "learn": [
                          64317.20672
                        ],
                        "iteration": 990,
                        "passed_time": 4.379375579,
                        "remaining_time": 0.03977233119
                      },
                      {
                        "learn": [
                          64317.20672
                        ],
                        "iteration": 991,
                        "passed_time": 4.379887388,
                        "remaining_time": 0.03532167248
                      },
                      {
                        "learn": [
                          64317.20672
                        ],
                        "iteration": 992,
                        "passed_time": 4.380372253,
                        "remaining_time": 0.03087875707
                      },
                      {
                        "learn": [
                          64317.20672
                        ],
                        "iteration": 993,
                        "passed_time": 4.386435232,
                        "remaining_time": 0.02647747625
                      },
                      {
                        "learn": [
                          64317.20672
                        ],
                        "iteration": 994,
                        "passed_time": 4.387036176,
                        "remaining_time": 0.02204540792
                      },
                      {
                        "learn": [
                          64317.20672
                        ],
                        "iteration": 995,
                        "passed_time": 4.393035109,
                        "remaining_time": 0.01764271128
                      },
                      {
                        "learn": [
                          64317.20672
                        ],
                        "iteration": 996,
                        "passed_time": 4.394043108,
                        "remaining_time": 0.01322179471
                      },
                      {
                        "learn": [
                          64317.20672
                        ],
                        "iteration": 997,
                        "passed_time": 4.394584625,
                        "remaining_time": 0.008806782815
                      },
                      {
                        "learn": [
                          64317.20672
                        ],
                        "iteration": 998,
                        "passed_time": 4.395080384,
                        "remaining_time": 0.004399479864
                      },
                      {
                        "learn": [
                          64317.20672
                        ],
                        "iteration": 999,
                        "passed_time": 4.403263626,
                        "remaining_time": 0
                      }
                    ],
                    "meta": {
                      "test_sets": [],
                      "test_metrics": [],
                      "learn_metrics": [
                        {
                          "best_value": "Min",
                          "name": "RMSE"
                        }
                      ],
                      "launch_mode": "Train",
                      "parameters": "",
                      "iteration_count": 1000,
                      "learn_sets": [
                        "learn"
                      ],
                      "name": "experiment"
                    }
                  }
                }
              }
            },
            "layout": "IPY_MODEL_10e1033c00d6423f84f37cc81d135fd1"
          }
        }
      }
    }
  },
  "nbformat": 4,
  "nbformat_minor": 5
}