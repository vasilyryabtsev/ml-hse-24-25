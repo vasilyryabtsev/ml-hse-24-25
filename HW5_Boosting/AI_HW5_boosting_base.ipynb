{
  "cells": [
    {
      "cell_type": "markdown",
      "metadata": {
        "id": "view-in-github",
        "colab_type": "text"
      },
      "source": [
        "<a href=\"https://colab.research.google.com/github/vasilyryabtsev/ml-hse-24-25/blob/main/HW5_Boosting/AI_HW5_boosting_base.ipynb\" target=\"_parent\"><img src=\"https://colab.research.google.com/assets/colab-badge.svg\" alt=\"Open In Colab\"/></a>"
      ]
    },
    {
      "cell_type": "markdown",
      "id": "047674ee",
      "metadata": {
        "id": "047674ee"
      },
      "source": [
        "# **Домашняя работа: прогнозирование заработной платы и кластеризация типов движений**"
      ]
    },
    {
      "cell_type": "markdown",
      "id": "d8461109",
      "metadata": {
        "id": "d8461109"
      },
      "source": [
        "### **Постановка задачи:**\n",
        "\n",
        "В этой работе две части:\n",
        "\n",
        "*   В первой части вам предстоит построить алгоритм на основе бустинга для прогнозирования зарплаты\n",
        "*   Во второй части вам предстоит кластеризовать типы движений по имеющимся данным с акселерометров и гироскопов\n",
        "\n",
        "### **Оценивание:**\n",
        "\n",
        "- Как всегда оцениваются как код, так и ответы на вопросы. Если нет одного и/или другого, то часть баллов за соответствующее задание без колебаний снимается.\n",
        "- Брать код из открытых источников позволительно. Следование культуре цитирования **обязательно.**\n",
        "\n",
        "### **Баллы:**\n",
        "\n",
        "Суммарно за задание можно получить 10 основных и 1 бонусный балл.\n",
        "\n",
        "Оценка за ДЗ = min{ваш балл, 10}\n",
        "\n",
        "**Мягкий дедлайн: 16 февраля 23:59**\n",
        "\n",
        "**Интересной вам работы!**\n"
      ]
    },
    {
      "cell_type": "markdown",
      "id": "60JI9WQfyu5e",
      "metadata": {
        "id": "60JI9WQfyu5e"
      },
      "source": [
        "# **Часть 1. Прогнозирование заработной платы при помощи бустинга**\n",
        "\n",
        "**Количество баллов:** 7"
      ]
    },
    {
      "cell_type": "markdown",
      "id": "1651e8dd",
      "metadata": {
        "id": "1651e8dd"
      },
      "source": [
        "## **Постановка задачи:**\n",
        "\n",
        "Данные выгружены и лежат в файле `ds_salary.csv`. Вам доступны описания признаков и значения целевой переменной.\n",
        "\n",
        "**Ваша задача:** построение модели бустинга и оценка данной модели.\n",
        "\n",
        "## **Описание даных**\n",
        "\n",
        "- work_year: год, в который взяты данные;\n",
        "- experience_level: уровень опыта, кодируемый как SE, MI EN или EX\n",
        "- employment_type: тип занятости (FT, PT, CT, FL)\n",
        "- job_title: название рабочей позиции в компании;\n",
        "- salary: зараплата на позиции;\n",
        "- salary_currency: валюта в которой начисляют зарплату;\n",
        "- employee_residence: страна или регион проживания сотрудника\n",
        "- remote_ratio: процент удаленки, предлагаемый в компании (0, 50, 100)\n",
        "- company_location: местоположение компании\n",
        "- company_size: размер компании, оцененный как S, M, L\n",
        "- salary_in_usd: целевая переменная\n"
      ]
    },
    {
      "cell_type": "markdown",
      "id": "NualIozb1bhS",
      "metadata": {
        "id": "NualIozb1bhS"
      },
      "source": [
        "Как всегда, загрузим набор данных."
      ]
    },
    {
      "cell_type": "code",
      "execution_count": 56,
      "id": "dbf7595c",
      "metadata": {
        "id": "dbf7595c"
      },
      "outputs": [],
      "source": [
        "import pandas as pd\n",
        "import seaborn as sns\n",
        "import matplotlib.pyplot as plt\n",
        "from sklearn.model_selection import train_test_split, cross_val_score\n",
        "from sklearn.linear_model import LinearRegression\n",
        "from sklearn.metrics import mean_absolute_percentage_error as MAPE, root_mean_squared_error as RMSE\n",
        "from sklearn.preprocessing import OneHotEncoder, LabelEncoder, TargetEncoder, FunctionTransformer\n",
        "from sklearn.compose import ColumnTransformer\n",
        "from sklearn.pipeline import Pipeline\n",
        "from catboost import CatBoostRegressor\n",
        "from lightgbm import LGBMRegressor\n",
        "import xgboost as xgb\n",
        "import optuna\n",
        "import warnings\n",
        "\n",
        "warnings.filterwarnings('ignore')"
      ]
    },
    {
      "cell_type": "code",
      "execution_count": 57,
      "id": "792d14c9",
      "metadata": {
        "id": "792d14c9"
      },
      "outputs": [],
      "source": [
        "df = pd.read_csv(\"https://github.com/hse-ds/iad-intro-ds/raw/refs/heads/master/2023/homeworks/hw-08-boosting/ds_salaries.csv\")"
      ]
    },
    {
      "cell_type": "code",
      "execution_count": 58,
      "id": "e6e7320b",
      "metadata": {
        "id": "e6e7320b",
        "outputId": "5c3e33ac-e161-4ca0-d1c4-e6bff56cba74",
        "colab": {
          "base_uri": "https://localhost:8080/",
          "height": 424
        }
      },
      "outputs": [
        {
          "output_type": "execute_result",
          "data": {
            "text/plain": [
              "      work_year experience_level employment_type                 job_title  \\\n",
              "0          2023               SE              FT  Principal Data Scientist   \n",
              "1          2023               MI              CT               ML Engineer   \n",
              "2          2023               MI              CT               ML Engineer   \n",
              "3          2023               SE              FT            Data Scientist   \n",
              "4          2023               SE              FT            Data Scientist   \n",
              "...         ...              ...             ...                       ...   \n",
              "3750       2020               SE              FT            Data Scientist   \n",
              "3751       2021               MI              FT  Principal Data Scientist   \n",
              "3752       2020               EN              FT            Data Scientist   \n",
              "3753       2020               EN              CT     Business Data Analyst   \n",
              "3754       2021               SE              FT      Data Science Manager   \n",
              "\n",
              "       salary salary_currency  salary_in_usd employee_residence  remote_ratio  \\\n",
              "0       80000             EUR          85847                 ES           100   \n",
              "1       30000             USD          30000                 US           100   \n",
              "2       25500             USD          25500                 US           100   \n",
              "3      175000             USD         175000                 CA           100   \n",
              "4      120000             USD         120000                 CA           100   \n",
              "...       ...             ...            ...                ...           ...   \n",
              "3750   412000             USD         412000                 US           100   \n",
              "3751   151000             USD         151000                 US           100   \n",
              "3752   105000             USD         105000                 US           100   \n",
              "3753   100000             USD         100000                 US           100   \n",
              "3754  7000000             INR          94665                 IN            50   \n",
              "\n",
              "     company_location company_size  \n",
              "0                  ES            L  \n",
              "1                  US            S  \n",
              "2                  US            S  \n",
              "3                  CA            M  \n",
              "4                  CA            M  \n",
              "...               ...          ...  \n",
              "3750               US            L  \n",
              "3751               US            L  \n",
              "3752               US            S  \n",
              "3753               US            L  \n",
              "3754               IN            L  \n",
              "\n",
              "[3755 rows x 11 columns]"
            ],
            "text/html": [
              "\n",
              "  <div id=\"df-e85d13c0-f0a6-4b8c-aab6-5061b2b0d8eb\" class=\"colab-df-container\">\n",
              "    <div>\n",
              "<style scoped>\n",
              "    .dataframe tbody tr th:only-of-type {\n",
              "        vertical-align: middle;\n",
              "    }\n",
              "\n",
              "    .dataframe tbody tr th {\n",
              "        vertical-align: top;\n",
              "    }\n",
              "\n",
              "    .dataframe thead th {\n",
              "        text-align: right;\n",
              "    }\n",
              "</style>\n",
              "<table border=\"1\" class=\"dataframe\">\n",
              "  <thead>\n",
              "    <tr style=\"text-align: right;\">\n",
              "      <th></th>\n",
              "      <th>work_year</th>\n",
              "      <th>experience_level</th>\n",
              "      <th>employment_type</th>\n",
              "      <th>job_title</th>\n",
              "      <th>salary</th>\n",
              "      <th>salary_currency</th>\n",
              "      <th>salary_in_usd</th>\n",
              "      <th>employee_residence</th>\n",
              "      <th>remote_ratio</th>\n",
              "      <th>company_location</th>\n",
              "      <th>company_size</th>\n",
              "    </tr>\n",
              "  </thead>\n",
              "  <tbody>\n",
              "    <tr>\n",
              "      <th>0</th>\n",
              "      <td>2023</td>\n",
              "      <td>SE</td>\n",
              "      <td>FT</td>\n",
              "      <td>Principal Data Scientist</td>\n",
              "      <td>80000</td>\n",
              "      <td>EUR</td>\n",
              "      <td>85847</td>\n",
              "      <td>ES</td>\n",
              "      <td>100</td>\n",
              "      <td>ES</td>\n",
              "      <td>L</td>\n",
              "    </tr>\n",
              "    <tr>\n",
              "      <th>1</th>\n",
              "      <td>2023</td>\n",
              "      <td>MI</td>\n",
              "      <td>CT</td>\n",
              "      <td>ML Engineer</td>\n",
              "      <td>30000</td>\n",
              "      <td>USD</td>\n",
              "      <td>30000</td>\n",
              "      <td>US</td>\n",
              "      <td>100</td>\n",
              "      <td>US</td>\n",
              "      <td>S</td>\n",
              "    </tr>\n",
              "    <tr>\n",
              "      <th>2</th>\n",
              "      <td>2023</td>\n",
              "      <td>MI</td>\n",
              "      <td>CT</td>\n",
              "      <td>ML Engineer</td>\n",
              "      <td>25500</td>\n",
              "      <td>USD</td>\n",
              "      <td>25500</td>\n",
              "      <td>US</td>\n",
              "      <td>100</td>\n",
              "      <td>US</td>\n",
              "      <td>S</td>\n",
              "    </tr>\n",
              "    <tr>\n",
              "      <th>3</th>\n",
              "      <td>2023</td>\n",
              "      <td>SE</td>\n",
              "      <td>FT</td>\n",
              "      <td>Data Scientist</td>\n",
              "      <td>175000</td>\n",
              "      <td>USD</td>\n",
              "      <td>175000</td>\n",
              "      <td>CA</td>\n",
              "      <td>100</td>\n",
              "      <td>CA</td>\n",
              "      <td>M</td>\n",
              "    </tr>\n",
              "    <tr>\n",
              "      <th>4</th>\n",
              "      <td>2023</td>\n",
              "      <td>SE</td>\n",
              "      <td>FT</td>\n",
              "      <td>Data Scientist</td>\n",
              "      <td>120000</td>\n",
              "      <td>USD</td>\n",
              "      <td>120000</td>\n",
              "      <td>CA</td>\n",
              "      <td>100</td>\n",
              "      <td>CA</td>\n",
              "      <td>M</td>\n",
              "    </tr>\n",
              "    <tr>\n",
              "      <th>...</th>\n",
              "      <td>...</td>\n",
              "      <td>...</td>\n",
              "      <td>...</td>\n",
              "      <td>...</td>\n",
              "      <td>...</td>\n",
              "      <td>...</td>\n",
              "      <td>...</td>\n",
              "      <td>...</td>\n",
              "      <td>...</td>\n",
              "      <td>...</td>\n",
              "      <td>...</td>\n",
              "    </tr>\n",
              "    <tr>\n",
              "      <th>3750</th>\n",
              "      <td>2020</td>\n",
              "      <td>SE</td>\n",
              "      <td>FT</td>\n",
              "      <td>Data Scientist</td>\n",
              "      <td>412000</td>\n",
              "      <td>USD</td>\n",
              "      <td>412000</td>\n",
              "      <td>US</td>\n",
              "      <td>100</td>\n",
              "      <td>US</td>\n",
              "      <td>L</td>\n",
              "    </tr>\n",
              "    <tr>\n",
              "      <th>3751</th>\n",
              "      <td>2021</td>\n",
              "      <td>MI</td>\n",
              "      <td>FT</td>\n",
              "      <td>Principal Data Scientist</td>\n",
              "      <td>151000</td>\n",
              "      <td>USD</td>\n",
              "      <td>151000</td>\n",
              "      <td>US</td>\n",
              "      <td>100</td>\n",
              "      <td>US</td>\n",
              "      <td>L</td>\n",
              "    </tr>\n",
              "    <tr>\n",
              "      <th>3752</th>\n",
              "      <td>2020</td>\n",
              "      <td>EN</td>\n",
              "      <td>FT</td>\n",
              "      <td>Data Scientist</td>\n",
              "      <td>105000</td>\n",
              "      <td>USD</td>\n",
              "      <td>105000</td>\n",
              "      <td>US</td>\n",
              "      <td>100</td>\n",
              "      <td>US</td>\n",
              "      <td>S</td>\n",
              "    </tr>\n",
              "    <tr>\n",
              "      <th>3753</th>\n",
              "      <td>2020</td>\n",
              "      <td>EN</td>\n",
              "      <td>CT</td>\n",
              "      <td>Business Data Analyst</td>\n",
              "      <td>100000</td>\n",
              "      <td>USD</td>\n",
              "      <td>100000</td>\n",
              "      <td>US</td>\n",
              "      <td>100</td>\n",
              "      <td>US</td>\n",
              "      <td>L</td>\n",
              "    </tr>\n",
              "    <tr>\n",
              "      <th>3754</th>\n",
              "      <td>2021</td>\n",
              "      <td>SE</td>\n",
              "      <td>FT</td>\n",
              "      <td>Data Science Manager</td>\n",
              "      <td>7000000</td>\n",
              "      <td>INR</td>\n",
              "      <td>94665</td>\n",
              "      <td>IN</td>\n",
              "      <td>50</td>\n",
              "      <td>IN</td>\n",
              "      <td>L</td>\n",
              "    </tr>\n",
              "  </tbody>\n",
              "</table>\n",
              "<p>3755 rows × 11 columns</p>\n",
              "</div>\n",
              "    <div class=\"colab-df-buttons\">\n",
              "\n",
              "  <div class=\"colab-df-container\">\n",
              "    <button class=\"colab-df-convert\" onclick=\"convertToInteractive('df-e85d13c0-f0a6-4b8c-aab6-5061b2b0d8eb')\"\n",
              "            title=\"Convert this dataframe to an interactive table.\"\n",
              "            style=\"display:none;\">\n",
              "\n",
              "  <svg xmlns=\"http://www.w3.org/2000/svg\" height=\"24px\" viewBox=\"0 -960 960 960\">\n",
              "    <path d=\"M120-120v-720h720v720H120Zm60-500h600v-160H180v160Zm220 220h160v-160H400v160Zm0 220h160v-160H400v160ZM180-400h160v-160H180v160Zm440 0h160v-160H620v160ZM180-180h160v-160H180v160Zm440 0h160v-160H620v160Z\"/>\n",
              "  </svg>\n",
              "    </button>\n",
              "\n",
              "  <style>\n",
              "    .colab-df-container {\n",
              "      display:flex;\n",
              "      gap: 12px;\n",
              "    }\n",
              "\n",
              "    .colab-df-convert {\n",
              "      background-color: #E8F0FE;\n",
              "      border: none;\n",
              "      border-radius: 50%;\n",
              "      cursor: pointer;\n",
              "      display: none;\n",
              "      fill: #1967D2;\n",
              "      height: 32px;\n",
              "      padding: 0 0 0 0;\n",
              "      width: 32px;\n",
              "    }\n",
              "\n",
              "    .colab-df-convert:hover {\n",
              "      background-color: #E2EBFA;\n",
              "      box-shadow: 0px 1px 2px rgba(60, 64, 67, 0.3), 0px 1px 3px 1px rgba(60, 64, 67, 0.15);\n",
              "      fill: #174EA6;\n",
              "    }\n",
              "\n",
              "    .colab-df-buttons div {\n",
              "      margin-bottom: 4px;\n",
              "    }\n",
              "\n",
              "    [theme=dark] .colab-df-convert {\n",
              "      background-color: #3B4455;\n",
              "      fill: #D2E3FC;\n",
              "    }\n",
              "\n",
              "    [theme=dark] .colab-df-convert:hover {\n",
              "      background-color: #434B5C;\n",
              "      box-shadow: 0px 1px 3px 1px rgba(0, 0, 0, 0.15);\n",
              "      filter: drop-shadow(0px 1px 2px rgba(0, 0, 0, 0.3));\n",
              "      fill: #FFFFFF;\n",
              "    }\n",
              "  </style>\n",
              "\n",
              "    <script>\n",
              "      const buttonEl =\n",
              "        document.querySelector('#df-e85d13c0-f0a6-4b8c-aab6-5061b2b0d8eb button.colab-df-convert');\n",
              "      buttonEl.style.display =\n",
              "        google.colab.kernel.accessAllowed ? 'block' : 'none';\n",
              "\n",
              "      async function convertToInteractive(key) {\n",
              "        const element = document.querySelector('#df-e85d13c0-f0a6-4b8c-aab6-5061b2b0d8eb');\n",
              "        const dataTable =\n",
              "          await google.colab.kernel.invokeFunction('convertToInteractive',\n",
              "                                                    [key], {});\n",
              "        if (!dataTable) return;\n",
              "\n",
              "        const docLinkHtml = 'Like what you see? Visit the ' +\n",
              "          '<a target=\"_blank\" href=https://colab.research.google.com/notebooks/data_table.ipynb>data table notebook</a>'\n",
              "          + ' to learn more about interactive tables.';\n",
              "        element.innerHTML = '';\n",
              "        dataTable['output_type'] = 'display_data';\n",
              "        await google.colab.output.renderOutput(dataTable, element);\n",
              "        const docLink = document.createElement('div');\n",
              "        docLink.innerHTML = docLinkHtml;\n",
              "        element.appendChild(docLink);\n",
              "      }\n",
              "    </script>\n",
              "  </div>\n",
              "\n",
              "\n",
              "<div id=\"df-3de468c6-894b-4799-bc2b-c20884c47c81\">\n",
              "  <button class=\"colab-df-quickchart\" onclick=\"quickchart('df-3de468c6-894b-4799-bc2b-c20884c47c81')\"\n",
              "            title=\"Suggest charts\"\n",
              "            style=\"display:none;\">\n",
              "\n",
              "<svg xmlns=\"http://www.w3.org/2000/svg\" height=\"24px\"viewBox=\"0 0 24 24\"\n",
              "     width=\"24px\">\n",
              "    <g>\n",
              "        <path d=\"M19 3H5c-1.1 0-2 .9-2 2v14c0 1.1.9 2 2 2h14c1.1 0 2-.9 2-2V5c0-1.1-.9-2-2-2zM9 17H7v-7h2v7zm4 0h-2V7h2v10zm4 0h-2v-4h2v4z\"/>\n",
              "    </g>\n",
              "</svg>\n",
              "  </button>\n",
              "\n",
              "<style>\n",
              "  .colab-df-quickchart {\n",
              "      --bg-color: #E8F0FE;\n",
              "      --fill-color: #1967D2;\n",
              "      --hover-bg-color: #E2EBFA;\n",
              "      --hover-fill-color: #174EA6;\n",
              "      --disabled-fill-color: #AAA;\n",
              "      --disabled-bg-color: #DDD;\n",
              "  }\n",
              "\n",
              "  [theme=dark] .colab-df-quickchart {\n",
              "      --bg-color: #3B4455;\n",
              "      --fill-color: #D2E3FC;\n",
              "      --hover-bg-color: #434B5C;\n",
              "      --hover-fill-color: #FFFFFF;\n",
              "      --disabled-bg-color: #3B4455;\n",
              "      --disabled-fill-color: #666;\n",
              "  }\n",
              "\n",
              "  .colab-df-quickchart {\n",
              "    background-color: var(--bg-color);\n",
              "    border: none;\n",
              "    border-radius: 50%;\n",
              "    cursor: pointer;\n",
              "    display: none;\n",
              "    fill: var(--fill-color);\n",
              "    height: 32px;\n",
              "    padding: 0;\n",
              "    width: 32px;\n",
              "  }\n",
              "\n",
              "  .colab-df-quickchart:hover {\n",
              "    background-color: var(--hover-bg-color);\n",
              "    box-shadow: 0 1px 2px rgba(60, 64, 67, 0.3), 0 1px 3px 1px rgba(60, 64, 67, 0.15);\n",
              "    fill: var(--button-hover-fill-color);\n",
              "  }\n",
              "\n",
              "  .colab-df-quickchart-complete:disabled,\n",
              "  .colab-df-quickchart-complete:disabled:hover {\n",
              "    background-color: var(--disabled-bg-color);\n",
              "    fill: var(--disabled-fill-color);\n",
              "    box-shadow: none;\n",
              "  }\n",
              "\n",
              "  .colab-df-spinner {\n",
              "    border: 2px solid var(--fill-color);\n",
              "    border-color: transparent;\n",
              "    border-bottom-color: var(--fill-color);\n",
              "    animation:\n",
              "      spin 1s steps(1) infinite;\n",
              "  }\n",
              "\n",
              "  @keyframes spin {\n",
              "    0% {\n",
              "      border-color: transparent;\n",
              "      border-bottom-color: var(--fill-color);\n",
              "      border-left-color: var(--fill-color);\n",
              "    }\n",
              "    20% {\n",
              "      border-color: transparent;\n",
              "      border-left-color: var(--fill-color);\n",
              "      border-top-color: var(--fill-color);\n",
              "    }\n",
              "    30% {\n",
              "      border-color: transparent;\n",
              "      border-left-color: var(--fill-color);\n",
              "      border-top-color: var(--fill-color);\n",
              "      border-right-color: var(--fill-color);\n",
              "    }\n",
              "    40% {\n",
              "      border-color: transparent;\n",
              "      border-right-color: var(--fill-color);\n",
              "      border-top-color: var(--fill-color);\n",
              "    }\n",
              "    60% {\n",
              "      border-color: transparent;\n",
              "      border-right-color: var(--fill-color);\n",
              "    }\n",
              "    80% {\n",
              "      border-color: transparent;\n",
              "      border-right-color: var(--fill-color);\n",
              "      border-bottom-color: var(--fill-color);\n",
              "    }\n",
              "    90% {\n",
              "      border-color: transparent;\n",
              "      border-bottom-color: var(--fill-color);\n",
              "    }\n",
              "  }\n",
              "</style>\n",
              "\n",
              "  <script>\n",
              "    async function quickchart(key) {\n",
              "      const quickchartButtonEl =\n",
              "        document.querySelector('#' + key + ' button');\n",
              "      quickchartButtonEl.disabled = true;  // To prevent multiple clicks.\n",
              "      quickchartButtonEl.classList.add('colab-df-spinner');\n",
              "      try {\n",
              "        const charts = await google.colab.kernel.invokeFunction(\n",
              "            'suggestCharts', [key], {});\n",
              "      } catch (error) {\n",
              "        console.error('Error during call to suggestCharts:', error);\n",
              "      }\n",
              "      quickchartButtonEl.classList.remove('colab-df-spinner');\n",
              "      quickchartButtonEl.classList.add('colab-df-quickchart-complete');\n",
              "    }\n",
              "    (() => {\n",
              "      let quickchartButtonEl =\n",
              "        document.querySelector('#df-3de468c6-894b-4799-bc2b-c20884c47c81 button');\n",
              "      quickchartButtonEl.style.display =\n",
              "        google.colab.kernel.accessAllowed ? 'block' : 'none';\n",
              "    })();\n",
              "  </script>\n",
              "</div>\n",
              "\n",
              "  <div id=\"id_74c5475e-36c3-4b93-a090-fcba7afe1a5c\">\n",
              "    <style>\n",
              "      .colab-df-generate {\n",
              "        background-color: #E8F0FE;\n",
              "        border: none;\n",
              "        border-radius: 50%;\n",
              "        cursor: pointer;\n",
              "        display: none;\n",
              "        fill: #1967D2;\n",
              "        height: 32px;\n",
              "        padding: 0 0 0 0;\n",
              "        width: 32px;\n",
              "      }\n",
              "\n",
              "      .colab-df-generate:hover {\n",
              "        background-color: #E2EBFA;\n",
              "        box-shadow: 0px 1px 2px rgba(60, 64, 67, 0.3), 0px 1px 3px 1px rgba(60, 64, 67, 0.15);\n",
              "        fill: #174EA6;\n",
              "      }\n",
              "\n",
              "      [theme=dark] .colab-df-generate {\n",
              "        background-color: #3B4455;\n",
              "        fill: #D2E3FC;\n",
              "      }\n",
              "\n",
              "      [theme=dark] .colab-df-generate:hover {\n",
              "        background-color: #434B5C;\n",
              "        box-shadow: 0px 1px 3px 1px rgba(0, 0, 0, 0.15);\n",
              "        filter: drop-shadow(0px 1px 2px rgba(0, 0, 0, 0.3));\n",
              "        fill: #FFFFFF;\n",
              "      }\n",
              "    </style>\n",
              "    <button class=\"colab-df-generate\" onclick=\"generateWithVariable('df')\"\n",
              "            title=\"Generate code using this dataframe.\"\n",
              "            style=\"display:none;\">\n",
              "\n",
              "  <svg xmlns=\"http://www.w3.org/2000/svg\" height=\"24px\"viewBox=\"0 0 24 24\"\n",
              "       width=\"24px\">\n",
              "    <path d=\"M7,19H8.4L18.45,9,17,7.55,7,17.6ZM5,21V16.75L18.45,3.32a2,2,0,0,1,2.83,0l1.4,1.43a1.91,1.91,0,0,1,.58,1.4,1.91,1.91,0,0,1-.58,1.4L9.25,21ZM18.45,9,17,7.55Zm-12,3A5.31,5.31,0,0,0,4.9,8.1,5.31,5.31,0,0,0,1,6.5,5.31,5.31,0,0,0,4.9,4.9,5.31,5.31,0,0,0,6.5,1,5.31,5.31,0,0,0,8.1,4.9,5.31,5.31,0,0,0,12,6.5,5.46,5.46,0,0,0,6.5,12Z\"/>\n",
              "  </svg>\n",
              "    </button>\n",
              "    <script>\n",
              "      (() => {\n",
              "      const buttonEl =\n",
              "        document.querySelector('#id_74c5475e-36c3-4b93-a090-fcba7afe1a5c button.colab-df-generate');\n",
              "      buttonEl.style.display =\n",
              "        google.colab.kernel.accessAllowed ? 'block' : 'none';\n",
              "\n",
              "      buttonEl.onclick = () => {\n",
              "        google.colab.notebook.generateWithVariable('df');\n",
              "      }\n",
              "      })();\n",
              "    </script>\n",
              "  </div>\n",
              "\n",
              "    </div>\n",
              "  </div>\n"
            ],
            "application/vnd.google.colaboratory.intrinsic+json": {
              "type": "dataframe",
              "variable_name": "df",
              "summary": "{\n  \"name\": \"df\",\n  \"rows\": 3755,\n  \"fields\": [\n    {\n      \"column\": \"work_year\",\n      \"properties\": {\n        \"dtype\": \"number\",\n        \"std\": 0,\n        \"min\": 2020,\n        \"max\": 2023,\n        \"num_unique_values\": 4,\n        \"samples\": [\n          2022,\n          2021,\n          2023\n        ],\n        \"semantic_type\": \"\",\n        \"description\": \"\"\n      }\n    },\n    {\n      \"column\": \"experience_level\",\n      \"properties\": {\n        \"dtype\": \"category\",\n        \"num_unique_values\": 4,\n        \"samples\": [\n          \"MI\",\n          \"EX\",\n          \"SE\"\n        ],\n        \"semantic_type\": \"\",\n        \"description\": \"\"\n      }\n    },\n    {\n      \"column\": \"employment_type\",\n      \"properties\": {\n        \"dtype\": \"category\",\n        \"num_unique_values\": 4,\n        \"samples\": [\n          \"CT\",\n          \"PT\",\n          \"FT\"\n        ],\n        \"semantic_type\": \"\",\n        \"description\": \"\"\n      }\n    },\n    {\n      \"column\": \"job_title\",\n      \"properties\": {\n        \"dtype\": \"category\",\n        \"num_unique_values\": 93,\n        \"samples\": [\n          \"Cloud Database Engineer\",\n          \"Staff Data Analyst\",\n          \"Insight Analyst\"\n        ],\n        \"semantic_type\": \"\",\n        \"description\": \"\"\n      }\n    },\n    {\n      \"column\": \"salary\",\n      \"properties\": {\n        \"dtype\": \"number\",\n        \"std\": 671676,\n        \"min\": 6000,\n        \"max\": 30400000,\n        \"num_unique_values\": 815,\n        \"samples\": [\n          84570,\n          138000,\n          370000\n        ],\n        \"semantic_type\": \"\",\n        \"description\": \"\"\n      }\n    },\n    {\n      \"column\": \"salary_currency\",\n      \"properties\": {\n        \"dtype\": \"category\",\n        \"num_unique_values\": 20,\n        \"samples\": [\n          \"EUR\",\n          \"MXN\",\n          \"DKK\"\n        ],\n        \"semantic_type\": \"\",\n        \"description\": \"\"\n      }\n    },\n    {\n      \"column\": \"salary_in_usd\",\n      \"properties\": {\n        \"dtype\": \"number\",\n        \"std\": 63055,\n        \"min\": 5132,\n        \"max\": 450000,\n        \"num_unique_values\": 1035,\n        \"samples\": [\n          205600,\n          375000,\n          140700\n        ],\n        \"semantic_type\": \"\",\n        \"description\": \"\"\n      }\n    },\n    {\n      \"column\": \"employee_residence\",\n      \"properties\": {\n        \"dtype\": \"category\",\n        \"num_unique_values\": 78,\n        \"samples\": [\n          \"AR\",\n          \"ES\",\n          \"AM\"\n        ],\n        \"semantic_type\": \"\",\n        \"description\": \"\"\n      }\n    },\n    {\n      \"column\": \"remote_ratio\",\n      \"properties\": {\n        \"dtype\": \"number\",\n        \"std\": 48,\n        \"min\": 0,\n        \"max\": 100,\n        \"num_unique_values\": 3,\n        \"samples\": [\n          100,\n          0,\n          50\n        ],\n        \"semantic_type\": \"\",\n        \"description\": \"\"\n      }\n    },\n    {\n      \"column\": \"company_location\",\n      \"properties\": {\n        \"dtype\": \"category\",\n        \"num_unique_values\": 72,\n        \"samples\": [\n          \"GB\",\n          \"MY\",\n          \"SG\"\n        ],\n        \"semantic_type\": \"\",\n        \"description\": \"\"\n      }\n    },\n    {\n      \"column\": \"company_size\",\n      \"properties\": {\n        \"dtype\": \"category\",\n        \"num_unique_values\": 3,\n        \"samples\": [\n          \"L\",\n          \"S\",\n          \"M\"\n        ],\n        \"semantic_type\": \"\",\n        \"description\": \"\"\n      }\n    }\n  ]\n}"
            }
          },
          "metadata": {},
          "execution_count": 58
        }
      ],
      "source": [
        "df"
      ]
    },
    {
      "cell_type": "markdown",
      "id": "FfyDFPh62ow_",
      "metadata": {
        "id": "FfyDFPh62ow_"
      },
      "source": [
        "## **Задание 1 (0.3 балла)**\n",
        "\n",
        "Вам даны описания переменных. Проверьте, что категориальные признаки, категории которых перечислены, не имеют ошибочных значений. Для этого:\n",
        "\n",
        "- Напишите цикл, пробегающий по выбранным признакам и оценивающий, что в них нет лишних значений;"
      ]
    },
    {
      "cell_type": "code",
      "execution_count": 59,
      "id": "7In340ig3Bir",
      "metadata": {
        "id": "7In340ig3Bir",
        "outputId": "c1ec386b-1a77-4cb0-9b9c-b1d555ed62fd",
        "colab": {
          "base_uri": "https://localhost:8080/"
        }
      },
      "outputs": [
        {
          "output_type": "stream",
          "name": "stdout",
          "text": [
            "experience_level\n",
            "True\n",
            "---------------\n",
            "employment_type\n",
            "True\n",
            "---------------\n",
            "company_size\n",
            "True\n",
            "---------------\n"
          ]
        }
      ],
      "source": [
        "experience_level_cat = ['SE', 'MI', 'EN', 'EX']\n",
        "employment_type_cat = ['FT', 'PT', 'CT', 'FL']\n",
        "company_size_cat = ['S', 'M', 'L']\n",
        "\n",
        "cat_dict = {\n",
        "    'experience_level': experience_level_cat,\n",
        "    'employment_type': employment_type_cat,\n",
        "    'company_size': company_size_cat\n",
        "}\n",
        "\n",
        "for cat in cat_dict:\n",
        "    print(cat)\n",
        "    print(df[df[cat].isin(cat_dict[cat])].shape[0] == df.shape[0])\n",
        "    print('---------------')\n",
        ""
      ]
    },
    {
      "cell_type": "markdown",
      "id": "abae8ac6",
      "metadata": {
        "id": "abae8ac6"
      },
      "source": [
        "`В выбранных признаках нет лишних значений.`"
      ]
    },
    {
      "cell_type": "markdown",
      "id": "6696e77a",
      "metadata": {
        "id": "6696e77a"
      },
      "source": [
        "## **Задание 2 (0.3 балла)**\n",
        "\n",
        "Проведите базовые шаги оценки качества данных.\n",
        "- Есть есть проблемы, устраните их;\n",
        "- Если нет проблем, кратко опишите это."
      ]
    },
    {
      "cell_type": "code",
      "execution_count": 60,
      "id": "c6b67c3a",
      "metadata": {
        "id": "c6b67c3a",
        "outputId": "bb909010-d0e5-4739-ab01-99fa74d54933",
        "colab": {
          "base_uri": "https://localhost:8080/",
          "height": 429
        }
      },
      "outputs": [
        {
          "output_type": "execute_result",
          "data": {
            "text/plain": [
              "work_year             0\n",
              "experience_level      0\n",
              "employment_type       0\n",
              "job_title             0\n",
              "salary                0\n",
              "salary_currency       0\n",
              "salary_in_usd         0\n",
              "employee_residence    0\n",
              "remote_ratio          0\n",
              "company_location      0\n",
              "company_size          0\n",
              "dtype: int64"
            ],
            "text/html": [
              "<div>\n",
              "<style scoped>\n",
              "    .dataframe tbody tr th:only-of-type {\n",
              "        vertical-align: middle;\n",
              "    }\n",
              "\n",
              "    .dataframe tbody tr th {\n",
              "        vertical-align: top;\n",
              "    }\n",
              "\n",
              "    .dataframe thead th {\n",
              "        text-align: right;\n",
              "    }\n",
              "</style>\n",
              "<table border=\"1\" class=\"dataframe\">\n",
              "  <thead>\n",
              "    <tr style=\"text-align: right;\">\n",
              "      <th></th>\n",
              "      <th>0</th>\n",
              "    </tr>\n",
              "  </thead>\n",
              "  <tbody>\n",
              "    <tr>\n",
              "      <th>work_year</th>\n",
              "      <td>0</td>\n",
              "    </tr>\n",
              "    <tr>\n",
              "      <th>experience_level</th>\n",
              "      <td>0</td>\n",
              "    </tr>\n",
              "    <tr>\n",
              "      <th>employment_type</th>\n",
              "      <td>0</td>\n",
              "    </tr>\n",
              "    <tr>\n",
              "      <th>job_title</th>\n",
              "      <td>0</td>\n",
              "    </tr>\n",
              "    <tr>\n",
              "      <th>salary</th>\n",
              "      <td>0</td>\n",
              "    </tr>\n",
              "    <tr>\n",
              "      <th>salary_currency</th>\n",
              "      <td>0</td>\n",
              "    </tr>\n",
              "    <tr>\n",
              "      <th>salary_in_usd</th>\n",
              "      <td>0</td>\n",
              "    </tr>\n",
              "    <tr>\n",
              "      <th>employee_residence</th>\n",
              "      <td>0</td>\n",
              "    </tr>\n",
              "    <tr>\n",
              "      <th>remote_ratio</th>\n",
              "      <td>0</td>\n",
              "    </tr>\n",
              "    <tr>\n",
              "      <th>company_location</th>\n",
              "      <td>0</td>\n",
              "    </tr>\n",
              "    <tr>\n",
              "      <th>company_size</th>\n",
              "      <td>0</td>\n",
              "    </tr>\n",
              "  </tbody>\n",
              "</table>\n",
              "</div><br><label><b>dtype:</b> int64</label>"
            ]
          },
          "metadata": {},
          "execution_count": 60
        }
      ],
      "source": [
        "df.isna().sum()"
      ]
    },
    {
      "cell_type": "markdown",
      "id": "c1087b60",
      "metadata": {
        "id": "c1087b60"
      },
      "source": [
        "`Пропусков нет.`"
      ]
    },
    {
      "cell_type": "code",
      "execution_count": 61,
      "id": "08fa5665",
      "metadata": {
        "id": "08fa5665",
        "outputId": "7e7993b0-96cd-4703-8385-0e872e4428c8",
        "colab": {
          "base_uri": "https://localhost:8080/"
        }
      },
      "outputs": [
        {
          "output_type": "execute_result",
          "data": {
            "text/plain": [
              "1171"
            ]
          },
          "metadata": {},
          "execution_count": 61
        }
      ],
      "source": [
        "df.duplicated().sum()"
      ]
    },
    {
      "cell_type": "markdown",
      "id": "ca33588f",
      "metadata": {
        "id": "ca33588f"
      },
      "source": [
        "`В датасете есть дубли, которые следует удалить.`"
      ]
    },
    {
      "cell_type": "code",
      "execution_count": 62,
      "id": "683acba6",
      "metadata": {
        "id": "683acba6"
      },
      "outputs": [],
      "source": [
        "df.drop_duplicates(inplace=True)"
      ]
    },
    {
      "cell_type": "code",
      "execution_count": 63,
      "id": "34161ca6",
      "metadata": {
        "id": "34161ca6",
        "outputId": "2056a71c-7f1b-43ca-9953-34a750aacb64",
        "colab": {
          "base_uri": "https://localhost:8080/"
        }
      },
      "outputs": [
        {
          "output_type": "stream",
          "name": "stdout",
          "text": [
            "<class 'pandas.core.frame.DataFrame'>\n",
            "Index: 2584 entries, 0 to 3754\n",
            "Data columns (total 11 columns):\n",
            " #   Column              Non-Null Count  Dtype \n",
            "---  ------              --------------  ----- \n",
            " 0   work_year           2584 non-null   int64 \n",
            " 1   experience_level    2584 non-null   object\n",
            " 2   employment_type     2584 non-null   object\n",
            " 3   job_title           2584 non-null   object\n",
            " 4   salary              2584 non-null   int64 \n",
            " 5   salary_currency     2584 non-null   object\n",
            " 6   salary_in_usd       2584 non-null   int64 \n",
            " 7   employee_residence  2584 non-null   object\n",
            " 8   remote_ratio        2584 non-null   int64 \n",
            " 9   company_location    2584 non-null   object\n",
            " 10  company_size        2584 non-null   object\n",
            "dtypes: int64(4), object(7)\n",
            "memory usage: 242.2+ KB\n"
          ]
        }
      ],
      "source": [
        "df.info()"
      ]
    },
    {
      "cell_type": "markdown",
      "id": "a2e36532",
      "metadata": {
        "id": "a2e36532"
      },
      "source": [
        "`С типами данных всё нормально.`"
      ]
    },
    {
      "cell_type": "code",
      "execution_count": 64,
      "id": "fa473877",
      "metadata": {
        "id": "fa473877",
        "outputId": "4ac7b23c-074b-4356-f430-92f681f84ca3",
        "colab": {
          "base_uri": "https://localhost:8080/",
          "height": 300
        }
      },
      "outputs": [
        {
          "output_type": "execute_result",
          "data": {
            "text/plain": [
              "         work_year        salary  salary_in_usd  remote_ratio\n",
              "count  2584.000000  2.584000e+03    2584.000000   2584.000000\n",
              "mean   2022.301084  2.103653e+05  133409.280186     50.483746\n",
              "std       0.749179  8.080375e+05   67136.837329     48.163707\n",
              "min    2020.000000  6.000000e+03    5132.000000      0.000000\n",
              "25%    2022.000000  9.000000e+04   84975.000000      0.000000\n",
              "50%    2022.000000  1.346300e+05  130000.000000     50.000000\n",
              "75%    2023.000000  1.825625e+05  175000.000000    100.000000\n",
              "max    2023.000000  3.040000e+07  450000.000000    100.000000"
            ],
            "text/html": [
              "\n",
              "  <div id=\"df-c21424fa-a792-4d0c-988a-6bac226cec2e\" class=\"colab-df-container\">\n",
              "    <div>\n",
              "<style scoped>\n",
              "    .dataframe tbody tr th:only-of-type {\n",
              "        vertical-align: middle;\n",
              "    }\n",
              "\n",
              "    .dataframe tbody tr th {\n",
              "        vertical-align: top;\n",
              "    }\n",
              "\n",
              "    .dataframe thead th {\n",
              "        text-align: right;\n",
              "    }\n",
              "</style>\n",
              "<table border=\"1\" class=\"dataframe\">\n",
              "  <thead>\n",
              "    <tr style=\"text-align: right;\">\n",
              "      <th></th>\n",
              "      <th>work_year</th>\n",
              "      <th>salary</th>\n",
              "      <th>salary_in_usd</th>\n",
              "      <th>remote_ratio</th>\n",
              "    </tr>\n",
              "  </thead>\n",
              "  <tbody>\n",
              "    <tr>\n",
              "      <th>count</th>\n",
              "      <td>2584.000000</td>\n",
              "      <td>2.584000e+03</td>\n",
              "      <td>2584.000000</td>\n",
              "      <td>2584.000000</td>\n",
              "    </tr>\n",
              "    <tr>\n",
              "      <th>mean</th>\n",
              "      <td>2022.301084</td>\n",
              "      <td>2.103653e+05</td>\n",
              "      <td>133409.280186</td>\n",
              "      <td>50.483746</td>\n",
              "    </tr>\n",
              "    <tr>\n",
              "      <th>std</th>\n",
              "      <td>0.749179</td>\n",
              "      <td>8.080375e+05</td>\n",
              "      <td>67136.837329</td>\n",
              "      <td>48.163707</td>\n",
              "    </tr>\n",
              "    <tr>\n",
              "      <th>min</th>\n",
              "      <td>2020.000000</td>\n",
              "      <td>6.000000e+03</td>\n",
              "      <td>5132.000000</td>\n",
              "      <td>0.000000</td>\n",
              "    </tr>\n",
              "    <tr>\n",
              "      <th>25%</th>\n",
              "      <td>2022.000000</td>\n",
              "      <td>9.000000e+04</td>\n",
              "      <td>84975.000000</td>\n",
              "      <td>0.000000</td>\n",
              "    </tr>\n",
              "    <tr>\n",
              "      <th>50%</th>\n",
              "      <td>2022.000000</td>\n",
              "      <td>1.346300e+05</td>\n",
              "      <td>130000.000000</td>\n",
              "      <td>50.000000</td>\n",
              "    </tr>\n",
              "    <tr>\n",
              "      <th>75%</th>\n",
              "      <td>2023.000000</td>\n",
              "      <td>1.825625e+05</td>\n",
              "      <td>175000.000000</td>\n",
              "      <td>100.000000</td>\n",
              "    </tr>\n",
              "    <tr>\n",
              "      <th>max</th>\n",
              "      <td>2023.000000</td>\n",
              "      <td>3.040000e+07</td>\n",
              "      <td>450000.000000</td>\n",
              "      <td>100.000000</td>\n",
              "    </tr>\n",
              "  </tbody>\n",
              "</table>\n",
              "</div>\n",
              "    <div class=\"colab-df-buttons\">\n",
              "\n",
              "  <div class=\"colab-df-container\">\n",
              "    <button class=\"colab-df-convert\" onclick=\"convertToInteractive('df-c21424fa-a792-4d0c-988a-6bac226cec2e')\"\n",
              "            title=\"Convert this dataframe to an interactive table.\"\n",
              "            style=\"display:none;\">\n",
              "\n",
              "  <svg xmlns=\"http://www.w3.org/2000/svg\" height=\"24px\" viewBox=\"0 -960 960 960\">\n",
              "    <path d=\"M120-120v-720h720v720H120Zm60-500h600v-160H180v160Zm220 220h160v-160H400v160Zm0 220h160v-160H400v160ZM180-400h160v-160H180v160Zm440 0h160v-160H620v160ZM180-180h160v-160H180v160Zm440 0h160v-160H620v160Z\"/>\n",
              "  </svg>\n",
              "    </button>\n",
              "\n",
              "  <style>\n",
              "    .colab-df-container {\n",
              "      display:flex;\n",
              "      gap: 12px;\n",
              "    }\n",
              "\n",
              "    .colab-df-convert {\n",
              "      background-color: #E8F0FE;\n",
              "      border: none;\n",
              "      border-radius: 50%;\n",
              "      cursor: pointer;\n",
              "      display: none;\n",
              "      fill: #1967D2;\n",
              "      height: 32px;\n",
              "      padding: 0 0 0 0;\n",
              "      width: 32px;\n",
              "    }\n",
              "\n",
              "    .colab-df-convert:hover {\n",
              "      background-color: #E2EBFA;\n",
              "      box-shadow: 0px 1px 2px rgba(60, 64, 67, 0.3), 0px 1px 3px 1px rgba(60, 64, 67, 0.15);\n",
              "      fill: #174EA6;\n",
              "    }\n",
              "\n",
              "    .colab-df-buttons div {\n",
              "      margin-bottom: 4px;\n",
              "    }\n",
              "\n",
              "    [theme=dark] .colab-df-convert {\n",
              "      background-color: #3B4455;\n",
              "      fill: #D2E3FC;\n",
              "    }\n",
              "\n",
              "    [theme=dark] .colab-df-convert:hover {\n",
              "      background-color: #434B5C;\n",
              "      box-shadow: 0px 1px 3px 1px rgba(0, 0, 0, 0.15);\n",
              "      filter: drop-shadow(0px 1px 2px rgba(0, 0, 0, 0.3));\n",
              "      fill: #FFFFFF;\n",
              "    }\n",
              "  </style>\n",
              "\n",
              "    <script>\n",
              "      const buttonEl =\n",
              "        document.querySelector('#df-c21424fa-a792-4d0c-988a-6bac226cec2e button.colab-df-convert');\n",
              "      buttonEl.style.display =\n",
              "        google.colab.kernel.accessAllowed ? 'block' : 'none';\n",
              "\n",
              "      async function convertToInteractive(key) {\n",
              "        const element = document.querySelector('#df-c21424fa-a792-4d0c-988a-6bac226cec2e');\n",
              "        const dataTable =\n",
              "          await google.colab.kernel.invokeFunction('convertToInteractive',\n",
              "                                                    [key], {});\n",
              "        if (!dataTable) return;\n",
              "\n",
              "        const docLinkHtml = 'Like what you see? Visit the ' +\n",
              "          '<a target=\"_blank\" href=https://colab.research.google.com/notebooks/data_table.ipynb>data table notebook</a>'\n",
              "          + ' to learn more about interactive tables.';\n",
              "        element.innerHTML = '';\n",
              "        dataTable['output_type'] = 'display_data';\n",
              "        await google.colab.output.renderOutput(dataTable, element);\n",
              "        const docLink = document.createElement('div');\n",
              "        docLink.innerHTML = docLinkHtml;\n",
              "        element.appendChild(docLink);\n",
              "      }\n",
              "    </script>\n",
              "  </div>\n",
              "\n",
              "\n",
              "<div id=\"df-9db49513-ec2e-48e0-9693-73f95b3e9d0b\">\n",
              "  <button class=\"colab-df-quickchart\" onclick=\"quickchart('df-9db49513-ec2e-48e0-9693-73f95b3e9d0b')\"\n",
              "            title=\"Suggest charts\"\n",
              "            style=\"display:none;\">\n",
              "\n",
              "<svg xmlns=\"http://www.w3.org/2000/svg\" height=\"24px\"viewBox=\"0 0 24 24\"\n",
              "     width=\"24px\">\n",
              "    <g>\n",
              "        <path d=\"M19 3H5c-1.1 0-2 .9-2 2v14c0 1.1.9 2 2 2h14c1.1 0 2-.9 2-2V5c0-1.1-.9-2-2-2zM9 17H7v-7h2v7zm4 0h-2V7h2v10zm4 0h-2v-4h2v4z\"/>\n",
              "    </g>\n",
              "</svg>\n",
              "  </button>\n",
              "\n",
              "<style>\n",
              "  .colab-df-quickchart {\n",
              "      --bg-color: #E8F0FE;\n",
              "      --fill-color: #1967D2;\n",
              "      --hover-bg-color: #E2EBFA;\n",
              "      --hover-fill-color: #174EA6;\n",
              "      --disabled-fill-color: #AAA;\n",
              "      --disabled-bg-color: #DDD;\n",
              "  }\n",
              "\n",
              "  [theme=dark] .colab-df-quickchart {\n",
              "      --bg-color: #3B4455;\n",
              "      --fill-color: #D2E3FC;\n",
              "      --hover-bg-color: #434B5C;\n",
              "      --hover-fill-color: #FFFFFF;\n",
              "      --disabled-bg-color: #3B4455;\n",
              "      --disabled-fill-color: #666;\n",
              "  }\n",
              "\n",
              "  .colab-df-quickchart {\n",
              "    background-color: var(--bg-color);\n",
              "    border: none;\n",
              "    border-radius: 50%;\n",
              "    cursor: pointer;\n",
              "    display: none;\n",
              "    fill: var(--fill-color);\n",
              "    height: 32px;\n",
              "    padding: 0;\n",
              "    width: 32px;\n",
              "  }\n",
              "\n",
              "  .colab-df-quickchart:hover {\n",
              "    background-color: var(--hover-bg-color);\n",
              "    box-shadow: 0 1px 2px rgba(60, 64, 67, 0.3), 0 1px 3px 1px rgba(60, 64, 67, 0.15);\n",
              "    fill: var(--button-hover-fill-color);\n",
              "  }\n",
              "\n",
              "  .colab-df-quickchart-complete:disabled,\n",
              "  .colab-df-quickchart-complete:disabled:hover {\n",
              "    background-color: var(--disabled-bg-color);\n",
              "    fill: var(--disabled-fill-color);\n",
              "    box-shadow: none;\n",
              "  }\n",
              "\n",
              "  .colab-df-spinner {\n",
              "    border: 2px solid var(--fill-color);\n",
              "    border-color: transparent;\n",
              "    border-bottom-color: var(--fill-color);\n",
              "    animation:\n",
              "      spin 1s steps(1) infinite;\n",
              "  }\n",
              "\n",
              "  @keyframes spin {\n",
              "    0% {\n",
              "      border-color: transparent;\n",
              "      border-bottom-color: var(--fill-color);\n",
              "      border-left-color: var(--fill-color);\n",
              "    }\n",
              "    20% {\n",
              "      border-color: transparent;\n",
              "      border-left-color: var(--fill-color);\n",
              "      border-top-color: var(--fill-color);\n",
              "    }\n",
              "    30% {\n",
              "      border-color: transparent;\n",
              "      border-left-color: var(--fill-color);\n",
              "      border-top-color: var(--fill-color);\n",
              "      border-right-color: var(--fill-color);\n",
              "    }\n",
              "    40% {\n",
              "      border-color: transparent;\n",
              "      border-right-color: var(--fill-color);\n",
              "      border-top-color: var(--fill-color);\n",
              "    }\n",
              "    60% {\n",
              "      border-color: transparent;\n",
              "      border-right-color: var(--fill-color);\n",
              "    }\n",
              "    80% {\n",
              "      border-color: transparent;\n",
              "      border-right-color: var(--fill-color);\n",
              "      border-bottom-color: var(--fill-color);\n",
              "    }\n",
              "    90% {\n",
              "      border-color: transparent;\n",
              "      border-bottom-color: var(--fill-color);\n",
              "    }\n",
              "  }\n",
              "</style>\n",
              "\n",
              "  <script>\n",
              "    async function quickchart(key) {\n",
              "      const quickchartButtonEl =\n",
              "        document.querySelector('#' + key + ' button');\n",
              "      quickchartButtonEl.disabled = true;  // To prevent multiple clicks.\n",
              "      quickchartButtonEl.classList.add('colab-df-spinner');\n",
              "      try {\n",
              "        const charts = await google.colab.kernel.invokeFunction(\n",
              "            'suggestCharts', [key], {});\n",
              "      } catch (error) {\n",
              "        console.error('Error during call to suggestCharts:', error);\n",
              "      }\n",
              "      quickchartButtonEl.classList.remove('colab-df-spinner');\n",
              "      quickchartButtonEl.classList.add('colab-df-quickchart-complete');\n",
              "    }\n",
              "    (() => {\n",
              "      let quickchartButtonEl =\n",
              "        document.querySelector('#df-9db49513-ec2e-48e0-9693-73f95b3e9d0b button');\n",
              "      quickchartButtonEl.style.display =\n",
              "        google.colab.kernel.accessAllowed ? 'block' : 'none';\n",
              "    })();\n",
              "  </script>\n",
              "</div>\n",
              "\n",
              "    </div>\n",
              "  </div>\n"
            ],
            "application/vnd.google.colaboratory.intrinsic+json": {
              "type": "dataframe",
              "summary": "{\n  \"name\": \"df\",\n  \"rows\": 8,\n  \"fields\": [\n    {\n      \"column\": \"work_year\",\n      \"properties\": {\n        \"dtype\": \"number\",\n        \"std\": 768.601529797957,\n        \"min\": 0.7491786613652834,\n        \"max\": 2584.0,\n        \"num_unique_values\": 6,\n        \"samples\": [\n          2584.0,\n          2022.3010835913312,\n          2023.0\n        ],\n        \"semantic_type\": \"\",\n        \"description\": \"\"\n      }\n    },\n    {\n      \"column\": \"salary\",\n      \"properties\": {\n        \"dtype\": \"number\",\n        \"std\": 10678683.06138873,\n        \"min\": 2584.0,\n        \"max\": 30400000.0,\n        \"num_unique_values\": 8,\n        \"samples\": [\n          210365.2964396285,\n          134630.0,\n          2584.0\n        ],\n        \"semantic_type\": \"\",\n        \"description\": \"\"\n      }\n    },\n    {\n      \"column\": \"salary_in_usd\",\n      \"properties\": {\n        \"dtype\": \"number\",\n        \"std\": 142545.2430705196,\n        \"min\": 2584.0,\n        \"max\": 450000.0,\n        \"num_unique_values\": 8,\n        \"samples\": [\n          133409.28018575851,\n          130000.0,\n          2584.0\n        ],\n        \"semantic_type\": \"\",\n        \"description\": \"\"\n      }\n    },\n    {\n      \"column\": \"remote_ratio\",\n      \"properties\": {\n        \"dtype\": \"number\",\n        \"std\": 896.7697359939636,\n        \"min\": 0.0,\n        \"max\": 2584.0,\n        \"num_unique_values\": 6,\n        \"samples\": [\n          2584.0,\n          50.48374613003096,\n          100.0\n        ],\n        \"semantic_type\": \"\",\n        \"description\": \"\"\n      }\n    }\n  ]\n}"
            }
          },
          "metadata": {},
          "execution_count": 64
        }
      ],
      "source": [
        "df.describe()"
      ]
    },
    {
      "cell_type": "markdown",
      "id": "bcc3dcb4",
      "metadata": {
        "id": "bcc3dcb4"
      },
      "source": [
        "`В salary есть выбросы.`"
      ]
    },
    {
      "cell_type": "code",
      "execution_count": 65,
      "id": "878f934d",
      "metadata": {
        "id": "878f934d",
        "outputId": "e213c738-c96c-4100-e6d2-37f89f861ff1",
        "colab": {
          "base_uri": "https://localhost:8080/",
          "height": 175
        }
      },
      "outputs": [
        {
          "output_type": "execute_result",
          "data": {
            "text/plain": [
              "       experience_level employment_type      job_title salary_currency  \\\n",
              "count              2584            2584           2584            2584   \n",
              "unique                4               4             93              20   \n",
              "top                  SE              FT  Data Engineer             USD   \n",
              "freq               1554            2547            598            2107   \n",
              "\n",
              "       employee_residence company_location company_size  \n",
              "count                2584             2584         2584  \n",
              "unique                 78               72            3  \n",
              "top                    US               US            M  \n",
              "freq                 1893             1929         2028  "
            ],
            "text/html": [
              "\n",
              "  <div id=\"df-27ca906b-f9b6-48e0-ac3c-d3ac179a040e\" class=\"colab-df-container\">\n",
              "    <div>\n",
              "<style scoped>\n",
              "    .dataframe tbody tr th:only-of-type {\n",
              "        vertical-align: middle;\n",
              "    }\n",
              "\n",
              "    .dataframe tbody tr th {\n",
              "        vertical-align: top;\n",
              "    }\n",
              "\n",
              "    .dataframe thead th {\n",
              "        text-align: right;\n",
              "    }\n",
              "</style>\n",
              "<table border=\"1\" class=\"dataframe\">\n",
              "  <thead>\n",
              "    <tr style=\"text-align: right;\">\n",
              "      <th></th>\n",
              "      <th>experience_level</th>\n",
              "      <th>employment_type</th>\n",
              "      <th>job_title</th>\n",
              "      <th>salary_currency</th>\n",
              "      <th>employee_residence</th>\n",
              "      <th>company_location</th>\n",
              "      <th>company_size</th>\n",
              "    </tr>\n",
              "  </thead>\n",
              "  <tbody>\n",
              "    <tr>\n",
              "      <th>count</th>\n",
              "      <td>2584</td>\n",
              "      <td>2584</td>\n",
              "      <td>2584</td>\n",
              "      <td>2584</td>\n",
              "      <td>2584</td>\n",
              "      <td>2584</td>\n",
              "      <td>2584</td>\n",
              "    </tr>\n",
              "    <tr>\n",
              "      <th>unique</th>\n",
              "      <td>4</td>\n",
              "      <td>4</td>\n",
              "      <td>93</td>\n",
              "      <td>20</td>\n",
              "      <td>78</td>\n",
              "      <td>72</td>\n",
              "      <td>3</td>\n",
              "    </tr>\n",
              "    <tr>\n",
              "      <th>top</th>\n",
              "      <td>SE</td>\n",
              "      <td>FT</td>\n",
              "      <td>Data Engineer</td>\n",
              "      <td>USD</td>\n",
              "      <td>US</td>\n",
              "      <td>US</td>\n",
              "      <td>M</td>\n",
              "    </tr>\n",
              "    <tr>\n",
              "      <th>freq</th>\n",
              "      <td>1554</td>\n",
              "      <td>2547</td>\n",
              "      <td>598</td>\n",
              "      <td>2107</td>\n",
              "      <td>1893</td>\n",
              "      <td>1929</td>\n",
              "      <td>2028</td>\n",
              "    </tr>\n",
              "  </tbody>\n",
              "</table>\n",
              "</div>\n",
              "    <div class=\"colab-df-buttons\">\n",
              "\n",
              "  <div class=\"colab-df-container\">\n",
              "    <button class=\"colab-df-convert\" onclick=\"convertToInteractive('df-27ca906b-f9b6-48e0-ac3c-d3ac179a040e')\"\n",
              "            title=\"Convert this dataframe to an interactive table.\"\n",
              "            style=\"display:none;\">\n",
              "\n",
              "  <svg xmlns=\"http://www.w3.org/2000/svg\" height=\"24px\" viewBox=\"0 -960 960 960\">\n",
              "    <path d=\"M120-120v-720h720v720H120Zm60-500h600v-160H180v160Zm220 220h160v-160H400v160Zm0 220h160v-160H400v160ZM180-400h160v-160H180v160Zm440 0h160v-160H620v160ZM180-180h160v-160H180v160Zm440 0h160v-160H620v160Z\"/>\n",
              "  </svg>\n",
              "    </button>\n",
              "\n",
              "  <style>\n",
              "    .colab-df-container {\n",
              "      display:flex;\n",
              "      gap: 12px;\n",
              "    }\n",
              "\n",
              "    .colab-df-convert {\n",
              "      background-color: #E8F0FE;\n",
              "      border: none;\n",
              "      border-radius: 50%;\n",
              "      cursor: pointer;\n",
              "      display: none;\n",
              "      fill: #1967D2;\n",
              "      height: 32px;\n",
              "      padding: 0 0 0 0;\n",
              "      width: 32px;\n",
              "    }\n",
              "\n",
              "    .colab-df-convert:hover {\n",
              "      background-color: #E2EBFA;\n",
              "      box-shadow: 0px 1px 2px rgba(60, 64, 67, 0.3), 0px 1px 3px 1px rgba(60, 64, 67, 0.15);\n",
              "      fill: #174EA6;\n",
              "    }\n",
              "\n",
              "    .colab-df-buttons div {\n",
              "      margin-bottom: 4px;\n",
              "    }\n",
              "\n",
              "    [theme=dark] .colab-df-convert {\n",
              "      background-color: #3B4455;\n",
              "      fill: #D2E3FC;\n",
              "    }\n",
              "\n",
              "    [theme=dark] .colab-df-convert:hover {\n",
              "      background-color: #434B5C;\n",
              "      box-shadow: 0px 1px 3px 1px rgba(0, 0, 0, 0.15);\n",
              "      filter: drop-shadow(0px 1px 2px rgba(0, 0, 0, 0.3));\n",
              "      fill: #FFFFFF;\n",
              "    }\n",
              "  </style>\n",
              "\n",
              "    <script>\n",
              "      const buttonEl =\n",
              "        document.querySelector('#df-27ca906b-f9b6-48e0-ac3c-d3ac179a040e button.colab-df-convert');\n",
              "      buttonEl.style.display =\n",
              "        google.colab.kernel.accessAllowed ? 'block' : 'none';\n",
              "\n",
              "      async function convertToInteractive(key) {\n",
              "        const element = document.querySelector('#df-27ca906b-f9b6-48e0-ac3c-d3ac179a040e');\n",
              "        const dataTable =\n",
              "          await google.colab.kernel.invokeFunction('convertToInteractive',\n",
              "                                                    [key], {});\n",
              "        if (!dataTable) return;\n",
              "\n",
              "        const docLinkHtml = 'Like what you see? Visit the ' +\n",
              "          '<a target=\"_blank\" href=https://colab.research.google.com/notebooks/data_table.ipynb>data table notebook</a>'\n",
              "          + ' to learn more about interactive tables.';\n",
              "        element.innerHTML = '';\n",
              "        dataTable['output_type'] = 'display_data';\n",
              "        await google.colab.output.renderOutput(dataTable, element);\n",
              "        const docLink = document.createElement('div');\n",
              "        docLink.innerHTML = docLinkHtml;\n",
              "        element.appendChild(docLink);\n",
              "      }\n",
              "    </script>\n",
              "  </div>\n",
              "\n",
              "\n",
              "<div id=\"df-c0f33e17-9bf5-4f96-9e1f-51de70e6a44b\">\n",
              "  <button class=\"colab-df-quickchart\" onclick=\"quickchart('df-c0f33e17-9bf5-4f96-9e1f-51de70e6a44b')\"\n",
              "            title=\"Suggest charts\"\n",
              "            style=\"display:none;\">\n",
              "\n",
              "<svg xmlns=\"http://www.w3.org/2000/svg\" height=\"24px\"viewBox=\"0 0 24 24\"\n",
              "     width=\"24px\">\n",
              "    <g>\n",
              "        <path d=\"M19 3H5c-1.1 0-2 .9-2 2v14c0 1.1.9 2 2 2h14c1.1 0 2-.9 2-2V5c0-1.1-.9-2-2-2zM9 17H7v-7h2v7zm4 0h-2V7h2v10zm4 0h-2v-4h2v4z\"/>\n",
              "    </g>\n",
              "</svg>\n",
              "  </button>\n",
              "\n",
              "<style>\n",
              "  .colab-df-quickchart {\n",
              "      --bg-color: #E8F0FE;\n",
              "      --fill-color: #1967D2;\n",
              "      --hover-bg-color: #E2EBFA;\n",
              "      --hover-fill-color: #174EA6;\n",
              "      --disabled-fill-color: #AAA;\n",
              "      --disabled-bg-color: #DDD;\n",
              "  }\n",
              "\n",
              "  [theme=dark] .colab-df-quickchart {\n",
              "      --bg-color: #3B4455;\n",
              "      --fill-color: #D2E3FC;\n",
              "      --hover-bg-color: #434B5C;\n",
              "      --hover-fill-color: #FFFFFF;\n",
              "      --disabled-bg-color: #3B4455;\n",
              "      --disabled-fill-color: #666;\n",
              "  }\n",
              "\n",
              "  .colab-df-quickchart {\n",
              "    background-color: var(--bg-color);\n",
              "    border: none;\n",
              "    border-radius: 50%;\n",
              "    cursor: pointer;\n",
              "    display: none;\n",
              "    fill: var(--fill-color);\n",
              "    height: 32px;\n",
              "    padding: 0;\n",
              "    width: 32px;\n",
              "  }\n",
              "\n",
              "  .colab-df-quickchart:hover {\n",
              "    background-color: var(--hover-bg-color);\n",
              "    box-shadow: 0 1px 2px rgba(60, 64, 67, 0.3), 0 1px 3px 1px rgba(60, 64, 67, 0.15);\n",
              "    fill: var(--button-hover-fill-color);\n",
              "  }\n",
              "\n",
              "  .colab-df-quickchart-complete:disabled,\n",
              "  .colab-df-quickchart-complete:disabled:hover {\n",
              "    background-color: var(--disabled-bg-color);\n",
              "    fill: var(--disabled-fill-color);\n",
              "    box-shadow: none;\n",
              "  }\n",
              "\n",
              "  .colab-df-spinner {\n",
              "    border: 2px solid var(--fill-color);\n",
              "    border-color: transparent;\n",
              "    border-bottom-color: var(--fill-color);\n",
              "    animation:\n",
              "      spin 1s steps(1) infinite;\n",
              "  }\n",
              "\n",
              "  @keyframes spin {\n",
              "    0% {\n",
              "      border-color: transparent;\n",
              "      border-bottom-color: var(--fill-color);\n",
              "      border-left-color: var(--fill-color);\n",
              "    }\n",
              "    20% {\n",
              "      border-color: transparent;\n",
              "      border-left-color: var(--fill-color);\n",
              "      border-top-color: var(--fill-color);\n",
              "    }\n",
              "    30% {\n",
              "      border-color: transparent;\n",
              "      border-left-color: var(--fill-color);\n",
              "      border-top-color: var(--fill-color);\n",
              "      border-right-color: var(--fill-color);\n",
              "    }\n",
              "    40% {\n",
              "      border-color: transparent;\n",
              "      border-right-color: var(--fill-color);\n",
              "      border-top-color: var(--fill-color);\n",
              "    }\n",
              "    60% {\n",
              "      border-color: transparent;\n",
              "      border-right-color: var(--fill-color);\n",
              "    }\n",
              "    80% {\n",
              "      border-color: transparent;\n",
              "      border-right-color: var(--fill-color);\n",
              "      border-bottom-color: var(--fill-color);\n",
              "    }\n",
              "    90% {\n",
              "      border-color: transparent;\n",
              "      border-bottom-color: var(--fill-color);\n",
              "    }\n",
              "  }\n",
              "</style>\n",
              "\n",
              "  <script>\n",
              "    async function quickchart(key) {\n",
              "      const quickchartButtonEl =\n",
              "        document.querySelector('#' + key + ' button');\n",
              "      quickchartButtonEl.disabled = true;  // To prevent multiple clicks.\n",
              "      quickchartButtonEl.classList.add('colab-df-spinner');\n",
              "      try {\n",
              "        const charts = await google.colab.kernel.invokeFunction(\n",
              "            'suggestCharts', [key], {});\n",
              "      } catch (error) {\n",
              "        console.error('Error during call to suggestCharts:', error);\n",
              "      }\n",
              "      quickchartButtonEl.classList.remove('colab-df-spinner');\n",
              "      quickchartButtonEl.classList.add('colab-df-quickchart-complete');\n",
              "    }\n",
              "    (() => {\n",
              "      let quickchartButtonEl =\n",
              "        document.querySelector('#df-c0f33e17-9bf5-4f96-9e1f-51de70e6a44b button');\n",
              "      quickchartButtonEl.style.display =\n",
              "        google.colab.kernel.accessAllowed ? 'block' : 'none';\n",
              "    })();\n",
              "  </script>\n",
              "</div>\n",
              "\n",
              "    </div>\n",
              "  </div>\n"
            ],
            "application/vnd.google.colaboratory.intrinsic+json": {
              "type": "dataframe",
              "summary": "{\n  \"name\": \"df\",\n  \"rows\": 4,\n  \"fields\": [\n    {\n      \"column\": \"experience_level\",\n      \"properties\": {\n        \"dtype\": \"string\",\n        \"num_unique_values\": 4,\n        \"samples\": [\n          4,\n          \"1554\",\n          \"2584\"\n        ],\n        \"semantic_type\": \"\",\n        \"description\": \"\"\n      }\n    },\n    {\n      \"column\": \"employment_type\",\n      \"properties\": {\n        \"dtype\": \"string\",\n        \"num_unique_values\": 4,\n        \"samples\": [\n          4,\n          \"2547\",\n          \"2584\"\n        ],\n        \"semantic_type\": \"\",\n        \"description\": \"\"\n      }\n    },\n    {\n      \"column\": \"job_title\",\n      \"properties\": {\n        \"dtype\": \"string\",\n        \"num_unique_values\": 4,\n        \"samples\": [\n          93,\n          \"598\",\n          \"2584\"\n        ],\n        \"semantic_type\": \"\",\n        \"description\": \"\"\n      }\n    },\n    {\n      \"column\": \"salary_currency\",\n      \"properties\": {\n        \"dtype\": \"string\",\n        \"num_unique_values\": 4,\n        \"samples\": [\n          20,\n          \"2107\",\n          \"2584\"\n        ],\n        \"semantic_type\": \"\",\n        \"description\": \"\"\n      }\n    },\n    {\n      \"column\": \"employee_residence\",\n      \"properties\": {\n        \"dtype\": \"string\",\n        \"num_unique_values\": 4,\n        \"samples\": [\n          78,\n          \"1893\",\n          \"2584\"\n        ],\n        \"semantic_type\": \"\",\n        \"description\": \"\"\n      }\n    },\n    {\n      \"column\": \"company_location\",\n      \"properties\": {\n        \"dtype\": \"string\",\n        \"num_unique_values\": 4,\n        \"samples\": [\n          72,\n          \"1929\",\n          \"2584\"\n        ],\n        \"semantic_type\": \"\",\n        \"description\": \"\"\n      }\n    },\n    {\n      \"column\": \"company_size\",\n      \"properties\": {\n        \"dtype\": \"string\",\n        \"num_unique_values\": 4,\n        \"samples\": [\n          3,\n          \"2028\",\n          \"2584\"\n        ],\n        \"semantic_type\": \"\",\n        \"description\": \"\"\n      }\n    }\n  ]\n}"
            }
          },
          "metadata": {},
          "execution_count": 65
        }
      ],
      "source": [
        "df.describe(include='object')"
      ]
    },
    {
      "cell_type": "markdown",
      "id": "180afacb",
      "metadata": {
        "id": "180afacb"
      },
      "source": [
        "`Нет признаков с одним значением.`"
      ]
    },
    {
      "cell_type": "markdown",
      "id": "c-Q50P1G4wHx",
      "metadata": {
        "id": "c-Q50P1G4wHx"
      },
      "source": [
        "## **Задание 3 (0.3 балла)**\n",
        "\n",
        "Вернитесь к описанию признаков.\n",
        "- Проверьте, все ли признаки соответствуют постановке задачи? Если есть лишние признаки, удалите их и обоснуйте удаление, если нет, сделайте вывод о релевантности (достаточно в одну-две строки)\n",
        "- Зафиксируйте, в каких признаках много категорий."
      ]
    },
    {
      "cell_type": "markdown",
      "id": "21tU88sZ5z3y",
      "metadata": {
        "id": "21tU88sZ5z3y"
      },
      "source": [
        "`Признак salary в совокупности с salary_currency полностью определяет таргет, поэтому salary необходимо удалить. salary_currency можно оставить, поскольку этот признак может нести дополнительную информацию о зарплатном масштабе в зависмости от региона (в одном регионе может выплачиваться зарплата в разных валютах, что может отразиться на размере зарплаты).`"
      ]
    },
    {
      "cell_type": "code",
      "execution_count": 66,
      "id": "84871699",
      "metadata": {
        "id": "84871699"
      },
      "outputs": [],
      "source": [
        "df.drop('salary', axis=1, inplace=True)"
      ]
    },
    {
      "cell_type": "markdown",
      "id": "9db508bb",
      "metadata": {
        "id": "9db508bb"
      },
      "source": [
        "`Большое кол-во категорий содержут признаки job_title, salary_currency, employee_residence, company_location.`"
      ]
    },
    {
      "cell_type": "markdown",
      "id": "RTS28VQy6Hz8",
      "metadata": {
        "id": "RTS28VQy6Hz8"
      },
      "source": [
        "## **Задание 4 (0.2 балла)**\n",
        "\n",
        "Разделите выборку на train, test (80%, 20%)."
      ]
    },
    {
      "cell_type": "code",
      "execution_count": 67,
      "id": "ac0162db",
      "metadata": {
        "id": "ac0162db"
      },
      "outputs": [],
      "source": [
        "X = df.drop('salary_in_usd', axis=1)\n",
        "y = df['salary_in_usd']"
      ]
    },
    {
      "cell_type": "code",
      "execution_count": 68,
      "id": "-PWyMQ1N6NAc",
      "metadata": {
        "id": "-PWyMQ1N6NAc"
      },
      "outputs": [],
      "source": [
        "Xtrain, Xtest, ytrain, ytest = train_test_split(X, y, test_size=0.2, random_state=42)"
      ]
    },
    {
      "cell_type": "markdown",
      "id": "m2dNbigN52YC",
      "metadata": {
        "id": "m2dNbigN52YC"
      },
      "source": [
        "## **Задание 5 (0.3 балла)**\n",
        "\n",
        "Будем проверять два сценария. Первый — построение модели только на непрерывных признаках, а второй — построение с категориальными. В этом задании подготовьте всё, чтобы проверить валидность обоих сценариев. А именно:\n",
        "\n",
        "- Выделите данные для тренировки и теста для непрерывных признаков\n",
        "- Выделите данные для тренировки и теста для непрерывных + категориальных признаков, пока ничего не кодируйте."
      ]
    },
    {
      "cell_type": "code",
      "execution_count": 69,
      "id": "e9a24614",
      "metadata": {
        "id": "e9a24614",
        "outputId": "e3abf50d-24af-4b0b-fee3-1589448b7ae3",
        "colab": {
          "base_uri": "https://localhost:8080/",
          "height": 424
        }
      },
      "outputs": [
        {
          "output_type": "execute_result",
          "data": {
            "text/plain": [
              "      work_year  remote_ratio\n",
              "25         2023             0\n",
              "2647       2022             0\n",
              "2624       2022             0\n",
              "2565       2022           100\n",
              "2390       2022             0\n",
              "...         ...           ...\n",
              "2477       2022           100\n",
              "1656       2023             0\n",
              "1711       2023             0\n",
              "1936       2022             0\n",
              "1230       2023             0\n",
              "\n",
              "[2067 rows x 2 columns]"
            ],
            "text/html": [
              "\n",
              "  <div id=\"df-883d5fe8-98f7-4649-8552-cf31b8e9c47e\" class=\"colab-df-container\">\n",
              "    <div>\n",
              "<style scoped>\n",
              "    .dataframe tbody tr th:only-of-type {\n",
              "        vertical-align: middle;\n",
              "    }\n",
              "\n",
              "    .dataframe tbody tr th {\n",
              "        vertical-align: top;\n",
              "    }\n",
              "\n",
              "    .dataframe thead th {\n",
              "        text-align: right;\n",
              "    }\n",
              "</style>\n",
              "<table border=\"1\" class=\"dataframe\">\n",
              "  <thead>\n",
              "    <tr style=\"text-align: right;\">\n",
              "      <th></th>\n",
              "      <th>work_year</th>\n",
              "      <th>remote_ratio</th>\n",
              "    </tr>\n",
              "  </thead>\n",
              "  <tbody>\n",
              "    <tr>\n",
              "      <th>25</th>\n",
              "      <td>2023</td>\n",
              "      <td>0</td>\n",
              "    </tr>\n",
              "    <tr>\n",
              "      <th>2647</th>\n",
              "      <td>2022</td>\n",
              "      <td>0</td>\n",
              "    </tr>\n",
              "    <tr>\n",
              "      <th>2624</th>\n",
              "      <td>2022</td>\n",
              "      <td>0</td>\n",
              "    </tr>\n",
              "    <tr>\n",
              "      <th>2565</th>\n",
              "      <td>2022</td>\n",
              "      <td>100</td>\n",
              "    </tr>\n",
              "    <tr>\n",
              "      <th>2390</th>\n",
              "      <td>2022</td>\n",
              "      <td>0</td>\n",
              "    </tr>\n",
              "    <tr>\n",
              "      <th>...</th>\n",
              "      <td>...</td>\n",
              "      <td>...</td>\n",
              "    </tr>\n",
              "    <tr>\n",
              "      <th>2477</th>\n",
              "      <td>2022</td>\n",
              "      <td>100</td>\n",
              "    </tr>\n",
              "    <tr>\n",
              "      <th>1656</th>\n",
              "      <td>2023</td>\n",
              "      <td>0</td>\n",
              "    </tr>\n",
              "    <tr>\n",
              "      <th>1711</th>\n",
              "      <td>2023</td>\n",
              "      <td>0</td>\n",
              "    </tr>\n",
              "    <tr>\n",
              "      <th>1936</th>\n",
              "      <td>2022</td>\n",
              "      <td>0</td>\n",
              "    </tr>\n",
              "    <tr>\n",
              "      <th>1230</th>\n",
              "      <td>2023</td>\n",
              "      <td>0</td>\n",
              "    </tr>\n",
              "  </tbody>\n",
              "</table>\n",
              "<p>2067 rows × 2 columns</p>\n",
              "</div>\n",
              "    <div class=\"colab-df-buttons\">\n",
              "\n",
              "  <div class=\"colab-df-container\">\n",
              "    <button class=\"colab-df-convert\" onclick=\"convertToInteractive('df-883d5fe8-98f7-4649-8552-cf31b8e9c47e')\"\n",
              "            title=\"Convert this dataframe to an interactive table.\"\n",
              "            style=\"display:none;\">\n",
              "\n",
              "  <svg xmlns=\"http://www.w3.org/2000/svg\" height=\"24px\" viewBox=\"0 -960 960 960\">\n",
              "    <path d=\"M120-120v-720h720v720H120Zm60-500h600v-160H180v160Zm220 220h160v-160H400v160Zm0 220h160v-160H400v160ZM180-400h160v-160H180v160Zm440 0h160v-160H620v160ZM180-180h160v-160H180v160Zm440 0h160v-160H620v160Z\"/>\n",
              "  </svg>\n",
              "    </button>\n",
              "\n",
              "  <style>\n",
              "    .colab-df-container {\n",
              "      display:flex;\n",
              "      gap: 12px;\n",
              "    }\n",
              "\n",
              "    .colab-df-convert {\n",
              "      background-color: #E8F0FE;\n",
              "      border: none;\n",
              "      border-radius: 50%;\n",
              "      cursor: pointer;\n",
              "      display: none;\n",
              "      fill: #1967D2;\n",
              "      height: 32px;\n",
              "      padding: 0 0 0 0;\n",
              "      width: 32px;\n",
              "    }\n",
              "\n",
              "    .colab-df-convert:hover {\n",
              "      background-color: #E2EBFA;\n",
              "      box-shadow: 0px 1px 2px rgba(60, 64, 67, 0.3), 0px 1px 3px 1px rgba(60, 64, 67, 0.15);\n",
              "      fill: #174EA6;\n",
              "    }\n",
              "\n",
              "    .colab-df-buttons div {\n",
              "      margin-bottom: 4px;\n",
              "    }\n",
              "\n",
              "    [theme=dark] .colab-df-convert {\n",
              "      background-color: #3B4455;\n",
              "      fill: #D2E3FC;\n",
              "    }\n",
              "\n",
              "    [theme=dark] .colab-df-convert:hover {\n",
              "      background-color: #434B5C;\n",
              "      box-shadow: 0px 1px 3px 1px rgba(0, 0, 0, 0.15);\n",
              "      filter: drop-shadow(0px 1px 2px rgba(0, 0, 0, 0.3));\n",
              "      fill: #FFFFFF;\n",
              "    }\n",
              "  </style>\n",
              "\n",
              "    <script>\n",
              "      const buttonEl =\n",
              "        document.querySelector('#df-883d5fe8-98f7-4649-8552-cf31b8e9c47e button.colab-df-convert');\n",
              "      buttonEl.style.display =\n",
              "        google.colab.kernel.accessAllowed ? 'block' : 'none';\n",
              "\n",
              "      async function convertToInteractive(key) {\n",
              "        const element = document.querySelector('#df-883d5fe8-98f7-4649-8552-cf31b8e9c47e');\n",
              "        const dataTable =\n",
              "          await google.colab.kernel.invokeFunction('convertToInteractive',\n",
              "                                                    [key], {});\n",
              "        if (!dataTable) return;\n",
              "\n",
              "        const docLinkHtml = 'Like what you see? Visit the ' +\n",
              "          '<a target=\"_blank\" href=https://colab.research.google.com/notebooks/data_table.ipynb>data table notebook</a>'\n",
              "          + ' to learn more about interactive tables.';\n",
              "        element.innerHTML = '';\n",
              "        dataTable['output_type'] = 'display_data';\n",
              "        await google.colab.output.renderOutput(dataTable, element);\n",
              "        const docLink = document.createElement('div');\n",
              "        docLink.innerHTML = docLinkHtml;\n",
              "        element.appendChild(docLink);\n",
              "      }\n",
              "    </script>\n",
              "  </div>\n",
              "\n",
              "\n",
              "<div id=\"df-c67956dd-6a48-41e6-97af-2070fa11f07d\">\n",
              "  <button class=\"colab-df-quickchart\" onclick=\"quickchart('df-c67956dd-6a48-41e6-97af-2070fa11f07d')\"\n",
              "            title=\"Suggest charts\"\n",
              "            style=\"display:none;\">\n",
              "\n",
              "<svg xmlns=\"http://www.w3.org/2000/svg\" height=\"24px\"viewBox=\"0 0 24 24\"\n",
              "     width=\"24px\">\n",
              "    <g>\n",
              "        <path d=\"M19 3H5c-1.1 0-2 .9-2 2v14c0 1.1.9 2 2 2h14c1.1 0 2-.9 2-2V5c0-1.1-.9-2-2-2zM9 17H7v-7h2v7zm4 0h-2V7h2v10zm4 0h-2v-4h2v4z\"/>\n",
              "    </g>\n",
              "</svg>\n",
              "  </button>\n",
              "\n",
              "<style>\n",
              "  .colab-df-quickchart {\n",
              "      --bg-color: #E8F0FE;\n",
              "      --fill-color: #1967D2;\n",
              "      --hover-bg-color: #E2EBFA;\n",
              "      --hover-fill-color: #174EA6;\n",
              "      --disabled-fill-color: #AAA;\n",
              "      --disabled-bg-color: #DDD;\n",
              "  }\n",
              "\n",
              "  [theme=dark] .colab-df-quickchart {\n",
              "      --bg-color: #3B4455;\n",
              "      --fill-color: #D2E3FC;\n",
              "      --hover-bg-color: #434B5C;\n",
              "      --hover-fill-color: #FFFFFF;\n",
              "      --disabled-bg-color: #3B4455;\n",
              "      --disabled-fill-color: #666;\n",
              "  }\n",
              "\n",
              "  .colab-df-quickchart {\n",
              "    background-color: var(--bg-color);\n",
              "    border: none;\n",
              "    border-radius: 50%;\n",
              "    cursor: pointer;\n",
              "    display: none;\n",
              "    fill: var(--fill-color);\n",
              "    height: 32px;\n",
              "    padding: 0;\n",
              "    width: 32px;\n",
              "  }\n",
              "\n",
              "  .colab-df-quickchart:hover {\n",
              "    background-color: var(--hover-bg-color);\n",
              "    box-shadow: 0 1px 2px rgba(60, 64, 67, 0.3), 0 1px 3px 1px rgba(60, 64, 67, 0.15);\n",
              "    fill: var(--button-hover-fill-color);\n",
              "  }\n",
              "\n",
              "  .colab-df-quickchart-complete:disabled,\n",
              "  .colab-df-quickchart-complete:disabled:hover {\n",
              "    background-color: var(--disabled-bg-color);\n",
              "    fill: var(--disabled-fill-color);\n",
              "    box-shadow: none;\n",
              "  }\n",
              "\n",
              "  .colab-df-spinner {\n",
              "    border: 2px solid var(--fill-color);\n",
              "    border-color: transparent;\n",
              "    border-bottom-color: var(--fill-color);\n",
              "    animation:\n",
              "      spin 1s steps(1) infinite;\n",
              "  }\n",
              "\n",
              "  @keyframes spin {\n",
              "    0% {\n",
              "      border-color: transparent;\n",
              "      border-bottom-color: var(--fill-color);\n",
              "      border-left-color: var(--fill-color);\n",
              "    }\n",
              "    20% {\n",
              "      border-color: transparent;\n",
              "      border-left-color: var(--fill-color);\n",
              "      border-top-color: var(--fill-color);\n",
              "    }\n",
              "    30% {\n",
              "      border-color: transparent;\n",
              "      border-left-color: var(--fill-color);\n",
              "      border-top-color: var(--fill-color);\n",
              "      border-right-color: var(--fill-color);\n",
              "    }\n",
              "    40% {\n",
              "      border-color: transparent;\n",
              "      border-right-color: var(--fill-color);\n",
              "      border-top-color: var(--fill-color);\n",
              "    }\n",
              "    60% {\n",
              "      border-color: transparent;\n",
              "      border-right-color: var(--fill-color);\n",
              "    }\n",
              "    80% {\n",
              "      border-color: transparent;\n",
              "      border-right-color: var(--fill-color);\n",
              "      border-bottom-color: var(--fill-color);\n",
              "    }\n",
              "    90% {\n",
              "      border-color: transparent;\n",
              "      border-bottom-color: var(--fill-color);\n",
              "    }\n",
              "  }\n",
              "</style>\n",
              "\n",
              "  <script>\n",
              "    async function quickchart(key) {\n",
              "      const quickchartButtonEl =\n",
              "        document.querySelector('#' + key + ' button');\n",
              "      quickchartButtonEl.disabled = true;  // To prevent multiple clicks.\n",
              "      quickchartButtonEl.classList.add('colab-df-spinner');\n",
              "      try {\n",
              "        const charts = await google.colab.kernel.invokeFunction(\n",
              "            'suggestCharts', [key], {});\n",
              "      } catch (error) {\n",
              "        console.error('Error during call to suggestCharts:', error);\n",
              "      }\n",
              "      quickchartButtonEl.classList.remove('colab-df-spinner');\n",
              "      quickchartButtonEl.classList.add('colab-df-quickchart-complete');\n",
              "    }\n",
              "    (() => {\n",
              "      let quickchartButtonEl =\n",
              "        document.querySelector('#df-c67956dd-6a48-41e6-97af-2070fa11f07d button');\n",
              "      quickchartButtonEl.style.display =\n",
              "        google.colab.kernel.accessAllowed ? 'block' : 'none';\n",
              "    })();\n",
              "  </script>\n",
              "</div>\n",
              "\n",
              "    </div>\n",
              "  </div>\n"
            ],
            "application/vnd.google.colaboratory.intrinsic+json": {
              "type": "dataframe",
              "summary": "{\n  \"name\": \"Xtrain\",\n  \"rows\": 2067,\n  \"fields\": [\n    {\n      \"column\": \"work_year\",\n      \"properties\": {\n        \"dtype\": \"number\",\n        \"std\": 0,\n        \"min\": 2020,\n        \"max\": 2023,\n        \"num_unique_values\": 4,\n        \"samples\": [\n          2022,\n          2020,\n          2023\n        ],\n        \"semantic_type\": \"\",\n        \"description\": \"\"\n      }\n    },\n    {\n      \"column\": \"remote_ratio\",\n      \"properties\": {\n        \"dtype\": \"number\",\n        \"std\": 48,\n        \"min\": 0,\n        \"max\": 100,\n        \"num_unique_values\": 3,\n        \"samples\": [\n          0,\n          100,\n          50\n        ],\n        \"semantic_type\": \"\",\n        \"description\": \"\"\n      }\n    }\n  ]\n}"
            }
          },
          "metadata": {},
          "execution_count": 69
        }
      ],
      "source": [
        "Xtrain.select_dtypes(include='number')"
      ]
    },
    {
      "cell_type": "code",
      "execution_count": 70,
      "id": "4i5DhaS87Sir",
      "metadata": {
        "id": "4i5DhaS87Sir"
      },
      "outputs": [],
      "source": [
        "Xtrain_num = Xtrain.select_dtypes(include='number')\n",
        "Xtest_num = Xtest.select_dtypes(include='number')"
      ]
    },
    {
      "cell_type": "markdown",
      "id": "f63cb01a",
      "metadata": {
        "id": "f63cb01a"
      },
      "source": [
        "## **Задание 6 (0.2 балла)**\n",
        "\n",
        "- Обучите модель линейной регресии на числовых признаках и оцените её качество через mape и rmse;\n",
        "- Сделайте вывод о качестве построенной модели;"
      ]
    },
    {
      "cell_type": "code",
      "execution_count": 71,
      "id": "b0f52de7",
      "metadata": {
        "id": "b0f52de7"
      },
      "outputs": [],
      "source": [
        "def print_metrics(y_true, y_pred):\n",
        "    \"\"\"\n",
        "    Печатает метрики MAPE, RMSE.\n",
        "    \"\"\"\n",
        "    print(f'MAPE: {MAPE(y_true, y_pred):.3}')\n",
        "    print(f'RMSE: {RMSE(y_true, y_pred)}')"
      ]
    },
    {
      "cell_type": "code",
      "execution_count": 72,
      "id": "7jdkJ8Ji7R_L",
      "metadata": {
        "id": "7jdkJ8Ji7R_L",
        "outputId": "6481f8d9-64bf-456f-d3f7-ecb72c837258",
        "colab": {
          "base_uri": "https://localhost:8080/"
        }
      },
      "outputs": [
        {
          "output_type": "stream",
          "name": "stdout",
          "text": [
            "MAPE: 0.829\n",
            "RMSE: 64000.532625649634\n"
          ]
        }
      ],
      "source": [
        "lin_reg = LinearRegression()\n",
        "\n",
        "lin_reg.fit(Xtrain_num, ytrain)\n",
        "\n",
        "print_metrics(ytest, lin_reg.predict(Xtest_num))"
      ]
    },
    {
      "cell_type": "markdown",
      "id": "5db47484",
      "metadata": {
        "id": "5db47484"
      },
      "source": [
        "`Качество модели получилось довольно плохим. В среднем прогноз модели отличается от истинного значения на 83 процента.`"
      ]
    },
    {
      "cell_type": "markdown",
      "id": "8bf8374f",
      "metadata": {
        "id": "8bf8374f"
      },
      "source": [
        "## **Задание 8 (0.2 балла)**\n",
        "\n",
        "- Обучите модель бустинга (любую из трех библиотек catboost, xgboost, lightgbm) с гиперпараметрами по умолчанию на непрерывных признаках и оцените её качество через mape и rmse;\n",
        "- Сделайте вывод о качестве построенной модели;"
      ]
    },
    {
      "cell_type": "code",
      "execution_count": 73,
      "id": "5vOPjwnZ7Pud",
      "metadata": {
        "id": "5vOPjwnZ7Pud",
        "outputId": "3a87a922-14b2-4e66-fb3d-76a19c588146",
        "colab": {
          "base_uri": "https://localhost:8080/",
          "height": 1000,
          "referenced_widgets": [
            "25b97986b6e24c4689cf95a0a2048cd9"
          ]
        }
      },
      "outputs": [
        {
          "output_type": "display_data",
          "data": {
            "text/plain": [
              "MetricVisualizer(layout=Layout(align_self='stretch', height='500px'))"
            ],
            "application/vnd.jupyter.widget-view+json": {
              "version_major": 2,
              "version_minor": 0,
              "model_id": "25b97986b6e24c4689cf95a0a2048cd9"
            }
          },
          "metadata": {}
        },
        {
          "output_type": "stream",
          "name": "stdout",
          "text": [
            "Learning rate set to 0.04592\n",
            "0:\tlearn: 67197.3810249\ttotal: 1.81ms\tremaining: 1.81s\n",
            "1:\tlearn: 67017.5356451\ttotal: 2.9ms\tremaining: 1.44s\n",
            "2:\tlearn: 66815.1265526\ttotal: 3.21ms\tremaining: 1.06s\n",
            "3:\tlearn: 66662.4358586\ttotal: 11.1ms\tremaining: 2.77s\n",
            "4:\tlearn: 66522.9399241\ttotal: 12ms\tremaining: 2.4s\n",
            "5:\tlearn: 66412.3495657\ttotal: 12.7ms\tremaining: 2.1s\n",
            "6:\tlearn: 66236.5936778\ttotal: 14.2ms\tremaining: 2.02s\n",
            "7:\tlearn: 66076.5930702\ttotal: 15.5ms\tremaining: 1.93s\n",
            "8:\tlearn: 66014.3774888\ttotal: 16.4ms\tremaining: 1.81s\n",
            "9:\tlearn: 65959.3666497\ttotal: 17.1ms\tremaining: 1.69s\n",
            "10:\tlearn: 65885.6118404\ttotal: 17.7ms\tremaining: 1.59s\n",
            "11:\tlearn: 65762.8444783\ttotal: 18.3ms\tremaining: 1.51s\n",
            "12:\tlearn: 65652.5052918\ttotal: 20.8ms\tremaining: 1.58s\n",
            "13:\tlearn: 65551.5883338\ttotal: 24.5ms\tremaining: 1.72s\n",
            "14:\tlearn: 65485.2870019\ttotal: 25.6ms\tremaining: 1.68s\n",
            "15:\tlearn: 65408.0571305\ttotal: 26.9ms\tremaining: 1.65s\n",
            "16:\tlearn: 65316.8323335\ttotal: 28.6ms\tremaining: 1.65s\n",
            "17:\tlearn: 65233.2020085\ttotal: 29ms\tremaining: 1.58s\n",
            "18:\tlearn: 65174.9256556\ttotal: 30.1ms\tremaining: 1.55s\n",
            "19:\tlearn: 65147.7374431\ttotal: 30.5ms\tremaining: 1.5s\n",
            "20:\tlearn: 65095.8220827\ttotal: 31ms\tremaining: 1.44s\n",
            "21:\tlearn: 65072.2225505\ttotal: 31.4ms\tremaining: 1.4s\n",
            "22:\tlearn: 65012.9696309\ttotal: 31.7ms\tremaining: 1.35s\n",
            "23:\tlearn: 64955.0114275\ttotal: 32ms\tremaining: 1.3s\n",
            "24:\tlearn: 64901.9799646\ttotal: 32.6ms\tremaining: 1.27s\n",
            "25:\tlearn: 64853.4593362\ttotal: 32.9ms\tremaining: 1.23s\n",
            "26:\tlearn: 64811.9949005\ttotal: 33.4ms\tremaining: 1.2s\n",
            "27:\tlearn: 64776.4171939\ttotal: 33.9ms\tremaining: 1.18s\n",
            "28:\tlearn: 64737.9356547\ttotal: 34.4ms\tremaining: 1.15s\n",
            "29:\tlearn: 64705.6911910\ttotal: 34.8ms\tremaining: 1.12s\n",
            "30:\tlearn: 64678.1408285\ttotal: 35.1ms\tremaining: 1.1s\n",
            "31:\tlearn: 64652.9696187\ttotal: 35.4ms\tremaining: 1.07s\n",
            "32:\tlearn: 64624.8257002\ttotal: 35.8ms\tremaining: 1.05s\n",
            "33:\tlearn: 64619.7172361\ttotal: 36.1ms\tremaining: 1.02s\n",
            "34:\tlearn: 64599.0894352\ttotal: 36.5ms\tremaining: 1.01s\n",
            "35:\tlearn: 64577.7209196\ttotal: 36.8ms\tremaining: 984ms\n",
            "36:\tlearn: 64570.2382368\ttotal: 37.1ms\tremaining: 966ms\n",
            "37:\tlearn: 64556.4790608\ttotal: 37.6ms\tremaining: 953ms\n",
            "38:\tlearn: 64538.5619919\ttotal: 37.9ms\tremaining: 935ms\n",
            "39:\tlearn: 64527.3600043\ttotal: 38.5ms\tremaining: 924ms\n",
            "40:\tlearn: 64511.8369955\ttotal: 39.1ms\tremaining: 913ms\n",
            "41:\tlearn: 64497.2230836\ttotal: 39.4ms\tremaining: 898ms\n",
            "42:\tlearn: 64491.2984233\ttotal: 39.8ms\tremaining: 886ms\n",
            "43:\tlearn: 64477.5693015\ttotal: 40.2ms\tremaining: 874ms\n",
            "44:\tlearn: 64466.9941368\ttotal: 40.8ms\tremaining: 865ms\n",
            "45:\tlearn: 64460.9139620\ttotal: 41ms\tremaining: 851ms\n",
            "46:\tlearn: 64455.3965940\ttotal: 41.3ms\tremaining: 838ms\n",
            "47:\tlearn: 64448.2763331\ttotal: 41.7ms\tremaining: 828ms\n",
            "48:\tlearn: 64439.1131865\ttotal: 42.3ms\tremaining: 821ms\n",
            "49:\tlearn: 64430.5390510\ttotal: 42.6ms\tremaining: 809ms\n",
            "50:\tlearn: 64422.6918538\ttotal: 43.1ms\tremaining: 802ms\n",
            "51:\tlearn: 64417.7247807\ttotal: 43.6ms\tremaining: 794ms\n",
            "52:\tlearn: 64416.5488119\ttotal: 43.8ms\tremaining: 782ms\n",
            "53:\tlearn: 64409.0404744\ttotal: 44.1ms\tremaining: 772ms\n",
            "54:\tlearn: 64405.6077978\ttotal: 44.7ms\tremaining: 769ms\n",
            "55:\tlearn: 64402.4778383\ttotal: 44.9ms\tremaining: 758ms\n",
            "56:\tlearn: 64396.3742922\ttotal: 45.4ms\tremaining: 751ms\n",
            "57:\tlearn: 64390.9664302\ttotal: 45.9ms\tremaining: 745ms\n",
            "58:\tlearn: 64385.5389723\ttotal: 46.5ms\tremaining: 742ms\n",
            "59:\tlearn: 64381.0217797\ttotal: 46.9ms\tremaining: 735ms\n",
            "60:\tlearn: 64378.4890634\ttotal: 47.3ms\tremaining: 728ms\n",
            "61:\tlearn: 64376.1047648\ttotal: 47.9ms\tremaining: 725ms\n",
            "62:\tlearn: 64371.8865360\ttotal: 48.3ms\tremaining: 718ms\n",
            "63:\tlearn: 64369.8160408\ttotal: 48.6ms\tremaining: 711ms\n",
            "64:\tlearn: 64365.4780419\ttotal: 49.1ms\tremaining: 706ms\n",
            "65:\tlearn: 64362.0509302\ttotal: 49.4ms\tremaining: 699ms\n",
            "66:\tlearn: 64360.8926928\ttotal: 50ms\tremaining: 696ms\n",
            "67:\tlearn: 64359.8377854\ttotal: 50.4ms\tremaining: 691ms\n",
            "68:\tlearn: 64358.4183584\ttotal: 51.7ms\tremaining: 697ms\n",
            "69:\tlearn: 64355.0388828\ttotal: 52ms\tremaining: 691ms\n",
            "70:\tlearn: 64352.9158007\ttotal: 52.4ms\tremaining: 685ms\n",
            "71:\tlearn: 64350.9760017\ttotal: 52.7ms\tremaining: 679ms\n",
            "72:\tlearn: 64349.6401015\ttotal: 53ms\tremaining: 673ms\n",
            "73:\tlearn: 64348.4219201\ttotal: 55.2ms\tremaining: 691ms\n",
            "74:\tlearn: 64346.8711443\ttotal: 55.5ms\tremaining: 685ms\n",
            "75:\tlearn: 64345.4541539\ttotal: 55.9ms\tremaining: 679ms\n",
            "76:\tlearn: 64343.1460130\ttotal: 56.8ms\tremaining: 681ms\n",
            "77:\tlearn: 64342.3531395\ttotal: 57.3ms\tremaining: 677ms\n",
            "78:\tlearn: 64341.6583423\ttotal: 57.9ms\tremaining: 675ms\n",
            "79:\tlearn: 64341.1352258\ttotal: 58.1ms\tremaining: 669ms\n",
            "80:\tlearn: 64340.7834052\ttotal: 58.8ms\tremaining: 667ms\n",
            "81:\tlearn: 64339.7165314\ttotal: 59.2ms\tremaining: 663ms\n",
            "82:\tlearn: 64339.3311745\ttotal: 59.8ms\tremaining: 660ms\n",
            "83:\tlearn: 64338.0958945\ttotal: 60.1ms\tremaining: 655ms\n",
            "84:\tlearn: 64336.7551327\ttotal: 60.6ms\tremaining: 652ms\n",
            "85:\tlearn: 64336.1263376\ttotal: 61.2ms\tremaining: 650ms\n",
            "86:\tlearn: 64334.9285805\ttotal: 61.5ms\tremaining: 646ms\n",
            "87:\tlearn: 64334.2080703\ttotal: 61.8ms\tremaining: 641ms\n",
            "88:\tlearn: 64333.9266905\ttotal: 62.4ms\tremaining: 638ms\n",
            "89:\tlearn: 64333.0214692\ttotal: 62.6ms\tremaining: 633ms\n",
            "90:\tlearn: 64332.7653878\ttotal: 63.1ms\tremaining: 630ms\n",
            "91:\tlearn: 64332.7039029\ttotal: 63.6ms\tremaining: 628ms\n",
            "92:\tlearn: 64332.5404346\ttotal: 64ms\tremaining: 624ms\n",
            "93:\tlearn: 64332.3214019\ttotal: 64.4ms\tremaining: 620ms\n",
            "94:\tlearn: 64332.3117588\ttotal: 64.8ms\tremaining: 617ms\n",
            "95:\tlearn: 64332.1856793\ttotal: 65.1ms\tremaining: 613ms\n",
            "96:\tlearn: 64331.2509404\ttotal: 65.7ms\tremaining: 612ms\n",
            "97:\tlearn: 64330.7743917\ttotal: 66.1ms\tremaining: 608ms\n",
            "98:\tlearn: 64330.7350705\ttotal: 66.6ms\tremaining: 606ms\n",
            "99:\tlearn: 64330.3558721\ttotal: 66.9ms\tremaining: 602ms\n",
            "100:\tlearn: 64330.1143620\ttotal: 67.4ms\tremaining: 600ms\n",
            "101:\tlearn: 64329.9756435\ttotal: 68ms\tremaining: 599ms\n",
            "102:\tlearn: 64329.6737002\ttotal: 68.3ms\tremaining: 595ms\n",
            "103:\tlearn: 64329.5456305\ttotal: 68.8ms\tremaining: 593ms\n",
            "104:\tlearn: 64329.3490450\ttotal: 69.4ms\tremaining: 592ms\n",
            "105:\tlearn: 64328.3774821\ttotal: 69.8ms\tremaining: 589ms\n",
            "106:\tlearn: 64328.2807650\ttotal: 70.3ms\tremaining: 587ms\n",
            "107:\tlearn: 64327.5715359\ttotal: 70.9ms\tremaining: 585ms\n",
            "108:\tlearn: 64327.3511695\ttotal: 71.2ms\tremaining: 582ms\n",
            "109:\tlearn: 64327.2842274\ttotal: 71.4ms\tremaining: 578ms\n",
            "110:\tlearn: 64327.2177459\ttotal: 71.8ms\tremaining: 575ms\n",
            "111:\tlearn: 64326.6154705\ttotal: 72.1ms\tremaining: 572ms\n",
            "112:\tlearn: 64326.5234642\ttotal: 72.4ms\tremaining: 568ms\n",
            "113:\tlearn: 64326.0419772\ttotal: 72.7ms\tremaining: 565ms\n",
            "114:\tlearn: 64326.0112144\ttotal: 73.4ms\tremaining: 565ms\n",
            "115:\tlearn: 64325.4606652\ttotal: 73.7ms\tremaining: 561ms\n",
            "116:\tlearn: 64325.1612176\ttotal: 74.1ms\tremaining: 560ms\n",
            "117:\tlearn: 64325.0170143\ttotal: 74.4ms\tremaining: 556ms\n",
            "118:\tlearn: 64324.3947777\ttotal: 74.7ms\tremaining: 553ms\n",
            "119:\tlearn: 64324.3351761\ttotal: 75.3ms\tremaining: 552ms\n",
            "120:\tlearn: 64324.3254181\ttotal: 75.5ms\tremaining: 549ms\n",
            "121:\tlearn: 64324.0757329\ttotal: 75.8ms\tremaining: 545ms\n",
            "122:\tlearn: 64323.6732754\ttotal: 76.4ms\tremaining: 545ms\n",
            "123:\tlearn: 64323.5650116\ttotal: 76.6ms\tremaining: 541ms\n",
            "124:\tlearn: 64323.5340971\ttotal: 76.9ms\tremaining: 538ms\n",
            "125:\tlearn: 64323.2332382\ttotal: 77.3ms\tremaining: 536ms\n",
            "126:\tlearn: 64322.8585004\ttotal: 77.6ms\tremaining: 534ms\n",
            "127:\tlearn: 64322.8526302\ttotal: 77.9ms\tremaining: 531ms\n",
            "128:\tlearn: 64322.7710018\ttotal: 78.3ms\tremaining: 529ms\n",
            "129:\tlearn: 64322.7491475\ttotal: 78.6ms\tremaining: 526ms\n",
            "130:\tlearn: 64322.5498458\ttotal: 78.9ms\tremaining: 523ms\n",
            "131:\tlearn: 64322.5402163\ttotal: 79.3ms\tremaining: 522ms\n",
            "132:\tlearn: 64322.2357494\ttotal: 79.9ms\tremaining: 521ms\n",
            "133:\tlearn: 64322.2192814\ttotal: 80.2ms\tremaining: 519ms\n",
            "134:\tlearn: 64322.0516240\ttotal: 80.6ms\tremaining: 517ms\n",
            "135:\tlearn: 64322.0175113\ttotal: 81.2ms\tremaining: 516ms\n",
            "136:\tlearn: 64321.8641745\ttotal: 81.5ms\tremaining: 513ms\n",
            "137:\tlearn: 64321.8579062\ttotal: 81.9ms\tremaining: 511ms\n",
            "138:\tlearn: 64321.8547353\ttotal: 82.4ms\tremaining: 510ms\n",
            "139:\tlearn: 64321.7917508\ttotal: 82.7ms\tremaining: 508ms\n",
            "140:\tlearn: 64321.7862700\ttotal: 83.2ms\tremaining: 507ms\n",
            "141:\tlearn: 64321.4930194\ttotal: 83.8ms\tremaining: 506ms\n",
            "142:\tlearn: 64321.4902884\ttotal: 84ms\tremaining: 503ms\n",
            "143:\tlearn: 64321.4651057\ttotal: 84.4ms\tremaining: 501ms\n",
            "144:\tlearn: 64321.4624701\ttotal: 84.8ms\tremaining: 500ms\n",
            "145:\tlearn: 64321.4520007\ttotal: 85.1ms\tremaining: 498ms\n",
            "146:\tlearn: 64321.4334495\ttotal: 85.3ms\tremaining: 495ms\n",
            "147:\tlearn: 64321.3842612\ttotal: 85.7ms\tremaining: 493ms\n",
            "148:\tlearn: 64321.3764200\ttotal: 86.2ms\tremaining: 492ms\n",
            "149:\tlearn: 64321.3282480\ttotal: 86.5ms\tremaining: 490ms\n",
            "150:\tlearn: 64321.1335628\ttotal: 86.9ms\tremaining: 489ms\n",
            "151:\tlearn: 64320.8217096\ttotal: 87.5ms\tremaining: 488ms\n",
            "152:\tlearn: 64320.8014371\ttotal: 87.9ms\tremaining: 486ms\n",
            "153:\tlearn: 64320.5161890\ttotal: 88.3ms\tremaining: 485ms\n",
            "154:\tlearn: 64320.3654434\ttotal: 88.9ms\tremaining: 485ms\n",
            "155:\tlearn: 64320.3608852\ttotal: 89.2ms\tremaining: 483ms\n",
            "156:\tlearn: 64320.3579669\ttotal: 89.6ms\tremaining: 481ms\n",
            "157:\tlearn: 64320.3572050\ttotal: 90.2ms\tremaining: 481ms\n",
            "158:\tlearn: 64320.2090370\ttotal: 90.5ms\tremaining: 479ms\n",
            "159:\tlearn: 64320.2011632\ttotal: 91ms\tremaining: 478ms\n",
            "160:\tlearn: 64320.1373682\ttotal: 91.9ms\tremaining: 479ms\n",
            "161:\tlearn: 64320.0784734\ttotal: 92.4ms\tremaining: 478ms\n",
            "162:\tlearn: 64320.0771095\ttotal: 92.6ms\tremaining: 476ms\n",
            "163:\tlearn: 64320.0766391\ttotal: 92.9ms\tremaining: 473ms\n",
            "164:\tlearn: 64320.0694449\ttotal: 93.1ms\tremaining: 471ms\n",
            "165:\tlearn: 64320.0043431\ttotal: 93.5ms\tremaining: 470ms\n",
            "166:\tlearn: 64319.8855945\ttotal: 93.9ms\tremaining: 468ms\n",
            "167:\tlearn: 64319.8775085\ttotal: 94.5ms\tremaining: 468ms\n",
            "168:\tlearn: 64319.8258417\ttotal: 94.7ms\tremaining: 466ms\n",
            "169:\tlearn: 64319.8245863\ttotal: 95ms\tremaining: 464ms\n",
            "170:\tlearn: 64319.6170692\ttotal: 95.4ms\tremaining: 463ms\n",
            "171:\tlearn: 64319.5729600\ttotal: 96ms\tremaining: 462ms\n",
            "172:\tlearn: 64319.5321919\ttotal: 96.3ms\tremaining: 460ms\n",
            "173:\tlearn: 64319.3474413\ttotal: 96.9ms\tremaining: 460ms\n",
            "174:\tlearn: 64319.3329293\ttotal: 97.5ms\tremaining: 459ms\n",
            "175:\tlearn: 64319.2352711\ttotal: 97.8ms\tremaining: 458ms\n",
            "176:\tlearn: 64319.1231616\ttotal: 98.3ms\tremaining: 457ms\n",
            "177:\tlearn: 64319.1135711\ttotal: 98.9ms\tremaining: 457ms\n",
            "178:\tlearn: 64319.0983250\ttotal: 99.1ms\tremaining: 455ms\n",
            "179:\tlearn: 64319.0646553\ttotal: 99.4ms\tremaining: 453ms\n",
            "180:\tlearn: 64319.0645440\ttotal: 99.7ms\tremaining: 451ms\n",
            "181:\tlearn: 64319.0540454\ttotal: 100ms\tremaining: 451ms\n",
            "182:\tlearn: 64319.0525812\ttotal: 101ms\tremaining: 449ms\n",
            "183:\tlearn: 64319.0499510\ttotal: 101ms\tremaining: 448ms\n",
            "184:\tlearn: 64319.0184741\ttotal: 102ms\tremaining: 448ms\n",
            "185:\tlearn: 64318.9353564\ttotal: 102ms\tremaining: 446ms\n",
            "186:\tlearn: 64318.9061129\ttotal: 102ms\tremaining: 445ms\n",
            "187:\tlearn: 64318.9041245\ttotal: 103ms\tremaining: 444ms\n",
            "188:\tlearn: 64318.8771510\ttotal: 103ms\tremaining: 444ms\n",
            "189:\tlearn: 64318.7445283\ttotal: 104ms\tremaining: 442ms\n",
            "190:\tlearn: 64318.7171760\ttotal: 104ms\tremaining: 442ms\n",
            "191:\tlearn: 64318.7113196\ttotal: 105ms\tremaining: 442ms\n",
            "192:\tlearn: 64318.7051325\ttotal: 106ms\tremaining: 442ms\n",
            "193:\tlearn: 64318.7046883\ttotal: 106ms\tremaining: 440ms\n",
            "194:\tlearn: 64318.6419473\ttotal: 106ms\tremaining: 439ms\n",
            "195:\tlearn: 64318.6323282\ttotal: 107ms\tremaining: 437ms\n",
            "196:\tlearn: 64318.6104676\ttotal: 107ms\tremaining: 435ms\n",
            "197:\tlearn: 64318.5353669\ttotal: 107ms\tremaining: 434ms\n",
            "198:\tlearn: 64318.5268833\ttotal: 107ms\tremaining: 433ms\n",
            "199:\tlearn: 64318.5027329\ttotal: 108ms\tremaining: 433ms\n",
            "200:\tlearn: 64318.5025419\ttotal: 109ms\tremaining: 432ms\n",
            "201:\tlearn: 64318.5023680\ttotal: 109ms\tremaining: 431ms\n",
            "202:\tlearn: 64318.5004655\ttotal: 110ms\tremaining: 430ms\n",
            "203:\tlearn: 64318.4528539\ttotal: 110ms\tremaining: 430ms\n",
            "204:\tlearn: 64318.3903789\ttotal: 110ms\tremaining: 428ms\n",
            "205:\tlearn: 64318.3708787\ttotal: 111ms\tremaining: 428ms\n",
            "206:\tlearn: 64318.3164961\ttotal: 111ms\tremaining: 427ms\n",
            "207:\tlearn: 64318.3157525\ttotal: 112ms\tremaining: 425ms\n",
            "208:\tlearn: 64318.3152634\ttotal: 112ms\tremaining: 424ms\n",
            "209:\tlearn: 64318.3151110\ttotal: 112ms\tremaining: 423ms\n",
            "210:\tlearn: 64318.2609637\ttotal: 113ms\tremaining: 422ms\n",
            "211:\tlearn: 64318.1942782\ttotal: 113ms\tremaining: 422ms\n",
            "212:\tlearn: 64318.1160413\ttotal: 114ms\tremaining: 421ms\n",
            "213:\tlearn: 64318.0440179\ttotal: 114ms\tremaining: 420ms\n",
            "214:\tlearn: 64317.9919401\ttotal: 115ms\tremaining: 420ms\n",
            "215:\tlearn: 64317.9916196\ttotal: 115ms\tremaining: 419ms\n",
            "216:\tlearn: 64317.9824083\ttotal: 116ms\tremaining: 418ms\n",
            "217:\tlearn: 64317.9712777\ttotal: 117ms\tremaining: 418ms\n",
            "218:\tlearn: 64317.9708087\ttotal: 117ms\tremaining: 417ms\n",
            "219:\tlearn: 64317.9350469\ttotal: 117ms\tremaining: 415ms\n",
            "220:\tlearn: 64317.9349873\ttotal: 118ms\tremaining: 415ms\n",
            "221:\tlearn: 64317.9343612\ttotal: 118ms\tremaining: 413ms\n",
            "222:\tlearn: 64317.9089548\ttotal: 118ms\tremaining: 412ms\n",
            "223:\tlearn: 64317.8787736\ttotal: 119ms\tremaining: 411ms\n",
            "224:\tlearn: 64317.8255050\ttotal: 119ms\tremaining: 410ms\n",
            "225:\tlearn: 64317.7764688\ttotal: 119ms\tremaining: 409ms\n",
            "226:\tlearn: 64317.7764358\ttotal: 120ms\tremaining: 408ms\n",
            "227:\tlearn: 64317.7763107\ttotal: 120ms\tremaining: 408ms\n",
            "228:\tlearn: 64317.7311846\ttotal: 121ms\tremaining: 407ms\n",
            "229:\tlearn: 64317.6896423\ttotal: 121ms\tremaining: 406ms\n",
            "230:\tlearn: 64317.6892743\ttotal: 122ms\tremaining: 406ms\n",
            "231:\tlearn: 64317.6891922\ttotal: 122ms\tremaining: 405ms\n",
            "232:\tlearn: 64317.6891206\ttotal: 123ms\tremaining: 404ms\n",
            "233:\tlearn: 64317.6509182\ttotal: 123ms\tremaining: 404ms\n",
            "234:\tlearn: 64317.6157486\ttotal: 124ms\tremaining: 403ms\n",
            "235:\tlearn: 64317.5833704\ttotal: 124ms\tremaining: 403ms\n",
            "236:\tlearn: 64317.5604712\ttotal: 125ms\tremaining: 402ms\n",
            "237:\tlearn: 64317.5393858\ttotal: 126ms\tremaining: 402ms\n",
            "238:\tlearn: 64317.5130421\ttotal: 126ms\tremaining: 401ms\n",
            "239:\tlearn: 64317.4998659\ttotal: 126ms\tremaining: 400ms\n",
            "240:\tlearn: 64317.4997811\ttotal: 127ms\tremaining: 399ms\n",
            "241:\tlearn: 64317.4997379\ttotal: 127ms\tremaining: 398ms\n",
            "242:\tlearn: 64317.4765666\ttotal: 127ms\tremaining: 397ms\n",
            "243:\tlearn: 64317.4552323\ttotal: 128ms\tremaining: 396ms\n",
            "244:\tlearn: 64317.4421219\ttotal: 129ms\tremaining: 397ms\n",
            "245:\tlearn: 64317.4235107\ttotal: 129ms\tremaining: 396ms\n",
            "246:\tlearn: 64317.4123981\ttotal: 129ms\tremaining: 395ms\n",
            "247:\tlearn: 64317.4021738\ttotal: 130ms\tremaining: 395ms\n",
            "248:\tlearn: 64317.3867151\ttotal: 130ms\tremaining: 394ms\n",
            "249:\tlearn: 64317.3724821\ttotal: 131ms\tremaining: 393ms\n",
            "250:\tlearn: 64317.3593773\ttotal: 131ms\tremaining: 392ms\n",
            "251:\tlearn: 64317.3473111\ttotal: 132ms\tremaining: 391ms\n",
            "252:\tlearn: 64317.3455022\ttotal: 132ms\tremaining: 389ms\n",
            "253:\tlearn: 64317.3454112\ttotal: 132ms\tremaining: 389ms\n",
            "254:\tlearn: 64317.3453747\ttotal: 133ms\tremaining: 387ms\n",
            "255:\tlearn: 64317.3344239\ttotal: 133ms\tremaining: 386ms\n",
            "256:\tlearn: 64317.3243403\ttotal: 134ms\tremaining: 386ms\n",
            "257:\tlearn: 64317.3202046\ttotal: 134ms\tremaining: 386ms\n",
            "258:\tlearn: 64317.3149048\ttotal: 135ms\tremaining: 385ms\n",
            "259:\tlearn: 64317.3063566\ttotal: 135ms\tremaining: 384ms\n",
            "260:\tlearn: 64317.2984855\ttotal: 136ms\tremaining: 384ms\n",
            "261:\tlearn: 64317.2943534\ttotal: 136ms\tremaining: 383ms\n",
            "262:\tlearn: 64317.2874409\ttotal: 137ms\tremaining: 383ms\n",
            "263:\tlearn: 64317.2810751\ttotal: 137ms\tremaining: 382ms\n",
            "264:\tlearn: 64317.2752126\ttotal: 138ms\tremaining: 382ms\n",
            "265:\tlearn: 64317.2708997\ttotal: 138ms\tremaining: 381ms\n",
            "266:\tlearn: 64317.2658394\ttotal: 139ms\tremaining: 380ms\n",
            "267:\tlearn: 64317.2611791\ttotal: 139ms\tremaining: 380ms\n",
            "268:\tlearn: 64317.2605833\ttotal: 140ms\tremaining: 380ms\n",
            "269:\tlearn: 64317.2580577\ttotal: 140ms\tremaining: 379ms\n",
            "270:\tlearn: 64317.2540122\ttotal: 141ms\tremaining: 379ms\n",
            "271:\tlearn: 64317.2538514\ttotal: 142ms\tremaining: 379ms\n",
            "272:\tlearn: 64317.2518282\ttotal: 142ms\tremaining: 378ms\n",
            "273:\tlearn: 64317.2516308\ttotal: 143ms\tremaining: 378ms\n",
            "274:\tlearn: 64317.2481013\ttotal: 143ms\tremaining: 377ms\n",
            "275:\tlearn: 64317.2448500\ttotal: 143ms\tremaining: 376ms\n",
            "276:\tlearn: 64317.2418549\ttotal: 144ms\tremaining: 377ms\n",
            "277:\tlearn: 64317.2390957\ttotal: 145ms\tremaining: 376ms\n",
            "278:\tlearn: 64317.2365538\ttotal: 145ms\tremaining: 376ms\n",
            "279:\tlearn: 64317.2353452\ttotal: 146ms\tremaining: 375ms\n",
            "280:\tlearn: 64317.2331014\ttotal: 146ms\tremaining: 374ms\n",
            "281:\tlearn: 64317.2310340\ttotal: 147ms\tremaining: 373ms\n",
            "282:\tlearn: 64317.2291291\ttotal: 147ms\tremaining: 372ms\n",
            "283:\tlearn: 64317.2291260\ttotal: 147ms\tremaining: 371ms\n",
            "284:\tlearn: 64317.2273709\ttotal: 148ms\tremaining: 371ms\n",
            "285:\tlearn: 64317.2257537\ttotal: 149ms\tremaining: 371ms\n",
            "286:\tlearn: 64317.2242636\ttotal: 149ms\tremaining: 370ms\n",
            "287:\tlearn: 64317.2228904\ttotal: 150ms\tremaining: 370ms\n",
            "288:\tlearn: 64317.2216250\ttotal: 150ms\tremaining: 369ms\n",
            "289:\tlearn: 64317.2204590\ttotal: 150ms\tremaining: 368ms\n",
            "290:\tlearn: 64317.2193844\ttotal: 151ms\tremaining: 368ms\n",
            "291:\tlearn: 64317.2183942\ttotal: 152ms\tremaining: 369ms\n",
            "292:\tlearn: 64317.2174816\ttotal: 152ms\tremaining: 368ms\n",
            "293:\tlearn: 64317.2166405\ttotal: 153ms\tremaining: 368ms\n",
            "294:\tlearn: 64317.2158654\ttotal: 153ms\tremaining: 367ms\n",
            "295:\tlearn: 64317.2151510\ttotal: 154ms\tremaining: 366ms\n",
            "296:\tlearn: 64317.2144926\ttotal: 154ms\tremaining: 365ms\n",
            "297:\tlearn: 64317.2138858\ttotal: 155ms\tremaining: 365ms\n",
            "298:\tlearn: 64317.2133265\ttotal: 155ms\tremaining: 365ms\n",
            "299:\tlearn: 64317.2128110\ttotal: 156ms\tremaining: 364ms\n",
            "300:\tlearn: 64317.2123358\ttotal: 156ms\tremaining: 363ms\n",
            "301:\tlearn: 64317.2118978\ttotal: 157ms\tremaining: 362ms\n",
            "302:\tlearn: 64317.2114941\ttotal: 157ms\tremaining: 361ms\n",
            "303:\tlearn: 64317.2111219\ttotal: 157ms\tremaining: 360ms\n",
            "304:\tlearn: 64317.2107789\ttotal: 158ms\tremaining: 359ms\n",
            "305:\tlearn: 64317.2104626\ttotal: 158ms\tremaining: 358ms\n",
            "306:\tlearn: 64317.2101711\ttotal: 158ms\tremaining: 357ms\n",
            "307:\tlearn: 64317.2099023\ttotal: 159ms\tremaining: 356ms\n",
            "308:\tlearn: 64317.2096546\ttotal: 159ms\tremaining: 355ms\n",
            "309:\tlearn: 64317.2094262\ttotal: 159ms\tremaining: 354ms\n",
            "310:\tlearn: 64317.2092156\ttotal: 160ms\tremaining: 353ms\n",
            "311:\tlearn: 64317.2090214\ttotal: 160ms\tremaining: 352ms\n",
            "312:\tlearn: 64317.2088425\ttotal: 160ms\tremaining: 351ms\n",
            "313:\tlearn: 64317.2086774\ttotal: 160ms\tremaining: 351ms\n",
            "314:\tlearn: 64317.2085253\ttotal: 161ms\tremaining: 350ms\n",
            "315:\tlearn: 64317.2083850\ttotal: 161ms\tremaining: 349ms\n",
            "316:\tlearn: 64317.2082556\ttotal: 161ms\tremaining: 348ms\n",
            "317:\tlearn: 64317.2081363\ttotal: 162ms\tremaining: 347ms\n",
            "318:\tlearn: 64317.2080263\ttotal: 162ms\tremaining: 346ms\n",
            "319:\tlearn: 64317.2079249\ttotal: 162ms\tremaining: 345ms\n",
            "320:\tlearn: 64317.2078314\ttotal: 163ms\tremaining: 344ms\n",
            "321:\tlearn: 64317.2077451\ttotal: 163ms\tremaining: 343ms\n",
            "322:\tlearn: 64317.2076656\ttotal: 163ms\tremaining: 342ms\n",
            "323:\tlearn: 64317.2075922\ttotal: 164ms\tremaining: 341ms\n",
            "324:\tlearn: 64317.2075246\ttotal: 164ms\tremaining: 340ms\n",
            "325:\tlearn: 64317.2074622\ttotal: 164ms\tremaining: 339ms\n",
            "326:\tlearn: 64317.2074047\ttotal: 164ms\tremaining: 338ms\n",
            "327:\tlearn: 64317.2073516\ttotal: 165ms\tremaining: 338ms\n",
            "328:\tlearn: 64317.2073027\ttotal: 165ms\tremaining: 337ms\n",
            "329:\tlearn: 64317.2072575\ttotal: 165ms\tremaining: 336ms\n",
            "330:\tlearn: 64317.2072159\ttotal: 166ms\tremaining: 335ms\n",
            "331:\tlearn: 64317.2071775\ttotal: 175ms\tremaining: 351ms\n",
            "332:\tlearn: 64317.2071421\ttotal: 175ms\tremaining: 351ms\n",
            "333:\tlearn: 64317.2071094\ttotal: 175ms\tremaining: 350ms\n",
            "334:\tlearn: 64317.2070793\ttotal: 176ms\tremaining: 349ms\n",
            "335:\tlearn: 64317.2070515\ttotal: 177ms\tremaining: 349ms\n",
            "336:\tlearn: 64317.2070258\ttotal: 177ms\tremaining: 348ms\n",
            "337:\tlearn: 64317.2070022\ttotal: 178ms\tremaining: 348ms\n",
            "338:\tlearn: 64317.2069803\ttotal: 178ms\tremaining: 348ms\n",
            "339:\tlearn: 64317.2069602\ttotal: 179ms\tremaining: 347ms\n",
            "340:\tlearn: 64317.2069416\ttotal: 179ms\tremaining: 347ms\n",
            "341:\tlearn: 64317.2069245\ttotal: 180ms\tremaining: 346ms\n",
            "342:\tlearn: 64317.2069087\ttotal: 180ms\tremaining: 345ms\n",
            "343:\tlearn: 64317.2068941\ttotal: 181ms\tremaining: 345ms\n",
            "344:\tlearn: 64317.2068806\ttotal: 181ms\tremaining: 344ms\n",
            "345:\tlearn: 64317.2068682\ttotal: 182ms\tremaining: 343ms\n",
            "346:\tlearn: 64317.2068568\ttotal: 182ms\tremaining: 343ms\n",
            "347:\tlearn: 64317.2068462\ttotal: 183ms\tremaining: 342ms\n",
            "348:\tlearn: 64317.2068364\ttotal: 183ms\tremaining: 342ms\n",
            "349:\tlearn: 64317.2068274\ttotal: 184ms\tremaining: 342ms\n",
            "350:\tlearn: 64317.2068191\ttotal: 184ms\tremaining: 341ms\n",
            "351:\tlearn: 64317.2068114\ttotal: 185ms\tremaining: 340ms\n",
            "352:\tlearn: 64317.2068044\ttotal: 186ms\tremaining: 340ms\n",
            "353:\tlearn: 64317.2067978\ttotal: 186ms\tremaining: 339ms\n",
            "354:\tlearn: 64317.2067918\ttotal: 186ms\tremaining: 338ms\n",
            "355:\tlearn: 64317.2067863\ttotal: 187ms\tremaining: 339ms\n",
            "356:\tlearn: 64317.2067811\ttotal: 187ms\tremaining: 338ms\n",
            "357:\tlearn: 64317.2067764\ttotal: 188ms\tremaining: 337ms\n",
            "358:\tlearn: 64317.2067720\ttotal: 189ms\tremaining: 337ms\n",
            "359:\tlearn: 64317.2067680\ttotal: 189ms\tremaining: 337ms\n",
            "360:\tlearn: 64317.2067643\ttotal: 190ms\tremaining: 337ms\n",
            "361:\tlearn: 64317.2067608\ttotal: 190ms\tremaining: 336ms\n",
            "362:\tlearn: 64317.2067576\ttotal: 191ms\tremaining: 335ms\n",
            "363:\tlearn: 64317.2067547\ttotal: 192ms\tremaining: 335ms\n",
            "364:\tlearn: 64317.2067520\ttotal: 192ms\tremaining: 334ms\n",
            "365:\tlearn: 64317.2067495\ttotal: 193ms\tremaining: 334ms\n",
            "366:\tlearn: 64317.2067472\ttotal: 193ms\tremaining: 333ms\n",
            "367:\tlearn: 64317.2067451\ttotal: 194ms\tremaining: 332ms\n",
            "368:\tlearn: 64317.2067431\ttotal: 194ms\tremaining: 332ms\n",
            "369:\tlearn: 64317.2067413\ttotal: 195ms\tremaining: 332ms\n",
            "370:\tlearn: 64317.2067396\ttotal: 195ms\tremaining: 331ms\n",
            "371:\tlearn: 64317.2067381\ttotal: 196ms\tremaining: 331ms\n",
            "372:\tlearn: 64317.2067367\ttotal: 196ms\tremaining: 330ms\n",
            "373:\tlearn: 64317.2067353\ttotal: 197ms\tremaining: 330ms\n",
            "374:\tlearn: 64317.2067341\ttotal: 198ms\tremaining: 329ms\n",
            "375:\tlearn: 64317.2067330\ttotal: 198ms\tremaining: 329ms\n",
            "376:\tlearn: 64317.2067320\ttotal: 199ms\tremaining: 328ms\n",
            "377:\tlearn: 64317.2067310\ttotal: 199ms\tremaining: 327ms\n",
            "378:\tlearn: 64317.2067301\ttotal: 199ms\tremaining: 327ms\n",
            "379:\tlearn: 64317.2067293\ttotal: 201ms\tremaining: 327ms\n",
            "380:\tlearn: 64317.2067286\ttotal: 201ms\tremaining: 327ms\n",
            "381:\tlearn: 64317.2067279\ttotal: 202ms\tremaining: 326ms\n",
            "382:\tlearn: 64317.2067272\ttotal: 202ms\tremaining: 326ms\n",
            "383:\tlearn: 64317.2067266\ttotal: 202ms\tremaining: 325ms\n",
            "384:\tlearn: 64317.2067261\ttotal: 203ms\tremaining: 324ms\n",
            "385:\tlearn: 64317.2067256\ttotal: 203ms\tremaining: 323ms\n",
            "386:\tlearn: 64317.2067251\ttotal: 203ms\tremaining: 322ms\n",
            "387:\tlearn: 64317.2067247\ttotal: 205ms\tremaining: 323ms\n",
            "388:\tlearn: 64317.2067243\ttotal: 205ms\tremaining: 322ms\n",
            "389:\tlearn: 64317.2067239\ttotal: 208ms\tremaining: 325ms\n",
            "390:\tlearn: 64317.2067236\ttotal: 208ms\tremaining: 324ms\n",
            "391:\tlearn: 64317.2067232\ttotal: 209ms\tremaining: 324ms\n",
            "392:\tlearn: 64317.2067230\ttotal: 210ms\tremaining: 324ms\n",
            "393:\tlearn: 64317.2067227\ttotal: 210ms\tremaining: 323ms\n",
            "394:\tlearn: 64317.2067224\ttotal: 210ms\tremaining: 322ms\n",
            "395:\tlearn: 64317.2067222\ttotal: 211ms\tremaining: 322ms\n",
            "396:\tlearn: 64317.2067220\ttotal: 212ms\tremaining: 322ms\n",
            "397:\tlearn: 64317.2067218\ttotal: 212ms\tremaining: 321ms\n",
            "398:\tlearn: 64317.2067216\ttotal: 213ms\tremaining: 321ms\n",
            "399:\tlearn: 64317.2067215\ttotal: 214ms\tremaining: 320ms\n",
            "400:\tlearn: 64317.2067213\ttotal: 214ms\tremaining: 320ms\n",
            "401:\tlearn: 64317.2067212\ttotal: 215ms\tremaining: 319ms\n",
            "402:\tlearn: 64317.2067210\ttotal: 215ms\tremaining: 319ms\n",
            "403:\tlearn: 64317.2067209\ttotal: 216ms\tremaining: 318ms\n",
            "404:\tlearn: 64317.2067208\ttotal: 216ms\tremaining: 317ms\n",
            "405:\tlearn: 64317.2067207\ttotal: 217ms\tremaining: 317ms\n",
            "406:\tlearn: 64317.2067206\ttotal: 217ms\tremaining: 316ms\n",
            "407:\tlearn: 64317.2067205\ttotal: 217ms\tremaining: 315ms\n",
            "408:\tlearn: 64317.2067204\ttotal: 218ms\tremaining: 315ms\n",
            "409:\tlearn: 64317.2067203\ttotal: 219ms\tremaining: 315ms\n",
            "410:\tlearn: 64317.2067203\ttotal: 219ms\tremaining: 314ms\n",
            "411:\tlearn: 64317.2067202\ttotal: 219ms\tremaining: 313ms\n",
            "412:\tlearn: 64317.2067202\ttotal: 220ms\tremaining: 313ms\n",
            "413:\tlearn: 64317.2067201\ttotal: 221ms\tremaining: 312ms\n",
            "414:\tlearn: 64317.2067200\ttotal: 221ms\tremaining: 311ms\n",
            "415:\tlearn: 64317.2067200\ttotal: 222ms\tremaining: 311ms\n",
            "416:\tlearn: 64317.2067200\ttotal: 223ms\tremaining: 312ms\n",
            "417:\tlearn: 64317.2067199\ttotal: 223ms\tremaining: 311ms\n",
            "418:\tlearn: 64317.2067199\ttotal: 224ms\tremaining: 311ms\n",
            "419:\tlearn: 64317.2067198\ttotal: 225ms\tremaining: 310ms\n",
            "420:\tlearn: 64317.2067198\ttotal: 225ms\tremaining: 310ms\n",
            "421:\tlearn: 64317.2067198\ttotal: 226ms\tremaining: 310ms\n",
            "422:\tlearn: 64317.2067198\ttotal: 227ms\tremaining: 309ms\n",
            "423:\tlearn: 64317.2067197\ttotal: 227ms\tremaining: 309ms\n",
            "424:\tlearn: 64317.2067197\ttotal: 228ms\tremaining: 308ms\n",
            "425:\tlearn: 64317.2067197\ttotal: 228ms\tremaining: 307ms\n",
            "426:\tlearn: 64317.2067197\ttotal: 228ms\tremaining: 307ms\n",
            "427:\tlearn: 64317.2067196\ttotal: 229ms\tremaining: 307ms\n",
            "428:\tlearn: 64317.2067196\ttotal: 230ms\tremaining: 306ms\n",
            "429:\tlearn: 64317.2067196\ttotal: 230ms\tremaining: 305ms\n",
            "430:\tlearn: 64317.2067196\ttotal: 231ms\tremaining: 305ms\n",
            "431:\tlearn: 64317.2067196\ttotal: 231ms\tremaining: 304ms\n",
            "432:\tlearn: 64317.2067196\ttotal: 232ms\tremaining: 303ms\n",
            "433:\tlearn: 64317.2067196\ttotal: 232ms\tremaining: 303ms\n",
            "434:\tlearn: 64317.2067196\ttotal: 233ms\tremaining: 302ms\n",
            "435:\tlearn: 64317.2067195\ttotal: 233ms\tremaining: 302ms\n",
            "436:\tlearn: 64317.2067195\ttotal: 233ms\tremaining: 301ms\n",
            "437:\tlearn: 64317.2067195\ttotal: 234ms\tremaining: 300ms\n",
            "438:\tlearn: 64317.2067195\ttotal: 235ms\tremaining: 300ms\n",
            "439:\tlearn: 64317.2067195\ttotal: 236ms\tremaining: 300ms\n",
            "440:\tlearn: 64317.2067195\ttotal: 236ms\tremaining: 299ms\n",
            "441:\tlearn: 64317.2067195\ttotal: 237ms\tremaining: 299ms\n",
            "442:\tlearn: 64317.2067195\ttotal: 237ms\tremaining: 298ms\n",
            "443:\tlearn: 64317.2067195\ttotal: 238ms\tremaining: 298ms\n",
            "444:\tlearn: 64317.2067195\ttotal: 238ms\tremaining: 297ms\n",
            "445:\tlearn: 64317.2067195\ttotal: 239ms\tremaining: 297ms\n",
            "446:\tlearn: 64317.2067195\ttotal: 240ms\tremaining: 296ms\n",
            "447:\tlearn: 64317.2067195\ttotal: 240ms\tremaining: 296ms\n",
            "448:\tlearn: 64317.2067195\ttotal: 241ms\tremaining: 295ms\n",
            "449:\tlearn: 64317.2067195\ttotal: 241ms\tremaining: 295ms\n",
            "450:\tlearn: 64317.2067195\ttotal: 242ms\tremaining: 294ms\n",
            "451:\tlearn: 64317.2067195\ttotal: 242ms\tremaining: 294ms\n",
            "452:\tlearn: 64317.2067195\ttotal: 243ms\tremaining: 293ms\n",
            "453:\tlearn: 64317.2067195\ttotal: 244ms\tremaining: 293ms\n",
            "454:\tlearn: 64317.2067195\ttotal: 244ms\tremaining: 292ms\n",
            "455:\tlearn: 64317.2067194\ttotal: 244ms\tremaining: 291ms\n",
            "456:\tlearn: 64317.2067194\ttotal: 245ms\tremaining: 291ms\n",
            "457:\tlearn: 64317.2067194\ttotal: 245ms\tremaining: 290ms\n",
            "458:\tlearn: 64317.2067194\ttotal: 246ms\tremaining: 290ms\n",
            "459:\tlearn: 64317.2067194\ttotal: 246ms\tremaining: 289ms\n",
            "460:\tlearn: 64317.2067194\ttotal: 247ms\tremaining: 288ms\n",
            "461:\tlearn: 64317.2067194\ttotal: 247ms\tremaining: 288ms\n",
            "462:\tlearn: 64317.2067194\ttotal: 248ms\tremaining: 288ms\n",
            "463:\tlearn: 64317.2067194\ttotal: 248ms\tremaining: 287ms\n",
            "464:\tlearn: 64317.2067194\ttotal: 249ms\tremaining: 287ms\n",
            "465:\tlearn: 64317.2067194\ttotal: 250ms\tremaining: 286ms\n",
            "466:\tlearn: 64317.2067194\ttotal: 250ms\tremaining: 286ms\n",
            "467:\tlearn: 64317.2067194\ttotal: 251ms\tremaining: 285ms\n",
            "468:\tlearn: 64317.2067194\ttotal: 251ms\tremaining: 284ms\n",
            "469:\tlearn: 64317.2067194\ttotal: 252ms\tremaining: 284ms\n",
            "470:\tlearn: 64317.2067194\ttotal: 252ms\tremaining: 283ms\n",
            "471:\tlearn: 64317.2067194\ttotal: 253ms\tremaining: 283ms\n",
            "472:\tlearn: 64317.2067194\ttotal: 253ms\tremaining: 282ms\n",
            "473:\tlearn: 64317.2067194\ttotal: 254ms\tremaining: 282ms\n",
            "474:\tlearn: 64317.2067194\ttotal: 256ms\tremaining: 283ms\n",
            "475:\tlearn: 64317.2067194\ttotal: 256ms\tremaining: 282ms\n",
            "476:\tlearn: 64317.2067194\ttotal: 257ms\tremaining: 282ms\n",
            "477:\tlearn: 64317.2067194\ttotal: 258ms\tremaining: 282ms\n",
            "478:\tlearn: 64317.2067194\ttotal: 258ms\tremaining: 281ms\n",
            "479:\tlearn: 64317.2067194\ttotal: 258ms\tremaining: 280ms\n",
            "480:\tlearn: 64317.2067194\ttotal: 259ms\tremaining: 279ms\n",
            "481:\tlearn: 64317.2067194\ttotal: 260ms\tremaining: 279ms\n",
            "482:\tlearn: 64317.2067194\ttotal: 261ms\tremaining: 279ms\n",
            "483:\tlearn: 64317.2067194\ttotal: 261ms\tremaining: 278ms\n",
            "484:\tlearn: 64317.2067194\ttotal: 262ms\tremaining: 278ms\n",
            "485:\tlearn: 64317.2067194\ttotal: 262ms\tremaining: 277ms\n",
            "486:\tlearn: 64317.2067194\ttotal: 262ms\tremaining: 276ms\n",
            "487:\tlearn: 64317.2067194\ttotal: 263ms\tremaining: 276ms\n",
            "488:\tlearn: 64317.2067194\ttotal: 264ms\tremaining: 275ms\n",
            "489:\tlearn: 64317.2067194\ttotal: 264ms\tremaining: 275ms\n",
            "490:\tlearn: 64317.2067194\ttotal: 265ms\tremaining: 274ms\n",
            "491:\tlearn: 64317.2067194\ttotal: 265ms\tremaining: 274ms\n",
            "492:\tlearn: 64317.2067194\ttotal: 266ms\tremaining: 273ms\n",
            "493:\tlearn: 64317.2067194\ttotal: 266ms\tremaining: 272ms\n",
            "494:\tlearn: 64317.2067194\ttotal: 266ms\tremaining: 272ms\n",
            "495:\tlearn: 64317.2067194\ttotal: 267ms\tremaining: 271ms\n",
            "496:\tlearn: 64317.2067194\ttotal: 267ms\tremaining: 271ms\n",
            "497:\tlearn: 64317.2067194\ttotal: 268ms\tremaining: 270ms\n",
            "498:\tlearn: 64317.2067194\ttotal: 269ms\tremaining: 270ms\n",
            "499:\tlearn: 64317.2067194\ttotal: 269ms\tremaining: 269ms\n",
            "500:\tlearn: 64317.2067194\ttotal: 269ms\tremaining: 268ms\n",
            "501:\tlearn: 64317.2067194\ttotal: 270ms\tremaining: 267ms\n",
            "502:\tlearn: 64317.2067194\ttotal: 270ms\tremaining: 267ms\n",
            "503:\tlearn: 64317.2067194\ttotal: 271ms\tremaining: 267ms\n",
            "504:\tlearn: 64317.2067194\ttotal: 271ms\tremaining: 266ms\n",
            "505:\tlearn: 64317.2067194\ttotal: 272ms\tremaining: 265ms\n",
            "506:\tlearn: 64317.2067194\ttotal: 272ms\tremaining: 265ms\n",
            "507:\tlearn: 64317.2067194\ttotal: 273ms\tremaining: 264ms\n",
            "508:\tlearn: 64317.2067194\ttotal: 274ms\tremaining: 264ms\n",
            "509:\tlearn: 64317.2067194\ttotal: 274ms\tremaining: 263ms\n",
            "510:\tlearn: 64317.2067194\ttotal: 274ms\tremaining: 263ms\n",
            "511:\tlearn: 64317.2067194\ttotal: 275ms\tremaining: 262ms\n",
            "512:\tlearn: 64317.2067194\ttotal: 275ms\tremaining: 261ms\n",
            "513:\tlearn: 64317.2067194\ttotal: 275ms\tremaining: 260ms\n",
            "514:\tlearn: 64317.2067194\ttotal: 277ms\tremaining: 260ms\n",
            "515:\tlearn: 64317.2067194\ttotal: 277ms\tremaining: 260ms\n",
            "516:\tlearn: 64317.2067194\ttotal: 277ms\tremaining: 259ms\n",
            "517:\tlearn: 64317.2067194\ttotal: 279ms\tremaining: 259ms\n",
            "518:\tlearn: 64317.2067194\ttotal: 279ms\tremaining: 259ms\n",
            "519:\tlearn: 64317.2067194\ttotal: 279ms\tremaining: 258ms\n",
            "520:\tlearn: 64317.2067194\ttotal: 280ms\tremaining: 257ms\n",
            "521:\tlearn: 64317.2067194\ttotal: 280ms\tremaining: 257ms\n",
            "522:\tlearn: 64317.2067194\ttotal: 281ms\tremaining: 256ms\n",
            "523:\tlearn: 64317.2067194\ttotal: 281ms\tremaining: 256ms\n",
            "524:\tlearn: 64317.2067194\ttotal: 282ms\tremaining: 255ms\n",
            "525:\tlearn: 64317.2067194\ttotal: 282ms\tremaining: 254ms\n",
            "526:\tlearn: 64317.2067194\ttotal: 282ms\tremaining: 254ms\n",
            "527:\tlearn: 64317.2067194\ttotal: 283ms\tremaining: 253ms\n",
            "528:\tlearn: 64317.2067194\ttotal: 284ms\tremaining: 253ms\n",
            "529:\tlearn: 64317.2067194\ttotal: 284ms\tremaining: 252ms\n",
            "530:\tlearn: 64317.2067194\ttotal: 284ms\tremaining: 251ms\n",
            "531:\tlearn: 64317.2067194\ttotal: 285ms\tremaining: 251ms\n",
            "532:\tlearn: 64317.2067194\ttotal: 285ms\tremaining: 250ms\n",
            "533:\tlearn: 64317.2067194\ttotal: 286ms\tremaining: 249ms\n",
            "534:\tlearn: 64317.2067194\ttotal: 286ms\tremaining: 249ms\n",
            "535:\tlearn: 64317.2067194\ttotal: 287ms\tremaining: 248ms\n",
            "536:\tlearn: 64317.2067194\ttotal: 287ms\tremaining: 248ms\n",
            "537:\tlearn: 64317.2067194\ttotal: 287ms\tremaining: 247ms\n",
            "538:\tlearn: 64317.2067194\ttotal: 288ms\tremaining: 246ms\n",
            "539:\tlearn: 64317.2067194\ttotal: 288ms\tremaining: 246ms\n",
            "540:\tlearn: 64317.2067194\ttotal: 289ms\tremaining: 245ms\n",
            "541:\tlearn: 64317.2067194\ttotal: 289ms\tremaining: 244ms\n",
            "542:\tlearn: 64317.2067194\ttotal: 290ms\tremaining: 244ms\n",
            "543:\tlearn: 64317.2067194\ttotal: 290ms\tremaining: 243ms\n",
            "544:\tlearn: 64317.2067194\ttotal: 290ms\tremaining: 243ms\n",
            "545:\tlearn: 64317.2067194\ttotal: 291ms\tremaining: 242ms\n",
            "546:\tlearn: 64317.2067194\ttotal: 292ms\tremaining: 241ms\n",
            "547:\tlearn: 64317.2067194\ttotal: 292ms\tremaining: 241ms\n",
            "548:\tlearn: 64317.2067194\ttotal: 292ms\tremaining: 240ms\n",
            "549:\tlearn: 64317.2067194\ttotal: 293ms\tremaining: 240ms\n",
            "550:\tlearn: 64317.2067194\ttotal: 293ms\tremaining: 239ms\n",
            "551:\tlearn: 64317.2067194\ttotal: 294ms\tremaining: 238ms\n",
            "552:\tlearn: 64317.2067194\ttotal: 294ms\tremaining: 238ms\n",
            "553:\tlearn: 64317.2067194\ttotal: 295ms\tremaining: 237ms\n",
            "554:\tlearn: 64317.2067194\ttotal: 296ms\tremaining: 237ms\n",
            "555:\tlearn: 64317.2067194\ttotal: 298ms\tremaining: 238ms\n",
            "556:\tlearn: 64317.2067194\ttotal: 298ms\tremaining: 237ms\n",
            "557:\tlearn: 64317.2067194\ttotal: 299ms\tremaining: 237ms\n",
            "558:\tlearn: 64317.2067194\ttotal: 299ms\tremaining: 236ms\n",
            "559:\tlearn: 64317.2067194\ttotal: 299ms\tremaining: 235ms\n",
            "560:\tlearn: 64317.2067194\ttotal: 301ms\tremaining: 236ms\n",
            "561:\tlearn: 64317.2067194\ttotal: 302ms\tremaining: 235ms\n",
            "562:\tlearn: 64317.2067194\ttotal: 302ms\tremaining: 234ms\n",
            "563:\tlearn: 64317.2067194\ttotal: 302ms\tremaining: 234ms\n",
            "564:\tlearn: 64317.2067194\ttotal: 303ms\tremaining: 233ms\n",
            "565:\tlearn: 64317.2067194\ttotal: 303ms\tremaining: 233ms\n",
            "566:\tlearn: 64317.2067194\ttotal: 304ms\tremaining: 232ms\n",
            "567:\tlearn: 64317.2067194\ttotal: 304ms\tremaining: 231ms\n",
            "568:\tlearn: 64317.2067194\ttotal: 305ms\tremaining: 231ms\n",
            "569:\tlearn: 64317.2067194\ttotal: 305ms\tremaining: 230ms\n",
            "570:\tlearn: 64317.2067194\ttotal: 305ms\tremaining: 229ms\n",
            "571:\tlearn: 64317.2067194\ttotal: 306ms\tremaining: 229ms\n",
            "572:\tlearn: 64317.2067194\ttotal: 306ms\tremaining: 228ms\n",
            "573:\tlearn: 64317.2067194\ttotal: 307ms\tremaining: 228ms\n",
            "574:\tlearn: 64317.2067194\ttotal: 307ms\tremaining: 227ms\n",
            "575:\tlearn: 64317.2067194\ttotal: 308ms\tremaining: 227ms\n",
            "576:\tlearn: 64317.2067194\ttotal: 308ms\tremaining: 226ms\n",
            "577:\tlearn: 64317.2067194\ttotal: 309ms\tremaining: 225ms\n",
            "578:\tlearn: 64317.2067194\ttotal: 309ms\tremaining: 225ms\n",
            "579:\tlearn: 64317.2067194\ttotal: 309ms\tremaining: 224ms\n",
            "580:\tlearn: 64317.2067194\ttotal: 310ms\tremaining: 223ms\n",
            "581:\tlearn: 64317.2067194\ttotal: 311ms\tremaining: 223ms\n",
            "582:\tlearn: 64317.2067194\ttotal: 313ms\tremaining: 224ms\n",
            "583:\tlearn: 64317.2067194\ttotal: 313ms\tremaining: 223ms\n",
            "584:\tlearn: 64317.2067194\ttotal: 314ms\tremaining: 223ms\n",
            "585:\tlearn: 64317.2067194\ttotal: 315ms\tremaining: 222ms\n",
            "586:\tlearn: 64317.2067194\ttotal: 315ms\tremaining: 222ms\n",
            "587:\tlearn: 64317.2067194\ttotal: 316ms\tremaining: 221ms\n",
            "588:\tlearn: 64317.2067194\ttotal: 316ms\tremaining: 220ms\n",
            "589:\tlearn: 64317.2067194\ttotal: 316ms\tremaining: 220ms\n",
            "590:\tlearn: 64317.2067194\ttotal: 317ms\tremaining: 220ms\n",
            "591:\tlearn: 64317.2067194\ttotal: 318ms\tremaining: 219ms\n",
            "592:\tlearn: 64317.2067194\ttotal: 318ms\tremaining: 218ms\n",
            "593:\tlearn: 64317.2067194\ttotal: 319ms\tremaining: 218ms\n",
            "594:\tlearn: 64317.2067194\ttotal: 319ms\tremaining: 217ms\n",
            "595:\tlearn: 64317.2067194\ttotal: 320ms\tremaining: 217ms\n",
            "596:\tlearn: 64317.2067194\ttotal: 320ms\tremaining: 216ms\n",
            "597:\tlearn: 64317.2067194\ttotal: 320ms\tremaining: 215ms\n",
            "598:\tlearn: 64317.2067194\ttotal: 321ms\tremaining: 215ms\n",
            "599:\tlearn: 64317.2067194\ttotal: 321ms\tremaining: 214ms\n",
            "600:\tlearn: 64317.2067194\ttotal: 322ms\tremaining: 214ms\n",
            "601:\tlearn: 64317.2067194\ttotal: 322ms\tremaining: 213ms\n",
            "602:\tlearn: 64317.2067194\ttotal: 323ms\tremaining: 212ms\n",
            "603:\tlearn: 64317.2067194\ttotal: 323ms\tremaining: 212ms\n",
            "604:\tlearn: 64317.2067194\ttotal: 323ms\tremaining: 211ms\n",
            "605:\tlearn: 64317.2067194\ttotal: 324ms\tremaining: 211ms\n",
            "606:\tlearn: 64317.2067194\ttotal: 324ms\tremaining: 210ms\n",
            "607:\tlearn: 64317.2067194\ttotal: 325ms\tremaining: 209ms\n",
            "608:\tlearn: 64317.2067194\ttotal: 325ms\tremaining: 209ms\n",
            "609:\tlearn: 64317.2067194\ttotal: 326ms\tremaining: 208ms\n",
            "610:\tlearn: 64317.2067194\ttotal: 326ms\tremaining: 208ms\n",
            "611:\tlearn: 64317.2067194\ttotal: 326ms\tremaining: 207ms\n",
            "612:\tlearn: 64317.2067194\ttotal: 327ms\tremaining: 206ms\n",
            "613:\tlearn: 64317.2067194\ttotal: 327ms\tremaining: 206ms\n",
            "614:\tlearn: 64317.2067194\ttotal: 328ms\tremaining: 205ms\n",
            "615:\tlearn: 64317.2067194\ttotal: 328ms\tremaining: 205ms\n",
            "616:\tlearn: 64317.2067194\ttotal: 329ms\tremaining: 204ms\n",
            "617:\tlearn: 64317.2067194\ttotal: 329ms\tremaining: 203ms\n",
            "618:\tlearn: 64317.2067194\ttotal: 329ms\tremaining: 203ms\n",
            "619:\tlearn: 64317.2067194\ttotal: 330ms\tremaining: 202ms\n",
            "620:\tlearn: 64317.2067194\ttotal: 330ms\tremaining: 202ms\n",
            "621:\tlearn: 64317.2067194\ttotal: 331ms\tremaining: 201ms\n",
            "622:\tlearn: 64317.2067194\ttotal: 331ms\tremaining: 200ms\n",
            "623:\tlearn: 64317.2067194\ttotal: 332ms\tremaining: 200ms\n",
            "624:\tlearn: 64317.2067194\ttotal: 332ms\tremaining: 199ms\n",
            "625:\tlearn: 64317.2067194\ttotal: 332ms\tremaining: 199ms\n",
            "626:\tlearn: 64317.2067194\ttotal: 333ms\tremaining: 198ms\n",
            "627:\tlearn: 64317.2067194\ttotal: 333ms\tremaining: 197ms\n",
            "628:\tlearn: 64317.2067194\ttotal: 334ms\tremaining: 197ms\n",
            "629:\tlearn: 64317.2067194\ttotal: 334ms\tremaining: 196ms\n",
            "630:\tlearn: 64317.2067194\ttotal: 335ms\tremaining: 196ms\n",
            "631:\tlearn: 64317.2067194\ttotal: 335ms\tremaining: 195ms\n",
            "632:\tlearn: 64317.2067194\ttotal: 335ms\tremaining: 194ms\n",
            "633:\tlearn: 64317.2067194\ttotal: 336ms\tremaining: 194ms\n",
            "634:\tlearn: 64317.2067194\ttotal: 337ms\tremaining: 194ms\n",
            "635:\tlearn: 64317.2067194\ttotal: 337ms\tremaining: 193ms\n",
            "636:\tlearn: 64317.2067194\ttotal: 337ms\tremaining: 192ms\n",
            "637:\tlearn: 64317.2067194\ttotal: 338ms\tremaining: 192ms\n",
            "638:\tlearn: 64317.2067194\ttotal: 339ms\tremaining: 191ms\n",
            "639:\tlearn: 64317.2067194\ttotal: 339ms\tremaining: 191ms\n",
            "640:\tlearn: 64317.2067194\ttotal: 340ms\tremaining: 190ms\n",
            "641:\tlearn: 64317.2067194\ttotal: 340ms\tremaining: 190ms\n",
            "642:\tlearn: 64317.2067194\ttotal: 341ms\tremaining: 189ms\n",
            "643:\tlearn: 64317.2067194\ttotal: 341ms\tremaining: 188ms\n",
            "644:\tlearn: 64317.2067194\ttotal: 341ms\tremaining: 188ms\n",
            "645:\tlearn: 64317.2067194\ttotal: 342ms\tremaining: 187ms\n",
            "646:\tlearn: 64317.2067194\ttotal: 342ms\tremaining: 187ms\n",
            "647:\tlearn: 64317.2067194\ttotal: 342ms\tremaining: 186ms\n",
            "648:\tlearn: 64317.2067194\ttotal: 343ms\tremaining: 185ms\n",
            "649:\tlearn: 64317.2067194\ttotal: 344ms\tremaining: 185ms\n",
            "650:\tlearn: 64317.2067194\ttotal: 345ms\tremaining: 185ms\n",
            "651:\tlearn: 64317.2067194\ttotal: 345ms\tremaining: 184ms\n",
            "652:\tlearn: 64317.2067194\ttotal: 345ms\tremaining: 184ms\n",
            "653:\tlearn: 64317.2067194\ttotal: 346ms\tremaining: 183ms\n",
            "654:\tlearn: 64317.2067194\ttotal: 346ms\tremaining: 182ms\n",
            "655:\tlearn: 64317.2067194\ttotal: 346ms\tremaining: 182ms\n",
            "656:\tlearn: 64317.2067194\ttotal: 347ms\tremaining: 181ms\n",
            "657:\tlearn: 64317.2067194\ttotal: 347ms\tremaining: 180ms\n",
            "658:\tlearn: 64317.2067194\ttotal: 347ms\tremaining: 180ms\n",
            "659:\tlearn: 64317.2067194\ttotal: 348ms\tremaining: 179ms\n",
            "660:\tlearn: 64317.2067194\ttotal: 348ms\tremaining: 178ms\n",
            "661:\tlearn: 64317.2067194\ttotal: 348ms\tremaining: 178ms\n",
            "662:\tlearn: 64317.2067194\ttotal: 349ms\tremaining: 177ms\n",
            "663:\tlearn: 64317.2067194\ttotal: 349ms\tremaining: 177ms\n",
            "664:\tlearn: 64317.2067194\ttotal: 354ms\tremaining: 178ms\n",
            "665:\tlearn: 64317.2067194\ttotal: 358ms\tremaining: 179ms\n",
            "666:\tlearn: 64317.2067194\ttotal: 358ms\tremaining: 179ms\n",
            "667:\tlearn: 64317.2067194\ttotal: 359ms\tremaining: 178ms\n",
            "668:\tlearn: 64317.2067194\ttotal: 359ms\tremaining: 178ms\n",
            "669:\tlearn: 64317.2067194\ttotal: 360ms\tremaining: 177ms\n",
            "670:\tlearn: 64317.2067194\ttotal: 360ms\tremaining: 177ms\n",
            "671:\tlearn: 64317.2067194\ttotal: 361ms\tremaining: 176ms\n",
            "672:\tlearn: 64317.2067194\ttotal: 361ms\tremaining: 175ms\n",
            "673:\tlearn: 64317.2067194\ttotal: 362ms\tremaining: 175ms\n",
            "674:\tlearn: 64317.2067194\ttotal: 362ms\tremaining: 174ms\n",
            "675:\tlearn: 64317.2067194\ttotal: 362ms\tremaining: 174ms\n",
            "676:\tlearn: 64317.2067194\ttotal: 363ms\tremaining: 173ms\n",
            "677:\tlearn: 64317.2067194\ttotal: 363ms\tremaining: 173ms\n",
            "678:\tlearn: 64317.2067194\ttotal: 364ms\tremaining: 172ms\n",
            "679:\tlearn: 64317.2067194\ttotal: 365ms\tremaining: 172ms\n",
            "680:\tlearn: 64317.2067194\ttotal: 365ms\tremaining: 171ms\n",
            "681:\tlearn: 64317.2067194\ttotal: 365ms\tremaining: 170ms\n",
            "682:\tlearn: 64317.2067194\ttotal: 366ms\tremaining: 170ms\n",
            "683:\tlearn: 64317.2067194\ttotal: 366ms\tremaining: 169ms\n",
            "684:\tlearn: 64317.2067194\ttotal: 367ms\tremaining: 169ms\n",
            "685:\tlearn: 64317.2067194\ttotal: 367ms\tremaining: 168ms\n",
            "686:\tlearn: 64317.2067194\ttotal: 368ms\tremaining: 167ms\n",
            "687:\tlearn: 64317.2067194\ttotal: 368ms\tremaining: 167ms\n",
            "688:\tlearn: 64317.2067194\ttotal: 368ms\tremaining: 166ms\n",
            "689:\tlearn: 64317.2067194\ttotal: 369ms\tremaining: 166ms\n",
            "690:\tlearn: 64317.2067194\ttotal: 369ms\tremaining: 165ms\n",
            "691:\tlearn: 64317.2067194\ttotal: 370ms\tremaining: 165ms\n",
            "692:\tlearn: 64317.2067194\ttotal: 370ms\tremaining: 164ms\n",
            "693:\tlearn: 64317.2067194\ttotal: 371ms\tremaining: 163ms\n",
            "694:\tlearn: 64317.2067194\ttotal: 371ms\tremaining: 163ms\n",
            "695:\tlearn: 64317.2067194\ttotal: 371ms\tremaining: 162ms\n",
            "696:\tlearn: 64317.2067194\ttotal: 372ms\tremaining: 162ms\n",
            "697:\tlearn: 64317.2067194\ttotal: 372ms\tremaining: 161ms\n",
            "698:\tlearn: 64317.2067194\ttotal: 373ms\tremaining: 160ms\n",
            "699:\tlearn: 64317.2067194\ttotal: 373ms\tremaining: 160ms\n",
            "700:\tlearn: 64317.2067194\ttotal: 373ms\tremaining: 159ms\n",
            "701:\tlearn: 64317.2067194\ttotal: 374ms\tremaining: 159ms\n",
            "702:\tlearn: 64317.2067194\ttotal: 374ms\tremaining: 158ms\n",
            "703:\tlearn: 64317.2067194\ttotal: 375ms\tremaining: 158ms\n",
            "704:\tlearn: 64317.2067194\ttotal: 375ms\tremaining: 157ms\n",
            "705:\tlearn: 64317.2067194\ttotal: 376ms\tremaining: 156ms\n",
            "706:\tlearn: 64317.2067194\ttotal: 376ms\tremaining: 156ms\n",
            "707:\tlearn: 64317.2067194\ttotal: 376ms\tremaining: 155ms\n",
            "708:\tlearn: 64317.2067194\ttotal: 377ms\tremaining: 155ms\n",
            "709:\tlearn: 64317.2067194\ttotal: 377ms\tremaining: 154ms\n",
            "710:\tlearn: 64317.2067194\ttotal: 378ms\tremaining: 153ms\n",
            "711:\tlearn: 64317.2067194\ttotal: 378ms\tremaining: 153ms\n",
            "712:\tlearn: 64317.2067194\ttotal: 378ms\tremaining: 152ms\n",
            "713:\tlearn: 64317.2067194\ttotal: 378ms\tremaining: 152ms\n",
            "714:\tlearn: 64317.2067194\ttotal: 379ms\tremaining: 151ms\n",
            "715:\tlearn: 64317.2067194\ttotal: 379ms\tremaining: 150ms\n",
            "716:\tlearn: 64317.2067194\ttotal: 379ms\tremaining: 150ms\n",
            "717:\tlearn: 64317.2067194\ttotal: 380ms\tremaining: 149ms\n",
            "718:\tlearn: 64317.2067194\ttotal: 380ms\tremaining: 148ms\n",
            "719:\tlearn: 64317.2067194\ttotal: 380ms\tremaining: 148ms\n",
            "720:\tlearn: 64317.2067194\ttotal: 380ms\tremaining: 147ms\n",
            "721:\tlearn: 64317.2067194\ttotal: 381ms\tremaining: 147ms\n",
            "722:\tlearn: 64317.2067194\ttotal: 381ms\tremaining: 146ms\n",
            "723:\tlearn: 64317.2067194\ttotal: 381ms\tremaining: 145ms\n",
            "724:\tlearn: 64317.2067194\ttotal: 382ms\tremaining: 145ms\n",
            "725:\tlearn: 64317.2067194\ttotal: 382ms\tremaining: 144ms\n",
            "726:\tlearn: 64317.2067194\ttotal: 387ms\tremaining: 145ms\n",
            "727:\tlearn: 64317.2067194\ttotal: 387ms\tremaining: 145ms\n",
            "728:\tlearn: 64317.2067194\ttotal: 388ms\tremaining: 144ms\n",
            "729:\tlearn: 64317.2067194\ttotal: 389ms\tremaining: 144ms\n",
            "730:\tlearn: 64317.2067194\ttotal: 389ms\tremaining: 143ms\n",
            "731:\tlearn: 64317.2067194\ttotal: 389ms\tremaining: 143ms\n",
            "732:\tlearn: 64317.2067194\ttotal: 390ms\tremaining: 142ms\n",
            "733:\tlearn: 64317.2067194\ttotal: 390ms\tremaining: 141ms\n",
            "734:\tlearn: 64317.2067194\ttotal: 390ms\tremaining: 141ms\n",
            "735:\tlearn: 64317.2067194\ttotal: 391ms\tremaining: 140ms\n",
            "736:\tlearn: 64317.2067194\ttotal: 391ms\tremaining: 139ms\n",
            "737:\tlearn: 64317.2067194\ttotal: 391ms\tremaining: 139ms\n",
            "738:\tlearn: 64317.2067194\ttotal: 391ms\tremaining: 138ms\n",
            "739:\tlearn: 64317.2067194\ttotal: 392ms\tremaining: 138ms\n",
            "740:\tlearn: 64317.2067194\ttotal: 392ms\tremaining: 137ms\n",
            "741:\tlearn: 64317.2067194\ttotal: 392ms\tremaining: 136ms\n",
            "742:\tlearn: 64317.2067194\ttotal: 393ms\tremaining: 136ms\n",
            "743:\tlearn: 64317.2067194\ttotal: 393ms\tremaining: 135ms\n",
            "744:\tlearn: 64317.2067194\ttotal: 393ms\tremaining: 135ms\n",
            "745:\tlearn: 64317.2067194\ttotal: 393ms\tremaining: 134ms\n",
            "746:\tlearn: 64317.2067194\ttotal: 394ms\tremaining: 133ms\n",
            "747:\tlearn: 64317.2067194\ttotal: 394ms\tremaining: 133ms\n",
            "748:\tlearn: 64317.2067194\ttotal: 394ms\tremaining: 132ms\n",
            "749:\tlearn: 64317.2067194\ttotal: 394ms\tremaining: 131ms\n",
            "750:\tlearn: 64317.2067194\ttotal: 398ms\tremaining: 132ms\n",
            "751:\tlearn: 64317.2067194\ttotal: 402ms\tremaining: 133ms\n",
            "752:\tlearn: 64317.2067194\ttotal: 403ms\tremaining: 132ms\n",
            "753:\tlearn: 64317.2067194\ttotal: 404ms\tremaining: 132ms\n",
            "754:\tlearn: 64317.2067194\ttotal: 404ms\tremaining: 131ms\n",
            "755:\tlearn: 64317.2067194\ttotal: 404ms\tremaining: 130ms\n",
            "756:\tlearn: 64317.2067194\ttotal: 404ms\tremaining: 130ms\n",
            "757:\tlearn: 64317.2067194\ttotal: 405ms\tremaining: 129ms\n",
            "758:\tlearn: 64317.2067194\ttotal: 406ms\tremaining: 129ms\n",
            "759:\tlearn: 64317.2067194\ttotal: 406ms\tremaining: 128ms\n",
            "760:\tlearn: 64317.2067194\ttotal: 407ms\tremaining: 128ms\n",
            "761:\tlearn: 64317.2067194\ttotal: 407ms\tremaining: 127ms\n",
            "762:\tlearn: 64317.2067194\ttotal: 408ms\tremaining: 127ms\n",
            "763:\tlearn: 64317.2067194\ttotal: 408ms\tremaining: 126ms\n",
            "764:\tlearn: 64317.2067194\ttotal: 408ms\tremaining: 125ms\n",
            "765:\tlearn: 64317.2067194\ttotal: 409ms\tremaining: 125ms\n",
            "766:\tlearn: 64317.2067194\ttotal: 409ms\tremaining: 124ms\n",
            "767:\tlearn: 64317.2067194\ttotal: 410ms\tremaining: 124ms\n",
            "768:\tlearn: 64317.2067194\ttotal: 410ms\tremaining: 123ms\n",
            "769:\tlearn: 64317.2067194\ttotal: 410ms\tremaining: 123ms\n",
            "770:\tlearn: 64317.2067194\ttotal: 411ms\tremaining: 122ms\n",
            "771:\tlearn: 64317.2067194\ttotal: 411ms\tremaining: 121ms\n",
            "772:\tlearn: 64317.2067194\ttotal: 412ms\tremaining: 121ms\n",
            "773:\tlearn: 64317.2067194\ttotal: 412ms\tremaining: 120ms\n",
            "774:\tlearn: 64317.2067194\ttotal: 412ms\tremaining: 120ms\n",
            "775:\tlearn: 64317.2067194\ttotal: 413ms\tremaining: 119ms\n",
            "776:\tlearn: 64317.2067194\ttotal: 413ms\tremaining: 119ms\n",
            "777:\tlearn: 64317.2067194\ttotal: 414ms\tremaining: 118ms\n",
            "778:\tlearn: 64317.2067194\ttotal: 414ms\tremaining: 117ms\n",
            "779:\tlearn: 64317.2067194\ttotal: 415ms\tremaining: 117ms\n",
            "780:\tlearn: 64317.2067194\ttotal: 415ms\tremaining: 116ms\n",
            "781:\tlearn: 64317.2067194\ttotal: 415ms\tremaining: 116ms\n",
            "782:\tlearn: 64317.2067194\ttotal: 416ms\tremaining: 115ms\n",
            "783:\tlearn: 64317.2067194\ttotal: 416ms\tremaining: 115ms\n",
            "784:\tlearn: 64317.2067194\ttotal: 417ms\tremaining: 114ms\n",
            "785:\tlearn: 64317.2067194\ttotal: 417ms\tremaining: 114ms\n",
            "786:\tlearn: 64317.2067194\ttotal: 418ms\tremaining: 113ms\n",
            "787:\tlearn: 64317.2067194\ttotal: 418ms\tremaining: 113ms\n",
            "788:\tlearn: 64317.2067194\ttotal: 419ms\tremaining: 112ms\n",
            "789:\tlearn: 64317.2067194\ttotal: 420ms\tremaining: 112ms\n",
            "790:\tlearn: 64317.2067194\ttotal: 421ms\tremaining: 111ms\n",
            "791:\tlearn: 64317.2067194\ttotal: 421ms\tremaining: 111ms\n",
            "792:\tlearn: 64317.2067194\ttotal: 422ms\tremaining: 110ms\n",
            "793:\tlearn: 64317.2067194\ttotal: 422ms\tremaining: 109ms\n",
            "794:\tlearn: 64317.2067194\ttotal: 423ms\tremaining: 109ms\n",
            "795:\tlearn: 64317.2067194\ttotal: 423ms\tremaining: 108ms\n",
            "796:\tlearn: 64317.2067194\ttotal: 424ms\tremaining: 108ms\n",
            "797:\tlearn: 64317.2067194\ttotal: 424ms\tremaining: 107ms\n",
            "798:\tlearn: 64317.2067194\ttotal: 425ms\tremaining: 107ms\n",
            "799:\tlearn: 64317.2067194\ttotal: 425ms\tremaining: 106ms\n",
            "800:\tlearn: 64317.2067194\ttotal: 425ms\tremaining: 106ms\n",
            "801:\tlearn: 64317.2067194\ttotal: 426ms\tremaining: 105ms\n",
            "802:\tlearn: 64317.2067194\ttotal: 426ms\tremaining: 105ms\n",
            "803:\tlearn: 64317.2067194\ttotal: 427ms\tremaining: 104ms\n",
            "804:\tlearn: 64317.2067194\ttotal: 427ms\tremaining: 103ms\n",
            "805:\tlearn: 64317.2067194\ttotal: 428ms\tremaining: 103ms\n",
            "806:\tlearn: 64317.2067194\ttotal: 428ms\tremaining: 102ms\n",
            "807:\tlearn: 64317.2067194\ttotal: 429ms\tremaining: 102ms\n",
            "808:\tlearn: 64317.2067194\ttotal: 429ms\tremaining: 101ms\n",
            "809:\tlearn: 64317.2067194\ttotal: 429ms\tremaining: 101ms\n",
            "810:\tlearn: 64317.2067194\ttotal: 430ms\tremaining: 100ms\n",
            "811:\tlearn: 64317.2067194\ttotal: 430ms\tremaining: 99.6ms\n",
            "812:\tlearn: 64317.2067194\ttotal: 431ms\tremaining: 99.1ms\n",
            "813:\tlearn: 64317.2067194\ttotal: 431ms\tremaining: 98.5ms\n",
            "814:\tlearn: 64317.2067194\ttotal: 432ms\tremaining: 98ms\n",
            "815:\tlearn: 64317.2067194\ttotal: 432ms\tremaining: 97.4ms\n",
            "816:\tlearn: 64317.2067194\ttotal: 432ms\tremaining: 96.9ms\n",
            "817:\tlearn: 64317.2067194\ttotal: 433ms\tremaining: 96.3ms\n",
            "818:\tlearn: 64317.2067194\ttotal: 433ms\tremaining: 95.7ms\n",
            "819:\tlearn: 64317.2067194\ttotal: 434ms\tremaining: 95.2ms\n",
            "820:\tlearn: 64317.2067194\ttotal: 434ms\tremaining: 94.6ms\n",
            "821:\tlearn: 64317.2067194\ttotal: 434ms\tremaining: 94.1ms\n",
            "822:\tlearn: 64317.2067194\ttotal: 435ms\tremaining: 93.5ms\n",
            "823:\tlearn: 64317.2067194\ttotal: 435ms\tremaining: 93ms\n",
            "824:\tlearn: 64317.2067194\ttotal: 436ms\tremaining: 92.4ms\n",
            "825:\tlearn: 64317.2067194\ttotal: 436ms\tremaining: 91.9ms\n",
            "826:\tlearn: 64317.2067194\ttotal: 437ms\tremaining: 91.3ms\n",
            "827:\tlearn: 64317.2067194\ttotal: 437ms\tremaining: 90.8ms\n",
            "828:\tlearn: 64317.2067194\ttotal: 437ms\tremaining: 90.2ms\n",
            "829:\tlearn: 64317.2067194\ttotal: 438ms\tremaining: 89.7ms\n",
            "830:\tlearn: 64317.2067194\ttotal: 438ms\tremaining: 89.1ms\n",
            "831:\tlearn: 64317.2067194\ttotal: 439ms\tremaining: 88.6ms\n",
            "832:\tlearn: 64317.2067194\ttotal: 439ms\tremaining: 88ms\n",
            "833:\tlearn: 64317.2067194\ttotal: 439ms\tremaining: 87.5ms\n",
            "834:\tlearn: 64317.2067194\ttotal: 440ms\tremaining: 86.9ms\n",
            "835:\tlearn: 64317.2067194\ttotal: 440ms\tremaining: 86.4ms\n",
            "836:\tlearn: 64317.2067194\ttotal: 441ms\tremaining: 85.8ms\n",
            "837:\tlearn: 64317.2067194\ttotal: 441ms\tremaining: 85.3ms\n",
            "838:\tlearn: 64317.2067194\ttotal: 442ms\tremaining: 84.7ms\n",
            "839:\tlearn: 64317.2067194\ttotal: 442ms\tremaining: 84.2ms\n",
            "840:\tlearn: 64317.2067194\ttotal: 442ms\tremaining: 83.6ms\n",
            "841:\tlearn: 64317.2067194\ttotal: 443ms\tremaining: 83.1ms\n",
            "842:\tlearn: 64317.2067194\ttotal: 443ms\tremaining: 82.5ms\n",
            "843:\tlearn: 64317.2067194\ttotal: 444ms\tremaining: 82ms\n",
            "844:\tlearn: 64317.2067194\ttotal: 444ms\tremaining: 81.5ms\n",
            "845:\tlearn: 64317.2067194\ttotal: 444ms\tremaining: 80.9ms\n",
            "846:\tlearn: 64317.2067194\ttotal: 445ms\tremaining: 80.4ms\n",
            "847:\tlearn: 64317.2067194\ttotal: 445ms\tremaining: 79.8ms\n",
            "848:\tlearn: 64317.2067194\ttotal: 446ms\tremaining: 79.3ms\n",
            "849:\tlearn: 64317.2067194\ttotal: 446ms\tremaining: 78.7ms\n",
            "850:\tlearn: 64317.2067194\ttotal: 446ms\tremaining: 78.2ms\n",
            "851:\tlearn: 64317.2067194\ttotal: 447ms\tremaining: 77.6ms\n",
            "852:\tlearn: 64317.2067194\ttotal: 447ms\tremaining: 77.1ms\n",
            "853:\tlearn: 64317.2067194\ttotal: 448ms\tremaining: 76.5ms\n",
            "854:\tlearn: 64317.2067194\ttotal: 448ms\tremaining: 76ms\n",
            "855:\tlearn: 64317.2067194\ttotal: 448ms\tremaining: 75.4ms\n",
            "856:\tlearn: 64317.2067194\ttotal: 449ms\tremaining: 74.9ms\n",
            "857:\tlearn: 64317.2067194\ttotal: 449ms\tremaining: 74.4ms\n",
            "858:\tlearn: 64317.2067194\ttotal: 450ms\tremaining: 73.8ms\n",
            "859:\tlearn: 64317.2067194\ttotal: 450ms\tremaining: 73.3ms\n",
            "860:\tlearn: 64317.2067194\ttotal: 451ms\tremaining: 72.7ms\n",
            "861:\tlearn: 64317.2067194\ttotal: 451ms\tremaining: 72.2ms\n",
            "862:\tlearn: 64317.2067194\ttotal: 451ms\tremaining: 71.7ms\n",
            "863:\tlearn: 64317.2067194\ttotal: 452ms\tremaining: 71.1ms\n",
            "864:\tlearn: 64317.2067194\ttotal: 452ms\tremaining: 70.6ms\n",
            "865:\tlearn: 64317.2067194\ttotal: 453ms\tremaining: 70.1ms\n",
            "866:\tlearn: 64317.2067194\ttotal: 453ms\tremaining: 69.5ms\n",
            "867:\tlearn: 64317.2067194\ttotal: 454ms\tremaining: 69ms\n",
            "868:\tlearn: 64317.2067194\ttotal: 454ms\tremaining: 68.4ms\n",
            "869:\tlearn: 64317.2067194\ttotal: 454ms\tremaining: 67.9ms\n",
            "870:\tlearn: 64317.2067194\ttotal: 455ms\tremaining: 67.4ms\n",
            "871:\tlearn: 64317.2067194\ttotal: 455ms\tremaining: 66.8ms\n",
            "872:\tlearn: 64317.2067194\ttotal: 456ms\tremaining: 66.3ms\n",
            "873:\tlearn: 64317.2067194\ttotal: 456ms\tremaining: 65.7ms\n",
            "874:\tlearn: 64317.2067194\ttotal: 456ms\tremaining: 65.2ms\n",
            "875:\tlearn: 64317.2067194\ttotal: 457ms\tremaining: 64.7ms\n",
            "876:\tlearn: 64317.2067194\ttotal: 457ms\tremaining: 64.1ms\n",
            "877:\tlearn: 64317.2067194\ttotal: 458ms\tremaining: 63.6ms\n",
            "878:\tlearn: 64317.2067194\ttotal: 458ms\tremaining: 63ms\n",
            "879:\tlearn: 64317.2067194\ttotal: 458ms\tremaining: 62.5ms\n",
            "880:\tlearn: 64317.2067194\ttotal: 459ms\tremaining: 62ms\n",
            "881:\tlearn: 64317.2067194\ttotal: 459ms\tremaining: 61.4ms\n",
            "882:\tlearn: 64317.2067194\ttotal: 460ms\tremaining: 60.9ms\n",
            "883:\tlearn: 64317.2067194\ttotal: 460ms\tremaining: 60.4ms\n",
            "884:\tlearn: 64317.2067194\ttotal: 460ms\tremaining: 59.8ms\n",
            "885:\tlearn: 64317.2067194\ttotal: 461ms\tremaining: 59.3ms\n",
            "886:\tlearn: 64317.2067194\ttotal: 461ms\tremaining: 58.8ms\n",
            "887:\tlearn: 64317.2067194\ttotal: 462ms\tremaining: 58.2ms\n",
            "888:\tlearn: 64317.2067194\ttotal: 462ms\tremaining: 57.7ms\n",
            "889:\tlearn: 64317.2067194\ttotal: 463ms\tremaining: 57.2ms\n",
            "890:\tlearn: 64317.2067194\ttotal: 463ms\tremaining: 56.6ms\n",
            "891:\tlearn: 64317.2067194\ttotal: 463ms\tremaining: 56.1ms\n",
            "892:\tlearn: 64317.2067194\ttotal: 464ms\tremaining: 55.6ms\n",
            "893:\tlearn: 64317.2067194\ttotal: 464ms\tremaining: 55ms\n",
            "894:\tlearn: 64317.2067194\ttotal: 465ms\tremaining: 54.5ms\n",
            "895:\tlearn: 64317.2067194\ttotal: 465ms\tremaining: 54ms\n",
            "896:\tlearn: 64317.2067194\ttotal: 465ms\tremaining: 53.4ms\n",
            "897:\tlearn: 64317.2067194\ttotal: 466ms\tremaining: 52.9ms\n",
            "898:\tlearn: 64317.2067194\ttotal: 466ms\tremaining: 52.4ms\n",
            "899:\tlearn: 64317.2067194\ttotal: 467ms\tremaining: 51.9ms\n",
            "900:\tlearn: 64317.2067194\ttotal: 467ms\tremaining: 51.3ms\n",
            "901:\tlearn: 64317.2067194\ttotal: 467ms\tremaining: 50.8ms\n",
            "902:\tlearn: 64317.2067194\ttotal: 468ms\tremaining: 50.3ms\n",
            "903:\tlearn: 64317.2067194\ttotal: 468ms\tremaining: 49.7ms\n",
            "904:\tlearn: 64317.2067194\ttotal: 469ms\tremaining: 49.2ms\n",
            "905:\tlearn: 64317.2067194\ttotal: 469ms\tremaining: 48.7ms\n",
            "906:\tlearn: 64317.2067194\ttotal: 469ms\tremaining: 48.1ms\n",
            "907:\tlearn: 64317.2067194\ttotal: 470ms\tremaining: 47.6ms\n",
            "908:\tlearn: 64317.2067194\ttotal: 470ms\tremaining: 47.1ms\n",
            "909:\tlearn: 64317.2067194\ttotal: 471ms\tremaining: 46.6ms\n",
            "910:\tlearn: 64317.2067194\ttotal: 471ms\tremaining: 46ms\n",
            "911:\tlearn: 64317.2067194\ttotal: 472ms\tremaining: 45.5ms\n",
            "912:\tlearn: 64317.2067194\ttotal: 472ms\tremaining: 45ms\n",
            "913:\tlearn: 64317.2067194\ttotal: 473ms\tremaining: 44.5ms\n",
            "914:\tlearn: 64317.2067194\ttotal: 474ms\tremaining: 44ms\n",
            "915:\tlearn: 64317.2067194\ttotal: 475ms\tremaining: 43.6ms\n",
            "916:\tlearn: 64317.2067194\ttotal: 475ms\tremaining: 43ms\n",
            "917:\tlearn: 64317.2067194\ttotal: 476ms\tremaining: 42.5ms\n",
            "918:\tlearn: 64317.2067194\ttotal: 476ms\tremaining: 42ms\n",
            "919:\tlearn: 64317.2067194\ttotal: 477ms\tremaining: 41.4ms\n",
            "920:\tlearn: 64317.2067194\ttotal: 477ms\tremaining: 40.9ms\n",
            "921:\tlearn: 64317.2067194\ttotal: 477ms\tremaining: 40.4ms\n",
            "922:\tlearn: 64317.2067194\ttotal: 478ms\tremaining: 39.8ms\n",
            "923:\tlearn: 64317.2067194\ttotal: 478ms\tremaining: 39.3ms\n",
            "924:\tlearn: 64317.2067194\ttotal: 478ms\tremaining: 38.8ms\n",
            "925:\tlearn: 64317.2067194\ttotal: 479ms\tremaining: 38.2ms\n",
            "926:\tlearn: 64317.2067194\ttotal: 479ms\tremaining: 37.7ms\n",
            "927:\tlearn: 64317.2067194\ttotal: 483ms\tremaining: 37.5ms\n",
            "928:\tlearn: 64317.2067194\ttotal: 483ms\tremaining: 37ms\n",
            "929:\tlearn: 64317.2067194\ttotal: 484ms\tremaining: 36.4ms\n",
            "930:\tlearn: 64317.2067194\ttotal: 484ms\tremaining: 35.9ms\n",
            "931:\tlearn: 64317.2067194\ttotal: 484ms\tremaining: 35.3ms\n",
            "932:\tlearn: 64317.2067194\ttotal: 485ms\tremaining: 34.8ms\n",
            "933:\tlearn: 64317.2067194\ttotal: 485ms\tremaining: 34.3ms\n",
            "934:\tlearn: 64317.2067194\ttotal: 485ms\tremaining: 33.7ms\n",
            "935:\tlearn: 64317.2067194\ttotal: 486ms\tremaining: 33.2ms\n",
            "936:\tlearn: 64317.2067194\ttotal: 486ms\tremaining: 32.7ms\n",
            "937:\tlearn: 64317.2067194\ttotal: 491ms\tremaining: 32.4ms\n",
            "938:\tlearn: 64317.2067194\ttotal: 491ms\tremaining: 31.9ms\n",
            "939:\tlearn: 64317.2067194\ttotal: 491ms\tremaining: 31.4ms\n",
            "940:\tlearn: 64317.2067194\ttotal: 493ms\tremaining: 30.9ms\n",
            "941:\tlearn: 64317.2067194\ttotal: 494ms\tremaining: 30.4ms\n",
            "942:\tlearn: 64317.2067194\ttotal: 494ms\tremaining: 29.9ms\n",
            "943:\tlearn: 64317.2067194\ttotal: 495ms\tremaining: 29.3ms\n",
            "944:\tlearn: 64317.2067194\ttotal: 495ms\tremaining: 28.8ms\n",
            "945:\tlearn: 64317.2067194\ttotal: 496ms\tremaining: 28.3ms\n",
            "946:\tlearn: 64317.2067194\ttotal: 496ms\tremaining: 27.8ms\n",
            "947:\tlearn: 64317.2067194\ttotal: 497ms\tremaining: 27.2ms\n",
            "948:\tlearn: 64317.2067194\ttotal: 497ms\tremaining: 26.7ms\n",
            "949:\tlearn: 64317.2067194\ttotal: 497ms\tremaining: 26.2ms\n",
            "950:\tlearn: 64317.2067194\ttotal: 498ms\tremaining: 25.6ms\n",
            "951:\tlearn: 64317.2067194\ttotal: 498ms\tremaining: 25.1ms\n",
            "952:\tlearn: 64317.2067194\ttotal: 498ms\tremaining: 24.6ms\n",
            "953:\tlearn: 64317.2067194\ttotal: 498ms\tremaining: 24ms\n",
            "954:\tlearn: 64317.2067194\ttotal: 499ms\tremaining: 23.5ms\n",
            "955:\tlearn: 64317.2067194\ttotal: 499ms\tremaining: 23ms\n",
            "956:\tlearn: 64317.2067194\ttotal: 501ms\tremaining: 22.5ms\n",
            "957:\tlearn: 64317.2067194\ttotal: 501ms\tremaining: 22ms\n",
            "958:\tlearn: 64317.2067194\ttotal: 502ms\tremaining: 21.4ms\n",
            "959:\tlearn: 64317.2067194\ttotal: 502ms\tremaining: 20.9ms\n",
            "960:\tlearn: 64317.2067194\ttotal: 502ms\tremaining: 20.4ms\n",
            "961:\tlearn: 64317.2067194\ttotal: 502ms\tremaining: 19.8ms\n",
            "962:\tlearn: 64317.2067194\ttotal: 503ms\tremaining: 19.3ms\n",
            "963:\tlearn: 64317.2067194\ttotal: 503ms\tremaining: 18.8ms\n",
            "964:\tlearn: 64317.2067194\ttotal: 503ms\tremaining: 18.3ms\n",
            "965:\tlearn: 64317.2067194\ttotal: 505ms\tremaining: 17.8ms\n",
            "966:\tlearn: 64317.2067194\ttotal: 506ms\tremaining: 17.3ms\n",
            "967:\tlearn: 64317.2067194\ttotal: 506ms\tremaining: 16.7ms\n",
            "968:\tlearn: 64317.2067194\ttotal: 506ms\tremaining: 16.2ms\n",
            "969:\tlearn: 64317.2067194\ttotal: 507ms\tremaining: 15.7ms\n",
            "970:\tlearn: 64317.2067194\ttotal: 507ms\tremaining: 15.1ms\n",
            "971:\tlearn: 64317.2067194\ttotal: 507ms\tremaining: 14.6ms\n",
            "972:\tlearn: 64317.2067194\ttotal: 508ms\tremaining: 14.1ms\n",
            "973:\tlearn: 64317.2067194\ttotal: 508ms\tremaining: 13.6ms\n",
            "974:\tlearn: 64317.2067194\ttotal: 510ms\tremaining: 13.1ms\n",
            "975:\tlearn: 64317.2067194\ttotal: 510ms\tremaining: 12.6ms\n",
            "976:\tlearn: 64317.2067194\ttotal: 511ms\tremaining: 12ms\n",
            "977:\tlearn: 64317.2067194\ttotal: 511ms\tremaining: 11.5ms\n",
            "978:\tlearn: 64317.2067194\ttotal: 511ms\tremaining: 11ms\n",
            "979:\tlearn: 64317.2067194\ttotal: 512ms\tremaining: 10.4ms\n",
            "980:\tlearn: 64317.2067194\ttotal: 512ms\tremaining: 9.91ms\n",
            "981:\tlearn: 64317.2067194\ttotal: 512ms\tremaining: 9.39ms\n",
            "982:\tlearn: 64317.2067194\ttotal: 512ms\tremaining: 8.86ms\n",
            "983:\tlearn: 64317.2067194\ttotal: 513ms\tremaining: 8.34ms\n",
            "984:\tlearn: 64317.2067194\ttotal: 513ms\tremaining: 7.81ms\n",
            "985:\tlearn: 64317.2067194\ttotal: 513ms\tremaining: 7.29ms\n",
            "986:\tlearn: 64317.2067194\ttotal: 515ms\tremaining: 6.79ms\n",
            "987:\tlearn: 64317.2067194\ttotal: 516ms\tremaining: 6.26ms\n",
            "988:\tlearn: 64317.2067194\ttotal: 516ms\tremaining: 5.74ms\n",
            "989:\tlearn: 64317.2067194\ttotal: 516ms\tremaining: 5.21ms\n",
            "990:\tlearn: 64317.2067194\ttotal: 517ms\tremaining: 4.69ms\n",
            "991:\tlearn: 64317.2067194\ttotal: 517ms\tremaining: 4.17ms\n",
            "992:\tlearn: 64317.2067194\ttotal: 517ms\tremaining: 3.64ms\n",
            "993:\tlearn: 64317.2067194\ttotal: 517ms\tremaining: 3.12ms\n",
            "994:\tlearn: 64317.2067194\ttotal: 518ms\tremaining: 2.6ms\n",
            "995:\tlearn: 64317.2067194\ttotal: 518ms\tremaining: 2.08ms\n",
            "996:\tlearn: 64317.2067194\ttotal: 521ms\tremaining: 1.57ms\n",
            "997:\tlearn: 64317.2067194\ttotal: 521ms\tremaining: 1.04ms\n",
            "998:\tlearn: 64317.2067194\ttotal: 522ms\tremaining: 522us\n",
            "999:\tlearn: 64317.2067194\ttotal: 522ms\tremaining: 0us\n",
            "MAPE: 0.771\n",
            "RMSE: 62433.34798150249\n"
          ]
        }
      ],
      "source": [
        "cat_boost = CatBoostRegressor(\n",
        "    random_seed=42,\n",
        "    logging_level='Verbose'\n",
        ")\n",
        "\n",
        "cat_boost.fit(Xtrain_num, ytrain, plot=True)\n",
        "\n",
        "print_metrics(ytest, cat_boost.predict(Xtest_num))"
      ]
    },
    {
      "cell_type": "markdown",
      "id": "1a6e41a8",
      "metadata": {
        "id": "1a6e41a8"
      },
      "source": [
        "`Ошибка стала меньше, но качество всё еще очень плохое.`"
      ]
    },
    {
      "cell_type": "markdown",
      "id": "17b76f89",
      "metadata": {
        "id": "17b76f89"
      },
      "source": [
        "## **Задание 9 (0.8 балла)**\n",
        "\n",
        "Теперь подключим категориальные признаки. Но попроубем разные стратегии предобработки.\n",
        "\n",
        "**1:**\n",
        "- Предобработайте категориальные признаки при помощи OHE\n",
        "- Постройте модель бустинга и линейную регрессию\n",
        "- Оцените качество обеих моделей\n",
        "\n",
        "**2:**\n",
        "- Предобработайте категориальные признаки при помощи LabelEncoding\n",
        "- Постройте модель бустинга и линейную регрессию\n",
        "- Оцените качество обеих моделей\n",
        "\n",
        "**3:**\n",
        "- Предобработайте категориальные признаки при помощи MeanTargetEnc\n",
        "- Постройте модель бустинга и линейную регрессию\n",
        "- Оцените качество обеих моделей\n",
        "\n",
        "Сделайте выводы по построениям 1-3. Выберите лучшую модель и дальше поработайте с ней."
      ]
    },
    {
      "cell_type": "code",
      "execution_count": 74,
      "id": "1909c8a9",
      "metadata": {
        "id": "1909c8a9"
      },
      "outputs": [],
      "source": [
        "categorical = X.select_dtypes(include='object').columns"
      ]
    },
    {
      "cell_type": "code",
      "execution_count": 75,
      "id": "jydpMYVO8GfK",
      "metadata": {
        "id": "jydpMYVO8GfK",
        "outputId": "8d4fe6f4-4216-426e-c2ab-f0be70bed3c4",
        "colab": {
          "base_uri": "https://localhost:8080/"
        }
      },
      "outputs": [
        {
          "output_type": "stream",
          "name": "stdout",
          "text": [
            "[LightGBM] [Info] Auto-choosing row-wise multi-threading, the overhead of testing was 0.000335 seconds.\n",
            "You can set `force_row_wise=true` to remove the overhead.\n",
            "And if memory is not enough, you can set `force_col_wise=true`.\n",
            "[LightGBM] [Info] Total Bins 82\n",
            "[LightGBM] [Info] Number of data points in the train set: 2067, number of used features: 39\n",
            "[LightGBM] [Info] Start training from score 133570.320271\n",
            "MAPE: 0.443\n",
            "RMSE: 53015.82085407753\n"
          ]
        }
      ],
      "source": [
        "ct_ohe = ColumnTransformer([\n",
        "    ('ohe', OneHotEncoder(drop='first', handle_unknown='ignore'), categorical)\n",
        "], remainder='passthrough')\n",
        "\n",
        "lgbm_ohe = Pipeline([\n",
        "    ('column_transformer', ct_ohe),\n",
        "    ('lgbm', LGBMRegressor(random_state=42))\n",
        "])\n",
        "\n",
        "lgbm_ohe.fit(Xtrain, ytrain)\n",
        "\n",
        "print_metrics(ytest, lgbm_ohe.predict(Xtest))"
      ]
    },
    {
      "cell_type": "code",
      "execution_count": 76,
      "id": "431b50da",
      "metadata": {
        "id": "431b50da",
        "outputId": "8473273e-89cc-4252-a7a7-b16708d3181a",
        "colab": {
          "base_uri": "https://localhost:8080/"
        }
      },
      "outputs": [
        {
          "output_type": "stream",
          "name": "stdout",
          "text": [
            "MAPE: 0.467\n",
            "RMSE: 53324.12270330814\n"
          ]
        }
      ],
      "source": [
        "lin_reg_ohe = Pipeline([\n",
        "    ('column_transformer', ct_ohe),\n",
        "    ('model', LinearRegression())\n",
        "])\n",
        "\n",
        "lin_reg_ohe.fit(Xtrain, ytrain)\n",
        "\n",
        "print_metrics(ytest, lin_reg_ohe.predict(Xtest))"
      ]
    },
    {
      "cell_type": "markdown",
      "id": "eaf37276",
      "metadata": {
        "id": "eaf37276"
      },
      "source": [
        "`В LabelEncoder из sklearn нет параметров, которые позволяли бы работать с неизвестными значениями, поэтому придется обучать кодировщик и на трейне и на тесте.`"
      ]
    },
    {
      "cell_type": "code",
      "execution_count": 77,
      "id": "758ef186",
      "metadata": {
        "id": "758ef186",
        "outputId": "4899d450-896c-4ced-8c13-b465446583be",
        "colab": {
          "base_uri": "https://localhost:8080/"
        }
      },
      "outputs": [
        {
          "output_type": "stream",
          "name": "stdout",
          "text": [
            "[LightGBM] [Info] Auto-choosing row-wise multi-threading, the overhead of testing was 0.000151 seconds.\n",
            "You can set `force_row_wise=true` to remove the overhead.\n",
            "And if memory is not enough, you can set `force_col_wise=true`.\n",
            "[LightGBM] [Info] Total Bins 177\n",
            "[LightGBM] [Info] Number of data points in the train set: 2067, number of used features: 8\n",
            "[LightGBM] [Info] Start training from score 133570.320271\n",
            "MAPE: 0.692\n",
            "RMSE: 96935.97293229477\n"
          ]
        }
      ],
      "source": [
        "def label_encoder(df, columns):\n",
        "    \"\"\"\n",
        "    Применяет LabelEncoder к столбцам columns датафрейма df.\n",
        "    \"\"\"\n",
        "    df_cp = df.copy()\n",
        "    for col in columns:\n",
        "        le = LabelEncoder()\n",
        "        le.fit(df_cp[col])\n",
        "        df_cp[col] = le.transform(df_cp[col])\n",
        "    return df_cp\n",
        "\n",
        "lgbm_label = LGBMRegressor(random_state=42)\n",
        "\n",
        "lgbm_label.fit(label_encoder(Xtrain, categorical), ytrain)\n",
        "\n",
        "print_metrics(ytest, lgbm_label.predict(label_encoder(Xtest, categorical)))"
      ]
    },
    {
      "cell_type": "code",
      "execution_count": 78,
      "id": "a3cc26c1",
      "metadata": {
        "id": "a3cc26c1",
        "outputId": "e0d63b0c-b194-4ebb-ed70-011842fde8ea",
        "colab": {
          "base_uri": "https://localhost:8080/"
        }
      },
      "outputs": [
        {
          "output_type": "stream",
          "name": "stdout",
          "text": [
            "MAPE: 0.47\n",
            "RMSE: 77097.0492963484\n"
          ]
        }
      ],
      "source": [
        "lin_reg_label = LinearRegression()\n",
        "\n",
        "lin_reg_label.fit(label_encoder(Xtrain, categorical), ytrain)\n",
        "\n",
        "print_metrics(ytest, lin_reg_label.predict(label_encoder(Xtest, categorical)))"
      ]
    },
    {
      "cell_type": "code",
      "execution_count": 79,
      "id": "7c917586",
      "metadata": {
        "id": "7c917586",
        "outputId": "68ed7351-c006-43a2-88d4-f3667ef28306",
        "colab": {
          "base_uri": "https://localhost:8080/"
        }
      },
      "outputs": [
        {
          "output_type": "stream",
          "name": "stdout",
          "text": [
            "[LightGBM] [Info] Auto-choosing row-wise multi-threading, the overhead of testing was 0.077909 seconds.\n",
            "You can set `force_row_wise=true` to remove the overhead.\n",
            "And if memory is not enough, you can set `force_col_wise=true`.\n",
            "[LightGBM] [Info] Total Bins 42359\n",
            "[LightGBM] [Info] Number of data points in the train set: 2067, number of used features: 6163\n",
            "[LightGBM] [Info] Start training from score 133570.320271\n",
            "MAPE: 0.404\n",
            "RMSE: 51849.126513271745\n"
          ]
        }
      ],
      "source": [
        "ct_te = ColumnTransformer([\n",
        "    ('target_encoder', TargetEncoder(random_state=42), categorical)\n",
        "], remainder='passthrough')\n",
        "\n",
        "lgbm_te = Pipeline([\n",
        "    ('column_transformer', ct_te),\n",
        "    ('model', LGBMRegressor(random_state=42))\n",
        "])\n",
        "\n",
        "lgbm_te.fit(Xtrain, ytrain)\n",
        "\n",
        "print_metrics(ytest, lgbm_te.predict(Xtest))"
      ]
    },
    {
      "cell_type": "code",
      "execution_count": 80,
      "id": "f6297ea9",
      "metadata": {
        "id": "f6297ea9",
        "outputId": "aaea9feb-8cc9-44e8-b2cf-48a060b324c4",
        "colab": {
          "base_uri": "https://localhost:8080/"
        }
      },
      "outputs": [
        {
          "output_type": "stream",
          "name": "stdout",
          "text": [
            "MAPE: 4.11\n",
            "RMSE: 1947706.8236224828\n"
          ]
        }
      ],
      "source": [
        "lin_reg_te = Pipeline([\n",
        "    ('column_transformer', ct_te),\n",
        "    ('model', LinearRegression())\n",
        "])\n",
        "\n",
        "lin_reg_te.fit(Xtrain, ytrain)\n",
        "\n",
        "print_metrics(ytest, lin_reg_te.predict(Xtest))"
      ]
    },
    {
      "cell_type": "markdown",
      "id": "3b9328ba",
      "metadata": {
        "id": "3b9328ba"
      },
      "source": [
        "| model \\ metric       | MAPE | RMSE    |\n",
        "|----------------------|------|---------|\n",
        "| Ohe + lgbm           | 0.44 | 53016   |\n",
        "| Ohe + lin-reg        | 0.47 | 53324   |\n",
        "| Label-enc + lgbm     | 0.69 | 96936   |\n",
        "| Label-enc + lin-reg  | 0.47 | 77097   |\n",
        "| Target-enc + lgbm    | 0.40 | 51849   |\n",
        "| Target-enc + lin-reg | 4.11 | 1947706 |"
      ]
    },
    {
      "cell_type": "markdown",
      "id": "a78a2467",
      "metadata": {
        "id": "a78a2467"
      },
      "source": [
        "`В двух из трех случаев линейная регрессия показала достаточно хороший результат в сравнении с LightGBM: при кодировке OneHotEncoder результат чуть хуже, а для LabelEncoder даже лучше, причем значительно. Это может говорить о том, что возможно таргет неплохо объясняется линейной моделью. В случае TargetEncoder линейная регрессия имеет огромную ошибку, это возможно связано с численными проблемами при вычислении моделью LinearRegression.`\n",
        "\n",
        "`На данном примере хорошо видно, проблему ассимитричности метрики MAPE и её смещенность в сторону больших значений. Линейная регрессия обученная на кодировке OneHotEncoding и Label-encoding имееет одинаковое качество по метрике MAPE, при этом RMSE имеет сильное различие в значениях. При этом в случае обучения LightGBM на тех же кадировках сильное различие в значениях имееют обе метрики.`\n",
        "\n",
        "`Наихудшие качество на обоих моделях показала кадировка Label-encoding. Это связано с тем, что при кодировании категорий по порядку категориальный признак становится ординальным, поэтому изначальные зависимости в данных могут исказиться при обучении модели. Также на это может влиять обучение водировщика на трейне и тесте в отдельности.`\n",
        "\n",
        "`Наилучшее качество на всех метриках показала модель LightGBM, с кадировкой категориальных признаков методов TargetEncoder.`"
      ]
    },
    {
      "cell_type": "markdown",
      "id": "119b89f1",
      "metadata": {
        "id": "119b89f1"
      },
      "source": [
        "## **Задание 10 (0.5 балла)**\n",
        "\n",
        "Покажите, где ошибается ваша модель. Выведите топ 20 примеров с наибольшей ошибкой. Проанализируйте их. Какие выводы можно сделать? Что стоит изменить в данных чтобы улучшить качество модели?"
      ]
    },
    {
      "cell_type": "code",
      "execution_count": 81,
      "id": "f8458657",
      "metadata": {
        "id": "f8458657"
      },
      "outputs": [],
      "source": [
        "model = lgbm_te"
      ]
    },
    {
      "cell_type": "code",
      "execution_count": 82,
      "id": "516bd7fa",
      "metadata": {
        "id": "516bd7fa",
        "outputId": "477e9d2e-8376-413f-85a5-9197e9533c4d",
        "colab": {
          "base_uri": "https://localhost:8080/",
          "height": 677
        }
      },
      "outputs": [
        {
          "output_type": "execute_result",
          "data": {
            "text/plain": [
              "      work_year experience_level employment_type  \\\n",
              "528        2023               SE              FT   \n",
              "3747       2021               MI              FT   \n",
              "3522       2020               MI              FT   \n",
              "3750       2020               SE              FT   \n",
              "3463       2022               SE              FT   \n",
              "1105       2023               SE              FT   \n",
              "649        2023               SE              FT   \n",
              "2374       2022               SE              FT   \n",
              "2359       2022               SE              FT   \n",
              "83         2022               EN              FT   \n",
              "1258       2022               SE              FT   \n",
              "133        2023               SE              FT   \n",
              "1311       2023               SE              FT   \n",
              "845        2023               MI              FT   \n",
              "2555       2022               SE              FT   \n",
              "1116       2023               SE              FT   \n",
              "1722       2023               SE              FT   \n",
              "3468       2022               SE              FT   \n",
              "488        2023               SE              FT   \n",
              "2162       2022               SE              FT   \n",
              "\n",
              "                               job_title salary_currency  salary_in_usd  \\\n",
              "528                         AI Scientist             ILS         423834   \n",
              "3747  Applied Machine Learning Scientist             USD         423000   \n",
              "3522                  Research Scientist             USD         450000   \n",
              "3750                      Data Scientist             USD         412000   \n",
              "3463                 Data Analytics Lead             USD         405000   \n",
              "1105                      Data Scientist             USD         370000   \n",
              "649                       Data Architect             USD         376080   \n",
              "2374                      Data Scientist             USD         350000   \n",
              "2359              Data Science Tech Lead             USD         375000   \n",
              "83                          AI Developer             USD         300000   \n",
              "1258  Machine Learning Software Engineer             USD         375000   \n",
              "133            Machine Learning Engineer             USD         342300   \n",
              "1311                  Research Scientist             USD         370000   \n",
              "845                   Research Scientist             USD         340000   \n",
              "2555                      Data Architect             USD         345600   \n",
              "1116           Machine Learning Engineer             USD         323300   \n",
              "1722                       Data Engineer             USD         310000   \n",
              "3468              Applied Data Scientist             USD         380000   \n",
              "488                       Data Scientist             USD         317070   \n",
              "2162                       Data Engineer             USD         300000   \n",
              "\n",
              "     employee_residence  remote_ratio company_location company_size  \n",
              "528                  IL             0               IL            L  \n",
              "3747                 US            50               US            L  \n",
              "3522                 US             0               US            M  \n",
              "3750                 US           100               US            L  \n",
              "3463                 US           100               US            L  \n",
              "1105                 US             0               US            M  \n",
              "649                  US           100               US            M  \n",
              "2374                 US           100               US            M  \n",
              "2359                 US            50               US            L  \n",
              "83                   IN            50               IN            L  \n",
              "1258                 US           100               US            M  \n",
              "133                  US             0               US            L  \n",
              "1311                 US             0               US            M  \n",
              "845                  US           100               US            M  \n",
              "2555                 US             0               US            M  \n",
              "1116                 US             0               US            M  \n",
              "1722                 US             0               US            M  \n",
              "3468                 US           100               US            L  \n",
              "488                  US             0               US            M  \n",
              "2162                 US             0               US            M  "
            ],
            "text/html": [
              "\n",
              "  <div id=\"df-386c9454-fc5a-4cb9-b853-c168af338fc1\" class=\"colab-df-container\">\n",
              "    <div>\n",
              "<style scoped>\n",
              "    .dataframe tbody tr th:only-of-type {\n",
              "        vertical-align: middle;\n",
              "    }\n",
              "\n",
              "    .dataframe tbody tr th {\n",
              "        vertical-align: top;\n",
              "    }\n",
              "\n",
              "    .dataframe thead th {\n",
              "        text-align: right;\n",
              "    }\n",
              "</style>\n",
              "<table border=\"1\" class=\"dataframe\">\n",
              "  <thead>\n",
              "    <tr style=\"text-align: right;\">\n",
              "      <th></th>\n",
              "      <th>work_year</th>\n",
              "      <th>experience_level</th>\n",
              "      <th>employment_type</th>\n",
              "      <th>job_title</th>\n",
              "      <th>salary_currency</th>\n",
              "      <th>salary_in_usd</th>\n",
              "      <th>employee_residence</th>\n",
              "      <th>remote_ratio</th>\n",
              "      <th>company_location</th>\n",
              "      <th>company_size</th>\n",
              "    </tr>\n",
              "  </thead>\n",
              "  <tbody>\n",
              "    <tr>\n",
              "      <th>528</th>\n",
              "      <td>2023</td>\n",
              "      <td>SE</td>\n",
              "      <td>FT</td>\n",
              "      <td>AI Scientist</td>\n",
              "      <td>ILS</td>\n",
              "      <td>423834</td>\n",
              "      <td>IL</td>\n",
              "      <td>0</td>\n",
              "      <td>IL</td>\n",
              "      <td>L</td>\n",
              "    </tr>\n",
              "    <tr>\n",
              "      <th>3747</th>\n",
              "      <td>2021</td>\n",
              "      <td>MI</td>\n",
              "      <td>FT</td>\n",
              "      <td>Applied Machine Learning Scientist</td>\n",
              "      <td>USD</td>\n",
              "      <td>423000</td>\n",
              "      <td>US</td>\n",
              "      <td>50</td>\n",
              "      <td>US</td>\n",
              "      <td>L</td>\n",
              "    </tr>\n",
              "    <tr>\n",
              "      <th>3522</th>\n",
              "      <td>2020</td>\n",
              "      <td>MI</td>\n",
              "      <td>FT</td>\n",
              "      <td>Research Scientist</td>\n",
              "      <td>USD</td>\n",
              "      <td>450000</td>\n",
              "      <td>US</td>\n",
              "      <td>0</td>\n",
              "      <td>US</td>\n",
              "      <td>M</td>\n",
              "    </tr>\n",
              "    <tr>\n",
              "      <th>3750</th>\n",
              "      <td>2020</td>\n",
              "      <td>SE</td>\n",
              "      <td>FT</td>\n",
              "      <td>Data Scientist</td>\n",
              "      <td>USD</td>\n",
              "      <td>412000</td>\n",
              "      <td>US</td>\n",
              "      <td>100</td>\n",
              "      <td>US</td>\n",
              "      <td>L</td>\n",
              "    </tr>\n",
              "    <tr>\n",
              "      <th>3463</th>\n",
              "      <td>2022</td>\n",
              "      <td>SE</td>\n",
              "      <td>FT</td>\n",
              "      <td>Data Analytics Lead</td>\n",
              "      <td>USD</td>\n",
              "      <td>405000</td>\n",
              "      <td>US</td>\n",
              "      <td>100</td>\n",
              "      <td>US</td>\n",
              "      <td>L</td>\n",
              "    </tr>\n",
              "    <tr>\n",
              "      <th>1105</th>\n",
              "      <td>2023</td>\n",
              "      <td>SE</td>\n",
              "      <td>FT</td>\n",
              "      <td>Data Scientist</td>\n",
              "      <td>USD</td>\n",
              "      <td>370000</td>\n",
              "      <td>US</td>\n",
              "      <td>0</td>\n",
              "      <td>US</td>\n",
              "      <td>M</td>\n",
              "    </tr>\n",
              "    <tr>\n",
              "      <th>649</th>\n",
              "      <td>2023</td>\n",
              "      <td>SE</td>\n",
              "      <td>FT</td>\n",
              "      <td>Data Architect</td>\n",
              "      <td>USD</td>\n",
              "      <td>376080</td>\n",
              "      <td>US</td>\n",
              "      <td>100</td>\n",
              "      <td>US</td>\n",
              "      <td>M</td>\n",
              "    </tr>\n",
              "    <tr>\n",
              "      <th>2374</th>\n",
              "      <td>2022</td>\n",
              "      <td>SE</td>\n",
              "      <td>FT</td>\n",
              "      <td>Data Scientist</td>\n",
              "      <td>USD</td>\n",
              "      <td>350000</td>\n",
              "      <td>US</td>\n",
              "      <td>100</td>\n",
              "      <td>US</td>\n",
              "      <td>M</td>\n",
              "    </tr>\n",
              "    <tr>\n",
              "      <th>2359</th>\n",
              "      <td>2022</td>\n",
              "      <td>SE</td>\n",
              "      <td>FT</td>\n",
              "      <td>Data Science Tech Lead</td>\n",
              "      <td>USD</td>\n",
              "      <td>375000</td>\n",
              "      <td>US</td>\n",
              "      <td>50</td>\n",
              "      <td>US</td>\n",
              "      <td>L</td>\n",
              "    </tr>\n",
              "    <tr>\n",
              "      <th>83</th>\n",
              "      <td>2022</td>\n",
              "      <td>EN</td>\n",
              "      <td>FT</td>\n",
              "      <td>AI Developer</td>\n",
              "      <td>USD</td>\n",
              "      <td>300000</td>\n",
              "      <td>IN</td>\n",
              "      <td>50</td>\n",
              "      <td>IN</td>\n",
              "      <td>L</td>\n",
              "    </tr>\n",
              "    <tr>\n",
              "      <th>1258</th>\n",
              "      <td>2022</td>\n",
              "      <td>SE</td>\n",
              "      <td>FT</td>\n",
              "      <td>Machine Learning Software Engineer</td>\n",
              "      <td>USD</td>\n",
              "      <td>375000</td>\n",
              "      <td>US</td>\n",
              "      <td>100</td>\n",
              "      <td>US</td>\n",
              "      <td>M</td>\n",
              "    </tr>\n",
              "    <tr>\n",
              "      <th>133</th>\n",
              "      <td>2023</td>\n",
              "      <td>SE</td>\n",
              "      <td>FT</td>\n",
              "      <td>Machine Learning Engineer</td>\n",
              "      <td>USD</td>\n",
              "      <td>342300</td>\n",
              "      <td>US</td>\n",
              "      <td>0</td>\n",
              "      <td>US</td>\n",
              "      <td>L</td>\n",
              "    </tr>\n",
              "    <tr>\n",
              "      <th>1311</th>\n",
              "      <td>2023</td>\n",
              "      <td>SE</td>\n",
              "      <td>FT</td>\n",
              "      <td>Research Scientist</td>\n",
              "      <td>USD</td>\n",
              "      <td>370000</td>\n",
              "      <td>US</td>\n",
              "      <td>0</td>\n",
              "      <td>US</td>\n",
              "      <td>M</td>\n",
              "    </tr>\n",
              "    <tr>\n",
              "      <th>845</th>\n",
              "      <td>2023</td>\n",
              "      <td>MI</td>\n",
              "      <td>FT</td>\n",
              "      <td>Research Scientist</td>\n",
              "      <td>USD</td>\n",
              "      <td>340000</td>\n",
              "      <td>US</td>\n",
              "      <td>100</td>\n",
              "      <td>US</td>\n",
              "      <td>M</td>\n",
              "    </tr>\n",
              "    <tr>\n",
              "      <th>2555</th>\n",
              "      <td>2022</td>\n",
              "      <td>SE</td>\n",
              "      <td>FT</td>\n",
              "      <td>Data Architect</td>\n",
              "      <td>USD</td>\n",
              "      <td>345600</td>\n",
              "      <td>US</td>\n",
              "      <td>0</td>\n",
              "      <td>US</td>\n",
              "      <td>M</td>\n",
              "    </tr>\n",
              "    <tr>\n",
              "      <th>1116</th>\n",
              "      <td>2023</td>\n",
              "      <td>SE</td>\n",
              "      <td>FT</td>\n",
              "      <td>Machine Learning Engineer</td>\n",
              "      <td>USD</td>\n",
              "      <td>323300</td>\n",
              "      <td>US</td>\n",
              "      <td>0</td>\n",
              "      <td>US</td>\n",
              "      <td>M</td>\n",
              "    </tr>\n",
              "    <tr>\n",
              "      <th>1722</th>\n",
              "      <td>2023</td>\n",
              "      <td>SE</td>\n",
              "      <td>FT</td>\n",
              "      <td>Data Engineer</td>\n",
              "      <td>USD</td>\n",
              "      <td>310000</td>\n",
              "      <td>US</td>\n",
              "      <td>0</td>\n",
              "      <td>US</td>\n",
              "      <td>M</td>\n",
              "    </tr>\n",
              "    <tr>\n",
              "      <th>3468</th>\n",
              "      <td>2022</td>\n",
              "      <td>SE</td>\n",
              "      <td>FT</td>\n",
              "      <td>Applied Data Scientist</td>\n",
              "      <td>USD</td>\n",
              "      <td>380000</td>\n",
              "      <td>US</td>\n",
              "      <td>100</td>\n",
              "      <td>US</td>\n",
              "      <td>L</td>\n",
              "    </tr>\n",
              "    <tr>\n",
              "      <th>488</th>\n",
              "      <td>2023</td>\n",
              "      <td>SE</td>\n",
              "      <td>FT</td>\n",
              "      <td>Data Scientist</td>\n",
              "      <td>USD</td>\n",
              "      <td>317070</td>\n",
              "      <td>US</td>\n",
              "      <td>0</td>\n",
              "      <td>US</td>\n",
              "      <td>M</td>\n",
              "    </tr>\n",
              "    <tr>\n",
              "      <th>2162</th>\n",
              "      <td>2022</td>\n",
              "      <td>SE</td>\n",
              "      <td>FT</td>\n",
              "      <td>Data Engineer</td>\n",
              "      <td>USD</td>\n",
              "      <td>300000</td>\n",
              "      <td>US</td>\n",
              "      <td>0</td>\n",
              "      <td>US</td>\n",
              "      <td>M</td>\n",
              "    </tr>\n",
              "  </tbody>\n",
              "</table>\n",
              "</div>\n",
              "    <div class=\"colab-df-buttons\">\n",
              "\n",
              "  <div class=\"colab-df-container\">\n",
              "    <button class=\"colab-df-convert\" onclick=\"convertToInteractive('df-386c9454-fc5a-4cb9-b853-c168af338fc1')\"\n",
              "            title=\"Convert this dataframe to an interactive table.\"\n",
              "            style=\"display:none;\">\n",
              "\n",
              "  <svg xmlns=\"http://www.w3.org/2000/svg\" height=\"24px\" viewBox=\"0 -960 960 960\">\n",
              "    <path d=\"M120-120v-720h720v720H120Zm60-500h600v-160H180v160Zm220 220h160v-160H400v160Zm0 220h160v-160H400v160ZM180-400h160v-160H180v160Zm440 0h160v-160H620v160ZM180-180h160v-160H180v160Zm440 0h160v-160H620v160Z\"/>\n",
              "  </svg>\n",
              "    </button>\n",
              "\n",
              "  <style>\n",
              "    .colab-df-container {\n",
              "      display:flex;\n",
              "      gap: 12px;\n",
              "    }\n",
              "\n",
              "    .colab-df-convert {\n",
              "      background-color: #E8F0FE;\n",
              "      border: none;\n",
              "      border-radius: 50%;\n",
              "      cursor: pointer;\n",
              "      display: none;\n",
              "      fill: #1967D2;\n",
              "      height: 32px;\n",
              "      padding: 0 0 0 0;\n",
              "      width: 32px;\n",
              "    }\n",
              "\n",
              "    .colab-df-convert:hover {\n",
              "      background-color: #E2EBFA;\n",
              "      box-shadow: 0px 1px 2px rgba(60, 64, 67, 0.3), 0px 1px 3px 1px rgba(60, 64, 67, 0.15);\n",
              "      fill: #174EA6;\n",
              "    }\n",
              "\n",
              "    .colab-df-buttons div {\n",
              "      margin-bottom: 4px;\n",
              "    }\n",
              "\n",
              "    [theme=dark] .colab-df-convert {\n",
              "      background-color: #3B4455;\n",
              "      fill: #D2E3FC;\n",
              "    }\n",
              "\n",
              "    [theme=dark] .colab-df-convert:hover {\n",
              "      background-color: #434B5C;\n",
              "      box-shadow: 0px 1px 3px 1px rgba(0, 0, 0, 0.15);\n",
              "      filter: drop-shadow(0px 1px 2px rgba(0, 0, 0, 0.3));\n",
              "      fill: #FFFFFF;\n",
              "    }\n",
              "  </style>\n",
              "\n",
              "    <script>\n",
              "      const buttonEl =\n",
              "        document.querySelector('#df-386c9454-fc5a-4cb9-b853-c168af338fc1 button.colab-df-convert');\n",
              "      buttonEl.style.display =\n",
              "        google.colab.kernel.accessAllowed ? 'block' : 'none';\n",
              "\n",
              "      async function convertToInteractive(key) {\n",
              "        const element = document.querySelector('#df-386c9454-fc5a-4cb9-b853-c168af338fc1');\n",
              "        const dataTable =\n",
              "          await google.colab.kernel.invokeFunction('convertToInteractive',\n",
              "                                                    [key], {});\n",
              "        if (!dataTable) return;\n",
              "\n",
              "        const docLinkHtml = 'Like what you see? Visit the ' +\n",
              "          '<a target=\"_blank\" href=https://colab.research.google.com/notebooks/data_table.ipynb>data table notebook</a>'\n",
              "          + ' to learn more about interactive tables.';\n",
              "        element.innerHTML = '';\n",
              "        dataTable['output_type'] = 'display_data';\n",
              "        await google.colab.output.renderOutput(dataTable, element);\n",
              "        const docLink = document.createElement('div');\n",
              "        docLink.innerHTML = docLinkHtml;\n",
              "        element.appendChild(docLink);\n",
              "      }\n",
              "    </script>\n",
              "  </div>\n",
              "\n",
              "\n",
              "<div id=\"df-0266353b-f6c0-474e-9673-d36ec70d0d05\">\n",
              "  <button class=\"colab-df-quickchart\" onclick=\"quickchart('df-0266353b-f6c0-474e-9673-d36ec70d0d05')\"\n",
              "            title=\"Suggest charts\"\n",
              "            style=\"display:none;\">\n",
              "\n",
              "<svg xmlns=\"http://www.w3.org/2000/svg\" height=\"24px\"viewBox=\"0 0 24 24\"\n",
              "     width=\"24px\">\n",
              "    <g>\n",
              "        <path d=\"M19 3H5c-1.1 0-2 .9-2 2v14c0 1.1.9 2 2 2h14c1.1 0 2-.9 2-2V5c0-1.1-.9-2-2-2zM9 17H7v-7h2v7zm4 0h-2V7h2v10zm4 0h-2v-4h2v4z\"/>\n",
              "    </g>\n",
              "</svg>\n",
              "  </button>\n",
              "\n",
              "<style>\n",
              "  .colab-df-quickchart {\n",
              "      --bg-color: #E8F0FE;\n",
              "      --fill-color: #1967D2;\n",
              "      --hover-bg-color: #E2EBFA;\n",
              "      --hover-fill-color: #174EA6;\n",
              "      --disabled-fill-color: #AAA;\n",
              "      --disabled-bg-color: #DDD;\n",
              "  }\n",
              "\n",
              "  [theme=dark] .colab-df-quickchart {\n",
              "      --bg-color: #3B4455;\n",
              "      --fill-color: #D2E3FC;\n",
              "      --hover-bg-color: #434B5C;\n",
              "      --hover-fill-color: #FFFFFF;\n",
              "      --disabled-bg-color: #3B4455;\n",
              "      --disabled-fill-color: #666;\n",
              "  }\n",
              "\n",
              "  .colab-df-quickchart {\n",
              "    background-color: var(--bg-color);\n",
              "    border: none;\n",
              "    border-radius: 50%;\n",
              "    cursor: pointer;\n",
              "    display: none;\n",
              "    fill: var(--fill-color);\n",
              "    height: 32px;\n",
              "    padding: 0;\n",
              "    width: 32px;\n",
              "  }\n",
              "\n",
              "  .colab-df-quickchart:hover {\n",
              "    background-color: var(--hover-bg-color);\n",
              "    box-shadow: 0 1px 2px rgba(60, 64, 67, 0.3), 0 1px 3px 1px rgba(60, 64, 67, 0.15);\n",
              "    fill: var(--button-hover-fill-color);\n",
              "  }\n",
              "\n",
              "  .colab-df-quickchart-complete:disabled,\n",
              "  .colab-df-quickchart-complete:disabled:hover {\n",
              "    background-color: var(--disabled-bg-color);\n",
              "    fill: var(--disabled-fill-color);\n",
              "    box-shadow: none;\n",
              "  }\n",
              "\n",
              "  .colab-df-spinner {\n",
              "    border: 2px solid var(--fill-color);\n",
              "    border-color: transparent;\n",
              "    border-bottom-color: var(--fill-color);\n",
              "    animation:\n",
              "      spin 1s steps(1) infinite;\n",
              "  }\n",
              "\n",
              "  @keyframes spin {\n",
              "    0% {\n",
              "      border-color: transparent;\n",
              "      border-bottom-color: var(--fill-color);\n",
              "      border-left-color: var(--fill-color);\n",
              "    }\n",
              "    20% {\n",
              "      border-color: transparent;\n",
              "      border-left-color: var(--fill-color);\n",
              "      border-top-color: var(--fill-color);\n",
              "    }\n",
              "    30% {\n",
              "      border-color: transparent;\n",
              "      border-left-color: var(--fill-color);\n",
              "      border-top-color: var(--fill-color);\n",
              "      border-right-color: var(--fill-color);\n",
              "    }\n",
              "    40% {\n",
              "      border-color: transparent;\n",
              "      border-right-color: var(--fill-color);\n",
              "      border-top-color: var(--fill-color);\n",
              "    }\n",
              "    60% {\n",
              "      border-color: transparent;\n",
              "      border-right-color: var(--fill-color);\n",
              "    }\n",
              "    80% {\n",
              "      border-color: transparent;\n",
              "      border-right-color: var(--fill-color);\n",
              "      border-bottom-color: var(--fill-color);\n",
              "    }\n",
              "    90% {\n",
              "      border-color: transparent;\n",
              "      border-bottom-color: var(--fill-color);\n",
              "    }\n",
              "  }\n",
              "</style>\n",
              "\n",
              "  <script>\n",
              "    async function quickchart(key) {\n",
              "      const quickchartButtonEl =\n",
              "        document.querySelector('#' + key + ' button');\n",
              "      quickchartButtonEl.disabled = true;  // To prevent multiple clicks.\n",
              "      quickchartButtonEl.classList.add('colab-df-spinner');\n",
              "      try {\n",
              "        const charts = await google.colab.kernel.invokeFunction(\n",
              "            'suggestCharts', [key], {});\n",
              "      } catch (error) {\n",
              "        console.error('Error during call to suggestCharts:', error);\n",
              "      }\n",
              "      quickchartButtonEl.classList.remove('colab-df-spinner');\n",
              "      quickchartButtonEl.classList.add('colab-df-quickchart-complete');\n",
              "    }\n",
              "    (() => {\n",
              "      let quickchartButtonEl =\n",
              "        document.querySelector('#df-0266353b-f6c0-474e-9673-d36ec70d0d05 button');\n",
              "      quickchartButtonEl.style.display =\n",
              "        google.colab.kernel.accessAllowed ? 'block' : 'none';\n",
              "    })();\n",
              "  </script>\n",
              "</div>\n",
              "\n",
              "  <div id=\"id_6992a9d0-f3b2-495e-9932-0469df6cef42\">\n",
              "    <style>\n",
              "      .colab-df-generate {\n",
              "        background-color: #E8F0FE;\n",
              "        border: none;\n",
              "        border-radius: 50%;\n",
              "        cursor: pointer;\n",
              "        display: none;\n",
              "        fill: #1967D2;\n",
              "        height: 32px;\n",
              "        padding: 0 0 0 0;\n",
              "        width: 32px;\n",
              "      }\n",
              "\n",
              "      .colab-df-generate:hover {\n",
              "        background-color: #E2EBFA;\n",
              "        box-shadow: 0px 1px 2px rgba(60, 64, 67, 0.3), 0px 1px 3px 1px rgba(60, 64, 67, 0.15);\n",
              "        fill: #174EA6;\n",
              "      }\n",
              "\n",
              "      [theme=dark] .colab-df-generate {\n",
              "        background-color: #3B4455;\n",
              "        fill: #D2E3FC;\n",
              "      }\n",
              "\n",
              "      [theme=dark] .colab-df-generate:hover {\n",
              "        background-color: #434B5C;\n",
              "        box-shadow: 0px 1px 3px 1px rgba(0, 0, 0, 0.15);\n",
              "        filter: drop-shadow(0px 1px 2px rgba(0, 0, 0, 0.3));\n",
              "        fill: #FFFFFF;\n",
              "      }\n",
              "    </style>\n",
              "    <button class=\"colab-df-generate\" onclick=\"generateWithVariable('big_error_samples')\"\n",
              "            title=\"Generate code using this dataframe.\"\n",
              "            style=\"display:none;\">\n",
              "\n",
              "  <svg xmlns=\"http://www.w3.org/2000/svg\" height=\"24px\"viewBox=\"0 0 24 24\"\n",
              "       width=\"24px\">\n",
              "    <path d=\"M7,19H8.4L18.45,9,17,7.55,7,17.6ZM5,21V16.75L18.45,3.32a2,2,0,0,1,2.83,0l1.4,1.43a1.91,1.91,0,0,1,.58,1.4,1.91,1.91,0,0,1-.58,1.4L9.25,21ZM18.45,9,17,7.55Zm-12,3A5.31,5.31,0,0,0,4.9,8.1,5.31,5.31,0,0,0,1,6.5,5.31,5.31,0,0,0,4.9,4.9,5.31,5.31,0,0,0,6.5,1,5.31,5.31,0,0,0,8.1,4.9,5.31,5.31,0,0,0,12,6.5,5.46,5.46,0,0,0,6.5,12Z\"/>\n",
              "  </svg>\n",
              "    </button>\n",
              "    <script>\n",
              "      (() => {\n",
              "      const buttonEl =\n",
              "        document.querySelector('#id_6992a9d0-f3b2-495e-9932-0469df6cef42 button.colab-df-generate');\n",
              "      buttonEl.style.display =\n",
              "        google.colab.kernel.accessAllowed ? 'block' : 'none';\n",
              "\n",
              "      buttonEl.onclick = () => {\n",
              "        google.colab.notebook.generateWithVariable('big_error_samples');\n",
              "      }\n",
              "      })();\n",
              "    </script>\n",
              "  </div>\n",
              "\n",
              "    </div>\n",
              "  </div>\n"
            ],
            "application/vnd.google.colaboratory.intrinsic+json": {
              "type": "dataframe",
              "variable_name": "big_error_samples",
              "summary": "{\n  \"name\": \"big_error_samples\",\n  \"rows\": 20,\n  \"fields\": [\n    {\n      \"column\": \"work_year\",\n      \"properties\": {\n        \"dtype\": \"number\",\n        \"std\": 0,\n        \"min\": 2020,\n        \"max\": 2023,\n        \"num_unique_values\": 4,\n        \"samples\": [\n          2021,\n          2022,\n          2023\n        ],\n        \"semantic_type\": \"\",\n        \"description\": \"\"\n      }\n    },\n    {\n      \"column\": \"experience_level\",\n      \"properties\": {\n        \"dtype\": \"category\",\n        \"num_unique_values\": 3,\n        \"samples\": [\n          \"SE\",\n          \"MI\",\n          \"EN\"\n        ],\n        \"semantic_type\": \"\",\n        \"description\": \"\"\n      }\n    },\n    {\n      \"column\": \"employment_type\",\n      \"properties\": {\n        \"dtype\": \"category\",\n        \"num_unique_values\": 1,\n        \"samples\": [\n          \"FT\"\n        ],\n        \"semantic_type\": \"\",\n        \"description\": \"\"\n      }\n    },\n    {\n      \"column\": \"job_title\",\n      \"properties\": {\n        \"dtype\": \"string\",\n        \"num_unique_values\": 12,\n        \"samples\": [\n          \"Data Engineer\"\n        ],\n        \"semantic_type\": \"\",\n        \"description\": \"\"\n      }\n    },\n    {\n      \"column\": \"salary_currency\",\n      \"properties\": {\n        \"dtype\": \"category\",\n        \"num_unique_values\": 2,\n        \"samples\": [\n          \"USD\"\n        ],\n        \"semantic_type\": \"\",\n        \"description\": \"\"\n      }\n    },\n    {\n      \"column\": \"salary_in_usd\",\n      \"properties\": {\n        \"dtype\": \"number\",\n        \"std\": 43348,\n        \"min\": 300000,\n        \"max\": 450000,\n        \"num_unique_values\": 17,\n        \"samples\": [\n          423834\n        ],\n        \"semantic_type\": \"\",\n        \"description\": \"\"\n      }\n    },\n    {\n      \"column\": \"employee_residence\",\n      \"properties\": {\n        \"dtype\": \"category\",\n        \"num_unique_values\": 3,\n        \"samples\": [\n          \"IL\"\n        ],\n        \"semantic_type\": \"\",\n        \"description\": \"\"\n      }\n    },\n    {\n      \"column\": \"remote_ratio\",\n      \"properties\": {\n        \"dtype\": \"number\",\n        \"std\": 46,\n        \"min\": 0,\n        \"max\": 100,\n        \"num_unique_values\": 3,\n        \"samples\": [\n          0\n        ],\n        \"semantic_type\": \"\",\n        \"description\": \"\"\n      }\n    },\n    {\n      \"column\": \"company_location\",\n      \"properties\": {\n        \"dtype\": \"category\",\n        \"num_unique_values\": 3,\n        \"samples\": [\n          \"IL\"\n        ],\n        \"semantic_type\": \"\",\n        \"description\": \"\"\n      }\n    },\n    {\n      \"column\": \"company_size\",\n      \"properties\": {\n        \"dtype\": \"category\",\n        \"num_unique_values\": 2,\n        \"samples\": [\n          \"M\"\n        ],\n        \"semantic_type\": \"\",\n        \"description\": \"\"\n      }\n    }\n  ]\n}"
            }
          },
          "metadata": {},
          "execution_count": 82
        }
      ],
      "source": [
        "big_error_samples = df.loc[[e[1] for e in sorted(zip(abs(model.predict(Xtrain) - ytrain), Xtrain.index), reverse=True)[:20]]]\n",
        "big_error_samples"
      ]
    },
    {
      "cell_type": "code",
      "execution_count": 83,
      "id": "02fb6379",
      "metadata": {
        "id": "02fb6379",
        "outputId": "5b1b488a-8d72-4804-c66b-5a28bf54f146",
        "colab": {
          "base_uri": "https://localhost:8080/",
          "height": 472
        }
      },
      "outputs": [
        {
          "output_type": "display_data",
          "data": {
            "text/plain": [
              "<Figure size 640x480 with 1 Axes>"
            ],
            "image/png": "[encoded data removed]"
          },
          "metadata": {}
        }
      ],
      "source": [
        "fig, ax = plt.subplots()\n",
        "\n",
        "sns.histplot(ytrain, zorder=2, ax=ax, alpha=1)\n",
        "\n",
        "plt.title('Target distribution in Xtrain')\n",
        "plt.grid(True, axis='y', linestyle='-', zorder=1)\n",
        "\n",
        "plt.show()"
      ]
    },
    {
      "cell_type": "markdown",
      "id": "AHl7Emrg8Tfj",
      "metadata": {
        "id": "AHl7Emrg8Tfj"
      },
      "source": [
        "`Высокая ошибка, судя по всему, связана с аномальными значением зарплаты, преимущественно, для сеньеров (>300k $). Удалять такие данные не надо, поскольку такие зарплаты действительно могут существовать.`"
      ]
    },
    {
      "cell_type": "code",
      "execution_count": 84,
      "id": "907c5a91",
      "metadata": {
        "id": "907c5a91",
        "outputId": "65c4e6f3-53f7-496b-e449-a38eafac58ec",
        "colab": {
          "base_uri": "https://localhost:8080/",
          "height": 241
        }
      },
      "outputs": [
        {
          "output_type": "execute_result",
          "data": {
            "text/plain": [
              "experience_level\n",
              "SE    1240\n",
              "MI     536\n",
              "EN     213\n",
              "EX      78\n",
              "Name: count, dtype: int64"
            ],
            "text/html": [
              "<div>\n",
              "<style scoped>\n",
              "    .dataframe tbody tr th:only-of-type {\n",
              "        vertical-align: middle;\n",
              "    }\n",
              "\n",
              "    .dataframe tbody tr th {\n",
              "        vertical-align: top;\n",
              "    }\n",
              "\n",
              "    .dataframe thead th {\n",
              "        text-align: right;\n",
              "    }\n",
              "</style>\n",
              "<table border=\"1\" class=\"dataframe\">\n",
              "  <thead>\n",
              "    <tr style=\"text-align: right;\">\n",
              "      <th></th>\n",
              "      <th>count</th>\n",
              "    </tr>\n",
              "    <tr>\n",
              "      <th>experience_level</th>\n",
              "      <th></th>\n",
              "    </tr>\n",
              "  </thead>\n",
              "  <tbody>\n",
              "    <tr>\n",
              "      <th>SE</th>\n",
              "      <td>1240</td>\n",
              "    </tr>\n",
              "    <tr>\n",
              "      <th>MI</th>\n",
              "      <td>536</td>\n",
              "    </tr>\n",
              "    <tr>\n",
              "      <th>EN</th>\n",
              "      <td>213</td>\n",
              "    </tr>\n",
              "    <tr>\n",
              "      <th>EX</th>\n",
              "      <td>78</td>\n",
              "    </tr>\n",
              "  </tbody>\n",
              "</table>\n",
              "</div><br><label><b>dtype:</b> int64</label>"
            ]
          },
          "metadata": {},
          "execution_count": 84
        }
      ],
      "source": [
        "Xtrain['experience_level'].value_counts()"
      ]
    },
    {
      "cell_type": "markdown",
      "id": "8dd0825e",
      "metadata": {
        "id": "8dd0825e"
      },
      "source": [
        "`Интересно, что в датасете в принципе большинство позиций являются сеньерскими.`"
      ]
    },
    {
      "cell_type": "markdown",
      "id": "9c589ed0",
      "metadata": {
        "id": "9c589ed0"
      },
      "source": [
        "`Средняя зарплата позиций с аномальными значениями зарплаты:`"
      ]
    },
    {
      "cell_type": "code",
      "execution_count": 85,
      "id": "91157546",
      "metadata": {
        "id": "91157546",
        "outputId": "e468a914-4a0d-4c47-b02b-3e6ecba9bc1d",
        "colab": {
          "base_uri": "https://localhost:8080/",
          "height": 649
        }
      },
      "outputs": [
        {
          "output_type": "execute_result",
          "data": {
            "text/plain": [
              "job_title\n",
              "AI Scientist                          423834.000000\n",
              "Applied Data Scientist                380000.000000\n",
              "Applied Machine Learning Scientist    423000.000000\n",
              "Applied Scientist                     329700.000000\n",
              "Computer Vision Engineer              342810.000000\n",
              "Data Analytics Lead                   405000.000000\n",
              "Data Architect                        360840.000000\n",
              "Data Engineer                         313500.000000\n",
              "Data Science Tech Lead                375000.000000\n",
              "Data Scientist                        349862.000000\n",
              "Director of Data Science              339100.000000\n",
              "Head of Data                          329500.000000\n",
              "Head of Data Science                  314100.000000\n",
              "Machine Learning Engineer             321975.000000\n",
              "Machine Learning Software Engineer    375000.000000\n",
              "Principal Data Scientist              416000.000000\n",
              "Research Scientist                    386666.666667\n",
              "Name: salary_in_usd, dtype: float64"
            ],
            "text/html": [
              "<div>\n",
              "<style scoped>\n",
              "    .dataframe tbody tr th:only-of-type {\n",
              "        vertical-align: middle;\n",
              "    }\n",
              "\n",
              "    .dataframe tbody tr th {\n",
              "        vertical-align: top;\n",
              "    }\n",
              "\n",
              "    .dataframe thead th {\n",
              "        text-align: right;\n",
              "    }\n",
              "</style>\n",
              "<table border=\"1\" class=\"dataframe\">\n",
              "  <thead>\n",
              "    <tr style=\"text-align: right;\">\n",
              "      <th></th>\n",
              "      <th>salary_in_usd</th>\n",
              "    </tr>\n",
              "    <tr>\n",
              "      <th>job_title</th>\n",
              "      <th></th>\n",
              "    </tr>\n",
              "  </thead>\n",
              "  <tbody>\n",
              "    <tr>\n",
              "      <th>AI Scientist</th>\n",
              "      <td>423834.000000</td>\n",
              "    </tr>\n",
              "    <tr>\n",
              "      <th>Applied Data Scientist</th>\n",
              "      <td>380000.000000</td>\n",
              "    </tr>\n",
              "    <tr>\n",
              "      <th>Applied Machine Learning Scientist</th>\n",
              "      <td>423000.000000</td>\n",
              "    </tr>\n",
              "    <tr>\n",
              "      <th>Applied Scientist</th>\n",
              "      <td>329700.000000</td>\n",
              "    </tr>\n",
              "    <tr>\n",
              "      <th>Computer Vision Engineer</th>\n",
              "      <td>342810.000000</td>\n",
              "    </tr>\n",
              "    <tr>\n",
              "      <th>Data Analytics Lead</th>\n",
              "      <td>405000.000000</td>\n",
              "    </tr>\n",
              "    <tr>\n",
              "      <th>Data Architect</th>\n",
              "      <td>360840.000000</td>\n",
              "    </tr>\n",
              "    <tr>\n",
              "      <th>Data Engineer</th>\n",
              "      <td>313500.000000</td>\n",
              "    </tr>\n",
              "    <tr>\n",
              "      <th>Data Science Tech Lead</th>\n",
              "      <td>375000.000000</td>\n",
              "    </tr>\n",
              "    <tr>\n",
              "      <th>Data Scientist</th>\n",
              "      <td>349862.000000</td>\n",
              "    </tr>\n",
              "    <tr>\n",
              "      <th>Director of Data Science</th>\n",
              "      <td>339100.000000</td>\n",
              "    </tr>\n",
              "    <tr>\n",
              "      <th>Head of Data</th>\n",
              "      <td>329500.000000</td>\n",
              "    </tr>\n",
              "    <tr>\n",
              "      <th>Head of Data Science</th>\n",
              "      <td>314100.000000</td>\n",
              "    </tr>\n",
              "    <tr>\n",
              "      <th>Machine Learning Engineer</th>\n",
              "      <td>321975.000000</td>\n",
              "    </tr>\n",
              "    <tr>\n",
              "      <th>Machine Learning Software Engineer</th>\n",
              "      <td>375000.000000</td>\n",
              "    </tr>\n",
              "    <tr>\n",
              "      <th>Principal Data Scientist</th>\n",
              "      <td>416000.000000</td>\n",
              "    </tr>\n",
              "    <tr>\n",
              "      <th>Research Scientist</th>\n",
              "      <td>386666.666667</td>\n",
              "    </tr>\n",
              "  </tbody>\n",
              "</table>\n",
              "</div><br><label><b>dtype:</b> float64</label>"
            ]
          },
          "metadata": {},
          "execution_count": 85
        }
      ],
      "source": [
        "df.loc[ytrain[ytrain > 300000].index].groupby('job_title')['salary_in_usd'].mean()"
      ]
    },
    {
      "cell_type": "markdown",
      "id": "d7b57910",
      "metadata": {
        "id": "d7b57910"
      },
      "source": [
        "`Для улучшения модели можно добавить дополнительный признак-индикатор для высооплачиваемых вакансий.`"
      ]
    },
    {
      "cell_type": "markdown",
      "id": "0bb42f2e",
      "metadata": {
        "id": "0bb42f2e"
      },
      "source": [
        "## **Задание 11 (0.5 балла)**\n",
        "\n",
        "Придумайте признаки для улучшения качества модели на основе предыдущего пункта. Как вам кажется какими признаками можно улучшить качетсво модели? Реализуйте признаки и проверьте улучшилось ли качество модели.\n",
        "\n",
        "**Примечание:**\n",
        "Полный балл за задание ставится даже при отсутствии улучшения качества модели, важно попробовать проверить свои гипотезы и сделать выводы."
      ]
    },
    {
      "cell_type": "markdown",
      "id": "1e911b5f",
      "metadata": {
        "id": "1e911b5f"
      },
      "source": [
        "`Реализуем идею из предыдущего пункта.`"
      ]
    },
    {
      "cell_type": "markdown",
      "id": "c8bcf88a",
      "metadata": {
        "id": "c8bcf88a"
      },
      "source": [
        "`Название вакансий с высокой зарплатой:`"
      ]
    },
    {
      "cell_type": "code",
      "execution_count": 86,
      "id": "446bd99a",
      "metadata": {
        "id": "446bd99a",
        "outputId": "0878b721-f57a-4399-fa85-87b436f2bdd5",
        "colab": {
          "base_uri": "https://localhost:8080/"
        }
      },
      "outputs": [
        {
          "output_type": "execute_result",
          "data": {
            "text/plain": [
              "array(['Machine Learning Software Engineer', 'Applied Scientist',\n",
              "       'Data Architect', 'Data Scientist', 'AI Scientist',\n",
              "       'Data Engineer', 'Machine Learning Engineer', 'Head of Data',\n",
              "       'Research Scientist', 'Applied Data Scientist',\n",
              "       'Principal Data Scientist', 'Data Science Tech Lead',\n",
              "       'Head of Data Science', 'Computer Vision Engineer',\n",
              "       'Applied Machine Learning Scientist', 'Director of Data Science',\n",
              "       'Data Analytics Lead'], dtype=object)"
            ]
          },
          "metadata": {},
          "execution_count": 86
        }
      ],
      "source": [
        "high_salary_jobs = df.loc[ytrain[ytrain > 300000].index]['job_title'].unique()\n",
        "high_salary_jobs"
      ]
    },
    {
      "cell_type": "code",
      "execution_count": 87,
      "id": "3c52b0b2",
      "metadata": {
        "id": "3c52b0b2"
      },
      "outputs": [],
      "source": [
        "def high_salary_job(X):\n",
        "    \"\"\"\n",
        "    Добавляет столбец high_salary_jobs, который равен 1, если job_title входит в список high_salary_jobs, иначе 0.\n",
        "    \"\"\"\n",
        "    X_copy = X.copy()\n",
        "    high_salary_jobs = ['Machine Learning Software Engineer', 'Applied Scientist',\n",
        "       'Data Architect', 'Data Scientist', 'AI Scientist',\n",
        "       'Data Engineer', 'Machine Learning Engineer', 'Head of Data',\n",
        "       'Research Scientist', 'Applied Data Scientist',\n",
        "       'Principal Data Scientist', 'Data Science Tech Lead',\n",
        "       'Head of Data Science', 'Computer Vision Engineer',\n",
        "       'Applied Machine Learning Scientist', 'Director of Data Science',\n",
        "       'Data Analytics Lead']\n",
        "    X_copy['high_salary_jobs'] = X_copy['job_title'].apply(lambda x: 1 if x in high_salary_jobs else 0)\n",
        "    return X_copy\n",
        "\n",
        "high_salary_transformer = FunctionTransformer(high_salary_job)"
      ]
    },
    {
      "cell_type": "code",
      "execution_count": 88,
      "id": "cf5bc25e",
      "metadata": {
        "id": "cf5bc25e",
        "outputId": "a41dcc34-bca7-47c0-b778-edc23f864eb1",
        "colab": {
          "base_uri": "https://localhost:8080/"
        }
      },
      "outputs": [
        {
          "output_type": "stream",
          "name": "stdout",
          "text": [
            "[LightGBM] [Info] Auto-choosing row-wise multi-threading, the overhead of testing was 0.101705 seconds.\n",
            "You can set `force_row_wise=true` to remove the overhead.\n",
            "And if memory is not enough, you can set `force_col_wise=true`.\n",
            "[LightGBM] [Info] Total Bins 42361\n",
            "[LightGBM] [Info] Number of data points in the train set: 2067, number of used features: 6164\n",
            "[LightGBM] [Info] Start training from score 133570.320271\n",
            "MAPE: 0.388\n",
            "RMSE: 51346.16983001252\n"
          ]
        }
      ],
      "source": [
        "lgbm_nf_te = Pipeline([\n",
        "    ('high_salary_transformer', high_salary_transformer),\n",
        "    ('column_transformer', ct_te),\n",
        "    ('model', LGBMRegressor(random_state=42))\n",
        "])\n",
        "\n",
        "lgbm_nf_te.fit(Xtrain, ytrain)\n",
        "\n",
        "print_metrics(ytest, lgbm_nf_te.predict(Xtest))"
      ]
    },
    {
      "cell_type": "markdown",
      "id": "RLhwEaZS8oHr",
      "metadata": {
        "id": "RLhwEaZS8oHr"
      },
      "source": [
        "`Качество немного улучшилось!`"
      ]
    },
    {
      "cell_type": "markdown",
      "id": "3578292c",
      "metadata": {
        "id": "3578292c"
      },
      "source": [
        "## **Задание 12 (1 балл)**\n",
        "\n",
        "Поупражняемся с разными бустингами!\n",
        "\n",
        "- Используйте catboost.\n",
        "- Обучите модель — на полном наборе данных с категориальными признаками.\n",
        "- Подберите оптимальные гиперпараметры.\n",
        "- Оцените качество итоговой модели, скорость обучения и скорость предсказания.\n",
        "\n",
        "\n",
        "**Примечание:**\n",
        "Замерять скорость = смотреть, как долго исполняется код."
      ]
    },
    {
      "cell_type": "code",
      "execution_count": 89,
      "id": "d8355308",
      "metadata": {
        "id": "d8355308"
      },
      "outputs": [],
      "source": [
        "Xtrain_new = high_salary_transformer.transform(Xtrain)\n",
        "Xtest_new = high_salary_transformer.transform(Xtest)"
      ]
    },
    {
      "cell_type": "code",
      "execution_count": 90,
      "id": "RfwW-oGc9KNg",
      "metadata": {
        "id": "RfwW-oGc9KNg",
        "outputId": "a79cf8f4-96d4-4e54-cb72-3b6de5909c6a",
        "colab": {
          "base_uri": "https://localhost:8080/"
        }
      },
      "outputs": [
        {
          "output_type": "stream",
          "name": "stderr",
          "text": [
            "[I 2025-02-14 18:50:14,223] A new study created in memory with name: no-name-182f7e20-f784-474e-a6f2-c904896383b0\n",
            "[I 2025-02-14 18:50:43,907] Trial 0 finished with value: 51370.425984739304 and parameters: {'learning_rate': 0.050520769520863096, 'depth': 10, 'subsample': 0.32022830935023905, 'colsample_bylevel': 0.3370050913227662, 'min_data_in_leaf': 57}. Best is trial 0 with value: 51370.425984739304.\n",
            "[I 2025-02-14 18:50:44,582] Trial 1 finished with value: 54898.67852891898 and parameters: {'learning_rate': 0.003331925969239779, 'depth': 1, 'subsample': 0.25009357026076556, 'colsample_bylevel': 0.1771994355209277, 'min_data_in_leaf': 95}. Best is trial 0 with value: 51370.425984739304.\n",
            "[I 2025-02-14 18:50:48,775] Trial 2 finished with value: 49533.13073250447 and parameters: {'learning_rate': 0.06047387390091374, 'depth': 6, 'subsample': 0.553939921382422, 'colsample_bylevel': 0.17894334426698233, 'min_data_in_leaf': 54}. Best is trial 2 with value: 49533.13073250447.\n",
            "[I 2025-02-14 18:50:52,690] Trial 3 finished with value: 50015.11821193068 and parameters: {'learning_rate': 0.004608282469654778, 'depth': 6, 'subsample': 0.16355773128452755, 'colsample_bylevel': 0.2586205361933046, 'min_data_in_leaf': 37}. Best is trial 2 with value: 49533.13073250447.\n",
            "[I 2025-02-14 18:50:54,077] Trial 4 finished with value: 49686.881848302495 and parameters: {'learning_rate': 0.02797552526007573, 'depth': 2, 'subsample': 0.40671276688020175, 'colsample_bylevel': 0.6438967048193268, 'min_data_in_leaf': 40}. Best is trial 2 with value: 49533.13073250447.\n",
            "[I 2025-02-14 18:51:21,929] Trial 5 finished with value: 50433.794734770054 and parameters: {'learning_rate': 0.00301241170668995, 'depth': 10, 'subsample': 0.7414587992278229, 'colsample_bylevel': 0.520256268630771, 'min_data_in_leaf': 64}. Best is trial 2 with value: 49533.13073250447.\n",
            "[I 2025-02-14 18:51:35,785] Trial 6 finished with value: 50014.92129595639 and parameters: {'learning_rate': 0.004133951489927844, 'depth': 9, 'subsample': 0.40394315526807606, 'colsample_bylevel': 0.25826978581689825, 'min_data_in_leaf': 52}. Best is trial 2 with value: 49533.13073250447.\n",
            "[I 2025-02-14 18:51:38,963] Trial 7 finished with value: 49222.523008604 and parameters: {'learning_rate': 0.03936799933557597, 'depth': 3, 'subsample': 0.8849801739123614, 'colsample_bylevel': 0.9774296673634272, 'min_data_in_leaf': 73}. Best is trial 7 with value: 49222.523008604.\n",
            "[I 2025-02-14 18:51:51,535] Trial 8 finished with value: 49743.366285729106 and parameters: {'learning_rate': 0.022402667893331812, 'depth': 9, 'subsample': 0.5413887824671197, 'colsample_bylevel': 0.2416260892935052, 'min_data_in_leaf': 80}. Best is trial 7 with value: 49222.523008604.\n",
            "[I 2025-02-14 18:52:14,488] Trial 9 finished with value: 49651.10195779618 and parameters: {'learning_rate': 0.024011137802456475, 'depth': 8, 'subsample': 0.9953071831347702, 'colsample_bylevel': 0.9947742622953182, 'min_data_in_leaf': 33}. Best is trial 7 with value: 49222.523008604.\n",
            "[I 2025-02-14 18:52:17,844] Trial 10 finished with value: 49552.28532993391 and parameters: {'learning_rate': 0.011065634982015174, 'depth': 3, 'subsample': 0.9804075615384249, 'colsample_bylevel': 0.9842734970553983, 'min_data_in_leaf': 10}. Best is trial 7 with value: 49222.523008604.\n",
            "[I 2025-02-14 18:52:24,394] Trial 11 finished with value: 49782.0549552163 and parameters: {'learning_rate': 0.09690947362368589, 'depth': 5, 'subsample': 0.6968333441923256, 'colsample_bylevel': 0.7628426916457517, 'min_data_in_leaf': 72}. Best is trial 7 with value: 49222.523008604.\n",
            "[I 2025-02-14 18:52:27,073] Trial 12 finished with value: 54862.36478879154 and parameters: {'learning_rate': 0.0011001599647168536, 'depth': 4, 'subsample': 0.7871624846825296, 'colsample_bylevel': 0.41606029930153066, 'min_data_in_leaf': 87}. Best is trial 7 with value: 49222.523008604.\n",
            "[I 2025-02-14 18:52:28,055] Trial 13 finished with value: 49284.36994350492 and parameters: {'learning_rate': 0.08830751222555419, 'depth': 6, 'subsample': 0.5879731863340494, 'colsample_bylevel': 0.051469533510794224, 'min_data_in_leaf': 69}. Best is trial 7 with value: 49222.523008604.\n",
            "[I 2025-02-14 18:52:29,587] Trial 14 finished with value: 49576.78193540131 and parameters: {'learning_rate': 0.09686170555178793, 'depth': 7, 'subsample': 0.8458637718206132, 'colsample_bylevel': 0.07358113995516746, 'min_data_in_leaf': 75}. Best is trial 7 with value: 49222.523008604.\n",
            "[I 2025-02-14 18:52:34,437] Trial 15 finished with value: 49130.96310046711 and parameters: {'learning_rate': 0.04479172939639702, 'depth': 4, 'subsample': 0.6287167907369058, 'colsample_bylevel': 0.8147859364260099, 'min_data_in_leaf': 96}. Best is trial 15 with value: 49130.96310046711.\n",
            "[I 2025-02-14 18:52:38,586] Trial 16 finished with value: 49383.028025693435 and parameters: {'learning_rate': 0.011894998180134037, 'depth': 4, 'subsample': 0.8761167559872587, 'colsample_bylevel': 0.8283232258332877, 'min_data_in_leaf': 100}. Best is trial 15 with value: 49130.96310046711.\n",
            "[I 2025-02-14 18:52:40,398] Trial 17 finished with value: 49473.47369560254 and parameters: {'learning_rate': 0.04347559438629153, 'depth': 2, 'subsample': 0.6446462991026266, 'colsample_bylevel': 0.8631978688070424, 'min_data_in_leaf': 85}. Best is trial 15 with value: 49130.96310046711.\n",
            "[I 2025-02-14 18:52:44,995] Trial 18 finished with value: 49334.972513643675 and parameters: {'learning_rate': 0.016894780730971958, 'depth': 4, 'subsample': 0.8875070745600264, 'colsample_bylevel': 0.6694111402175782, 'min_data_in_leaf': 96}. Best is trial 15 with value: 49130.96310046711.\n",
            "[I 2025-02-14 18:52:45,985] Trial 19 finished with value: 51790.67255621947 and parameters: {'learning_rate': 0.006640235494234727, 'depth': 1, 'subsample': 0.4550147103279269, 'colsample_bylevel': 0.9071583357847928, 'min_data_in_leaf': 1}. Best is trial 15 with value: 49130.96310046711.\n",
            "[I 2025-02-14 18:52:48,044] Trial 20 finished with value: 49519.78010626704 and parameters: {'learning_rate': 0.03399659932572359, 'depth': 3, 'subsample': 0.08299792864781347, 'colsample_bylevel': 0.6893630997637633, 'min_data_in_leaf': 90}. Best is trial 15 with value: 49130.96310046711.\n",
            "[I 2025-02-14 18:52:52,615] Trial 21 finished with value: 49580.0303062587 and parameters: {'learning_rate': 0.06939400983002814, 'depth': 5, 'subsample': 0.6229775293214609, 'colsample_bylevel': 0.5154459504498954, 'min_data_in_leaf': 67}. Best is trial 15 with value: 49130.96310046711.\n",
            "[I 2025-02-14 18:53:05,370] Trial 22 finished with value: 49729.00916686477 and parameters: {'learning_rate': 0.04039893728424543, 'depth': 7, 'subsample': 0.6187739078626497, 'colsample_bylevel': 0.7840475640267313, 'min_data_in_leaf': 78}. Best is trial 15 with value: 49130.96310046711.\n",
            "[I 2025-02-14 18:53:09,127] Trial 23 finished with value: 49395.67537547327 and parameters: {'learning_rate': 0.06966199655188493, 'depth': 3, 'subsample': 0.7837688397595366, 'colsample_bylevel': 0.91532398127892, 'min_data_in_leaf': 66}. Best is trial 15 with value: 49130.96310046711.\n",
            "[I 2025-02-14 18:53:13,872] Trial 24 finished with value: 49163.55292703423 and parameters: {'learning_rate': 0.01706519777303514, 'depth': 5, 'subsample': 0.4711290609073699, 'colsample_bylevel': 0.6104970904796613, 'min_data_in_leaf': 43}. Best is trial 15 with value: 49130.96310046711.\n",
            "[I 2025-02-14 18:53:19,839] Trial 25 finished with value: 49104.66087017997 and parameters: {'learning_rate': 0.017258929575369533, 'depth': 5, 'subsample': 0.47877530133922147, 'colsample_bylevel': 0.7319986632458736, 'min_data_in_leaf': 26}. Best is trial 25 with value: 49104.66087017997.\n",
            "[I 2025-02-14 18:53:24,251] Trial 26 finished with value: 49186.346092414984 and parameters: {'learning_rate': 0.015549881905509799, 'depth': 5, 'subsample': 0.46455266062643835, 'colsample_bylevel': 0.5601693105861427, 'min_data_in_leaf': 29}. Best is trial 25 with value: 49104.66087017997.\n",
            "[I 2025-02-14 18:53:33,980] Trial 27 finished with value: 49389.7014429146 and parameters: {'learning_rate': 0.008947399667930624, 'depth': 7, 'subsample': 0.27773204058918055, 'colsample_bylevel': 0.595425509166835, 'min_data_in_leaf': 15}. Best is trial 25 with value: 49104.66087017997.\n",
            "[I 2025-02-14 18:53:37,683] Trial 28 finished with value: 49200.04858788316 and parameters: {'learning_rate': 0.017634011424442986, 'depth': 4, 'subsample': 0.4805484391305311, 'colsample_bylevel': 0.7350428814335069, 'min_data_in_leaf': 27}. Best is trial 25 with value: 49104.66087017997.\n",
            "[I 2025-02-14 18:53:41,966] Trial 29 finished with value: 49490.12181670737 and parameters: {'learning_rate': 0.007781462148186183, 'depth': 5, 'subsample': 0.4182082060350656, 'colsample_bylevel': 0.3763390761579237, 'min_data_in_leaf': 44}. Best is trial 25 with value: 49104.66087017997.\n"
          ]
        },
        {
          "output_type": "stream",
          "name": "stdout",
          "text": [
            "Лучшие параметры: {'learning_rate': 0.017258929575369533, 'depth': 5, 'subsample': 0.47877530133922147, 'colsample_bylevel': 0.7319986632458736, 'min_data_in_leaf': 26}\n",
            "Лучший RMSE: 49104.66087017997\n"
          ]
        }
      ],
      "source": [
        "def objective(trial):\n",
        "    params = {\n",
        "        \"iterations\": 1000,\n",
        "        \"learning_rate\": trial.suggest_float(\"learning_rate\", 1e-3, 0.1, log=True),\n",
        "        \"depth\": trial.suggest_int(\"depth\", 1, 10),\n",
        "        \"subsample\": trial.suggest_float(\"subsample\", 0.05, 1.0),\n",
        "        \"colsample_bylevel\": trial.suggest_float(\"colsample_bylevel\", 0.05, 1.0),\n",
        "        \"min_data_in_leaf\": trial.suggest_int(\"min_data_in_leaf\", 1, 100),\n",
        "        \"verbose\": False\n",
        "    }\n",
        "    model = CatBoostRegressor(**params, cat_features=list(categorical), random_seed=42)\n",
        "\n",
        "    score = cross_val_score(model, Xtrain_new, ytrain, cv=3,\n",
        "                            scoring='neg_root_mean_squared_error', n_jobs=-1).mean()\n",
        "\n",
        "    return -score\n",
        "\n",
        "study = optuna.create_study(direction='minimize')\n",
        "study.optimize(objective, n_trials=30)\n",
        "\n",
        "print(\"Лучшие параметры:\", study.best_params)\n",
        "print(\"Лучший RMSE:\", study.best_value)"
      ]
    },
    {
      "cell_type": "code",
      "source": [
        "model = CatBoostRegressor(**study.best_params, cat_features=list(categorical), silent=True, random_seed=42)\n",
        "\n",
        "model.fit(Xtrain_new, ytrain)\n",
        "\n",
        "print_metrics(ytest, model.predict(Xtest_new))"
      ],
      "metadata": {
        "id": "VznkvhUpqOc-",
        "outputId": "455d1ede-7b30-4493-f253-e27e56a3f33f",
        "colab": {
          "base_uri": "https://localhost:8080/"
        }
      },
      "id": "VznkvhUpqOc-",
      "execution_count": 91,
      "outputs": [
        {
          "output_type": "stream",
          "name": "stdout",
          "text": [
            "MAPE: 0.43\n",
            "RMSE: 50531.02144712574\n"
          ]
        }
      ]
    },
    {
      "cell_type": "markdown",
      "id": "3bfc4e05",
      "metadata": {
        "id": "3bfc4e05"
      },
      "source": [
        "## **Задание 13 (1 балл)**\n",
        "\n",
        "- Используйте xgboost.\n",
        "- Обучите модель — на полном наборе данных с категориальными признаками. Стратегию кодирования оставьте ту, что показала себя лучшей в пункте 9.\n",
        "- Подберите оптимальные гиперпараметры.\n",
        "- Оцените качество итоговой модели, скорость обучения и скорость предсказания.\n",
        "\n"
      ]
    },
    {
      "cell_type": "code",
      "execution_count": 93,
      "id": "e7Zi-0hk9bW4",
      "metadata": {
        "id": "e7Zi-0hk9bW4",
        "outputId": "149d381c-51f5-48b3-f9d5-b06589f13846",
        "colab": {
          "base_uri": "https://localhost:8080/",
          "height": 1000
        }
      },
      "outputs": [
        {
          "output_type": "stream",
          "name": "stderr",
          "text": [
            "[I 2025-02-14 18:54:42,972] A new study created in memory with name: no-name-fe6adff9-1da8-4608-bd2c-51c8fa0cae06\n",
            "[I 2025-02-14 18:55:48,789] Trial 0 finished with value: 55924.89453125 and parameters: {'max_depth': 5, 'learning_rate': 0.0014629527913604522, 'n_estimators': 450, 'subsample': 0.9951557675857973, 'colsample_bytree': 0.7219991356987236, 'gamma': 0.0003694099915561159, 'reg_alpha': 0.0039345361852979824, 'reg_lambda': 0.000797287969081049}. Best is trial 0 with value: 55924.89453125.\n",
            "[I 2025-02-14 18:56:12,605] Trial 1 finished with value: 50753.203125 and parameters: {'max_depth': 4, 'learning_rate': 0.059616259791276105, 'n_estimators': 287, 'subsample': 0.8528704621951508, 'colsample_bytree': 0.833603531857853, 'gamma': 0.6691732232969455, 'reg_alpha': 0.0033332069863012933, 'reg_lambda': 0.004808041186238401}. Best is trial 1 with value: 50753.203125.\n",
            "[I 2025-02-14 18:56:33,145] Trial 2 finished with value: 51467.490885416664 and parameters: {'max_depth': 8, 'learning_rate': 0.03868508229178611, 'n_estimators': 111, 'subsample': 0.9272401058092161, 'colsample_bytree': 0.623003675299337, 'gamma': 0.0284223679560532, 'reg_alpha': 0.3941964870241949, 'reg_lambda': 0.00022632558888680652}. Best is trial 1 with value: 50753.203125.\n",
            "[I 2025-02-14 18:57:02,636] Trial 3 finished with value: 67034.14322916667 and parameters: {'max_depth': 4, 'learning_rate': 2.8947252290694076e-05, 'n_estimators': 405, 'subsample': 0.6630650980294064, 'colsample_bytree': 0.8554232485226074, 'gamma': 0.0005874659094962406, 'reg_alpha': 2.5671548379973347e-05, 'reg_lambda': 0.0011031964030917705}. Best is trial 1 with value: 50753.203125.\n",
            "[I 2025-02-14 18:57:59,140] Trial 4 finished with value: 52311.979166666664 and parameters: {'max_depth': 10, 'learning_rate': 0.0740087795467349, 'n_estimators': 198, 'subsample': 0.7612221923359593, 'colsample_bytree': 0.6174949893457194, 'gamma': 8.026606091086445e-05, 'reg_alpha': 1.693894106821906e-05, 'reg_lambda': 1.3123077841794601e-05}. Best is trial 1 with value: 50753.203125.\n",
            "[I 2025-02-14 18:58:49,130] Trial 5 finished with value: 67099.67317708333 and parameters: {'max_depth': 9, 'learning_rate': 5.6515441082243616e-05, 'n_estimators': 145, 'subsample': 0.9050601967712073, 'colsample_bytree': 0.835679034973987, 'gamma': 2.500487659393555e-05, 'reg_alpha': 3.151994085585869e-05, 'reg_lambda': 0.00025295791697477335}. Best is trial 1 with value: 50753.203125.\n",
            "[I 2025-02-14 18:59:17,703] Trial 6 finished with value: 50746.178385416664 and parameters: {'max_depth': 5, 'learning_rate': 0.027785917900669973, 'n_estimators': 384, 'subsample': 0.8054225800917265, 'colsample_bytree': 0.9367040358382923, 'gamma': 0.0665143483552532, 'reg_alpha': 5.8523702293233444e-05, 'reg_lambda': 0.13537141354920784}. Best is trial 6 with value: 50746.178385416664.\n",
            "[I 2025-02-14 19:00:02,385] Trial 7 finished with value: 51381.346354166664 and parameters: {'max_depth': 8, 'learning_rate': 0.026381027306415197, 'n_estimators': 238, 'subsample': 0.8278117086401395, 'colsample_bytree': 0.9854452995748768, 'gamma': 0.0015314464615428763, 'reg_alpha': 0.0009959880390872722, 'reg_lambda': 0.0005095914915922928}. Best is trial 6 with value: 50746.178385416664.\n",
            "[I 2025-02-14 19:01:19,802] Trial 8 finished with value: 66411.86848958333 and parameters: {'max_depth': 7, 'learning_rate': 6.770671866809177e-05, 'n_estimators': 463, 'subsample': 0.8689661760725627, 'colsample_bytree': 0.9341646555947237, 'gamma': 4.205800349407932e-05, 'reg_alpha': 0.003138892870505355, 'reg_lambda': 0.00022018946436805738}. Best is trial 6 with value: 50746.178385416664.\n",
            "[I 2025-02-14 19:01:53,059] Trial 9 finished with value: 62066.40625 and parameters: {'max_depth': 4, 'learning_rate': 0.0004596992860581226, 'n_estimators': 497, 'subsample': 0.8451272942983021, 'colsample_bytree': 0.8671956035402562, 'gamma': 0.00011816419788747839, 'reg_alpha': 0.05805471555684505, 'reg_lambda': 2.509031745656779e-05}. Best is trial 6 with value: 50746.178385416664.\n",
            "[I 2025-02-14 19:02:28,333] Trial 10 finished with value: 50835.51171875 and parameters: {'max_depth': 6, 'learning_rate': 0.007676509879464376, 'n_estimators': 336, 'subsample': 0.7246210754809063, 'colsample_bytree': 0.7487526789708183, 'gamma': 0.021274943746954763, 'reg_alpha': 0.00016053664665019197, 'reg_lambda': 0.7041543711359485}. Best is trial 6 with value: 50746.178385416664.\n",
            "[I 2025-02-14 19:02:48,123] Trial 11 finished with value: 52224.579427083336 and parameters: {'max_depth': 3, 'learning_rate': 0.006110203713794876, 'n_estimators': 323, 'subsample': 0.7684227783232213, 'colsample_bytree': 0.9067841718826489, 'gamma': 0.773053032295572, 'reg_alpha': 0.00038959561264989844, 'reg_lambda': 0.05764943486370584}. Best is trial 6 with value: 50746.178385416664.\n",
            "[I 2025-02-14 19:03:14,752] Trial 12 finished with value: 52096.848958333336 and parameters: {'max_depth': 5, 'learning_rate': 0.09649822495914386, 'n_estimators': 351, 'subsample': 0.6790384432225925, 'colsample_bytree': 0.7760306181795765, 'gamma': 0.8162543733425837, 'reg_alpha': 0.017719291419524816, 'reg_lambda': 0.019815510989690605}. Best is trial 6 with value: 50746.178385416664.\n",
            "[I 2025-02-14 19:03:32,253] Trial 13 finished with value: 51413.997395833336 and parameters: {'max_depth': 3, 'learning_rate': 0.010620638058300408, 'n_estimators': 283, 'subsample': 0.6067995271787561, 'colsample_bytree': 0.9837574069502732, 'gamma': 0.09684427200748624, 'reg_alpha': 0.00011664026795869761, 'reg_lambda': 0.010244935991966308}. Best is trial 6 with value: 50746.178385416664.\n",
            "[I 2025-02-14 19:03:41,128] Trial 14 finished with value: 65374.256510416664 and parameters: {'max_depth': 6, 'learning_rate': 0.0014410528819698122, 'n_estimators': 50, 'subsample': 0.8106400094261945, 'colsample_bytree': 0.9155726541946472, 'gamma': 0.11922464099442322, 'reg_alpha': 0.017498887010867516, 'reg_lambda': 0.31756656711647296}. Best is trial 6 with value: 50746.178385416664.\n",
            "[I 2025-02-14 19:04:15,364] Trial 15 finished with value: 62904.536458333336 and parameters: {'max_depth': 5, 'learning_rate': 0.0004435521608044288, 'n_estimators': 392, 'subsample': 0.9642733320194447, 'colsample_bytree': 0.8143793902769981, 'gamma': 0.00665693057475827, 'reg_alpha': 0.0014499295891031137, 'reg_lambda': 0.10454699839097112}. Best is trial 6 with value: 50746.178385416664.\n",
            "[W 2025-02-14 19:04:25,211] Trial 16 failed with parameters: {'max_depth': 4, 'learning_rate': 0.020792821792315834, 'n_estimators': 265, 'subsample': 0.8784139772234358, 'colsample_bytree': 0.7026351654812899, 'gamma': 0.18167273572247117, 'reg_alpha': 0.7007278524581062, 'reg_lambda': 0.005411977530911895} because of the following error: KeyboardInterrupt().\n",
            "Traceback (most recent call last):\n",
            "  File \"/usr/local/lib/python3.11/dist-packages/optuna/study/_optimize.py\", line 197, in _run_trial\n",
            "    value_or_values = func(trial)\n",
            "                      ^^^^^^^^^^^\n",
            "  File \"<ipython-input-93-0d566383df4a>\", line 22, in objective\n",
            "    scores = cross_val_score(pipeline, Xtrain, ytrain, cv=3,\n",
            "            ^^^^^^^^^^^^^^^^^^^^^^^^^^^^^^^^^^^^^^^^^^^^^^^\n",
            "  File \"/usr/local/lib/python3.11/dist-packages/sklearn/utils/_param_validation.py\", line 216, in wrapper\n",
            "    return func(*args, **kwargs)\n",
            "           ^^^^^^^^^^^^^^^^^^^^^\n",
            "  File \"/usr/local/lib/python3.11/dist-packages/sklearn/model_selection/_validation.py\", line 684, in cross_val_score\n",
            "    cv_results = cross_validate(\n",
            "                 ^^^^^^^^^^^^^^^\n",
            "  File \"/usr/local/lib/python3.11/dist-packages/sklearn/utils/_param_validation.py\", line 216, in wrapper\n",
            "    return func(*args, **kwargs)\n",
            "           ^^^^^^^^^^^^^^^^^^^^^\n",
            "  File \"/usr/local/lib/python3.11/dist-packages/sklearn/model_selection/_validation.py\", line 411, in cross_validate\n",
            "    results = parallel(\n",
            "              ^^^^^^^^^\n",
            "  File \"/usr/local/lib/python3.11/dist-packages/sklearn/utils/parallel.py\", line 77, in __call__\n",
            "    return super().__call__(iterable_with_config)\n",
            "           ^^^^^^^^^^^^^^^^^^^^^^^^^^^^^^^^^^^^^^\n",
            "  File \"/usr/local/lib/python3.11/dist-packages/joblib/parallel.py\", line 2007, in __call__\n",
            "    return output if self.return_generator else list(output)\n",
            "                                                ^^^^^^^^^^^^\n",
            "  File \"/usr/local/lib/python3.11/dist-packages/joblib/parallel.py\", line 1650, in _get_outputs\n",
            "    yield from self._retrieve()\n",
            "  File \"/usr/local/lib/python3.11/dist-packages/joblib/parallel.py\", line 1762, in _retrieve\n",
            "    time.sleep(0.01)\n",
            "KeyboardInterrupt\n",
            "[W 2025-02-14 19:04:25,213] Trial 16 failed with value None.\n"
          ]
        },
        {
          "output_type": "error",
          "ename": "KeyboardInterrupt",
          "evalue": "",
          "traceback": [
            "\u001b[0;31m---------------------------------------------------------------------------\u001b[0m",
            "\u001b[0;31mKeyboardInterrupt\u001b[0m                         Traceback (most recent call last)",
            "\u001b[0;32m<ipython-input-93-0d566383df4a>\u001b[0m in \u001b[0;36m<cell line: 0>\u001b[0;34m()\u001b[0m\n\u001b[1;32m     26\u001b[0m \u001b[0;34m\u001b[0m\u001b[0m\n\u001b[1;32m     27\u001b[0m \u001b[0mstudy\u001b[0m \u001b[0;34m=\u001b[0m \u001b[0moptuna\u001b[0m\u001b[0;34m.\u001b[0m\u001b[0mcreate_study\u001b[0m\u001b[0;34m(\u001b[0m\u001b[0mdirection\u001b[0m\u001b[0;34m=\u001b[0m\u001b[0;34m'minimize'\u001b[0m\u001b[0;34m)\u001b[0m\u001b[0;34m\u001b[0m\u001b[0;34m\u001b[0m\u001b[0m\n\u001b[0;32m---> 28\u001b[0;31m \u001b[0mstudy\u001b[0m\u001b[0;34m.\u001b[0m\u001b[0moptimize\u001b[0m\u001b[0;34m(\u001b[0m\u001b[0mobjective\u001b[0m\u001b[0;34m,\u001b[0m \u001b[0mn_trials\u001b[0m\u001b[0;34m=\u001b[0m\u001b[0;36m30\u001b[0m\u001b[0;34m)\u001b[0m\u001b[0;34m\u001b[0m\u001b[0;34m\u001b[0m\u001b[0m\n\u001b[0m\u001b[1;32m     29\u001b[0m \u001b[0;34m\u001b[0m\u001b[0m\n\u001b[1;32m     30\u001b[0m \u001b[0mprint\u001b[0m\u001b[0;34m(\u001b[0m\u001b[0;34m\"Лучшие параметры:\"\u001b[0m\u001b[0;34m,\u001b[0m \u001b[0mstudy\u001b[0m\u001b[0;34m.\u001b[0m\u001b[0mbest_params\u001b[0m\u001b[0;34m)\u001b[0m\u001b[0;34m\u001b[0m\u001b[0;34m\u001b[0m\u001b[0m\n",
            "\u001b[0;32m/usr/local/lib/python3.11/dist-packages/optuna/study/study.py\u001b[0m in \u001b[0;36moptimize\u001b[0;34m(self, func, n_trials, timeout, n_jobs, catch, callbacks, gc_after_trial, show_progress_bar)\u001b[0m\n\u001b[1;32m    473\u001b[0m                 \u001b[0mIf\u001b[0m \u001b[0mnested\u001b[0m \u001b[0minvocation\u001b[0m \u001b[0mof\u001b[0m \u001b[0mthis\u001b[0m \u001b[0mmethod\u001b[0m \u001b[0moccurs\u001b[0m\u001b[0;34m.\u001b[0m\u001b[0;34m\u001b[0m\u001b[0;34m\u001b[0m\u001b[0m\n\u001b[1;32m    474\u001b[0m         \"\"\"\n\u001b[0;32m--> 475\u001b[0;31m         _optimize(\n\u001b[0m\u001b[1;32m    476\u001b[0m             \u001b[0mstudy\u001b[0m\u001b[0;34m=\u001b[0m\u001b[0mself\u001b[0m\u001b[0;34m,\u001b[0m\u001b[0;34m\u001b[0m\u001b[0;34m\u001b[0m\u001b[0m\n\u001b[1;32m    477\u001b[0m             \u001b[0mfunc\u001b[0m\u001b[0;34m=\u001b[0m\u001b[0mfunc\u001b[0m\u001b[0;34m,\u001b[0m\u001b[0;34m\u001b[0m\u001b[0;34m\u001b[0m\u001b[0m\n",
            "\u001b[0;32m/usr/local/lib/python3.11/dist-packages/optuna/study/_optimize.py\u001b[0m in \u001b[0;36m_optimize\u001b[0;34m(study, func, n_trials, timeout, n_jobs, catch, callbacks, gc_after_trial, show_progress_bar)\u001b[0m\n\u001b[1;32m     61\u001b[0m     \u001b[0;32mtry\u001b[0m\u001b[0;34m:\u001b[0m\u001b[0;34m\u001b[0m\u001b[0;34m\u001b[0m\u001b[0m\n\u001b[1;32m     62\u001b[0m         \u001b[0;32mif\u001b[0m \u001b[0mn_jobs\u001b[0m \u001b[0;34m==\u001b[0m \u001b[0;36m1\u001b[0m\u001b[0;34m:\u001b[0m\u001b[0;34m\u001b[0m\u001b[0;34m\u001b[0m\u001b[0m\n\u001b[0;32m---> 63\u001b[0;31m             _optimize_sequential(\n\u001b[0m\u001b[1;32m     64\u001b[0m                 \u001b[0mstudy\u001b[0m\u001b[0;34m,\u001b[0m\u001b[0;34m\u001b[0m\u001b[0;34m\u001b[0m\u001b[0m\n\u001b[1;32m     65\u001b[0m                 \u001b[0mfunc\u001b[0m\u001b[0;34m,\u001b[0m\u001b[0;34m\u001b[0m\u001b[0;34m\u001b[0m\u001b[0m\n",
            "\u001b[0;32m/usr/local/lib/python3.11/dist-packages/optuna/study/_optimize.py\u001b[0m in \u001b[0;36m_optimize_sequential\u001b[0;34m(study, func, n_trials, timeout, catch, callbacks, gc_after_trial, reseed_sampler_rng, time_start, progress_bar)\u001b[0m\n\u001b[1;32m    158\u001b[0m \u001b[0;34m\u001b[0m\u001b[0m\n\u001b[1;32m    159\u001b[0m         \u001b[0;32mtry\u001b[0m\u001b[0;34m:\u001b[0m\u001b[0;34m\u001b[0m\u001b[0;34m\u001b[0m\u001b[0m\n\u001b[0;32m--> 160\u001b[0;31m             \u001b[0mfrozen_trial\u001b[0m \u001b[0;34m=\u001b[0m \u001b[0m_run_trial\u001b[0m\u001b[0;34m(\u001b[0m\u001b[0mstudy\u001b[0m\u001b[0;34m,\u001b[0m \u001b[0mfunc\u001b[0m\u001b[0;34m,\u001b[0m \u001b[0mcatch\u001b[0m\u001b[0;34m)\u001b[0m\u001b[0;34m\u001b[0m\u001b[0;34m\u001b[0m\u001b[0m\n\u001b[0m\u001b[1;32m    161\u001b[0m         \u001b[0;32mfinally\u001b[0m\u001b[0;34m:\u001b[0m\u001b[0;34m\u001b[0m\u001b[0;34m\u001b[0m\u001b[0m\n\u001b[1;32m    162\u001b[0m             \u001b[0;31m# The following line mitigates memory problems that can be occurred in some\u001b[0m\u001b[0;34m\u001b[0m\u001b[0;34m\u001b[0m\u001b[0m\n",
            "\u001b[0;32m/usr/local/lib/python3.11/dist-packages/optuna/study/_optimize.py\u001b[0m in \u001b[0;36m_run_trial\u001b[0;34m(study, func, catch)\u001b[0m\n\u001b[1;32m    246\u001b[0m         \u001b[0;32mand\u001b[0m \u001b[0;32mnot\u001b[0m \u001b[0misinstance\u001b[0m\u001b[0;34m(\u001b[0m\u001b[0mfunc_err\u001b[0m\u001b[0;34m,\u001b[0m \u001b[0mcatch\u001b[0m\u001b[0;34m)\u001b[0m\u001b[0;34m\u001b[0m\u001b[0;34m\u001b[0m\u001b[0m\n\u001b[1;32m    247\u001b[0m     ):\n\u001b[0;32m--> 248\u001b[0;31m         \u001b[0;32mraise\u001b[0m \u001b[0mfunc_err\u001b[0m\u001b[0;34m\u001b[0m\u001b[0;34m\u001b[0m\u001b[0m\n\u001b[0m\u001b[1;32m    249\u001b[0m     \u001b[0;32mreturn\u001b[0m \u001b[0mfrozen_trial\u001b[0m\u001b[0;34m\u001b[0m\u001b[0;34m\u001b[0m\u001b[0m\n\u001b[1;32m    250\u001b[0m \u001b[0;34m\u001b[0m\u001b[0m\n",
            "\u001b[0;32m/usr/local/lib/python3.11/dist-packages/optuna/study/_optimize.py\u001b[0m in \u001b[0;36m_run_trial\u001b[0;34m(study, func, catch)\u001b[0m\n\u001b[1;32m    195\u001b[0m     \u001b[0;32mwith\u001b[0m \u001b[0mget_heartbeat_thread\u001b[0m\u001b[0;34m(\u001b[0m\u001b[0mtrial\u001b[0m\u001b[0;34m.\u001b[0m\u001b[0m_trial_id\u001b[0m\u001b[0;34m,\u001b[0m \u001b[0mstudy\u001b[0m\u001b[0;34m.\u001b[0m\u001b[0m_storage\u001b[0m\u001b[0;34m)\u001b[0m\u001b[0;34m:\u001b[0m\u001b[0;34m\u001b[0m\u001b[0;34m\u001b[0m\u001b[0m\n\u001b[1;32m    196\u001b[0m         \u001b[0;32mtry\u001b[0m\u001b[0;34m:\u001b[0m\u001b[0;34m\u001b[0m\u001b[0;34m\u001b[0m\u001b[0m\n\u001b[0;32m--> 197\u001b[0;31m             \u001b[0mvalue_or_values\u001b[0m \u001b[0;34m=\u001b[0m \u001b[0mfunc\u001b[0m\u001b[0;34m(\u001b[0m\u001b[0mtrial\u001b[0m\u001b[0;34m)\u001b[0m\u001b[0;34m\u001b[0m\u001b[0;34m\u001b[0m\u001b[0m\n\u001b[0m\u001b[1;32m    198\u001b[0m         \u001b[0;32mexcept\u001b[0m \u001b[0mexceptions\u001b[0m\u001b[0;34m.\u001b[0m\u001b[0mTrialPruned\u001b[0m \u001b[0;32mas\u001b[0m \u001b[0me\u001b[0m\u001b[0;34m:\u001b[0m\u001b[0;34m\u001b[0m\u001b[0;34m\u001b[0m\u001b[0m\n\u001b[1;32m    199\u001b[0m             \u001b[0;31m# TODO(mamu): Handle multi-objective cases.\u001b[0m\u001b[0;34m\u001b[0m\u001b[0;34m\u001b[0m\u001b[0m\n",
            "\u001b[0;32m<ipython-input-93-0d566383df4a>\u001b[0m in \u001b[0;36mobjective\u001b[0;34m(trial)\u001b[0m\n\u001b[1;32m     20\u001b[0m     ])\n\u001b[1;32m     21\u001b[0m \u001b[0;34m\u001b[0m\u001b[0m\n\u001b[0;32m---> 22\u001b[0;31m     scores = cross_val_score(pipeline, Xtrain, ytrain, cv=3, \n\u001b[0m\u001b[1;32m     23\u001b[0m                              scoring='neg_root_mean_squared_error', n_jobs=-1)\n\u001b[1;32m     24\u001b[0m \u001b[0;34m\u001b[0m\u001b[0m\n",
            "\u001b[0;32m/usr/local/lib/python3.11/dist-packages/sklearn/utils/_param_validation.py\u001b[0m in \u001b[0;36mwrapper\u001b[0;34m(*args, **kwargs)\u001b[0m\n\u001b[1;32m    214\u001b[0m                     )\n\u001b[1;32m    215\u001b[0m                 ):\n\u001b[0;32m--> 216\u001b[0;31m                     \u001b[0;32mreturn\u001b[0m \u001b[0mfunc\u001b[0m\u001b[0;34m(\u001b[0m\u001b[0;34m*\u001b[0m\u001b[0margs\u001b[0m\u001b[0;34m,\u001b[0m \u001b[0;34m**\u001b[0m\u001b[0mkwargs\u001b[0m\u001b[0;34m)\u001b[0m\u001b[0;34m\u001b[0m\u001b[0;34m\u001b[0m\u001b[0m\n\u001b[0m\u001b[1;32m    217\u001b[0m             \u001b[0;32mexcept\u001b[0m \u001b[0mInvalidParameterError\u001b[0m \u001b[0;32mas\u001b[0m \u001b[0me\u001b[0m\u001b[0;34m:\u001b[0m\u001b[0;34m\u001b[0m\u001b[0;34m\u001b[0m\u001b[0m\n\u001b[1;32m    218\u001b[0m                 \u001b[0;31m# When the function is just a wrapper around an estimator, we allow\u001b[0m\u001b[0;34m\u001b[0m\u001b[0;34m\u001b[0m\u001b[0m\n",
            "\u001b[0;32m/usr/local/lib/python3.11/dist-packages/sklearn/model_selection/_validation.py\u001b[0m in \u001b[0;36mcross_val_score\u001b[0;34m(estimator, X, y, groups, scoring, cv, n_jobs, verbose, params, pre_dispatch, error_score)\u001b[0m\n\u001b[1;32m    682\u001b[0m     \u001b[0mscorer\u001b[0m \u001b[0;34m=\u001b[0m \u001b[0mcheck_scoring\u001b[0m\u001b[0;34m(\u001b[0m\u001b[0mestimator\u001b[0m\u001b[0;34m,\u001b[0m \u001b[0mscoring\u001b[0m\u001b[0;34m=\u001b[0m\u001b[0mscoring\u001b[0m\u001b[0;34m)\u001b[0m\u001b[0;34m\u001b[0m\u001b[0;34m\u001b[0m\u001b[0m\n\u001b[1;32m    683\u001b[0m \u001b[0;34m\u001b[0m\u001b[0m\n\u001b[0;32m--> 684\u001b[0;31m     cv_results = cross_validate(\n\u001b[0m\u001b[1;32m    685\u001b[0m         \u001b[0mestimator\u001b[0m\u001b[0;34m=\u001b[0m\u001b[0mestimator\u001b[0m\u001b[0;34m,\u001b[0m\u001b[0;34m\u001b[0m\u001b[0;34m\u001b[0m\u001b[0m\n\u001b[1;32m    686\u001b[0m         \u001b[0mX\u001b[0m\u001b[0;34m=\u001b[0m\u001b[0mX\u001b[0m\u001b[0;34m,\u001b[0m\u001b[0;34m\u001b[0m\u001b[0;34m\u001b[0m\u001b[0m\n",
            "\u001b[0;32m/usr/local/lib/python3.11/dist-packages/sklearn/utils/_param_validation.py\u001b[0m in \u001b[0;36mwrapper\u001b[0;34m(*args, **kwargs)\u001b[0m\n\u001b[1;32m    214\u001b[0m                     )\n\u001b[1;32m    215\u001b[0m                 ):\n\u001b[0;32m--> 216\u001b[0;31m                     \u001b[0;32mreturn\u001b[0m \u001b[0mfunc\u001b[0m\u001b[0;34m(\u001b[0m\u001b[0;34m*\u001b[0m\u001b[0margs\u001b[0m\u001b[0;34m,\u001b[0m \u001b[0;34m**\u001b[0m\u001b[0mkwargs\u001b[0m\u001b[0;34m)\u001b[0m\u001b[0;34m\u001b[0m\u001b[0;34m\u001b[0m\u001b[0m\n\u001b[0m\u001b[1;32m    217\u001b[0m             \u001b[0;32mexcept\u001b[0m \u001b[0mInvalidParameterError\u001b[0m \u001b[0;32mas\u001b[0m \u001b[0me\u001b[0m\u001b[0;34m:\u001b[0m\u001b[0;34m\u001b[0m\u001b[0;34m\u001b[0m\u001b[0m\n\u001b[1;32m    218\u001b[0m                 \u001b[0;31m# When the function is just a wrapper around an estimator, we allow\u001b[0m\u001b[0;34m\u001b[0m\u001b[0;34m\u001b[0m\u001b[0m\n",
            "\u001b[0;32m/usr/local/lib/python3.11/dist-packages/sklearn/model_selection/_validation.py\u001b[0m in \u001b[0;36mcross_validate\u001b[0;34m(estimator, X, y, groups, scoring, cv, n_jobs, verbose, params, pre_dispatch, return_train_score, return_estimator, return_indices, error_score)\u001b[0m\n\u001b[1;32m    409\u001b[0m     \u001b[0;31m# independent, and that it is pickle-able.\u001b[0m\u001b[0;34m\u001b[0m\u001b[0;34m\u001b[0m\u001b[0m\n\u001b[1;32m    410\u001b[0m     \u001b[0mparallel\u001b[0m \u001b[0;34m=\u001b[0m \u001b[0mParallel\u001b[0m\u001b[0;34m(\u001b[0m\u001b[0mn_jobs\u001b[0m\u001b[0;34m=\u001b[0m\u001b[0mn_jobs\u001b[0m\u001b[0;34m,\u001b[0m \u001b[0mverbose\u001b[0m\u001b[0;34m=\u001b[0m\u001b[0mverbose\u001b[0m\u001b[0;34m,\u001b[0m \u001b[0mpre_dispatch\u001b[0m\u001b[0;34m=\u001b[0m\u001b[0mpre_dispatch\u001b[0m\u001b[0;34m)\u001b[0m\u001b[0;34m\u001b[0m\u001b[0;34m\u001b[0m\u001b[0m\n\u001b[0;32m--> 411\u001b[0;31m     results = parallel(\n\u001b[0m\u001b[1;32m    412\u001b[0m         delayed(_fit_and_score)(\n\u001b[1;32m    413\u001b[0m             \u001b[0mclone\u001b[0m\u001b[0;34m(\u001b[0m\u001b[0mestimator\u001b[0m\u001b[0;34m)\u001b[0m\u001b[0;34m,\u001b[0m\u001b[0;34m\u001b[0m\u001b[0;34m\u001b[0m\u001b[0m\n",
            "\u001b[0;32m/usr/local/lib/python3.11/dist-packages/sklearn/utils/parallel.py\u001b[0m in \u001b[0;36m__call__\u001b[0;34m(self, iterable)\u001b[0m\n\u001b[1;32m     75\u001b[0m             \u001b[0;32mfor\u001b[0m \u001b[0mdelayed_func\u001b[0m\u001b[0;34m,\u001b[0m \u001b[0margs\u001b[0m\u001b[0;34m,\u001b[0m \u001b[0mkwargs\u001b[0m \u001b[0;32min\u001b[0m \u001b[0miterable\u001b[0m\u001b[0;34m\u001b[0m\u001b[0;34m\u001b[0m\u001b[0m\n\u001b[1;32m     76\u001b[0m         )\n\u001b[0;32m---> 77\u001b[0;31m         \u001b[0;32mreturn\u001b[0m \u001b[0msuper\u001b[0m\u001b[0;34m(\u001b[0m\u001b[0;34m)\u001b[0m\u001b[0;34m.\u001b[0m\u001b[0m__call__\u001b[0m\u001b[0;34m(\u001b[0m\u001b[0miterable_with_config\u001b[0m\u001b[0;34m)\u001b[0m\u001b[0;34m\u001b[0m\u001b[0;34m\u001b[0m\u001b[0m\n\u001b[0m\u001b[1;32m     78\u001b[0m \u001b[0;34m\u001b[0m\u001b[0m\n\u001b[1;32m     79\u001b[0m \u001b[0;34m\u001b[0m\u001b[0m\n",
            "\u001b[0;32m/usr/local/lib/python3.11/dist-packages/joblib/parallel.py\u001b[0m in \u001b[0;36m__call__\u001b[0;34m(self, iterable)\u001b[0m\n\u001b[1;32m   2005\u001b[0m         \u001b[0mnext\u001b[0m\u001b[0;34m(\u001b[0m\u001b[0moutput\u001b[0m\u001b[0;34m)\u001b[0m\u001b[0;34m\u001b[0m\u001b[0;34m\u001b[0m\u001b[0m\n\u001b[1;32m   2006\u001b[0m \u001b[0;34m\u001b[0m\u001b[0m\n\u001b[0;32m-> 2007\u001b[0;31m         \u001b[0;32mreturn\u001b[0m \u001b[0moutput\u001b[0m \u001b[0;32mif\u001b[0m \u001b[0mself\u001b[0m\u001b[0;34m.\u001b[0m\u001b[0mreturn_generator\u001b[0m \u001b[0;32melse\u001b[0m \u001b[0mlist\u001b[0m\u001b[0;34m(\u001b[0m\u001b[0moutput\u001b[0m\u001b[0;34m)\u001b[0m\u001b[0;34m\u001b[0m\u001b[0;34m\u001b[0m\u001b[0m\n\u001b[0m\u001b[1;32m   2008\u001b[0m \u001b[0;34m\u001b[0m\u001b[0m\n\u001b[1;32m   2009\u001b[0m     \u001b[0;32mdef\u001b[0m \u001b[0m__repr__\u001b[0m\u001b[0;34m(\u001b[0m\u001b[0mself\u001b[0m\u001b[0;34m)\u001b[0m\u001b[0;34m:\u001b[0m\u001b[0;34m\u001b[0m\u001b[0;34m\u001b[0m\u001b[0m\n",
            "\u001b[0;32m/usr/local/lib/python3.11/dist-packages/joblib/parallel.py\u001b[0m in \u001b[0;36m_get_outputs\u001b[0;34m(self, iterator, pre_dispatch)\u001b[0m\n\u001b[1;32m   1648\u001b[0m \u001b[0;34m\u001b[0m\u001b[0m\n\u001b[1;32m   1649\u001b[0m             \u001b[0;32mwith\u001b[0m \u001b[0mself\u001b[0m\u001b[0;34m.\u001b[0m\u001b[0m_backend\u001b[0m\u001b[0;34m.\u001b[0m\u001b[0mretrieval_context\u001b[0m\u001b[0;34m(\u001b[0m\u001b[0;34m)\u001b[0m\u001b[0;34m:\u001b[0m\u001b[0;34m\u001b[0m\u001b[0;34m\u001b[0m\u001b[0m\n\u001b[0;32m-> 1650\u001b[0;31m                 \u001b[0;32myield\u001b[0m \u001b[0;32mfrom\u001b[0m \u001b[0mself\u001b[0m\u001b[0;34m.\u001b[0m\u001b[0m_retrieve\u001b[0m\u001b[0;34m(\u001b[0m\u001b[0;34m)\u001b[0m\u001b[0;34m\u001b[0m\u001b[0;34m\u001b[0m\u001b[0m\n\u001b[0m\u001b[1;32m   1651\u001b[0m \u001b[0;34m\u001b[0m\u001b[0m\n\u001b[1;32m   1652\u001b[0m         \u001b[0;32mexcept\u001b[0m \u001b[0mGeneratorExit\u001b[0m\u001b[0;34m:\u001b[0m\u001b[0;34m\u001b[0m\u001b[0;34m\u001b[0m\u001b[0m\n",
            "\u001b[0;32m/usr/local/lib/python3.11/dist-packages/joblib/parallel.py\u001b[0m in \u001b[0;36m_retrieve\u001b[0;34m(self)\u001b[0m\n\u001b[1;32m   1760\u001b[0m                 (self._jobs[0].get_status(\n\u001b[1;32m   1761\u001b[0m                     timeout=self.timeout) == TASK_PENDING)):\n\u001b[0;32m-> 1762\u001b[0;31m                 \u001b[0mtime\u001b[0m\u001b[0;34m.\u001b[0m\u001b[0msleep\u001b[0m\u001b[0;34m(\u001b[0m\u001b[0;36m0.01\u001b[0m\u001b[0;34m)\u001b[0m\u001b[0;34m\u001b[0m\u001b[0;34m\u001b[0m\u001b[0m\n\u001b[0m\u001b[1;32m   1763\u001b[0m                 \u001b[0;32mcontinue\u001b[0m\u001b[0;34m\u001b[0m\u001b[0;34m\u001b[0m\u001b[0m\n\u001b[1;32m   1764\u001b[0m \u001b[0;34m\u001b[0m\u001b[0m\n",
            "\u001b[0;31mKeyboardInterrupt\u001b[0m: "
          ]
        }
      ],
      "source": [
        "def objective(trial):\n",
        "\n",
        "    param = {\n",
        "        'max_depth': trial.suggest_int('max_depth', 3, 10),\n",
        "        'learning_rate': trial.suggest_loguniform('learning_rate', 1e-5, 0.1),\n",
        "        'n_estimators': trial.suggest_int('n_estimators', 50, 500),\n",
        "        'subsample': trial.suggest_uniform('subsample', 0.6, 1.0),\n",
        "        'colsample_bytree': trial.suggest_uniform('colsample_bytree', 0.6, 1.0),\n",
        "        'gamma': trial.suggest_loguniform('gamma', 1e-5, 1.0),\n",
        "        'reg_alpha': trial.suggest_loguniform('reg_alpha', 1e-5, 1.0),\n",
        "        'reg_lambda': trial.suggest_loguniform('reg_lambda', 1e-5, 1.0)\n",
        "    }\n",
        "\n",
        "    model = xgb.XGBRegressor(random_state=42, **param)\n",
        "\n",
        "    pipeline = Pipeline([\n",
        "        ('high_salary_transformer', high_salary_transformer),\n",
        "        ('column_transformer', ct_te),\n",
        "        ('model', model)\n",
        "    ])\n",
        "\n",
        "    scores = cross_val_score(pipeline, Xtrain, ytrain, cv=3,\n",
        "                             scoring='neg_root_mean_squared_error', n_jobs=-1)\n",
        "\n",
        "    return -scores.mean()\n",
        "\n",
        "study = optuna.create_study(direction='minimize')\n",
        "study.optimize(objective, n_trials=30)\n",
        "\n",
        "print(\"Лучшие параметры:\", study.best_params)\n",
        "print(\"Лучший RMSE:\", study.best_value)"
      ]
    },
    {
      "cell_type": "code",
      "source": [
        "model = xgb.XGBRegressor(random_state=42, **study.best_params)\n",
        "\n",
        "pipeline = Pipeline([\n",
        "    ('high_salary_transformer', high_salary_transformer),\n",
        "    ('column_transformer', ct_te),\n",
        "    ('model', model)\n",
        "])\n",
        "\n",
        "pipeline.fit(Xtrain, ytrain)\n",
        "\n",
        "print_metrics(ytest, pipeline.predict(Xtrain))"
      ],
      "metadata": {
        "id": "IMlA3m4W0D_C"
      },
      "id": "IMlA3m4W0D_C",
      "execution_count": null,
      "outputs": []
    },
    {
      "cell_type": "markdown",
      "id": "a881ad9d",
      "metadata": {
        "id": "a881ad9d"
      },
      "source": [
        "## **Задание 14 (1 балл)**\n",
        "\n",
        "- Используйте lgbm.\n",
        "- Обучите модель — на полном наборе данных с категориальными признаками. Стратегию кодирования оставьте ту, что показала себя лучшей в пункте 9.\n",
        "- Подберите оптимальные гиперпараметры.\n",
        "- Оцените качество итоговой модели, скорость обучения и скорость предсказания.\n"
      ]
    },
    {
      "cell_type": "code",
      "execution_count": 55,
      "id": "weXtNlM49fYL",
      "metadata": {
        "id": "weXtNlM49fYL",
        "outputId": "d0bc4280-e908-41bc-de26-ac72480f435a",
        "colab": {
          "base_uri": "https://localhost:8080/",
          "height": 1000
        }
      },
      "outputs": [
        {
          "output_type": "stream",
          "name": "stderr",
          "text": [
            "[I 2025-02-14 18:45:29,203] A new study created in memory with name: no-name-546b7f80-063a-4c50-9f04-a49e0ceeb830\n",
            "<ipython-input-55-48551833bfed>:12: FutureWarning: suggest_loguniform has been deprecated in v3.0.0. This feature will be removed in v6.0.0. See https://github.com/optuna/optuna/releases/tag/v3.0.0. Use suggest_float(..., log=True) instead.\n",
            "  'learning_rate': trial.suggest_loguniform('learning_rate', 1e-5, 0.1),  # маленький learning_rate для лучшего обучения\n",
            "<ipython-input-55-48551833bfed>:14: FutureWarning: suggest_uniform has been deprecated in v3.0.0. This feature will be removed in v6.0.0. See https://github.com/optuna/optuna/releases/tag/v3.0.0. Use suggest_float instead.\n",
            "  'subsample': trial.suggest_uniform('subsample', 0.7, 1.0),  # агрегация через случайный подбор\n",
            "<ipython-input-55-48551833bfed>:15: FutureWarning: suggest_uniform has been deprecated in v3.0.0. This feature will be removed in v6.0.0. See https://github.com/optuna/optuna/releases/tag/v3.0.0. Use suggest_float instead.\n",
            "  'colsample_bytree': trial.suggest_uniform('colsample_bytree', 0.7, 1.0),  # случайный выбор признаков\n",
            "<ipython-input-55-48551833bfed>:17: FutureWarning: suggest_loguniform has been deprecated in v3.0.0. This feature will be removed in v6.0.0. See https://github.com/optuna/optuna/releases/tag/v3.0.0. Use suggest_float(..., log=True) instead.\n",
            "  'reg_alpha': trial.suggest_loguniform('reg_alpha', 1e-5, 1.0),  # L1 регуляризация для борьбы с переобучением\n",
            "<ipython-input-55-48551833bfed>:18: FutureWarning: suggest_loguniform has been deprecated in v3.0.0. This feature will be removed in v6.0.0. See https://github.com/optuna/optuna/releases/tag/v3.0.0. Use suggest_float(..., log=True) instead.\n",
            "  'reg_lambda': trial.suggest_loguniform('reg_lambda', 1e-5, 1.0),  # L2 регуляризация\n",
            "[I 2025-02-14 18:45:44,382] Trial 0 finished with value: 67285.49613110082 and parameters: {'num_leaves': 59, 'max_depth': 6, 'learning_rate': 1.2671600312505534e-05, 'n_estimators': 212, 'subsample': 0.750142736591164, 'colsample_bytree': 0.9030838373941293, 'min_child_samples': 99, 'reg_alpha': 5.830175497425852e-05, 'reg_lambda': 0.00037465806150813435}. Best is trial 0 with value: 67285.49613110082.\n",
            "[I 2025-02-14 18:45:58,965] Trial 1 finished with value: 65108.308069571125 and parameters: {'num_leaves': 104, 'max_depth': 5, 'learning_rate': 0.0003265753415433152, 'n_estimators': 282, 'subsample': 0.7244796308411862, 'colsample_bytree': 0.9244153318384056, 'min_child_samples': 84, 'reg_alpha': 4.460202630971057e-05, 'reg_lambda': 0.00011202547383845864}. Best is trial 1 with value: 65108.308069571125.\n",
            "[I 2025-02-14 18:46:10,827] Trial 2 finished with value: 64130.00105302253 and parameters: {'num_leaves': 62, 'max_depth': 8, 'learning_rate': 0.0009456491705709858, 'n_estimators': 136, 'subsample': 0.874421650880673, 'colsample_bytree': 0.9491013026869742, 'min_child_samples': 43, 'reg_alpha': 0.09288745681496245, 'reg_lambda': 1.966431966798455e-05}. Best is trial 2 with value: 64130.00105302253.\n",
            "[I 2025-02-14 18:46:26,145] Trial 3 finished with value: 57187.01490360635 and parameters: {'num_leaves': 116, 'max_depth': 8, 'learning_rate': 0.0026348567169281675, 'n_estimators': 215, 'subsample': 0.8192431801190816, 'colsample_bytree': 0.9701953085009749, 'min_child_samples': 55, 'reg_alpha': 0.04464994933625432, 'reg_lambda': 0.0007277797647015053}. Best is trial 3 with value: 57187.01490360635.\n",
            "[I 2025-02-14 18:46:41,784] Trial 4 finished with value: 49753.23539459976 and parameters: {'num_leaves': 101, 'max_depth': 10, 'learning_rate': 0.023807190345964787, 'n_estimators': 216, 'subsample': 0.9810626300062907, 'colsample_bytree': 0.885840769223888, 'min_child_samples': 88, 'reg_alpha': 0.003060853082904428, 'reg_lambda': 0.016476954666339794}. Best is trial 4 with value: 49753.23539459976.\n",
            "[W 2025-02-14 18:46:49,923] Trial 5 failed with parameters: {'num_leaves': 38, 'max_depth': 7, 'learning_rate': 0.0034556222331670367, 'n_estimators': 207, 'subsample': 0.9009554756916267, 'colsample_bytree': 0.9284510972526054, 'min_child_samples': 74, 'reg_alpha': 0.05479638334757832, 'reg_lambda': 0.005305122008016618} because of the following error: KeyboardInterrupt().\n",
            "Traceback (most recent call last):\n",
            "  File \"/usr/local/lib/python3.11/dist-packages/optuna/study/_optimize.py\", line 197, in _run_trial\n",
            "    value_or_values = func(trial)\n",
            "                      ^^^^^^^^^^^\n",
            "  File \"<ipython-input-55-48551833bfed>\", line 32, in objective\n",
            "    scores = cross_val_score(pipeline, Xtrain, ytrain, cv=3,\n",
            "            ^^^^^^^^^^^^^^^^^^^^^^^^^^^^^^^^^^^^^^^^^^^^^^^\n",
            "  File \"/usr/local/lib/python3.11/dist-packages/sklearn/utils/_param_validation.py\", line 216, in wrapper\n",
            "    return func(*args, **kwargs)\n",
            "           ^^^^^^^^^^^^^^^^^^^^^\n",
            "  File \"/usr/local/lib/python3.11/dist-packages/sklearn/model_selection/_validation.py\", line 684, in cross_val_score\n",
            "    cv_results = cross_validate(\n",
            "                 ^^^^^^^^^^^^^^^\n",
            "  File \"/usr/local/lib/python3.11/dist-packages/sklearn/utils/_param_validation.py\", line 216, in wrapper\n",
            "    return func(*args, **kwargs)\n",
            "           ^^^^^^^^^^^^^^^^^^^^^\n",
            "  File \"/usr/local/lib/python3.11/dist-packages/sklearn/model_selection/_validation.py\", line 411, in cross_validate\n",
            "    results = parallel(\n",
            "              ^^^^^^^^^\n",
            "  File \"/usr/local/lib/python3.11/dist-packages/sklearn/utils/parallel.py\", line 77, in __call__\n",
            "    return super().__call__(iterable_with_config)\n",
            "           ^^^^^^^^^^^^^^^^^^^^^^^^^^^^^^^^^^^^^^\n",
            "  File \"/usr/local/lib/python3.11/dist-packages/joblib/parallel.py\", line 2007, in __call__\n",
            "    return output if self.return_generator else list(output)\n",
            "                                                ^^^^^^^^^^^^\n",
            "  File \"/usr/local/lib/python3.11/dist-packages/joblib/parallel.py\", line 1650, in _get_outputs\n",
            "    yield from self._retrieve()\n",
            "  File \"/usr/local/lib/python3.11/dist-packages/joblib/parallel.py\", line 1762, in _retrieve\n",
            "    time.sleep(0.01)\n",
            "KeyboardInterrupt\n",
            "[W 2025-02-14 18:46:49,926] Trial 5 failed with value None.\n"
          ]
        },
        {
          "output_type": "error",
          "ename": "KeyboardInterrupt",
          "evalue": "",
          "traceback": [
            "\u001b[0;31m---------------------------------------------------------------------------\u001b[0m",
            "\u001b[0;31mKeyboardInterrupt\u001b[0m                         Traceback (most recent call last)",
            "\u001b[0;32m<ipython-input-55-48551833bfed>\u001b[0m in \u001b[0;36m<cell line: 0>\u001b[0;34m()\u001b[0m\n\u001b[1;32m     38\u001b[0m \u001b[0;31m# Создаем и запускаем исследование\u001b[0m\u001b[0;34m\u001b[0m\u001b[0;34m\u001b[0m\u001b[0m\n\u001b[1;32m     39\u001b[0m \u001b[0mstudy\u001b[0m \u001b[0;34m=\u001b[0m \u001b[0moptuna\u001b[0m\u001b[0;34m.\u001b[0m\u001b[0mcreate_study\u001b[0m\u001b[0;34m(\u001b[0m\u001b[0mdirection\u001b[0m\u001b[0;34m=\u001b[0m\u001b[0;34m'minimize'\u001b[0m\u001b[0;34m)\u001b[0m  \u001b[0;31m# минимизируем RMSE\u001b[0m\u001b[0;34m\u001b[0m\u001b[0;34m\u001b[0m\u001b[0m\n\u001b[0;32m---> 40\u001b[0;31m \u001b[0mstudy\u001b[0m\u001b[0;34m.\u001b[0m\u001b[0moptimize\u001b[0m\u001b[0;34m(\u001b[0m\u001b[0mobjective\u001b[0m\u001b[0;34m,\u001b[0m \u001b[0mn_trials\u001b[0m\u001b[0;34m=\u001b[0m\u001b[0;36m30\u001b[0m\u001b[0;34m)\u001b[0m\u001b[0;34m\u001b[0m\u001b[0;34m\u001b[0m\u001b[0m\n\u001b[0m\u001b[1;32m     41\u001b[0m \u001b[0;34m\u001b[0m\u001b[0m\n\u001b[1;32m     42\u001b[0m \u001b[0;31m# Результаты оптимизации\u001b[0m\u001b[0;34m\u001b[0m\u001b[0;34m\u001b[0m\u001b[0m\n",
            "\u001b[0;32m/usr/local/lib/python3.11/dist-packages/optuna/study/study.py\u001b[0m in \u001b[0;36moptimize\u001b[0;34m(self, func, n_trials, timeout, n_jobs, catch, callbacks, gc_after_trial, show_progress_bar)\u001b[0m\n\u001b[1;32m    473\u001b[0m                 \u001b[0mIf\u001b[0m \u001b[0mnested\u001b[0m \u001b[0minvocation\u001b[0m \u001b[0mof\u001b[0m \u001b[0mthis\u001b[0m \u001b[0mmethod\u001b[0m \u001b[0moccurs\u001b[0m\u001b[0;34m.\u001b[0m\u001b[0;34m\u001b[0m\u001b[0;34m\u001b[0m\u001b[0m\n\u001b[1;32m    474\u001b[0m         \"\"\"\n\u001b[0;32m--> 475\u001b[0;31m         _optimize(\n\u001b[0m\u001b[1;32m    476\u001b[0m             \u001b[0mstudy\u001b[0m\u001b[0;34m=\u001b[0m\u001b[0mself\u001b[0m\u001b[0;34m,\u001b[0m\u001b[0;34m\u001b[0m\u001b[0;34m\u001b[0m\u001b[0m\n\u001b[1;32m    477\u001b[0m             \u001b[0mfunc\u001b[0m\u001b[0;34m=\u001b[0m\u001b[0mfunc\u001b[0m\u001b[0;34m,\u001b[0m\u001b[0;34m\u001b[0m\u001b[0;34m\u001b[0m\u001b[0m\n",
            "\u001b[0;32m/usr/local/lib/python3.11/dist-packages/optuna/study/_optimize.py\u001b[0m in \u001b[0;36m_optimize\u001b[0;34m(study, func, n_trials, timeout, n_jobs, catch, callbacks, gc_after_trial, show_progress_bar)\u001b[0m\n\u001b[1;32m     61\u001b[0m     \u001b[0;32mtry\u001b[0m\u001b[0;34m:\u001b[0m\u001b[0;34m\u001b[0m\u001b[0;34m\u001b[0m\u001b[0m\n\u001b[1;32m     62\u001b[0m         \u001b[0;32mif\u001b[0m \u001b[0mn_jobs\u001b[0m \u001b[0;34m==\u001b[0m \u001b[0;36m1\u001b[0m\u001b[0;34m:\u001b[0m\u001b[0;34m\u001b[0m\u001b[0;34m\u001b[0m\u001b[0m\n\u001b[0;32m---> 63\u001b[0;31m             _optimize_sequential(\n\u001b[0m\u001b[1;32m     64\u001b[0m                 \u001b[0mstudy\u001b[0m\u001b[0;34m,\u001b[0m\u001b[0;34m\u001b[0m\u001b[0;34m\u001b[0m\u001b[0m\n\u001b[1;32m     65\u001b[0m                 \u001b[0mfunc\u001b[0m\u001b[0;34m,\u001b[0m\u001b[0;34m\u001b[0m\u001b[0;34m\u001b[0m\u001b[0m\n",
            "\u001b[0;32m/usr/local/lib/python3.11/dist-packages/optuna/study/_optimize.py\u001b[0m in \u001b[0;36m_optimize_sequential\u001b[0;34m(study, func, n_trials, timeout, catch, callbacks, gc_after_trial, reseed_sampler_rng, time_start, progress_bar)\u001b[0m\n\u001b[1;32m    158\u001b[0m \u001b[0;34m\u001b[0m\u001b[0m\n\u001b[1;32m    159\u001b[0m         \u001b[0;32mtry\u001b[0m\u001b[0;34m:\u001b[0m\u001b[0;34m\u001b[0m\u001b[0;34m\u001b[0m\u001b[0m\n\u001b[0;32m--> 160\u001b[0;31m             \u001b[0mfrozen_trial\u001b[0m \u001b[0;34m=\u001b[0m \u001b[0m_run_trial\u001b[0m\u001b[0;34m(\u001b[0m\u001b[0mstudy\u001b[0m\u001b[0;34m,\u001b[0m \u001b[0mfunc\u001b[0m\u001b[0;34m,\u001b[0m \u001b[0mcatch\u001b[0m\u001b[0;34m)\u001b[0m\u001b[0;34m\u001b[0m\u001b[0;34m\u001b[0m\u001b[0m\n\u001b[0m\u001b[1;32m    161\u001b[0m         \u001b[0;32mfinally\u001b[0m\u001b[0;34m:\u001b[0m\u001b[0;34m\u001b[0m\u001b[0;34m\u001b[0m\u001b[0m\n\u001b[1;32m    162\u001b[0m             \u001b[0;31m# The following line mitigates memory problems that can be occurred in some\u001b[0m\u001b[0;34m\u001b[0m\u001b[0;34m\u001b[0m\u001b[0m\n",
            "\u001b[0;32m/usr/local/lib/python3.11/dist-packages/optuna/study/_optimize.py\u001b[0m in \u001b[0;36m_run_trial\u001b[0;34m(study, func, catch)\u001b[0m\n\u001b[1;32m    246\u001b[0m         \u001b[0;32mand\u001b[0m \u001b[0;32mnot\u001b[0m \u001b[0misinstance\u001b[0m\u001b[0;34m(\u001b[0m\u001b[0mfunc_err\u001b[0m\u001b[0;34m,\u001b[0m \u001b[0mcatch\u001b[0m\u001b[0;34m)\u001b[0m\u001b[0;34m\u001b[0m\u001b[0;34m\u001b[0m\u001b[0m\n\u001b[1;32m    247\u001b[0m     ):\n\u001b[0;32m--> 248\u001b[0;31m         \u001b[0;32mraise\u001b[0m \u001b[0mfunc_err\u001b[0m\u001b[0;34m\u001b[0m\u001b[0;34m\u001b[0m\u001b[0m\n\u001b[0m\u001b[1;32m    249\u001b[0m     \u001b[0;32mreturn\u001b[0m \u001b[0mfrozen_trial\u001b[0m\u001b[0;34m\u001b[0m\u001b[0;34m\u001b[0m\u001b[0m\n\u001b[1;32m    250\u001b[0m \u001b[0;34m\u001b[0m\u001b[0m\n",
            "\u001b[0;32m/usr/local/lib/python3.11/dist-packages/optuna/study/_optimize.py\u001b[0m in \u001b[0;36m_run_trial\u001b[0;34m(study, func, catch)\u001b[0m\n\u001b[1;32m    195\u001b[0m     \u001b[0;32mwith\u001b[0m \u001b[0mget_heartbeat_thread\u001b[0m\u001b[0;34m(\u001b[0m\u001b[0mtrial\u001b[0m\u001b[0;34m.\u001b[0m\u001b[0m_trial_id\u001b[0m\u001b[0;34m,\u001b[0m \u001b[0mstudy\u001b[0m\u001b[0;34m.\u001b[0m\u001b[0m_storage\u001b[0m\u001b[0;34m)\u001b[0m\u001b[0;34m:\u001b[0m\u001b[0;34m\u001b[0m\u001b[0;34m\u001b[0m\u001b[0m\n\u001b[1;32m    196\u001b[0m         \u001b[0;32mtry\u001b[0m\u001b[0;34m:\u001b[0m\u001b[0;34m\u001b[0m\u001b[0;34m\u001b[0m\u001b[0m\n\u001b[0;32m--> 197\u001b[0;31m             \u001b[0mvalue_or_values\u001b[0m \u001b[0;34m=\u001b[0m \u001b[0mfunc\u001b[0m\u001b[0;34m(\u001b[0m\u001b[0mtrial\u001b[0m\u001b[0;34m)\u001b[0m\u001b[0;34m\u001b[0m\u001b[0;34m\u001b[0m\u001b[0m\n\u001b[0m\u001b[1;32m    198\u001b[0m         \u001b[0;32mexcept\u001b[0m \u001b[0mexceptions\u001b[0m\u001b[0;34m.\u001b[0m\u001b[0mTrialPruned\u001b[0m \u001b[0;32mas\u001b[0m \u001b[0me\u001b[0m\u001b[0;34m:\u001b[0m\u001b[0;34m\u001b[0m\u001b[0;34m\u001b[0m\u001b[0m\n\u001b[1;32m    199\u001b[0m             \u001b[0;31m# TODO(mamu): Handle multi-objective cases.\u001b[0m\u001b[0;34m\u001b[0m\u001b[0;34m\u001b[0m\u001b[0m\n",
            "\u001b[0;32m<ipython-input-55-48551833bfed>\u001b[0m in \u001b[0;36mobjective\u001b[0;34m(trial)\u001b[0m\n\u001b[1;32m     30\u001b[0m \u001b[0;34m\u001b[0m\u001b[0m\n\u001b[1;32m     31\u001b[0m     \u001b[0;31m# Кросс-валидация с использованием RMSE\u001b[0m\u001b[0;34m\u001b[0m\u001b[0;34m\u001b[0m\u001b[0m\n\u001b[0;32m---> 32\u001b[0;31m     scores = cross_val_score(pipeline, Xtrain, ytrain, cv=3, \n\u001b[0m\u001b[1;32m     33\u001b[0m                              scoring='neg_root_mean_squared_error', n_jobs=-1)\n\u001b[1;32m     34\u001b[0m \u001b[0;34m\u001b[0m\u001b[0m\n",
            "\u001b[0;32m/usr/local/lib/python3.11/dist-packages/sklearn/utils/_param_validation.py\u001b[0m in \u001b[0;36mwrapper\u001b[0;34m(*args, **kwargs)\u001b[0m\n\u001b[1;32m    214\u001b[0m                     )\n\u001b[1;32m    215\u001b[0m                 ):\n\u001b[0;32m--> 216\u001b[0;31m                     \u001b[0;32mreturn\u001b[0m \u001b[0mfunc\u001b[0m\u001b[0;34m(\u001b[0m\u001b[0;34m*\u001b[0m\u001b[0margs\u001b[0m\u001b[0;34m,\u001b[0m \u001b[0;34m**\u001b[0m\u001b[0mkwargs\u001b[0m\u001b[0;34m)\u001b[0m\u001b[0;34m\u001b[0m\u001b[0;34m\u001b[0m\u001b[0m\n\u001b[0m\u001b[1;32m    217\u001b[0m             \u001b[0;32mexcept\u001b[0m \u001b[0mInvalidParameterError\u001b[0m \u001b[0;32mas\u001b[0m \u001b[0me\u001b[0m\u001b[0;34m:\u001b[0m\u001b[0;34m\u001b[0m\u001b[0;34m\u001b[0m\u001b[0m\n\u001b[1;32m    218\u001b[0m                 \u001b[0;31m# When the function is just a wrapper around an estimator, we allow\u001b[0m\u001b[0;34m\u001b[0m\u001b[0;34m\u001b[0m\u001b[0m\n",
            "\u001b[0;32m/usr/local/lib/python3.11/dist-packages/sklearn/model_selection/_validation.py\u001b[0m in \u001b[0;36mcross_val_score\u001b[0;34m(estimator, X, y, groups, scoring, cv, n_jobs, verbose, params, pre_dispatch, error_score)\u001b[0m\n\u001b[1;32m    682\u001b[0m     \u001b[0mscorer\u001b[0m \u001b[0;34m=\u001b[0m \u001b[0mcheck_scoring\u001b[0m\u001b[0;34m(\u001b[0m\u001b[0mestimator\u001b[0m\u001b[0;34m,\u001b[0m \u001b[0mscoring\u001b[0m\u001b[0;34m=\u001b[0m\u001b[0mscoring\u001b[0m\u001b[0;34m)\u001b[0m\u001b[0;34m\u001b[0m\u001b[0;34m\u001b[0m\u001b[0m\n\u001b[1;32m    683\u001b[0m \u001b[0;34m\u001b[0m\u001b[0m\n\u001b[0;32m--> 684\u001b[0;31m     cv_results = cross_validate(\n\u001b[0m\u001b[1;32m    685\u001b[0m         \u001b[0mestimator\u001b[0m\u001b[0;34m=\u001b[0m\u001b[0mestimator\u001b[0m\u001b[0;34m,\u001b[0m\u001b[0;34m\u001b[0m\u001b[0;34m\u001b[0m\u001b[0m\n\u001b[1;32m    686\u001b[0m         \u001b[0mX\u001b[0m\u001b[0;34m=\u001b[0m\u001b[0mX\u001b[0m\u001b[0;34m,\u001b[0m\u001b[0;34m\u001b[0m\u001b[0;34m\u001b[0m\u001b[0m\n",
            "\u001b[0;32m/usr/local/lib/python3.11/dist-packages/sklearn/utils/_param_validation.py\u001b[0m in \u001b[0;36mwrapper\u001b[0;34m(*args, **kwargs)\u001b[0m\n\u001b[1;32m    214\u001b[0m                     )\n\u001b[1;32m    215\u001b[0m                 ):\n\u001b[0;32m--> 216\u001b[0;31m                     \u001b[0;32mreturn\u001b[0m \u001b[0mfunc\u001b[0m\u001b[0;34m(\u001b[0m\u001b[0;34m*\u001b[0m\u001b[0margs\u001b[0m\u001b[0;34m,\u001b[0m \u001b[0;34m**\u001b[0m\u001b[0mkwargs\u001b[0m\u001b[0;34m)\u001b[0m\u001b[0;34m\u001b[0m\u001b[0;34m\u001b[0m\u001b[0m\n\u001b[0m\u001b[1;32m    217\u001b[0m             \u001b[0;32mexcept\u001b[0m \u001b[0mInvalidParameterError\u001b[0m \u001b[0;32mas\u001b[0m \u001b[0me\u001b[0m\u001b[0;34m:\u001b[0m\u001b[0;34m\u001b[0m\u001b[0;34m\u001b[0m\u001b[0m\n\u001b[1;32m    218\u001b[0m                 \u001b[0;31m# When the function is just a wrapper around an estimator, we allow\u001b[0m\u001b[0;34m\u001b[0m\u001b[0;34m\u001b[0m\u001b[0m\n",
            "\u001b[0;32m/usr/local/lib/python3.11/dist-packages/sklearn/model_selection/_validation.py\u001b[0m in \u001b[0;36mcross_validate\u001b[0;34m(estimator, X, y, groups, scoring, cv, n_jobs, verbose, params, pre_dispatch, return_train_score, return_estimator, return_indices, error_score)\u001b[0m\n\u001b[1;32m    409\u001b[0m     \u001b[0;31m# independent, and that it is pickle-able.\u001b[0m\u001b[0;34m\u001b[0m\u001b[0;34m\u001b[0m\u001b[0m\n\u001b[1;32m    410\u001b[0m     \u001b[0mparallel\u001b[0m \u001b[0;34m=\u001b[0m \u001b[0mParallel\u001b[0m\u001b[0;34m(\u001b[0m\u001b[0mn_jobs\u001b[0m\u001b[0;34m=\u001b[0m\u001b[0mn_jobs\u001b[0m\u001b[0;34m,\u001b[0m \u001b[0mverbose\u001b[0m\u001b[0;34m=\u001b[0m\u001b[0mverbose\u001b[0m\u001b[0;34m,\u001b[0m \u001b[0mpre_dispatch\u001b[0m\u001b[0;34m=\u001b[0m\u001b[0mpre_dispatch\u001b[0m\u001b[0;34m)\u001b[0m\u001b[0;34m\u001b[0m\u001b[0;34m\u001b[0m\u001b[0m\n\u001b[0;32m--> 411\u001b[0;31m     results = parallel(\n\u001b[0m\u001b[1;32m    412\u001b[0m         delayed(_fit_and_score)(\n\u001b[1;32m    413\u001b[0m             \u001b[0mclone\u001b[0m\u001b[0;34m(\u001b[0m\u001b[0mestimator\u001b[0m\u001b[0;34m)\u001b[0m\u001b[0;34m,\u001b[0m\u001b[0;34m\u001b[0m\u001b[0;34m\u001b[0m\u001b[0m\n",
            "\u001b[0;32m/usr/local/lib/python3.11/dist-packages/sklearn/utils/parallel.py\u001b[0m in \u001b[0;36m__call__\u001b[0;34m(self, iterable)\u001b[0m\n\u001b[1;32m     75\u001b[0m             \u001b[0;32mfor\u001b[0m \u001b[0mdelayed_func\u001b[0m\u001b[0;34m,\u001b[0m \u001b[0margs\u001b[0m\u001b[0;34m,\u001b[0m \u001b[0mkwargs\u001b[0m \u001b[0;32min\u001b[0m \u001b[0miterable\u001b[0m\u001b[0;34m\u001b[0m\u001b[0;34m\u001b[0m\u001b[0m\n\u001b[1;32m     76\u001b[0m         )\n\u001b[0;32m---> 77\u001b[0;31m         \u001b[0;32mreturn\u001b[0m \u001b[0msuper\u001b[0m\u001b[0;34m(\u001b[0m\u001b[0;34m)\u001b[0m\u001b[0;34m.\u001b[0m\u001b[0m__call__\u001b[0m\u001b[0;34m(\u001b[0m\u001b[0miterable_with_config\u001b[0m\u001b[0;34m)\u001b[0m\u001b[0;34m\u001b[0m\u001b[0;34m\u001b[0m\u001b[0m\n\u001b[0m\u001b[1;32m     78\u001b[0m \u001b[0;34m\u001b[0m\u001b[0m\n\u001b[1;32m     79\u001b[0m \u001b[0;34m\u001b[0m\u001b[0m\n",
            "\u001b[0;32m/usr/local/lib/python3.11/dist-packages/joblib/parallel.py\u001b[0m in \u001b[0;36m__call__\u001b[0;34m(self, iterable)\u001b[0m\n\u001b[1;32m   2005\u001b[0m         \u001b[0mnext\u001b[0m\u001b[0;34m(\u001b[0m\u001b[0moutput\u001b[0m\u001b[0;34m)\u001b[0m\u001b[0;34m\u001b[0m\u001b[0;34m\u001b[0m\u001b[0m\n\u001b[1;32m   2006\u001b[0m \u001b[0;34m\u001b[0m\u001b[0m\n\u001b[0;32m-> 2007\u001b[0;31m         \u001b[0;32mreturn\u001b[0m \u001b[0moutput\u001b[0m \u001b[0;32mif\u001b[0m \u001b[0mself\u001b[0m\u001b[0;34m.\u001b[0m\u001b[0mreturn_generator\u001b[0m \u001b[0;32melse\u001b[0m \u001b[0mlist\u001b[0m\u001b[0;34m(\u001b[0m\u001b[0moutput\u001b[0m\u001b[0;34m)\u001b[0m\u001b[0;34m\u001b[0m\u001b[0;34m\u001b[0m\u001b[0m\n\u001b[0m\u001b[1;32m   2008\u001b[0m \u001b[0;34m\u001b[0m\u001b[0m\n\u001b[1;32m   2009\u001b[0m     \u001b[0;32mdef\u001b[0m \u001b[0m__repr__\u001b[0m\u001b[0;34m(\u001b[0m\u001b[0mself\u001b[0m\u001b[0;34m)\u001b[0m\u001b[0;34m:\u001b[0m\u001b[0;34m\u001b[0m\u001b[0;34m\u001b[0m\u001b[0m\n",
            "\u001b[0;32m/usr/local/lib/python3.11/dist-packages/joblib/parallel.py\u001b[0m in \u001b[0;36m_get_outputs\u001b[0;34m(self, iterator, pre_dispatch)\u001b[0m\n\u001b[1;32m   1648\u001b[0m \u001b[0;34m\u001b[0m\u001b[0m\n\u001b[1;32m   1649\u001b[0m             \u001b[0;32mwith\u001b[0m \u001b[0mself\u001b[0m\u001b[0;34m.\u001b[0m\u001b[0m_backend\u001b[0m\u001b[0;34m.\u001b[0m\u001b[0mretrieval_context\u001b[0m\u001b[0;34m(\u001b[0m\u001b[0;34m)\u001b[0m\u001b[0;34m:\u001b[0m\u001b[0;34m\u001b[0m\u001b[0;34m\u001b[0m\u001b[0m\n\u001b[0;32m-> 1650\u001b[0;31m                 \u001b[0;32myield\u001b[0m \u001b[0;32mfrom\u001b[0m \u001b[0mself\u001b[0m\u001b[0;34m.\u001b[0m\u001b[0m_retrieve\u001b[0m\u001b[0;34m(\u001b[0m\u001b[0;34m)\u001b[0m\u001b[0;34m\u001b[0m\u001b[0;34m\u001b[0m\u001b[0m\n\u001b[0m\u001b[1;32m   1651\u001b[0m \u001b[0;34m\u001b[0m\u001b[0m\n\u001b[1;32m   1652\u001b[0m         \u001b[0;32mexcept\u001b[0m \u001b[0mGeneratorExit\u001b[0m\u001b[0;34m:\u001b[0m\u001b[0;34m\u001b[0m\u001b[0;34m\u001b[0m\u001b[0m\n",
            "\u001b[0;32m/usr/local/lib/python3.11/dist-packages/joblib/parallel.py\u001b[0m in \u001b[0;36m_retrieve\u001b[0;34m(self)\u001b[0m\n\u001b[1;32m   1760\u001b[0m                 (self._jobs[0].get_status(\n\u001b[1;32m   1761\u001b[0m                     timeout=self.timeout) == TASK_PENDING)):\n\u001b[0;32m-> 1762\u001b[0;31m                 \u001b[0mtime\u001b[0m\u001b[0;34m.\u001b[0m\u001b[0msleep\u001b[0m\u001b[0;34m(\u001b[0m\u001b[0;36m0.01\u001b[0m\u001b[0;34m)\u001b[0m\u001b[0;34m\u001b[0m\u001b[0;34m\u001b[0m\u001b[0m\n\u001b[0m\u001b[1;32m   1763\u001b[0m                 \u001b[0;32mcontinue\u001b[0m\u001b[0;34m\u001b[0m\u001b[0;34m\u001b[0m\u001b[0m\n\u001b[1;32m   1764\u001b[0m \u001b[0;34m\u001b[0m\u001b[0m\n",
            "\u001b[0;31mKeyboardInterrupt\u001b[0m: "
          ]
        }
      ],
      "source": [
        "def objective(trial):\n",
        "    param = {\n",
        "        'num_leaves': trial.suggest_int('num_leaves', 31, 127),\n",
        "        'max_depth': trial.suggest_int('max_depth', 4, 10),\n",
        "        'learning_rate': trial.suggest_loguniform('learning_rate', 1e-5, 0.1),\n",
        "        'n_estimators': trial.suggest_int('n_estimators', 100, 300),\n",
        "        'subsample': trial.suggest_uniform('subsample', 0.7, 1.0),\n",
        "        'colsample_bytree': trial.suggest_uniform('colsample_bytree', 0.7, 1.0),\n",
        "        'min_child_samples': trial.suggest_int('min_child_samples', 20, 100),\n",
        "        'reg_alpha': trial.suggest_loguniform('reg_alpha', 1e-5, 1.0),\n",
        "        'reg_lambda': trial.suggest_loguniform('reg_lambda', 1e-5, 1.0),\n",
        "    }\n",
        "\n",
        "    model = LGBMRegressor(random_state=42, **param)\n",
        "\n",
        "    pipeline = Pipeline([\n",
        "        ('high_salary_transformer', high_salary_transformer),\n",
        "        ('column_transformer', ct_te),\n",
        "        ('model', model)\n",
        "    ])\n",
        "\n",
        "    scores = cross_val_score(pipeline, Xtrain, ytrain, cv=3,\n",
        "                             scoring='neg_root_mean_squared_error', n_jobs=-1)\n",
        "\n",
        "    return -scores.mean()\n",
        "\n",
        "study = optuna.create_study(direction='minimize')\n",
        "study.optimize(objective, n_trials=30)\n",
        "\n",
        "print(\"Лучшие параметры:\", study.best_params)\n",
        "print(\"Лучший RMSE:\", study.best_value)"
      ]
    },
    {
      "cell_type": "markdown",
      "id": "7c56d873",
      "metadata": {
        "id": "7c56d873"
      },
      "source": [
        "## **Задание 15 (0.4 балла)**"
      ]
    },
    {
      "cell_type": "markdown",
      "id": "MoU-3vCs9ufO",
      "metadata": {
        "id": "MoU-3vCs9ufO"
      },
      "source": [
        "Сделайте выводы про модели и решение задачи.\n",
        "\n",
        "- Какая из моделей показала лучший результат по качеству?\n",
        "- Какая из моделей показала лучший результат по качеству, скорости обучения и скорости предсказания в совокупности?\n",
        "- Насколько бустинги превзошли линейную модель? Целесообразно ли их использование?"
      ]
    },
    {
      "cell_type": "markdown",
      "id": "-w29KZ-r-Kaf",
      "metadata": {
        "id": "-w29KZ-r-Kaf"
      },
      "source": [
        "# **Часть 2: кластеризация типов движений**\n",
        "**Количество баллов:** 3"
      ]
    },
    {
      "cell_type": "markdown",
      "id": "6b3HIYxb-lYV",
      "metadata": {
        "id": "6b3HIYxb-lYV"
      },
      "source": [
        "В этой части будем работать с набором данных Samsung Human Activity Recognition. Набор данных заранее предобработан и снова доступен вам по [ссылке](https://drive.google.com/file/d/16ISu7lMumt5rbticbOggHMRjwTGBETtO/view?usp=sharing).\n",
        "\n",
        "### **Постановка задачи**\n",
        "Данные поступают с акселерометров и гироскопов мобильных телефонов Samsung Galaxy S2. Вид активности человека с телефоном в кармане известен:\n",
        "- 1 - ходьба,\n",
        "- 2 - подъем вверх по лестнице,\n",
        "- 3 - спуск по лестнице,\n",
        "- 4 - сидение,\n",
        "- 5 - стояние,\n",
        "- 6 - лежание\n",
        "\n",
        "\n",
        "Представим, что вид активности нам неизвестнен, и попробуем кластеризовать людей чисто на основе имеющихся признаков."
      ]
    },
    {
      "cell_type": "code",
      "execution_count": 43,
      "id": "G-GfIOJL9ty4",
      "metadata": {
        "id": "G-GfIOJL9ty4",
        "outputId": "3d73e049-67ac-41c3-b9cb-0d9780513d02",
        "colab": {
          "base_uri": "https://localhost:8080/",
          "height": 408
        }
      },
      "outputs": [
        {
          "output_type": "error",
          "ename": "OSError",
          "evalue": "'seaborn-darkgrid' is not a valid package style, path of style file, URL of style file, or library style name (library styles are listed in `style.available`)",
          "traceback": [
            "\u001b[0;31m---------------------------------------------------------------------------\u001b[0m",
            "\u001b[0;31mFileNotFoundError\u001b[0m                         Traceback (most recent call last)",
            "\u001b[0;32m/usr/local/lib/python3.11/dist-packages/matplotlib/style/core.py\u001b[0m in \u001b[0;36muse\u001b[0;34m(style)\u001b[0m\n\u001b[1;32m    128\u001b[0m             \u001b[0;32mtry\u001b[0m\u001b[0;34m:\u001b[0m\u001b[0;34m\u001b[0m\u001b[0;34m\u001b[0m\u001b[0m\n\u001b[0;32m--> 129\u001b[0;31m                 \u001b[0mstyle\u001b[0m \u001b[0;34m=\u001b[0m \u001b[0m_rc_params_in_file\u001b[0m\u001b[0;34m(\u001b[0m\u001b[0mstyle\u001b[0m\u001b[0;34m)\u001b[0m\u001b[0;34m\u001b[0m\u001b[0;34m\u001b[0m\u001b[0m\n\u001b[0m\u001b[1;32m    130\u001b[0m             \u001b[0;32mexcept\u001b[0m \u001b[0mOSError\u001b[0m \u001b[0;32mas\u001b[0m \u001b[0merr\u001b[0m\u001b[0;34m:\u001b[0m\u001b[0;34m\u001b[0m\u001b[0;34m\u001b[0m\u001b[0m\n",
            "\u001b[0;32m/usr/local/lib/python3.11/dist-packages/matplotlib/__init__.py\u001b[0m in \u001b[0;36m_rc_params_in_file\u001b[0;34m(fname, transform, fail_on_error)\u001b[0m\n\u001b[1;32m    902\u001b[0m     \u001b[0mrc_temp\u001b[0m \u001b[0;34m=\u001b[0m \u001b[0;34m{\u001b[0m\u001b[0;34m}\u001b[0m\u001b[0;34m\u001b[0m\u001b[0;34m\u001b[0m\u001b[0m\n\u001b[0;32m--> 903\u001b[0;31m     \u001b[0;32mwith\u001b[0m \u001b[0m_open_file_or_url\u001b[0m\u001b[0;34m(\u001b[0m\u001b[0mfname\u001b[0m\u001b[0;34m)\u001b[0m \u001b[0;32mas\u001b[0m \u001b[0mfd\u001b[0m\u001b[0;34m:\u001b[0m\u001b[0;34m\u001b[0m\u001b[0;34m\u001b[0m\u001b[0m\n\u001b[0m\u001b[1;32m    904\u001b[0m         \u001b[0;32mtry\u001b[0m\u001b[0;34m:\u001b[0m\u001b[0;34m\u001b[0m\u001b[0;34m\u001b[0m\u001b[0m\n",
            "\u001b[0;32m/usr/lib/python3.11/contextlib.py\u001b[0m in \u001b[0;36m__enter__\u001b[0;34m(self)\u001b[0m\n\u001b[1;32m    136\u001b[0m         \u001b[0;32mtry\u001b[0m\u001b[0;34m:\u001b[0m\u001b[0;34m\u001b[0m\u001b[0;34m\u001b[0m\u001b[0m\n\u001b[0;32m--> 137\u001b[0;31m             \u001b[0;32mreturn\u001b[0m \u001b[0mnext\u001b[0m\u001b[0;34m(\u001b[0m\u001b[0mself\u001b[0m\u001b[0;34m.\u001b[0m\u001b[0mgen\u001b[0m\u001b[0;34m)\u001b[0m\u001b[0;34m\u001b[0m\u001b[0;34m\u001b[0m\u001b[0m\n\u001b[0m\u001b[1;32m    138\u001b[0m         \u001b[0;32mexcept\u001b[0m \u001b[0mStopIteration\u001b[0m\u001b[0;34m:\u001b[0m\u001b[0;34m\u001b[0m\u001b[0;34m\u001b[0m\u001b[0m\n",
            "\u001b[0;32m/usr/local/lib/python3.11/dist-packages/matplotlib/__init__.py\u001b[0m in \u001b[0;36m_open_file_or_url\u001b[0;34m(fname)\u001b[0m\n\u001b[1;32m    879\u001b[0m         \u001b[0mfname\u001b[0m \u001b[0;34m=\u001b[0m \u001b[0mos\u001b[0m\u001b[0;34m.\u001b[0m\u001b[0mpath\u001b[0m\u001b[0;34m.\u001b[0m\u001b[0mexpanduser\u001b[0m\u001b[0;34m(\u001b[0m\u001b[0mfname\u001b[0m\u001b[0;34m)\u001b[0m\u001b[0;34m\u001b[0m\u001b[0;34m\u001b[0m\u001b[0m\n\u001b[0;32m--> 880\u001b[0;31m         \u001b[0;32mwith\u001b[0m \u001b[0mopen\u001b[0m\u001b[0;34m(\u001b[0m\u001b[0mfname\u001b[0m\u001b[0;34m,\u001b[0m \u001b[0mencoding\u001b[0m\u001b[0;34m=\u001b[0m\u001b[0;34m'utf-8'\u001b[0m\u001b[0;34m)\u001b[0m \u001b[0;32mas\u001b[0m \u001b[0mf\u001b[0m\u001b[0;34m:\u001b[0m\u001b[0;34m\u001b[0m\u001b[0;34m\u001b[0m\u001b[0m\n\u001b[0m\u001b[1;32m    881\u001b[0m             \u001b[0;32myield\u001b[0m \u001b[0mf\u001b[0m\u001b[0;34m\u001b[0m\u001b[0;34m\u001b[0m\u001b[0m\n",
            "\u001b[0;31mFileNotFoundError\u001b[0m: [Errno 2] No such file or directory: 'seaborn-darkgrid'",
            "\nThe above exception was the direct cause of the following exception:\n",
            "\u001b[0;31mOSError\u001b[0m                                   Traceback (most recent call last)",
            "\u001b[0;32m<ipython-input-43-7b22ee621413>\u001b[0m in \u001b[0;36m<cell line: 0>\u001b[0;34m()\u001b[0m\n\u001b[1;32m      4\u001b[0m \u001b[0;34m\u001b[0m\u001b[0m\n\u001b[1;32m      5\u001b[0m \u001b[0;34m\u001b[0m\u001b[0m\n\u001b[0;32m----> 6\u001b[0;31m \u001b[0mplt\u001b[0m\u001b[0;34m.\u001b[0m\u001b[0mstyle\u001b[0m\u001b[0;34m.\u001b[0m\u001b[0muse\u001b[0m\u001b[0;34m(\u001b[0m\u001b[0;34m[\u001b[0m\u001b[0;34m'seaborn-darkgrid'\u001b[0m\u001b[0;34m]\u001b[0m\u001b[0;34m)\u001b[0m\u001b[0;34m\u001b[0m\u001b[0;34m\u001b[0m\u001b[0m\n\u001b[0m\u001b[1;32m      7\u001b[0m \u001b[0mplt\u001b[0m\u001b[0;34m.\u001b[0m\u001b[0mrcParams\u001b[0m\u001b[0;34m[\u001b[0m\u001b[0;34m'figure.figsize'\u001b[0m\u001b[0;34m]\u001b[0m \u001b[0;34m=\u001b[0m \u001b[0;34m(\u001b[0m\u001b[0;36m12\u001b[0m\u001b[0;34m,\u001b[0m \u001b[0;36m9\u001b[0m\u001b[0;34m)\u001b[0m\u001b[0;34m\u001b[0m\u001b[0;34m\u001b[0m\u001b[0m\n\u001b[1;32m      8\u001b[0m \u001b[0mplt\u001b[0m\u001b[0;34m.\u001b[0m\u001b[0mrcParams\u001b[0m\u001b[0;34m[\u001b[0m\u001b[0;34m'font.family'\u001b[0m\u001b[0;34m]\u001b[0m \u001b[0;34m=\u001b[0m \u001b[0;34m'DejaVu Sans'\u001b[0m\u001b[0;34m\u001b[0m\u001b[0;34m\u001b[0m\u001b[0m\n",
            "\u001b[0;32m/usr/local/lib/python3.11/dist-packages/matplotlib/style/core.py\u001b[0m in \u001b[0;36muse\u001b[0;34m(style)\u001b[0m\n\u001b[1;32m    129\u001b[0m                 \u001b[0mstyle\u001b[0m \u001b[0;34m=\u001b[0m \u001b[0m_rc_params_in_file\u001b[0m\u001b[0;34m(\u001b[0m\u001b[0mstyle\u001b[0m\u001b[0;34m)\u001b[0m\u001b[0;34m\u001b[0m\u001b[0;34m\u001b[0m\u001b[0m\n\u001b[1;32m    130\u001b[0m             \u001b[0;32mexcept\u001b[0m \u001b[0mOSError\u001b[0m \u001b[0;32mas\u001b[0m \u001b[0merr\u001b[0m\u001b[0;34m:\u001b[0m\u001b[0;34m\u001b[0m\u001b[0;34m\u001b[0m\u001b[0m\n\u001b[0;32m--> 131\u001b[0;31m                 raise OSError(\n\u001b[0m\u001b[1;32m    132\u001b[0m                     \u001b[0;34mf\"{style!r} is not a valid package style, path of style \"\u001b[0m\u001b[0;34m\u001b[0m\u001b[0;34m\u001b[0m\u001b[0m\n\u001b[1;32m    133\u001b[0m                     \u001b[0;34mf\"file, URL of style file, or library style name (library \"\u001b[0m\u001b[0;34m\u001b[0m\u001b[0;34m\u001b[0m\u001b[0m\n",
            "\u001b[0;31mOSError\u001b[0m: 'seaborn-darkgrid' is not a valid package style, path of style file, URL of style file, or library style name (library styles are listed in `style.available`)"
          ]
        }
      ],
      "source": [
        "import numpy as np\n",
        "import seaborn as sns\n",
        "from matplotlib import pyplot as plt\n",
        "\n",
        "\n",
        "plt.style.use(['seaborn-darkgrid'])\n",
        "plt.rcParams['figure.figsize'] = (12, 9)\n",
        "plt.rcParams['font.family'] = 'DejaVu Sans'\n",
        "\n",
        "%matplotlib inline\n",
        "%config InlineBackend.figure_format=\"retina\"\n",
        "\n",
        "RANDOM_STATE = 42"
      ]
    },
    {
      "cell_type": "markdown",
      "id": "huMweUyCDtq0",
      "metadata": {
        "id": "huMweUyCDtq0"
      },
      "source": [
        "### **Задание 16 (0.1 балл)**\n",
        "Прочитайте данные из файлов и объедните тестовую и обучающие выборки.\n",
        "\n",
        "В файлах ```..._labels``` лежат настоящие классы. Их также объедините, но в отдельную переменную (например ```y```). Данный вектор для кластеризации нам не нужен, но мы будем смотреть по нему метрики."
      ]
    },
    {
      "cell_type": "code",
      "execution_count": null,
      "id": "kOl0AkxMDwgs",
      "metadata": {
        "id": "kOl0AkxMDwgs"
      },
      "outputs": [],
      "source": [
        "# Ваш код здесь\n",
        "X =\n",
        "y ="
      ]
    },
    {
      "cell_type": "code",
      "execution_count": null,
      "id": "5Lm9We-jDxFV",
      "metadata": {
        "id": "5Lm9We-jDxFV"
      },
      "outputs": [],
      "source": [
        "# убедимся, что y содержит нужные нам классы\n",
        "np.unique(y)"
      ]
    },
    {
      "cell_type": "markdown",
      "id": "RKVnDJ1ODzt1",
      "metadata": {
        "id": "RKVnDJ1ODzt1"
      },
      "source": [
        "### **Задание 17 (0.2 балла)**\n",
        "\n",
        "Так как мы будем пользоваться метрическими алгоритмами, отмасштабируйте выборку с помощью ```StandardScaler```."
      ]
    },
    {
      "cell_type": "code",
      "execution_count": null,
      "id": "JboUmITvD0N3",
      "metadata": {
        "id": "JboUmITvD0N3"
      },
      "outputs": [],
      "source": [
        "# Ваш код здесь\n",
        "scaler =\n",
        "X_scaled ="
      ]
    },
    {
      "cell_type": "markdown",
      "id": "ssHPKscBD0kE",
      "metadata": {
        "id": "ssHPKscBD0kE"
      },
      "source": [
        "### **Задание 18 (0.5 балла)**\n",
        "\n",
        "Данных много и размерность большая. Чтобы ускорить рещение задачи с точки зрения построения модели, мы используем методы **понижения размерности**.\n",
        "\n",
        "- Понизьте размерность с помощью `PCA`, оставляя столько компонент, сколько нужно для того, чтобы объяснить как минимум 90% дисперсии отмасштабированных данных. Вам пригодится [документация](https://scikit-learn.org/stable/modules/generated/sklearn.decomposition.PCA.html)\n",
        "\n",
        "**Примечание:**\n",
        "Для этого сумма значений массива pca.explained_variance_ratio_ должна быть не меньше 0.9.  ```random_state``` используйте из объявленной в самом начале переменной ```RANDOM_STATE``` (42)."
      ]
    },
    {
      "cell_type": "code",
      "execution_count": null,
      "id": "Qb4ezLYfD007",
      "metadata": {
        "id": "Qb4ezLYfD007"
      },
      "outputs": [],
      "source": [
        "# Ваш код здесь\n",
        "pca =\n",
        "X_pca ="
      ]
    },
    {
      "cell_type": "markdown",
      "id": "JAJ6WxDaD9oC",
      "metadata": {
        "id": "JAJ6WxDaD9oC"
      },
      "source": [
        "### **Задание 19 (0.2 балла)**\n",
        "\n",
        "Визуализируйте данные в проекции на первые две главные компоненты. Используйте ```cmap=\"virdis\"``` или любой другой, с которым будет красиво!\n",
        "\n",
        "Можете раскрасить кластеры."
      ]
    },
    {
      "cell_type": "code",
      "execution_count": null,
      "id": "JHboofo-D-KP",
      "metadata": {
        "id": "JHboofo-D-KP"
      },
      "outputs": [],
      "source": [
        "# Ваш код здесь\n",
        "plt.scatter()"
      ]
    },
    {
      "cell_type": "markdown",
      "id": "BJU8Dc99D-T8",
      "metadata": {
        "id": "BJU8Dc99D-T8"
      },
      "source": [
        "### **Задание 19. (0.5 балла)**\n",
        "\n",
        "Разберёмся с `KMeans`, [doc](https://scikit-learn.org/stable/modules/generated/sklearn.cluster.KMeans.html)\n",
        "\n",
        "- Сделайте кластеризацию данных методом `KMeans`, обучив модель на данных со сниженной за счет `PCA` размерностью. Нужно искать 6 кластеров (изначально у нас 6 классов). Засеките время обучения и время инференса.\n",
        "\n",
        "**Параметры обучения:**\n",
        "\n",
        "```n_clusters = 6``` (число уникальных меток целевого класса = 6)\n",
        "\n",
        "```n_init = 100```\n",
        "\n",
        "```random_state = RANDOM_STATE``` (для воспроизводимости результата, не забывайте указывать его и дальше!)"
      ]
    },
    {
      "cell_type": "code",
      "execution_count": null,
      "id": "uc4uXeV3D-a9",
      "metadata": {
        "id": "uc4uXeV3D-a9"
      },
      "outputs": [],
      "source": [
        "# Ваш код здесь"
      ]
    },
    {
      "cell_type": "markdown",
      "id": "mXk40mmZD-iI",
      "metadata": {
        "id": "mXk40mmZD-iI"
      },
      "source": [
        "### **Задание 20 (0.2 балла)**\n",
        "\n",
        "- Визуализируйте данные в проекции на первые две главные компоненты.\n",
        "- Раскрасьте точки в соответствии с полученными метками кластеров."
      ]
    },
    {
      "cell_type": "code",
      "execution_count": null,
      "id": "LN0y9SuMD-oQ",
      "metadata": {
        "id": "LN0y9SuMD-oQ"
      },
      "outputs": [],
      "source": [
        "# Ваш код здесь"
      ]
    },
    {
      "cell_type": "markdown",
      "id": "MRuNPtcvEIcT",
      "metadata": {
        "id": "MRuNPtcvEIcT"
      },
      "source": [
        "### **Задание 21 (0.3 балла)**\n",
        "\n",
        "- Выберите какие-то метрики (минимум две) из известных вам. Объясните свой выбор\n",
        "- Выведите на экран значения метрик качества, сделайте вывод о них и используйте их далее."
      ]
    },
    {
      "cell_type": "code",
      "execution_count": null,
      "id": "hRUnZPlPEJm2",
      "metadata": {
        "id": "hRUnZPlPEJm2"
      },
      "outputs": [],
      "source": [
        "# Ваш код здесь"
      ]
    },
    {
      "cell_type": "markdown",
      "id": "F_-yup0yEJty",
      "metadata": {
        "id": "F_-yup0yEJty"
      },
      "source": [
        "**Ваш вывод здесь**"
      ]
    },
    {
      "cell_type": "markdown",
      "id": "yfytg7xxEQSY",
      "metadata": {
        "id": "yfytg7xxEQSY"
      },
      "source": [
        "### **Задание 22 (0.7 баллов)**\n",
        "\n",
        "Теперь попробуем сделать кластеризацию с помощью `AgglomerativeClustering`, [doc](https://scikit-learn.org/stable/modules/generated/sklearn.cluster.AgglomerativeClustering.html)\n",
        "\n",
        "- Засеките время обучения и время инференса. После кластеризации также:\n",
        "  - Вновь визуализируйте данные с раскраской по полученным меткам\n",
        "  - Выведите метрики. Засеките время обучения и время инференса. Сравните с ```KMeans```.\n",
        "\n",
        "Ответьте на следующие вопросы:\n",
        "* Стало ли лучше?\n",
        "* Почему?"
      ]
    },
    {
      "cell_type": "code",
      "execution_count": null,
      "id": "76W4gKbnEOpG",
      "metadata": {
        "id": "76W4gKbnEOpG"
      },
      "outputs": [],
      "source": [
        "# Ваш код здесь"
      ]
    },
    {
      "cell_type": "markdown",
      "id": "fD8890szET9F",
      "metadata": {
        "id": "fD8890szET9F"
      },
      "source": [
        "**Ваш вывод здесь**"
      ]
    },
    {
      "cell_type": "markdown",
      "id": "ToO1wo75EUo5",
      "metadata": {
        "id": "ToO1wo75EUo5"
      },
      "source": [
        "### **Задание 23 (0.3 балла)**\n",
        "Для самой успешной из полученных кластеризаций попробуйте дать интерпретацию кластеров. Опишите характеристики объектов, попавших в каждый кластер. Для этого можете ответить на следующие вопросы:\n",
        "\n",
        "* Похожи ли объекты внутри каждого кластера на определенный тип активности человека?\n",
        "* В каких кластерах смешано несколько типов активности? С чем, на ваш взгляд, это может быть связано?\n",
        "* Качественная ли получилась кластеризация? На основании чего вы можете сделать такой вывод?"
      ]
    },
    {
      "cell_type": "markdown",
      "id": "XNfJxVTCEYzd",
      "metadata": {
        "id": "XNfJxVTCEYzd"
      },
      "source": [
        "**Ваш вывод здесь**"
      ]
    },
    {
      "cell_type": "markdown",
      "id": "DMe3tIiaEeTt",
      "metadata": {
        "id": "DMe3tIiaEeTt"
      },
      "source": [
        "## **Бонус-задание (1 балл)**\n",
        "![RedPanda](http://imgur.com/6Aa52Lm.png)\n",
        "\n",
        "Алгоритмы кластеризации могут применяться в самых разных задачах. Например, в анализе изображений есть задача разделения изображения на семантические компоненты, которую можно решать в том числе с помощью алгоритмов кластеризации. В бонусе предлагаем вам попрактиковаться именно в этом на чудесной утке и совах (```duck.jpg``` и ```owls.jpg```)"
      ]
    },
    {
      "cell_type": "markdown",
      "id": "XljM79OVEvH1",
      "metadata": {
        "id": "XljM79OVEvH1"
      },
      "source": [
        "### **(0.1 балл)**\n",
        "\n",
        "- Откройте изображения, после чего визуализируйте их с помощью ```plt.imshow()```"
      ]
    },
    {
      "cell_type": "code",
      "execution_count": null,
      "id": "MDCgEqXxEis1",
      "metadata": {
        "id": "MDCgEqXxEis1"
      },
      "outputs": [],
      "source": [
        "from PIL import Image\n",
        "# or\n",
        "#import cv2"
      ]
    },
    {
      "cell_type": "markdown",
      "id": "cR_AuC9RFANW",
      "metadata": {
        "id": "cR_AuC9RFANW"
      },
      "source": [
        "### **(0.4 балла)**\n",
        "\n",
        "Для каждого изображения, используя кластеризацию ```KMeans```, выделите компоненты, охарактеризовав каждый пиксель следующим образом: $$\\psi_i = [\\lambda x_i, \\lambda y_i, r_i, g_i, b_i]$$\n",
        " где\n",
        "- $x_i$ и $y_i$ — координаты пикселя,\n",
        "- $r_i, g_i, b_i$ — его цвет,\n",
        "- $\\lambda$ — параметр, выражающий важность пространственной связности перед цветовой похожестью.\n",
        "\n",
        "Примените полученную функцию, взяв следующие $\\lambda$: 0.3 и 1.5 для ```duck.jpg``` и ```owls.jpg``` (или другие, но тогда с вас красивые результаты :) )\n",
        "\n",
        "**Примечание:**\n",
        "Число кластеров подберите разумным образом на свой вкус (в качестве нулевого приближения можно взять 3)"
      ]
    },
    {
      "cell_type": "code",
      "execution_count": null,
      "id": "4qiynyTXFSNU",
      "metadata": {
        "id": "4qiynyTXFSNU"
      },
      "outputs": [],
      "source": [
        "def find_components(image, lmbd, n_clusters):\n",
        "    #your code here"
      ]
    },
    {
      "cell_type": "markdown",
      "id": "Zja1t8nHFaS2",
      "metadata": {
        "id": "Zja1t8nHFaS2"
      },
      "source": [
        "### **(0.4 балла)**\n",
        "\n",
        "Попробуйте выделить сегменты при помощи [спектральной кластеризации](http://scikit-learn.org/stable/modules/clustering.html#spectral-clustering). Обратите внимание на [пример в sklearn](http://scikit-learn.org/0.16/auto_examples/cluster/plot_lena_segmentation.html).\n",
        "\n",
        "\n",
        "**Примечание:**\n",
        "\n",
        "Для ускорения работы алгоритма рекомендуется привести изображение к серому цвету. При необходимости можно сжать изображения в 2 раза.\n",
        "\n",
        "**Подсказка:**```skimage``` с его ```color``` и ```transform``` в этом помогут :)\n",
        "\n",
        "Или же воспользуйтесь аналогичными средствами ```PIL``` или ```cv2```"
      ]
    },
    {
      "cell_type": "code",
      "execution_count": null,
      "id": "hu10O8GnFluE",
      "metadata": {
        "id": "hu10O8GnFluE"
      },
      "outputs": [],
      "source": [
        "def spectral_segmentation(image, n_clusters, beta, eps):\n",
        "    #your code here"
      ]
    },
    {
      "cell_type": "markdown",
      "id": "XWoIIsqiFwrp",
      "metadata": {
        "id": "XWoIIsqiFwrp"
      },
      "source": [
        "### **(0.1 балл)**\n",
        "Визуализируйте результаты сегментации (аналогично рисунку в начале задания 2) для обоих методов."
      ]
    },
    {
      "cell_type": "code",
      "execution_count": null,
      "id": "S7B57-WbF4Ie",
      "metadata": {
        "id": "S7B57-WbF4Ie"
      },
      "outputs": [],
      "source": []
    },
    {
      "cell_type": "markdown",
      "id": "xrgZWcvtF95o",
      "metadata": {
        "id": "xrgZWcvtF95o"
      },
      "source": [
        "**Спасибо! Вы — человек — большой трудяга!**\n",
        "\n",
        "Успокоительный котобонус :)"
      ]
    },
    {
      "cell_type": "markdown",
      "id": "Qx3-EPTBPEC-",
      "metadata": {
        "id": "Qx3-EPTBPEC-"
      },
      "source": [
        "![photo_2025-01-17 15.20.31 (1).jpeg](data:image/jpeg;base64,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)"
      ]
    }
  ],
  "metadata": {
    "colab": {
      "provenance": [],
      "include_colab_link": true
    },
    "kernelspec": {
      "display_name": ".venv",
      "language": "python",
      "name": "python3"
    },
    "language_info": {
      "codemirror_mode": {
        "name": "ipython",
        "version": 3
      },
      "file_extension": ".py",
      "mimetype": "text/x-python",
      "name": "python",
      "nbconvert_exporter": "python",
      "pygments_lexer": "ipython3",
      "version": "3.10.12"
    },
    "widgets": {
      "application/vnd.jupyter.widget-state+json": {
        "25b97986b6e24c4689cf95a0a2048cd9": {
          "model_module": "catboost-widget",
          "model_name": "CatboostWidgetModel",
          "model_module_version": "^1.0.0",
          "state": {
            "_dom_classes": [],
            "_model_module": "catboost-widget",
            "_model_module_version": "^1.0.0",
            "_model_name": "CatboostWidgetModel",
            "_view_count": null,
            "_view_module": "catboost-widget",
            "_view_module_version": "^1.0.0",
            "_view_name": "CatboostWidgetView",
            "data": {
              "catboost_info": {
                "path": "catboost_info",
                "name": "catboost_info",
                "content": {
                  "passed_iterations": 999,
                  "total_iterations": 1000,
                  "data": {
                    "iterations": [
                      {
                        "learn": [
                          67197.38102
                        ],
                        "iteration": 0,
                        "passed_time": 0.001815456621,
                        "remaining_time": 1.813641165
                      },
                      {
                        "learn": [
                          67017.53565
                        ],
                        "iteration": 1,
                        "passed_time": 0.002895284739,
                        "remaining_time": 1.444747085
                      },
                      {
                        "learn": [
                          66815.12655
                        ],
                        "iteration": 2,
                        "passed_time": 0.003206925316,
                        "remaining_time": 1.06576818
                      },
                      {
                        "learn": [
                          66662.43586
                        ],
                        "iteration": 3,
                        "passed_time": 0.01114416119,
                        "remaining_time": 2.774896137
                      },
                      {
                        "learn": [
                          66522.93992
                        ],
                        "iteration": 4,
                        "passed_time": 0.0120474043,
                        "remaining_time": 2.397433456
                      },
                      {
                        "learn": [
                          66412.34957
                        ],
                        "iteration": 5,
                        "passed_time": 0.01269458519,
                        "remaining_time": 2.103069614
                      },
                      {
                        "learn": [
                          66236.59368
                        ],
                        "iteration": 6,
                        "passed_time": 0.01421046044,
                        "remaining_time": 2.015855317
                      },
                      {
                        "learn": [
                          66076.59307
                        ],
                        "iteration": 7,
                        "passed_time": 0.0155320312,
                        "remaining_time": 1.925971868
                      },
                      {
                        "learn": [
                          66014.37749
                        ],
                        "iteration": 8,
                        "passed_time": 0.0164506143,
                        "remaining_time": 1.811395419
                      },
                      {
                        "learn": [
                          65959.36665
                        ],
                        "iteration": 9,
                        "passed_time": 0.01710036489,
                        "remaining_time": 1.692936124
                      },
                      {
                        "learn": [
                          65885.61184
                        ],
                        "iteration": 10,
                        "passed_time": 0.0176617381,
                        "remaining_time": 1.587950816
                      },
                      {
                        "learn": [
                          65762.84448
                        ],
                        "iteration": 11,
                        "passed_time": 0.01831108915,
                        "remaining_time": 1.507613006
                      },
                      {
                        "learn": [
                          65652.50529
                        ],
                        "iteration": 12,
                        "passed_time": 0.02081079534,
                        "remaining_time": 1.580019616
                      },
                      {
                        "learn": [
                          65551.58833
                        ],
                        "iteration": 13,
                        "passed_time": 0.02447187747,
                        "remaining_time": 1.723519371
                      },
                      {
                        "learn": [
                          65485.287
                        ],
                        "iteration": 14,
                        "passed_time": 0.02558800452,
                        "remaining_time": 1.680278963
                      },
                      {
                        "learn": [
                          65408.05713
                        ],
                        "iteration": 15,
                        "passed_time": 0.02685247696,
                        "remaining_time": 1.651427333
                      },
                      {
                        "learn": [
                          65316.83233
                        ],
                        "iteration": 16,
                        "passed_time": 0.0285608763,
                        "remaining_time": 1.651490671
                      },
                      {
                        "learn": [
                          65233.20201
                        ],
                        "iteration": 17,
                        "passed_time": 0.02904625219,
                        "remaining_time": 1.584634425
                      },
                      {
                        "learn": [
                          65174.92566
                        ],
                        "iteration": 18,
                        "passed_time": 0.03005429265,
                        "remaining_time": 1.551750584
                      },
                      {
                        "learn": [
                          65147.73744
                        ],
                        "iteration": 19,
                        "passed_time": 0.03054172848,
                        "remaining_time": 1.496544696
                      },
                      {
                        "learn": [
                          65095.82208
                        ],
                        "iteration": 20,
                        "passed_time": 0.03099589507,
                        "remaining_time": 1.444999108
                      },
                      {
                        "learn": [
                          65072.22255
                        ],
                        "iteration": 21,
                        "passed_time": 0.0314148827,
                        "remaining_time": 1.396534331
                      },
                      {
                        "learn": [
                          65012.96963
                        ],
                        "iteration": 22,
                        "passed_time": 0.03172709349,
                        "remaining_time": 1.347711754
                      },
                      {
                        "learn": [
                          64955.01143
                        ],
                        "iteration": 23,
                        "passed_time": 0.0320347644,
                        "remaining_time": 1.302747086
                      },
                      {
                        "learn": [
                          64901.97996
                        ],
                        "iteration": 24,
                        "passed_time": 0.03260105746,
                        "remaining_time": 1.271441241
                      },
                      {
                        "learn": [
                          64853.45934
                        ],
                        "iteration": 25,
                        "passed_time": 0.03293895771,
                        "remaining_time": 1.233944031
                      },
                      {
                        "learn": [
                          64811.9949
                        ],
                        "iteration": 26,
                        "passed_time": 0.03340331377,
                        "remaining_time": 1.203756456
                      },
                      {
                        "learn": [
                          64776.41719
                        ],
                        "iteration": 27,
                        "passed_time": 0.03385341026,
                        "remaining_time": 1.175196956
                      },
                      {
                        "learn": [
                          64737.93565
                        ],
                        "iteration": 28,
                        "passed_time": 0.03442830351,
                        "remaining_time": 1.152754576
                      },
                      {
                        "learn": [
                          64705.69119
                        ],
                        "iteration": 29,
                        "passed_time": 0.03478749291,
                        "remaining_time": 1.124795604
                      },
                      {
                        "learn": [
                          64678.14083
                        ],
                        "iteration": 30,
                        "passed_time": 0.03510472354,
                        "remaining_time": 1.097305713
                      },
                      {
                        "learn": [
                          64652.96962
                        ],
                        "iteration": 31,
                        "passed_time": 0.03539978461,
                        "remaining_time": 1.070843484
                      },
                      {
                        "learn": [
                          64624.8257
                        ],
                        "iteration": 32,
                        "passed_time": 0.03584686163,
                        "remaining_time": 1.050421673
                      },
                      {
                        "learn": [
                          64619.71724
                        ],
                        "iteration": 33,
                        "passed_time": 0.03607296517,
                        "remaining_time": 1.024896599
                      },
                      {
                        "learn": [
                          64599.08944
                        ],
                        "iteration": 34,
                        "passed_time": 0.03652620157,
                        "remaining_time": 1.007079558
                      },
                      {
                        "learn": [
                          64577.72092
                        ],
                        "iteration": 35,
                        "passed_time": 0.03675387485,
                        "remaining_time": 0.9841870932
                      },
                      {
                        "learn": [
                          64570.23824
                        ],
                        "iteration": 36,
                        "passed_time": 0.03713049351,
                        "remaining_time": 0.966396358
                      },
                      {
                        "learn": [
                          64556.47906
                        ],
                        "iteration": 37,
                        "passed_time": 0.03763801852,
                        "remaining_time": 0.9528361531
                      },
                      {
                        "learn": [
                          64538.56199
                        ],
                        "iteration": 38,
                        "passed_time": 0.03793254983,
                        "remaining_time": 0.9346969329
                      },
                      {
                        "learn": [
                          64527.36
                        ],
                        "iteration": 39,
                        "passed_time": 0.03851761255,
                        "remaining_time": 0.9244227013
                      },
                      {
                        "learn": [
                          64511.837
                        ],
                        "iteration": 40,
                        "passed_time": 0.0390544367,
                        "remaining_time": 0.9134928
                      },
                      {
                        "learn": [
                          64497.22308
                        ],
                        "iteration": 41,
                        "passed_time": 0.03936572751,
                        "remaining_time": 0.897913499
                      },
                      {
                        "learn": [
                          64491.29842
                        ],
                        "iteration": 42,
                        "passed_time": 0.03980429456,
                        "remaining_time": 0.8858769744
                      },
                      {
                        "learn": [
                          64477.5693
                        ],
                        "iteration": 43,
                        "passed_time": 0.04024892144,
                        "remaining_time": 0.874499293
                      },
                      {
                        "learn": [
                          64466.99414
                        ],
                        "iteration": 44,
                        "passed_time": 0.04078087551,
                        "remaining_time": 0.8654608024
                      },
                      {
                        "learn": [
                          64460.91396
                        ],
                        "iteration": 45,
                        "passed_time": 0.04105002756,
                        "remaining_time": 0.8513418759
                      },
                      {
                        "learn": [
                          64455.39659
                        ],
                        "iteration": 46,
                        "passed_time": 0.04131731967,
                        "remaining_time": 0.8377745882
                      },
                      {
                        "learn": [
                          64448.27633
                        ],
                        "iteration": 47,
                        "passed_time": 0.04173109768,
                        "remaining_time": 0.8276667706
                      },
                      {
                        "learn": [
                          64439.11319
                        ],
                        "iteration": 48,
                        "passed_time": 0.04232223,
                        "remaining_time": 0.8213967496
                      },
                      {
                        "learn": [
                          64430.53905
                        ],
                        "iteration": 49,
                        "passed_time": 0.04259870184,
                        "remaining_time": 0.8093753349
                      },
                      {
                        "learn": [
                          64422.69185
                        ],
                        "iteration": 50,
                        "passed_time": 0.0431081468,
                        "remaining_time": 0.8021496335
                      },
                      {
                        "learn": [
                          64417.72478
                        ],
                        "iteration": 51,
                        "passed_time": 0.043575253,
                        "remaining_time": 0.7944103817
                      },
                      {
                        "learn": [
                          64416.54881
                        ],
                        "iteration": 52,
                        "passed_time": 0.04378402684,
                        "remaining_time": 0.7823296871
                      },
                      {
                        "learn": [
                          64409.04047
                        ],
                        "iteration": 53,
                        "passed_time": 0.04408539794,
                        "remaining_time": 0.7723108603
                      },
                      {
                        "learn": [
                          64405.6078
                        ],
                        "iteration": 54,
                        "passed_time": 0.04473232906,
                        "remaining_time": 0.7685827448
                      },
                      {
                        "learn": [
                          64402.47784
                        ],
                        "iteration": 55,
                        "passed_time": 0.04494611297,
                        "remaining_time": 0.7576630473
                      },
                      {
                        "learn": [
                          64396.37429
                        ],
                        "iteration": 56,
                        "passed_time": 0.04536686055,
                        "remaining_time": 0.7505429737
                      },
                      {
                        "learn": [
                          64390.96643
                        ],
                        "iteration": 57,
                        "passed_time": 0.0458943552,
                        "remaining_time": 0.745387631
                      },
                      {
                        "learn": [
                          64385.53897
                        ],
                        "iteration": 58,
                        "passed_time": 0.04653464652,
                        "remaining_time": 0.7421881758
                      },
                      {
                        "learn": [
                          64381.02178
                        ],
                        "iteration": 59,
                        "passed_time": 0.04688746632,
                        "remaining_time": 0.7345703057
                      },
                      {
                        "learn": [
                          64378.48906
                        ],
                        "iteration": 60,
                        "passed_time": 0.04729625425,
                        "remaining_time": 0.7280521761
                      },
                      {
                        "learn": [
                          64376.10476
                        ],
                        "iteration": 61,
                        "passed_time": 0.04791339603,
                        "remaining_time": 0.7248833142
                      },
                      {
                        "learn": [
                          64371.88654
                        ],
                        "iteration": 62,
                        "passed_time": 0.04828999469,
                        "remaining_time": 0.7182178576
                      },
                      {
                        "learn": [
                          64369.81604
                        ],
                        "iteration": 63,
                        "passed_time": 0.04864911431,
                        "remaining_time": 0.7114932968
                      },
                      {
                        "learn": [
                          64365.47804
                        ],
                        "iteration": 64,
                        "passed_time": 0.04907401199,
                        "remaining_time": 0.7059107878
                      },
                      {
                        "learn": [
                          64362.05093
                        ],
                        "iteration": 65,
                        "passed_time": 0.04935956356,
                        "remaining_time": 0.6985126116
                      },
                      {
                        "learn": [
                          64360.89269
                        ],
                        "iteration": 66,
                        "passed_time": 0.04999858469,
                        "remaining_time": 0.696248948
                      },
                      {
                        "learn": [
                          64359.83779
                        ],
                        "iteration": 67,
                        "passed_time": 0.05038153338,
                        "remaining_time": 0.6905233693
                      },
                      {
                        "learn": [
                          64358.41836
                        ],
                        "iteration": 68,
                        "passed_time": 0.05169338443,
                        "remaining_time": 0.6974861001
                      },
                      {
                        "learn": [
                          64355.03888
                        ],
                        "iteration": 69,
                        "passed_time": 0.05203246464,
                        "remaining_time": 0.6912884588
                      },
                      {
                        "learn": [
                          64352.9158
                        ],
                        "iteration": 70,
                        "passed_time": 0.05238625419,
                        "remaining_time": 0.6854483119
                      },
                      {
                        "learn": [
                          64350.976
                        ],
                        "iteration": 71,
                        "passed_time": 0.05268240545,
                        "remaining_time": 0.6790176703
                      },
                      {
                        "learn": [
                          64349.6401
                        ],
                        "iteration": 72,
                        "passed_time": 0.05296309716,
                        "remaining_time": 0.6725587818
                      },
                      {
                        "learn": [
                          64348.42192
                        ],
                        "iteration": 73,
                        "passed_time": 0.05522168026,
                        "remaining_time": 0.6910172421
                      },
                      {
                        "learn": [
                          64346.87114
                        ],
                        "iteration": 74,
                        "passed_time": 0.0555318111,
                        "remaining_time": 0.6848923369
                      },
                      {
                        "learn": [
                          64345.45415
                        ],
                        "iteration": 75,
                        "passed_time": 0.05585005193,
                        "remaining_time": 0.6790190524
                      },
                      {
                        "learn": [
                          64343.14601
                        ],
                        "iteration": 76,
                        "passed_time": 0.05682973322,
                        "remaining_time": 0.6812187502
                      },
                      {
                        "learn": [
                          64342.35314
                        ],
                        "iteration": 77,
                        "passed_time": 0.05730455921,
                        "remaining_time": 0.6773692768
                      },
                      {
                        "learn": [
                          64341.65834
                        ],
                        "iteration": 78,
                        "passed_time": 0.05788053198,
                        "remaining_time": 0.6747844298
                      },
                      {
                        "learn": [
                          64341.13523
                        ],
                        "iteration": 79,
                        "passed_time": 0.05813501469,
                        "remaining_time": 0.6685526689
                      },
                      {
                        "learn": [
                          64340.78341
                        ],
                        "iteration": 80,
                        "passed_time": 0.05880180522,
                        "remaining_time": 0.6671464074
                      },
                      {
                        "learn": [
                          64339.71653
                        ],
                        "iteration": 81,
                        "passed_time": 0.0592266229,
                        "remaining_time": 0.6630492661
                      },
                      {
                        "learn": [
                          64339.33117
                        ],
                        "iteration": 82,
                        "passed_time": 0.05977841639,
                        "remaining_time": 0.6604434678
                      },
                      {
                        "learn": [
                          64338.09589
                        ],
                        "iteration": 83,
                        "passed_time": 0.06008424736,
                        "remaining_time": 0.6552044117
                      },
                      {
                        "learn": [
                          64336.75513
                        ],
                        "iteration": 84,
                        "passed_time": 0.06059457229,
                        "remaining_time": 0.6522827488
                      },
                      {
                        "learn": [
                          64336.12634
                        ],
                        "iteration": 85,
                        "passed_time": 0.06119511456,
                        "remaining_time": 0.650375985
                      },
                      {
                        "learn": [
                          64334.92858
                        ],
                        "iteration": 86,
                        "passed_time": 0.06154570421,
                        "remaining_time": 0.6458761832
                      },
                      {
                        "learn": [
                          64334.20807
                        ],
                        "iteration": 87,
                        "passed_time": 0.06181002663,
                        "remaining_time": 0.6405766396
                      },
                      {
                        "learn": [
                          64333.92669
                        ],
                        "iteration": 88,
                        "passed_time": 0.06235251061,
                        "remaining_time": 0.6382374962
                      },
                      {
                        "learn": [
                          64333.02147
                        ],
                        "iteration": 89,
                        "passed_time": 0.06262428259,
                        "remaining_time": 0.6332010795
                      },
                      {
                        "learn": [
                          64332.76539
                        ],
                        "iteration": 90,
                        "passed_time": 0.06305658004,
                        "remaining_time": 0.629872871
                      },
                      {
                        "learn": [
                          64332.7039
                        ],
                        "iteration": 91,
                        "passed_time": 0.06364252274,
                        "remaining_time": 0.6281240288
                      },
                      {
                        "learn": [
                          64332.54043
                        ],
                        "iteration": 92,
                        "passed_time": 0.06402875134,
                        "remaining_time": 0.6244524459
                      },
                      {
                        "learn": [
                          64332.3214
                        ],
                        "iteration": 93,
                        "passed_time": 0.06435578169,
                        "remaining_time": 0.6202801937
                      },
                      {
                        "learn": [
                          64332.31176
                        ],
                        "iteration": 94,
                        "passed_time": 0.06481017849,
                        "remaining_time": 0.6174022267
                      },
                      {
                        "learn": [
                          64332.18568
                        ],
                        "iteration": 95,
                        "passed_time": 0.06506349101,
                        "remaining_time": 0.612681207
                      },
                      {
                        "learn": [
                          64331.25094
                        ],
                        "iteration": 96,
                        "passed_time": 0.06571223186,
                        "remaining_time": 0.6117334574
                      },
                      {
                        "learn": [
                          64330.77439
                        ],
                        "iteration": 97,
                        "passed_time": 0.06608993093,
                        "remaining_time": 0.6082971194
                      },
                      {
                        "learn": [
                          64330.73507
                        ],
                        "iteration": 98,
                        "passed_time": 0.06657944625,
                        "remaining_time": 0.6059402129
                      },
                      {
                        "learn": [
                          64330.35587
                        ],
                        "iteration": 99,
                        "passed_time": 0.06690448644,
                        "remaining_time": 0.6021403779
                      },
                      {
                        "learn": [
                          64330.11436
                        ],
                        "iteration": 100,
                        "passed_time": 0.06737089267,
                        "remaining_time": 0.5996676486
                      },
                      {
                        "learn": [
                          64329.97564
                        ],
                        "iteration": 101,
                        "passed_time": 0.06801521364,
                        "remaining_time": 0.5988006064
                      },
                      {
                        "learn": [
                          64329.6737
                        ],
                        "iteration": 102,
                        "passed_time": 0.06833555441,
                        "remaining_time": 0.5951164301
                      },
                      {
                        "learn": [
                          64329.54563
                        ],
                        "iteration": 103,
                        "passed_time": 0.06879763099,
                        "remaining_time": 0.5927180516
                      },
                      {
                        "learn": [
                          64329.34904
                        ],
                        "iteration": 104,
                        "passed_time": 0.06942638264,
                        "remaining_time": 0.5917772616
                      },
                      {
                        "learn": [
                          64328.37748
                        ],
                        "iteration": 105,
                        "passed_time": 0.0698444303,
                        "remaining_time": 0.5890652895
                      },
                      {
                        "learn": [
                          64328.28077
                        ],
                        "iteration": 106,
                        "passed_time": 0.07029392681,
                        "remaining_time": 0.5866586602
                      },
                      {
                        "learn": [
                          64327.57154
                        ],
                        "iteration": 107,
                        "passed_time": 0.07086715966,
                        "remaining_time": 0.5853102446
                      },
                      {
                        "learn": [
                          64327.35117
                        ],
                        "iteration": 108,
                        "passed_time": 0.07119932985,
                        "remaining_time": 0.5820055312
                      },
                      {
                        "learn": [
                          64327.28423
                        ],
                        "iteration": 109,
                        "passed_time": 0.07141092361,
                        "remaining_time": 0.577779291
                      },
                      {
                        "learn": [
                          64327.21775
                        ],
                        "iteration": 110,
                        "passed_time": 0.07177810254,
                        "remaining_time": 0.5748714699
                      },
                      {
                        "learn": [
                          64326.61547
                        ],
                        "iteration": 111,
                        "passed_time": 0.07209067331,
                        "remaining_time": 0.5715760527
                      },
                      {
                        "learn": [
                          64326.52346
                        ],
                        "iteration": 112,
                        "passed_time": 0.07236255507,
                        "remaining_time": 0.5680140384
                      },
                      {
                        "learn": [
                          64326.04198
                        ],
                        "iteration": 113,
                        "passed_time": 0.07273540406,
                        "remaining_time": 0.5652944561
                      },
                      {
                        "learn": [
                          64326.01121
                        ],
                        "iteration": 114,
                        "passed_time": 0.07335607551,
                        "remaining_time": 0.564522842
                      },
                      {
                        "learn": [
                          64325.46067
                        ],
                        "iteration": 115,
                        "passed_time": 0.07367946596,
                        "remaining_time": 0.561488344
                      },
                      {
                        "learn": [
                          64325.16122
                        ],
                        "iteration": 116,
                        "passed_time": 0.07414058212,
                        "remaining_time": 0.559539607
                      },
                      {
                        "learn": [
                          64325.01701
                        ],
                        "iteration": 117,
                        "passed_time": 0.0743996047,
                        "remaining_time": 0.5561055199
                      },
                      {
                        "learn": [
                          64324.39478
                        ],
                        "iteration": 118,
                        "passed_time": 0.07472576529,
                        "remaining_time": 0.5532218422
                      },
                      {
                        "learn": [
                          64324.33518
                        ],
                        "iteration": 119,
                        "passed_time": 0.07530597794,
                        "remaining_time": 0.5522438382
                      },
                      {
                        "learn": [
                          64324.32542
                        ],
                        "iteration": 120,
                        "passed_time": 0.0755282416,
                        "remaining_time": 0.5486721022
                      },
                      {
                        "learn": [
                          64324.07573
                        ],
                        "iteration": 121,
                        "passed_time": 0.0757924738,
                        "remaining_time": 0.5454573114
                      },
                      {
                        "learn": [
                          64323.67328
                        ],
                        "iteration": 122,
                        "passed_time": 0.07639499601,
                        "remaining_time": 0.5447025325
                      },
                      {
                        "learn": [
                          64323.56501
                        ],
                        "iteration": 123,
                        "passed_time": 0.07662073957,
                        "remaining_time": 0.5412884505
                      },
                      {
                        "learn": [
                          64323.5341
                        ],
                        "iteration": 124,
                        "passed_time": 0.07685165275,
                        "remaining_time": 0.5379615692
                      },
                      {
                        "learn": [
                          64323.23324
                        ],
                        "iteration": 125,
                        "passed_time": 0.07730540913,
                        "remaining_time": 0.536229584
                      },
                      {
                        "learn": [
                          64322.8585
                        ],
                        "iteration": 126,
                        "passed_time": 0.07763528961,
                        "remaining_time": 0.5336662034
                      },
                      {
                        "learn": [
                          64322.85263
                        ],
                        "iteration": 127,
                        "passed_time": 0.07788193255,
                        "remaining_time": 0.5305706655
                      },
                      {
                        "learn": [
                          64322.771
                        ],
                        "iteration": 128,
                        "passed_time": 0.07834717881,
                        "remaining_time": 0.5289952926
                      },
                      {
                        "learn": [
                          64322.74915
                        ],
                        "iteration": 129,
                        "passed_time": 0.07860699114,
                        "remaining_time": 0.5260621715
                      },
                      {
                        "learn": [
                          64322.54985
                        ],
                        "iteration": 130,
                        "passed_time": 0.07889514264,
                        "remaining_time": 0.5233578546
                      },
                      {
                        "learn": [
                          64322.54022
                        ],
                        "iteration": 131,
                        "passed_time": 0.07932129983,
                        "remaining_time": 0.5215976383
                      },
                      {
                        "learn": [
                          64322.23575
                        ],
                        "iteration": 132,
                        "passed_time": 0.0798742835,
                        "remaining_time": 0.5206842391
                      },
                      {
                        "learn": [
                          64322.21928
                        ],
                        "iteration": 133,
                        "passed_time": 0.08023283292,
                        "remaining_time": 0.5185196515
                      },
                      {
                        "learn": [
                          64322.05162
                        ],
                        "iteration": 134,
                        "passed_time": 0.08064611094,
                        "remaining_time": 0.5167324886
                      },
                      {
                        "learn": [
                          64322.01751
                        ],
                        "iteration": 135,
                        "passed_time": 0.08117544509,
                        "remaining_time": 0.5157028276
                      },
                      {
                        "learn": [
                          64321.86417
                        ],
                        "iteration": 136,
                        "passed_time": 0.08147195633,
                        "remaining_time": 0.5132138563
                      },
                      {
                        "learn": [
                          64321.85791
                        ],
                        "iteration": 137,
                        "passed_time": 0.08186893439,
                        "remaining_time": 0.5113842134
                      },
                      {
                        "learn": [
                          64321.85474
                        ],
                        "iteration": 138,
                        "passed_time": 0.08240560877,
                        "remaining_time": 0.5104404975
                      },
                      {
                        "learn": [
                          64321.79175
                        ],
                        "iteration": 139,
                        "passed_time": 0.08271487964,
                        "remaining_time": 0.5081056892
                      },
                      {
                        "learn": [
                          64321.78627
                        ],
                        "iteration": 140,
                        "passed_time": 0.08315124675,
                        "remaining_time": 0.5065739075
                      },
                      {
                        "learn": [
                          64321.49302
                        ],
                        "iteration": 141,
                        "passed_time": 0.08375023885,
                        "remaining_time": 0.5060401756
                      },
                      {
                        "learn": [
                          64321.49029
                        ],
                        "iteration": 142,
                        "passed_time": 0.08399149172,
                        "remaining_time": 0.5033615972
                      },
                      {
                        "learn": [
                          64321.46511
                        ],
                        "iteration": 143,
                        "passed_time": 0.08436125058,
                        "remaining_time": 0.5014807674
                      },
                      {
                        "learn": [
                          64321.46247
                        ],
                        "iteration": 144,
                        "passed_time": 0.08483309665,
                        "remaining_time": 0.5002227423
                      },
                      {
                        "learn": [
                          64321.452
                        ],
                        "iteration": 145,
                        "passed_time": 0.08505965974,
                        "remaining_time": 0.4975407494
                      },
                      {
                        "learn": [
                          64321.43345
                        ],
                        "iteration": 146,
                        "passed_time": 0.08526558388,
                        "remaining_time": 0.4947724017
                      },
                      {
                        "learn": [
                          64321.38426
                        ],
                        "iteration": 147,
                        "passed_time": 0.08566097221,
                        "remaining_time": 0.4931293806
                      },
                      {
                        "learn": [
                          64321.37642
                        ],
                        "iteration": 148,
                        "passed_time": 0.08619958608,
                        "remaining_time": 0.4923211259
                      },
                      {
                        "learn": [
                          64321.32825
                        ],
                        "iteration": 149,
                        "passed_time": 0.08646887813,
                        "remaining_time": 0.4899903094
                      },
                      {
                        "learn": [
                          64321.13356
                        ],
                        "iteration": 150,
                        "passed_time": 0.08690844516,
                        "remaining_time": 0.4886441718
                      },
                      {
                        "learn": [
                          64320.82171
                        ],
                        "iteration": 151,
                        "passed_time": 0.08753981629,
                        "remaining_time": 0.4883800277
                      },
                      {
                        "learn": [
                          64320.80144
                        ],
                        "iteration": 152,
                        "passed_time": 0.08785852688,
                        "remaining_time": 0.4863802109
                      },
                      {
                        "learn": [
                          64320.51619
                        ],
                        "iteration": 153,
                        "passed_time": 0.08833937269,
                        "remaining_time": 0.4852929175
                      },
                      {
                        "learn": [
                          64320.36544
                        ],
                        "iteration": 154,
                        "passed_time": 0.08889740643,
                        "remaining_time": 0.484634248
                      },
                      {
                        "learn": [
                          64320.36089
                        ],
                        "iteration": 155,
                        "passed_time": 0.08919768734,
                        "remaining_time": 0.4825823597
                      },
                      {
                        "learn": [
                          64320.35797
                        ],
                        "iteration": 156,
                        "passed_time": 0.08964000451,
                        "remaining_time": 0.4813154382
                      },
                      {
                        "learn": [
                          64320.35721
                        ],
                        "iteration": 157,
                        "passed_time": 0.09021151786,
                        "remaining_time": 0.4807474559
                      },
                      {
                        "learn": [
                          64320.20904
                        ],
                        "iteration": 158,
                        "passed_time": 0.09049070961,
                        "remaining_time": 0.4786332502
                      },
                      {
                        "learn": [
                          64320.20116
                        ],
                        "iteration": 159,
                        "passed_time": 0.09100690415,
                        "remaining_time": 0.4777862468
                      },
                      {
                        "learn": [
                          64320.13737
                        ],
                        "iteration": 160,
                        "passed_time": 0.09189917781,
                        "remaining_time": 0.4789031688
                      },
                      {
                        "learn": [
                          64320.07847
                        ],
                        "iteration": 161,
                        "passed_time": 0.09237990361,
                        "remaining_time": 0.477866415
                      },
                      {
                        "learn": [
                          64320.07711
                        ],
                        "iteration": 162,
                        "passed_time": 0.09261268652,
                        "remaining_time": 0.4755633044
                      },
                      {
                        "learn": [
                          64320.07664
                        ],
                        "iteration": 163,
                        "passed_time": 0.09286204938,
                        "remaining_time": 0.473369959
                      },
                      {
                        "learn": [
                          64320.06944
                        ],
                        "iteration": 164,
                        "passed_time": 0.09312255146,
                        "remaining_time": 0.4712565483
                      },
                      {
                        "learn": [
                          64320.00434
                        ],
                        "iteration": 165,
                        "passed_time": 0.09346612132,
                        "remaining_time": 0.4695828023
                      },
                      {
                        "learn": [
                          64319.88559
                        ],
                        "iteration": 166,
                        "passed_time": 0.0939010587,
                        "remaining_time": 0.4683807299
                      },
                      {
                        "learn": [
                          64319.87751
                        ],
                        "iteration": 167,
                        "passed_time": 0.09447954162,
                        "remaining_time": 0.4678986823
                      },
                      {
                        "learn": [
                          64319.82584
                        ],
                        "iteration": 168,
                        "passed_time": 0.09473948417,
                        "remaining_time": 0.4658491795
                      },
                      {
                        "learn": [
                          64319.82459
                        ],
                        "iteration": 169,
                        "passed_time": 0.09499279669,
                        "remaining_time": 0.4637883603
                      },
                      {
                        "learn": [
                          64319.61707
                        ],
                        "iteration": 170,
                        "passed_time": 0.09540573472,
                        "remaining_time": 0.4625225385
                      },
                      {
                        "learn": [
                          64319.57296
                        ],
                        "iteration": 171,
                        "passed_time": 0.09597229799,
                        "remaining_time": 0.4620061787
                      },
                      {
                        "learn": [
                          64319.53219
                        ],
                        "iteration": 172,
                        "passed_time": 0.09629601821,
                        "remaining_time": 0.4603283645
                      },
                      {
                        "learn": [
                          64319.34744
                        ],
                        "iteration": 173,
                        "passed_time": 0.09688488083,
                        "remaining_time": 0.4599247791
                      },
                      {
                        "learn": [
                          64319.33293
                        ],
                        "iteration": 174,
                        "passed_time": 0.09746689342,
                        "remaining_time": 0.4594867833
                      },
                      {
                        "learn": [
                          64319.23527
                        ],
                        "iteration": 175,
                        "passed_time": 0.09783034269,
                        "remaining_time": 0.4580238771
                      },
                      {
                        "learn": [
                          64319.12316
                        ],
                        "iteration": 176,
                        "passed_time": 0.09833722772,
                        "remaining_time": 0.45724033
                      },
                      {
                        "learn": [
                          64319.11357
                        ],
                        "iteration": 177,
                        "passed_time": 0.09885681238,
                        "remaining_time": 0.4565185381
                      },
                      {
                        "learn": [
                          64319.09832
                        ],
                        "iteration": 178,
                        "passed_time": 0.0991442239,
                        "remaining_time": 0.4547341219
                      },
                      {
                        "learn": [
                          64319.06466
                        ],
                        "iteration": 179,
                        "passed_time": 0.0993635272,
                        "remaining_time": 0.4526560684
                      },
                      {
                        "learn": [
                          64319.06454
                        ],
                        "iteration": 180,
                        "passed_time": 0.09966017844,
                        "remaining_time": 0.4509485422
                      },
                      {
                        "learn": [
                          64319.05405
                        ],
                        "iteration": 181,
                        "passed_time": 0.1002430315,
                        "remaining_time": 0.4505428557
                      },
                      {
                        "learn": [
                          64319.05258
                        ],
                        "iteration": 182,
                        "passed_time": 0.1005609821,
                        "remaining_time": 0.4489525811
                      },
                      {
                        "learn": [
                          64319.04995
                        ],
                        "iteration": 183,
                        "passed_time": 0.1010018388,
                        "remaining_time": 0.4479211983
                      },
                      {
                        "learn": [
                          64319.01847
                        ],
                        "iteration": 184,
                        "passed_time": 0.1016276901,
                        "remaining_time": 0.4477111754
                      },
                      {
                        "learn": [
                          64318.93536
                        ],
                        "iteration": 185,
                        "passed_time": 0.1018980021,
                        "remaining_time": 0.4459407191
                      },
                      {
                        "learn": [
                          64318.90611
                        ],
                        "iteration": 186,
                        "passed_time": 0.1023914578,
                        "remaining_time": 0.4451564449
                      },
                      {
                        "learn": [
                          64318.90412
                        ],
                        "iteration": 187,
                        "passed_time": 0.1028451346,
                        "remaining_time": 0.4442034538
                      },
                      {
                        "learn": [
                          64318.87715
                        ],
                        "iteration": 188,
                        "passed_time": 0.1033707093,
                        "remaining_time": 0.4435642607
                      },
                      {
                        "learn": [
                          64318.74453
                        ],
                        "iteration": 189,
                        "passed_time": 0.1037846673,
                        "remaining_time": 0.4424504239
                      },
                      {
                        "learn": [
                          64318.71718
                        ],
                        "iteration": 190,
                        "passed_time": 0.1042664429,
                        "remaining_time": 0.4416311638
                      },
                      {
                        "learn": [
                          64318.71132
                        ],
                        "iteration": 191,
                        "passed_time": 0.1050799989,
                        "remaining_time": 0.4422116619
                      },
                      {
                        "learn": [
                          64318.70513
                        ],
                        "iteration": 192,
                        "passed_time": 0.105778448,
                        "remaining_time": 0.4422964122
                      },
                      {
                        "learn": [
                          64318.70469
                        ],
                        "iteration": 193,
                        "passed_time": 0.106016661,
                        "remaining_time": 0.440460973
                      },
                      {
                        "learn": [
                          64318.64195
                        ],
                        "iteration": 194,
                        "passed_time": 0.1062998126,
                        "remaining_time": 0.4388274316
                      },
                      {
                        "learn": [
                          64318.63233
                        ],
                        "iteration": 195,
                        "passed_time": 0.1065433352,
                        "remaining_time": 0.4370451098
                      },
                      {
                        "learn": [
                          64318.61047
                        ],
                        "iteration": 196,
                        "passed_time": 0.1068324667,
                        "remaining_time": 0.4354643185
                      },
                      {
                        "learn": [
                          64318.53537
                        ],
                        "iteration": 197,
                        "passed_time": 0.1071829763,
                        "remaining_time": 0.434145187
                      },
                      {
                        "learn": [
                          64318.52688
                        ],
                        "iteration": 198,
                        "passed_time": 0.1074792276,
                        "remaining_time": 0.4326173934
                      },
                      {
                        "learn": [
                          64318.50273
                        ],
                        "iteration": 199,
                        "passed_time": 0.1082786538,
                        "remaining_time": 0.433114615
                      },
                      {
                        "learn": [
                          64318.50254
                        ],
                        "iteration": 200,
                        "passed_time": 0.1086391831,
                        "remaining_time": 0.4318542652
                      },
                      {
                        "learn": [
                          64318.50237
                        ],
                        "iteration": 201,
                        "passed_time": 0.1090008924,
                        "remaining_time": 0.430607486
                      },
                      {
                        "learn": [
                          64318.50047
                        ],
                        "iteration": 202,
                        "passed_time": 0.1095796656,
                        "remaining_time": 0.4302216427
                      },
                      {
                        "learn": [
                          64318.45285
                        ],
                        "iteration": 203,
                        "passed_time": 0.1101715983,
                        "remaining_time": 0.4298852562
                      },
                      {
                        "learn": [
                          64318.39038
                        ],
                        "iteration": 204,
                        "passed_time": 0.1104783493,
                        "remaining_time": 0.4284404276
                      },
                      {
                        "learn": [
                          64318.37088
                        ],
                        "iteration": 205,
                        "passed_time": 0.1109254258,
                        "remaining_time": 0.4275475151
                      },
                      {
                        "learn": [
                          64318.3165
                        ],
                        "iteration": 206,
                        "passed_time": 0.1114245809,
                        "remaining_time": 0.4268584185
                      },
                      {
                        "learn": [
                          64318.31575
                        ],
                        "iteration": 207,
                        "passed_time": 0.1117167323,
                        "remaining_time": 0.425382942
                      },
                      {
                        "learn": [
                          64318.31526
                        ],
                        "iteration": 208,
                        "passed_time": 0.1119958938,
                        "remaining_time": 0.4238696267
                      },
                      {
                        "learn": [
                          64318.31511
                        ],
                        "iteration": 209,
                        "passed_time": 0.1124132117,
                        "remaining_time": 0.4228877964
                      },
                      {
                        "learn": [
                          64318.26096
                        ],
                        "iteration": 210,
                        "passed_time": 0.1128435892,
                        "remaining_time": 0.4219601511
                      },
                      {
                        "learn": [
                          64318.19428
                        ],
                        "iteration": 211,
                        "passed_time": 0.1134318718,
                        "remaining_time": 0.4216241274
                      },
                      {
                        "learn": [
                          64318.11604
                        ],
                        "iteration": 212,
                        "passed_time": 0.1138645391,
                        "remaining_time": 0.4207107617
                      },
                      {
                        "learn": [
                          64318.04402
                        ],
                        "iteration": 213,
                        "passed_time": 0.1144260425,
                        "remaining_time": 0.4202750906
                      },
                      {
                        "learn": [
                          64317.99194
                        ],
                        "iteration": 214,
                        "passed_time": 0.1150411745,
                        "remaining_time": 0.4200340559
                      },
                      {
                        "learn": [
                          64317.99162
                        ],
                        "iteration": 215,
                        "passed_time": 0.1153537653,
                        "remaining_time": 0.4186914445
                      },
                      {
                        "learn": [
                          64317.98241
                        ],
                        "iteration": 216,
                        "passed_time": 0.1159081689,
                        "remaining_time": 0.4182308585
                      },
                      {
                        "learn": [
                          64317.97128
                        ],
                        "iteration": 217,
                        "passed_time": 0.1165763692,
                        "remaining_time": 0.418177618
                      },
                      {
                        "learn": [
                          64317.97081
                        ],
                        "iteration": 218,
                        "passed_time": 0.1168549912,
                        "remaining_time": 0.4167294435
                      },
                      {
                        "learn": [
                          64317.93505
                        ],
                        "iteration": 219,
                        "passed_time": 0.1171421027,
                        "remaining_time": 0.4153220006
                      },
                      {
                        "learn": [
                          64317.93499
                        ],
                        "iteration": 220,
                        "passed_time": 0.1176869866,
                        "remaining_time": 0.4148333149
                      },
                      {
                        "learn": [
                          64317.93436
                        ],
                        "iteration": 221,
                        "passed_time": 0.1179397792,
                        "remaining_time": 0.4133204874
                      },
                      {
                        "learn": [
                          64317.90895
                        ],
                        "iteration": 222,
                        "passed_time": 0.1182014417,
                        "remaining_time": 0.4118498663
                      },
                      {
                        "learn": [
                          64317.87877
                        ],
                        "iteration": 223,
                        "passed_time": 0.1186418887,
                        "remaining_time": 0.4110094001
                      },
                      {
                        "learn": [
                          64317.82551
                        ],
                        "iteration": 224,
                        "passed_time": 0.1190003581,
                        "remaining_time": 0.4098901223
                      },
                      {
                        "learn": [
                          64317.77647
                        ],
                        "iteration": 225,
                        "passed_time": 0.1193506078,
                        "remaining_time": 0.4087494265
                      },
                      {
                        "learn": [
                          64317.77644
                        ],
                        "iteration": 226,
                        "passed_time": 0.1198250137,
                        "remaining_time": 0.4080384829
                      },
                      {
                        "learn": [
                          64317.77631
                        ],
                        "iteration": 227,
                        "passed_time": 0.1203846772,
                        "remaining_time": 0.407618293
                      },
                      {
                        "learn": [
                          64317.73118
                        ],
                        "iteration": 228,
                        "passed_time": 0.1207950051,
                        "remaining_time": 0.4066941002
                      },
                      {
                        "learn": [
                          64317.68964
                        ],
                        "iteration": 229,
                        "passed_time": 0.1213581587,
                        "remaining_time": 0.4062860096
                      },
                      {
                        "learn": [
                          64317.68927
                        ],
                        "iteration": 230,
                        "passed_time": 0.1219411215,
                        "remaining_time": 0.4059425213
                      },
                      {
                        "learn": [
                          64317.68919
                        ],
                        "iteration": 231,
                        "passed_time": 0.1223399697,
                        "remaining_time": 0.4049874859
                      },
                      {
                        "learn": [
                          64317.68912
                        ],
                        "iteration": 232,
                        "passed_time": 0.1227763168,
                        "remaining_time": 0.4041606653
                      },
                      {
                        "learn": [
                          64317.65092
                        ],
                        "iteration": 233,
                        "passed_time": 0.1234930654,
                        "remaining_time": 0.4042550775
                      },
                      {
                        "learn": [
                          64317.61575
                        ],
                        "iteration": 234,
                        "passed_time": 0.123845195,
                        "remaining_time": 0.4031556349
                      },
                      {
                        "learn": [
                          64317.58337
                        ],
                        "iteration": 235,
                        "passed_time": 0.1244141285,
                        "remaining_time": 0.402764382
                      },
                      {
                        "learn": [
                          64317.56047
                        ],
                        "iteration": 236,
                        "passed_time": 0.1249579226,
                        "remaining_time": 0.4022906961
                      },
                      {
                        "learn": [
                          64317.53939
                        ],
                        "iteration": 237,
                        "passed_time": 0.125549335,
                        "remaining_time": 0.4019688792
                      },
                      {
                        "learn": [
                          64317.51304
                        ],
                        "iteration": 238,
                        "passed_time": 0.1259163343,
                        "remaining_time": 0.4009302529
                      },
                      {
                        "learn": [
                          64317.49987
                        ],
                        "iteration": 239,
                        "passed_time": 0.1262806734,
                        "remaining_time": 0.399888799
                      },
                      {
                        "learn": [
                          64317.49978
                        ],
                        "iteration": 240,
                        "passed_time": 0.1267701091,
                        "remaining_time": 0.3992469412
                      },
                      {
                        "learn": [
                          64317.49974
                        ],
                        "iteration": 241,
                        "passed_time": 0.1269717334,
                        "remaining_time": 0.3977048509
                      },
                      {
                        "learn": [
                          64317.47657
                        ],
                        "iteration": 242,
                        "passed_time": 0.1272855241,
                        "remaining_time": 0.3965232172
                      },
                      {
                        "learn": [
                          64317.45523
                        ],
                        "iteration": 243,
                        "passed_time": 0.1278684069,
                        "remaining_time": 0.3961824412
                      },
                      {
                        "learn": [
                          64317.44212
                        ],
                        "iteration": 244,
                        "passed_time": 0.1287068222,
                        "remaining_time": 0.3966271459
                      },
                      {
                        "learn": [
                          64317.42351
                        ],
                        "iteration": 245,
                        "passed_time": 0.129079541,
                        "remaining_time": 0.3956340402
                      },
                      {
                        "learn": [
                          64317.4124
                        ],
                        "iteration": 246,
                        "passed_time": 0.1294092614,
                        "remaining_time": 0.3945148739
                      },
                      {
                        "learn": [
                          64317.40217
                        ],
                        "iteration": 247,
                        "passed_time": 0.1301119505,
                        "remaining_time": 0.3945330111
                      },
                      {
                        "learn": [
                          64317.38672
                        ],
                        "iteration": 248,
                        "passed_time": 0.1304727496,
                        "remaining_time": 0.3935141966
                      },
                      {
                        "learn": [
                          64317.37248
                        ],
                        "iteration": 249,
                        "passed_time": 0.1308473683,
                        "remaining_time": 0.3925421049
                      },
                      {
                        "learn": [
                          64317.35938
                        ],
                        "iteration": 250,
                        "passed_time": 0.1312361968,
                        "remaining_time": 0.391617177
                      },
                      {
                        "learn": [
                          64317.34731
                        ],
                        "iteration": 251,
                        "passed_time": 0.1315763068,
                        "remaining_time": 0.3905518948
                      },
                      {
                        "learn": [
                          64317.3455
                        ],
                        "iteration": 252,
                        "passed_time": 0.1318517187,
                        "remaining_time": 0.3893013195
                      },
                      {
                        "learn": [
                          64317.34541
                        ],
                        "iteration": 253,
                        "passed_time": 0.132347684,
                        "remaining_time": 0.3887061901
                      },
                      {
                        "learn": [
                          64317.34537
                        ],
                        "iteration": 254,
                        "passed_time": 0.1326140562,
                        "remaining_time": 0.387441066
                      },
                      {
                        "learn": [
                          64317.33442
                        ],
                        "iteration": 255,
                        "passed_time": 0.1329778556,
                        "remaining_time": 0.3864668929
                      },
                      {
                        "learn": [
                          64317.32434
                        ],
                        "iteration": 256,
                        "passed_time": 0.1335820178,
                        "remaining_time": 0.3861923705
                      },
                      {
                        "learn": [
                          64317.3202
                        ],
                        "iteration": 257,
                        "passed_time": 0.1342504781,
                        "remaining_time": 0.3861002121
                      },
                      {
                        "learn": [
                          64317.3149
                        ],
                        "iteration": 258,
                        "passed_time": 0.1345687584,
                        "remaining_time": 0.3850017375
                      },
                      {
                        "learn": [
                          64317.30636
                        ],
                        "iteration": 259,
                        "passed_time": 0.1348975087,
                        "remaining_time": 0.3839390633
                      },
                      {
                        "learn": [
                          64317.29849
                        ],
                        "iteration": 260,
                        "passed_time": 0.1355108106,
                        "remaining_time": 0.3836876975
                      },
                      {
                        "learn": [
                          64317.29435
                        ],
                        "iteration": 261,
                        "passed_time": 0.1360920837,
                        "remaining_time": 0.3833433502
                      },
                      {
                        "learn": [
                          64317.28744
                        ],
                        "iteration": 262,
                        "passed_time": 0.1365167814,
                        "remaining_time": 0.382558433
                      },
                      {
                        "learn": [
                          64317.28108
                        ],
                        "iteration": 263,
                        "passed_time": 0.1371204635,
                        "remaining_time": 0.3822752317
                      },
                      {
                        "learn": [
                          64317.27521
                        ],
                        "iteration": 264,
                        "passed_time": 0.1376588779,
                        "remaining_time": 0.3818085858
                      },
                      {
                        "learn": [
                          64317.2709
                        ],
                        "iteration": 265,
                        "passed_time": 0.138060166,
                        "remaining_time": 0.3809630145
                      },
                      {
                        "learn": [
                          64317.26584
                        ],
                        "iteration": 266,
                        "passed_time": 0.1385351818,
                        "remaining_time": 0.3803231769
                      },
                      {
                        "learn": [
                          64317.26118
                        ],
                        "iteration": 267,
                        "passed_time": 0.1391946721,
                        "remaining_time": 0.3801884327
                      },
                      {
                        "learn": [
                          64317.26058
                        ],
                        "iteration": 268,
                        "passed_time": 0.1399076413,
                        "remaining_time": 0.3801951143
                      },
                      {
                        "learn": [
                          64317.25806
                        ],
                        "iteration": 269,
                        "passed_time": 0.1402390915,
                        "remaining_time": 0.379164951
                      },
                      {
                        "learn": [
                          64317.25401
                        ],
                        "iteration": 270,
                        "passed_time": 0.1410461779,
                        "remaining_time": 0.3794194231
                      },
                      {
                        "learn": [
                          64317.25385
                        ],
                        "iteration": 271,
                        "passed_time": 0.1416738896,
                        "remaining_time": 0.3791859985
                      },
                      {
                        "learn": [
                          64317.25183
                        ],
                        "iteration": 272,
                        "passed_time": 0.1420874173,
                        "remaining_time": 0.3783793128
                      },
                      {
                        "learn": [
                          64317.25163
                        ],
                        "iteration": 273,
                        "passed_time": 0.1427351884,
                        "remaining_time": 0.3781961562
                      },
                      {
                        "learn": [
                          64317.2481
                        ],
                        "iteration": 274,
                        "passed_time": 0.1431052473,
                        "remaining_time": 0.3772774701
                      },
                      {
                        "learn": [
                          64317.24485
                        ],
                        "iteration": 275,
                        "passed_time": 0.1434295977,
                        "remaining_time": 0.3762428578
                      },
                      {
                        "learn": [
                          64317.24185
                        ],
                        "iteration": 276,
                        "passed_time": 0.1443766595,
                        "remaining_time": 0.3768387178
                      },
                      {
                        "learn": [
                          64317.2391
                        ],
                        "iteration": 277,
                        "passed_time": 0.1448868245,
                        "remaining_time": 0.3762888031
                      },
                      {
                        "learn": [
                          64317.23655
                        ],
                        "iteration": 278,
                        "passed_time": 0.145335401,
                        "remaining_time": 0.3755800148
                      },
                      {
                        "learn": [
                          64317.23535
                        ],
                        "iteration": 279,
                        "passed_time": 0.1459847418,
                        "remaining_time": 0.3753893361
                      },
                      {
                        "learn": [
                          64317.2331
                        ],
                        "iteration": 280,
                        "passed_time": 0.1463149823,
                        "remaining_time": 0.3743789049
                      },
                      {
                        "learn": [
                          64317.23103
                        ],
                        "iteration": 281,
                        "passed_time": 0.1466254131,
                        "remaining_time": 0.3733228604
                      },
                      {
                        "learn": [
                          64317.22913
                        ],
                        "iteration": 282,
                        "passed_time": 0.1470209112,
                        "remaining_time": 0.372487609
                      },
                      {
                        "learn": [
                          64317.22913
                        ],
                        "iteration": 283,
                        "passed_time": 0.147272634,
                        "remaining_time": 0.3712929787
                      },
                      {
                        "learn": [
                          64317.22737
                        ],
                        "iteration": 284,
                        "passed_time": 0.1480463014,
                        "remaining_time": 0.3714144053
                      },
                      {
                        "learn": [
                          64317.22575
                        ],
                        "iteration": 285,
                        "passed_time": 0.1485506763,
                        "remaining_time": 0.3708572828
                      },
                      {
                        "learn": [
                          64317.22426
                        ],
                        "iteration": 286,
                        "passed_time": 0.1491275593,
                        "remaining_time": 0.3704806612
                      },
                      {
                        "learn": [
                          64317.22289
                        ],
                        "iteration": 287,
                        "passed_time": 0.149611825,
                        "remaining_time": 0.3698736784
                      },
                      {
                        "learn": [
                          64317.22163
                        ],
                        "iteration": 288,
                        "passed_time": 0.1499299956,
                        "remaining_time": 0.3688589164
                      },
                      {
                        "learn": [
                          64317.22046
                        ],
                        "iteration": 289,
                        "passed_time": 0.1502972545,
                        "remaining_time": 0.3679691403
                      },
                      {
                        "learn": [
                          64317.21938
                        ],
                        "iteration": 290,
                        "passed_time": 0.1510160533,
                        "remaining_time": 0.3679394563
                      },
                      {
                        "learn": [
                          64317.21839
                        ],
                        "iteration": 291,
                        "passed_time": 0.1520112039,
                        "remaining_time": 0.3685751108
                      },
                      {
                        "learn": [
                          64317.21748
                        ],
                        "iteration": 292,
                        "passed_time": 0.1524663305,
                        "remaining_time": 0.3678965721
                      },
                      {
                        "learn": [
                          64317.21664
                        ],
                        "iteration": 293,
                        "passed_time": 0.1531871594,
                        "remaining_time": 0.3678576005
                      },
                      {
                        "learn": [
                          64317.21587
                        ],
                        "iteration": 294,
                        "passed_time": 0.1534999302,
                        "remaining_time": 0.3668388162
                      },
                      {
                        "learn": [
                          64317.21515
                        ],
                        "iteration": 295,
                        "passed_time": 0.1538569596,
                        "remaining_time": 0.3659300661
                      },
                      {
                        "learn": [
                          64317.21449
                        ],
                        "iteration": 296,
                        "passed_time": 0.1543090063,
                        "remaining_time": 0.3652499374
                      },
                      {
                        "learn": [
                          64317.21389
                        ],
                        "iteration": 297,
                        "passed_time": 0.1547660328,
                        "remaining_time": 0.3645830705
                      },
                      {
                        "learn": [
                          64317.21333
                        ],
                        "iteration": 298,
                        "passed_time": 0.1554952113,
                        "remaining_time": 0.3645556625
                      },
                      {
                        "learn": [
                          64317.21281
                        ],
                        "iteration": 299,
                        "passed_time": 0.1558351612,
                        "remaining_time": 0.3636153762
                      },
                      {
                        "learn": [
                          64317.21234
                        ],
                        "iteration": 300,
                        "passed_time": 0.1564421033,
                        "remaining_time": 0.3632991037
                      },
                      {
                        "learn": [
                          64317.2119
                        ],
                        "iteration": 301,
                        "passed_time": 0.1567492245,
                        "remaining_time": 0.3622879426
                      },
                      {
                        "learn": [
                          64317.21149
                        ],
                        "iteration": 302,
                        "passed_time": 0.1570586553,
                        "remaining_time": 0.3612867418
                      },
                      {
                        "learn": [
                          64317.21112
                        ],
                        "iteration": 303,
                        "passed_time": 0.1573744958,
                        "remaining_time": 0.3603047666
                      },
                      {
                        "learn": [
                          64317.21078
                        ],
                        "iteration": 304,
                        "passed_time": 0.1576607873,
                        "remaining_time": 0.3592598268
                      },
                      {
                        "learn": [
                          64317.21046
                        ],
                        "iteration": 305,
                        "passed_time": 0.1579527485,
                        "remaining_time": 0.3582327041
                      },
                      {
                        "learn": [
                          64317.21017
                        ],
                        "iteration": 306,
                        "passed_time": 0.1582791988,
                        "remaining_time": 0.3572882241
                      },
                      {
                        "learn": [
                          64317.2099
                        ],
                        "iteration": 307,
                        "passed_time": 0.1585883795,
                        "remaining_time": 0.3563089565
                      },
                      {
                        "learn": [
                          64317.20965
                        ],
                        "iteration": 308,
                        "passed_time": 0.1588999103,
                        "remaining_time": 0.3553392816
                      },
                      {
                        "learn": [
                          64317.20943
                        ],
                        "iteration": 309,
                        "passed_time": 0.1592007414,
                        "remaining_time": 0.3543500373
                      },
                      {
                        "learn": [
                          64317.20922
                        ],
                        "iteration": 310,
                        "passed_time": 0.159517912,
                        "remaining_time": 0.3534014193
                      },
                      {
                        "learn": [
                          64317.20902
                        ],
                        "iteration": 311,
                        "passed_time": 0.1598413625,
                        "remaining_time": 0.3524706968
                      },
                      {
                        "learn": [
                          64317.20884
                        ],
                        "iteration": 312,
                        "passed_time": 0.1601402137,
                        "remaining_time": 0.351489862
                      },
                      {
                        "learn": [
                          64317.20868
                        ],
                        "iteration": 313,
                        "passed_time": 0.1604520947,
                        "remaining_time": 0.3505418374
                      },
                      {
                        "learn": [
                          64317.20853
                        ],
                        "iteration": 314,
                        "passed_time": 0.1607649254,
                        "remaining_time": 0.3495999172
                      },
                      {
                        "learn": [
                          64317.20838
                        ],
                        "iteration": 315,
                        "passed_time": 0.1610725364,
                        "remaining_time": 0.34865068
                      },
                      {
                        "learn": [
                          64317.20826
                        ],
                        "iteration": 316,
                        "passed_time": 0.1613795273,
                        "remaining_time": 0.347704155
                      },
                      {
                        "learn": [
                          64317.20814
                        ],
                        "iteration": 317,
                        "passed_time": 0.1616974281,
                        "remaining_time": 0.3467850503
                      },
                      {
                        "learn": [
                          64317.20803
                        ],
                        "iteration": 318,
                        "passed_time": 0.1619996992,
                        "remaining_time": 0.3458363485
                      },
                      {
                        "learn": [
                          64317.20792
                        ],
                        "iteration": 319,
                        "passed_time": 0.1622940803,
                        "remaining_time": 0.3448749206
                      },
                      {
                        "learn": [
                          64317.20783
                        ],
                        "iteration": 320,
                        "passed_time": 0.1626123811,
                        "remaining_time": 0.3439682454
                      },
                      {
                        "learn": [
                          64317.20775
                        ],
                        "iteration": 321,
                        "passed_time": 0.162920332,
                        "remaining_time": 0.343043432
                      },
                      {
                        "learn": [
                          64317.20767
                        ],
                        "iteration": 322,
                        "passed_time": 0.1632317628,
                        "remaining_time": 0.342129732
                      },
                      {
                        "learn": [
                          64317.20759
                        ],
                        "iteration": 323,
                        "passed_time": 0.163524744,
                        "remaining_time": 0.3411812559
                      },
                      {
                        "learn": [
                          64317.20752
                        ],
                        "iteration": 324,
                        "passed_time": 0.163828375,
                        "remaining_time": 0.3402589327
                      },
                      {
                        "learn": [
                          64317.20746
                        ],
                        "iteration": 325,
                        "passed_time": 0.1641435057,
                        "remaining_time": 0.3393641805
                      },
                      {
                        "learn": [
                          64317.2074
                        ],
                        "iteration": 326,
                        "passed_time": 0.1644557863,
                        "remaining_time": 0.3384671075
                      },
                      {
                        "learn": [
                          64317.20735
                        ],
                        "iteration": 327,
                        "passed_time": 0.1647871365,
                        "remaining_time": 0.3376126698
                      },
                      {
                        "learn": [
                          64317.2073
                        ],
                        "iteration": 328,
                        "passed_time": 0.1651242665,
                        "remaining_time": 0.3367732001
                      },
                      {
                        "learn": [
                          64317.20726
                        ],
                        "iteration": 329,
                        "passed_time": 0.1654485369,
                        "remaining_time": 0.3359106659
                      },
                      {
                        "learn": [
                          64317.20722
                        ],
                        "iteration": 330,
                        "passed_time": 0.1657620575,
                        "remaining_time": 0.3350296569
                      },
                      {
                        "learn": [
                          64317.20718
                        ],
                        "iteration": 331,
                        "passed_time": 0.1746272659,
                        "remaining_time": 0.3513584748
                      },
                      {
                        "learn": [
                          64317.20714
                        ],
                        "iteration": 332,
                        "passed_time": 0.1750194344,
                        "remaining_time": 0.3505644526
                      },
                      {
                        "learn": [
                          64317.20711
                        ],
                        "iteration": 333,
                        "passed_time": 0.1753518245,
                        "remaining_time": 0.3496536382
                      },
                      {
                        "learn": [
                          64317.20708
                        ],
                        "iteration": 334,
                        "passed_time": 0.1756804748,
                        "remaining_time": 0.3487388531
                      },
                      {
                        "learn": [
                          64317.20705
                        ],
                        "iteration": 335,
                        "passed_time": 0.1766201271,
                        "remaining_time": 0.3490350131
                      },
                      {
                        "learn": [
                          64317.20703
                        ],
                        "iteration": 336,
                        "passed_time": 0.177130532,
                        "remaining_time": 0.3484793553
                      },
                      {
                        "learn": [
                          64317.207
                        ],
                        "iteration": 337,
                        "passed_time": 0.1777547838,
                        "remaining_time": 0.3481469435
                      },
                      {
                        "learn": [
                          64317.20698
                        ],
                        "iteration": 338,
                        "passed_time": 0.1783106874,
                        "remaining_time": 0.3476795409
                      },
                      {
                        "learn": [
                          64317.20696
                        ],
                        "iteration": 339,
                        "passed_time": 0.1788557211,
                        "remaining_time": 0.3471905174
                      },
                      {
                        "learn": [
                          64317.20694
                        ],
                        "iteration": 340,
                        "passed_time": 0.1794978221,
                        "remaining_time": 0.346888753
                      },
                      {
                        "learn": [
                          64317.20692
                        ],
                        "iteration": 341,
                        "passed_time": 0.1798214726,
                        "remaining_time": 0.3459723069
                      },
                      {
                        "learn": [
                          64317.20691
                        ],
                        "iteration": 342,
                        "passed_time": 0.1801119938,
                        "remaining_time": 0.3449958598
                      },
                      {
                        "learn": [
                          64317.20689
                        ],
                        "iteration": 343,
                        "passed_time": 0.1809956975,
                        "remaining_time": 0.3451545859
                      },
                      {
                        "learn": [
                          64317.20688
                        ],
                        "iteration": 344,
                        "passed_time": 0.1813394073,
                        "remaining_time": 0.3442820632
                      },
                      {
                        "learn": [
                          64317.20687
                        ],
                        "iteration": 345,
                        "passed_time": 0.1816307089,
                        "remaining_time": 0.3433135366
                      },
                      {
                        "learn": [
                          64317.20686
                        ],
                        "iteration": 346,
                        "passed_time": 0.1824579347,
                        "remaining_time": 0.3433574392
                      },
                      {
                        "learn": [
                          64317.20685
                        ],
                        "iteration": 347,
                        "passed_time": 0.1827702557,
                        "remaining_time": 0.3424316286
                      },
                      {
                        "learn": [
                          64317.20684
                        ],
                        "iteration": 348,
                        "passed_time": 0.1831103159,
                        "remaining_time": 0.3415610764
                      },
                      {
                        "learn": [
                          64317.20683
                        ],
                        "iteration": 349,
                        "passed_time": 0.1840316087,
                        "remaining_time": 0.3417729876
                      },
                      {
                        "learn": [
                          64317.20682
                        ],
                        "iteration": 350,
                        "passed_time": 0.1843378797,
                        "remaining_time": 0.3408412647
                      },
                      {
                        "learn": [
                          64317.20681
                        ],
                        "iteration": 351,
                        "passed_time": 0.1846542801,
                        "remaining_time": 0.3399317429
                      },
                      {
                        "learn": [
                          64317.2068
                        ],
                        "iteration": 352,
                        "passed_time": 0.1855957923,
                        "remaining_time": 0.3401713247
                      },
                      {
                        "learn": [
                          64317.2068
                        ],
                        "iteration": 353,
                        "passed_time": 0.1859327624,
                        "remaining_time": 0.3393010296
                      },
                      {
                        "learn": [
                          64317.20679
                        ],
                        "iteration": 354,
                        "passed_time": 0.1862305136,
                        "remaining_time": 0.3383624824
                      },
                      {
                        "learn": [
                          64317.20679
                        ],
                        "iteration": 355,
                        "passed_time": 0.1871449866,
                        "remaining_time": 0.338543178
                      },
                      {
                        "learn": [
                          64317.20678
                        ],
                        "iteration": 356,
                        "passed_time": 0.1874783065,
                        "remaining_time": 0.3376710115
                      },
                      {
                        "learn": [
                          64317.20678
                        ],
                        "iteration": 357,
                        "passed_time": 0.1881633761,
                        "remaining_time": 0.3374326465
                      },
                      {
                        "learn": [
                          64317.20677
                        ],
                        "iteration": 358,
                        "passed_time": 0.1887583385,
                        "remaining_time": 0.3370309052
                      },
                      {
                        "learn": [
                          64317.20677
                        ],
                        "iteration": 359,
                        "passed_time": 0.1893232316,
                        "remaining_time": 0.336574634
                      },
                      {
                        "learn": [
                          64317.20676
                        ],
                        "iteration": 360,
                        "passed_time": 0.1901542871,
                        "remaining_time": 0.3365888904
                      },
                      {
                        "learn": [
                          64317.20676
                        ],
                        "iteration": 361,
                        "passed_time": 0.1904604078,
                        "remaining_time": 0.3356733154
                      },
                      {
                        "learn": [
                          64317.20676
                        ],
                        "iteration": 362,
                        "passed_time": 0.190757979,
                        "remaining_time": 0.3347460954
                      },
                      {
                        "learn": [
                          64317.20675
                        ],
                        "iteration": 363,
                        "passed_time": 0.1916075739,
                        "remaining_time": 0.33478686
                      },
                      {
                        "learn": [
                          64317.20675
                        ],
                        "iteration": 364,
                        "passed_time": 0.191952774,
                        "remaining_time": 0.3339452369
                      },
                      {
                        "learn": [
                          64317.20675
                        ],
                        "iteration": 365,
                        "passed_time": 0.1926586731,
                        "remaining_time": 0.3337311442
                      },
                      {
                        "learn": [
                          64317.20675
                        ],
                        "iteration": 366,
                        "passed_time": 0.1930230624,
                        "remaining_time": 0.3329253364
                      },
                      {
                        "learn": [
                          64317.20675
                        ],
                        "iteration": 367,
                        "passed_time": 0.1936041154,
                        "remaining_time": 0.3324940243
                      },
                      {
                        "learn": [
                          64317.20674
                        ],
                        "iteration": 368,
                        "passed_time": 0.1941641891,
                        "remaining_time": 0.3320260253
                      },
                      {
                        "learn": [
                          64317.20674
                        ],
                        "iteration": 369,
                        "passed_time": 0.1947404423,
                        "remaining_time": 0.3315850775
                      },
                      {
                        "learn": [
                          64317.20674
                        ],
                        "iteration": 370,
                        "passed_time": 0.1952877364,
                        "remaining_time": 0.3310943024
                      },
                      {
                        "learn": [
                          64317.20674
                        ],
                        "iteration": 371,
                        "passed_time": 0.1959479667,
                        "remaining_time": 0.3307938792
                      },
                      {
                        "learn": [
                          64317.20674
                        ],
                        "iteration": 372,
                        "passed_time": 0.1964665714,
                        "remaining_time": 0.3302534591
                      },
                      {
                        "learn": [
                          64317.20674
                        ],
                        "iteration": 373,
                        "passed_time": 0.1969405476,
                        "remaining_time": 0.3296384567
                      },
                      {
                        "learn": [
                          64317.20673
                        ],
                        "iteration": 374,
                        "passed_time": 0.1975063611,
                        "remaining_time": 0.3291772685
                      },
                      {
                        "learn": [
                          64317.20673
                        ],
                        "iteration": 375,
                        "passed_time": 0.1981103931,
                        "remaining_time": 0.3287789502
                      },
                      {
                        "learn": [
                          64317.20673
                        ],
                        "iteration": 376,
                        "passed_time": 0.1987095856,
                        "remaining_time": 0.3283715433
                      },
                      {
                        "learn": [
                          64317.20673
                        ],
                        "iteration": 377,
                        "passed_time": 0.1990157268,
                        "remaining_time": 0.3274809049
                      },
                      {
                        "learn": [
                          64317.20673
                        ],
                        "iteration": 378,
                        "passed_time": 0.1993542465,
                        "remaining_time": 0.326646404
                      },
                      {
                        "learn": [
                          64317.20673
                        ],
                        "iteration": 379,
                        "passed_time": 0.2005713506,
                        "remaining_time": 0.3272479931
                      },
                      {
                        "learn": [
                          64317.20673
                        ],
                        "iteration": 380,
                        "passed_time": 0.2011569035,
                        "remaining_time": 0.3268139719
                      },
                      {
                        "learn": [
                          64317.20673
                        ],
                        "iteration": 381,
                        "passed_time": 0.2017607457,
                        "remaining_time": 0.3264087457
                      },
                      {
                        "learn": [
                          64317.20673
                        ],
                        "iteration": 382,
                        "passed_time": 0.2021113451,
                        "remaining_time": 0.3255945169
                      },
                      {
                        "learn": [
                          64317.20673
                        ],
                        "iteration": 383,
                        "passed_time": 0.2024102563,
                        "remaining_time": 0.3246997862
                      },
                      {
                        "learn": [
                          64317.20673
                        ],
                        "iteration": 384,
                        "passed_time": 0.2027917051,
                        "remaining_time": 0.3239399964
                      },
                      {
                        "learn": [
                          64317.20673
                        ],
                        "iteration": 385,
                        "passed_time": 0.2031182554,
                        "remaining_time": 0.3230948415
                      },
                      {
                        "learn": [
                          64317.20673
                        ],
                        "iteration": 386,
                        "passed_time": 0.2034397859,
                        "remaining_time": 0.3222444154
                      },
                      {
                        "learn": [
                          64317.20672
                        ],
                        "iteration": 387,
                        "passed_time": 0.2048494043,
                        "remaining_time": 0.3231129779
                      },
                      {
                        "learn": [
                          64317.20672
                        ],
                        "iteration": 388,
                        "passed_time": 0.2052530822,
                        "remaining_time": 0.3223898026
                      },
                      {
                        "learn": [
                          64317.20672
                        ],
                        "iteration": 389,
                        "passed_time": 0.2075367645,
                        "remaining_time": 0.3246087855
                      },
                      {
                        "learn": [
                          64317.20672
                        ],
                        "iteration": 390,
                        "passed_time": 0.2082904423,
                        "remaining_time": 0.3244216863
                      },
                      {
                        "learn": [
                          64317.20672
                        ],
                        "iteration": 391,
                        "passed_time": 0.209138067,
                        "remaining_time": 0.3243774101
                      },
                      {
                        "learn": [
                          64317.20672
                        ],
                        "iteration": 392,
                        "passed_time": 0.209512296,
                        "remaining_time": 0.3235978719
                      },
                      {
                        "learn": [
                          64317.20672
                        ],
                        "iteration": 393,
                        "passed_time": 0.2101400877,
                        "remaining_time": 0.3232103886
                      },
                      {
                        "learn": [
                          64317.20672
                        ],
                        "iteration": 394,
                        "passed_time": 0.210494787,
                        "remaining_time": 0.3224034079
                      },
                      {
                        "learn": [
                          64317.20672
                        ],
                        "iteration": 395,
                        "passed_time": 0.210831737,
                        "remaining_time": 0.3215716393
                      },
                      {
                        "learn": [
                          64317.20672
                        ],
                        "iteration": 396,
                        "passed_time": 0.2117337704,
                        "remaining_time": 0.3216006638
                      },
                      {
                        "learn": [
                          64317.20672
                        ],
                        "iteration": 397,
                        "passed_time": 0.2122967835,
                        "remaining_time": 0.3211122203
                      },
                      {
                        "learn": [
                          64317.20672
                        ],
                        "iteration": 398,
                        "passed_time": 0.2128883763,
                        "remaining_time": 0.3206664515
                      },
                      {
                        "learn": [
                          64317.20672
                        ],
                        "iteration": 399,
                        "passed_time": 0.213600425,
                        "remaining_time": 0.3204006376
                      },
                      {
                        "learn": [
                          64317.20672
                        ],
                        "iteration": 400,
                        "passed_time": 0.2139130758,
                        "remaining_time": 0.3195359911
                      },
                      {
                        "learn": [
                          64317.20672
                        ],
                        "iteration": 401,
                        "passed_time": 0.214657884,
                        "remaining_time": 0.3193169519
                      },
                      {
                        "learn": [
                          64317.20672
                        ],
                        "iteration": 402,
                        "passed_time": 0.215267446,
                        "remaining_time": 0.3188949511
                      },
                      {
                        "learn": [
                          64317.20672
                        ],
                        "iteration": 403,
                        "passed_time": 0.2155707171,
                        "remaining_time": 0.3180201668
                      },
                      {
                        "learn": [
                          64317.20672
                        ],
                        "iteration": 404,
                        "passed_time": 0.2158750481,
                        "remaining_time": 0.317149762
                      },
                      {
                        "learn": [
                          64317.20672
                        ],
                        "iteration": 405,
                        "passed_time": 0.2167558221,
                        "remaining_time": 0.3171255131
                      },
                      {
                        "learn": [
                          64317.20672
                        ],
                        "iteration": 406,
                        "passed_time": 0.2170734029,
                        "remaining_time": 0.3162764814
                      },
                      {
                        "learn": [
                          64317.20672
                        ],
                        "iteration": 407,
                        "passed_time": 0.2173919335,
                        "remaining_time": 0.315431433
                      },
                      {
                        "learn": [
                          64317.20672
                        ],
                        "iteration": 408,
                        "passed_time": 0.217688275,
                        "remaining_time": 0.3145568962
                      },
                      {
                        "learn": [
                          64317.20672
                        ],
                        "iteration": 409,
                        "passed_time": 0.2186965852,
                        "remaining_time": 0.3147097202
                      },
                      {
                        "learn": [
                          64317.20672
                        ],
                        "iteration": 410,
                        "passed_time": 0.2190172958,
                        "remaining_time": 0.3138715017
                      },
                      {
                        "learn": [
                          64317.20672
                        ],
                        "iteration": 411,
                        "passed_time": 0.2192917175,
                        "remaining_time": 0.3129697327
                      },
                      {
                        "learn": [
                          64317.20672
                        ],
                        "iteration": 412,
                        "passed_time": 0.2201304927,
                        "remaining_time": 0.3128731216
                      },
                      {
                        "learn": [
                          64317.20672
                        ],
                        "iteration": 413,
                        "passed_time": 0.2205540802,
                        "remaining_time": 0.3121852439
                      },
                      {
                        "learn": [
                          64317.20672
                        ],
                        "iteration": 414,
                        "passed_time": 0.2209568283,
                        "remaining_time": 0.311469264
                      },
                      {
                        "learn": [
                          64317.20672
                        ],
                        "iteration": 415,
                        "passed_time": 0.2217873438,
                        "remaining_time": 0.3113553095
                      },
                      {
                        "learn": [
                          64317.20672
                        ],
                        "iteration": 416,
                        "passed_time": 0.2230460968,
                        "remaining_time": 0.3118366294
                      },
                      {
                        "learn": [
                          64317.20672
                        ],
                        "iteration": 417,
                        "passed_time": 0.2233586476,
                        "remaining_time": 0.310992184
                      },
                      {
                        "learn": [
                          64317.20672
                        ],
                        "iteration": 418,
                        "passed_time": 0.2240874261,
                        "remaining_time": 0.3107274333
                      },
                      {
                        "learn": [
                          64317.20672
                        ],
                        "iteration": 419,
                        "passed_time": 0.2247242575,
                        "remaining_time": 0.3103334985
                      },
                      {
                        "learn": [
                          64317.20672
                        ],
                        "iteration": 420,
                        "passed_time": 0.2250731272,
                        "remaining_time": 0.3095423768
                      },
                      {
                        "learn": [
                          64317.20672
                        ],
                        "iteration": 421,
                        "passed_time": 0.2260246391,
                        "remaining_time": 0.3095787711
                      },
                      {
                        "learn": [
                          64317.20672
                        ],
                        "iteration": 422,
                        "passed_time": 0.2266285813,
                        "remaining_time": 0.3091363863
                      },
                      {
                        "learn": [
                          64317.20672
                        ],
                        "iteration": 423,
                        "passed_time": 0.2271954543,
                        "remaining_time": 0.3086428813
                      },
                      {
                        "learn": [
                          64317.20672
                        ],
                        "iteration": 424,
                        "passed_time": 0.2278018462,
                        "remaining_time": 0.3082024978
                      },
                      {
                        "learn": [
                          64317.20672
                        ],
                        "iteration": 425,
                        "passed_time": 0.228121387,
                        "remaining_time": 0.3073748266
                      },
                      {
                        "learn": [
                          64317.20672
                        ],
                        "iteration": 426,
                        "passed_time": 0.2284117486,
                        "remaining_time": 0.3065103793
                      },
                      {
                        "learn": [
                          64317.20672
                        ],
                        "iteration": 427,
                        "passed_time": 0.2293810098,
                        "remaining_time": 0.306555929
                      },
                      {
                        "learn": [
                          64317.20672
                        ],
                        "iteration": 428,
                        "passed_time": 0.2296891607,
                        "remaining_time": 0.3057168083
                      },
                      {
                        "learn": [
                          64317.20672
                        ],
                        "iteration": 429,
                        "passed_time": 0.2299879119,
                        "remaining_time": 0.3048676971
                      },
                      {
                        "learn": [
                          64317.20672
                        ],
                        "iteration": 430,
                        "passed_time": 0.2309206643,
                        "remaining_time": 0.3048581392
                      },
                      {
                        "learn": [
                          64317.20672
                        ],
                        "iteration": 431,
                        "passed_time": 0.2312325351,
                        "remaining_time": 0.3040279629
                      },
                      {
                        "learn": [
                          64317.20672
                        ],
                        "iteration": 432,
                        "passed_time": 0.2315667253,
                        "remaining_time": 0.303229407
                      },
                      {
                        "learn": [
                          64317.20672
                        ],
                        "iteration": 433,
                        "passed_time": 0.2324968978,
                        "remaining_time": 0.30321024
                      },
                      {
                        "learn": [
                          64317.20672
                        ],
                        "iteration": 434,
                        "passed_time": 0.2328160284,
                        "remaining_time": 0.3023932323
                      },
                      {
                        "learn": [
                          64317.20672
                        ],
                        "iteration": 435,
                        "passed_time": 0.2331367789,
                        "remaining_time": 0.3015806039
                      },
                      {
                        "learn": [
                          64317.20672
                        ],
                        "iteration": 436,
                        "passed_time": 0.2334438596,
                        "remaining_time": 0.3007526155
                      },
                      {
                        "learn": [
                          64317.20672
                        ],
                        "iteration": 437,
                        "passed_time": 0.2340538514,
                        "remaining_time": 0.3003156723
                      },
                      {
                        "learn": [
                          64317.20672
                        ],
                        "iteration": 438,
                        "passed_time": 0.2346522137,
                        "remaining_time": 0.2998630795
                      },
                      {
                        "learn": [
                          64317.20672
                        ],
                        "iteration": 439,
                        "passed_time": 0.2355341175,
                        "remaining_time": 0.2997706949
                      },
                      {
                        "learn": [
                          64317.20672
                        ],
                        "iteration": 440,
                        "passed_time": 0.2360635218,
                        "remaining_time": 0.2992279109
                      },
                      {
                        "learn": [
                          64317.20672
                        ],
                        "iteration": 441,
                        "passed_time": 0.2367650011,
                        "remaining_time": 0.2989024222
                      },
                      {
                        "learn": [
                          64317.20672
                        ],
                        "iteration": 442,
                        "passed_time": 0.2370630225,
                        "remaining_time": 0.2980679538
                      },
                      {
                        "learn": [
                          64317.20672
                        ],
                        "iteration": 443,
                        "passed_time": 0.2377680515,
                        "remaining_time": 0.297745578
                      },
                      {
                        "learn": [
                          64317.20672
                        ],
                        "iteration": 444,
                        "passed_time": 0.238090182,
                        "remaining_time": 0.2969439348
                      },
                      {
                        "learn": [
                          64317.20672
                        ],
                        "iteration": 445,
                        "passed_time": 0.2389996449,
                        "remaining_time": 0.2968739984
                      },
                      {
                        "learn": [
                          64317.20672
                        ],
                        "iteration": 446,
                        "passed_time": 0.2396164765,
                        "remaining_time": 0.2964382807
                      },
                      {
                        "learn": [
                          64317.20672
                        ],
                        "iteration": 447,
                        "passed_time": 0.2402460281,
                        "remaining_time": 0.2960174275
                      },
                      {
                        "learn": [
                          64317.20672
                        ],
                        "iteration": 448,
                        "passed_time": 0.2405416194,
                        "remaining_time": 0.295185818
                      },
                      {
                        "learn": [
                          64317.20672
                        ],
                        "iteration": 449,
                        "passed_time": 0.2410334551,
                        "remaining_time": 0.2945964451
                      },
                      {
                        "learn": [
                          64317.20672
                        ],
                        "iteration": 450,
                        "passed_time": 0.241678576,
                        "remaining_time": 0.2941940981
                      },
                      {
                        "learn": [
                          64317.20672
                        ],
                        "iteration": 451,
                        "passed_time": 0.2422711883,
                        "remaining_time": 0.2937270159
                      },
                      {
                        "learn": [
                          64317.20672
                        ],
                        "iteration": 452,
                        "passed_time": 0.242967378,
                        "remaining_time": 0.2933844498
                      },
                      {
                        "learn": [
                          64317.20672
                        ],
                        "iteration": 453,
                        "passed_time": 0.243516432,
                        "remaining_time": 0.2928633742
                      },
                      {
                        "learn": [
                          64317.20672
                        ],
                        "iteration": 454,
                        "passed_time": 0.2438361826,
                        "remaining_time": 0.2920675154
                      },
                      {
                        "learn": [
                          64317.20672
                        ],
                        "iteration": 455,
                        "passed_time": 0.2441470734,
                        "remaining_time": 0.2912631753
                      },
                      {
                        "learn": [
                          64317.20672
                        ],
                        "iteration": 456,
                        "passed_time": 0.2446488786,
                        "remaining_time": 0.290687836
                      },
                      {
                        "learn": [
                          64317.20672
                        ],
                        "iteration": 457,
                        "passed_time": 0.2449868588,
                        "remaining_time": 0.2899189465
                      },
                      {
                        "learn": [
                          64317.20672
                        ],
                        "iteration": 458,
                        "passed_time": 0.2456828783,
                        "remaining_time": 0.2895739371
                      },
                      {
                        "learn": [
                          64317.20672
                        ],
                        "iteration": 459,
                        "passed_time": 0.246232502,
                        "remaining_time": 0.2890555459
                      },
                      {
                        "learn": [
                          64317.20672
                        ],
                        "iteration": 460,
                        "passed_time": 0.2467118879,
                        "remaining_time": 0.2884548971
                      },
                      {
                        "learn": [
                          64317.20672
                        ],
                        "iteration": 461,
                        "passed_time": 0.2474809852,
                        "remaining_time": 0.2881921429
                      },
                      {
                        "learn": [
                          64317.20672
                        ],
                        "iteration": 462,
                        "passed_time": 0.2480000201,
                        "remaining_time": 0.2876371723
                      },
                      {
                        "learn": [
                          64317.20672
                        ],
                        "iteration": 463,
                        "passed_time": 0.2484798761,
                        "remaining_time": 0.2870370983
                      },
                      {
                        "learn": [
                          64317.20672
                        ],
                        "iteration": 464,
                        "passed_time": 0.2491471662,
                        "remaining_time": 0.2866531912
                      },
                      {
                        "learn": [
                          64317.20672
                        ],
                        "iteration": 465,
                        "passed_time": 0.2497074794,
                        "remaining_time": 0.2861454807
                      },
                      {
                        "learn": [
                          64317.20672
                        ],
                        "iteration": 466,
                        "passed_time": 0.2502656132,
                        "remaining_time": 0.2856350574
                      },
                      {
                        "learn": [
                          64317.20672
                        ],
                        "iteration": 467,
                        "passed_time": 0.2508301863,
                        "remaining_time": 0.2851317502
                      },
                      {
                        "learn": [
                          64317.20672
                        ],
                        "iteration": 468,
                        "passed_time": 0.2512811028,
                        "remaining_time": 0.2844995001
                      },
                      {
                        "learn": [
                          64317.20672
                        ],
                        "iteration": 469,
                        "passed_time": 0.2518358766,
                        "remaining_time": 0.2839851374
                      },
                      {
                        "learn": [
                          64317.20672
                        ],
                        "iteration": 470,
                        "passed_time": 0.2523733909,
                        "remaining_time": 0.2834512183
                      },
                      {
                        "learn": [
                          64317.20672
                        ],
                        "iteration": 471,
                        "passed_time": 0.2528089883,
                        "remaining_time": 0.2828032751
                      },
                      {
                        "learn": [
                          64317.20672
                        ],
                        "iteration": 472,
                        "passed_time": 0.2532208961,
                        "remaining_time": 0.2821298357
                      },
                      {
                        "learn": [
                          64317.20672
                        ],
                        "iteration": 473,
                        "passed_time": 0.2540820209,
                        "remaining_time": 0.2819559979
                      },
                      {
                        "learn": [
                          64317.20672
                        ],
                        "iteration": 474,
                        "passed_time": 0.2556409447,
                        "remaining_time": 0.2825505178
                      },
                      {
                        "learn": [
                          64317.20672
                        ],
                        "iteration": 475,
                        "passed_time": 0.256004514,
                        "remaining_time": 0.2818200952
                      },
                      {
                        "learn": [
                          64317.20672
                        ],
                        "iteration": 476,
                        "passed_time": 0.2568235498,
                        "remaining_time": 0.2815906007
                      },
                      {
                        "learn": [
                          64317.20672
                        ],
                        "iteration": 477,
                        "passed_time": 0.2577816713,
                        "remaining_time": 0.281510528
                      },
                      {
                        "learn": [
                          64317.20672
                        ],
                        "iteration": 478,
                        "passed_time": 0.2581195511,
                        "remaining_time": 0.2807521631
                      },
                      {
                        "learn": [
                          64317.20672
                        ],
                        "iteration": 479,
                        "passed_time": 0.2584813902,
                        "remaining_time": 0.280021506
                      },
                      {
                        "learn": [
                          64317.20672
                        ],
                        "iteration": 480,
                        "passed_time": 0.2588621491,
                        "remaining_time": 0.2793127971
                      },
                      {
                        "learn": [
                          64317.20672
                        ],
                        "iteration": 481,
                        "passed_time": 0.2600661438,
                        "remaining_time": 0.2794901712
                      },
                      {
                        "learn": [
                          64317.20672
                        ],
                        "iteration": 482,
                        "passed_time": 0.2607328641,
                        "remaining_time": 0.2790867303
                      },
                      {
                        "learn": [
                          64317.20672
                        ],
                        "iteration": 483,
                        "passed_time": 0.2610589145,
                        "remaining_time": 0.278319008
                      },
                      {
                        "learn": [
                          64317.20672
                        ],
                        "iteration": 484,
                        "passed_time": 0.2615652396,
                        "remaining_time": 0.2777445327
                      },
                      {
                        "learn": [
                          64317.20672
                        ],
                        "iteration": 485,
                        "passed_time": 0.2621632917,
                        "remaining_time": 0.2772673496
                      },
                      {
                        "learn": [
                          64317.20672
                        ],
                        "iteration": 486,
                        "passed_time": 0.2624685329,
                        "remaining_time": 0.2764812266
                      },
                      {
                        "learn": [
                          64317.20672
                        ],
                        "iteration": 487,
                        "passed_time": 0.2631467529,
                        "remaining_time": 0.2760883964
                      },
                      {
                        "learn": [
                          64317.20672
                        ],
                        "iteration": 488,
                        "passed_time": 0.2636059393,
                        "remaining_time": 0.2754655112
                      },
                      {
                        "learn": [
                          64317.20672
                        ],
                        "iteration": 489,
                        "passed_time": 0.2641616829,
                        "remaining_time": 0.2749437924
                      },
                      {
                        "learn": [
                          64317.20672
                        ],
                        "iteration": 490,
                        "passed_time": 0.2647001968,
                        "remaining_time": 0.2744040736
                      },
                      {
                        "learn": [
                          64317.20672
                        ],
                        "iteration": 491,
                        "passed_time": 0.2651133046,
                        "remaining_time": 0.2737348755
                      },
                      {
                        "learn": [
                          64317.20672
                        ],
                        "iteration": 492,
                        "passed_time": 0.265675948,
                        "remaining_time": 0.2732204982
                      },
                      {
                        "learn": [
                          64317.20672
                        ],
                        "iteration": 493,
                        "passed_time": 0.2659690291,
                        "remaining_time": 0.2724298152
                      },
                      {
                        "learn": [
                          64317.20672
                        ],
                        "iteration": 494,
                        "passed_time": 0.2664158959,
                        "remaining_time": 0.2717980352
                      },
                      {
                        "learn": [
                          64317.20672
                        ],
                        "iteration": 495,
                        "passed_time": 0.2670336874,
                        "remaining_time": 0.2713406824
                      },
                      {
                        "learn": [
                          64317.20672
                        ],
                        "iteration": 496,
                        "passed_time": 0.2673401984,
                        "remaining_time": 0.2705676455
                      },
                      {
                        "learn": [
                          64317.20672
                        ],
                        "iteration": 497,
                        "passed_time": 0.2680429576,
                        "remaining_time": 0.2701959131
                      },
                      {
                        "learn": [
                          64317.20672
                        ],
                        "iteration": 498,
                        "passed_time": 0.2686516797,
                        "remaining_time": 0.2697284399
                      },
                      {
                        "learn": [
                          64317.20672
                        ],
                        "iteration": 499,
                        "passed_time": 0.2689752301,
                        "remaining_time": 0.2689752301
                      },
                      {
                        "learn": [
                          64317.20672
                        ],
                        "iteration": 500,
                        "passed_time": 0.2692818611,
                        "remaining_time": 0.2682068836
                      },
                      {
                        "learn": [
                          64317.20672
                        ],
                        "iteration": 501,
                        "passed_time": 0.2695653025,
                        "remaining_time": 0.2674173718
                      },
                      {
                        "learn": [
                          64317.20672
                        ],
                        "iteration": 502,
                        "passed_time": 0.2698537642,
                        "remaining_time": 0.2666348326
                      },
                      {
                        "learn": [
                          64317.20672
                        ],
                        "iteration": 503,
                        "passed_time": 0.270978991,
                        "remaining_time": 0.2666777371
                      },
                      {
                        "learn": [
                          64317.20672
                        ],
                        "iteration": 504,
                        "passed_time": 0.2712921319,
                        "remaining_time": 0.2659200105
                      },
                      {
                        "learn": [
                          64317.20672
                        ],
                        "iteration": 505,
                        "passed_time": 0.271593223,
                        "remaining_time": 0.265152277
                      },
                      {
                        "learn": [
                          64317.20672
                        ],
                        "iteration": 506,
                        "passed_time": 0.2724643875,
                        "remaining_time": 0.2649407161
                      },
                      {
                        "learn": [
                          64317.20672
                        ],
                        "iteration": 507,
                        "passed_time": 0.2730145513,
                        "remaining_time": 0.2644156678
                      },
                      {
                        "learn": [
                          64317.20672
                        ],
                        "iteration": 508,
                        "passed_time": 0.2735276761,
                        "remaining_time": 0.2638547917
                      },
                      {
                        "learn": [
                          64317.20672
                        ],
                        "iteration": 509,
                        "passed_time": 0.2742011065,
                        "remaining_time": 0.2634481219
                      },
                      {
                        "learn": [
                          64317.20672
                        ],
                        "iteration": 510,
                        "passed_time": 0.2744916477,
                        "remaining_time": 0.2626740034
                      },
                      {
                        "learn": [
                          64317.20672
                        ],
                        "iteration": 511,
                        "passed_time": 0.2747963587,
                        "remaining_time": 0.2619152794
                      },
                      {
                        "learn": [
                          64317.20672
                        ],
                        "iteration": 512,
                        "passed_time": 0.2751444084,
                        "remaining_time": 0.2611994676
                      },
                      {
                        "learn": [
                          64317.20672
                        ],
                        "iteration": 513,
                        "passed_time": 0.2754240802,
                        "remaining_time": 0.2604204338
                      },
                      {
                        "learn": [
                          64317.20672
                        ],
                        "iteration": 514,
                        "passed_time": 0.2765591564,
                        "remaining_time": 0.2604489143
                      },
                      {
                        "learn": [
                          64317.20672
                        ],
                        "iteration": 515,
                        "passed_time": 0.2770200428,
                        "remaining_time": 0.2598405053
                      },
                      {
                        "learn": [
                          64317.20672
                        ],
                        "iteration": 516,
                        "passed_time": 0.2774836793,
                        "remaining_time": 0.2592352362
                      },
                      {
                        "learn": [
                          64317.20672
                        ],
                        "iteration": 517,
                        "passed_time": 0.2785095188,
                        "remaining_time": 0.2591536449
                      },
                      {
                        "learn": [
                          64317.20672
                        ],
                        "iteration": 518,
                        "passed_time": 0.2789948445,
                        "remaining_time": 0.2585674763
                      },
                      {
                        "learn": [
                          64317.20672
                        ],
                        "iteration": 519,
                        "passed_time": 0.2794487213,
                        "remaining_time": 0.2579526658
                      },
                      {
                        "learn": [
                          64317.20672
                        ],
                        "iteration": 520,
                        "passed_time": 0.2800121847,
                        "remaining_time": 0.2574392255
                      },
                      {
                        "learn": [
                          64317.20672
                        ],
                        "iteration": 521,
                        "passed_time": 0.2803291051,
                        "remaining_time": 0.2566998319
                      },
                      {
                        "learn": [
                          64317.20672
                        ],
                        "iteration": 522,
                        "passed_time": 0.2809864057,
                        "remaining_time": 0.2562724962
                      },
                      {
                        "learn": [
                          64317.20672
                        ],
                        "iteration": 523,
                        "passed_time": 0.2813965834,
                        "remaining_time": 0.2556197971
                      },
                      {
                        "learn": [
                          64317.20672
                        ],
                        "iteration": 524,
                        "passed_time": 0.2818973984,
                        "remaining_time": 0.2550500271
                      },
                      {
                        "learn": [
                          64317.20672
                        ],
                        "iteration": 525,
                        "passed_time": 0.2821953696,
                        "remaining_time": 0.2542977285
                      },
                      {
                        "learn": [
                          64317.20672
                        ],
                        "iteration": 526,
                        "passed_time": 0.2824725912,
                        "remaining_time": 0.2535285306
                      },
                      {
                        "learn": [
                          64317.20672
                        ],
                        "iteration": 527,
                        "passed_time": 0.2832030096,
                        "remaining_time": 0.2531663268
                      },
                      {
                        "learn": [
                          64317.20672
                        ],
                        "iteration": 528,
                        "passed_time": 0.2836038378,
                        "remaining_time": 0.2525092771
                      },
                      {
                        "learn": [
                          64317.20672
                        ],
                        "iteration": 529,
                        "passed_time": 0.2840424848,
                        "remaining_time": 0.2518867318
                      },
                      {
                        "learn": [
                          64317.20672
                        ],
                        "iteration": 530,
                        "passed_time": 0.2844570628,
                        "remaining_time": 0.2512436204
                      },
                      {
                        "learn": [
                          64317.20672
                        ],
                        "iteration": 531,
                        "passed_time": 0.2848858204,
                        "remaining_time": 0.250613842
                      },
                      {
                        "learn": [
                          64317.20672
                        ],
                        "iteration": 532,
                        "passed_time": 0.2852931781,
                        "remaining_time": 0.2499660679
                      },
                      {
                        "learn": [
                          64317.20672
                        ],
                        "iteration": 533,
                        "passed_time": 0.2857200255,
                        "remaining_time": 0.249336202
                      },
                      {
                        "learn": [
                          64317.20672
                        ],
                        "iteration": 534,
                        "passed_time": 0.2861219239,
                        "remaining_time": 0.2486854105
                      },
                      {
                        "learn": [
                          64317.20672
                        ],
                        "iteration": 535,
                        "passed_time": 0.286653118,
                        "remaining_time": 0.2481474752
                      },
                      {
                        "learn": [
                          64317.20672
                        ],
                        "iteration": 536,
                        "passed_time": 0.2870635956,
                        "remaining_time": 0.2475054837
                      },
                      {
                        "learn": [
                          64317.20672
                        ],
                        "iteration": 537,
                        "passed_time": 0.2874951931,
                        "remaining_time": 0.2468824892
                      },
                      {
                        "learn": [
                          64317.20672
                        ],
                        "iteration": 538,
                        "passed_time": 0.2879008309,
                        "remaining_time": 0.2462380019
                      },
                      {
                        "learn": [
                          64317.20672
                        ],
                        "iteration": 539,
                        "passed_time": 0.2883852268,
                        "remaining_time": 0.2456614895
                      },
                      {
                        "learn": [
                          64317.20672
                        ],
                        "iteration": 540,
                        "passed_time": 0.2887873452,
                        "remaining_time": 0.245015511
                      },
                      {
                        "learn": [
                          64317.20672
                        ],
                        "iteration": 541,
                        "passed_time": 0.2892355222,
                        "remaining_time": 0.2444093527
                      },
                      {
                        "learn": [
                          64317.20672
                        ],
                        "iteration": 542,
                        "passed_time": 0.2896338606,
                        "remaining_time": 0.2437618311
                      },
                      {
                        "learn": [
                          64317.20672
                        ],
                        "iteration": 543,
                        "passed_time": 0.2900640977,
                        "remaining_time": 0.2431419642
                      },
                      {
                        "learn": [
                          64317.20672
                        ],
                        "iteration": 544,
                        "passed_time": 0.2904726159,
                        "remaining_time": 0.2425046609
                      },
                      {
                        "learn": [
                          64317.20672
                        ],
                        "iteration": 545,
                        "passed_time": 0.2909072528,
                        "remaining_time": 0.2418899135
                      },
                      {
                        "learn": [
                          64317.20672
                        ],
                        "iteration": 546,
                        "passed_time": 0.2915417541,
                        "remaining_time": 0.2414413429
                      },
                      {
                        "learn": [
                          64317.20672
                        ],
                        "iteration": 547,
                        "passed_time": 0.2919954109,
                        "remaining_time": 0.2408429302
                      },
                      {
                        "learn": [
                          64317.20672
                        ],
                        "iteration": 548,
                        "passed_time": 0.2923907494,
                        "remaining_time": 0.2401971366
                      },
                      {
                        "learn": [
                          64317.20672
                        ],
                        "iteration": 549,
                        "passed_time": 0.2928415859,
                        "remaining_time": 0.2395976612
                      },
                      {
                        "learn": [
                          64317.20672
                        ],
                        "iteration": 550,
                        "passed_time": 0.2932483441,
                        "remaining_time": 0.2389628067
                      },
                      {
                        "learn": [
                          64317.20672
                        ],
                        "iteration": 551,
                        "passed_time": 0.2937724389,
                        "remaining_time": 0.2384240084
                      },
                      {
                        "learn": [
                          64317.20672
                        ],
                        "iteration": 552,
                        "passed_time": 0.2942287956,
                        "remaining_time": 0.2378305093
                      },
                      {
                        "learn": [
                          64317.20672
                        ],
                        "iteration": 553,
                        "passed_time": 0.29475938,
                        "remaining_time": 0.2372972626
                      },
                      {
                        "learn": [
                          64317.20672
                        ],
                        "iteration": 554,
                        "passed_time": 0.2959913836,
                        "remaining_time": 0.2373264247
                      },
                      {
                        "learn": [
                          64317.20672
                        ],
                        "iteration": 555,
                        "passed_time": 0.2979710451,
                        "remaining_time": 0.2379481008
                      },
                      {
                        "learn": [
                          64317.20672
                        ],
                        "iteration": 556,
                        "passed_time": 0.2983859729,
                        "remaining_time": 0.2373159533
                      },
                      {
                        "learn": [
                          64317.20672
                        ],
                        "iteration": 557,
                        "passed_time": 0.2987245127,
                        "remaining_time": 0.2366240763
                      },
                      {
                        "learn": [
                          64317.20672
                        ],
                        "iteration": 558,
                        "passed_time": 0.2990612027,
                        "remaining_time": 0.2359320043
                      },
                      {
                        "learn": [
                          64317.20672
                        ],
                        "iteration": 559,
                        "passed_time": 0.2994079027,
                        "remaining_time": 0.2352490664
                      },
                      {
                        "learn": [
                          64317.20672
                        ],
                        "iteration": 560,
                        "passed_time": 0.3010363346,
                        "remaining_time": 0.2355703225
                      },
                      {
                        "learn": [
                          64317.20672
                        ],
                        "iteration": 561,
                        "passed_time": 0.3015354199,
                        "remaining_time": 0.2350044732
                      },
                      {
                        "learn": [
                          64317.20672
                        ],
                        "iteration": 562,
                        "passed_time": 0.3019616371,
                        "remaining_time": 0.2343823009
                      },
                      {
                        "learn": [
                          64317.20672
                        ],
                        "iteration": 563,
                        "passed_time": 0.3023888645,
                        "remaining_time": 0.2337616044
                      },
                      {
                        "learn": [
                          64317.20672
                        ],
                        "iteration": 564,
                        "passed_time": 0.302820162,
                        "remaining_time": 0.2331447265
                      },
                      {
                        "learn": [
                          64317.20672
                        ],
                        "iteration": 565,
                        "passed_time": 0.3033060174,
                        "remaining_time": 0.2325703384
                      },
                      {
                        "learn": [
                          64317.20672
                        ],
                        "iteration": 566,
                        "passed_time": 0.3037160653,
                        "remaining_time": 0.2319383708
                      },
                      {
                        "learn": [
                          64317.20672
                        ],
                        "iteration": 567,
                        "passed_time": 0.304099714,
                        "remaining_time": 0.2312871064
                      },
                      {
                        "learn": [
                          64317.20672
                        ],
                        "iteration": 568,
                        "passed_time": 0.3046096989,
                        "remaining_time": 0.2307324784
                      },
                      {
                        "learn": [
                          64317.20672
                        ],
                        "iteration": 569,
                        "passed_time": 0.3050468158,
                        "remaining_time": 0.2301230365
                      },
                      {
                        "learn": [
                          64317.20672
                        ],
                        "iteration": 570,
                        "passed_time": 0.3054471942,
                        "remaining_time": 0.229486596
                      },
                      {
                        "learn": [
                          64317.20672
                        ],
                        "iteration": 571,
                        "passed_time": 0.3058828013,
                        "remaining_time": 0.2288773408
                      },
                      {
                        "learn": [
                          64317.20672
                        ],
                        "iteration": 572,
                        "passed_time": 0.3062988193,
                        "remaining_time": 0.2282540939
                      },
                      {
                        "learn": [
                          64317.20672
                        ],
                        "iteration": 573,
                        "passed_time": 0.306747406,
                        "remaining_time": 0.2276557403
                      },
                      {
                        "learn": [
                          64317.20672
                        ],
                        "iteration": 574,
                        "passed_time": 0.3072569812,
                        "remaining_time": 0.2271029861
                      },
                      {
                        "learn": [
                          64317.20672
                        ],
                        "iteration": 575,
                        "passed_time": 0.3077210777,
                        "remaining_time": 0.2265169044
                      },
                      {
                        "learn": [
                          64317.20672
                        ],
                        "iteration": 576,
                        "passed_time": 0.3081339455,
                        "remaining_time": 0.2258936897
                      },
                      {
                        "learn": [
                          64317.20672
                        ],
                        "iteration": 577,
                        "passed_time": 0.3085745125,
                        "remaining_time": 0.2252914261
                      },
                      {
                        "learn": [
                          64317.20672
                        ],
                        "iteration": 578,
                        "passed_time": 0.3089678111,
                        "remaining_time": 0.2246553514
                      },
                      {
                        "learn": [
                          64317.20672
                        ],
                        "iteration": 579,
                        "passed_time": 0.3094345173,
                        "remaining_time": 0.2240732712
                      },
                      {
                        "learn": [
                          64317.20672
                        ],
                        "iteration": 580,
                        "passed_time": 0.3098422253,
                        "remaining_time": 0.2234490403
                      },
                      {
                        "learn": [
                          64317.20672
                        ],
                        "iteration": 581,
                        "passed_time": 0.3109995111,
                        "remaining_time": 0.2233639101
                      },
                      {
                        "learn": [
                          64317.20672
                        ],
                        "iteration": 582,
                        "passed_time": 0.3126941211,
                        "remaining_time": 0.2236594314
                      },
                      {
                        "learn": [
                          64317.20672
                        ],
                        "iteration": 583,
                        "passed_time": 0.3130351613,
                        "remaining_time": 0.2229839505
                      },
                      {
                        "learn": [
                          64317.20672
                        ],
                        "iteration": 584,
                        "passed_time": 0.3142168361,
                        "remaining_time": 0.2229059607
                      },
                      {
                        "learn": [
                          64317.20672
                        ],
                        "iteration": 585,
                        "passed_time": 0.3147054217,
                        "remaining_time": 0.2223345471
                      },
                      {
                        "learn": [
                          64317.20672
                        ],
                        "iteration": 586,
                        "passed_time": 0.3151085498,
                        "remaining_time": 0.2217032897
                      },
                      {
                        "learn": [
                          64317.20672
                        ],
                        "iteration": 587,
                        "passed_time": 0.3155301374,
                        "remaining_time": 0.2210857425
                      },
                      {
                        "learn": [
                          64317.20672
                        ],
                        "iteration": 588,
                        "passed_time": 0.3159638846,
                        "remaining_time": 0.2204773456
                      },
                      {
                        "learn": [
                          64317.20672
                        ],
                        "iteration": 589,
                        "passed_time": 0.3164086114,
                        "remaining_time": 0.2198771707
                      },
                      {
                        "learn": [
                          64317.20672
                        ],
                        "iteration": 590,
                        "passed_time": 0.3172407371,
                        "remaining_time": 0.2195456201
                      },
                      {
                        "learn": [
                          64317.20672
                        ],
                        "iteration": 591,
                        "passed_time": 0.3177677615,
                        "remaining_time": 0.2190021059
                      },
                      {
                        "learn": [
                          64317.20672
                        ],
                        "iteration": 592,
                        "passed_time": 0.3182842063,
                        "remaining_time": 0.2184513861
                      },
                      {
                        "learn": [
                          64317.20672
                        ],
                        "iteration": 593,
                        "passed_time": 0.318706544,
                        "remaining_time": 0.2178364594
                      },
                      {
                        "learn": [
                          64317.20672
                        ],
                        "iteration": 594,
                        "passed_time": 0.3191719201,
                        "remaining_time": 0.217251475
                      },
                      {
                        "learn": [
                          64317.20672
                        ],
                        "iteration": 595,
                        "passed_time": 0.3196156367,
                        "remaining_time": 0.2166522101
                      },
                      {
                        "learn": [
                          64317.20672
                        ],
                        "iteration": 596,
                        "passed_time": 0.3200456738,
                        "remaining_time": 0.2160442321
                      },
                      {
                        "learn": [
                          64317.20672
                        ],
                        "iteration": 597,
                        "passed_time": 0.3204731314,
                        "remaining_time": 0.2154351151
                      },
                      {
                        "learn": [
                          64317.20672
                        ],
                        "iteration": 598,
                        "passed_time": 0.3208791492,
                        "remaining_time": 0.2148122518
                      },
                      {
                        "learn": [
                          64317.20672
                        ],
                        "iteration": 599,
                        "passed_time": 0.321367765,
                        "remaining_time": 0.2142451767
                      },
                      {
                        "learn": [
                          64317.20672
                        ],
                        "iteration": 600,
                        "passed_time": 0.3217915223,
                        "remaining_time": 0.2136353035
                      },
                      {
                        "learn": [
                          64317.20672
                        ],
                        "iteration": 601,
                        "passed_time": 0.3221931806,
                        "remaining_time": 0.2130114384
                      },
                      {
                        "learn": [
                          64317.20672
                        ],
                        "iteration": 602,
                        "passed_time": 0.3226409674,
                        "remaining_time": 0.21241868
                      },
                      {
                        "learn": [
                          64317.20672
                        ],
                        "iteration": 603,
                        "passed_time": 0.3230402459,
                        "remaining_time": 0.2117945983
                      },
                      {
                        "learn": [
                          64317.20672
                        ],
                        "iteration": 604,
                        "passed_time": 0.3234594135,
                        "remaining_time": 0.2111842452
                      },
                      {
                        "learn": [
                          64317.20672
                        ],
                        "iteration": 605,
                        "passed_time": 0.3238794709,
                        "remaining_time": 0.2105751015
                      },
                      {
                        "learn": [
                          64317.20672
                        ],
                        "iteration": 606,
                        "passed_time": 0.3242581197,
                        "remaining_time": 0.2099397711
                      },
                      {
                        "learn": [
                          64317.20672
                        ],
                        "iteration": 607,
                        "passed_time": 0.3247298857,
                        "remaining_time": 0.2093653211
                      },
                      {
                        "learn": [
                          64317.20672
                        ],
                        "iteration": 608,
                        "passed_time": 0.325155323,
                        "remaining_time": 0.2087614635
                      },
                      {
                        "learn": [
                          64317.20672
                        ],
                        "iteration": 609,
                        "passed_time": 0.3255972099,
                        "remaining_time": 0.208168708
                      },
                      {
                        "learn": [
                          64317.20672
                        ],
                        "iteration": 610,
                        "passed_time": 0.3260418866,
                        "remaining_time": 0.2075782224
                      },
                      {
                        "learn": [
                          64317.20672
                        ],
                        "iteration": 611,
                        "passed_time": 0.3264425245,
                        "remaining_time": 0.2069602933
                      },
                      {
                        "learn": [
                          64317.20672
                        ],
                        "iteration": 612,
                        "passed_time": 0.3269017207,
                        "remaining_time": 0.2063800423
                      },
                      {
                        "learn": [
                          64317.20672
                        ],
                        "iteration": 613,
                        "passed_time": 0.3273268584,
                        "remaining_time": 0.2057787742
                      },
                      {
                        "learn": [
                          64317.20672
                        ],
                        "iteration": 614,
                        "passed_time": 0.3277672356,
                        "remaining_time": 0.205187619
                      },
                      {
                        "learn": [
                          64317.20672
                        ],
                        "iteration": 615,
                        "passed_time": 0.3281722037,
                        "remaining_time": 0.2045748802
                      },
                      {
                        "learn": [
                          64317.20672
                        ],
                        "iteration": 616,
                        "passed_time": 0.3286010612,
                        "remaining_time": 0.2039776442
                      },
                      {
                        "learn": [
                          64317.20672
                        ],
                        "iteration": 617,
                        "passed_time": 0.3290264887,
                        "remaining_time": 0.2033788328
                      },
                      {
                        "learn": [
                          64317.20672
                        ],
                        "iteration": 618,
                        "passed_time": 0.3294783655,
                        "remaining_time": 0.2027968615
                      },
                      {
                        "learn": [
                          64317.20672
                        ],
                        "iteration": 619,
                        "passed_time": 0.3298906632,
                        "remaining_time": 0.2021910516
                      },
                      {
                        "learn": [
                          64317.20672
                        ],
                        "iteration": 620,
                        "passed_time": 0.3303451697,
                        "remaining_time": 0.2016116253
                      },
                      {
                        "learn": [
                          64317.20672
                        ],
                        "iteration": 621,
                        "passed_time": 0.3307585775,
                        "remaining_time": 0.2010076243
                      },
                      {
                        "learn": [
                          64317.20672
                        ],
                        "iteration": 622,
                        "passed_time": 0.3311920047,
                        "remaining_time": 0.2004163496
                      },
                      {
                        "learn": [
                          64317.20672
                        ],
                        "iteration": 623,
                        "passed_time": 0.3315939529,
                        "remaining_time": 0.1998066126
                      },
                      {
                        "learn": [
                          64317.20672
                        ],
                        "iteration": 624,
                        "passed_time": 0.3320239104,
                        "remaining_time": 0.1992143462
                      },
                      {
                        "learn": [
                          64317.20672
                        ],
                        "iteration": 625,
                        "passed_time": 0.3324300784,
                        "remaining_time": 0.1986083855
                      },
                      {
                        "learn": [
                          64317.20672
                        ],
                        "iteration": 626,
                        "passed_time": 0.3328596955,
                        "remaining_time": 0.1980170118
                      },
                      {
                        "learn": [
                          64317.20672
                        ],
                        "iteration": 627,
                        "passed_time": 0.3332635636,
                        "remaining_time": 0.1974109007
                      },
                      {
                        "learn": [
                          64317.20672
                        ],
                        "iteration": 628,
                        "passed_time": 0.3336942709,
                        "remaining_time": 0.1968212631
                      },
                      {
                        "learn": [
                          64317.20672
                        ],
                        "iteration": 629,
                        "passed_time": 0.334096959,
                        "remaining_time": 0.1962156743
                      },
                      {
                        "learn": [
                          64317.20672
                        ],
                        "iteration": 630,
                        "passed_time": 0.3345109565,
                        "remaining_time": 0.1956173422
                      },
                      {
                        "learn": [
                          64317.20672
                        ],
                        "iteration": 631,
                        "passed_time": 0.3350892892,
                        "remaining_time": 0.1951152823
                      },
                      {
                        "learn": [
                          64317.20672
                        ],
                        "iteration": 632,
                        "passed_time": 0.3354354692,
                        "remaining_time": 0.1944783842
                      },
                      {
                        "learn": [
                          64317.20672
                        ],
                        "iteration": 633,
                        "passed_time": 0.3358026184,
                        "remaining_time": 0.1938545084
                      },
                      {
                        "learn": [
                          64317.20672
                        ],
                        "iteration": 634,
                        "passed_time": 0.3367805695,
                        "remaining_time": 0.1935825321
                      },
                      {
                        "learn": [
                          64317.20672
                        ],
                        "iteration": 635,
                        "passed_time": 0.3371217292,
                        "remaining_time": 0.1929438828
                      },
                      {
                        "learn": [
                          64317.20672
                        ],
                        "iteration": 636,
                        "passed_time": 0.3374030707,
                        "remaining_time": 0.1922720795
                      },
                      {
                        "learn": [
                          64317.20672
                        ],
                        "iteration": 637,
                        "passed_time": 0.3376994819,
                        "remaining_time": 0.1916100509
                      },
                      {
                        "learn": [
                          64317.20672
                        ],
                        "iteration": 638,
                        "passed_time": 0.3386158047,
                        "remaining_time": 0.1912993826
                      },
                      {
                        "learn": [
                          64317.20672
                        ],
                        "iteration": 639,
                        "passed_time": 0.3390286125,
                        "remaining_time": 0.1907035945
                      },
                      {
                        "learn": [
                          64317.20672
                        ],
                        "iteration": 640,
                        "passed_time": 0.3395279079,
                        "remaining_time": 0.1901568158
                      },
                      {
                        "learn": [
                          64317.20672
                        ],
                        "iteration": 641,
                        "passed_time": 0.3399785546,
                        "remaining_time": 0.189583057
                      },
                      {
                        "learn": [
                          64317.20672
                        ],
                        "iteration": 642,
                        "passed_time": 0.3406881039,
                        "remaining_time": 0.1891534263
                      },
                      {
                        "learn": [
                          64317.20672
                        ],
                        "iteration": 643,
                        "passed_time": 0.3409781954,
                        "remaining_time": 0.1884910521
                      },
                      {
                        "learn": [
                          64317.20672
                        ],
                        "iteration": 644,
                        "passed_time": 0.3414321019,
                        "remaining_time": 0.1879199941
                      },
                      {
                        "learn": [
                          64317.20672
                        ],
                        "iteration": 645,
                        "passed_time": 0.3417432625,
                        "remaining_time": 0.1872710758
                      },
                      {
                        "learn": [
                          64317.20672
                        ],
                        "iteration": 646,
                        "passed_time": 0.3420432137,
                        "remaining_time": 0.1866170857
                      },
                      {
                        "learn": [
                          64317.20672
                        ],
                        "iteration": 647,
                        "passed_time": 0.3423344451,
                        "remaining_time": 0.1859594517
                      },
                      {
                        "learn": [
                          64317.20672
                        ],
                        "iteration": 648,
                        "passed_time": 0.3426136768,
                        "remaining_time": 0.185296457
                      },
                      {
                        "learn": [
                          64317.20672
                        ],
                        "iteration": 649,
                        "passed_time": 0.3442520187,
                        "remaining_time": 0.1853664716
                      },
                      {
                        "learn": [
                          64317.20672
                        ],
                        "iteration": 650,
                        "passed_time": 0.3448791504,
                        "remaining_time": 0.1848891298
                      },
                      {
                        "learn": [
                          64317.20672
                        ],
                        "iteration": 651,
                        "passed_time": 0.3451881213,
                        "remaining_time": 0.1842415126
                      },
                      {
                        "learn": [
                          64317.20672
                        ],
                        "iteration": 652,
                        "passed_time": 0.3454728129,
                        "remaining_time": 0.1835820307
                      },
                      {
                        "learn": [
                          64317.20672
                        ],
                        "iteration": 653,
                        "passed_time": 0.3457740342,
                        "remaining_time": 0.1829324401
                      },
                      {
                        "learn": [
                          64317.20672
                        ],
                        "iteration": 654,
                        "passed_time": 0.346052106,
                        "remaining_time": 0.1822717199
                      },
                      {
                        "learn": [
                          64317.20672
                        ],
                        "iteration": 655,
                        "passed_time": 0.3463186483,
                        "remaining_time": 0.1816061205
                      },
                      {
                        "learn": [
                          64317.20672
                        ],
                        "iteration": 656,
                        "passed_time": 0.3466285392,
                        "remaining_time": 0.1809643667
                      },
                      {
                        "learn": [
                          64317.20672
                        ],
                        "iteration": 657,
                        "passed_time": 0.3470201174,
                        "remaining_time": 0.1803660793
                      },
                      {
                        "learn": [
                          64317.20672
                        ],
                        "iteration": 658,
                        "passed_time": 0.3473880763,
                        "remaining_time": 0.1797561973
                      },
                      {
                        "learn": [
                          64317.20672
                        ],
                        "iteration": 659,
                        "passed_time": 0.3476826276,
                        "remaining_time": 0.1791092324
                      },
                      {
                        "learn": [
                          64317.20672
                        ],
                        "iteration": 660,
                        "passed_time": 0.3479514197,
                        "remaining_time": 0.178450123
                      },
                      {
                        "learn": [
                          64317.20672
                        ],
                        "iteration": 661,
                        "passed_time": 0.3482545907,
                        "remaining_time": 0.1778097457
                      },
                      {
                        "learn": [
                          64317.20672
                        ],
                        "iteration": 662,
                        "passed_time": 0.3485391623,
                        "remaining_time": 0.1771609317
                      },
                      {
                        "learn": [
                          64317.20672
                        ],
                        "iteration": 663,
                        "passed_time": 0.3488088344,
                        "remaining_time": 0.1765056752
                      },
                      {
                        "learn": [
                          64317.20672
                        ],
                        "iteration": 664,
                        "passed_time": 0.3541014479,
                        "remaining_time": 0.1783819324
                      },
                      {
                        "learn": [
                          64317.20672
                        ],
                        "iteration": 665,
                        "passed_time": 0.3578939661,
                        "remaining_time": 0.1794843614
                      },
                      {
                        "learn": [
                          64317.20672
                        ],
                        "iteration": 666,
                        "passed_time": 0.3584382501,
                        "remaining_time": 0.1789504307
                      },
                      {
                        "learn": [
                          64317.20672
                        ],
                        "iteration": 667,
                        "passed_time": 0.3589049763,
                        "remaining_time": 0.1783779223
                      },
                      {
                        "learn": [
                          64317.20672
                        ],
                        "iteration": 668,
                        "passed_time": 0.3593125945,
                        "remaining_time": 0.1777764855
                      },
                      {
                        "learn": [
                          64317.20672
                        ],
                        "iteration": 669,
                        "passed_time": 0.3597673913,
                        "remaining_time": 0.1771988644
                      },
                      {
                        "learn": [
                          64317.20672
                        ],
                        "iteration": 670,
                        "passed_time": 0.3601754294,
                        "remaining_time": 0.176598683
                      },
                      {
                        "learn": [
                          64317.20672
                        ],
                        "iteration": 671,
                        "passed_time": 0.3606376856,
                        "remaining_time": 0.176025537
                      },
                      {
                        "learn": [
                          64317.20672
                        ],
                        "iteration": 672,
                        "passed_time": 0.3610764526,
                        "remaining_time": 0.1754413076
                      },
                      {
                        "learn": [
                          64317.20672
                        ],
                        "iteration": 673,
                        "passed_time": 0.3615269895,
                        "remaining_time": 0.1748632027
                      },
                      {
                        "learn": [
                          64317.20672
                        ],
                        "iteration": 674,
                        "passed_time": 0.3619539169,
                        "remaining_time": 0.1742741082
                      },
                      {
                        "learn": [
                          64317.20672
                        ],
                        "iteration": 675,
                        "passed_time": 0.3624025437,
                        "remaining_time": 0.1736958937
                      },
                      {
                        "learn": [
                          64317.20672
                        ],
                        "iteration": 676,
                        "passed_time": 0.3627939219,
                        "remaining_time": 0.1730907486
                      },
                      {
                        "learn": [
                          64317.20672
                        ],
                        "iteration": 677,
                        "passed_time": 0.3632439286,
                        "remaining_time": 0.1725140782
                      },
                      {
                        "learn": [
                          64317.20672
                        ],
                        "iteration": 678,
                        "passed_time": 0.3639696472,
                        "remaining_time": 0.1720681248
                      },
                      {
                        "learn": [
                          64317.20672
                        ],
                        "iteration": 679,
                        "passed_time": 0.3645543699,
                        "remaining_time": 0.1715549976
                      },
                      {
                        "learn": [
                          64317.20672
                        ],
                        "iteration": 680,
                        "passed_time": 0.3650430657,
                        "remaining_time": 0.1709966784
                      },
                      {
                        "learn": [
                          64317.20672
                        ],
                        "iteration": 681,
                        "passed_time": 0.365447704,
                        "remaining_time": 0.1703993693
                      },
                      {
                        "learn": [
                          64317.20672
                        ],
                        "iteration": 682,
                        "passed_time": 0.3659102903,
                        "remaining_time": 0.1698295198
                      },
                      {
                        "learn": [
                          64317.20672
                        ],
                        "iteration": 683,
                        "passed_time": 0.3663157784,
                        "remaining_time": 0.1692336052
                      },
                      {
                        "learn": [
                          64317.20672
                        ],
                        "iteration": 684,
                        "passed_time": 0.3667639851,
                        "remaining_time": 0.168657891
                      },
                      {
                        "learn": [
                          64317.20672
                        ],
                        "iteration": 685,
                        "passed_time": 0.3671632831,
                        "remaining_time": 0.1680601617
                      },
                      {
                        "learn": [
                          64317.20672
                        ],
                        "iteration": 686,
                        "passed_time": 0.36760138,
                        "remaining_time": 0.1674806869
                      },
                      {
                        "learn": [
                          64317.20672
                        ],
                        "iteration": 687,
                        "passed_time": 0.3679911285,
                        "remaining_time": 0.1668796978
                      },
                      {
                        "learn": [
                          64317.20672
                        ],
                        "iteration": 688,
                        "passed_time": 0.3684192558,
                        "remaining_time": 0.1662966452
                      },
                      {
                        "learn": [
                          64317.20672
                        ],
                        "iteration": 689,
                        "passed_time": 0.3688095741,
                        "remaining_time": 0.165697055
                      },
                      {
                        "learn": [
                          64317.20672
                        ],
                        "iteration": 690,
                        "passed_time": 0.3692954197,
                        "remaining_time": 0.1651407883
                      },
                      {
                        "learn": [
                          64317.20672
                        ],
                        "iteration": 691,
                        "passed_time": 0.3697241671,
                        "remaining_time": 0.1645593114
                      },
                      {
                        "learn": [
                          64317.20672
                        ],
                        "iteration": 692,
                        "passed_time": 0.3701228455,
                        "remaining_time": 0.1639649547
                      },
                      {
                        "learn": [
                          64317.20672
                        ],
                        "iteration": 693,
                        "passed_time": 0.3705393132,
                        "remaining_time": 0.1633790055
                      },
                      {
                        "learn": [
                          64317.20672
                        ],
                        "iteration": 694,
                        "passed_time": 0.3709353815,
                        "remaining_time": 0.1627845919
                      },
                      {
                        "learn": [
                          64317.20672
                        ],
                        "iteration": 695,
                        "passed_time": 0.3713501093,
                        "remaining_time": 0.1621988983
                      },
                      {
                        "learn": [
                          64317.20672
                        ],
                        "iteration": 696,
                        "passed_time": 0.3717546076,
                        "remaining_time": 0.1616092483
                      },
                      {
                        "learn": [
                          64317.20672
                        ],
                        "iteration": 697,
                        "passed_time": 0.3721775853,
                        "remaining_time": 0.1610281243
                      },
                      {
                        "learn": [
                          64317.20672
                        ],
                        "iteration": 698,
                        "passed_time": 0.3725762233,
                        "remaining_time": 0.1604369717
                      },
                      {
                        "learn": [
                          64317.20672
                        ],
                        "iteration": 699,
                        "passed_time": 0.3730095403,
                        "remaining_time": 0.1598612316
                      },
                      {
                        "learn": [
                          64317.20672
                        ],
                        "iteration": 700,
                        "passed_time": 0.3734535472,
                        "remaining_time": 0.1592904574
                      },
                      {
                        "learn": [
                          64317.20672
                        ],
                        "iteration": 701,
                        "passed_time": 0.3738852144,
                        "remaining_time": 0.1587148061
                      },
                      {
                        "learn": [
                          64317.20672
                        ],
                        "iteration": 702,
                        "passed_time": 0.3743668304,
                        "remaining_time": 0.1581606666
                      },
                      {
                        "learn": [
                          64317.20672
                        ],
                        "iteration": 703,
                        "passed_time": 0.3747708683,
                        "remaining_time": 0.1575741151
                      },
                      {
                        "learn": [
                          64317.20672
                        ],
                        "iteration": 704,
                        "passed_time": 0.3751849361,
                        "remaining_time": 0.1569922782
                      },
                      {
                        "learn": [
                          64317.20672
                        ],
                        "iteration": 705,
                        "passed_time": 0.3756188233,
                        "remaining_time": 0.15641917
                      },
                      {
                        "learn": [
                          64317.20672
                        ],
                        "iteration": 706,
                        "passed_time": 0.3760387109,
                        "remaining_time": 0.1558406539
                      },
                      {
                        "learn": [
                          64317.20672
                        ],
                        "iteration": 707,
                        "passed_time": 0.3764641885,
                        "remaining_time": 0.1552648913
                      },
                      {
                        "learn": [
                          64317.20672
                        ],
                        "iteration": 708,
                        "passed_time": 0.3770007025,
                        "remaining_time": 0.1547351261
                      },
                      {
                        "learn": [
                          64317.20672
                        ],
                        "iteration": 709,
                        "passed_time": 0.3772925938,
                        "remaining_time": 0.1541054257
                      },
                      {
                        "learn": [
                          64317.20672
                        ],
                        "iteration": 710,
                        "passed_time": 0.3775733753,
                        "remaining_time": 0.1534721596
                      },
                      {
                        "learn": [
                          64317.20672
                        ],
                        "iteration": 711,
                        "passed_time": 0.3778677169,
                        "remaining_time": 0.1528453686
                      },
                      {
                        "learn": [
                          64317.20672
                        ],
                        "iteration": 712,
                        "passed_time": 0.3781521885,
                        "remaining_time": 0.1522155373
                      },
                      {
                        "learn": [
                          64317.20672
                        ],
                        "iteration": 713,
                        "passed_time": 0.3784210907,
                        "remaining_time": 0.1515804369
                      },
                      {
                        "learn": [
                          64317.20672
                        ],
                        "iteration": 714,
                        "passed_time": 0.3787086823,
                        "remaining_time": 0.1509538104
                      },
                      {
                        "learn": [
                          64317.20672
                        ],
                        "iteration": 715,
                        "passed_time": 0.3789995634,
                        "remaining_time": 0.1503294358
                      },
                      {
                        "learn": [
                          64317.20672
                        ],
                        "iteration": 716,
                        "passed_time": 0.3792670458,
                        "remaining_time": 0.1496967559
                      },
                      {
                        "learn": [
                          64317.20672
                        ],
                        "iteration": 717,
                        "passed_time": 0.3795462175,
                        "remaining_time": 0.1490696843
                      },
                      {
                        "learn": [
                          64317.20672
                        ],
                        "iteration": 718,
                        "passed_time": 0.3798195495,
                        "remaining_time": 0.1484412982
                      },
                      {
                        "learn": [
                          64317.20672
                        ],
                        "iteration": 719,
                        "passed_time": 0.3801073107,
                        "remaining_time": 0.1478195097
                      },
                      {
                        "learn": [
                          64317.20672
                        ],
                        "iteration": 720,
                        "passed_time": 0.3804015318,
                        "remaining_time": 0.1472011475
                      },
                      {
                        "learn": [
                          64317.20672
                        ],
                        "iteration": 721,
                        "passed_time": 0.3806712936,
                        "remaining_time": 0.1465742654
                      },
                      {
                        "learn": [
                          64317.20672
                        ],
                        "iteration": 722,
                        "passed_time": 0.3809451558,
                        "remaining_time": 0.1459499421
                      },
                      {
                        "learn": [
                          64317.20672
                        ],
                        "iteration": 723,
                        "passed_time": 0.3812390773,
                        "remaining_time": 0.1453342339
                      },
                      {
                        "learn": [
                          64317.20672
                        ],
                        "iteration": 724,
                        "passed_time": 0.381522569,
                        "remaining_time": 0.1447154572
                      },
                      {
                        "learn": [
                          64317.20672
                        ],
                        "iteration": 725,
                        "passed_time": 0.3818096805,
                        "remaining_time": 0.1440989703
                      },
                      {
                        "learn": [
                          64317.20672
                        ],
                        "iteration": 726,
                        "passed_time": 0.3871392631,
                        "remaining_time": 0.1453769172
                      },
                      {
                        "learn": [
                          64317.20672
                        ],
                        "iteration": 727,
                        "passed_time": 0.3874685934,
                        "remaining_time": 0.1447684854
                      },
                      {
                        "learn": [
                          64317.20672
                        ],
                        "iteration": 728,
                        "passed_time": 0.3877628545,
                        "remaining_time": 0.1441477827
                      },
                      {
                        "learn": [
                          64317.20672
                        ],
                        "iteration": 729,
                        "passed_time": 0.3888218632,
                        "remaining_time": 0.1438108261
                      },
                      {
                        "learn": [
                          64317.20672
                        ],
                        "iteration": 730,
                        "passed_time": 0.3891398338,
                        "remaining_time": 0.1431992001
                      },
                      {
                        "learn": [
                          64317.20672
                        ],
                        "iteration": 731,
                        "passed_time": 0.3894335549,
                        "remaining_time": 0.1425794983
                      },
                      {
                        "learn": [
                          64317.20672
                        ],
                        "iteration": 732,
                        "passed_time": 0.389735846,
                        "remaining_time": 0.1419638075
                      },
                      {
                        "learn": [
                          64317.20672
                        ],
                        "iteration": 733,
                        "passed_time": 0.3900134676,
                        "remaining_time": 0.1413400305
                      },
                      {
                        "learn": [
                          64317.20672
                        ],
                        "iteration": 734,
                        "passed_time": 0.3902951993,
                        "remaining_time": 0.1407186773
                      },
                      {
                        "learn": [
                          64317.20672
                        ],
                        "iteration": 735,
                        "passed_time": 0.39061043,
                        "remaining_time": 0.1401102629
                      },
                      {
                        "learn": [
                          64317.20672
                        ],
                        "iteration": 736,
                        "passed_time": 0.390888472,
                        "remaining_time": 0.1394893733
                      },
                      {
                        "learn": [
                          64317.20672
                        ],
                        "iteration": 737,
                        "passed_time": 0.3911577938,
                        "remaining_time": 0.138866317
                      },
                      {
                        "learn": [
                          64317.20672
                        ],
                        "iteration": 738,
                        "passed_time": 0.3914430254,
                        "remaining_time": 0.1382498371
                      },
                      {
                        "learn": [
                          64317.20672
                        ],
                        "iteration": 739,
                        "passed_time": 0.3917240371,
                        "remaining_time": 0.1376327698
                      },
                      {
                        "learn": [
                          64317.20672
                        ],
                        "iteration": 740,
                        "passed_time": 0.3919974988,
                        "remaining_time": 0.1370139706
                      },
                      {
                        "learn": [
                          64317.20672
                        ],
                        "iteration": 741,
                        "passed_time": 0.3922805807,
                        "remaining_time": 0.1363994472
                      },
                      {
                        "learn": [
                          64317.20672
                        ],
                        "iteration": 742,
                        "passed_time": 0.3925520326,
                        "remaining_time": 0.1357817933
                      },
                      {
                        "learn": [
                          64317.20672
                        ],
                        "iteration": 743,
                        "passed_time": 0.3928292445,
                        "remaining_time": 0.1351670519
                      },
                      {
                        "learn": [
                          64317.20672
                        ],
                        "iteration": 744,
                        "passed_time": 0.3931104562,
                        "remaining_time": 0.1345545857
                      },
                      {
                        "learn": [
                          64317.20672
                        ],
                        "iteration": 745,
                        "passed_time": 0.3933784082,
                        "remaining_time": 0.1339384929
                      },
                      {
                        "learn": [
                          64317.20672
                        ],
                        "iteration": 746,
                        "passed_time": 0.3936564903,
                        "remaining_time": 0.1333267631
                      },
                      {
                        "learn": [
                          64317.20672
                        ],
                        "iteration": 747,
                        "passed_time": 0.3939439018,
                        "remaining_time": 0.1327190685
                      },
                      {
                        "learn": [
                          64317.20672
                        ],
                        "iteration": 748,
                        "passed_time": 0.3942105641,
                        "remaining_time": 0.1321052758
                      },
                      {
                        "learn": [
                          64317.20672
                        ],
                        "iteration": 749,
                        "passed_time": 0.3944977459,
                        "remaining_time": 0.1314992486
                      },
                      {
                        "learn": [
                          64317.20672
                        ],
                        "iteration": 750,
                        "passed_time": 0.397784619,
                        "remaining_time": 0.131888642
                      },
                      {
                        "learn": [
                          64317.20672
                        ],
                        "iteration": 751,
                        "passed_time": 0.4022834364,
                        "remaining_time": 0.1326679418
                      },
                      {
                        "learn": [
                          64317.20672
                        ],
                        "iteration": 752,
                        "passed_time": 0.4031097018,
                        "remaining_time": 0.1322285476
                      },
                      {
                        "learn": [
                          64317.20672
                        ],
                        "iteration": 753,
                        "passed_time": 0.4035456592,
                        "remaining_time": 0.1316607854
                      },
                      {
                        "learn": [
                          64317.20672
                        ],
                        "iteration": 754,
                        "passed_time": 0.4038398603,
                        "remaining_time": 0.1310473719
                      },
                      {
                        "learn": [
                          64317.20672
                        ],
                        "iteration": 755,
                        "passed_time": 0.4041332716,
                        "remaining_time": 0.130434548
                      },
                      {
                        "learn": [
                          64317.20672
                        ],
                        "iteration": 756,
                        "passed_time": 0.4044302828,
                        "remaining_time": 0.1298237236
                      },
                      {
                        "learn": [
                          64317.20672
                        ],
                        "iteration": 757,
                        "passed_time": 0.4053889945,
                        "remaining_time": 0.1294249824
                      },
                      {
                        "learn": [
                          64317.20672
                        ],
                        "iteration": 758,
                        "passed_time": 0.4058509409,
                        "remaining_time": 0.1288670313
                      },
                      {
                        "learn": [
                          64317.20672
                        ],
                        "iteration": 759,
                        "passed_time": 0.4062742484,
                        "remaining_time": 0.1282971311
                      },
                      {
                        "learn": [
                          64317.20672
                        ],
                        "iteration": 760,
                        "passed_time": 0.4067009558,
                        "remaining_time": 0.1277286839
                      },
                      {
                        "learn": [
                          64317.20672
                        ],
                        "iteration": 761,
                        "passed_time": 0.4071115037,
                        "remaining_time": 0.1271555615
                      },
                      {
                        "learn": [
                          64317.20672
                        ],
                        "iteration": 762,
                        "passed_time": 0.4075364609,
                        "remaining_time": 0.1265873411
                      },
                      {
                        "learn": [
                          64317.20672
                        ],
                        "iteration": 763,
                        "passed_time": 0.4079433587,
                        "remaining_time": 0.1260139171
                      },
                      {
                        "learn": [
                          64317.20672
                        ],
                        "iteration": 764,
                        "passed_time": 0.4083647062,
                        "remaining_time": 0.1254453673
                      },
                      {
                        "learn": [
                          64317.20672
                        ],
                        "iteration": 765,
                        "passed_time": 0.4087717942,
                        "remaining_time": 0.1248728457
                      },
                      {
                        "learn": [
                          64317.20672
                        ],
                        "iteration": 766,
                        "passed_time": 0.4091951817,
                        "remaining_time": 0.1243057071
                      },
                      {
                        "learn": [
                          64317.20672
                        ],
                        "iteration": 767,
                        "passed_time": 0.4095727706,
                        "remaining_time": 0.1237251078
                      },
                      {
                        "learn": [
                          64317.20672
                        ],
                        "iteration": 768,
                        "passed_time": 0.4100031281,
                        "remaining_time": 0.1231608876
                      },
                      {
                        "learn": [
                          64317.20672
                        ],
                        "iteration": 769,
                        "passed_time": 0.4103875265,
                        "remaining_time": 0.1225832871
                      },
                      {
                        "learn": [
                          64317.20672
                        ],
                        "iteration": 770,
                        "passed_time": 0.4108066741,
                        "remaining_time": 0.1220165089
                      },
                      {
                        "learn": [
                          64317.20672
                        ],
                        "iteration": 771,
                        "passed_time": 0.4111958026,
                        "remaining_time": 0.1214412474
                      },
                      {
                        "learn": [
                          64317.20672
                        ],
                        "iteration": 772,
                        "passed_time": 0.4116322097,
                        "remaining_time": 0.1208803514
                      },
                      {
                        "learn": [
                          64317.20672
                        ],
                        "iteration": 773,
                        "passed_time": 0.4120205281,
                        "remaining_time": 0.1203057356
                      },
                      {
                        "learn": [
                          64317.20672
                        ],
                        "iteration": 774,
                        "passed_time": 0.412455265,
                        "remaining_time": 0.1197450769
                      },
                      {
                        "learn": [
                          64317.20672
                        ],
                        "iteration": 775,
                        "passed_time": 0.4128492431,
                        "remaining_time": 0.1191729774
                      },
                      {
                        "learn": [
                          64317.20672
                        ],
                        "iteration": 776,
                        "passed_time": 0.413262311,
                        "remaining_time": 0.1186068151
                      },
                      {
                        "learn": [
                          64317.20672
                        ],
                        "iteration": 777,
                        "passed_time": 0.4136497697,
                        "remaining_time": 0.1180337389
                      },
                      {
                        "learn": [
                          64317.20672
                        ],
                        "iteration": 778,
                        "passed_time": 0.4141387953,
                        "remaining_time": 0.1174899535
                      },
                      {
                        "learn": [
                          64317.20672
                        ],
                        "iteration": 779,
                        "passed_time": 0.4145657325,
                        "remaining_time": 0.1169287963
                      },
                      {
                        "learn": [
                          64317.20672
                        ],
                        "iteration": 780,
                        "passed_time": 0.4149701503,
                        "remaining_time": 0.1163616683
                      },
                      {
                        "learn": [
                          64317.20672
                        ],
                        "iteration": 781,
                        "passed_time": 0.4153898677,
                        "remaining_time": 0.1157992214
                      },
                      {
                        "learn": [
                          64317.20672
                        ],
                        "iteration": 782,
                        "passed_time": 0.4158110753,
                        "remaining_time": 0.1152375521
                      },
                      {
                        "learn": [
                          64317.20672
                        ],
                        "iteration": 783,
                        "passed_time": 0.4162330726,
                        "remaining_time": 0.1146764588
                      },
                      {
                        "learn": [
                          64317.20672
                        ],
                        "iteration": 784,
                        "passed_time": 0.4166297111,
                        "remaining_time": 0.1141087744
                      },
                      {
                        "learn": [
                          64317.20672
                        ],
                        "iteration": 785,
                        "passed_time": 0.4170412989,
                        "remaining_time": 0.1135455954
                      },
                      {
                        "learn": [
                          64317.20672
                        ],
                        "iteration": 786,
                        "passed_time": 0.4180682286,
                        "remaining_time": 0.1131493427
                      },
                      {
                        "learn": [
                          64317.20672
                        ],
                        "iteration": 787,
                        "passed_time": 0.4184810666,
                        "remaining_time": 0.1125862768
                      },
                      {
                        "learn": [
                          64317.20672
                        ],
                        "iteration": 788,
                        "passed_time": 0.4189900716,
                        "remaining_time": 0.1120493094
                      },
                      {
                        "learn": [
                          64317.20672
                        ],
                        "iteration": 789,
                        "passed_time": 0.4200481906,
                        "remaining_time": 0.1116583798
                      },
                      {
                        "learn": [
                          64317.20672
                        ],
                        "iteration": 790,
                        "passed_time": 0.4207219307,
                        "remaining_time": 0.1111642017
                      },
                      {
                        "learn": [
                          64317.20672
                        ],
                        "iteration": 791,
                        "passed_time": 0.4212855838,
                        "remaining_time": 0.1106406584
                      },
                      {
                        "learn": [
                          64317.20672
                        ],
                        "iteration": 792,
                        "passed_time": 0.4216297537,
                        "remaining_time": 0.1100597213
                      },
                      {
                        "learn": [
                          64317.20672
                        ],
                        "iteration": 793,
                        "passed_time": 0.4219761332,
                        "remaining_time": 0.109479954
                      },
                      {
                        "learn": [
                          64317.20672
                        ],
                        "iteration": 794,
                        "passed_time": 0.4228794866,
                        "remaining_time": 0.1090443959
                      },
                      {
                        "learn": [
                          64317.20672
                        ],
                        "iteration": 795,
                        "passed_time": 0.4233230032,
                        "remaining_time": 0.1084898149
                      },
                      {
                        "learn": [
                          64317.20672
                        ],
                        "iteration": 796,
                        "passed_time": 0.423704652,
                        "remaining_time": 0.1079197545
                      },
                      {
                        "learn": [
                          64317.20672
                        ],
                        "iteration": 797,
                        "passed_time": 0.4241492091,
                        "remaining_time": 0.1073660905
                      },
                      {
                        "learn": [
                          64317.20672
                        ],
                        "iteration": 798,
                        "passed_time": 0.4245515772,
                        "remaining_time": 0.1068020864
                      },
                      {
                        "learn": [
                          64317.20672
                        ],
                        "iteration": 799,
                        "passed_time": 0.4250243432,
                        "remaining_time": 0.1062560858
                      },
                      {
                        "learn": [
                          64317.20672
                        ],
                        "iteration": 800,
                        "passed_time": 0.4254578207,
                        "remaining_time": 0.1057005073
                      },
                      {
                        "learn": [
                          64317.20672
                        ],
                        "iteration": 801,
                        "passed_time": 0.4259441761,
                        "remaining_time": 0.1051582879
                      },
                      {
                        "learn": [
                          64317.20672
                        ],
                        "iteration": 802,
                        "passed_time": 0.4263635335,
                        "remaining_time": 0.104599771
                      },
                      {
                        "learn": [
                          64317.20672
                        ],
                        "iteration": 803,
                        "passed_time": 0.4268442291,
                        "remaining_time": 0.1040565534
                      },
                      {
                        "learn": [
                          64317.20672
                        ],
                        "iteration": 804,
                        "passed_time": 0.4272620065,
                        "remaining_time": 0.10349825
                      },
                      {
                        "learn": [
                          64317.20672
                        ],
                        "iteration": 805,
                        "passed_time": 0.4277079533,
                        "remaining_time": 0.1029470756
                      },
                      {
                        "learn": [
                          64317.20672
                        ],
                        "iteration": 806,
                        "passed_time": 0.4281174812,
                        "remaining_time": 0.1023874521
                      },
                      {
                        "learn": [
                          64317.20672
                        ],
                        "iteration": 807,
                        "passed_time": 0.4285689781,
                        "remaining_time": 0.101838173
                      },
                      {
                        "learn": [
                          64317.20672
                        ],
                        "iteration": 808,
                        "passed_time": 0.4289783061,
                        "remaining_time": 0.1012791798
                      },
                      {
                        "learn": [
                          64317.20672
                        ],
                        "iteration": 809,
                        "passed_time": 0.429429303,
                        "remaining_time": 0.1007303303
                      },
                      {
                        "learn": [
                          64317.20672
                        ],
                        "iteration": 810,
                        "passed_time": 0.4298416108,
                        "remaining_time": 0.1001727058
                      },
                      {
                        "learn": [
                          64317.20672
                        ],
                        "iteration": 811,
                        "passed_time": 0.4302658685,
                        "remaining_time": 0.099618206
                      },
                      {
                        "learn": [
                          64317.20672
                        ],
                        "iteration": 812,
                        "passed_time": 0.4306697863,
                        "remaining_time": 0.09905934815
                      },
                      {
                        "learn": [
                          64317.20672
                        ],
                        "iteration": 813,
                        "passed_time": 0.4310989337,
                        "remaining_time": 0.09850663595
                      },
                      {
                        "learn": [
                          64317.20672
                        ],
                        "iteration": 814,
                        "passed_time": 0.4315540002,
                        "remaining_time": 0.09796011048
                      },
                      {
                        "learn": [
                          64317.20672
                        ],
                        "iteration": 815,
                        "passed_time": 0.4320041567,
                        "remaining_time": 0.097412702
                      },
                      {
                        "learn": [
                          64317.20672
                        ],
                        "iteration": 816,
                        "passed_time": 0.4324125949,
                        "remaining_time": 0.0968561871
                      },
                      {
                        "learn": [
                          64317.20672
                        ],
                        "iteration": 817,
                        "passed_time": 0.4328460021,
                        "remaining_time": 0.09630558971
                      },
                      {
                        "learn": [
                          64317.20672
                        ],
                        "iteration": 818,
                        "passed_time": 0.43324774,
                        "remaining_time": 0.09574827954
                      },
                      {
                        "learn": [
                          64317.20672
                        ],
                        "iteration": 819,
                        "passed_time": 0.4336858871,
                        "remaining_time": 0.09519934106
                      },
                      {
                        "learn": [
                          64317.20672
                        ],
                        "iteration": 820,
                        "passed_time": 0.4340781555,
                        "remaining_time": 0.09464066971
                      },
                      {
                        "learn": [
                          64317.20672
                        ],
                        "iteration": 821,
                        "passed_time": 0.4344876332,
                        "remaining_time": 0.09408612981
                      },
                      {
                        "learn": [
                          64317.20672
                        ],
                        "iteration": 822,
                        "passed_time": 0.4348671517,
                        "remaining_time": 0.09352549922
                      },
                      {
                        "learn": [
                          64317.20672
                        ],
                        "iteration": 823,
                        "passed_time": 0.4353026291,
                        "remaining_time": 0.09297726059
                      },
                      {
                        "learn": [
                          64317.20672
                        ],
                        "iteration": 824,
                        "passed_time": 0.4356992672,
                        "remaining_time": 0.09242105667
                      },
                      {
                        "learn": [
                          64317.20672
                        ],
                        "iteration": 825,
                        "passed_time": 0.4361306447,
                        "remaining_time": 0.09187255711
                      },
                      {
                        "learn": [
                          64317.20672
                        ],
                        "iteration": 826,
                        "passed_time": 0.436516683,
                        "remaining_time": 0.09131485631
                      },
                      {
                        "learn": [
                          64317.20672
                        ],
                        "iteration": 827,
                        "passed_time": 0.4369519102,
                        "remaining_time": 0.09076778811
                      },
                      {
                        "learn": [
                          64317.20672
                        ],
                        "iteration": 828,
                        "passed_time": 0.4373354189,
                        "remaining_time": 0.09021032162
                      },
                      {
                        "learn": [
                          64317.20672
                        ],
                        "iteration": 829,
                        "passed_time": 0.4377681461,
                        "remaining_time": 0.08966335522
                      },
                      {
                        "learn": [
                          64317.20672
                        ],
                        "iteration": 830,
                        "passed_time": 0.4381532645,
                        "remaining_time": 0.08910698159
                      },
                      {
                        "learn": [
                          64317.20672
                        ],
                        "iteration": 831,
                        "passed_time": 0.4386304002,
                        "remaining_time": 0.08856960004
                      },
                      {
                        "learn": [
                          64317.20672
                        ],
                        "iteration": 832,
                        "passed_time": 0.4390517277,
                        "remaining_time": 0.08802117471
                      },
                      {
                        "learn": [
                          64317.20672
                        ],
                        "iteration": 833,
                        "passed_time": 0.4394715451,
                        "remaining_time": 0.08747275359
                      },
                      {
                        "learn": [
                          64317.20672
                        ],
                        "iteration": 834,
                        "passed_time": 0.4398871431,
                        "remaining_time": 0.08692380672
                      },
                      {
                        "learn": [
                          64317.20672
                        ],
                        "iteration": 835,
                        "passed_time": 0.4402807315,
                        "remaining_time": 0.0863708612
                      },
                      {
                        "learn": [
                          64317.20672
                        ],
                        "iteration": 836,
                        "passed_time": 0.4407073589,
                        "remaining_time": 0.08582473058
                      },
                      {
                        "learn": [
                          64317.20672
                        ],
                        "iteration": 837,
                        "passed_time": 0.4411082573,
                        "remaining_time": 0.08527391131
                      },
                      {
                        "learn": [
                          64317.20672
                        ],
                        "iteration": 838,
                        "passed_time": 0.441531275,
                        "remaining_time": 0.08472769401
                      },
                      {
                        "learn": [
                          64317.20672
                        ],
                        "iteration": 839,
                        "passed_time": 0.4419341031,
                        "remaining_time": 0.0841779244
                      },
                      {
                        "learn": [
                          64317.20672
                        ],
                        "iteration": 840,
                        "passed_time": 0.4423632206,
                        "remaining_time": 0.08363347453
                      },
                      {
                        "learn": [
                          64317.20672
                        ],
                        "iteration": 841,
                        "passed_time": 0.4427629488,
                        "remaining_time": 0.08308378375
                      },
                      {
                        "learn": [
                          64317.20672
                        ],
                        "iteration": 842,
                        "passed_time": 0.4431962058,
                        "remaining_time": 0.08254069314
                      },
                      {
                        "learn": [
                          64317.20672
                        ],
                        "iteration": 843,
                        "passed_time": 0.4436043236,
                        "remaining_time": 0.0819932162
                      },
                      {
                        "learn": [
                          64317.20672
                        ],
                        "iteration": 844,
                        "passed_time": 0.4440419306,
                        "remaining_time": 0.0814514784
                      },
                      {
                        "learn": [
                          64317.20672
                        ],
                        "iteration": 845,
                        "passed_time": 0.4444426188,
                        "remaining_time": 0.08090326631
                      },
                      {
                        "learn": [
                          64317.20672
                        ],
                        "iteration": 846,
                        "passed_time": 0.4448610065,
                        "remaining_time": 0.08035859975
                      },
                      {
                        "learn": [
                          64317.20672
                        ],
                        "iteration": 847,
                        "passed_time": 0.4452416952,
                        "remaining_time": 0.07980747367
                      },
                      {
                        "learn": [
                          64317.20672
                        ],
                        "iteration": 848,
                        "passed_time": 0.4456496432,
                        "remaining_time": 0.07926159731
                      },
                      {
                        "learn": [
                          64317.20672
                        ],
                        "iteration": 849,
                        "passed_time": 0.4460276222,
                        "remaining_time": 0.07871075686
                      },
                      {
                        "learn": [
                          64317.20672
                        ],
                        "iteration": 850,
                        "passed_time": 0.4464612094,
                        "remaining_time": 0.078170059
                      },
                      {
                        "learn": [
                          64317.20672
                        ],
                        "iteration": 851,
                        "passed_time": 0.4468453483,
                        "remaining_time": 0.07762102295
                      },
                      {
                        "learn": [
                          64317.20672
                        ],
                        "iteration": 852,
                        "passed_time": 0.4472755556,
                        "remaining_time": 0.07708031263
                      },
                      {
                        "learn": [
                          64317.20672
                        ],
                        "iteration": 853,
                        "passed_time": 0.4476532445,
                        "remaining_time": 0.07653088254
                      },
                      {
                        "learn": [
                          64317.20672
                        ],
                        "iteration": 854,
                        "passed_time": 0.4480672625,
                        "remaining_time": 0.07598801527
                      },
                      {
                        "learn": [
                          64317.20672
                        ],
                        "iteration": 855,
                        "passed_time": 0.4484598309,
                        "remaining_time": 0.07544184071
                      },
                      {
                        "learn": [
                          64317.20672
                        ],
                        "iteration": 856,
                        "passed_time": 0.4489433864,
                        "remaining_time": 0.07491120683
                      },
                      {
                        "learn": [
                          64317.20672
                        ],
                        "iteration": 857,
                        "passed_time": 0.4493593141,
                        "remaining_time": 0.07436949021
                      },
                      {
                        "learn": [
                          64317.20672
                        ],
                        "iteration": 858,
                        "passed_time": 0.4497533025,
                        "remaining_time": 0.07382446525
                      },
                      {
                        "learn": [
                          64317.20672
                        ],
                        "iteration": 859,
                        "passed_time": 0.4501671205,
                        "remaining_time": 0.07328301961
                      },
                      {
                        "learn": [
                          64317.20672
                        ],
                        "iteration": 860,
                        "passed_time": 0.4505691886,
                        "remaining_time": 0.07273997353
                      },
                      {
                        "learn": [
                          64317.20672
                        ],
                        "iteration": 861,
                        "passed_time": 0.4510197855,
                        "remaining_time": 0.07220502367
                      },
                      {
                        "learn": [
                          64317.20672
                        ],
                        "iteration": 862,
                        "passed_time": 0.4514233034,
                        "remaining_time": 0.07166279555
                      },
                      {
                        "learn": [
                          64317.20672
                        ],
                        "iteration": 863,
                        "passed_time": 0.4518549004,
                        "remaining_time": 0.0711253084
                      },
                      {
                        "learn": [
                          64317.20672
                        ],
                        "iteration": 864,
                        "passed_time": 0.4522521789,
                        "remaining_time": 0.07058271
                      },
                      {
                        "learn": [
                          64317.20672
                        ],
                        "iteration": 865,
                        "passed_time": 0.4527191349,
                        "remaining_time": 0.07005122872
                      },
                      {
                        "learn": [
                          64317.20672
                        ],
                        "iteration": 866,
                        "passed_time": 0.4531382923,
                        "remaining_time": 0.06951256387
                      },
                      {
                        "learn": [
                          64317.20672
                        ],
                        "iteration": 867,
                        "passed_time": 0.4535728595,
                        "remaining_time": 0.0689765178
                      },
                      {
                        "learn": [
                          64317.20672
                        ],
                        "iteration": 868,
                        "passed_time": 0.4539698277,
                        "remaining_time": 0.06843503732
                      },
                      {
                        "learn": [
                          64317.20672
                        ],
                        "iteration": 869,
                        "passed_time": 0.4543980853,
                        "remaining_time": 0.06789856447
                      },
                      {
                        "learn": [
                          64317.20672
                        ],
                        "iteration": 870,
                        "passed_time": 0.4547990033,
                        "remaining_time": 0.06735829095
                      },
                      {
                        "learn": [
                          64317.20672
                        ],
                        "iteration": 871,
                        "passed_time": 0.4552310905,
                        "remaining_time": 0.06682291237
                      },
                      {
                        "learn": [
                          64317.20672
                        ],
                        "iteration": 872,
                        "passed_time": 0.4556275588,
                        "remaining_time": 0.06628258874
                      },
                      {
                        "learn": [
                          64317.20672
                        ],
                        "iteration": 873,
                        "passed_time": 0.4560379569,
                        "remaining_time": 0.06574460248
                      },
                      {
                        "learn": [
                          64317.20672
                        ],
                        "iteration": 874,
                        "passed_time": 0.4564239055,
                        "remaining_time": 0.06520341507
                      },
                      {
                        "learn": [
                          64317.20672
                        ],
                        "iteration": 875,
                        "passed_time": 0.4568417732,
                        "remaining_time": 0.06466710031
                      },
                      {
                        "learn": [
                          64317.20672
                        ],
                        "iteration": 876,
                        "passed_time": 0.4572158821,
                        "remaining_time": 0.06412491847
                      },
                      {
                        "learn": [
                          64317.20672
                        ],
                        "iteration": 877,
                        "passed_time": 0.4576404998,
                        "remaining_time": 0.06359013779
                      },
                      {
                        "learn": [
                          64317.20672
                        ],
                        "iteration": 878,
                        "passed_time": 0.4580185686,
                        "remaining_time": 0.06304920001
                      },
                      {
                        "learn": [
                          64317.20672
                        ],
                        "iteration": 879,
                        "passed_time": 0.4584576357,
                        "remaining_time": 0.06251695032
                      },
                      {
                        "learn": [
                          64317.20672
                        ],
                        "iteration": 880,
                        "passed_time": 0.4588373645,
                        "remaining_time": 0.06197689713
                      },
                      {
                        "learn": [
                          64317.20672
                        ],
                        "iteration": 881,
                        "passed_time": 0.4592768115,
                        "remaining_time": 0.061445197
                      },
                      {
                        "learn": [
                          64317.20672
                        ],
                        "iteration": 882,
                        "passed_time": 0.4596588802,
                        "remaining_time": 0.06090610304
                      },
                      {
                        "learn": [
                          64317.20672
                        ],
                        "iteration": 883,
                        "passed_time": 0.4600739782,
                        "remaining_time": 0.06037169849
                      },
                      {
                        "learn": [
                          64317.20672
                        ],
                        "iteration": 884,
                        "passed_time": 0.4604763561,
                        "remaining_time": 0.05983591068
                      },
                      {
                        "learn": [
                          64317.20672
                        ],
                        "iteration": 885,
                        "passed_time": 0.4609630217,
                        "remaining_time": 0.05931126916
                      },
                      {
                        "learn": [
                          64317.20672
                        ],
                        "iteration": 886,
                        "passed_time": 0.4613848693,
                        "remaining_time": 0.05877845572
                      },
                      {
                        "learn": [
                          64317.20672
                        ],
                        "iteration": 887,
                        "passed_time": 0.4617744475,
                        "remaining_time": 0.05824182221
                      },
                      {
                        "learn": [
                          64317.20672
                        ],
                        "iteration": 888,
                        "passed_time": 0.4621905855,
                        "remaining_time": 0.05770883576
                      },
                      {
                        "learn": [
                          64317.20672
                        ],
                        "iteration": 889,
                        "passed_time": 0.4625906239,
                        "remaining_time": 0.05717412205
                      },
                      {
                        "learn": [
                          64317.20672
                        ],
                        "iteration": 890,
                        "passed_time": 0.4630206214,
                        "remaining_time": 0.05664337568
                      },
                      {
                        "learn": [
                          64317.20672
                        ],
                        "iteration": 891,
                        "passed_time": 0.4634198798,
                        "remaining_time": 0.05610913343
                      },
                      {
                        "learn": [
                          64317.20672
                        ],
                        "iteration": 892,
                        "passed_time": 0.4638520769,
                        "remaining_time": 0.05557914023
                      },
                      {
                        "learn": [
                          64317.20672
                        ],
                        "iteration": 893,
                        "passed_time": 0.4642473754,
                        "remaining_time": 0.05504499082
                      },
                      {
                        "learn": [
                          64317.20672
                        ],
                        "iteration": 894,
                        "passed_time": 0.4646763125,
                        "remaining_time": 0.05451509812
                      },
                      {
                        "learn": [
                          64317.20672
                        ],
                        "iteration": 895,
                        "passed_time": 0.4650683112,
                        "remaining_time": 0.05398114326
                      },
                      {
                        "learn": [
                          64317.20672
                        ],
                        "iteration": 896,
                        "passed_time": 0.465474349,
                        "remaining_time": 0.05344911699
                      },
                      {
                        "learn": [
                          64317.20672
                        ],
                        "iteration": 897,
                        "passed_time": 0.4658535978,
                        "remaining_time": 0.05291432848
                      },
                      {
                        "learn": [
                          64317.20672
                        ],
                        "iteration": 898,
                        "passed_time": 0.4662718752,
                        "remaining_time": 0.05238427074
                      },
                      {
                        "learn": [
                          64317.20672
                        ],
                        "iteration": 899,
                        "passed_time": 0.4666586438,
                        "remaining_time": 0.05185096042
                      },
                      {
                        "learn": [
                          64317.20672
                        ],
                        "iteration": 900,
                        "passed_time": 0.4670894911,
                        "remaining_time": 0.05132281866
                      },
                      {
                        "learn": [
                          64317.20672
                        ],
                        "iteration": 901,
                        "passed_time": 0.4674782996,
                        "remaining_time": 0.05079032523
                      },
                      {
                        "learn": [
                          64317.20672
                        ],
                        "iteration": 902,
                        "passed_time": 0.4679128467,
                        "remaining_time": 0.05026306327
                      },
                      {
                        "learn": [
                          64317.20672
                        ],
                        "iteration": 903,
                        "passed_time": 0.4682957554,
                        "remaining_time": 0.0497305227
                      },
                      {
                        "learn": [
                          64317.20672
                        ],
                        "iteration": 904,
                        "passed_time": 0.4687169732,
                        "remaining_time": 0.04920233421
                      },
                      {
                        "learn": [
                          64317.20672
                        ],
                        "iteration": 905,
                        "passed_time": 0.4691098616,
                        "remaining_time": 0.0486714426
                      },
                      {
                        "learn": [
                          64317.20672
                        ],
                        "iteration": 906,
                        "passed_time": 0.4694077528,
                        "remaining_time": 0.04813111468
                      },
                      {
                        "learn": [
                          64317.20672
                        ],
                        "iteration": 907,
                        "passed_time": 0.4696979945,
                        "remaining_time": 0.0475905457
                      },
                      {
                        "learn": [
                          64317.20672
                        ],
                        "iteration": 908,
                        "passed_time": 0.4703978636,
                        "remaining_time": 0.0470915353
                      },
                      {
                        "learn": [
                          64317.20672
                        ],
                        "iteration": 909,
                        "passed_time": 0.4708465606,
                        "remaining_time": 0.04656724225
                      },
                      {
                        "learn": [
                          64317.20672
                        ],
                        "iteration": 910,
                        "passed_time": 0.4712451786,
                        "remaining_time": 0.04603822271
                      },
                      {
                        "learn": [
                          64317.20672
                        ],
                        "iteration": 911,
                        "passed_time": 0.4716919254,
                        "remaining_time": 0.04551413315
                      },
                      {
                        "learn": [
                          64317.20672
                        ],
                        "iteration": 912,
                        "passed_time": 0.4720907136,
                        "remaining_time": 0.04498564303
                      },
                      {
                        "learn": [
                          64317.20672
                        ],
                        "iteration": 913,
                        "passed_time": 0.4725314006,
                        "remaining_time": 0.04446137905
                      },
                      {
                        "learn": [
                          64317.20672
                        ],
                        "iteration": 914,
                        "passed_time": 0.4739037099,
                        "remaining_time": 0.0440238419
                      },
                      {
                        "learn": [
                          64317.20672
                        ],
                        "iteration": 915,
                        "passed_time": 0.4751319234,
                        "remaining_time": 0.04357104974
                      },
                      {
                        "learn": [
                          64317.20672
                        ],
                        "iteration": 916,
                        "passed_time": 0.4754716431,
                        "remaining_time": 0.04303614654
                      },
                      {
                        "learn": [
                          64317.20672
                        ],
                        "iteration": 917,
                        "passed_time": 0.4758308827,
                        "remaining_time": 0.04250341218
                      },
                      {
                        "learn": [
                          64317.20672
                        ],
                        "iteration": 918,
                        "passed_time": 0.4761702727,
                        "remaining_time": 0.04196930587
                      },
                      {
                        "learn": [
                          64317.20672
                        ],
                        "iteration": 919,
                        "passed_time": 0.4765257124,
                        "remaining_time": 0.04143701847
                      },
                      {
                        "learn": [
                          64317.20672
                        ],
                        "iteration": 920,
                        "passed_time": 0.4768997214,
                        "remaining_time": 0.04090670792
                      },
                      {
                        "learn": [
                          64317.20672
                        ],
                        "iteration": 921,
                        "passed_time": 0.4772283019,
                        "remaining_time": 0.04037289322
                      },
                      {
                        "learn": [
                          64317.20672
                        ],
                        "iteration": 922,
                        "passed_time": 0.4775760117,
                        "remaining_time": 0.03984111907
                      },
                      {
                        "learn": [
                          64317.20672
                        ],
                        "iteration": 923,
                        "passed_time": 0.4779201015,
                        "remaining_time": 0.03930944558
                      },
                      {
                        "learn": [
                          64317.20672
                        ],
                        "iteration": 924,
                        "passed_time": 0.4782585017,
                        "remaining_time": 0.03877771636
                      },
                      {
                        "learn": [
                          64317.20672
                        ],
                        "iteration": 925,
                        "passed_time": 0.4785749724,
                        "remaining_time": 0.03824465222
                      },
                      {
                        "learn": [
                          64317.20672
                        ],
                        "iteration": 926,
                        "passed_time": 0.4789062724,
                        "remaining_time": 0.03771322318
                      },
                      {
                        "learn": [
                          64317.20672
                        ],
                        "iteration": 927,
                        "passed_time": 0.4831796062,
                        "remaining_time": 0.0374880729
                      },
                      {
                        "learn": [
                          64317.20672
                        ],
                        "iteration": 928,
                        "passed_time": 0.4834897668,
                        "remaining_time": 0.03695131695
                      },
                      {
                        "learn": [
                          64317.20672
                        ],
                        "iteration": 929,
                        "passed_time": 0.4837826284,
                        "remaining_time": 0.03641374622
                      },
                      {
                        "learn": [
                          64317.20672
                        ],
                        "iteration": 930,
                        "passed_time": 0.4840794894,
                        "remaining_time": 0.0358769976
                      },
                      {
                        "learn": [
                          64317.20672
                        ],
                        "iteration": 931,
                        "passed_time": 0.4843575412,
                        "remaining_time": 0.03533939142
                      },
                      {
                        "learn": [
                          64317.20672
                        ],
                        "iteration": 932,
                        "passed_time": 0.484636733,
                        "remaining_time": 0.03480242348
                      },
                      {
                        "learn": [
                          64317.20672
                        ],
                        "iteration": 933,
                        "passed_time": 0.4849306345,
                        "remaining_time": 0.03426704698
                      },
                      {
                        "learn": [
                          64317.20672
                        ],
                        "iteration": 934,
                        "passed_time": 0.4852205557,
                        "remaining_time": 0.03373191029
                      },
                      {
                        "learn": [
                          64317.20672
                        ],
                        "iteration": 935,
                        "passed_time": 0.4855105072,
                        "remaining_time": 0.03319729964
                      },
                      {
                        "learn": [
                          64317.20672
                        ],
                        "iteration": 936,
                        "passed_time": 0.4858047883,
                        "remaining_time": 0.03266350231
                      },
                      {
                        "learn": [
                          64317.20672
                        ],
                        "iteration": 937,
                        "passed_time": 0.4907630721,
                        "remaining_time": 0.0324384973
                      },
                      {
                        "learn": [
                          64317.20672
                        ],
                        "iteration": 938,
                        "passed_time": 0.4911496909,
                        "remaining_time": 0.03190642294
                      },
                      {
                        "learn": [
                          64317.20672
                        ],
                        "iteration": 939,
                        "passed_time": 0.491459932,
                        "remaining_time": 0.03136978289
                      },
                      {
                        "learn": [
                          64317.20672
                        ],
                        "iteration": 940,
                        "passed_time": 0.493416424,
                        "remaining_time": 0.03093684274
                      },
                      {
                        "learn": [
                          64317.20672
                        ],
                        "iteration": 941,
                        "passed_time": 0.4939883071,
                        "remaining_time": 0.03041541594
                      },
                      {
                        "learn": [
                          64317.20672
                        ],
                        "iteration": 942,
                        "passed_time": 0.4943146775,
                        "remaining_time": 0.02987904201
                      },
                      {
                        "learn": [
                          64317.20672
                        ],
                        "iteration": 943,
                        "passed_time": 0.4946300481,
                        "remaining_time": 0.02934246048
                      },
                      {
                        "learn": [
                          64317.20672
                        ],
                        "iteration": 944,
                        "passed_time": 0.4949220995,
                        "remaining_time": 0.02880498992
                      },
                      {
                        "learn": [
                          64317.20672
                        ],
                        "iteration": 945,
                        "passed_time": 0.4959164204,
                        "remaining_time": 0.02830812548
                      },
                      {
                        "learn": [
                          64317.20672
                        ],
                        "iteration": 946,
                        "passed_time": 0.4963402079,
                        "remaining_time": 0.02777827985
                      },
                      {
                        "learn": [
                          64317.20672
                        ],
                        "iteration": 947,
                        "passed_time": 0.4966281696,
                        "remaining_time": 0.02724120761
                      },
                      {
                        "learn": [
                          64317.20672
                        ],
                        "iteration": 948,
                        "passed_time": 0.4969149309,
                        "remaining_time": 0.02670459587
                      },
                      {
                        "learn": [
                          64317.20672
                        ],
                        "iteration": 949,
                        "passed_time": 0.4972111124,
                        "remaining_time": 0.02616900591
                      },
                      {
                        "learn": [
                          64317.20672
                        ],
                        "iteration": 950,
                        "passed_time": 0.4975148834,
                        "remaining_time": 0.0256343105
                      },
                      {
                        "learn": [
                          64317.20672
                        ],
                        "iteration": 951,
                        "passed_time": 0.4978017447,
                        "remaining_time": 0.02509924763
                      },
                      {
                        "learn": [
                          64317.20672
                        ],
                        "iteration": 952,
                        "passed_time": 0.4981017061,
                        "remaining_time": 0.02456535172
                      },
                      {
                        "learn": [
                          64317.20672
                        ],
                        "iteration": 953,
                        "passed_time": 0.4983901078,
                        "remaining_time": 0.02403138885
                      },
                      {
                        "learn": [
                          64317.20672
                        ],
                        "iteration": 954,
                        "passed_time": 0.4986605998,
                        "remaining_time": 0.02349709633
                      },
                      {
                        "learn": [
                          64317.20672
                        ],
                        "iteration": 955,
                        "passed_time": 0.4989496811,
                        "remaining_time": 0.02296421126
                      },
                      {
                        "learn": [
                          64317.20672
                        ],
                        "iteration": 956,
                        "passed_time": 0.5009151128,
                        "remaining_time": 0.02250715763
                      },
                      {
                        "learn": [
                          64317.20672
                        ],
                        "iteration": 957,
                        "passed_time": 0.5012202838,
                        "remaining_time": 0.02197416693
                      },
                      {
                        "learn": [
                          64317.20672
                        ],
                        "iteration": 958,
                        "passed_time": 0.5015029554,
                        "remaining_time": 0.02144068944
                      },
                      {
                        "learn": [
                          64317.20672
                        ],
                        "iteration": 959,
                        "passed_time": 0.5017967468,
                        "remaining_time": 0.02090819778
                      },
                      {
                        "learn": [
                          64317.20672
                        ],
                        "iteration": 960,
                        "passed_time": 0.5021149272,
                        "remaining_time": 0.02037719267
                      },
                      {
                        "learn": [
                          64317.20672
                        ],
                        "iteration": 961,
                        "passed_time": 0.5024033084,
                        "remaining_time": 0.01984545293
                      },
                      {
                        "learn": [
                          64317.20672
                        ],
                        "iteration": 962,
                        "passed_time": 0.50269503,
                        "remaining_time": 0.01931434695
                      },
                      {
                        "learn": [
                          64317.20672
                        ],
                        "iteration": 963,
                        "passed_time": 0.5029756017,
                        "remaining_time": 0.01878332123
                      },
                      {
                        "learn": [
                          64317.20672
                        ],
                        "iteration": 964,
                        "passed_time": 0.503270173,
                        "remaining_time": 0.01825332234
                      },
                      {
                        "learn": [
                          64317.20672
                        ],
                        "iteration": 965,
                        "passed_time": 0.5052867833,
                        "remaining_time": 0.01778442094
                      },
                      {
                        "learn": [
                          64317.20672
                        ],
                        "iteration": 966,
                        "passed_time": 0.5057850486,
                        "remaining_time": 0.01726050321
                      },
                      {
                        "learn": [
                          64317.20672
                        ],
                        "iteration": 967,
                        "passed_time": 0.5060864499,
                        "remaining_time": 0.01673013058
                      },
                      {
                        "learn": [
                          64317.20672
                        ],
                        "iteration": 968,
                        "passed_time": 0.5063883708,
                        "remaining_time": 0.01620024716
                      },
                      {
                        "learn": [
                          64317.20672
                        ],
                        "iteration": 969,
                        "passed_time": 0.5066880619,
                        "remaining_time": 0.0156707648
                      },
                      {
                        "learn": [
                          64317.20672
                        ],
                        "iteration": 970,
                        "passed_time": 0.5069780636,
                        "remaining_time": 0.01514146637
                      },
                      {
                        "learn": [
                          64317.20672
                        ],
                        "iteration": 971,
                        "passed_time": 0.5072575655,
                        "remaining_time": 0.01461235786
                      },
                      {
                        "learn": [
                          64317.20672
                        ],
                        "iteration": 972,
                        "passed_time": 0.5075348174,
                        "remaining_time": 0.01408369997
                      },
                      {
                        "learn": [
                          64317.20672
                        ],
                        "iteration": 973,
                        "passed_time": 0.5078147691,
                        "remaining_time": 0.01355563039
                      },
                      {
                        "learn": [
                          64317.20672
                        ],
                        "iteration": 974,
                        "passed_time": 0.5099819851,
                        "remaining_time": 0.01307646116
                      },
                      {
                        "learn": [
                          64317.20672
                        ],
                        "iteration": 975,
                        "passed_time": 0.5104147425,
                        "remaining_time": 0.01255118219
                      },
                      {
                        "learn": [
                          64317.20672
                        ],
                        "iteration": 976,
                        "passed_time": 0.5107268236,
                        "remaining_time": 0.01202325173
                      },
                      {
                        "learn": [
                          64317.20672
                        ],
                        "iteration": 977,
                        "passed_time": 0.5110099352,
                        "remaining_time": 0.01149511102
                      },
                      {
                        "learn": [
                          64317.20672
                        ],
                        "iteration": 978,
                        "passed_time": 0.5113011968,
                        "remaining_time": 0.01096764569
                      },
                      {
                        "learn": [
                          64317.20672
                        ],
                        "iteration": 979,
                        "passed_time": 0.5116081478,
                        "remaining_time": 0.01044098261
                      },
                      {
                        "learn": [
                          64317.20672
                        ],
                        "iteration": 980,
                        "passed_time": 0.5118838396,
                        "remaining_time": 0.009914162031
                      },
                      {
                        "learn": [
                          64317.20672
                        ],
                        "iteration": 981,
                        "passed_time": 0.5121550014,
                        "remaining_time": 0.009387769883
                      },
                      {
                        "learn": [
                          64317.20672
                        ],
                        "iteration": 982,
                        "passed_time": 0.512439653,
                        "remaining_time": 0.008862130316
                      },
                      {
                        "learn": [
                          64317.20672
                        ],
                        "iteration": 983,
                        "passed_time": 0.5127179048,
                        "remaining_time": 0.0083368765
                      },
                      {
                        "learn": [
                          64317.20672
                        ],
                        "iteration": 984,
                        "passed_time": 0.5129904065,
                        "remaining_time": 0.007812036647
                      },
                      {
                        "learn": [
                          64317.20672
                        ],
                        "iteration": 985,
                        "passed_time": 0.513279318,
                        "remaining_time": 0.007287941634
                      },
                      {
                        "learn": [
                          64317.20672
                        ],
                        "iteration": 986,
                        "passed_time": 0.515310558,
                        "remaining_time": 0.006787271787
                      },
                      {
                        "learn": [
                          64317.20672
                        ],
                        "iteration": 987,
                        "passed_time": 0.5156091892,
                        "remaining_time": 0.006262459788
                      },
                      {
                        "learn": [
                          64317.20672
                        ],
                        "iteration": 988,
                        "passed_time": 0.5158936808,
                        "remaining_time": 0.005737947916
                      },
                      {
                        "learn": [
                          64317.20672
                        ],
                        "iteration": 989,
                        "passed_time": 0.5162154411,
                        "remaining_time": 0.005214297384
                      },
                      {
                        "learn": [
                          64317.20672
                        ],
                        "iteration": 990,
                        "passed_time": 0.5165005326,
                        "remaining_time": 0.004690721285
                      },
                      {
                        "learn": [
                          64317.20672
                        ],
                        "iteration": 991,
                        "passed_time": 0.5167737046,
                        "remaining_time": 0.004167529876
                      },
                      {
                        "learn": [
                          64317.20672
                        ],
                        "iteration": 992,
                        "passed_time": 0.517056706,
                        "remaining_time": 0.003644911321
                      },
                      {
                        "learn": [
                          64317.20672
                        ],
                        "iteration": 993,
                        "passed_time": 0.5173457975,
                        "remaining_time": 0.003122811655
                      },
                      {
                        "learn": [
                          64317.20672
                        ],
                        "iteration": 994,
                        "passed_time": 0.5176166797,
                        "remaining_time": 0.002601088843
                      },
                      {
                        "learn": [
                          64317.20672
                        ],
                        "iteration": 995,
                        "passed_time": 0.5178980212,
                        "remaining_time": 0.002079911732
                      },
                      {
                        "learn": [
                          64317.20672
                        ],
                        "iteration": 996,
                        "passed_time": 0.5206964088,
                        "remaining_time": 0.001566789595
                      },
                      {
                        "learn": [
                          64317.20672
                        ],
                        "iteration": 997,
                        "passed_time": 0.5211724049,
                        "remaining_time": 0.001044433677
                      },
                      {
                        "learn": [
                          64317.20672
                        ],
                        "iteration": 998,
                        "passed_time": 0.5215907926,
                        "remaining_time": 0.0005221129055
                      },
                      {
                        "learn": [
                          64317.20672
                        ],
                        "iteration": 999,
                        "passed_time": 0.5218766841,
                        "remaining_time": 0
                      }
                    ],
                    "meta": {
                      "test_sets": [],
                      "test_metrics": [],
                      "learn_metrics": [
                        {
                          "best_value": "Min",
                          "name": "RMSE"
                        }
                      ],
                      "launch_mode": "Train",
                      "parameters": "",
                      "iteration_count": 1000,
                      "learn_sets": [
                        "learn"
                      ],
                      "name": "experiment"
                    }
                  }
                }
              }
            },
            "layout": "IPY_MODEL_23dc0c70677a4cd688470297b7cdad53"
          }
        }
      }
    }
  },
  "nbformat": 4,
  "nbformat_minor": 5
}