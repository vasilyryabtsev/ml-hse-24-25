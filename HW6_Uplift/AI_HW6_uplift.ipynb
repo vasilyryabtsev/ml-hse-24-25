{
  "cells": [
    {
      "cell_type": "markdown",
      "metadata": {
        "colab_type": "text",
        "id": "view-in-github"
      },
      "source": [
        "<a href=\"https://colab.research.google.com/github/Murcha1990/ML_AI24/blob/main/Hometasks/Base/AI_HW6_uplift.ipynb\" target=\"_parent\"><img src=\"https://colab.research.google.com/assets/colab-badge.svg\" alt=\"Open In Colab\"/></a>"
      ]
    },
    {
      "cell_type": "markdown",
      "metadata": {
        "id": "5UxZHx_r25YA"
      },
      "source": [
        "<h1> Задание по Uplift-моделированию </h1>"
      ]
    },
    {
      "cell_type": "markdown",
      "metadata": {
        "id": "r1LJ_Q4k25YB"
      },
      "source": [
        "<h2>Введение</h2>"
      ]
    },
    {
      "cell_type": "markdown",
      "metadata": {
        "id": "EiEmEZgQ25YC"
      },
      "source": [
        "Перед вами типичная задача, возникающая при работе с моделями кампейнинга в банке: заказчик запустил несколько пилотов по взаимодействию с клиентами с помощью разных каналов: push в мобильном приложении, sms, баннеры в мобильном приложении и реклама в других приложениях экосистемы. Заказчик хотел бы понимать, какой канал взаимодействия с клиентом наиболее эффективен для каждого клиента из клиентской базы. Кампании планируются и запускаются в ежемесячном режиме. Иными словами, заказчик хотел бы в идеале ежемесячно получать список клиентов, которым необходимо отправить коммуникацию с указанием канала и прироста вероятности покупки в случае, если клиенту отправят коммуникацию по сравнению с тем случаем, когда клиенту коммуникацию не отправят."
      ]
    },
    {
      "cell_type": "markdown",
      "metadata": {
        "id": "aLgfZIiN25YC"
      },
      "source": [
        "<b>Таким образом: </b>\n",
        "1.\tУ нас есть база клиентов (клиенты, имеющие id в банке). По данной базе осуществляется рассылка тех или иных стимулирующих коммуникаций по различным продуктам, каналам (например SMS, Push, баннеры в мобильном приложении и т.д.) и сегментам клиентов\n",
        "2.\tПризнаковое описание клиента состоит из различных агрегатов действий клиента за месяц или его объективных характеристик: например, средняя сумма средств на депозитах за месяц, среднее число кликов клиента в день за месяц в разделе \"инвестиции\" в мобильном приложении или возраст клиента\n",
        "3.\tПри формировании обучающей/тестовой выборки допускается, что один и тот же клиент за разные месяцы — это разные объекты. То есть допускается, что клиент в феврале и клиент в марте — это разные клиенты (то есть мы можем оперировать с ними как с разными сущностями).\n",
        "4.\tАгрегаты действий клиента за месяц появляются примерно 10 числа следующего месяца. То есть, например, агрегаты за декабрь появляются 10 января. В свою очередь списки клиентов, которым необходимо осуществить рассылку должны быть сформированы ориентировочно 20 числа предыдущего месяца. Таким образом, <b> модель должна быть обучена делать предсказания с лагом в два месяца </b>, то есть должна делать предсказание на март по клиентским агрегатам за январь. Обязательно учтите это при обучении модели (в противном случае можно получить лик таргета, так как часто величину, которую мы предсказываем уже есть в клиентских агрегатах, но смещенная на два месяца).\n"
      ]
    },
    {
      "cell_type": "markdown",
      "metadata": {
        "id": "r5VaIQxhMkn_"
      },
      "source": [
        "## Оценивание задания:\n",
        "\n",
        "Всего за задание можно получить 50 первичных баллов, которые затем переводятся в 10-балльную шкалу делением не 5."
      ]
    },
    {
      "cell_type": "markdown",
      "metadata": {
        "id": "D5LqU8fw76ML"
      },
      "source": [
        "Скачаем архив с данными по ссылке и разархивируем."
      ]
    },
    {
      "cell_type": "code",
      "execution_count": 1,
      "metadata": {
        "id": "XwBqYVxY6tY-"
      },
      "outputs": [],
      "source": [
        "# !pip install gdown -q"
      ]
    },
    {
      "cell_type": "code",
      "execution_count": 2,
      "metadata": {
        "id": "yBGQKvlF6vU3"
      },
      "outputs": [],
      "source": [
        "# import gdown\n",
        "\n",
        "# url = 'https://drive.google.com/uc?id=19nKGaxm3RwHxh2UWPo537_-MDx21AkHO'\n",
        "# output = 'Data.zip'\n",
        "# gdown.download(url, output, quiet=False)"
      ]
    },
    {
      "cell_type": "code",
      "execution_count": 3,
      "metadata": {
        "id": "I-5it8TG7ayV"
      },
      "outputs": [],
      "source": [
        "# import zipfile\n",
        "\n",
        "# with zipfile.ZipFile(output, 'r') as zip_ref:\n",
        "#     zip_ref.extractall('./')"
      ]
    },
    {
      "cell_type": "markdown",
      "metadata": {
        "id": "l9G5oeYo25YD"
      },
      "source": [
        "<h2>Описание данных</h2>"
      ]
    },
    {
      "cell_type": "markdown",
      "metadata": {
        "id": "LfuaYa-y25YD"
      },
      "source": [
        "Перед вами несколько наборов данных, на основе которых вам будет необходимо обучить Uplift модели, сделать прогноз на нужный месяц и решить, кому из клиентов отправлять коммуникацию, а кому коммуникацию отправлять не следует."
      ]
    },
    {
      "cell_type": "markdown",
      "metadata": {
        "id": "DRjowlnH25YD"
      },
      "source": [
        "<h3>Features </h3> Признаки клиентов, клиентские агрегаты, которые описывают поведение клиентов <br>\n",
        "\n",
        "1. user_id - id клиента\n",
        "2. report_dt - месяц, на который актуальны признаки\n",
        "3. city - город, в котором живет клиент\n",
        "4. age - возраст клиента\n",
        "5. x1 – x9 - числовые признаки клиента, характеризующие поведение клиента\n",
        "\n",
        "Первичный ключ таблицы - user_id + report_dt"
      ]
    },
    {
      "cell_type": "markdown",
      "metadata": {
        "id": "2rJL_Hku25YD"
      },
      "source": [
        "<h3> Contracts </h3> Таблица с покупками продуктов.\n",
        "\n",
        "1. contract_id - id покупки\n",
        "2. user_id - id пользователя, который совершил покупку\n",
        "3. product_id - id продукта, который был куплен\n",
        "4. contract_ts – дата момента, когда была совершена покупка\n",
        "\n",
        "Первичный ключ - contract_id\n"
      ]
    },
    {
      "cell_type": "markdown",
      "metadata": {
        "id": "2TqZalUD25YE"
      },
      "source": [
        "<h3> Campaings </h3> Кампании, которые проводились (под кампанией мы понимаем рассылку sms, push и т.д).\n",
        "\n",
        "1. campaing_id - id кампании, первичный ключ таблицы\n",
        "2. product_id - продукт, по которому проводилась кампания (считаем, что продукты не конкурируют друг с другом)\n",
        "3. channel - канал, в котором проводилась кампания\n"
      ]
    },
    {
      "cell_type": "markdown",
      "metadata": {
        "id": "np7t4WiP25YE"
      },
      "source": [
        "<h3> People_in_campaings </h3> Люди, которые принимали участие в кампаниях.\n",
        "\n",
        "1. campaing_id - id кампании\n",
        "2. user_id - id пользователя, который попал в кампанию\n",
        "3. флаг целевой (1) и контрольной (0) группы (целевая группа - это те, кто получил коммуникацию, а контрольная - те, кто нет)\n",
        "4. delivery_ts - timestamp, когда клиенту фактически была доставлена коммуникация (для контрольной группы nan, подумайте почему)\n",
        "\n",
        "Первичный ключ данной таблицы - user_id + campaing_id\n"
      ]
    },
    {
      "cell_type": "markdown",
      "metadata": {
        "id": "C03ITf9d25YE"
      },
      "source": [
        "<h3> Contracts </h3> Таблица с покупками продуктов\n",
        "\n",
        "1. contract_id - id покупки\n",
        "2. user_id - id пользователя, который совершил покупку\n",
        "3. product_id - id продукта, который был куплен\n",
        "4. contract_ts – дата момента, когда была совершена покупка\n",
        "\n",
        "Первичный ключ - contract_id\n"
      ]
    },
    {
      "cell_type": "markdown",
      "metadata": {
        "id": "X13DQ-BZ25YE"
      },
      "source": [
        "<h1> Постановка задачи </h1> В ноябре 2024 проводилось несколько кампаний по продукту с id 0001 (фактически клиенту рассылалось одно и тоже сообщение, но в разных каналах). Вам необходимо по данным кампаниям построить модель, которая будет определять лучший канал коммуникации каждого клиента и определить, кому из клиентов в марте 2025 отправить какую коммуникацию, а кому коммуникацию вообще отправлять не следует.\n",
        "Ответ нужно представить в следующем виде (report_dt – дата фичей):"
      ]
    },
    {
      "cell_type": "markdown",
      "metadata": {
        "id": "PARzVwDJ25YE"
      },
      "source": [
        "<table>\n",
        "  <thead>\n",
        "    <tr>\n",
        "      <th>user_id</th>\n",
        "      <th>report_dt</th>\n",
        "      <th>channel</th>\n",
        "      <th>uplift</th>\n",
        "    </tr>\n",
        "  </thead>\n",
        "  <tbody>\n",
        "    <tr>\n",
        "      <td>10045</td>\n",
        "      <td>2025-01-31</td>\n",
        "      <td>banner</td>\n",
        "      <td>0.07</td>\n",
        "    </tr>\n",
        "    <tr>\n",
        "      <td>10046</td>\n",
        "      <td>2025-01-31</td>\n",
        "      <td>no_comm</td>\n",
        "      <td>0.00</td>\n",
        "    </tr>\n",
        "    <tr>\n",
        "      <td>10047</td>\n",
        "      <td>2025-01-31</td>\n",
        "      <td>sms</td>\n",
        "      <td>0.23</td>\n",
        "    </tr>\n",
        "    <tr>\n",
        "      <td>10048</td>\n",
        "      <td>2025-01-31</td>\n",
        "      <td>push</td>\n",
        "      <td>0.19</td>\n",
        "    </tr>\n",
        "  </tbody>\n",
        "</table>"
      ]
    },
    {
      "cell_type": "markdown",
      "metadata": {
        "id": "m88lnhDN25YE"
      },
      "source": [
        "<h1> Декомпозиция задачи </h1>"
      ]
    },
    {
      "cell_type": "code",
      "execution_count": 4,
      "metadata": {},
      "outputs": [],
      "source": [
        "import pandas as pd"
      ]
    },
    {
      "cell_type": "markdown",
      "metadata": {
        "id": "9NIZb-Ln25YE"
      },
      "source": [
        "<h2> 1.\tСбор и анализ таргета (18 баллов)</h2>"
      ]
    },
    {
      "cell_type": "markdown",
      "metadata": {
        "id": "rh9PtKOB25YF"
      },
      "source": [
        "Прежде всего, вам необходимо собрать целевое событие, которое вы собираетесь прогнозировать. В данном случае целевое событие - это покупка продукта 0001 пользователем, участвовавшем в кампании. Обратите внимание, что не все пользователи получают коммуникацию одновременно (delivery_ts в таблице People_in_campaings). Согласно правилу, согласованному с заказчиком, <b> человек из целевой группы купил продукт после коммуникации - это значит, что он купил его в течение 2х недель после получения сообщения, а человек из контрольной - в течение 3х недель с момента старта кампании (старт кампании - начало месяца). </b> То есть для определенной кампании, для каждого клиента, попавшего в кампанию, вам надо будет найти его покупки данного продукта, а потом основываяся на данном правиле превратить покупки в 0 или 1. <br> На выходе у вас должен появиться таблица с целевым действием для каждого канала (колонки client_id, report_dt,  target), где таргет - это бинарная переменная (0 или 1). Колонка report_dt вам нужна как техническая колонка для дальнейших джоинов.<br><br>\n",
        "\n",
        "Проведите анализ полученных данных (до присоединения клиентских агрегатов). Какие проблемы и сложности в данных вы обнаружили? Что с ними можно сделать? Какая из кампаний наиболее эффективная? Подготовьте выводы по полученным инсайтам.\n"
      ]
    },
    {
      "cell_type": "markdown",
      "metadata": {
        "id": "tSZt8rI5DQFu"
      },
      "source": [
        "**Комментарий по заданиям и оцениванию:**\n",
        "\n",
        "* Вы должны самостоятельно сделать join нескольких таблиц, самостоятельно собрать целевое действие\n",
        "\n",
        "* Представлены 4 различных канала, за таргет по каждому из каналов можно получить **максимум 2 балла**:\n",
        "    * 1 балл за то, что просчитано целевое действие для целевой группы (покупка в\n",
        "течение одной-двух недель с момента получения коммуникации)\n",
        "    * 1 балл за то, что просчитано целевое действие для контрольной группы (покупка в течение двух-трех недель с момента старта кампании) и сделана таблица в требуемом формате\n",
        "\n",
        "* Обратите внимание, что не во всех кампаниях содержатся корректные данные для проведения моделирования, и вам необходимо провести анализ данных и в случае выявленных некорректностей - описать их, и не проводить моделирование для \"сломанной\" кампании  \n",
        "    * За данный анализ можно получить **8 баллов**\n",
        "\n",
        "* Вы должны оценить эффективность кампаний по uplift (cреднее значение таргета в целевой минус среднее значение таргета в контрольной группе)\n",
        "    * За данный анализ можно получить **2 балла**"
      ]
    },
    {
      "cell_type": "code",
      "execution_count": 5,
      "metadata": {
        "id": "oPa4XRte3_58"
      },
      "outputs": [],
      "source": [
        "features = pd.read_csv('data/AGGS_FINAL.csv').drop('Unnamed: 0', axis=1)\n",
        "contracts = pd.read_csv('data/CONTRACTS_FINAL.csv').drop('Unnamed: 0', axis=1)\n",
        "campaigns = pd.read_csv('data/CAMPAINGS.csv').drop('Unnamed: 0', axis=1)\n",
        "people_in_campaigns = pd.read_csv('data/PEOPLE_IN_CAMPAINGS_FINAL.csv').drop('Unnamed: 0', axis=1)"
      ]
    },
    {
      "cell_type": "code",
      "execution_count": 6,
      "metadata": {},
      "outputs": [
        {
          "data": {
            "text/html": [
              "<div>\n",
              "<style scoped>\n",
              "    .dataframe tbody tr th:only-of-type {\n",
              "        vertical-align: middle;\n",
              "    }\n",
              "\n",
              "    .dataframe tbody tr th {\n",
              "        vertical-align: top;\n",
              "    }\n",
              "\n",
              "    .dataframe thead th {\n",
              "        text-align: right;\n",
              "    }\n",
              "</style>\n",
              "<table border=\"1\" class=\"dataframe\">\n",
              "  <thead>\n",
              "    <tr style=\"text-align: right;\">\n",
              "      <th></th>\n",
              "      <th>x1</th>\n",
              "      <th>x2</th>\n",
              "      <th>x3</th>\n",
              "      <th>x4</th>\n",
              "      <th>x5</th>\n",
              "      <th>x6</th>\n",
              "      <th>x7</th>\n",
              "      <th>x8</th>\n",
              "      <th>x9</th>\n",
              "      <th>report_dt</th>\n",
              "      <th>user_id</th>\n",
              "      <th>age</th>\n",
              "      <th>city</th>\n",
              "    </tr>\n",
              "  </thead>\n",
              "  <tbody>\n",
              "    <tr>\n",
              "      <th>0</th>\n",
              "      <td>0.654343</td>\n",
              "      <td>-1.439286</td>\n",
              "      <td>-0.011475</td>\n",
              "      <td>2.039457</td>\n",
              "      <td>0.843580</td>\n",
              "      <td>-0.977480</td>\n",
              "      <td>-0.768019</td>\n",
              "      <td>-1.044127</td>\n",
              "      <td>0.025673</td>\n",
              "      <td>2025-01-31</td>\n",
              "      <td>1066338</td>\n",
              "      <td>26</td>\n",
              "      <td>Ufa</td>\n",
              "    </tr>\n",
              "    <tr>\n",
              "      <th>1</th>\n",
              "      <td>2.583579</td>\n",
              "      <td>1.755569</td>\n",
              "      <td>3.360186</td>\n",
              "      <td>-1.122864</td>\n",
              "      <td>0.034201</td>\n",
              "      <td>-0.269607</td>\n",
              "      <td>-1.503646</td>\n",
              "      <td>1.040289</td>\n",
              "      <td>-1.691606</td>\n",
              "      <td>2024-11-30</td>\n",
              "      <td>13900</td>\n",
              "      <td>35</td>\n",
              "      <td>Ufa</td>\n",
              "    </tr>\n",
              "    <tr>\n",
              "      <th>2</th>\n",
              "      <td>0.296030</td>\n",
              "      <td>-0.937075</td>\n",
              "      <td>1.073280</td>\n",
              "      <td>1.874636</td>\n",
              "      <td>-0.981216</td>\n",
              "      <td>-1.100187</td>\n",
              "      <td>-0.331181</td>\n",
              "      <td>-1.575637</td>\n",
              "      <td>0.474965</td>\n",
              "      <td>2025-03-31</td>\n",
              "      <td>4063636</td>\n",
              "      <td>28</td>\n",
              "      <td>Ufa</td>\n",
              "    </tr>\n",
              "    <tr>\n",
              "      <th>3</th>\n",
              "      <td>2.329328</td>\n",
              "      <td>-1.345159</td>\n",
              "      <td>0.345066</td>\n",
              "      <td>0.755373</td>\n",
              "      <td>-0.082842</td>\n",
              "      <td>0.028439</td>\n",
              "      <td>0.919211</td>\n",
              "      <td>0.808793</td>\n",
              "      <td>-0.560004</td>\n",
              "      <td>2025-03-31</td>\n",
              "      <td>1025488</td>\n",
              "      <td>27</td>\n",
              "      <td>Moscow</td>\n",
              "    </tr>\n",
              "    <tr>\n",
              "      <th>4</th>\n",
              "      <td>0.167643</td>\n",
              "      <td>1.587099</td>\n",
              "      <td>0.165357</td>\n",
              "      <td>0.289758</td>\n",
              "      <td>-1.108840</td>\n",
              "      <td>-1.501819</td>\n",
              "      <td>0.615588</td>\n",
              "      <td>1.631203</td>\n",
              "      <td>-0.208419</td>\n",
              "      <td>2025-02-28</td>\n",
              "      <td>4040555</td>\n",
              "      <td>37</td>\n",
              "      <td>Moscow</td>\n",
              "    </tr>\n",
              "  </tbody>\n",
              "</table>\n",
              "</div>"
            ],
            "text/plain": [
              "         x1        x2        x3        x4        x5        x6        x7  \\\n",
              "0  0.654343 -1.439286 -0.011475  2.039457  0.843580 -0.977480 -0.768019   \n",
              "1  2.583579  1.755569  3.360186 -1.122864  0.034201 -0.269607 -1.503646   \n",
              "2  0.296030 -0.937075  1.073280  1.874636 -0.981216 -1.100187 -0.331181   \n",
              "3  2.329328 -1.345159  0.345066  0.755373 -0.082842  0.028439  0.919211   \n",
              "4  0.167643  1.587099  0.165357  0.289758 -1.108840 -1.501819  0.615588   \n",
              "\n",
              "         x8        x9   report_dt  user_id  age    city  \n",
              "0 -1.044127  0.025673  2025-01-31  1066338   26     Ufa  \n",
              "1  1.040289 -1.691606  2024-11-30    13900   35     Ufa  \n",
              "2 -1.575637  0.474965  2025-03-31  4063636   28     Ufa  \n",
              "3  0.808793 -0.560004  2025-03-31  1025488   27  Moscow  \n",
              "4  1.631203 -0.208419  2025-02-28  4040555   37  Moscow  "
            ]
          },
          "execution_count": 6,
          "metadata": {},
          "output_type": "execute_result"
        }
      ],
      "source": [
        "features.head()"
      ]
    },
    {
      "cell_type": "code",
      "execution_count": 7,
      "metadata": {},
      "outputs": [
        {
          "name": "stdout",
          "output_type": "stream",
          "text": [
            "<class 'pandas.core.frame.DataFrame'>\n",
            "RangeIndex: 2760000 entries, 0 to 2759999\n",
            "Data columns (total 13 columns):\n",
            " #   Column     Dtype  \n",
            "---  ------     -----  \n",
            " 0   x1         float64\n",
            " 1   x2         float64\n",
            " 2   x3         float64\n",
            " 3   x4         float64\n",
            " 4   x5         float64\n",
            " 5   x6         float64\n",
            " 6   x7         float64\n",
            " 7   x8         float64\n",
            " 8   x9         float64\n",
            " 9   report_dt  object \n",
            " 10  user_id    int64  \n",
            " 11  age        int64  \n",
            " 12  city       object \n",
            "dtypes: float64(9), int64(2), object(2)\n",
            "memory usage: 273.7+ MB\n"
          ]
        }
      ],
      "source": [
        "features.info()"
      ]
    },
    {
      "cell_type": "markdown",
      "metadata": {},
      "source": [
        "`Нужно привести report_dt в формат даты.`"
      ]
    },
    {
      "cell_type": "code",
      "execution_count": 8,
      "metadata": {},
      "outputs": [],
      "source": [
        "features['report_dt'] = pd.to_datetime(features['report_dt'], format='%Y-%m-%d')"
      ]
    },
    {
      "cell_type": "code",
      "execution_count": 9,
      "metadata": {},
      "outputs": [
        {
          "data": {
            "text/plain": [
              "count                          2760000\n",
              "mean     2025-01-09 12:00:00.000000256\n",
              "min                2024-09-30 00:00:00\n",
              "25%                2024-11-30 00:00:00\n",
              "50%                2025-01-15 12:00:00\n",
              "75%                2025-02-28 00:00:00\n",
              "max                2025-03-31 00:00:00\n",
              "Name: report_dt, dtype: object"
            ]
          },
          "execution_count": 9,
          "metadata": {},
          "output_type": "execute_result"
        }
      ],
      "source": [
        "features['report_dt'].describe()"
      ]
    },
    {
      "cell_type": "markdown",
      "metadata": {},
      "source": [
        "`В этом атрибуте информативен только месяц.`"
      ]
    },
    {
      "cell_type": "code",
      "execution_count": 10,
      "metadata": {},
      "outputs": [
        {
          "data": {
            "text/plain": [
              "False"
            ]
          },
          "execution_count": 10,
          "metadata": {},
          "output_type": "execute_result"
        }
      ],
      "source": [
        "features['user_id'].unique().shape[0] == features.shape[0]"
      ]
    },
    {
      "cell_type": "markdown",
      "metadata": {},
      "source": [
        "`user_id принимает неуникальные значения.`"
      ]
    },
    {
      "cell_type": "code",
      "execution_count": 11,
      "metadata": {},
      "outputs": [
        {
          "data": {
            "text/html": [
              "<div>\n",
              "<style scoped>\n",
              "    .dataframe tbody tr th:only-of-type {\n",
              "        vertical-align: middle;\n",
              "    }\n",
              "\n",
              "    .dataframe tbody tr th {\n",
              "        vertical-align: top;\n",
              "    }\n",
              "\n",
              "    .dataframe thead th {\n",
              "        text-align: right;\n",
              "    }\n",
              "</style>\n",
              "<table border=\"1\" class=\"dataframe\">\n",
              "  <thead>\n",
              "    <tr style=\"text-align: right;\">\n",
              "      <th></th>\n",
              "      <th>user_id</th>\n",
              "      <th>contract_date</th>\n",
              "      <th>product_id</th>\n",
              "      <th>contract_id</th>\n",
              "    </tr>\n",
              "  </thead>\n",
              "  <tbody>\n",
              "    <tr>\n",
              "      <th>0</th>\n",
              "      <td>4008279</td>\n",
              "      <td>2024-11-03</td>\n",
              "      <td>1</td>\n",
              "      <td>0001_2024-11-03_4008279</td>\n",
              "    </tr>\n",
              "    <tr>\n",
              "      <th>1</th>\n",
              "      <td>2079035</td>\n",
              "      <td>2024-11-08</td>\n",
              "      <td>1</td>\n",
              "      <td>0001_2024-11-08_2079035</td>\n",
              "    </tr>\n",
              "    <tr>\n",
              "      <th>2</th>\n",
              "      <td>103088</td>\n",
              "      <td>2024-11-13</td>\n",
              "      <td>1</td>\n",
              "      <td>0001_2024-11-13_103088</td>\n",
              "    </tr>\n",
              "    <tr>\n",
              "      <th>3</th>\n",
              "      <td>2026788</td>\n",
              "      <td>2024-11-02</td>\n",
              "      <td>1</td>\n",
              "      <td>0001_2024-11-02_2026788</td>\n",
              "    </tr>\n",
              "    <tr>\n",
              "      <th>4</th>\n",
              "      <td>52269</td>\n",
              "      <td>2024-11-17</td>\n",
              "      <td>1</td>\n",
              "      <td>0001_2024-11-17_52269</td>\n",
              "    </tr>\n",
              "  </tbody>\n",
              "</table>\n",
              "</div>"
            ],
            "text/plain": [
              "   user_id contract_date  product_id              contract_id\n",
              "0  4008279    2024-11-03           1  0001_2024-11-03_4008279\n",
              "1  2079035    2024-11-08           1  0001_2024-11-08_2079035\n",
              "2   103088    2024-11-13           1   0001_2024-11-13_103088\n",
              "3  2026788    2024-11-02           1  0001_2024-11-02_2026788\n",
              "4    52269    2024-11-17           1    0001_2024-11-17_52269"
            ]
          },
          "execution_count": 11,
          "metadata": {},
          "output_type": "execute_result"
        }
      ],
      "source": [
        "contracts.head()"
      ]
    },
    {
      "cell_type": "code",
      "execution_count": 12,
      "metadata": {},
      "outputs": [
        {
          "data": {
            "text/plain": [
              "array([1])"
            ]
          },
          "execution_count": 12,
          "metadata": {},
          "output_type": "execute_result"
        }
      ],
      "source": [
        "contracts['product_id'].unique()"
      ]
    },
    {
      "cell_type": "markdown",
      "metadata": {},
      "source": [
        "`product_id принимает только одно значения, cоответсвующие продукту 0001. Этот атрибут можно удалить.`"
      ]
    },
    {
      "cell_type": "code",
      "execution_count": 13,
      "metadata": {},
      "outputs": [],
      "source": [
        "contracts.drop('product_id', axis=1, inplace=True)"
      ]
    },
    {
      "cell_type": "code",
      "execution_count": 14,
      "metadata": {},
      "outputs": [
        {
          "name": "stdout",
          "output_type": "stream",
          "text": [
            "<class 'pandas.core.frame.DataFrame'>\n",
            "RangeIndex: 286316 entries, 0 to 286315\n",
            "Data columns (total 3 columns):\n",
            " #   Column         Non-Null Count   Dtype \n",
            "---  ------         --------------   ----- \n",
            " 0   user_id        286316 non-null  int64 \n",
            " 1   contract_date  286316 non-null  object\n",
            " 2   contract_id    286316 non-null  object\n",
            "dtypes: int64(1), object(2)\n",
            "memory usage: 6.6+ MB\n"
          ]
        }
      ],
      "source": [
        "contracts.info()"
      ]
    },
    {
      "cell_type": "markdown",
      "metadata": {},
      "source": [
        "`Нужно привести contract_date в формат даты.`"
      ]
    },
    {
      "cell_type": "code",
      "execution_count": 15,
      "metadata": {},
      "outputs": [],
      "source": [
        "contracts['contract_date'] = pd.to_datetime(contracts['contract_date'], format='%Y-%m-%d')"
      ]
    },
    {
      "cell_type": "code",
      "execution_count": 16,
      "metadata": {},
      "outputs": [
        {
          "data": {
            "text/plain": [
              "count                           286316\n",
              "mean     2024-11-13 13:16:45.529555200\n",
              "min                2024-11-01 00:00:00\n",
              "25%                2024-11-08 00:00:00\n",
              "50%                2024-11-13 00:00:00\n",
              "75%                2024-11-17 00:00:00\n",
              "max                2024-11-28 00:00:00\n",
              "Name: contract_date, dtype: object"
            ]
          },
          "execution_count": 16,
          "metadata": {},
          "output_type": "execute_result"
        }
      ],
      "source": [
        "contracts['contract_date'].describe()"
      ]
    },
    {
      "cell_type": "markdown",
      "metadata": {},
      "source": [
        "`Все покупки осуществлялись в ноября.`"
      ]
    },
    {
      "cell_type": "code",
      "execution_count": 17,
      "metadata": {},
      "outputs": [
        {
          "data": {
            "text/plain": [
              "True"
            ]
          },
          "execution_count": 17,
          "metadata": {},
          "output_type": "execute_result"
        }
      ],
      "source": [
        "contracts['user_id'].unique().shape[0] == contracts.shape[0]"
      ]
    },
    {
      "cell_type": "markdown",
      "metadata": {},
      "source": [
        "`Клиенты совершали только одну покупку в течение ноября.`"
      ]
    },
    {
      "cell_type": "code",
      "execution_count": 18,
      "metadata": {},
      "outputs": [
        {
          "data": {
            "text/html": [
              "<div>\n",
              "<style scoped>\n",
              "    .dataframe tbody tr th:only-of-type {\n",
              "        vertical-align: middle;\n",
              "    }\n",
              "\n",
              "    .dataframe tbody tr th {\n",
              "        vertical-align: top;\n",
              "    }\n",
              "\n",
              "    .dataframe thead th {\n",
              "        text-align: right;\n",
              "    }\n",
              "</style>\n",
              "<table border=\"1\" class=\"dataframe\">\n",
              "  <thead>\n",
              "    <tr style=\"text-align: right;\">\n",
              "      <th></th>\n",
              "      <th>campaing_id</th>\n",
              "      <th>product_id</th>\n",
              "      <th>channel</th>\n",
              "    </tr>\n",
              "  </thead>\n",
              "  <tbody>\n",
              "    <tr>\n",
              "      <th>0</th>\n",
              "      <td>iddqd</td>\n",
              "      <td>1</td>\n",
              "      <td>push</td>\n",
              "    </tr>\n",
              "    <tr>\n",
              "      <th>1</th>\n",
              "      <td>idclip</td>\n",
              "      <td>1</td>\n",
              "      <td>sms</td>\n",
              "    </tr>\n",
              "    <tr>\n",
              "      <th>2</th>\n",
              "      <td>iddt</td>\n",
              "      <td>1</td>\n",
              "      <td>banner</td>\n",
              "    </tr>\n",
              "    <tr>\n",
              "      <th>3</th>\n",
              "      <td>idkfa</td>\n",
              "      <td>1</td>\n",
              "      <td>other_ads</td>\n",
              "    </tr>\n",
              "  </tbody>\n",
              "</table>\n",
              "</div>"
            ],
            "text/plain": [
              "  campaing_id  product_id    channel\n",
              "0       iddqd           1       push\n",
              "1      idclip           1        sms\n",
              "2        iddt           1     banner\n",
              "3       idkfa           1  other_ads"
            ]
          },
          "execution_count": 18,
          "metadata": {},
          "output_type": "execute_result"
        }
      ],
      "source": [
        "campaigns.head()"
      ]
    },
    {
      "cell_type": "code",
      "execution_count": 19,
      "metadata": {},
      "outputs": [
        {
          "data": {
            "text/plain": [
              "array([1])"
            ]
          },
          "execution_count": 19,
          "metadata": {},
          "output_type": "execute_result"
        }
      ],
      "source": [
        "campaigns['product_id'].unique()"
      ]
    },
    {
      "cell_type": "markdown",
      "metadata": {},
      "source": [
        "`product_id принимает только одно значение, соответсвующие продукту 0001. Этот атрибут можно удалить.`"
      ]
    },
    {
      "cell_type": "code",
      "execution_count": 20,
      "metadata": {},
      "outputs": [],
      "source": [
        "campaigns.drop('product_id', axis=1, inplace=True)"
      ]
    },
    {
      "cell_type": "code",
      "execution_count": 21,
      "metadata": {},
      "outputs": [
        {
          "data": {
            "text/html": [
              "<div>\n",
              "<style scoped>\n",
              "    .dataframe tbody tr th:only-of-type {\n",
              "        vertical-align: middle;\n",
              "    }\n",
              "\n",
              "    .dataframe tbody tr th {\n",
              "        vertical-align: top;\n",
              "    }\n",
              "\n",
              "    .dataframe thead th {\n",
              "        text-align: right;\n",
              "    }\n",
              "</style>\n",
              "<table border=\"1\" class=\"dataframe\">\n",
              "  <thead>\n",
              "    <tr style=\"text-align: right;\">\n",
              "      <th></th>\n",
              "      <th>campaing_id</th>\n",
              "      <th>user_id</th>\n",
              "      <th>t_flag</th>\n",
              "      <th>delivery_date</th>\n",
              "    </tr>\n",
              "  </thead>\n",
              "  <tbody>\n",
              "    <tr>\n",
              "      <th>0</th>\n",
              "      <td>idclip</td>\n",
              "      <td>1099975</td>\n",
              "      <td>1</td>\n",
              "      <td>2024-11-06</td>\n",
              "    </tr>\n",
              "    <tr>\n",
              "      <th>1</th>\n",
              "      <td>iddqd</td>\n",
              "      <td>1162</td>\n",
              "      <td>1</td>\n",
              "      <td>2024-11-08</td>\n",
              "    </tr>\n",
              "    <tr>\n",
              "      <th>2</th>\n",
              "      <td>iddqd</td>\n",
              "      <td>42991</td>\n",
              "      <td>1</td>\n",
              "      <td>2024-11-07</td>\n",
              "    </tr>\n",
              "    <tr>\n",
              "      <th>3</th>\n",
              "      <td>idclip</td>\n",
              "      <td>142343</td>\n",
              "      <td>0</td>\n",
              "      <td>unknown</td>\n",
              "    </tr>\n",
              "    <tr>\n",
              "      <th>4</th>\n",
              "      <td>iddqd</td>\n",
              "      <td>24623</td>\n",
              "      <td>0</td>\n",
              "      <td>unknown</td>\n",
              "    </tr>\n",
              "  </tbody>\n",
              "</table>\n",
              "</div>"
            ],
            "text/plain": [
              "  campaing_id  user_id  t_flag delivery_date\n",
              "0      idclip  1099975       1    2024-11-06\n",
              "1       iddqd     1162       1    2024-11-08\n",
              "2       iddqd    42991       1    2024-11-07\n",
              "3      idclip   142343       0       unknown\n",
              "4       iddqd    24623       0       unknown"
            ]
          },
          "execution_count": 21,
          "metadata": {},
          "output_type": "execute_result"
        }
      ],
      "source": [
        "people_in_campaigns.head()"
      ]
    },
    {
      "cell_type": "markdown",
      "metadata": {},
      "source": [
        "`delivery_date нужно привести к типу даты, значения unknown принять за пропуск.`"
      ]
    },
    {
      "cell_type": "code",
      "execution_count": 22,
      "metadata": {},
      "outputs": [],
      "source": [
        "people_in_campaigns['delivery_date'] = pd.to_datetime(people_in_campaigns['delivery_date'], format='%Y-%m-%d', errors='coerce')"
      ]
    },
    {
      "cell_type": "code",
      "execution_count": 23,
      "metadata": {},
      "outputs": [
        {
          "data": {
            "text/plain": [
              "count                           260000\n",
              "mean     2024-11-05 20:42:25.919999744\n",
              "min                2024-11-04 00:00:00\n",
              "25%                2024-11-05 00:00:00\n",
              "50%                2024-11-06 00:00:00\n",
              "75%                2024-11-07 00:00:00\n",
              "max                2024-11-08 00:00:00\n",
              "Name: delivery_date, dtype: object"
            ]
          },
          "execution_count": 23,
          "metadata": {},
          "output_type": "execute_result"
        }
      ],
      "source": [
        "people_in_campaigns['delivery_date'].describe()"
      ]
    },
    {
      "cell_type": "markdown",
      "metadata": {},
      "source": [
        "`Компании проводились только в ноябре.`"
      ]
    },
    {
      "cell_type": "markdown",
      "metadata": {},
      "source": [
        "`Объединим people_in_campaigns и campaigns.`"
      ]
    },
    {
      "cell_type": "code",
      "execution_count": 24,
      "metadata": {},
      "outputs": [
        {
          "data": {
            "text/html": [
              "<div>\n",
              "<style scoped>\n",
              "    .dataframe tbody tr th:only-of-type {\n",
              "        vertical-align: middle;\n",
              "    }\n",
              "\n",
              "    .dataframe tbody tr th {\n",
              "        vertical-align: top;\n",
              "    }\n",
              "\n",
              "    .dataframe thead th {\n",
              "        text-align: right;\n",
              "    }\n",
              "</style>\n",
              "<table border=\"1\" class=\"dataframe\">\n",
              "  <thead>\n",
              "    <tr style=\"text-align: right;\">\n",
              "      <th></th>\n",
              "      <th>campaing_id</th>\n",
              "      <th>user_id</th>\n",
              "      <th>t_flag</th>\n",
              "      <th>delivery_date</th>\n",
              "      <th>channel</th>\n",
              "    </tr>\n",
              "  </thead>\n",
              "  <tbody>\n",
              "    <tr>\n",
              "      <th>0</th>\n",
              "      <td>idclip</td>\n",
              "      <td>1099975</td>\n",
              "      <td>1</td>\n",
              "      <td>2024-11-06</td>\n",
              "      <td>sms</td>\n",
              "    </tr>\n",
              "    <tr>\n",
              "      <th>1</th>\n",
              "      <td>iddqd</td>\n",
              "      <td>1162</td>\n",
              "      <td>1</td>\n",
              "      <td>2024-11-08</td>\n",
              "      <td>push</td>\n",
              "    </tr>\n",
              "    <tr>\n",
              "      <th>2</th>\n",
              "      <td>iddqd</td>\n",
              "      <td>42991</td>\n",
              "      <td>1</td>\n",
              "      <td>2024-11-07</td>\n",
              "      <td>push</td>\n",
              "    </tr>\n",
              "    <tr>\n",
              "      <th>3</th>\n",
              "      <td>idclip</td>\n",
              "      <td>142343</td>\n",
              "      <td>0</td>\n",
              "      <td>NaT</td>\n",
              "      <td>sms</td>\n",
              "    </tr>\n",
              "    <tr>\n",
              "      <th>4</th>\n",
              "      <td>iddqd</td>\n",
              "      <td>24623</td>\n",
              "      <td>0</td>\n",
              "      <td>NaT</td>\n",
              "      <td>push</td>\n",
              "    </tr>\n",
              "    <tr>\n",
              "      <th>...</th>\n",
              "      <td>...</td>\n",
              "      <td>...</td>\n",
              "      <td>...</td>\n",
              "      <td>...</td>\n",
              "      <td>...</td>\n",
              "    </tr>\n",
              "    <tr>\n",
              "      <th>519995</th>\n",
              "      <td>iddt</td>\n",
              "      <td>4108275</td>\n",
              "      <td>1</td>\n",
              "      <td>2024-11-04</td>\n",
              "      <td>banner</td>\n",
              "    </tr>\n",
              "    <tr>\n",
              "      <th>519996</th>\n",
              "      <td>iddqd</td>\n",
              "      <td>131927</td>\n",
              "      <td>1</td>\n",
              "      <td>2024-11-06</td>\n",
              "      <td>push</td>\n",
              "    </tr>\n",
              "    <tr>\n",
              "      <th>519997</th>\n",
              "      <td>idclip</td>\n",
              "      <td>1074765</td>\n",
              "      <td>1</td>\n",
              "      <td>2024-11-05</td>\n",
              "      <td>sms</td>\n",
              "    </tr>\n",
              "    <tr>\n",
              "      <th>519998</th>\n",
              "      <td>iddqd</td>\n",
              "      <td>73995</td>\n",
              "      <td>0</td>\n",
              "      <td>NaT</td>\n",
              "      <td>push</td>\n",
              "    </tr>\n",
              "    <tr>\n",
              "      <th>519999</th>\n",
              "      <td>iddqd</td>\n",
              "      <td>85450</td>\n",
              "      <td>1</td>\n",
              "      <td>2024-11-04</td>\n",
              "      <td>push</td>\n",
              "    </tr>\n",
              "  </tbody>\n",
              "</table>\n",
              "<p>520000 rows × 5 columns</p>\n",
              "</div>"
            ],
            "text/plain": [
              "       campaing_id  user_id  t_flag delivery_date channel\n",
              "0           idclip  1099975       1    2024-11-06     sms\n",
              "1            iddqd     1162       1    2024-11-08    push\n",
              "2            iddqd    42991       1    2024-11-07    push\n",
              "3           idclip   142343       0           NaT     sms\n",
              "4            iddqd    24623       0           NaT    push\n",
              "...            ...      ...     ...           ...     ...\n",
              "519995        iddt  4108275       1    2024-11-04  banner\n",
              "519996       iddqd   131927       1    2024-11-06    push\n",
              "519997      idclip  1074765       1    2024-11-05     sms\n",
              "519998       iddqd    73995       0           NaT    push\n",
              "519999       iddqd    85450       1    2024-11-04    push\n",
              "\n",
              "[520000 rows x 5 columns]"
            ]
          },
          "execution_count": 24,
          "metadata": {},
          "output_type": "execute_result"
        }
      ],
      "source": [
        "people_in_campaigns_merge_campaigns = people_in_campaigns.merge(right=campaigns,\n",
        "                          how='left',\n",
        "                          on='campaing_id',\n",
        "                          validate='many_to_one')\n",
        "\n",
        "people_in_campaigns_merge_campaigns"
      ]
    },
    {
      "cell_type": "markdown",
      "metadata": {},
      "source": [
        "`Отделим контрольную группу от целевой.`"
      ]
    },
    {
      "cell_type": "code",
      "execution_count": 26,
      "metadata": {},
      "outputs": [],
      "source": [
        "target_campaigns = people_in_campaigns_merge_campaigns[~people_in_campaigns_merge_campaigns['delivery_date'].isna()]\n",
        "control_campaigns = people_in_campaigns_merge_campaigns[people_in_campaigns_merge_campaigns['delivery_date'].isna()].drop('delivery_date', axis=1)"
      ]
    },
    {
      "cell_type": "code",
      "execution_count": 27,
      "metadata": {},
      "outputs": [
        {
          "data": {
            "text/html": [
              "<div>\n",
              "<style scoped>\n",
              "    .dataframe tbody tr th:only-of-type {\n",
              "        vertical-align: middle;\n",
              "    }\n",
              "\n",
              "    .dataframe tbody tr th {\n",
              "        vertical-align: top;\n",
              "    }\n",
              "\n",
              "    .dataframe thead th {\n",
              "        text-align: right;\n",
              "    }\n",
              "</style>\n",
              "<table border=\"1\" class=\"dataframe\">\n",
              "  <thead>\n",
              "    <tr style=\"text-align: right;\">\n",
              "      <th></th>\n",
              "      <th>campaing_id</th>\n",
              "      <th>user_id</th>\n",
              "      <th>t_flag</th>\n",
              "      <th>delivery_date</th>\n",
              "      <th>channel</th>\n",
              "    </tr>\n",
              "  </thead>\n",
              "  <tbody>\n",
              "    <tr>\n",
              "      <th>0</th>\n",
              "      <td>idclip</td>\n",
              "      <td>1099975</td>\n",
              "      <td>1</td>\n",
              "      <td>2024-11-06</td>\n",
              "      <td>sms</td>\n",
              "    </tr>\n",
              "    <tr>\n",
              "      <th>1</th>\n",
              "      <td>iddqd</td>\n",
              "      <td>1162</td>\n",
              "      <td>1</td>\n",
              "      <td>2024-11-08</td>\n",
              "      <td>push</td>\n",
              "    </tr>\n",
              "    <tr>\n",
              "      <th>2</th>\n",
              "      <td>iddqd</td>\n",
              "      <td>42991</td>\n",
              "      <td>1</td>\n",
              "      <td>2024-11-07</td>\n",
              "      <td>push</td>\n",
              "    </tr>\n",
              "    <tr>\n",
              "      <th>6</th>\n",
              "      <td>idkfa</td>\n",
              "      <td>2008409</td>\n",
              "      <td>1</td>\n",
              "      <td>2024-11-04</td>\n",
              "      <td>other_ads</td>\n",
              "    </tr>\n",
              "    <tr>\n",
              "      <th>7</th>\n",
              "      <td>iddt</td>\n",
              "      <td>4045746</td>\n",
              "      <td>1</td>\n",
              "      <td>2024-11-04</td>\n",
              "      <td>banner</td>\n",
              "    </tr>\n",
              "    <tr>\n",
              "      <th>...</th>\n",
              "      <td>...</td>\n",
              "      <td>...</td>\n",
              "      <td>...</td>\n",
              "      <td>...</td>\n",
              "      <td>...</td>\n",
              "    </tr>\n",
              "    <tr>\n",
              "      <th>519994</th>\n",
              "      <td>idclip</td>\n",
              "      <td>1085198</td>\n",
              "      <td>1</td>\n",
              "      <td>2024-11-07</td>\n",
              "      <td>sms</td>\n",
              "    </tr>\n",
              "    <tr>\n",
              "      <th>519995</th>\n",
              "      <td>iddt</td>\n",
              "      <td>4108275</td>\n",
              "      <td>1</td>\n",
              "      <td>2024-11-04</td>\n",
              "      <td>banner</td>\n",
              "    </tr>\n",
              "    <tr>\n",
              "      <th>519996</th>\n",
              "      <td>iddqd</td>\n",
              "      <td>131927</td>\n",
              "      <td>1</td>\n",
              "      <td>2024-11-06</td>\n",
              "      <td>push</td>\n",
              "    </tr>\n",
              "    <tr>\n",
              "      <th>519997</th>\n",
              "      <td>idclip</td>\n",
              "      <td>1074765</td>\n",
              "      <td>1</td>\n",
              "      <td>2024-11-05</td>\n",
              "      <td>sms</td>\n",
              "    </tr>\n",
              "    <tr>\n",
              "      <th>519999</th>\n",
              "      <td>iddqd</td>\n",
              "      <td>85450</td>\n",
              "      <td>1</td>\n",
              "      <td>2024-11-04</td>\n",
              "      <td>push</td>\n",
              "    </tr>\n",
              "  </tbody>\n",
              "</table>\n",
              "<p>260000 rows × 5 columns</p>\n",
              "</div>"
            ],
            "text/plain": [
              "       campaing_id  user_id  t_flag delivery_date    channel\n",
              "0           idclip  1099975       1    2024-11-06        sms\n",
              "1            iddqd     1162       1    2024-11-08       push\n",
              "2            iddqd    42991       1    2024-11-07       push\n",
              "6            idkfa  2008409       1    2024-11-04  other_ads\n",
              "7             iddt  4045746       1    2024-11-04     banner\n",
              "...            ...      ...     ...           ...        ...\n",
              "519994      idclip  1085198       1    2024-11-07        sms\n",
              "519995        iddt  4108275       1    2024-11-04     banner\n",
              "519996       iddqd   131927       1    2024-11-06       push\n",
              "519997      idclip  1074765       1    2024-11-05        sms\n",
              "519999       iddqd    85450       1    2024-11-04       push\n",
              "\n",
              "[260000 rows x 5 columns]"
            ]
          },
          "execution_count": 27,
          "metadata": {},
          "output_type": "execute_result"
        }
      ],
      "source": [
        "target_campaigns"
      ]
    },
    {
      "cell_type": "markdown",
      "metadata": {},
      "source": [
        "`Проверка по полю t_flag.`"
      ]
    },
    {
      "cell_type": "code",
      "execution_count": 28,
      "metadata": {},
      "outputs": [
        {
          "data": {
            "text/plain": [
              "array([1])"
            ]
          },
          "execution_count": 28,
          "metadata": {},
          "output_type": "execute_result"
        }
      ],
      "source": [
        "target_campaigns['t_flag'].unique()"
      ]
    },
    {
      "cell_type": "code",
      "execution_count": 29,
      "metadata": {},
      "outputs": [
        {
          "data": {
            "text/html": [
              "<div>\n",
              "<style scoped>\n",
              "    .dataframe tbody tr th:only-of-type {\n",
              "        vertical-align: middle;\n",
              "    }\n",
              "\n",
              "    .dataframe tbody tr th {\n",
              "        vertical-align: top;\n",
              "    }\n",
              "\n",
              "    .dataframe thead th {\n",
              "        text-align: right;\n",
              "    }\n",
              "</style>\n",
              "<table border=\"1\" class=\"dataframe\">\n",
              "  <thead>\n",
              "    <tr style=\"text-align: right;\">\n",
              "      <th></th>\n",
              "      <th>campaing_id</th>\n",
              "      <th>user_id</th>\n",
              "      <th>t_flag</th>\n",
              "      <th>channel</th>\n",
              "    </tr>\n",
              "  </thead>\n",
              "  <tbody>\n",
              "    <tr>\n",
              "      <th>3</th>\n",
              "      <td>idclip</td>\n",
              "      <td>142343</td>\n",
              "      <td>0</td>\n",
              "      <td>sms</td>\n",
              "    </tr>\n",
              "    <tr>\n",
              "      <th>4</th>\n",
              "      <td>iddqd</td>\n",
              "      <td>24623</td>\n",
              "      <td>0</td>\n",
              "      <td>push</td>\n",
              "    </tr>\n",
              "    <tr>\n",
              "      <th>5</th>\n",
              "      <td>iddt</td>\n",
              "      <td>4001330</td>\n",
              "      <td>0</td>\n",
              "      <td>banner</td>\n",
              "    </tr>\n",
              "    <tr>\n",
              "      <th>9</th>\n",
              "      <td>idkfa</td>\n",
              "      <td>2101471</td>\n",
              "      <td>0</td>\n",
              "      <td>other_ads</td>\n",
              "    </tr>\n",
              "    <tr>\n",
              "      <th>10</th>\n",
              "      <td>idkfa</td>\n",
              "      <td>2086041</td>\n",
              "      <td>0</td>\n",
              "      <td>other_ads</td>\n",
              "    </tr>\n",
              "    <tr>\n",
              "      <th>...</th>\n",
              "      <td>...</td>\n",
              "      <td>...</td>\n",
              "      <td>...</td>\n",
              "      <td>...</td>\n",
              "    </tr>\n",
              "    <tr>\n",
              "      <th>519987</th>\n",
              "      <td>iddqd</td>\n",
              "      <td>94299</td>\n",
              "      <td>0</td>\n",
              "      <td>push</td>\n",
              "    </tr>\n",
              "    <tr>\n",
              "      <th>519990</th>\n",
              "      <td>idkfa</td>\n",
              "      <td>2020830</td>\n",
              "      <td>0</td>\n",
              "      <td>other_ads</td>\n",
              "    </tr>\n",
              "    <tr>\n",
              "      <th>519992</th>\n",
              "      <td>iddqd</td>\n",
              "      <td>98949</td>\n",
              "      <td>0</td>\n",
              "      <td>push</td>\n",
              "    </tr>\n",
              "    <tr>\n",
              "      <th>519993</th>\n",
              "      <td>idclip</td>\n",
              "      <td>81278</td>\n",
              "      <td>0</td>\n",
              "      <td>sms</td>\n",
              "    </tr>\n",
              "    <tr>\n",
              "      <th>519998</th>\n",
              "      <td>iddqd</td>\n",
              "      <td>73995</td>\n",
              "      <td>0</td>\n",
              "      <td>push</td>\n",
              "    </tr>\n",
              "  </tbody>\n",
              "</table>\n",
              "<p>260000 rows × 4 columns</p>\n",
              "</div>"
            ],
            "text/plain": [
              "       campaing_id  user_id  t_flag    channel\n",
              "3           idclip   142343       0        sms\n",
              "4            iddqd    24623       0       push\n",
              "5             iddt  4001330       0     banner\n",
              "9            idkfa  2101471       0  other_ads\n",
              "10           idkfa  2086041       0  other_ads\n",
              "...            ...      ...     ...        ...\n",
              "519987       iddqd    94299       0       push\n",
              "519990       idkfa  2020830       0  other_ads\n",
              "519992       iddqd    98949       0       push\n",
              "519993      idclip    81278       0        sms\n",
              "519998       iddqd    73995       0       push\n",
              "\n",
              "[260000 rows x 4 columns]"
            ]
          },
          "execution_count": 29,
          "metadata": {},
          "output_type": "execute_result"
        }
      ],
      "source": [
        "control_campaigns"
      ]
    },
    {
      "cell_type": "markdown",
      "metadata": {},
      "source": [
        "`Проверка по полю t_flag.`"
      ]
    },
    {
      "cell_type": "code",
      "execution_count": 30,
      "metadata": {},
      "outputs": [
        {
          "data": {
            "text/plain": [
              "array([0])"
            ]
          },
          "execution_count": 30,
          "metadata": {},
          "output_type": "execute_result"
        }
      ],
      "source": [
        "control_campaigns['t_flag'].unique()"
      ]
    },
    {
      "cell_type": "code",
      "execution_count": 31,
      "metadata": {},
      "outputs": [
        {
          "data": {
            "text/plain": [
              "60000"
            ]
          },
          "execution_count": 31,
          "metadata": {},
          "output_type": "execute_result"
        }
      ],
      "source": [
        "len(set(control_campaigns['user_id'].unique()).intersection(set(target_campaigns['user_id'].unique())))"
      ]
    },
    {
      "cell_type": "markdown",
      "metadata": {},
      "source": [
        "`60000 клиентов попали в обе группы одновременно.`"
      ]
    },
    {
      "cell_type": "code",
      "execution_count": 32,
      "metadata": {},
      "outputs": [
        {
          "name": "stdout",
          "output_type": "stream",
          "text": [
            "iddqd:\n",
            "intersection length: 0\n",
            "idclip:\n",
            "intersection length: 0\n",
            "iddt:\n",
            "intersection length: 0\n",
            "idkfa:\n",
            "intersection length: 0\n"
          ]
        }
      ],
      "source": [
        "for campaign in campaigns['campaing_id']:\n",
        "    print(f'{campaign}:')\n",
        "    filter_target = (target_campaigns['campaing_id'] == campaign)\n",
        "    filter_control = (control_campaigns['campaing_id'] == campaign)\n",
        "    intersection_len = len(set(control_campaigns[filter_control]['user_id']).intersection(set(target_campaigns[filter_target]['user_id'])))\n",
        "    print(f'intersection length: {intersection_len}')"
      ]
    },
    {
      "cell_type": "markdown",
      "metadata": {},
      "source": [
        "`В рамках одной компании пересечений нет, следовательно нужно искать пересечения между разными компаниями.`"
      ]
    },
    {
      "cell_type": "code",
      "execution_count": 33,
      "metadata": {},
      "outputs": [
        {
          "data": {
            "text/html": [
              "<div>\n",
              "<style scoped>\n",
              "    .dataframe tbody tr th:only-of-type {\n",
              "        vertical-align: middle;\n",
              "    }\n",
              "\n",
              "    .dataframe tbody tr th {\n",
              "        vertical-align: top;\n",
              "    }\n",
              "\n",
              "    .dataframe thead th {\n",
              "        text-align: right;\n",
              "    }\n",
              "</style>\n",
              "<table border=\"1\" class=\"dataframe\">\n",
              "  <thead>\n",
              "    <tr style=\"text-align: right;\">\n",
              "      <th>campaing_id</th>\n",
              "      <th>idclip</th>\n",
              "      <th>iddqd</th>\n",
              "      <th>iddt</th>\n",
              "      <th>idkfa</th>\n",
              "    </tr>\n",
              "    <tr>\n",
              "      <th>campaing_id</th>\n",
              "      <th></th>\n",
              "      <th></th>\n",
              "      <th></th>\n",
              "      <th></th>\n",
              "    </tr>\n",
              "  </thead>\n",
              "  <tbody>\n",
              "    <tr>\n",
              "      <th>idclip</th>\n",
              "      <td>120000</td>\n",
              "      <td>60000</td>\n",
              "      <td>0</td>\n",
              "      <td>0</td>\n",
              "    </tr>\n",
              "    <tr>\n",
              "      <th>iddqd</th>\n",
              "      <td>60000</td>\n",
              "      <td>160000</td>\n",
              "      <td>0</td>\n",
              "      <td>0</td>\n",
              "    </tr>\n",
              "    <tr>\n",
              "      <th>iddt</th>\n",
              "      <td>0</td>\n",
              "      <td>0</td>\n",
              "      <td>120000</td>\n",
              "      <td>0</td>\n",
              "    </tr>\n",
              "    <tr>\n",
              "      <th>idkfa</th>\n",
              "      <td>0</td>\n",
              "      <td>0</td>\n",
              "      <td>0</td>\n",
              "      <td>120000</td>\n",
              "    </tr>\n",
              "  </tbody>\n",
              "</table>\n",
              "</div>"
            ],
            "text/plain": [
              "campaing_id  idclip   iddqd    iddt   idkfa\n",
              "campaing_id                                \n",
              "idclip       120000   60000       0       0\n",
              "iddqd         60000  160000       0       0\n",
              "iddt              0       0  120000       0\n",
              "idkfa             0       0       0  120000"
            ]
          },
          "execution_count": 33,
          "metadata": {},
          "output_type": "execute_result"
        }
      ],
      "source": [
        "cross_tab = pd.crosstab(people_in_campaigns_merge_campaigns['user_id'], \n",
        "                        people_in_campaigns_merge_campaigns['campaing_id'])\n",
        "\n",
        "cross_tab.T.dot(cross_tab) "
      ]
    },
    {
      "cell_type": "code",
      "execution_count": 34,
      "metadata": {},
      "outputs": [
        {
          "data": {
            "text/plain": [
              "campaing_id  t_flag\n",
              "idclip       0         29939\n",
              "iddqd        1         30061\n",
              "Name: user_id, dtype: int64"
            ]
          },
          "execution_count": 34,
          "metadata": {},
          "output_type": "execute_result"
        }
      ],
      "source": [
        "idclip_iddqd = people_in_campaigns_merge_campaigns[people_in_campaigns_merge_campaigns['campaing_id'].isin(['idclip', 'iddqd'])]\n",
        "\n",
        "idclip_iddqd[idclip_iddqd['user_id'].duplicated()].groupby(['campaing_id', 't_flag'])['user_id'].count()"
      ]
    },
    {
      "cell_type": "code",
      "execution_count": 35,
      "metadata": {},
      "outputs": [
        {
          "data": {
            "text/plain": [
              "campaing_id  t_flag\n",
              "idclip       0         60000\n",
              "iddqd        1         60000\n",
              "Name: user_id, dtype: int64"
            ]
          },
          "execution_count": 35,
          "metadata": {},
          "output_type": "execute_result"
        }
      ],
      "source": [
        "idclip_iddqd[idclip_iddqd['user_id'].duplicated(keep=False)].groupby(['campaing_id', 't_flag'])['user_id'].count()"
      ]
    },
    {
      "cell_type": "markdown",
      "metadata": {},
      "source": [
        "`С учетом того, что внутри одной компании пересечений нет, обе компании имееют некорректные данные: 29939 клиентов находятся в контрольной группе компании idclip и одновременно в целевой группе iddqd, 30061 клиент находятся в целевой группе iddqd и в контрольной группе idclip. Эти компании нужно убрать из анализа, поскольку в них есть клиенты, находящиеся под влиянием другой компании, модель uplift этого не учитывает.`"
      ]
    },
    {
      "cell_type": "code",
      "execution_count": 37,
      "metadata": {},
      "outputs": [
        {
          "data": {
            "text/html": [
              "<div>\n",
              "<style scoped>\n",
              "    .dataframe tbody tr th:only-of-type {\n",
              "        vertical-align: middle;\n",
              "    }\n",
              "\n",
              "    .dataframe tbody tr th {\n",
              "        vertical-align: top;\n",
              "    }\n",
              "\n",
              "    .dataframe thead th {\n",
              "        text-align: right;\n",
              "    }\n",
              "</style>\n",
              "<table border=\"1\" class=\"dataframe\">\n",
              "  <thead>\n",
              "    <tr style=\"text-align: right;\">\n",
              "      <th></th>\n",
              "      <th>campaing_id</th>\n",
              "      <th>user_id</th>\n",
              "      <th>t_flag</th>\n",
              "      <th>delivery_date</th>\n",
              "      <th>channel</th>\n",
              "    </tr>\n",
              "  </thead>\n",
              "  <tbody>\n",
              "    <tr>\n",
              "      <th>5</th>\n",
              "      <td>iddt</td>\n",
              "      <td>4001330</td>\n",
              "      <td>0</td>\n",
              "      <td>NaT</td>\n",
              "      <td>banner</td>\n",
              "    </tr>\n",
              "    <tr>\n",
              "      <th>6</th>\n",
              "      <td>idkfa</td>\n",
              "      <td>2008409</td>\n",
              "      <td>1</td>\n",
              "      <td>2024-11-04</td>\n",
              "      <td>other_ads</td>\n",
              "    </tr>\n",
              "    <tr>\n",
              "      <th>7</th>\n",
              "      <td>iddt</td>\n",
              "      <td>4045746</td>\n",
              "      <td>1</td>\n",
              "      <td>2024-11-04</td>\n",
              "      <td>banner</td>\n",
              "    </tr>\n",
              "    <tr>\n",
              "      <th>9</th>\n",
              "      <td>idkfa</td>\n",
              "      <td>2101471</td>\n",
              "      <td>0</td>\n",
              "      <td>NaT</td>\n",
              "      <td>other_ads</td>\n",
              "    </tr>\n",
              "    <tr>\n",
              "      <th>10</th>\n",
              "      <td>idkfa</td>\n",
              "      <td>2086041</td>\n",
              "      <td>0</td>\n",
              "      <td>NaT</td>\n",
              "      <td>other_ads</td>\n",
              "    </tr>\n",
              "    <tr>\n",
              "      <th>...</th>\n",
              "      <td>...</td>\n",
              "      <td>...</td>\n",
              "      <td>...</td>\n",
              "      <td>...</td>\n",
              "      <td>...</td>\n",
              "    </tr>\n",
              "    <tr>\n",
              "      <th>519988</th>\n",
              "      <td>iddt</td>\n",
              "      <td>4058739</td>\n",
              "      <td>1</td>\n",
              "      <td>2024-11-07</td>\n",
              "      <td>banner</td>\n",
              "    </tr>\n",
              "    <tr>\n",
              "      <th>519989</th>\n",
              "      <td>idkfa</td>\n",
              "      <td>2046148</td>\n",
              "      <td>1</td>\n",
              "      <td>2024-11-06</td>\n",
              "      <td>other_ads</td>\n",
              "    </tr>\n",
              "    <tr>\n",
              "      <th>519990</th>\n",
              "      <td>idkfa</td>\n",
              "      <td>2020830</td>\n",
              "      <td>0</td>\n",
              "      <td>NaT</td>\n",
              "      <td>other_ads</td>\n",
              "    </tr>\n",
              "    <tr>\n",
              "      <th>519991</th>\n",
              "      <td>iddt</td>\n",
              "      <td>4087080</td>\n",
              "      <td>1</td>\n",
              "      <td>2024-11-05</td>\n",
              "      <td>banner</td>\n",
              "    </tr>\n",
              "    <tr>\n",
              "      <th>519995</th>\n",
              "      <td>iddt</td>\n",
              "      <td>4108275</td>\n",
              "      <td>1</td>\n",
              "      <td>2024-11-04</td>\n",
              "      <td>banner</td>\n",
              "    </tr>\n",
              "  </tbody>\n",
              "</table>\n",
              "<p>240000 rows × 5 columns</p>\n",
              "</div>"
            ],
            "text/plain": [
              "       campaing_id  user_id  t_flag delivery_date    channel\n",
              "5             iddt  4001330       0           NaT     banner\n",
              "6            idkfa  2008409       1    2024-11-04  other_ads\n",
              "7             iddt  4045746       1    2024-11-04     banner\n",
              "9            idkfa  2101471       0           NaT  other_ads\n",
              "10           idkfa  2086041       0           NaT  other_ads\n",
              "...            ...      ...     ...           ...        ...\n",
              "519988        iddt  4058739       1    2024-11-07     banner\n",
              "519989       idkfa  2046148       1    2024-11-06  other_ads\n",
              "519990       idkfa  2020830       0           NaT  other_ads\n",
              "519991        iddt  4087080       1    2024-11-05     banner\n",
              "519995        iddt  4108275       1    2024-11-04     banner\n",
              "\n",
              "[240000 rows x 5 columns]"
            ]
          },
          "execution_count": 37,
          "metadata": {},
          "output_type": "execute_result"
        }
      ],
      "source": [
        "people_in_campaigns_merge_campaigns = people_in_campaigns_merge_campaigns[~people_in_campaigns_merge_campaigns['campaing_id'].isin(['idclip', 'iddqd'])]\n",
        "people_in_campaigns_merge_campaigns"
      ]
    },
    {
      "cell_type": "markdown",
      "metadata": {
        "id": "Es_paHiL25YF"
      },
      "source": [
        "<h2> 2. Клиентские агрегаты (12 баллов)</h2>\n",
        "\n",
        "Присоедините клиентские агрегаты (будьте внимательны, присоедините агрегаты за корректный месяц) и изучите полученные данные."
      ]
    },
    {
      "cell_type": "markdown",
      "metadata": {
        "id": "Mi5DjQXfKv0n"
      },
      "source": [
        "**Комментарий по заданиям и оцениванию:**\n",
        "\n",
        "* Вы должны корректно присоединить клиентские агрегаты со смещением на два месяца, чтобы не было лика таргета. За данное действие можно получить **4 балла**\n",
        "\n",
        "* Далее вы должен сделать UPLIFT EDA, которые обсуждались на лекции и показывались в практических ноутбуках. В ходе анализа вы должны проверить корректность данных по рекламным кампаниям и решить, что делать со \"сломанными\" кампаниями. По итогам анализа подготовьте выводы. За данное действие можно получить **8 баллов**"
      ]
    },
    {
      "cell_type": "markdown",
      "metadata": {},
      "source": [
        "`Получим признаки для клиентов в ноябре.`"
      ]
    },
    {
      "cell_type": "code",
      "execution_count": null,
      "metadata": {},
      "outputs": [],
      "source": [
        "features_november = features[(features['report_dt'].dt.year == 2024) & (features['report_dt'].dt.month == 11)]"
      ]
    },
    {
      "cell_type": "code",
      "execution_count": null,
      "metadata": {},
      "outputs": [],
      "source": [
        "features_november['user_id'].unique().shape[0] == features_november.shape[0]"
      ]
    },
    {
      "cell_type": "markdown",
      "metadata": {},
      "source": [
        "`Клиенты в ноябре уникальны.`"
      ]
    },
    {
      "cell_type": "code",
      "execution_count": null,
      "metadata": {
        "id": "EnnTRvck4I1n"
      },
      "outputs": [],
      "source": [
        "# ваш код здесь"
      ]
    },
    {
      "cell_type": "markdown",
      "metadata": {
        "id": "pp5bzCfq5AKs"
      },
      "source": [
        "### ваши выводы здесь"
      ]
    },
    {
      "cell_type": "markdown",
      "metadata": {
        "id": "UhrSiFL325YF"
      },
      "source": [
        "<h2> 3. Построение моделей и оценка их качества (14 баллов)</h2>\n",
        "\n",
        "Постройте Uplift модели по собранным кампаниям, проведите тюнинг гиперпараметров и оцените их качество (qini score). Для каждой модели также постройте qini-curve."
      ]
    },
    {
      "cell_type": "markdown",
      "metadata": {
        "id": "RfDQkfmaLeE-"
      },
      "source": [
        "**Комментарий по заданиям и оцениванию:**\n",
        "\n",
        "* Реализован только подход Solomodel без дополнительных библиотек и калибровок  - **1 балл**\n",
        "\n",
        "* Реализован Solomodel или Twomodel через Sklift или CausalML - **2 балла**\n",
        "\n",
        "* Учтена калибровка Metalearner'ах - **2 балла**\n",
        "\n",
        "* Корректно реализован ClassTransformation - **2 балла**\n",
        "\n",
        "* Реализован UpliftRandomForest - **4 балла**\n",
        "\n",
        "* Использованы пайплайны в Sklift - **2 балла**\n",
        "\n",
        "* Реализован тюнинг ( Gridsearch \\ Optuna ) - **1 балл**"
      ]
    },
    {
      "cell_type": "code",
      "execution_count": null,
      "metadata": {
        "id": "RkbXxg8i4SkR"
      },
      "outputs": [],
      "source": [
        "# ваш код здесь"
      ]
    },
    {
      "cell_type": "markdown",
      "metadata": {
        "id": "IG98Ll0W25YF"
      },
      "source": [
        "<h2>4. Подготовка ответа в требуемом формате и подготовка выводов (6 баллов)</h2>\n",
        "\n",
        "a) Сделайте скоринг нужных клиентов, подготовьте ответ в требуемом формате\n",
        "\n",
        "б) Сделайте краткую аналитику того, какой канал взаимодействия наиболее предпочтителен\n",
        "\n",
        "в) Сделайте выводы по проделанной работе"
      ]
    },
    {
      "cell_type": "markdown",
      "metadata": {
        "id": "I1SQE2JRMNsA"
      },
      "source": [
        "**Комментарий по заданиям и оцениванию:**\n",
        "\n",
        "* Подготовлен только ответ - **1 балл**\n",
        "* Подготовлен содержательный вывод по проделанной работе - **4 балла**\n",
        "* Корректно принято решение об отправке/не отправке коммуникации клиентам в зависимости от значений Uplift - **1 балл**"
      ]
    },
    {
      "cell_type": "code",
      "execution_count": null,
      "metadata": {
        "id": "0HmitRRX4nVY"
      },
      "outputs": [],
      "source": [
        "# ваш код здесь"
      ]
    },
    {
      "cell_type": "markdown",
      "metadata": {
        "id": "LGavtbmn4oj1"
      },
      "source": [
        "### ваши выводы здесь"
      ]
    }
  ],
  "metadata": {
    "colab": {
      "include_colab_link": true,
      "provenance": []
    },
    "kernelspec": {
      "display_name": ".venv",
      "language": "python",
      "name": "python3"
    },
    "language_info": {
      "codemirror_mode": {
        "name": "ipython",
        "version": 3
      },
      "file_extension": ".py",
      "mimetype": "text/x-python",
      "name": "python",
      "nbconvert_exporter": "python",
      "pygments_lexer": "ipython3",
      "version": "3.10.12"
    }
  },
  "nbformat": 4,
  "nbformat_minor": 0
}
